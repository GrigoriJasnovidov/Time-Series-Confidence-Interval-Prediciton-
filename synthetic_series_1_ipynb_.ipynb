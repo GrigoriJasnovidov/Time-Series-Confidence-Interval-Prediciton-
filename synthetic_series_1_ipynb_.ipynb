{
  "nbformat": 4,
  "nbformat_minor": 0,
  "metadata": {
    "colab": {
      "provenance": []
    },
    "kernelspec": {
      "name": "python3",
      "display_name": "Python 3"
    },
    "language_info": {
      "name": "python"
    },
    "gpuClass": "standard"
  },
  "cells": [
    {
      "cell_type": "code",
      "source": [
        "#!pip install fedot"
      ],
      "metadata": {
        "id": "TXneEk7apj1R"
      },
      "execution_count": null,
      "outputs": []
    },
    {
      "cell_type": "code",
      "source": [
        "import matplotlib.pyplot as plt\n",
        "import numpy as np\n",
        "import pandas as pd\n",
        "import logging\n",
        "logging.raiseExceptions = False\n",
        "\n",
        "import fedot\n",
        "from fedot.api.main import Fedot\n",
        "from fedot.core.data.data import InputData\n",
        "from fedot.core.data.data_split import train_test_data_setup\n",
        "from fedot.core.repository.dataset_types import DataTypesEnum\n",
        "from fedot.core.repository.tasks import TsForecastingParams, Task, TaskTypesEnum\n",
        "import inspect"
      ],
      "metadata": {
        "id": "OO7SMqrTjSrB"
      },
      "execution_count": 1,
      "outputs": []
    },
    {
      "cell_type": "code",
      "source": [
        "from google.colab import files\n",
        "uploaded = files.upload()"
      ],
      "metadata": {
        "colab": {
          "base_uri": "https://localhost:8080/",
          "height": 73
        },
        "id": "BVTPK-TbzzU-",
        "outputId": "50ff6212-54d4-4644-c572-441211edd7f8"
      },
      "execution_count": null,
      "outputs": [
        {
          "output_type": "display_data",
          "data": {
            "text/plain": [
              "<IPython.core.display.HTML object>"
            ],
            "text/html": [
              "\n",
              "     <input type=\"file\" id=\"files-aa64c708-6612-4f44-abed-d5ff5f96b276\" name=\"files[]\" multiple disabled\n",
              "        style=\"border:none\" />\n",
              "     <output id=\"result-aa64c708-6612-4f44-abed-d5ff5f96b276\">\n",
              "      Upload widget is only available when the cell has been executed in the\n",
              "      current browser session. Please rerun this cell to enable.\n",
              "      </output>\n",
              "      <script>// Copyright 2017 Google LLC\n",
              "//\n",
              "// Licensed under the Apache License, Version 2.0 (the \"License\");\n",
              "// you may not use this file except in compliance with the License.\n",
              "// You may obtain a copy of the License at\n",
              "//\n",
              "//      http://www.apache.org/licenses/LICENSE-2.0\n",
              "//\n",
              "// Unless required by applicable law or agreed to in writing, software\n",
              "// distributed under the License is distributed on an \"AS IS\" BASIS,\n",
              "// WITHOUT WARRANTIES OR CONDITIONS OF ANY KIND, either express or implied.\n",
              "// See the License for the specific language governing permissions and\n",
              "// limitations under the License.\n",
              "\n",
              "/**\n",
              " * @fileoverview Helpers for google.colab Python module.\n",
              " */\n",
              "(function(scope) {\n",
              "function span(text, styleAttributes = {}) {\n",
              "  const element = document.createElement('span');\n",
              "  element.textContent = text;\n",
              "  for (const key of Object.keys(styleAttributes)) {\n",
              "    element.style[key] = styleAttributes[key];\n",
              "  }\n",
              "  return element;\n",
              "}\n",
              "\n",
              "// Max number of bytes which will be uploaded at a time.\n",
              "const MAX_PAYLOAD_SIZE = 100 * 1024;\n",
              "\n",
              "function _uploadFiles(inputId, outputId) {\n",
              "  const steps = uploadFilesStep(inputId, outputId);\n",
              "  const outputElement = document.getElementById(outputId);\n",
              "  // Cache steps on the outputElement to make it available for the next call\n",
              "  // to uploadFilesContinue from Python.\n",
              "  outputElement.steps = steps;\n",
              "\n",
              "  return _uploadFilesContinue(outputId);\n",
              "}\n",
              "\n",
              "// This is roughly an async generator (not supported in the browser yet),\n",
              "// where there are multiple asynchronous steps and the Python side is going\n",
              "// to poll for completion of each step.\n",
              "// This uses a Promise to block the python side on completion of each step,\n",
              "// then passes the result of the previous step as the input to the next step.\n",
              "function _uploadFilesContinue(outputId) {\n",
              "  const outputElement = document.getElementById(outputId);\n",
              "  const steps = outputElement.steps;\n",
              "\n",
              "  const next = steps.next(outputElement.lastPromiseValue);\n",
              "  return Promise.resolve(next.value.promise).then((value) => {\n",
              "    // Cache the last promise value to make it available to the next\n",
              "    // step of the generator.\n",
              "    outputElement.lastPromiseValue = value;\n",
              "    return next.value.response;\n",
              "  });\n",
              "}\n",
              "\n",
              "/**\n",
              " * Generator function which is called between each async step of the upload\n",
              " * process.\n",
              " * @param {string} inputId Element ID of the input file picker element.\n",
              " * @param {string} outputId Element ID of the output display.\n",
              " * @return {!Iterable<!Object>} Iterable of next steps.\n",
              " */\n",
              "function* uploadFilesStep(inputId, outputId) {\n",
              "  const inputElement = document.getElementById(inputId);\n",
              "  inputElement.disabled = false;\n",
              "\n",
              "  const outputElement = document.getElementById(outputId);\n",
              "  outputElement.innerHTML = '';\n",
              "\n",
              "  const pickedPromise = new Promise((resolve) => {\n",
              "    inputElement.addEventListener('change', (e) => {\n",
              "      resolve(e.target.files);\n",
              "    });\n",
              "  });\n",
              "\n",
              "  const cancel = document.createElement('button');\n",
              "  inputElement.parentElement.appendChild(cancel);\n",
              "  cancel.textContent = 'Cancel upload';\n",
              "  const cancelPromise = new Promise((resolve) => {\n",
              "    cancel.onclick = () => {\n",
              "      resolve(null);\n",
              "    };\n",
              "  });\n",
              "\n",
              "  // Wait for the user to pick the files.\n",
              "  const files = yield {\n",
              "    promise: Promise.race([pickedPromise, cancelPromise]),\n",
              "    response: {\n",
              "      action: 'starting',\n",
              "    }\n",
              "  };\n",
              "\n",
              "  cancel.remove();\n",
              "\n",
              "  // Disable the input element since further picks are not allowed.\n",
              "  inputElement.disabled = true;\n",
              "\n",
              "  if (!files) {\n",
              "    return {\n",
              "      response: {\n",
              "        action: 'complete',\n",
              "      }\n",
              "    };\n",
              "  }\n",
              "\n",
              "  for (const file of files) {\n",
              "    const li = document.createElement('li');\n",
              "    li.append(span(file.name, {fontWeight: 'bold'}));\n",
              "    li.append(span(\n",
              "        `(${file.type || 'n/a'}) - ${file.size} bytes, ` +\n",
              "        `last modified: ${\n",
              "            file.lastModifiedDate ? file.lastModifiedDate.toLocaleDateString() :\n",
              "                                    'n/a'} - `));\n",
              "    const percent = span('0% done');\n",
              "    li.appendChild(percent);\n",
              "\n",
              "    outputElement.appendChild(li);\n",
              "\n",
              "    const fileDataPromise = new Promise((resolve) => {\n",
              "      const reader = new FileReader();\n",
              "      reader.onload = (e) => {\n",
              "        resolve(e.target.result);\n",
              "      };\n",
              "      reader.readAsArrayBuffer(file);\n",
              "    });\n",
              "    // Wait for the data to be ready.\n",
              "    let fileData = yield {\n",
              "      promise: fileDataPromise,\n",
              "      response: {\n",
              "        action: 'continue',\n",
              "      }\n",
              "    };\n",
              "\n",
              "    // Use a chunked sending to avoid message size limits. See b/62115660.\n",
              "    let position = 0;\n",
              "    do {\n",
              "      const length = Math.min(fileData.byteLength - position, MAX_PAYLOAD_SIZE);\n",
              "      const chunk = new Uint8Array(fileData, position, length);\n",
              "      position += length;\n",
              "\n",
              "      const base64 = btoa(String.fromCharCode.apply(null, chunk));\n",
              "      yield {\n",
              "        response: {\n",
              "          action: 'append',\n",
              "          file: file.name,\n",
              "          data: base64,\n",
              "        },\n",
              "      };\n",
              "\n",
              "      let percentDone = fileData.byteLength === 0 ?\n",
              "          100 :\n",
              "          Math.round((position / fileData.byteLength) * 100);\n",
              "      percent.textContent = `${percentDone}% done`;\n",
              "\n",
              "    } while (position < fileData.byteLength);\n",
              "  }\n",
              "\n",
              "  // All done.\n",
              "  yield {\n",
              "    response: {\n",
              "      action: 'complete',\n",
              "    }\n",
              "  };\n",
              "}\n",
              "\n",
              "scope.google = scope.google || {};\n",
              "scope.google.colab = scope.google.colab || {};\n",
              "scope.google.colab._files = {\n",
              "  _uploadFiles,\n",
              "  _uploadFilesContinue,\n",
              "};\n",
              "})(self);\n",
              "</script> "
            ]
          },
          "metadata": {}
        },
        {
          "output_type": "stream",
          "name": "stdout",
          "text": [
            "Saving ts study 1.txt to ts study 1.txt\n"
          ]
        }
      ]
    },
    {
      "cell_type": "code",
      "source": [
        "ts_tabular =pd.read_csv('ts study 1.txt')\n",
        "ts_real_temp = ts_tabular[ts_tabular['label']=='temp'].drop('label',axis=1)['value'].to_numpy()"
      ],
      "metadata": {
        "id": "Q-9beb5I0YmP"
      },
      "execution_count": null,
      "outputs": []
    },
    {
      "cell_type": "code",
      "source": [
        "def s1(n,noise = 3,sign=1):\n",
        "    def f1(x):\n",
        "        return 5*np.sin(x/20)+0.1*x-2*np.sqrt(x)\n",
        "    trend = f1(np.array(range(n)))\n",
        "    noise = np.random.normal(loc = 0, scale = noise,size = n)\n",
        "    ans = {'ts':(trend+noise)*sign, 'trend' : trend*sign}\n",
        "    return ans\n",
        "def s2(length, periods = 10,noise = 0.3,sign=1 ):\n",
        "\n",
        "    sinusoidal_data = np.linspace(-periods * np.pi, periods * np.pi, length)\n",
        "    sinusoidal_data = np.sin(sinusoidal_data)\n",
        "    cos_1_data = np.linspace(-periods * np.pi/2, periods/2 * np.pi/2, int(length/2))\n",
        "    cos_1_data = np.cos(cos_1_data) \n",
        "    cos_2_data = np.linspace(periods/2 * np.pi/2, periods * np.pi/2, int(length/2))\n",
        "    cos_2_data = np.cos(cos_2_data)   \n",
        "    cosine_data = np.hstack((cos_1_data, cos_2_data))\n",
        "    \n",
        "    random_noise = np.random.normal(loc=0.0, scale=noise, size=length)\n",
        "    synthetic_data = sinusoidal_data + cosine_data + random_noise\n",
        "    ans = {'ts':synthetic_data*sign, 'trend': (sinusoidal_data + cosine_data)*sign}\n",
        "    return ans\n",
        "def s3(n,noise = 10,sign = 1):\n",
        "    r = np.array(range(n))\n",
        "    trend = (r-r/5*np.sin(r/2)+r/2*np.sin(r/20))/10\n",
        "    noise = np.random.normal(loc=0,scale = noise,size = n)\n",
        "    ans = {'ts':(trend+noise)*sign, 'trend': trend*sign}\n",
        "    return ans\n",
        "def s4(n,noise = 1,sign =1):\n",
        "    array = np.array(range(n))\n",
        "    trend = array/5+np.power(array,0.5)*np.sin(np.pi/12*array)\n",
        "    noise = np.random.normal(loc = 0,scale = noise, size = n)\n",
        "    noise_cum = noise.cumsum()\n",
        "    ts = trend+noise_cum\n",
        "    ans = {'ts':ts*sign, 'trend' : trend*sign}\n",
        "    return ans\n",
        "\n",
        "def s5(n,noise = 1,sign=1):\n",
        "    r= np.arange(n)\n",
        "    trend = r*1\n",
        "    noise = np.random.normal(loc=0,scale = noise,size = n)\n",
        "    noise_cum = noise.cumsum()\n",
        "    ts = trend+noise_cum\n",
        "    ans = {'ts':ts*sign,'trend':trend*sign}\n",
        "    return ans\n",
        "\n",
        "def s6(n,noise = 1, sign =1):\n",
        "    r = np.arange(n)\n",
        "    trend = 2*np.sin(2*r)+np.cos(r)\n",
        "    noise = np.random.normal(loc = 0,scale  = noise,size = n)\n",
        "    ts = trend+noise\n",
        "    ans = {'ts':ts,'trend':trend}\n",
        "    return ans"
      ],
      "metadata": {
        "id": "nrd3-HXsjhue"
      },
      "execution_count": 2,
      "outputs": []
    },
    {
      "cell_type": "code",
      "source": [
        "horizon = 25\n",
        "validation_blocks = 2\n",
        "task = Task(TaskTypesEnum.ts_forecasting,  TsForecastingParams(forecast_length=horizon))\n",
        "start = 0\n",
        "end = 1000\n",
        "series = 1\n",
        "\n",
        "if series == 'traffic':\n",
        "    init_series = ts_real_temp\n",
        "    ts = init_series[start:end]\n",
        "    trend = None\n",
        "    ts_test = init_series[end:end+horizon]\n",
        "    trend_test = None\n",
        "    idx = np.array(range(len(np.array(ts))))\n",
        "\n",
        "if series ==1:\n",
        "    noise = 0.5\n",
        "    init_series = s1(10000,noise= noise,sign =1)\n",
        "    ts = init_series['ts'][start:end]\n",
        "    trend = init_series['trend'][start:end]\n",
        "    ts_test = init_series['ts'][end:end+horizon]\n",
        "    trend_test = init_series['trend'][end:end+horizon]\n",
        "    idx = np.array( range(len(np.array(ts))) )\n",
        "    train_input = InputData(idx=idx,\n",
        "                            features=ts,\n",
        "                            target=ts,\n",
        "                            task=task,\n",
        "                            data_type=DataTypesEnum.ts)\n",
        "\n",
        "    \n",
        "if series ==2:\n",
        "    noise = 0.5\n",
        "    init_series = s2(10000,noise= noise,sign =1)\n",
        "    ts = init_series['ts'][start:end]\n",
        "    trend = init_series['trend'][start:end]\n",
        "    ts_test = init_series['ts'][end:end+horizon]\n",
        "    trend_test = init_series['trend'][end:end+horizon]\n",
        "    idx = np.array( range(len(np.array(ts))) )\n",
        "    train_input = InputData(idx=idx,\n",
        "                            features=ts,\n",
        "                            target=ts,\n",
        "                            task=task,\n",
        "                            data_type=DataTypesEnum.ts)\n",
        "    \n",
        "if series ==3:\n",
        "    noise = 0.5\n",
        "    init_series = s3(10000,noise= noise,sign =1)\n",
        "    ts = init_series['ts'][start:end]\n",
        "    trend = init_series['trend'][start:end]\n",
        "    ts_test = init_series['ts'][end:end+horizon]\n",
        "    trend_test = init_series['trend'][end:end+horizon]\n",
        "    idx = np.array( range(len(np.array(ts))) )\n",
        "    train_input = InputData(idx=idx,\n",
        "                            features=ts,\n",
        "                            target=ts,\n",
        "                            task=task,\n",
        "                            data_type=DataTypesEnum.ts)\n",
        "    \n",
        "if series ==4:\n",
        "    noise = 0.5\n",
        "    init_series = s4(10000,noise= noise,sign =1)\n",
        "    ts = init_series['ts'][start:end]\n",
        "    trend = init_series['trend'][start:end]\n",
        "    ts_test = init_series['ts'][end:end+horizon]\n",
        "    trend_test = init_series['trend'][end:end+horizon]\n",
        "    idx = np.array( range(len(np.array(ts))) )\n",
        "    train_input = InputData(idx=idx,\n",
        "                            features=ts,\n",
        "                            target=ts,\n",
        "                            task=task,\n",
        "                            data_type=DataTypesEnum.ts)\n",
        "  \n",
        "if series ==5:\n",
        "    noise = 0.5\n",
        "    init_series = s5(10000,noise= noise,sign =1)\n",
        "    ts = init_series['ts'][start:end]\n",
        "    trend = init_series['trend'][start:end]\n",
        "    ts_test = init_series['ts'][end:end+horizon]\n",
        "    trend_test = init_series['trend'][end:end+horizon]\n",
        "    idx = np.array( range(len(np.array(ts))) )\n",
        "    train_input = InputData(idx=idx,\n",
        "                            features=ts,\n",
        "                            target=ts,\n",
        "                            task=task,\n",
        "                            data_type=DataTypesEnum.ts)\n",
        "    \n",
        "\n",
        "if series ==6:\n",
        "    noise = 0.5\n",
        "    init_series = s6(10000,noise= noise,sign =1)\n",
        "    ts = init_series['ts'][start:end]\n",
        "    trend = init_series['trend'][start:end]\n",
        "    ts_test = init_series['ts'][end:end+horizon]\n",
        "    trend_test = init_series['trend'][end:end+horizon]\n",
        "    idx = np.array( range(len(np.array(ts))) )\n",
        "    train_input = InputData(idx=idx,\n",
        "                            features=ts,\n",
        "                            target=ts,\n",
        "                            task=task,\n",
        "                            data_type=DataTypesEnum.ts)\n",
        "    \n",
        "\n",
        "train_data, test_data = train_test_data_setup(train_input, validation_blocks=2)\n",
        "\n",
        "# init model for the time series forecasting\n",
        "model = Fedot(problem='ts_forecasting',\n",
        "                  safe_mode = True,\n",
        "                  task_params=task.task_params,\n",
        "                  timeout=3,\n",
        "                  n_jobs=-1,\n",
        "                  cv_folds=2, \n",
        "                  validation_blocks=2, \n",
        "                  preset='ts',\n",
        "                  with_tuning = False,\n",
        "                  max_depth = 5,\n",
        "                  num_of_generations  =3 ,\n",
        "                  logging_level = 10,\n",
        "                 show_progress =True)"
      ],
      "metadata": {
        "id": "99HaD_Mzj2sc",
        "colab": {
          "base_uri": "https://localhost:8080/"
        },
        "outputId": "1829ceee-d39b-4a06-8bdb-9d59c732bca6"
      },
      "execution_count": 3,
      "outputs": [
        {
          "output_type": "stream",
          "name": "stderr",
          "text": [
            "INFO:numexpr.utils:NumExpr defaulting to 2 threads.\n"
          ]
        },
        {
          "output_type": "stream",
          "name": "stdout",
          "text": [
            "2022-11-22 14:18:56,359 - NumExpr defaulting to 2 threads.\n"
          ]
        },
        {
          "output_type": "stream",
          "name": "stderr",
          "text": [
            "DEBUG:tensorflow:Falling back to TensorFlow client; we recommended you install the Cloud TPU client directly with pip install cloud-tpu-client.\n"
          ]
        },
        {
          "output_type": "stream",
          "name": "stdout",
          "text": [
            "2022-11-22 14:19:00,068 - Falling back to TensorFlow client; we recommended you install the Cloud TPU client directly with pip install cloud-tpu-client.\n"
          ]
        },
        {
          "output_type": "stream",
          "name": "stderr",
          "text": [
            "DEBUG:h5py._conv:Creating converter from 7 to 5\n"
          ]
        },
        {
          "output_type": "stream",
          "name": "stdout",
          "text": [
            "2022-11-22 14:19:00,361 - Creating converter from 7 to 5\n"
          ]
        },
        {
          "output_type": "stream",
          "name": "stderr",
          "text": [
            "DEBUG:h5py._conv:Creating converter from 5 to 7\n"
          ]
        },
        {
          "output_type": "stream",
          "name": "stdout",
          "text": [
            "2022-11-22 14:19:00,367 - Creating converter from 5 to 7\n"
          ]
        },
        {
          "output_type": "stream",
          "name": "stderr",
          "text": [
            "DEBUG:h5py._conv:Creating converter from 7 to 5\n"
          ]
        },
        {
          "output_type": "stream",
          "name": "stdout",
          "text": [
            "2022-11-22 14:19:00,373 - Creating converter from 7 to 5\n"
          ]
        },
        {
          "output_type": "stream",
          "name": "stderr",
          "text": [
            "DEBUG:h5py._conv:Creating converter from 5 to 7\n"
          ]
        },
        {
          "output_type": "stream",
          "name": "stdout",
          "text": [
            "2022-11-22 14:19:00,381 - Creating converter from 5 to 7\n"
          ]
        },
        {
          "output_type": "stream",
          "name": "stderr",
          "text": [
            "DEBUG:root:Initializing MLIR with module: _site_initialize_0\n"
          ]
        },
        {
          "output_type": "stream",
          "name": "stdout",
          "text": [
            "2022-11-22 14:19:00,827 - Initializing MLIR with module: _site_initialize_0\n"
          ]
        },
        {
          "output_type": "stream",
          "name": "stderr",
          "text": [
            "DEBUG:root:Registering dialects from initializer <module 'jaxlib.mlir._mlir_libs._site_initialize_0' from '/usr/local/lib/python3.7/dist-packages/jaxlib/mlir/_mlir_libs/_site_initialize_0.so'>\n"
          ]
        },
        {
          "output_type": "stream",
          "name": "stdout",
          "text": [
            "2022-11-22 14:19:00,838 - Registering dialects from initializer <module 'jaxlib.mlir._mlir_libs._site_initialize_0' from '/usr/local/lib/python3.7/dist-packages/jaxlib/mlir/_mlir_libs/_site_initialize_0.so'>\n"
          ]
        },
        {
          "output_type": "stream",
          "name": "stderr",
          "text": [
            "DEBUG:jax._src.path:etils.epath found. Using etils.epath for file I/O.\n"
          ]
        },
        {
          "output_type": "stream",
          "name": "stdout",
          "text": [
            "2022-11-22 14:19:01,006 - etils.epath found. Using etils.epath for file I/O.\n"
          ]
        },
        {
          "output_type": "stream",
          "name": "stderr",
          "text": [
            "INFO:summarizer.preprocessing.cleaner:'pattern' package not found; tag filters are not available for English\n"
          ]
        },
        {
          "output_type": "stream",
          "name": "stdout",
          "text": [
            "2022-11-22 14:19:02,076 - 'pattern' package not found; tag filters are not available for English\n"
          ]
        }
      ]
    },
    {
      "cell_type": "code",
      "source": [
        "#inspect.getmembers(model)"
      ],
      "metadata": {
        "id": "9_7-EycnrusN"
      },
      "execution_count": null,
      "outputs": []
    },
    {
      "cell_type": "code",
      "source": [
        "pipeline = model.fit(train_data)\n",
        "forecast = model.forecast(test_data)\n",
        "pipeline.show()"
      ],
      "metadata": {
        "colab": {
          "base_uri": "https://localhost:8080/",
          "height": 1000
        },
        "id": "PXM7Phihw1GU",
        "outputId": "80bd1f18-28b2-46fa-c1fd-796c81cc32c7"
      },
      "execution_count": 4,
      "outputs": [
        {
          "output_type": "stream",
          "name": "stderr",
          "text": [
            "INFO:root:AssumptionsHandler - Initial pipeline fitting started\n"
          ]
        },
        {
          "output_type": "stream",
          "name": "stdout",
          "text": [
            "2022-11-22 14:19:08,803 - AssumptionsHandler - Initial pipeline fitting started\n"
          ]
        },
        {
          "output_type": "stream",
          "name": "stderr",
          "text": [
            "DEBUG:root:SecondaryNode - Trying to fit secondary node with operation: ridge\n"
          ]
        },
        {
          "output_type": "stream",
          "name": "stdout",
          "text": [
            "2022-11-22 14:19:08,810 - SecondaryNode - Trying to fit secondary node with operation: ridge\n"
          ]
        },
        {
          "output_type": "stream",
          "name": "stderr",
          "text": [
            "DEBUG:root:SecondaryNode - Fit all parent nodes in secondary node with operation: ridge\n"
          ]
        },
        {
          "output_type": "stream",
          "name": "stdout",
          "text": [
            "2022-11-22 14:19:08,821 - SecondaryNode - Fit all parent nodes in secondary node with operation: ridge\n"
          ]
        },
        {
          "output_type": "stream",
          "name": "stderr",
          "text": [
            "DEBUG:root:SecondaryNode - Trying to fit secondary node with operation: ridge\n"
          ]
        },
        {
          "output_type": "stream",
          "name": "stdout",
          "text": [
            "2022-11-22 14:19:08,827 - SecondaryNode - Trying to fit secondary node with operation: ridge\n"
          ]
        },
        {
          "output_type": "stream",
          "name": "stderr",
          "text": [
            "DEBUG:root:SecondaryNode - Fit all parent nodes in secondary node with operation: ridge\n"
          ]
        },
        {
          "output_type": "stream",
          "name": "stdout",
          "text": [
            "2022-11-22 14:19:08,835 - SecondaryNode - Fit all parent nodes in secondary node with operation: ridge\n"
          ]
        },
        {
          "output_type": "stream",
          "name": "stderr",
          "text": [
            "DEBUG:root:PrimaryNode - Trying to fit primary node with operation: lagged\n"
          ]
        },
        {
          "output_type": "stream",
          "name": "stdout",
          "text": [
            "2022-11-22 14:19:08,844 - PrimaryNode - Trying to fit primary node with operation: lagged\n"
          ]
        },
        {
          "output_type": "stream",
          "name": "stderr",
          "text": [
            "DEBUG:root:PrimaryNode - Trying to fit primary node with operation: glm\n"
          ]
        },
        {
          "output_type": "stream",
          "name": "stdout",
          "text": [
            "2022-11-22 14:19:08,992 - PrimaryNode - Trying to fit primary node with operation: glm\n"
          ]
        },
        {
          "output_type": "stream",
          "name": "stderr",
          "text": [
            "DEBUG:root:SecondaryNode - Obtain prediction in secondary node with operation: ridge\n"
          ]
        },
        {
          "output_type": "stream",
          "name": "stdout",
          "text": [
            "2022-11-22 14:19:09,133 - SecondaryNode - Obtain prediction in secondary node with operation: ridge\n"
          ]
        },
        {
          "output_type": "stream",
          "name": "stderr",
          "text": [
            "DEBUG:root:SecondaryNode - Fit all parent nodes in secondary node with operation: ridge\n"
          ]
        },
        {
          "output_type": "stream",
          "name": "stdout",
          "text": [
            "2022-11-22 14:19:09,139 - SecondaryNode - Fit all parent nodes in secondary node with operation: ridge\n"
          ]
        },
        {
          "output_type": "stream",
          "name": "stderr",
          "text": [
            "DEBUG:root:SecondaryNode - Obtain prediction in secondary node with operation: ridge\n"
          ]
        },
        {
          "output_type": "stream",
          "name": "stdout",
          "text": [
            "2022-11-22 14:19:09,144 - SecondaryNode - Obtain prediction in secondary node with operation: ridge\n"
          ]
        },
        {
          "output_type": "stream",
          "name": "stderr",
          "text": [
            "DEBUG:root:SecondaryNode - Fit all parent nodes in secondary node with operation: ridge\n"
          ]
        },
        {
          "output_type": "stream",
          "name": "stdout",
          "text": [
            "2022-11-22 14:19:09,148 - SecondaryNode - Fit all parent nodes in secondary node with operation: ridge\n"
          ]
        },
        {
          "output_type": "stream",
          "name": "stderr",
          "text": [
            "DEBUG:root:PrimaryNode - Predict in primary node by operation: lagged\n"
          ]
        },
        {
          "output_type": "stream",
          "name": "stdout",
          "text": [
            "2022-11-22 14:19:09,151 - PrimaryNode - Predict in primary node by operation: lagged\n"
          ]
        },
        {
          "output_type": "stream",
          "name": "stderr",
          "text": [
            "DEBUG:root:PrimaryNode - Predict in primary node by operation: glm\n"
          ]
        },
        {
          "output_type": "stream",
          "name": "stdout",
          "text": [
            "2022-11-22 14:19:09,156 - PrimaryNode - Predict in primary node by operation: glm\n"
          ]
        },
        {
          "output_type": "stream",
          "name": "stderr",
          "text": [
            "INFO:root:AssumptionsHandler - Initial pipeline was fitted successfully\n"
          ]
        },
        {
          "output_type": "stream",
          "name": "stdout",
          "text": [
            "2022-11-22 14:19:09,162 - AssumptionsHandler - Initial pipeline was fitted successfully\n"
          ]
        },
        {
          "output_type": "stream",
          "name": "stderr",
          "text": [
            "CRITICAL:root:ApiComposer - Initial pipeline was fitted in 0.4 sec.\n"
          ]
        },
        {
          "output_type": "stream",
          "name": "stdout",
          "text": [
            "2022-11-22 14:19:09,166 - ApiComposer - Initial pipeline was fitted in 0.4 sec.\n"
          ]
        },
        {
          "output_type": "stream",
          "name": "stderr",
          "text": [
            "CRITICAL:root:ApiComposer - AutoML configured. Parameters tuning: False Time limit: 3 min Set of candidate models: ['lasso', 'stl_arima', 'lagged', 'pca', 'scaling', 'locf', 'dtreg', 'ts_naive_average', 'ets', 'normalization', 'sparse_lagged', 'gaussian_filter', 'linear', 'sgdr', 'fast_ica', 'smoothing', 'ar', 'cut', 'diff_filter', 'polyfit', 'ridge', 'glm', 'adareg', 'arima']\n"
          ]
        },
        {
          "output_type": "stream",
          "name": "stdout",
          "text": [
            "2022-11-22 14:19:09,210 - ApiComposer - AutoML configured. Parameters tuning: False Time limit: 3 min Set of candidate models: ['lasso', 'stl_arima', 'lagged', 'pca', 'scaling', 'locf', 'dtreg', 'ts_naive_average', 'ets', 'normalization', 'sparse_lagged', 'gaussian_filter', 'linear', 'sgdr', 'fast_ica', 'smoothing', 'ar', 'cut', 'diff_filter', 'polyfit', 'ridge', 'glm', 'adareg', 'arima']\n"
          ]
        },
        {
          "output_type": "stream",
          "name": "stderr",
          "text": [
            "CRITICAL:root:ApiComposer - Pipeline composition started.\n"
          ]
        },
        {
          "output_type": "stream",
          "name": "stdout",
          "text": [
            "2022-11-22 14:19:09,250 - ApiComposer - Pipeline composition started.\n"
          ]
        },
        {
          "output_type": "stream",
          "name": "stderr",
          "text": [
            "INFO:root:DataSourceSplitter - K-folds cross validation is applied.\n"
          ]
        },
        {
          "output_type": "stream",
          "name": "stdout",
          "text": [
            "2022-11-22 14:19:09,258 - DataSourceSplitter - K-folds cross validation is applied.\n"
          ]
        },
        {
          "output_type": "stream",
          "name": "stderr",
          "text": [
            "\rGenerations:  33%|███▎      | 1/3 [00:00<?, ?gen/s]INFO:root:MultiprocessingDispatcher - Number of used CPU's: 2\n"
          ]
        },
        {
          "output_type": "stream",
          "name": "stdout",
          "text": [
            "2022-11-22 14:19:09,276 - MultiprocessingDispatcher - Number of used CPU's: 2\n"
          ]
        },
        {
          "output_type": "stream",
          "name": "stderr",
          "text": [
            "INFO:root:EvoGraphOptimizer - Generation num: 1\n"
          ]
        },
        {
          "output_type": "stream",
          "name": "stdout",
          "text": [
            "2022-11-22 14:19:16,672 - EvoGraphOptimizer - Generation num: 1\n"
          ]
        },
        {
          "output_type": "stream",
          "name": "stderr",
          "text": [
            "INFO:root:EvoGraphOptimizer - Best individuals: HallOfFame archive fitness: [{<bound method QualityMetric.get_value of <class 'fedot.core.composer.metrics.RMSE'>>: 1.1572137258461512, <ComplexityMetricsEnum.node_num: 'node_number'>: 0.4}]\n"
          ]
        },
        {
          "output_type": "stream",
          "name": "stdout",
          "text": [
            "2022-11-22 14:19:16,688 - EvoGraphOptimizer - Best individuals: HallOfFame archive fitness: [{<bound method QualityMetric.get_value of <class 'fedot.core.composer.metrics.RMSE'>>: 1.1572137258461512, <ComplexityMetricsEnum.node_num: 'node_number'>: 0.4}]\n"
          ]
        },
        {
          "output_type": "stream",
          "name": "stderr",
          "text": [
            "INFO:root:EvoGraphOptimizer - no improvements for 0 iterations\n"
          ]
        },
        {
          "output_type": "stream",
          "name": "stdout",
          "text": [
            "2022-11-22 14:19:16,700 - EvoGraphOptimizer - no improvements for 0 iterations\n"
          ]
        },
        {
          "output_type": "stream",
          "name": "stderr",
          "text": [
            "INFO:root:EvoGraphOptimizer - spent time: 0.1 min\n"
          ]
        },
        {
          "output_type": "stream",
          "name": "stdout",
          "text": [
            "2022-11-22 14:19:16,712 - EvoGraphOptimizer - spent time: 0.1 min\n"
          ]
        },
        {
          "output_type": "stream",
          "name": "stderr",
          "text": [
            "INFO:root:MultiprocessingDispatcher - Number of used CPU's: 2\n"
          ]
        },
        {
          "output_type": "stream",
          "name": "stdout",
          "text": [
            "2022-11-22 14:19:18,642 - MultiprocessingDispatcher - Number of used CPU's: 2\n"
          ]
        },
        {
          "output_type": "stream",
          "name": "stderr",
          "text": [
            "INFO:root:EvoGraphOptimizer - Generation num: 2\n"
          ]
        },
        {
          "output_type": "stream",
          "name": "stdout",
          "text": [
            "2022-11-22 14:19:56,341 - EvoGraphOptimizer - Generation num: 2\n"
          ]
        },
        {
          "output_type": "stream",
          "name": "stderr",
          "text": [
            "INFO:root:EvoGraphOptimizer - Best individuals: HallOfFame archive fitness: [{<bound method QualityMetric.get_value of <class 'fedot.core.composer.metrics.RMSE'>>: 1.1453140536909874, <ComplexityMetricsEnum.node_num: 'node_number'>: 0.4}]\n"
          ]
        },
        {
          "output_type": "stream",
          "name": "stdout",
          "text": [
            "2022-11-22 14:19:56,346 - EvoGraphOptimizer - Best individuals: HallOfFame archive fitness: [{<bound method QualityMetric.get_value of <class 'fedot.core.composer.metrics.RMSE'>>: 1.1453140536909874, <ComplexityMetricsEnum.node_num: 'node_number'>: 0.4}]\n"
          ]
        },
        {
          "output_type": "stream",
          "name": "stderr",
          "text": [
            "INFO:root:EvoGraphOptimizer - no improvements for 0 iterations\n"
          ]
        },
        {
          "output_type": "stream",
          "name": "stdout",
          "text": [
            "2022-11-22 14:19:56,349 - EvoGraphOptimizer - no improvements for 0 iterations\n"
          ]
        },
        {
          "output_type": "stream",
          "name": "stderr",
          "text": [
            "INFO:root:EvoGraphOptimizer - spent time: 0.8 min\n"
          ]
        },
        {
          "output_type": "stream",
          "name": "stdout",
          "text": [
            "2022-11-22 14:19:56,352 - EvoGraphOptimizer - spent time: 0.8 min\n"
          ]
        },
        {
          "output_type": "stream",
          "name": "stderr",
          "text": [
            "INFO:root:EvoGraphOptimizer - Next population size: 34; max graph depth: 5\n"
          ]
        },
        {
          "output_type": "stream",
          "name": "stdout",
          "text": [
            "2022-11-22 14:19:56,356 - EvoGraphOptimizer - Next population size: 34; max graph depth: 5\n"
          ]
        },
        {
          "output_type": "stream",
          "name": "stderr",
          "text": [
            "INFO:root:MultiprocessingDispatcher - Number of used CPU's: 2\n"
          ]
        },
        {
          "output_type": "stream",
          "name": "stdout",
          "text": [
            "2022-11-22 14:19:57,415 - MultiprocessingDispatcher - Number of used CPU's: 2\n"
          ]
        },
        {
          "output_type": "stream",
          "name": "stderr",
          "text": [
            "INFO:root:EvoGraphOptimizer - Generation num: 3\n"
          ]
        },
        {
          "output_type": "stream",
          "name": "stdout",
          "text": [
            "2022-11-22 14:21:06,760 - EvoGraphOptimizer - Generation num: 3\n"
          ]
        },
        {
          "output_type": "stream",
          "name": "stderr",
          "text": [
            "INFO:root:EvoGraphOptimizer - Best individuals: HallOfFame archive fitness: [{<bound method QualityMetric.get_value of <class 'fedot.core.composer.metrics.RMSE'>>: 1.0431952330918808, <ComplexityMetricsEnum.node_num: 'node_number'>: 0.3}]\n"
          ]
        },
        {
          "output_type": "stream",
          "name": "stdout",
          "text": [
            "2022-11-22 14:21:06,766 - EvoGraphOptimizer - Best individuals: HallOfFame archive fitness: [{<bound method QualityMetric.get_value of <class 'fedot.core.composer.metrics.RMSE'>>: 1.0431952330918808, <ComplexityMetricsEnum.node_num: 'node_number'>: 0.3}]\n"
          ]
        },
        {
          "output_type": "stream",
          "name": "stderr",
          "text": [
            "INFO:root:EvoGraphOptimizer - no improvements for 0 iterations\n"
          ]
        },
        {
          "output_type": "stream",
          "name": "stdout",
          "text": [
            "2022-11-22 14:21:06,770 - EvoGraphOptimizer - no improvements for 0 iterations\n"
          ]
        },
        {
          "output_type": "stream",
          "name": "stderr",
          "text": [
            "INFO:root:EvoGraphOptimizer - spent time: 2.0 min\n"
          ]
        },
        {
          "output_type": "stream",
          "name": "stdout",
          "text": [
            "2022-11-22 14:21:06,775 - EvoGraphOptimizer - spent time: 2.0 min\n"
          ]
        },
        {
          "output_type": "stream",
          "name": "stderr",
          "text": [
            "INFO:root:EvoGraphOptimizer - Next population size: 34; max graph depth: 5\n"
          ]
        },
        {
          "output_type": "stream",
          "name": "stdout",
          "text": [
            "2022-11-22 14:21:06,778 - EvoGraphOptimizer - Next population size: 34; max graph depth: 5\n"
          ]
        },
        {
          "output_type": "stream",
          "name": "stderr",
          "text": [
            "INFO:root:MultiprocessingDispatcher - Number of used CPU's: 2\n"
          ]
        },
        {
          "output_type": "stream",
          "name": "stdout",
          "text": [
            "2022-11-22 14:21:08,302 - MultiprocessingDispatcher - Number of used CPU's: 2\n"
          ]
        },
        {
          "output_type": "stream",
          "name": "stderr",
          "text": [
            "INFO:root:EvoGraphOptimizer - Generation num: 4\n"
          ]
        },
        {
          "output_type": "stream",
          "name": "stdout",
          "text": [
            "2022-11-22 14:21:29,003 - EvoGraphOptimizer - Generation num: 4\n"
          ]
        },
        {
          "output_type": "stream",
          "name": "stderr",
          "text": [
            "INFO:root:EvoGraphOptimizer - Best individuals: HallOfFame archive fitness: [{<bound method QualityMetric.get_value of <class 'fedot.core.composer.metrics.RMSE'>>: 1.0431952330918808, <ComplexityMetricsEnum.node_num: 'node_number'>: 0.3}]\n"
          ]
        },
        {
          "output_type": "stream",
          "name": "stdout",
          "text": [
            "2022-11-22 14:21:29,009 - EvoGraphOptimizer - Best individuals: HallOfFame archive fitness: [{<bound method QualityMetric.get_value of <class 'fedot.core.composer.metrics.RMSE'>>: 1.0431952330918808, <ComplexityMetricsEnum.node_num: 'node_number'>: 0.3}]\n"
          ]
        },
        {
          "output_type": "stream",
          "name": "stderr",
          "text": [
            "INFO:root:EvoGraphOptimizer - no improvements for 1 iterations\n"
          ]
        },
        {
          "output_type": "stream",
          "name": "stdout",
          "text": [
            "2022-11-22 14:21:29,015 - EvoGraphOptimizer - no improvements for 1 iterations\n"
          ]
        },
        {
          "output_type": "stream",
          "name": "stderr",
          "text": [
            "INFO:root:EvoGraphOptimizer - spent time: 2.3 min\n"
          ]
        },
        {
          "output_type": "stream",
          "name": "stdout",
          "text": [
            "2022-11-22 14:21:29,018 - EvoGraphOptimizer - spent time: 2.3 min\n"
          ]
        },
        {
          "output_type": "stream",
          "name": "stderr",
          "text": [
            "CRITICAL:root:GroupedCondition - Optimisation stopped: Max number of generations reached\n"
          ]
        },
        {
          "output_type": "stream",
          "name": "stdout",
          "text": [
            "2022-11-22 14:21:29,022 - GroupedCondition - Optimisation stopped: Max number of generations reached\n"
          ]
        },
        {
          "output_type": "stream",
          "name": "stderr",
          "text": [
            "\rGenerations:  33%|███▎      | 1/3 [02:19<?, ?gen/s]\n",
            "INFO:root:OptimisationTimer - Composition time: 2.329 min\n"
          ]
        },
        {
          "output_type": "stream",
          "name": "stdout",
          "text": [
            "2022-11-22 14:21:29,026 - OptimisationTimer - Composition time: 2.329 min\n"
          ]
        },
        {
          "output_type": "stream",
          "name": "stderr",
          "text": [
            "INFO:root:GPComposer - GP composition finished\n"
          ]
        },
        {
          "output_type": "stream",
          "name": "stdout",
          "text": [
            "2022-11-22 14:21:29,033 - GPComposer - GP composition finished\n"
          ]
        },
        {
          "output_type": "stream",
          "name": "stderr",
          "text": [
            "CRITICAL:root:ApiComposer - Model generation finished\n"
          ]
        },
        {
          "output_type": "stream",
          "name": "stdout",
          "text": [
            "2022-11-22 14:21:29,360 - ApiComposer - Model generation finished\n"
          ]
        },
        {
          "output_type": "stream",
          "name": "stderr",
          "text": [
            "CRITICAL:root:FEDOT logger - Final pipeline was fitted\n"
          ]
        },
        {
          "output_type": "stream",
          "name": "stdout",
          "text": [
            "2022-11-22 14:21:29,693 - FEDOT logger - Final pipeline was fitted\n"
          ]
        },
        {
          "output_type": "stream",
          "name": "stderr",
          "text": [
            "CRITICAL:root:FEDOT logger - Final pipeline: {'depth': 2, 'length': 3, 'nodes': [ridge, locf, lagged]}\n"
          ]
        },
        {
          "output_type": "stream",
          "name": "stdout",
          "text": [
            "2022-11-22 14:21:29,705 - FEDOT logger - Final pipeline: {'depth': 2, 'length': 3, 'nodes': [ridge, locf, lagged]}\n"
          ]
        },
        {
          "output_type": "stream",
          "name": "stderr",
          "text": [
            "DEBUG:root:SecondaryNode - Obtain prediction in secondary node with operation: ridge\n"
          ]
        },
        {
          "output_type": "stream",
          "name": "stdout",
          "text": [
            "2022-11-22 14:21:29,718 - SecondaryNode - Obtain prediction in secondary node with operation: ridge\n"
          ]
        },
        {
          "output_type": "stream",
          "name": "stderr",
          "text": [
            "DEBUG:root:SecondaryNode - Fit all parent nodes in secondary node with operation: ridge\n"
          ]
        },
        {
          "output_type": "stream",
          "name": "stdout",
          "text": [
            "2022-11-22 14:21:29,727 - SecondaryNode - Fit all parent nodes in secondary node with operation: ridge\n"
          ]
        },
        {
          "output_type": "stream",
          "name": "stderr",
          "text": [
            "DEBUG:root:PrimaryNode - Predict in primary node by operation: lagged\n"
          ]
        },
        {
          "output_type": "stream",
          "name": "stdout",
          "text": [
            "2022-11-22 14:21:29,734 - PrimaryNode - Predict in primary node by operation: lagged\n"
          ]
        },
        {
          "output_type": "stream",
          "name": "stderr",
          "text": [
            "DEBUG:root:PrimaryNode - Predict in primary node by operation: locf\n"
          ]
        },
        {
          "output_type": "stream",
          "name": "stdout",
          "text": [
            "2022-11-22 14:21:29,742 - PrimaryNode - Predict in primary node by operation: locf\n"
          ]
        },
        {
          "output_type": "stream",
          "name": "stderr",
          "text": [
            "WARNING:root:OperationTypesRepository - Operation lagged not found in the repository\n"
          ]
        },
        {
          "output_type": "stream",
          "name": "stdout",
          "text": [
            "2022-11-22 14:21:29,806 - OperationTypesRepository - Operation lagged not found in the repository\n"
          ]
        },
        {
          "output_type": "stream",
          "name": "stderr",
          "text": [
            "DEBUG:matplotlib.axes._base:update_title_pos\n"
          ]
        },
        {
          "output_type": "stream",
          "name": "stdout",
          "text": [
            "2022-11-22 14:21:29,887 - update_title_pos\n"
          ]
        },
        {
          "output_type": "stream",
          "name": "stderr",
          "text": [
            "DEBUG:matplotlib.font_manager:findfont: Matching :family=sans-serif:style=normal:variant=normal:weight=normal:stretch=normal:size=20.0 to DejaVu Sans ('/usr/local/lib/python3.7/dist-packages/matplotlib/mpl-data/fonts/ttf/DejaVuSans.ttf') with score of 0.050000.\n"
          ]
        },
        {
          "output_type": "stream",
          "name": "stdout",
          "text": [
            "2022-11-22 14:21:29,935 - findfont: Matching :family=sans-serif:style=normal:variant=normal:weight=normal:stretch=normal:size=20.0 to DejaVu Sans ('/usr/local/lib/python3.7/dist-packages/matplotlib/mpl-data/fonts/ttf/DejaVuSans.ttf') with score of 0.050000.\n"
          ]
        },
        {
          "output_type": "stream",
          "name": "stderr",
          "text": [
            "DEBUG:matplotlib.axes._base:update_title_pos\n"
          ]
        },
        {
          "output_type": "stream",
          "name": "stdout",
          "text": [
            "2022-11-22 14:21:29,993 - update_title_pos\n"
          ]
        },
        {
          "output_type": "stream",
          "name": "stderr",
          "text": [
            "DEBUG:matplotlib.axes._base:update_title_pos\n"
          ]
        },
        {
          "output_type": "stream",
          "name": "stdout",
          "text": [
            "2022-11-22 14:21:30,819 - update_title_pos\n"
          ]
        },
        {
          "output_type": "stream",
          "name": "stderr",
          "text": [
            "DEBUG:matplotlib.axes._base:update_title_pos\n"
          ]
        },
        {
          "output_type": "stream",
          "name": "stdout",
          "text": [
            "2022-11-22 14:21:30,877 - update_title_pos\n"
          ]
        },
        {
          "output_type": "stream",
          "name": "stderr",
          "text": [
            "DEBUG:matplotlib.axes._base:update_title_pos\n"
          ]
        },
        {
          "output_type": "stream",
          "name": "stdout",
          "text": [
            "2022-11-22 14:21:30,963 - update_title_pos\n"
          ]
        },
        {
          "output_type": "display_data",
          "data": {
            "text/plain": [
              "<Figure size 2100x2100 with 1 Axes>"
            ],
            "image/png": "[encoded data removed]"
          },
          "metadata": {}
        }
      ]
    },
    {
      "cell_type": "code",
      "source": [
        "fig,ax  = plt.subplots()\n",
        "fig.set(figwidth = 15,figheight = 7)\n",
        "test_range = range(len(ts), len(ts)+len(ts_test))\n",
        "test_range = range(end,end+horizon)\n",
        "train_range = range(start,end)\n",
        "total_range = range(start,end+horizon)\n",
        "\n",
        "ax.plot(train_range,ts, label = 'train ts')\n",
        "if trend is not None:\n",
        "    ax.plot(train_range, trend,color = 'green',label = 'trend')\n",
        "if trend_test is not None:\n",
        "    ax.plot(test_range, trend_test,color = 'green')\n",
        "ax.plot(test_range,forecast, color = 'red', label = 'forecast')\n",
        "ax.plot(test_range, ts_test,color = 'black', label = 'test ts')\n",
        "plt.legend();\n",
        "\n",
        "fig1,ax1 = plt.subplots()\n",
        "fig1.set(figwidth = 15,figheight = 7)\n",
        "\n",
        "if trend_test is not None:\n",
        "    ax1.plot(test_range, trend_test,color = 'green')\n",
        "ax1.plot(test_range,forecast, color = 'red', label = 'forecast')\n",
        "ax1.plot(test_range, ts_test,color = 'black', label = 'test ts')\n",
        "plt.legend();"
      ],
      "metadata": {
        "colab": {
          "base_uri": "https://localhost:8080/",
          "height": 1000
        },
        "id": "2Fl-x0hYk-hv",
        "outputId": "8388e2b7-1446-4597-9507-a1d89a457362"
      },
      "execution_count": 5,
      "outputs": [
        {
          "output_type": "stream",
          "name": "stderr",
          "text": [
            "DEBUG:matplotlib.axes._base:update_title_pos\n"
          ]
        },
        {
          "output_type": "stream",
          "name": "stdout",
          "text": [
            "2022-11-22 14:22:00,687 - update_title_pos\n"
          ]
        },
        {
          "output_type": "stream",
          "name": "stderr",
          "text": [
            "DEBUG:matplotlib.font_manager:findfont: Matching :family=sans-serif:style=normal:variant=normal:weight=normal:stretch=normal:size=10.0 to DejaVu Sans ('/usr/local/lib/python3.7/dist-packages/matplotlib/mpl-data/fonts/ttf/DejaVuSans.ttf') with score of 0.050000.\n"
          ]
        },
        {
          "output_type": "stream",
          "name": "stdout",
          "text": [
            "2022-11-22 14:22:00,705 - findfont: Matching :family=sans-serif:style=normal:variant=normal:weight=normal:stretch=normal:size=10.0 to DejaVu Sans ('/usr/local/lib/python3.7/dist-packages/matplotlib/mpl-data/fonts/ttf/DejaVuSans.ttf') with score of 0.050000.\n"
          ]
        },
        {
          "output_type": "stream",
          "name": "stderr",
          "text": [
            "DEBUG:matplotlib.axes._base:update_title_pos\n"
          ]
        },
        {
          "output_type": "stream",
          "name": "stdout",
          "text": [
            "2022-11-22 14:22:00,772 - update_title_pos\n"
          ]
        },
        {
          "output_type": "stream",
          "name": "stderr",
          "text": [
            "DEBUG:matplotlib.axes._base:update_title_pos\n"
          ]
        },
        {
          "output_type": "stream",
          "name": "stdout",
          "text": [
            "2022-11-22 14:22:00,852 - update_title_pos\n"
          ]
        },
        {
          "output_type": "stream",
          "name": "stderr",
          "text": [
            "DEBUG:matplotlib.axes._base:update_title_pos\n"
          ]
        },
        {
          "output_type": "stream",
          "name": "stdout",
          "text": [
            "2022-11-22 14:22:01,008 - update_title_pos\n"
          ]
        },
        {
          "output_type": "stream",
          "name": "stderr",
          "text": [
            "DEBUG:matplotlib.axes._base:update_title_pos\n"
          ]
        },
        {
          "output_type": "stream",
          "name": "stdout",
          "text": [
            "2022-11-22 14:22:01,055 - update_title_pos\n"
          ]
        },
        {
          "output_type": "stream",
          "name": "stderr",
          "text": [
            "DEBUG:matplotlib.axes._base:update_title_pos\n"
          ]
        },
        {
          "output_type": "stream",
          "name": "stdout",
          "text": [
            "2022-11-22 14:22:01,093 - update_title_pos\n"
          ]
        },
        {
          "output_type": "display_data",
          "data": {
            "text/plain": [
              "<Figure size 1080x504 with 1 Axes>"
            ],
            "image/png": "[encoded data removed]"
          },
          "metadata": {
            "needs_background": "light"
          }
        },
        {
          "output_type": "stream",
          "name": "stderr",
          "text": [
            "DEBUG:matplotlib.axes._base:update_title_pos\n"
          ]
        },
        {
          "output_type": "stream",
          "name": "stdout",
          "text": [
            "2022-11-22 14:22:01,241 - update_title_pos\n"
          ]
        },
        {
          "output_type": "stream",
          "name": "stderr",
          "text": [
            "DEBUG:matplotlib.axes._base:update_title_pos\n"
          ]
        },
        {
          "output_type": "stream",
          "name": "stdout",
          "text": [
            "2022-11-22 14:22:01,395 - update_title_pos\n"
          ]
        },
        {
          "output_type": "stream",
          "name": "stderr",
          "text": [
            "DEBUG:matplotlib.axes._base:update_title_pos\n"
          ]
        },
        {
          "output_type": "stream",
          "name": "stdout",
          "text": [
            "2022-11-22 14:22:01,433 - update_title_pos\n"
          ]
        },
        {
          "output_type": "stream",
          "name": "stderr",
          "text": [
            "DEBUG:matplotlib.axes._base:update_title_pos\n"
          ]
        },
        {
          "output_type": "stream",
          "name": "stdout",
          "text": [
            "2022-11-22 14:22:01,459 - update_title_pos\n"
          ]
        },
        {
          "output_type": "display_data",
          "data": {
            "text/plain": [
              "<Figure size 1080x504 with 1 Axes>"
            ],
            "image/png": "[encoded data removed]"
          },
          "metadata": {
            "needs_background": "light"
          }
        }
      ]
    },
    {
      "cell_type": "code",
      "source": [
        "import sys\n",
        "from sklearn.metrics import mean_squared_error as mse\n",
        "from fedot.core.composer.metrics import QualityMetric\n",
        "from fedot.core.data.data import InputData, OutputData\n",
        "from fedot.core.repository.tasks import TsForecastingParams\n",
        "\n",
        "def quantile_loss(y_true, y_pred, quantile=0.5):\n",
        "    res = np.array(y_true)-np.array(y_pred)\n",
        "    metrics=np.empty(shape = [0])\n",
        "    for x in res:\n",
        "        if x>=0:\n",
        "            metrics = np.append(metrics, quantile*x)\n",
        "        else:\n",
        "            metrics = np.append(metrics,(quantile-1)*x)\n",
        "    return np.mean(metrics)\n",
        "\n",
        "class Quantile_Loss_1(QualityMetric):\n",
        "    default_value = sys.maxsize\n",
        "\n",
        "    @staticmethod\n",
        "    def metric(reference: InputData, predicted: OutputData) -> float:\n",
        "        value = quantile_loss(reference.target, predicted.predict,quantile = 0.1)\n",
        "        return value\n",
        "\n",
        "\n",
        "class Quantile_Loss_9(QualityMetric):\n",
        "    default_value = sys.maxsize\n",
        "\n",
        "    @staticmethod\n",
        "    def metric(reference: InputData, predicted: OutputData) -> float:\n",
        "        value = quantile_loss(reference.target, predicted.predict,quantile = 0.9)\n",
        "        return value"
      ],
      "metadata": {
        "id": "uXWB4nm_p4x1"
      },
      "execution_count": 6,
      "outputs": []
    },
    {
      "cell_type": "code",
      "source": [
        "#importing for tuning\n",
        "from fedot.core.optimisers.adapters import PipelineAdapter\n",
        "from fedot.core.pipelines.tuning.tuner_builder import TunerBuilder\n",
        "from fedot.core.repository.quality_metrics_repository import RegressionMetricsEnum\n",
        "from fedot.core.pipelines.tuning.tuner_interface import HyperoptTuner\n",
        "from fedot.core.pipelines.tuning.unified import PipelineTuner\n",
        "from fedot.core.optimisers.composer_requirements import ComposerRequirements\n",
        "import datetime\n",
        "\n",
        "from fedot.core.repository.quality_metrics_repository import RegressionMetricsEnum\n",
        "\n",
        "#these parameters are the same for both tuners below\n",
        "task = Task(TaskTypesEnum.ts_forecasting,TsForecastingParams(forecast_length=horizon))\n",
        "composer_requirements = ComposerRequirements()\n",
        "composer_requirements.validation_blocks = 2\n",
        "composer_requirements.n_jobs= -1\n",
        "composer_requirements.show_progress = True\n",
        "\n",
        "#this tuner will be used to create lower confidence interval\n",
        "low_tuner = TunerBuilder(task = task) \\\n",
        "         .with_tuner(PipelineTuner) \\\n",
        "         .with_metric(Quantile_Loss_1.get_value) \\\n",
        "         .with_iterations(10) \\\n",
        "         .with_timeout(datetime.timedelta(minutes=2)) \\\n",
        "         .with_requirements(composer_requirements) \\\n",
        "         .build(train_data)\n",
        "\n",
        "#this tuner will be used to create uppper confidence interval\n",
        "up_tuner = TunerBuilder(task = task) \\\n",
        "         .with_tuner(PipelineTuner) \\\n",
        "         .with_metric(Quantile_Loss_9.get_value) \\\n",
        "         .with_iterations(10) \\\n",
        "         .with_timeout(datetime.timedelta(minutes=2)) \\\n",
        "         .with_requirements(composer_requirements) \\\n",
        "         .build(train_data)"
      ],
      "metadata": {
        "id": "NNRl8s3ZlJnV",
        "colab": {
          "base_uri": "https://localhost:8080/"
        },
        "outputId": "9b8fd25a-5a94-449e-c26f-341f2fd5eccb"
      },
      "execution_count": 7,
      "outputs": [
        {
          "output_type": "stream",
          "name": "stderr",
          "text": [
            "INFO:root:DataSourceSplitter - Hold out validation is applied.\n"
          ]
        },
        {
          "output_type": "stream",
          "name": "stdout",
          "text": [
            "2022-11-22 14:22:45,006 - DataSourceSplitter - Hold out validation is applied.\n"
          ]
        },
        {
          "output_type": "stream",
          "name": "stderr",
          "text": [
            "INFO:root:DataSourceSplitter - Hold out validation is applied.\n"
          ]
        },
        {
          "output_type": "stream",
          "name": "stdout",
          "text": [
            "2022-11-22 14:22:45,013 - DataSourceSplitter - Hold out validation is applied.\n"
          ]
        }
      ]
    },
    {
      "cell_type": "code",
      "source": [
        "def quantile_maker(quantile,arrays):\n",
        "    number_arrays = len(arrays)\n",
        "    l = len(arrays[0])\n",
        "    up = []\n",
        "    low = []\n",
        "    for i in range(l):\n",
        "        x = np.array([arrays[j][i] for j in range(number_arrays)])\n",
        "        q_up = np.quantile(x, 1-quantile)\n",
        "        up.append(q_up)\n",
        "        q_low = np.quantile(x,quantile)\n",
        "        low.append(q_low)\n",
        "    up = np.array(up)\n",
        "    low = np.array(low)\n",
        "    return {'up':up,'low':low}\n",
        "\n",
        "def mean_maker(arrays):\n",
        "    number_arrays = len(arrays)\n",
        "    l = len(arrays[0])\n",
        "    average = []\n",
        "    for i in range(l):\n",
        "        x = np.array([arrays[j][i] for j in range(number_arrays)])\n",
        "        average.append(x.mean())\n",
        "    return average\n",
        "\n",
        "def median_maker(arrays):\n",
        "    number_arrays = len(arrays)\n",
        "    l = len(arrays[0])\n",
        "    median = []\n",
        "    for i in range(l):\n",
        "        x = np.array([arrays[j][i] for j in range(number_arrays)])\n",
        "        median.append(np.median(x))\n",
        "    return median\n",
        "\n",
        "def absolute_maker(arrays):\n",
        "    number_arrays = len(arrays)\n",
        "    l = len(arrays[0])\n",
        "    maximum = []\n",
        "    minimum = []\n",
        "    for i in range(l):\n",
        "        x = np.array([arrays[j][i] for j in range(number_arrays)])\n",
        "        maximum.append(np.max(x))\n",
        "        minimum.append(np.min(x))\n",
        "    return {'up':np.array(maximum),'low':np.array(minimum)}\n",
        "\n",
        "from scipy.stats import trim_mean\n",
        "def truncated_mean_maker(arrays, quantile=0.1):\n",
        "    number_arrays = len(arrays)\n",
        "    l = len(arrays[0])\n",
        "    trunc_mean = []\n",
        "    for i in range(l):\n",
        "        x = np.array([arrays[j][i] for j in range(number_arrays)])\n",
        "        trunc_mean.append(trim_mean(x, quantile))\n",
        "    return np.array(trunc_mean)"
      ],
      "metadata": {
        "id": "qQ4OwVwOtph5"
      },
      "execution_count": 8,
      "outputs": []
    },
    {
      "cell_type": "code",
      "source": [
        "def conf_int_maker(model = model,\n",
        "                   train_ts = ts,\n",
        "                   number_models = 10, \n",
        "                   pipelines_show= False):\n",
        "    \"\"\"\n",
        "    model - a fedot model of interest\n",
        "    train_ts - the ts used for training the model\n",
        "    ts_test - the testing series; used for plotting and visualization of the results\n",
        "    number_models - number of models used to create the confidence intervals\n",
        "    regim - type of getting lower and upper confidence intervals from the upper and lower arrays; \n",
        "            default is 'quantile' also avaliable 'average' and 'median', 'absolute_bounds', 'truncated_mean'\n",
        "    plot - boolean parameter indicating wheter to show plot of the forecast and confidence intervals\n",
        "    plot_history - boolean parameter indicating whether to show previous series\n",
        "    \"\"\"\n",
        "    \n",
        "    horizon = model.params.task.task_params.forecast_length\n",
        "    train_data = model.train_data\n",
        "    test_data = model.test_data\n",
        "    forecast = model.predict(test_data)\n",
        "\n",
        "    #4 lines below allow us take the best models\n",
        "    fits = []\n",
        "    for ind in model.history.individuals[-1]:\n",
        "        fits.append(ind.fitness.value)\n",
        "    fits = np.sort(np.array(fits))\n",
        "\n",
        "    #create up and low predictions\n",
        "    up_predictions = []\n",
        "    low_predictions = []\n",
        "    \n",
        "    s=1\n",
        "    for ind in model.history.individuals[-1]:\n",
        "        if ind.fitness.value<=fits[number_models]:\n",
        "            pipeline = PipelineAdapter().restore(ind.graph)\n",
        "            print(f'Fitting pipeline №{s}')\n",
        "            s+=1\n",
        "            if pipelines_show:\n",
        "                pipeline.show()\n",
        "            \n",
        "            \n",
        "            #tuning upper confidence interval\n",
        "            tuned_pipeline = up_tuner.tune(pipeline)\n",
        "            tuned_pipeline.fit(train_data)\n",
        "            preds = tuned_pipeline.predict(test_data).predict.ravel()\n",
        "            up_predictions.append(preds)\n",
        "            del tuned_pipeline\n",
        "            \n",
        "            #tuning lower confidence interval\n",
        "            tuned_pipeline = low_tuner.tune(pipeline)\n",
        "            tuned_pipeline.fit(train_data)\n",
        "            preds = tuned_pipeline.predict(test_data).predict.ravel()\n",
        "            low_predictions.append(preds)\n",
        "            del tuned_pipeline\n",
        "    return {'up_predictions':up_predictions, 'low_predictions':low_predictions}"
      ],
      "metadata": {
        "id": "kG1n1Q7Wt1DF"
      },
      "execution_count": 13,
      "outputs": []
    },
    {
      "cell_type": "code",
      "source": [
        "def conf_int_plotting(up_predictions,\n",
        "                      low_predictions,\n",
        "                      horizon=horizon,\n",
        "                      forecast=forecast,\n",
        "                      ts=ts,\n",
        "                      ts_test=ts_test,\n",
        "                      trend_test=trend_test,\n",
        "                      regim = 'quantile',\n",
        "                      plot_history = True,\n",
        "                      plot_up_int = True,\n",
        "                      plot_low_int = True,\n",
        "                      plot_trend = True,\n",
        "                      plot_forecast = True,\n",
        "                      plot_upper_train = True,\n",
        "                      plot_lower_train = True,\n",
        "                      plot_ts_test = True):\n",
        "    if regim == 'quantile':\n",
        "        up_res= quantile_maker(quantile = 0.1, arrays = up_predictions)['up']\n",
        "        low_res= quantile_maker(quantile = 0.1, arrays = low_predictions)['low']\n",
        "    if regim == 'mean':\n",
        "        up_res = mean_maker(arrays = up_predictions)\n",
        "        low_res = mean_maker(arrays = low_predictions)\n",
        "    if regim == 'median':\n",
        "        up_res = median_maker(arrays = up_predictions)\n",
        "        low_res = median_maker(arrays = low_predictions)\n",
        "    if regim == 'absolute_bounds':\n",
        "        up_res = absolute_maker(arrays = up_predictions)['up']\n",
        "        low_res = absolute_maker(arrays = low_predictions)['low']\n",
        "    if regim == 'truncated_mean':\n",
        "        up_res = truncated_mean_maker(arrays = up_predictions)\n",
        "        low_res = truncated_mean_maker(arrays = low_predictions)\n",
        "    \n",
        "    up = np.maximum(up_res,forecast)  \n",
        "    low = np.minimum(low_res,forecast)\n",
        "\n",
        "    r = range(1,horizon+1)\n",
        "    fig,ax = plt.subplots()\n",
        "    fig.set(figwidth = 15,figheight = 7)\n",
        "    for i in range(len(up_predictions)):\n",
        "        if i==0:\n",
        "            if plot_upper_train:\n",
        "                ax.plot(r,up_predictions[i], color = 'yellow',label = 'preds for up train')\n",
        "            if plot_lower_train:\n",
        "                ax.plot(r,low_predictions[i], color = 'pink',label = 'preds for low train')\n",
        "        else:\n",
        "            if plot_upper_train:\n",
        "                ax.plot(r,up_predictions[i], color = 'yellow')\n",
        "            if plot_lower_train:\n",
        "                ax.plot(r,low_predictions[i], color = 'pink')    \n",
        "    if plot_up_int:\n",
        "        ax.plot(r,up, color = 'blue', label  = 'Up',marker= '.')\n",
        "    if plot_low_int:\n",
        "        ax.plot(r,low, color = 'green', label  = 'Low',marker = '.')\n",
        "    if plot_forecast:\n",
        "        ax.plot(r,forecast, color = 'red', label = 'Forecast')\n",
        "    if ts_test is not None:\n",
        "        if plot_ts_test:\n",
        "            ax.plot(r,ts_test,color = 'black', label = 'Actual TS')\n",
        "    if trend_test is not None:\n",
        "        if plot_trend:\n",
        "            ax.plot(r, trend_test, color = 'magenta', label = 'True Trend')\n",
        "    plt.legend()\n",
        "    if plot_history:\n",
        "        fig1,ax1 = plt.subplots()\n",
        "        \n",
        "        fig1.set(figwidth = 15,figheight = 7)\n",
        "       \n",
        "        train_range = range(len(ts))\n",
        "        test_range = range(len(ts),len(ts)+horizon)\n",
        "        \n",
        "        ax1.plot(train_range,ts, color = 'gray',label = 'Train ts')\n",
        "        ax1.plot(test_range, up,color = 'blue', label = 'Up')\n",
        "        ax1.plot(test_range, low,color = 'green', label = 'Low')\n",
        "        ax1.plot(test_range,forecast, color = 'red', label = 'Forecast')\n",
        "        if ts_test is not None:\n",
        "            ax1.plot(test_range, ts_test,color = 'black', label = 'Actual TS')  \n",
        "        if trend_test is not None:\n",
        "            ax1.plot(test_range, trend_test, color = 'magenta', label = 'True Trend')\n",
        "        plt.legend();"
      ],
      "metadata": {
        "id": "SvUS1eNu5yK3"
      },
      "execution_count": 10,
      "outputs": []
    },
    {
      "cell_type": "code",
      "source": [
        "x = conf_int_maker(model = model, number_models = 1,pipelines_show = False)"
      ],
      "metadata": {
        "colab": {
          "base_uri": "https://localhost:8080/"
        },
        "id": "VZrcnhUHlc8G",
        "outputId": "1449b28c-7abb-4992-c333-4ab10273d146"
      },
      "execution_count": 15,
      "outputs": [
        {
          "output_type": "stream",
          "name": "stderr",
          "text": [
            "INFO:root:PipelineTuner - Hyperparameters optimization start\n"
          ]
        },
        {
          "output_type": "stream",
          "name": "stdout",
          "text": [
            "Fitting pipeline №1\n",
            "2022-11-22 14:30:33,117 - PipelineTuner - Hyperparameters optimization start\n",
            "  0%|          | 0/10 [00:00<?, ?trial/s, best loss=?]"
          ]
        },
        {
          "output_type": "stream",
          "name": "stderr",
          "text": [
            "INFO:hyperopt.tpe:build_posterior_wrapper took 0.002429 seconds\n"
          ]
        },
        {
          "output_type": "stream",
          "name": "stdout",
          "text": [
            "2022-11-22 14:30:33,351 - build_posterior_wrapper took 0.002429 seconds\n"
          ]
        },
        {
          "output_type": "stream",
          "name": "stderr",
          "text": [
            "INFO:hyperopt.tpe:TPE using 0 trials\n"
          ]
        },
        {
          "output_type": "stream",
          "name": "stdout",
          "text": [
            "2022-11-22 14:30:33,364 - TPE using 0 trials\n",
            " 10%|█         | 1/10 [00:00<00:02,  3.48trial/s, best loss: 0.0969850259908243]"
          ]
        },
        {
          "output_type": "stream",
          "name": "stderr",
          "text": [
            "INFO:hyperopt.tpe:build_posterior_wrapper took 0.002888 seconds\n"
          ]
        },
        {
          "output_type": "stream",
          "name": "stdout",
          "text": [
            "2022-11-22 14:30:33,640 - build_posterior_wrapper took 0.002888 seconds\n"
          ]
        },
        {
          "output_type": "stream",
          "name": "stderr",
          "text": [
            "INFO:hyperopt.tpe:TPE using 1/1 trials with best loss 0.096985\n"
          ]
        },
        {
          "output_type": "stream",
          "name": "stdout",
          "text": [
            "2022-11-22 14:30:33,651 - TPE using 1/1 trials with best loss 0.096985\n",
            " 20%|██        | 2/10 [00:01<00:07,  1.10trial/s, best loss: 0.0969850259908243]"
          ]
        },
        {
          "output_type": "stream",
          "name": "stderr",
          "text": [
            "INFO:hyperopt.tpe:build_posterior_wrapper took 0.002763 seconds\n"
          ]
        },
        {
          "output_type": "stream",
          "name": "stdout",
          "text": [
            "2022-11-22 14:30:34,993 - build_posterior_wrapper took 0.002763 seconds\n"
          ]
        },
        {
          "output_type": "stream",
          "name": "stderr",
          "text": [
            "INFO:hyperopt.tpe:TPE using 2/2 trials with best loss 0.096985\n"
          ]
        },
        {
          "output_type": "stream",
          "name": "stdout",
          "text": [
            "2022-11-22 14:30:35,002 - TPE using 2/2 trials with best loss 0.096985\n",
            " 30%|███       | 3/10 [00:02<00:07,  1.07s/trial, best loss: 0.0969850259908243]"
          ]
        },
        {
          "output_type": "stream",
          "name": "stderr",
          "text": [
            "INFO:hyperopt.tpe:build_posterior_wrapper took 0.005903 seconds\n"
          ]
        },
        {
          "output_type": "stream",
          "name": "stdout",
          "text": [
            "2022-11-22 14:30:36,251 - build_posterior_wrapper took 0.005903 seconds\n"
          ]
        },
        {
          "output_type": "stream",
          "name": "stderr",
          "text": [
            "INFO:hyperopt.tpe:TPE using 3/3 trials with best loss 0.096985\n"
          ]
        },
        {
          "output_type": "stream",
          "name": "stdout",
          "text": [
            "2022-11-22 14:30:36,255 - TPE using 3/3 trials with best loss 0.096985\n",
            " 40%|████      | 4/10 [00:04<00:08,  1.45s/trial, best loss: 0.0969850259908243]"
          ]
        },
        {
          "output_type": "stream",
          "name": "stderr",
          "text": [
            "INFO:hyperopt.tpe:build_posterior_wrapper took 0.005071 seconds\n"
          ]
        },
        {
          "output_type": "stream",
          "name": "stdout",
          "text": [
            "2022-11-22 14:30:38,279 - build_posterior_wrapper took 0.005071 seconds\n"
          ]
        },
        {
          "output_type": "stream",
          "name": "stderr",
          "text": [
            "INFO:hyperopt.tpe:TPE using 4/4 trials with best loss 0.096985\n"
          ]
        },
        {
          "output_type": "stream",
          "name": "stdout",
          "text": [
            "2022-11-22 14:30:38,291 - TPE using 4/4 trials with best loss 0.096985\n",
            " 50%|█████     | 5/10 [00:06<00:06,  1.32s/trial, best loss: 0.0969850259908243]"
          ]
        },
        {
          "output_type": "stream",
          "name": "stderr",
          "text": [
            "INFO:hyperopt.tpe:build_posterior_wrapper took 0.003222 seconds\n"
          ]
        },
        {
          "output_type": "stream",
          "name": "stdout",
          "text": [
            "2022-11-22 14:30:39,372 - build_posterior_wrapper took 0.003222 seconds\n"
          ]
        },
        {
          "output_type": "stream",
          "name": "stderr",
          "text": [
            "INFO:hyperopt.tpe:TPE using 5/5 trials with best loss 0.096985\n"
          ]
        },
        {
          "output_type": "stream",
          "name": "stdout",
          "text": [
            "2022-11-22 14:30:39,380 - TPE using 5/5 trials with best loss 0.096985\n",
            " 60%|██████    | 6/10 [00:06<00:03,  1.04trial/s, best loss: 0.0969850259908243]"
          ]
        },
        {
          "output_type": "stream",
          "name": "stderr",
          "text": [
            "INFO:hyperopt.tpe:build_posterior_wrapper took 0.002509 seconds\n"
          ]
        },
        {
          "output_type": "stream",
          "name": "stdout",
          "text": [
            "2022-11-22 14:30:39,635 - build_posterior_wrapper took 0.002509 seconds\n"
          ]
        },
        {
          "output_type": "stream",
          "name": "stderr",
          "text": [
            "INFO:hyperopt.tpe:TPE using 6/6 trials with best loss 0.096985\n"
          ]
        },
        {
          "output_type": "stream",
          "name": "stdout",
          "text": [
            "2022-11-22 14:30:39,641 - TPE using 6/6 trials with best loss 0.096985\n",
            " 70%|███████   | 7/10 [00:06<00:02,  1.20trial/s, best loss: 0.0969850259908243]"
          ]
        },
        {
          "output_type": "stream",
          "name": "stderr",
          "text": [
            "INFO:hyperopt.tpe:build_posterior_wrapper took 0.002569 seconds\n"
          ]
        },
        {
          "output_type": "stream",
          "name": "stdout",
          "text": [
            "2022-11-22 14:30:40,196 - build_posterior_wrapper took 0.002569 seconds\n"
          ]
        },
        {
          "output_type": "stream",
          "name": "stderr",
          "text": [
            "INFO:hyperopt.tpe:TPE using 7/7 trials with best loss 0.096985\n"
          ]
        },
        {
          "output_type": "stream",
          "name": "stdout",
          "text": [
            "2022-11-22 14:30:40,202 - TPE using 7/7 trials with best loss 0.096985\n",
            " 80%|████████  | 8/10 [00:07<00:01,  1.18trial/s, best loss: 0.0969850259908243]"
          ]
        },
        {
          "output_type": "stream",
          "name": "stderr",
          "text": [
            "INFO:hyperopt.tpe:build_posterior_wrapper took 0.002563 seconds\n"
          ]
        },
        {
          "output_type": "stream",
          "name": "stdout",
          "text": [
            "2022-11-22 14:30:41,089 - build_posterior_wrapper took 0.002563 seconds\n"
          ]
        },
        {
          "output_type": "stream",
          "name": "stderr",
          "text": [
            "INFO:hyperopt.tpe:TPE using 8/8 trials with best loss 0.096985\n"
          ]
        },
        {
          "output_type": "stream",
          "name": "stdout",
          "text": [
            "2022-11-22 14:30:41,095 - TPE using 8/8 trials with best loss 0.096985\n",
            " 90%|█████████ | 9/10 [00:09<00:01,  1.06s/trial, best loss: 0.0969850259908243]"
          ]
        },
        {
          "output_type": "stream",
          "name": "stderr",
          "text": [
            "INFO:hyperopt.tpe:build_posterior_wrapper took 0.004006 seconds\n"
          ]
        },
        {
          "output_type": "stream",
          "name": "stdout",
          "text": [
            "2022-11-22 14:30:42,616 - build_posterior_wrapper took 0.004006 seconds\n"
          ]
        },
        {
          "output_type": "stream",
          "name": "stderr",
          "text": [
            "INFO:hyperopt.tpe:TPE using 9/9 trials with best loss 0.096985\n"
          ]
        },
        {
          "output_type": "stream",
          "name": "stdout",
          "text": [
            "2022-11-22 14:30:42,622 - TPE using 9/9 trials with best loss 0.096985\n",
            "100%|██████████| 10/10 [00:09<00:00,  1.00trial/s, best loss: 0.0969850259908243]\n"
          ]
        },
        {
          "output_type": "stream",
          "name": "stderr",
          "text": [
            "INFO:root:PipelineTuner - Hyperparameters optimization finished\n"
          ]
        },
        {
          "output_type": "stream",
          "name": "stdout",
          "text": [
            "2022-11-22 14:30:43,576 - PipelineTuner - Hyperparameters optimization finished\n"
          ]
        },
        {
          "output_type": "stream",
          "name": "stderr",
          "text": [
            "INFO:root:PipelineTuner - Return tuned pipeline due to the fact that obtained metric 0.097 equal or better than initial (+ 5% deviation) 0.156\n"
          ]
        },
        {
          "output_type": "stream",
          "name": "stdout",
          "text": [
            "2022-11-22 14:30:43,592 - PipelineTuner - Return tuned pipeline due to the fact that obtained metric 0.097 equal or better than initial (+ 5% deviation) 0.156\n"
          ]
        },
        {
          "output_type": "stream",
          "name": "stderr",
          "text": [
            "INFO:root:PipelineTuner - Hyperparameters optimization start\n"
          ]
        },
        {
          "output_type": "stream",
          "name": "stdout",
          "text": [
            "2022-11-22 14:30:43,862 - PipelineTuner - Hyperparameters optimization start\n",
            "  0%|          | 0/10 [00:00<?, ?trial/s, best loss=?]"
          ]
        },
        {
          "output_type": "stream",
          "name": "stderr",
          "text": [
            "INFO:hyperopt.tpe:build_posterior_wrapper took 0.002314 seconds\n"
          ]
        },
        {
          "output_type": "stream",
          "name": "stdout",
          "text": [
            "2022-11-22 14:30:44,149 - build_posterior_wrapper took 0.002314 seconds\n"
          ]
        },
        {
          "output_type": "stream",
          "name": "stderr",
          "text": [
            "INFO:hyperopt.tpe:TPE using 0 trials\n"
          ]
        },
        {
          "output_type": "stream",
          "name": "stdout",
          "text": [
            "2022-11-22 14:30:44,156 - TPE using 0 trials\n",
            " 10%|█         | 1/10 [00:00<00:06,  1.39trial/s, best loss: 0.31473831776074496]"
          ]
        },
        {
          "output_type": "stream",
          "name": "stderr",
          "text": [
            "INFO:hyperopt.tpe:build_posterior_wrapper took 0.003308 seconds\n"
          ]
        },
        {
          "output_type": "stream",
          "name": "stdout",
          "text": [
            "2022-11-22 14:30:44,873 - build_posterior_wrapper took 0.003308 seconds\n"
          ]
        },
        {
          "output_type": "stream",
          "name": "stderr",
          "text": [
            "INFO:hyperopt.tpe:TPE using 1/1 trials with best loss 0.314738\n"
          ]
        },
        {
          "output_type": "stream",
          "name": "stdout",
          "text": [
            "2022-11-22 14:30:44,885 - TPE using 1/1 trials with best loss 0.314738\n",
            " 20%|██        | 2/10 [00:02<00:09,  1.20s/trial, best loss: 0.31473831776074496]"
          ]
        },
        {
          "output_type": "stream",
          "name": "stderr",
          "text": [
            "INFO:hyperopt.tpe:build_posterior_wrapper took 0.003348 seconds\n"
          ]
        },
        {
          "output_type": "stream",
          "name": "stdout",
          "text": [
            "2022-11-22 14:30:46,403 - build_posterior_wrapper took 0.003348 seconds\n"
          ]
        },
        {
          "output_type": "stream",
          "name": "stderr",
          "text": [
            "INFO:hyperopt.tpe:TPE using 2/2 trials with best loss 0.314738\n"
          ]
        },
        {
          "output_type": "stream",
          "name": "stdout",
          "text": [
            "2022-11-22 14:30:46,409 - TPE using 2/2 trials with best loss 0.314738\n",
            " 30%|███       | 3/10 [00:03<00:07,  1.08s/trial, best loss: 0.31473831776074496]"
          ]
        },
        {
          "output_type": "stream",
          "name": "stderr",
          "text": [
            "INFO:hyperopt.tpe:build_posterior_wrapper took 0.002550 seconds\n"
          ]
        },
        {
          "output_type": "stream",
          "name": "stdout",
          "text": [
            "2022-11-22 14:30:47,353 - build_posterior_wrapper took 0.002550 seconds\n"
          ]
        },
        {
          "output_type": "stream",
          "name": "stderr",
          "text": [
            "INFO:hyperopt.tpe:TPE using 3/3 trials with best loss 0.314738\n"
          ]
        },
        {
          "output_type": "stream",
          "name": "stdout",
          "text": [
            "2022-11-22 14:30:47,359 - TPE using 3/3 trials with best loss 0.314738\n",
            " 40%|████      | 4/10 [00:04<00:06,  1.05s/trial, best loss: 0.31473831776074496]"
          ]
        },
        {
          "output_type": "stream",
          "name": "stderr",
          "text": [
            "INFO:hyperopt.tpe:build_posterior_wrapper took 0.002663 seconds\n"
          ]
        },
        {
          "output_type": "stream",
          "name": "stdout",
          "text": [
            "2022-11-22 14:30:48,349 - build_posterior_wrapper took 0.002663 seconds\n"
          ]
        },
        {
          "output_type": "stream",
          "name": "stderr",
          "text": [
            "INFO:hyperopt.tpe:TPE using 4/4 trials with best loss 0.314738\n"
          ]
        },
        {
          "output_type": "stream",
          "name": "stdout",
          "text": [
            "2022-11-22 14:30:48,355 - TPE using 4/4 trials with best loss 0.314738\n",
            " 50%|█████     | 5/10 [00:05<00:05,  1.15s/trial, best loss: 0.31473831776074496]"
          ]
        },
        {
          "output_type": "stream",
          "name": "stderr",
          "text": [
            "INFO:hyperopt.tpe:build_posterior_wrapper took 0.006062 seconds\n"
          ]
        },
        {
          "output_type": "stream",
          "name": "stdout",
          "text": [
            "2022-11-22 14:30:49,683 - build_posterior_wrapper took 0.006062 seconds\n"
          ]
        },
        {
          "output_type": "stream",
          "name": "stderr",
          "text": [
            "INFO:hyperopt.tpe:TPE using 5/5 trials with best loss 0.314738\n"
          ]
        },
        {
          "output_type": "stream",
          "name": "stdout",
          "text": [
            "2022-11-22 14:30:49,690 - TPE using 5/5 trials with best loss 0.314738\n",
            " 60%|██████    | 6/10 [00:06<00:04,  1.04s/trial, best loss: 0.31473831776074496]"
          ]
        },
        {
          "output_type": "stream",
          "name": "stderr",
          "text": [
            "INFO:hyperopt.tpe:build_posterior_wrapper took 0.005255 seconds\n"
          ]
        },
        {
          "output_type": "stream",
          "name": "stdout",
          "text": [
            "2022-11-22 14:30:50,502 - build_posterior_wrapper took 0.005255 seconds\n"
          ]
        },
        {
          "output_type": "stream",
          "name": "stderr",
          "text": [
            "INFO:hyperopt.tpe:TPE using 6/6 trials with best loss 0.314738\n"
          ]
        },
        {
          "output_type": "stream",
          "name": "stdout",
          "text": [
            "2022-11-22 14:30:50,508 - TPE using 6/6 trials with best loss 0.314738\n",
            " 70%|███████   | 7/10 [00:07<00:03,  1.05s/trial, best loss: 0.31473831776074496]"
          ]
        },
        {
          "output_type": "stream",
          "name": "stderr",
          "text": [
            "INFO:hyperopt.tpe:build_posterior_wrapper took 0.004816 seconds\n"
          ]
        },
        {
          "output_type": "stream",
          "name": "stdout",
          "text": [
            "2022-11-22 14:30:51,582 - build_posterior_wrapper took 0.004816 seconds\n"
          ]
        },
        {
          "output_type": "stream",
          "name": "stderr",
          "text": [
            "INFO:hyperopt.tpe:TPE using 7/7 trials with best loss 0.314738\n"
          ]
        },
        {
          "output_type": "stream",
          "name": "stdout",
          "text": [
            "2022-11-22 14:30:51,589 - TPE using 7/7 trials with best loss 0.314738\n",
            " 80%|████████  | 8/10 [00:08<00:02,  1.11s/trial, best loss: 0.31473831776074496]"
          ]
        },
        {
          "output_type": "stream",
          "name": "stderr",
          "text": [
            "INFO:hyperopt.tpe:build_posterior_wrapper took 0.003560 seconds\n"
          ]
        },
        {
          "output_type": "stream",
          "name": "stdout",
          "text": [
            "2022-11-22 14:30:52,829 - build_posterior_wrapper took 0.003560 seconds\n"
          ]
        },
        {
          "output_type": "stream",
          "name": "stderr",
          "text": [
            "INFO:hyperopt.tpe:TPE using 8/8 trials with best loss 0.314738\n"
          ]
        },
        {
          "output_type": "stream",
          "name": "stdout",
          "text": [
            "2022-11-22 14:30:52,836 - TPE using 8/8 trials with best loss 0.314738\n",
            " 90%|█████████ | 9/10 [00:09<00:00,  1.10trial/s, best loss: 0.31473831776074496]"
          ]
        },
        {
          "output_type": "stream",
          "name": "stderr",
          "text": [
            "INFO:hyperopt.tpe:build_posterior_wrapper took 0.002904 seconds\n"
          ]
        },
        {
          "output_type": "stream",
          "name": "stdout",
          "text": [
            "2022-11-22 14:30:53,292 - build_posterior_wrapper took 0.002904 seconds\n"
          ]
        },
        {
          "output_type": "stream",
          "name": "stderr",
          "text": [
            "INFO:hyperopt.tpe:TPE using 9/9 trials with best loss 0.314738\n"
          ]
        },
        {
          "output_type": "stream",
          "name": "stdout",
          "text": [
            "2022-11-22 14:30:53,299 - TPE using 9/9 trials with best loss 0.314738\n",
            "100%|██████████| 10/10 [00:10<00:00,  1.04s/trial, best loss: 0.31473831776074496]\n"
          ]
        },
        {
          "output_type": "stream",
          "name": "stderr",
          "text": [
            "INFO:root:PipelineTuner - Hyperparameters optimization finished\n"
          ]
        },
        {
          "output_type": "stream",
          "name": "stdout",
          "text": [
            "2022-11-22 14:30:55,203 - PipelineTuner - Hyperparameters optimization finished\n"
          ]
        },
        {
          "output_type": "stream",
          "name": "stderr",
          "text": [
            "INFO:root:PipelineTuner - Return tuned pipeline due to the fact that obtained metric 0.315 equal or better than initial (+ 5% deviation) 0.736\n"
          ]
        },
        {
          "output_type": "stream",
          "name": "stdout",
          "text": [
            "2022-11-22 14:30:55,209 - PipelineTuner - Return tuned pipeline due to the fact that obtained metric 0.315 equal or better than initial (+ 5% deviation) 0.736\n"
          ]
        },
        {
          "output_type": "stream",
          "name": "stderr",
          "text": [
            "INFO:root:PipelineTuner - Hyperparameters optimization start\n"
          ]
        },
        {
          "output_type": "stream",
          "name": "stdout",
          "text": [
            "Fitting pipeline №2\n",
            "2022-11-22 14:30:55,883 - PipelineTuner - Hyperparameters optimization start\n",
            "  0%|          | 0/10 [00:00<?, ?trial/s, best loss=?]"
          ]
        },
        {
          "output_type": "stream",
          "name": "stderr",
          "text": [
            "INFO:hyperopt.tpe:build_posterior_wrapper took 0.003113 seconds\n"
          ]
        },
        {
          "output_type": "stream",
          "name": "stdout",
          "text": [
            "2022-11-22 14:30:56,149 - build_posterior_wrapper took 0.003113 seconds\n"
          ]
        },
        {
          "output_type": "stream",
          "name": "stderr",
          "text": [
            "INFO:hyperopt.tpe:TPE using 0 trials\n"
          ]
        },
        {
          "output_type": "stream",
          "name": "stdout",
          "text": [
            "2022-11-22 14:30:56,155 - TPE using 0 trials\n",
            " 10%|█         | 1/10 [00:00<00:04,  1.80trial/s, best loss: 0.20878090329134213]"
          ]
        },
        {
          "output_type": "stream",
          "name": "stderr",
          "text": [
            "INFO:hyperopt.tpe:build_posterior_wrapper took 0.003312 seconds\n"
          ]
        },
        {
          "output_type": "stream",
          "name": "stdout",
          "text": [
            "2022-11-22 14:30:56,707 - build_posterior_wrapper took 0.003312 seconds\n"
          ]
        },
        {
          "output_type": "stream",
          "name": "stderr",
          "text": [
            "INFO:hyperopt.tpe:TPE using 1/1 trials with best loss 0.208781\n"
          ]
        },
        {
          "output_type": "stream",
          "name": "stdout",
          "text": [
            "2022-11-22 14:30:56,714 - TPE using 1/1 trials with best loss 0.208781\n",
            " 20%|██        | 2/10 [00:01<00:05,  1.53trial/s, best loss: 0.20878090329134213]"
          ]
        },
        {
          "output_type": "stream",
          "name": "stderr",
          "text": [
            "INFO:hyperopt.tpe:build_posterior_wrapper took 0.003510 seconds\n"
          ]
        },
        {
          "output_type": "stream",
          "name": "stdout",
          "text": [
            "2022-11-22 14:30:57,430 - build_posterior_wrapper took 0.003510 seconds\n"
          ]
        },
        {
          "output_type": "stream",
          "name": "stderr",
          "text": [
            "INFO:hyperopt.tpe:TPE using 2/2 trials with best loss 0.208781\n"
          ]
        },
        {
          "output_type": "stream",
          "name": "stdout",
          "text": [
            "2022-11-22 14:30:57,437 - TPE using 2/2 trials with best loss 0.208781\n",
            " 30%|███       | 3/10 [00:02<00:07,  1.07s/trial, best loss: 0.20878090329134213]"
          ]
        },
        {
          "output_type": "stream",
          "name": "stderr",
          "text": [
            "INFO:hyperopt.tpe:build_posterior_wrapper took 0.006633 seconds\n"
          ]
        },
        {
          "output_type": "stream",
          "name": "stdout",
          "text": [
            "2022-11-22 14:30:58,991 - build_posterior_wrapper took 0.006633 seconds\n"
          ]
        },
        {
          "output_type": "stream",
          "name": "stderr",
          "text": [
            "INFO:hyperopt.tpe:TPE using 3/3 trials with best loss 0.208781\n"
          ]
        },
        {
          "output_type": "stream",
          "name": "stdout",
          "text": [
            "2022-11-22 14:30:58,998 - TPE using 3/3 trials with best loss 0.208781\n",
            " 40%|████      | 4/10 [00:03<00:05,  1.16trial/s, best loss: 0.19760912644317322]"
          ]
        },
        {
          "output_type": "stream",
          "name": "stderr",
          "text": [
            "INFO:hyperopt.tpe:build_posterior_wrapper took 0.002879 seconds\n"
          ]
        },
        {
          "output_type": "stream",
          "name": "stdout",
          "text": [
            "2022-11-22 14:30:59,534 - build_posterior_wrapper took 0.002879 seconds\n"
          ]
        },
        {
          "output_type": "stream",
          "name": "stderr",
          "text": [
            "INFO:hyperopt.tpe:TPE using 4/4 trials with best loss 0.197609\n"
          ]
        },
        {
          "output_type": "stream",
          "name": "stdout",
          "text": [
            "2022-11-22 14:30:59,540 - TPE using 4/4 trials with best loss 0.197609\n",
            " 50%|█████     | 5/10 [00:03<00:03,  1.54trial/s, best loss: 0.14811149192437026]"
          ]
        },
        {
          "output_type": "stream",
          "name": "stderr",
          "text": [
            "INFO:hyperopt.tpe:build_posterior_wrapper took 0.003068 seconds\n"
          ]
        },
        {
          "output_type": "stream",
          "name": "stdout",
          "text": [
            "2022-11-22 14:30:59,803 - build_posterior_wrapper took 0.003068 seconds\n"
          ]
        },
        {
          "output_type": "stream",
          "name": "stderr",
          "text": [
            "INFO:hyperopt.tpe:TPE using 5/5 trials with best loss 0.148111\n"
          ]
        },
        {
          "output_type": "stream",
          "name": "stdout",
          "text": [
            "2022-11-22 14:30:59,810 - TPE using 5/5 trials with best loss 0.148111\n",
            " 60%|██████    | 6/10 [00:04<00:03,  1.17trial/s, best loss: 0.14811149192437026]"
          ]
        },
        {
          "output_type": "stream",
          "name": "stderr",
          "text": [
            "INFO:hyperopt.tpe:build_posterior_wrapper took 0.002996 seconds\n"
          ]
        },
        {
          "output_type": "stream",
          "name": "stdout",
          "text": [
            "2022-11-22 14:31:01,062 - build_posterior_wrapper took 0.002996 seconds\n"
          ]
        },
        {
          "output_type": "stream",
          "name": "stderr",
          "text": [
            "INFO:hyperopt.tpe:TPE using 6/6 trials with best loss 0.148111\n"
          ]
        },
        {
          "output_type": "stream",
          "name": "stdout",
          "text": [
            "2022-11-22 14:31:01,069 - TPE using 6/6 trials with best loss 0.148111\n",
            " 70%|███████   | 7/10 [00:05<00:02,  1.12trial/s, best loss: 0.14811149192437026]"
          ]
        },
        {
          "output_type": "stream",
          "name": "stderr",
          "text": [
            "INFO:hyperopt.tpe:build_posterior_wrapper took 0.002558 seconds\n"
          ]
        },
        {
          "output_type": "stream",
          "name": "stdout",
          "text": [
            "2022-11-22 14:31:02,032 - build_posterior_wrapper took 0.002558 seconds\n"
          ]
        },
        {
          "output_type": "stream",
          "name": "stderr",
          "text": [
            "INFO:hyperopt.tpe:TPE using 7/7 trials with best loss 0.148111\n"
          ]
        },
        {
          "output_type": "stream",
          "name": "stdout",
          "text": [
            "2022-11-22 14:31:02,038 - TPE using 7/7 trials with best loss 0.148111\n",
            " 80%|████████  | 8/10 [00:06<00:01,  1.10trial/s, best loss: 0.14811149192437026]"
          ]
        },
        {
          "output_type": "stream",
          "name": "stderr",
          "text": [
            "INFO:hyperopt.tpe:build_posterior_wrapper took 0.002631 seconds\n"
          ]
        },
        {
          "output_type": "stream",
          "name": "stdout",
          "text": [
            "2022-11-22 14:31:02,965 - build_posterior_wrapper took 0.002631 seconds\n"
          ]
        },
        {
          "output_type": "stream",
          "name": "stderr",
          "text": [
            "INFO:hyperopt.tpe:TPE using 8/8 trials with best loss 0.148111\n"
          ]
        },
        {
          "output_type": "stream",
          "name": "stdout",
          "text": [
            "2022-11-22 14:31:02,972 - TPE using 8/8 trials with best loss 0.148111\n",
            " 90%|█████████ | 9/10 [00:07<00:00,  1.41trial/s, best loss: 0.14799989742534184]"
          ]
        },
        {
          "output_type": "stream",
          "name": "stderr",
          "text": [
            "INFO:hyperopt.tpe:build_posterior_wrapper took 0.002465 seconds\n"
          ]
        },
        {
          "output_type": "stream",
          "name": "stdout",
          "text": [
            "2022-11-22 14:31:03,248 - build_posterior_wrapper took 0.002465 seconds\n"
          ]
        },
        {
          "output_type": "stream",
          "name": "stderr",
          "text": [
            "INFO:hyperopt.tpe:TPE using 9/9 trials with best loss 0.148000\n"
          ]
        },
        {
          "output_type": "stream",
          "name": "stdout",
          "text": [
            "2022-11-22 14:31:03,254 - TPE using 9/9 trials with best loss 0.148000\n",
            "100%|██████████| 10/10 [00:07<00:00,  1.35trial/s, best loss: 0.09866972244204375]\n"
          ]
        },
        {
          "output_type": "stream",
          "name": "stderr",
          "text": [
            "INFO:root:PipelineTuner - Hyperparameters optimization finished\n"
          ]
        },
        {
          "output_type": "stream",
          "name": "stdout",
          "text": [
            "2022-11-22 14:31:03,815 - PipelineTuner - Hyperparameters optimization finished\n"
          ]
        },
        {
          "output_type": "stream",
          "name": "stderr",
          "text": [
            "INFO:root:PipelineTuner - Return tuned pipeline due to the fact that obtained metric 0.099 equal or better than initial (+ 5% deviation) 0.156\n"
          ]
        },
        {
          "output_type": "stream",
          "name": "stdout",
          "text": [
            "2022-11-22 14:31:03,821 - PipelineTuner - Return tuned pipeline due to the fact that obtained metric 0.099 equal or better than initial (+ 5% deviation) 0.156\n"
          ]
        },
        {
          "output_type": "stream",
          "name": "stderr",
          "text": [
            "INFO:root:PipelineTuner - Hyperparameters optimization start\n"
          ]
        },
        {
          "output_type": "stream",
          "name": "stdout",
          "text": [
            "2022-11-22 14:31:04,121 - PipelineTuner - Hyperparameters optimization start\n",
            "  0%|          | 0/10 [00:00<?, ?trial/s, best loss=?]"
          ]
        },
        {
          "output_type": "stream",
          "name": "stderr",
          "text": [
            "INFO:hyperopt.tpe:build_posterior_wrapper took 0.002486 seconds\n"
          ]
        },
        {
          "output_type": "stream",
          "name": "stdout",
          "text": [
            "2022-11-22 14:31:04,447 - build_posterior_wrapper took 0.002486 seconds\n"
          ]
        },
        {
          "output_type": "stream",
          "name": "stderr",
          "text": [
            "INFO:hyperopt.tpe:TPE using 0 trials\n"
          ]
        },
        {
          "output_type": "stream",
          "name": "stdout",
          "text": [
            "2022-11-22 14:31:04,453 - TPE using 0 trials\n",
            " 10%|█         | 1/10 [00:01<00:14,  1.61s/trial, best loss: 0.30004802291270155]"
          ]
        },
        {
          "output_type": "stream",
          "name": "stderr",
          "text": [
            "INFO:hyperopt.tpe:build_posterior_wrapper took 0.003023 seconds\n"
          ]
        },
        {
          "output_type": "stream",
          "name": "stdout",
          "text": [
            "2022-11-22 14:31:06,061 - build_posterior_wrapper took 0.003023 seconds\n"
          ]
        },
        {
          "output_type": "stream",
          "name": "stderr",
          "text": [
            "INFO:hyperopt.tpe:TPE using 1/1 trials with best loss 0.300048\n"
          ]
        },
        {
          "output_type": "stream",
          "name": "stdout",
          "text": [
            "2022-11-22 14:31:06,071 - TPE using 1/1 trials with best loss 0.300048\n",
            " 20%|██        | 2/10 [00:02<00:11,  1.45s/trial, best loss: 0.30004802291270155]"
          ]
        },
        {
          "output_type": "stream",
          "name": "stderr",
          "text": [
            "INFO:hyperopt.tpe:build_posterior_wrapper took 0.002659 seconds\n"
          ]
        },
        {
          "output_type": "stream",
          "name": "stdout",
          "text": [
            "2022-11-22 14:31:07,393 - build_posterior_wrapper took 0.002659 seconds\n"
          ]
        },
        {
          "output_type": "stream",
          "name": "stderr",
          "text": [
            "INFO:hyperopt.tpe:TPE using 2/2 trials with best loss 0.300048\n"
          ]
        },
        {
          "output_type": "stream",
          "name": "stdout",
          "text": [
            "2022-11-22 14:31:07,399 - TPE using 2/2 trials with best loss 0.300048\n",
            " 30%|███       | 3/10 [00:04<00:08,  1.27s/trial, best loss: 0.30004802291270155]"
          ]
        },
        {
          "output_type": "stream",
          "name": "stderr",
          "text": [
            "INFO:hyperopt.tpe:build_posterior_wrapper took 0.005948 seconds\n"
          ]
        },
        {
          "output_type": "stream",
          "name": "stdout",
          "text": [
            "2022-11-22 14:31:08,459 - build_posterior_wrapper took 0.005948 seconds\n"
          ]
        },
        {
          "output_type": "stream",
          "name": "stderr",
          "text": [
            "INFO:hyperopt.tpe:TPE using 3/3 trials with best loss 0.300048\n"
          ]
        },
        {
          "output_type": "stream",
          "name": "stdout",
          "text": [
            "2022-11-22 14:31:08,466 - TPE using 3/3 trials with best loss 0.300048\n",
            " 40%|████      | 4/10 [00:04<00:05,  1.03trial/s, best loss: 0.30004802291270155]"
          ]
        },
        {
          "output_type": "stream",
          "name": "stderr",
          "text": [
            "INFO:hyperopt.tpe:build_posterior_wrapper took 0.002565 seconds\n"
          ]
        },
        {
          "output_type": "stream",
          "name": "stdout",
          "text": [
            "2022-11-22 14:31:08,971 - build_posterior_wrapper took 0.002565 seconds\n"
          ]
        },
        {
          "output_type": "stream",
          "name": "stderr",
          "text": [
            "INFO:hyperopt.tpe:TPE using 4/4 trials with best loss 0.300048\n"
          ]
        },
        {
          "output_type": "stream",
          "name": "stdout",
          "text": [
            "2022-11-22 14:31:08,977 - TPE using 4/4 trials with best loss 0.300048\n",
            " 50%|█████     | 5/10 [00:05<00:05,  1.13s/trial, best loss: 0.30004802291270155]"
          ]
        },
        {
          "output_type": "stream",
          "name": "stderr",
          "text": [
            "INFO:hyperopt.tpe:build_posterior_wrapper took 0.003029 seconds\n"
          ]
        },
        {
          "output_type": "stream",
          "name": "stdout",
          "text": [
            "2022-11-22 14:31:10,372 - build_posterior_wrapper took 0.003029 seconds\n"
          ]
        },
        {
          "output_type": "stream",
          "name": "stderr",
          "text": [
            "INFO:hyperopt.tpe:TPE using 5/5 trials with best loss 0.300048\n"
          ]
        },
        {
          "output_type": "stream",
          "name": "stdout",
          "text": [
            "2022-11-22 14:31:10,379 - TPE using 5/5 trials with best loss 0.300048\n",
            " 60%|██████    | 6/10 [00:06<00:03,  1.09trial/s, best loss: 0.30004802291270155]"
          ]
        },
        {
          "output_type": "stream",
          "name": "stderr",
          "text": [
            "INFO:hyperopt.tpe:build_posterior_wrapper took 0.002876 seconds\n"
          ]
        },
        {
          "output_type": "stream",
          "name": "stdout",
          "text": [
            "2022-11-22 14:31:10,891 - build_posterior_wrapper took 0.002876 seconds\n"
          ]
        },
        {
          "output_type": "stream",
          "name": "stderr",
          "text": [
            "INFO:hyperopt.tpe:TPE using 6/6 trials with best loss 0.300048\n"
          ]
        },
        {
          "output_type": "stream",
          "name": "stdout",
          "text": [
            "2022-11-22 14:31:10,897 - TPE using 6/6 trials with best loss 0.300048\n",
            " 70%|███████   | 7/10 [00:07<00:02,  1.14trial/s, best loss: 0.30004802291270155]"
          ]
        },
        {
          "output_type": "stream",
          "name": "stderr",
          "text": [
            "INFO:hyperopt.tpe:build_posterior_wrapper took 0.007904 seconds\n"
          ]
        },
        {
          "output_type": "stream",
          "name": "stdout",
          "text": [
            "2022-11-22 14:31:11,684 - build_posterior_wrapper took 0.007904 seconds\n"
          ]
        },
        {
          "output_type": "stream",
          "name": "stderr",
          "text": [
            "INFO:hyperopt.tpe:TPE using 7/7 trials with best loss 0.300048\n"
          ]
        },
        {
          "output_type": "stream",
          "name": "stdout",
          "text": [
            "2022-11-22 14:31:11,697 - TPE using 7/7 trials with best loss 0.300048\n",
            " 80%|████████  | 8/10 [00:08<00:02,  1.04s/trial, best loss: 0.30004802291270155]"
          ]
        },
        {
          "output_type": "stream",
          "name": "stderr",
          "text": [
            "INFO:hyperopt.tpe:build_posterior_wrapper took 0.002549 seconds\n"
          ]
        },
        {
          "output_type": "stream",
          "name": "stdout",
          "text": [
            "2022-11-22 14:31:13,068 - build_posterior_wrapper took 0.002549 seconds\n"
          ]
        },
        {
          "output_type": "stream",
          "name": "stderr",
          "text": [
            "INFO:hyperopt.tpe:TPE using 8/8 trials with best loss 0.300048\n"
          ]
        },
        {
          "output_type": "stream",
          "name": "stdout",
          "text": [
            "2022-11-22 14:31:13,078 - TPE using 8/8 trials with best loss 0.300048\n",
            " 90%|█████████ | 9/10 [00:09<00:00,  1.19trial/s, best loss: 0.27919818071101693]"
          ]
        },
        {
          "output_type": "stream",
          "name": "stderr",
          "text": [
            "INFO:hyperopt.tpe:build_posterior_wrapper took 0.002625 seconds\n"
          ]
        },
        {
          "output_type": "stream",
          "name": "stdout",
          "text": [
            "2022-11-22 14:31:13,481 - build_posterior_wrapper took 0.002625 seconds\n"
          ]
        },
        {
          "output_type": "stream",
          "name": "stderr",
          "text": [
            "INFO:hyperopt.tpe:TPE using 9/9 trials with best loss 0.279198\n"
          ]
        },
        {
          "output_type": "stream",
          "name": "stdout",
          "text": [
            "2022-11-22 14:31:13,492 - TPE using 9/9 trials with best loss 0.279198\n",
            "100%|██████████| 10/10 [00:09<00:00,  1.05trial/s, best loss: 0.27919818071101693]\n"
          ]
        },
        {
          "output_type": "stream",
          "name": "stderr",
          "text": [
            "INFO:root:PipelineTuner - Hyperparameters optimization finished\n"
          ]
        },
        {
          "output_type": "stream",
          "name": "stdout",
          "text": [
            "2022-11-22 14:31:14,330 - PipelineTuner - Hyperparameters optimization finished\n"
          ]
        },
        {
          "output_type": "stream",
          "name": "stderr",
          "text": [
            "INFO:root:PipelineTuner - Return tuned pipeline due to the fact that obtained metric 0.279 equal or better than initial (+ 5% deviation) 0.753\n"
          ]
        },
        {
          "output_type": "stream",
          "name": "stdout",
          "text": [
            "2022-11-22 14:31:14,338 - PipelineTuner - Return tuned pipeline due to the fact that obtained metric 0.279 equal or better than initial (+ 5% deviation) 0.753\n"
          ]
        }
      ]
    },
    {
      "cell_type": "code",
      "source": [
        "conf_int_plotting(up_predictions = x['up_predictions'],\n",
        "                  low_predictions = x['low_predictions'],\n",
        "                  regim='median',\n",
        "                  plot_history = True,\n",
        "                  plot_up_int = True,\n",
        "                  plot_low_int = True,\n",
        "                  plot_trend = True,\n",
        "                  plot_forecast = True,\n",
        "                  plot_upper_train = True,\n",
        "                  plot_lower_train = True,\n",
        "                  plot_ts_test = True)"
      ],
      "metadata": {
        "colab": {
          "base_uri": "https://localhost:8080/",
          "height": 847
        },
        "id": "mU3vaDLetRdZ",
        "outputId": "c1c2ff22-cdc9-422c-e83c-d672dea98ac9"
      },
      "execution_count": 16,
      "outputs": [
        {
          "output_type": "display_data",
          "data": {
            "text/plain": [
              "<Figure size 1080x504 with 1 Axes>"
            ],
            "image/png": "[encoded data removed]"
          },
          "metadata": {
            "needs_background": "light"
          }
        },
        {
          "output_type": "display_data",
          "data": {
            "text/plain": [
              "<Figure size 1080x504 with 1 Axes>"
            ],
            "image/png": "[encoded data removed]"
          },
          "metadata": {
            "needs_background": "light"
          }
        }
      ]
    }
  ]
}