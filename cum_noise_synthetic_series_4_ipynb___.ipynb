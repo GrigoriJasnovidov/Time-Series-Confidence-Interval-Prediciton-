{
  "nbformat": 4,
  "nbformat_minor": 0,
  "metadata": {
    "colab": {
      "provenance": []
    },
    "kernelspec": {
      "name": "python3",
      "display_name": "Python 3"
    },
    "language_info": {
      "name": "python"
    },
    "gpuClass": "standard"
  },
  "cells": [
    {
      "cell_type": "code",
      "source": [
        "#!pip install fedot"
      ],
      "metadata": {
        "id": "TXneEk7apj1R"
      },
      "execution_count": 2,
      "outputs": []
    },
    {
      "cell_type": "code",
      "source": [
        "import matplotlib.pyplot as plt\n",
        "import numpy as np\n",
        "import pandas as pd\n",
        "import logging\n",
        "logging.raiseExceptions = False\n",
        "\n",
        "import fedot\n",
        "from fedot.api.main import Fedot\n",
        "from fedot.core.data.data import InputData\n",
        "from fedot.core.data.data_split import train_test_data_setup\n",
        "from fedot.core.repository.dataset_types import DataTypesEnum\n",
        "from fedot.core.repository.tasks import TsForecastingParams, Task, TaskTypesEnum\n",
        "import inspect"
      ],
      "metadata": {
        "id": "OO7SMqrTjSrB"
      },
      "execution_count": 3,
      "outputs": []
    },
    {
      "cell_type": "code",
      "source": [
        "from google.colab import files\n",
        "uploaded = files.upload()"
      ],
      "metadata": {
        "colab": {
          "base_uri": "https://localhost:8080/",
          "height": 73
        },
        "id": "BVTPK-TbzzU-",
        "outputId": "50ff6212-54d4-4644-c572-441211edd7f8"
      },
      "execution_count": null,
      "outputs": [
        {
          "output_type": "display_data",
          "data": {
            "text/plain": [
              "<IPython.core.display.HTML object>"
            ],
            "text/html": [
              "\n",
              "     <input type=\"file\" id=\"files-aa64c708-6612-4f44-abed-d5ff5f96b276\" name=\"files[]\" multiple disabled\n",
              "        style=\"border:none\" />\n",
              "     <output id=\"result-aa64c708-6612-4f44-abed-d5ff5f96b276\">\n",
              "      Upload widget is only available when the cell has been executed in the\n",
              "      current browser session. Please rerun this cell to enable.\n",
              "      </output>\n",
              "      <script>// Copyright 2017 Google LLC\n",
              "//\n",
              "// Licensed under the Apache License, Version 2.0 (the \"License\");\n",
              "// you may not use this file except in compliance with the License.\n",
              "// You may obtain a copy of the License at\n",
              "//\n",
              "//      http://www.apache.org/licenses/LICENSE-2.0\n",
              "//\n",
              "// Unless required by applicable law or agreed to in writing, software\n",
              "// distributed under the License is distributed on an \"AS IS\" BASIS,\n",
              "// WITHOUT WARRANTIES OR CONDITIONS OF ANY KIND, either express or implied.\n",
              "// See the License for the specific language governing permissions and\n",
              "// limitations under the License.\n",
              "\n",
              "/**\n",
              " * @fileoverview Helpers for google.colab Python module.\n",
              " */\n",
              "(function(scope) {\n",
              "function span(text, styleAttributes = {}) {\n",
              "  const element = document.createElement('span');\n",
              "  element.textContent = text;\n",
              "  for (const key of Object.keys(styleAttributes)) {\n",
              "    element.style[key] = styleAttributes[key];\n",
              "  }\n",
              "  return element;\n",
              "}\n",
              "\n",
              "// Max number of bytes which will be uploaded at a time.\n",
              "const MAX_PAYLOAD_SIZE = 100 * 1024;\n",
              "\n",
              "function _uploadFiles(inputId, outputId) {\n",
              "  const steps = uploadFilesStep(inputId, outputId);\n",
              "  const outputElement = document.getElementById(outputId);\n",
              "  // Cache steps on the outputElement to make it available for the next call\n",
              "  // to uploadFilesContinue from Python.\n",
              "  outputElement.steps = steps;\n",
              "\n",
              "  return _uploadFilesContinue(outputId);\n",
              "}\n",
              "\n",
              "// This is roughly an async generator (not supported in the browser yet),\n",
              "// where there are multiple asynchronous steps and the Python side is going\n",
              "// to poll for completion of each step.\n",
              "// This uses a Promise to block the python side on completion of each step,\n",
              "// then passes the result of the previous step as the input to the next step.\n",
              "function _uploadFilesContinue(outputId) {\n",
              "  const outputElement = document.getElementById(outputId);\n",
              "  const steps = outputElement.steps;\n",
              "\n",
              "  const next = steps.next(outputElement.lastPromiseValue);\n",
              "  return Promise.resolve(next.value.promise).then((value) => {\n",
              "    // Cache the last promise value to make it available to the next\n",
              "    // step of the generator.\n",
              "    outputElement.lastPromiseValue = value;\n",
              "    return next.value.response;\n",
              "  });\n",
              "}\n",
              "\n",
              "/**\n",
              " * Generator function which is called between each async step of the upload\n",
              " * process.\n",
              " * @param {string} inputId Element ID of the input file picker element.\n",
              " * @param {string} outputId Element ID of the output display.\n",
              " * @return {!Iterable<!Object>} Iterable of next steps.\n",
              " */\n",
              "function* uploadFilesStep(inputId, outputId) {\n",
              "  const inputElement = document.getElementById(inputId);\n",
              "  inputElement.disabled = false;\n",
              "\n",
              "  const outputElement = document.getElementById(outputId);\n",
              "  outputElement.innerHTML = '';\n",
              "\n",
              "  const pickedPromise = new Promise((resolve) => {\n",
              "    inputElement.addEventListener('change', (e) => {\n",
              "      resolve(e.target.files);\n",
              "    });\n",
              "  });\n",
              "\n",
              "  const cancel = document.createElement('button');\n",
              "  inputElement.parentElement.appendChild(cancel);\n",
              "  cancel.textContent = 'Cancel upload';\n",
              "  const cancelPromise = new Promise((resolve) => {\n",
              "    cancel.onclick = () => {\n",
              "      resolve(null);\n",
              "    };\n",
              "  });\n",
              "\n",
              "  // Wait for the user to pick the files.\n",
              "  const files = yield {\n",
              "    promise: Promise.race([pickedPromise, cancelPromise]),\n",
              "    response: {\n",
              "      action: 'starting',\n",
              "    }\n",
              "  };\n",
              "\n",
              "  cancel.remove();\n",
              "\n",
              "  // Disable the input element since further picks are not allowed.\n",
              "  inputElement.disabled = true;\n",
              "\n",
              "  if (!files) {\n",
              "    return {\n",
              "      response: {\n",
              "        action: 'complete',\n",
              "      }\n",
              "    };\n",
              "  }\n",
              "\n",
              "  for (const file of files) {\n",
              "    const li = document.createElement('li');\n",
              "    li.append(span(file.name, {fontWeight: 'bold'}));\n",
              "    li.append(span(\n",
              "        `(${file.type || 'n/a'}) - ${file.size} bytes, ` +\n",
              "        `last modified: ${\n",
              "            file.lastModifiedDate ? file.lastModifiedDate.toLocaleDateString() :\n",
              "                                    'n/a'} - `));\n",
              "    const percent = span('0% done');\n",
              "    li.appendChild(percent);\n",
              "\n",
              "    outputElement.appendChild(li);\n",
              "\n",
              "    const fileDataPromise = new Promise((resolve) => {\n",
              "      const reader = new FileReader();\n",
              "      reader.onload = (e) => {\n",
              "        resolve(e.target.result);\n",
              "      };\n",
              "      reader.readAsArrayBuffer(file);\n",
              "    });\n",
              "    // Wait for the data to be ready.\n",
              "    let fileData = yield {\n",
              "      promise: fileDataPromise,\n",
              "      response: {\n",
              "        action: 'continue',\n",
              "      }\n",
              "    };\n",
              "\n",
              "    // Use a chunked sending to avoid message size limits. See b/62115660.\n",
              "    let position = 0;\n",
              "    do {\n",
              "      const length = Math.min(fileData.byteLength - position, MAX_PAYLOAD_SIZE);\n",
              "      const chunk = new Uint8Array(fileData, position, length);\n",
              "      position += length;\n",
              "\n",
              "      const base64 = btoa(String.fromCharCode.apply(null, chunk));\n",
              "      yield {\n",
              "        response: {\n",
              "          action: 'append',\n",
              "          file: file.name,\n",
              "          data: base64,\n",
              "        },\n",
              "      };\n",
              "\n",
              "      let percentDone = fileData.byteLength === 0 ?\n",
              "          100 :\n",
              "          Math.round((position / fileData.byteLength) * 100);\n",
              "      percent.textContent = `${percentDone}% done`;\n",
              "\n",
              "    } while (position < fileData.byteLength);\n",
              "  }\n",
              "\n",
              "  // All done.\n",
              "  yield {\n",
              "    response: {\n",
              "      action: 'complete',\n",
              "    }\n",
              "  };\n",
              "}\n",
              "\n",
              "scope.google = scope.google || {};\n",
              "scope.google.colab = scope.google.colab || {};\n",
              "scope.google.colab._files = {\n",
              "  _uploadFiles,\n",
              "  _uploadFilesContinue,\n",
              "};\n",
              "})(self);\n",
              "</script> "
            ]
          },
          "metadata": {}
        },
        {
          "output_type": "stream",
          "name": "stdout",
          "text": [
            "Saving ts study 1.txt to ts study 1.txt\n"
          ]
        }
      ]
    },
    {
      "cell_type": "code",
      "source": [
        "ts_tabular =pd.read_csv('ts study 1.txt')\n",
        "ts_real_temp = ts_tabular[ts_tabular['label']=='temp'].drop('label',axis=1)['value'].to_numpy()"
      ],
      "metadata": {
        "id": "Q-9beb5I0YmP"
      },
      "execution_count": null,
      "outputs": []
    },
    {
      "cell_type": "code",
      "source": [
        "def s1(n,noise = 3,sign=1):\n",
        "    def f1(x):\n",
        "        return 5*np.sin(x/20)+0.1*x-2*np.sqrt(x)\n",
        "    trend = f1(np.array(range(n)))\n",
        "    noise = np.random.normal(loc = 0, scale = noise,size = n)\n",
        "    ans = {'ts':(trend+noise)*sign, 'trend' : trend*sign}\n",
        "    return ans\n",
        "def s2(length, periods = 10,noise = 0.3,sign=1 ):\n",
        "\n",
        "    sinusoidal_data = np.linspace(-periods * np.pi, periods * np.pi, length)\n",
        "    sinusoidal_data = np.sin(sinusoidal_data)\n",
        "    cos_1_data = np.linspace(-periods * np.pi/2, periods/2 * np.pi/2, int(length/2))\n",
        "    cos_1_data = np.cos(cos_1_data) \n",
        "    cos_2_data = np.linspace(periods/2 * np.pi/2, periods * np.pi/2, int(length/2))\n",
        "    cos_2_data = np.cos(cos_2_data)   \n",
        "    cosine_data = np.hstack((cos_1_data, cos_2_data))\n",
        "    \n",
        "    random_noise = np.random.normal(loc=0.0, scale=noise, size=length)\n",
        "    synthetic_data = sinusoidal_data + cosine_data + random_noise\n",
        "    ans = {'ts':synthetic_data*sign, 'trend': (sinusoidal_data + cosine_data)*sign}\n",
        "    return ans\n",
        "def s3(n,noise = 10,sign = 1):\n",
        "    r = np.array(range(n))\n",
        "    trend = (r-r/5*np.sin(r/2)+r/2*np.sin(r/20))/10\n",
        "    noise = np.random.normal(loc=0,scale = noise,size = n)\n",
        "    ans = {'ts':(trend+noise)*sign, 'trend': trend*sign}\n",
        "    return ans\n",
        "def s4(n,noise = 1,sign =1):\n",
        "    array = np.array(range(n))\n",
        "    trend = array/5+np.power(array,0.5)*np.sin(np.pi/12*array)\n",
        "    noise = np.random.normal(loc = 0,scale = noise, size = n)\n",
        "    noise_cum = noise.cumsum()\n",
        "    ts = trend+noise_cum\n",
        "    ans = {'ts':ts*sign, 'trend' : trend*sign}\n",
        "    return ans\n",
        "\n",
        "def s5(n,noise = 1,sign=1):\n",
        "    r= np.arange(n)\n",
        "    trend = r*1\n",
        "    noise = np.random.normal(loc=0,scale = noise,size = n)\n",
        "    noise_cum = noise.cumsum()\n",
        "    ts = trend+noise_cum\n",
        "    ans = {'ts':ts*sign,'trend':trend*sign}\n",
        "    return ans\n",
        "\n",
        "def s6(n,noise = 1, sign =1):\n",
        "    r = np.arange(n)\n",
        "    trend = 2*np.sin(2*r)+np.cos(r)\n",
        "    noise = np.random.normal(loc = 0,scale  = noise,size = n)\n",
        "    ts = trend+noise\n",
        "    ans = {'ts':ts,'trend':trend}\n",
        "    return ans"
      ],
      "metadata": {
        "id": "nrd3-HXsjhue"
      },
      "execution_count": 4,
      "outputs": []
    },
    {
      "cell_type": "code",
      "source": [
        "horizon = 25\n",
        "validation_blocks = 2\n",
        "task = Task(TaskTypesEnum.ts_forecasting,  TsForecastingParams(forecast_length=horizon))\n",
        "start = 0\n",
        "end = 1000\n",
        "series = 4\n",
        "\n",
        "if series == 'traffic':\n",
        "    init_series = ts_real_temp\n",
        "    ts = init_series[start:end]\n",
        "    trend = None\n",
        "    ts_test = init_series[end:end+horizon]\n",
        "    trend_test = None\n",
        "    idx = np.array(range(len(np.array(ts))))\n",
        "\n",
        "if series ==1:\n",
        "    noise = 0.5\n",
        "    init_series = s1(10000,noise= noise,sign =1)\n",
        "    ts = init_series['ts'][start:end]\n",
        "    trend = init_series['trend'][start:end]\n",
        "    ts_test = init_series['ts'][end:end+horizon]\n",
        "    trend_test = init_series['trend'][end:end+horizon]\n",
        "    idx = np.array( range(len(np.array(ts))) )\n",
        "    train_input = InputData(idx=idx,\n",
        "                            features=ts,\n",
        "                            target=ts,\n",
        "                            task=task,\n",
        "                            data_type=DataTypesEnum.ts)\n",
        "\n",
        "    \n",
        "if series ==2:\n",
        "    noise = 0.5\n",
        "    init_series = s2(10000,noise= noise,sign =1)\n",
        "    ts = init_series['ts'][start:end]\n",
        "    trend = init_series['trend'][start:end]\n",
        "    ts_test = init_series['ts'][end:end+horizon]\n",
        "    trend_test = init_series['trend'][end:end+horizon]\n",
        "    idx = np.array( range(len(np.array(ts))) )\n",
        "    train_input = InputData(idx=idx,\n",
        "                            features=ts,\n",
        "                            target=ts,\n",
        "                            task=task,\n",
        "                            data_type=DataTypesEnum.ts)\n",
        "    \n",
        "if series ==3:\n",
        "    noise = 0.5\n",
        "    init_series = s3(10000,noise= noise,sign =1)\n",
        "    ts = init_series['ts'][start:end]\n",
        "    trend = init_series['trend'][start:end]\n",
        "    ts_test = init_series['ts'][end:end+horizon]\n",
        "    trend_test = init_series['trend'][end:end+horizon]\n",
        "    idx = np.array( range(len(np.array(ts))) )\n",
        "    train_input = InputData(idx=idx,\n",
        "                            features=ts,\n",
        "                            target=ts,\n",
        "                            task=task,\n",
        "                            data_type=DataTypesEnum.ts)\n",
        "    \n",
        "if series ==4:\n",
        "    noise = 0.5\n",
        "    init_series = s4(10000,noise= noise,sign =1)\n",
        "    ts = init_series['ts'][start:end]\n",
        "    trend = init_series['trend'][start:end]\n",
        "    ts_test = init_series['ts'][end:end+horizon]\n",
        "    trend_test = init_series['trend'][end:end+horizon]\n",
        "    idx = np.array( range(len(np.array(ts))) )\n",
        "    train_input = InputData(idx=idx,\n",
        "                            features=ts,\n",
        "                            target=ts,\n",
        "                            task=task,\n",
        "                            data_type=DataTypesEnum.ts)\n",
        "  \n",
        "if series ==5:\n",
        "    noise = 0.5\n",
        "    init_series = s5(10000,noise= noise,sign =1)\n",
        "    ts = init_series['ts'][start:end]\n",
        "    trend = init_series['trend'][start:end]\n",
        "    ts_test = init_series['ts'][end:end+horizon]\n",
        "    trend_test = init_series['trend'][end:end+horizon]\n",
        "    idx = np.array( range(len(np.array(ts))) )\n",
        "    train_input = InputData(idx=idx,\n",
        "                            features=ts,\n",
        "                            target=ts,\n",
        "                            task=task,\n",
        "                            data_type=DataTypesEnum.ts)\n",
        "    \n",
        "\n",
        "if series ==6:\n",
        "    noise = 0.5\n",
        "    init_series = s6(10000,noise= noise,sign =1)\n",
        "    ts = init_series['ts'][start:end]\n",
        "    trend = init_series['trend'][start:end]\n",
        "    ts_test = init_series['ts'][end:end+horizon]\n",
        "    trend_test = init_series['trend'][end:end+horizon]\n",
        "    idx = np.array( range(len(np.array(ts))) )\n",
        "    train_input = InputData(idx=idx,\n",
        "                            features=ts,\n",
        "                            target=ts,\n",
        "                            task=task,\n",
        "                            data_type=DataTypesEnum.ts)\n",
        "    \n",
        "\n",
        "train_data, test_data = train_test_data_setup(train_input, validation_blocks=2)\n",
        "\n",
        "# init model for the time series forecasting\n",
        "model = Fedot(problem='ts_forecasting',\n",
        "                  safe_mode = True,\n",
        "                  task_params=task.task_params,\n",
        "                  timeout=3,\n",
        "                  n_jobs=1,\n",
        "                  cv_folds=2, \n",
        "                  validation_blocks=2, \n",
        "                  preset='ts',\n",
        "                  with_tuning = False,\n",
        "                  max_depth = 5,\n",
        "                  num_of_generations  =3 ,\n",
        "                  logging_level = 10,\n",
        "                 show_progress =True)"
      ],
      "metadata": {
        "id": "99HaD_Mzj2sc"
      },
      "execution_count": 63,
      "outputs": []
    },
    {
      "cell_type": "code",
      "source": [
        "pipeline = model.fit(train_data)\n",
        "forecast = model.forecast(test_data)\n",
        "pipeline.show()"
      ],
      "metadata": {
        "colab": {
          "base_uri": "https://localhost:8080/",
          "height": 1000
        },
        "id": "PXM7Phihw1GU",
        "outputId": "8bdd506c-08bb-45dd-c648-a94b574dc2c6"
      },
      "execution_count": 64,
      "outputs": [
        {
          "output_type": "stream",
          "name": "stderr",
          "text": [
            "INFO:root:AssumptionsHandler - Initial pipeline fitting started\n"
          ]
        },
        {
          "output_type": "stream",
          "name": "stdout",
          "text": [
            "2022-11-22 13:16:22,661 - AssumptionsHandler - Initial pipeline fitting started\n"
          ]
        },
        {
          "output_type": "stream",
          "name": "stderr",
          "text": [
            "DEBUG:root:SecondaryNode - Trying to fit secondary node with operation: ridge\n"
          ]
        },
        {
          "output_type": "stream",
          "name": "stdout",
          "text": [
            "2022-11-22 13:16:22,668 - SecondaryNode - Trying to fit secondary node with operation: ridge\n"
          ]
        },
        {
          "output_type": "stream",
          "name": "stderr",
          "text": [
            "DEBUG:root:SecondaryNode - Fit all parent nodes in secondary node with operation: ridge\n"
          ]
        },
        {
          "output_type": "stream",
          "name": "stdout",
          "text": [
            "2022-11-22 13:16:22,675 - SecondaryNode - Fit all parent nodes in secondary node with operation: ridge\n"
          ]
        },
        {
          "output_type": "stream",
          "name": "stderr",
          "text": [
            "DEBUG:root:SecondaryNode - Trying to fit secondary node with operation: ridge\n"
          ]
        },
        {
          "output_type": "stream",
          "name": "stdout",
          "text": [
            "2022-11-22 13:16:22,679 - SecondaryNode - Trying to fit secondary node with operation: ridge\n"
          ]
        },
        {
          "output_type": "stream",
          "name": "stderr",
          "text": [
            "DEBUG:root:SecondaryNode - Fit all parent nodes in secondary node with operation: ridge\n"
          ]
        },
        {
          "output_type": "stream",
          "name": "stdout",
          "text": [
            "2022-11-22 13:16:22,683 - SecondaryNode - Fit all parent nodes in secondary node with operation: ridge\n"
          ]
        },
        {
          "output_type": "stream",
          "name": "stderr",
          "text": [
            "DEBUG:root:PrimaryNode - Trying to fit primary node with operation: lagged\n"
          ]
        },
        {
          "output_type": "stream",
          "name": "stdout",
          "text": [
            "2022-11-22 13:16:22,687 - PrimaryNode - Trying to fit primary node with operation: lagged\n"
          ]
        },
        {
          "output_type": "stream",
          "name": "stderr",
          "text": [
            "DEBUG:root:PrimaryNode - Trying to fit primary node with operation: glm\n"
          ]
        },
        {
          "output_type": "stream",
          "name": "stdout",
          "text": [
            "2022-11-22 13:16:22,807 - PrimaryNode - Trying to fit primary node with operation: glm\n"
          ]
        },
        {
          "output_type": "stream",
          "name": "stderr",
          "text": [
            "DEBUG:root:SecondaryNode - Obtain prediction in secondary node with operation: ridge\n"
          ]
        },
        {
          "output_type": "stream",
          "name": "stdout",
          "text": [
            "2022-11-22 13:16:22,937 - SecondaryNode - Obtain prediction in secondary node with operation: ridge\n"
          ]
        },
        {
          "output_type": "stream",
          "name": "stderr",
          "text": [
            "DEBUG:root:SecondaryNode - Fit all parent nodes in secondary node with operation: ridge\n"
          ]
        },
        {
          "output_type": "stream",
          "name": "stdout",
          "text": [
            "2022-11-22 13:16:22,943 - SecondaryNode - Fit all parent nodes in secondary node with operation: ridge\n"
          ]
        },
        {
          "output_type": "stream",
          "name": "stderr",
          "text": [
            "DEBUG:root:SecondaryNode - Obtain prediction in secondary node with operation: ridge\n"
          ]
        },
        {
          "output_type": "stream",
          "name": "stdout",
          "text": [
            "2022-11-22 13:16:22,948 - SecondaryNode - Obtain prediction in secondary node with operation: ridge\n"
          ]
        },
        {
          "output_type": "stream",
          "name": "stderr",
          "text": [
            "DEBUG:root:SecondaryNode - Fit all parent nodes in secondary node with operation: ridge\n"
          ]
        },
        {
          "output_type": "stream",
          "name": "stdout",
          "text": [
            "2022-11-22 13:16:22,951 - SecondaryNode - Fit all parent nodes in secondary node with operation: ridge\n"
          ]
        },
        {
          "output_type": "stream",
          "name": "stderr",
          "text": [
            "DEBUG:root:PrimaryNode - Predict in primary node by operation: lagged\n"
          ]
        },
        {
          "output_type": "stream",
          "name": "stdout",
          "text": [
            "2022-11-22 13:16:22,954 - PrimaryNode - Predict in primary node by operation: lagged\n"
          ]
        },
        {
          "output_type": "stream",
          "name": "stderr",
          "text": [
            "DEBUG:root:PrimaryNode - Predict in primary node by operation: glm\n"
          ]
        },
        {
          "output_type": "stream",
          "name": "stdout",
          "text": [
            "2022-11-22 13:16:22,960 - PrimaryNode - Predict in primary node by operation: glm\n"
          ]
        },
        {
          "output_type": "stream",
          "name": "stderr",
          "text": [
            "INFO:root:AssumptionsHandler - Initial pipeline was fitted successfully\n"
          ]
        },
        {
          "output_type": "stream",
          "name": "stdout",
          "text": [
            "2022-11-22 13:16:22,965 - AssumptionsHandler - Initial pipeline was fitted successfully\n"
          ]
        },
        {
          "output_type": "stream",
          "name": "stderr",
          "text": [
            "CRITICAL:root:ApiComposer - Initial pipeline was fitted in 0.3 sec.\n"
          ]
        },
        {
          "output_type": "stream",
          "name": "stdout",
          "text": [
            "2022-11-22 13:16:22,968 - ApiComposer - Initial pipeline was fitted in 0.3 sec.\n"
          ]
        },
        {
          "output_type": "stream",
          "name": "stderr",
          "text": [
            "CRITICAL:root:ApiComposer - AutoML configured. Parameters tuning: False Time limit: 3 min Set of candidate models: ['pca', 'sparse_lagged', 'lagged', 'arima', 'locf', 'scaling', 'stl_arima', 'linear', 'fast_ica', 'normalization', 'dtreg', 'glm', 'diff_filter', 'adareg', 'smoothing', 'ar', 'ridge', 'polyfit', 'ets', 'sgdr', 'lasso', 'cut', 'gaussian_filter', 'ts_naive_average']\n"
          ]
        },
        {
          "output_type": "stream",
          "name": "stdout",
          "text": [
            "2022-11-22 13:16:22,989 - ApiComposer - AutoML configured. Parameters tuning: False Time limit: 3 min Set of candidate models: ['pca', 'sparse_lagged', 'lagged', 'arima', 'locf', 'scaling', 'stl_arima', 'linear', 'fast_ica', 'normalization', 'dtreg', 'glm', 'diff_filter', 'adareg', 'smoothing', 'ar', 'ridge', 'polyfit', 'ets', 'sgdr', 'lasso', 'cut', 'gaussian_filter', 'ts_naive_average']\n"
          ]
        },
        {
          "output_type": "stream",
          "name": "stderr",
          "text": [
            "CRITICAL:root:ApiComposer - Pipeline composition started.\n"
          ]
        },
        {
          "output_type": "stream",
          "name": "stdout",
          "text": [
            "2022-11-22 13:16:23,010 - ApiComposer - Pipeline composition started.\n"
          ]
        },
        {
          "output_type": "stream",
          "name": "stderr",
          "text": [
            "INFO:root:DataSourceSplitter - K-folds cross validation is applied.\n"
          ]
        },
        {
          "output_type": "stream",
          "name": "stdout",
          "text": [
            "2022-11-22 13:16:23,013 - DataSourceSplitter - K-folds cross validation is applied.\n"
          ]
        },
        {
          "output_type": "stream",
          "name": "stderr",
          "text": [
            "\rGenerations:  33%|███▎      | 1/3 [00:00<?, ?gen/s]INFO:root:MultiprocessingDispatcher - Number of used CPU's: 1\n"
          ]
        },
        {
          "output_type": "stream",
          "name": "stdout",
          "text": [
            "2022-11-22 13:16:23,020 - MultiprocessingDispatcher - Number of used CPU's: 1\n"
          ]
        },
        {
          "output_type": "stream",
          "name": "stderr",
          "text": [
            "INFO:root:EvoGraphOptimizer - Generation num: 1\n"
          ]
        },
        {
          "output_type": "stream",
          "name": "stdout",
          "text": [
            "2022-11-22 13:16:23,778 - EvoGraphOptimizer - Generation num: 1\n"
          ]
        },
        {
          "output_type": "stream",
          "name": "stderr",
          "text": [
            "INFO:root:EvoGraphOptimizer - Best individuals: HallOfFame archive fitness: [{<bound method QualityMetric.get_value of <class 'fedot.core.composer.metrics.RMSE'>>: 1.4317972764174685, <ComplexityMetricsEnum.node_num: 'node_number'>: 0.4}]\n"
          ]
        },
        {
          "output_type": "stream",
          "name": "stdout",
          "text": [
            "2022-11-22 13:16:23,786 - EvoGraphOptimizer - Best individuals: HallOfFame archive fitness: [{<bound method QualityMetric.get_value of <class 'fedot.core.composer.metrics.RMSE'>>: 1.4317972764174685, <ComplexityMetricsEnum.node_num: 'node_number'>: 0.4}]\n"
          ]
        },
        {
          "output_type": "stream",
          "name": "stderr",
          "text": [
            "INFO:root:EvoGraphOptimizer - no improvements for 0 iterations\n"
          ]
        },
        {
          "output_type": "stream",
          "name": "stdout",
          "text": [
            "2022-11-22 13:16:23,791 - EvoGraphOptimizer - no improvements for 0 iterations\n"
          ]
        },
        {
          "output_type": "stream",
          "name": "stderr",
          "text": [
            "INFO:root:EvoGraphOptimizer - spent time: 0.0 min\n"
          ]
        },
        {
          "output_type": "stream",
          "name": "stdout",
          "text": [
            "2022-11-22 13:16:23,795 - EvoGraphOptimizer - spent time: 0.0 min\n"
          ]
        },
        {
          "output_type": "stream",
          "name": "stderr",
          "text": [
            "INFO:root:MultiprocessingDispatcher - Number of used CPU's: 1\n"
          ]
        },
        {
          "output_type": "stream",
          "name": "stdout",
          "text": [
            "2022-11-22 13:16:25,546 - MultiprocessingDispatcher - Number of used CPU's: 1\n"
          ]
        },
        {
          "output_type": "stream",
          "name": "stderr",
          "text": [
            "INFO:root:EvoGraphOptimizer - Generation num: 2\n"
          ]
        },
        {
          "output_type": "stream",
          "name": "stdout",
          "text": [
            "2022-11-22 13:17:14,758 - EvoGraphOptimizer - Generation num: 2\n"
          ]
        },
        {
          "output_type": "stream",
          "name": "stderr",
          "text": [
            "INFO:root:EvoGraphOptimizer - Best individuals: HallOfFame archive fitness: [{<bound method QualityMetric.get_value of <class 'fedot.core.composer.metrics.RMSE'>>: 1.4239013506210805, <ComplexityMetricsEnum.node_num: 'node_number'>: 0.4}]\n"
          ]
        },
        {
          "output_type": "stream",
          "name": "stdout",
          "text": [
            "2022-11-22 13:17:14,771 - EvoGraphOptimizer - Best individuals: HallOfFame archive fitness: [{<bound method QualityMetric.get_value of <class 'fedot.core.composer.metrics.RMSE'>>: 1.4239013506210805, <ComplexityMetricsEnum.node_num: 'node_number'>: 0.4}]\n"
          ]
        },
        {
          "output_type": "stream",
          "name": "stderr",
          "text": [
            "INFO:root:EvoGraphOptimizer - no improvements for 0 iterations\n"
          ]
        },
        {
          "output_type": "stream",
          "name": "stdout",
          "text": [
            "2022-11-22 13:17:14,777 - EvoGraphOptimizer - no improvements for 0 iterations\n"
          ]
        },
        {
          "output_type": "stream",
          "name": "stderr",
          "text": [
            "INFO:root:EvoGraphOptimizer - spent time: 0.9 min\n"
          ]
        },
        {
          "output_type": "stream",
          "name": "stdout",
          "text": [
            "2022-11-22 13:17:14,781 - EvoGraphOptimizer - spent time: 0.9 min\n"
          ]
        },
        {
          "output_type": "stream",
          "name": "stderr",
          "text": [
            "INFO:root:EvoGraphOptimizer - Next population size: 34; max graph depth: 5\n"
          ]
        },
        {
          "output_type": "stream",
          "name": "stdout",
          "text": [
            "2022-11-22 13:17:14,785 - EvoGraphOptimizer - Next population size: 34; max graph depth: 5\n"
          ]
        },
        {
          "output_type": "stream",
          "name": "stderr",
          "text": [
            "INFO:root:MultiprocessingDispatcher - Number of used CPU's: 1\n"
          ]
        },
        {
          "output_type": "stream",
          "name": "stdout",
          "text": [
            "2022-11-22 13:17:15,724 - MultiprocessingDispatcher - Number of used CPU's: 1\n"
          ]
        },
        {
          "output_type": "stream",
          "name": "stderr",
          "text": [
            "WARNING:root:PipelineObjectiveEvaluate - Continuing after pipeline fit error <Can't merge different data types> for graph: ((/n_lagged_{'window_size': 10};)/n_ridge_{};;(/n_lagged_{'window_size': 10};;/n_smoothing_{};;/n_sparse_lagged_{'window_size': 10, 'n_components': 0.5, 'sparse_transform': True, 'use_svd': False};)/n_glm_{'family': 'gaussian', 'link': 'log'};)/n_ridge_{}\n"
          ]
        },
        {
          "output_type": "stream",
          "name": "stdout",
          "text": [
            "2022-11-22 13:17:22,634 - PipelineObjectiveEvaluate - Continuing after pipeline fit error <Can't merge different data types> for graph: ((/n_lagged_{'window_size': 10};)/n_ridge_{};;(/n_lagged_{'window_size': 10};;/n_smoothing_{};;/n_sparse_lagged_{'window_size': 10, 'n_components': 0.5, 'sparse_transform': True, 'use_svd': False};)/n_glm_{'family': 'gaussian', 'link': 'log'};)/n_ridge_{}\n"
          ]
        },
        {
          "output_type": "stream",
          "name": "stderr",
          "text": [
            "WARNING:root:PipelineObjectiveEvaluate - Continuing after pipeline fit error <Can't merge different data types> for graph: ((/n_lagged_{'window_size': 10};)/n_ridge_{};;(/n_lagged_{'window_size': 10};;/n_smoothing_{};;/n_sparse_lagged_{'window_size': 10, 'n_components': 0.5, 'sparse_transform': True, 'use_svd': False};)/n_glm_{'family': 'gaussian', 'link': 'log'};)/n_ridge_{}\n"
          ]
        },
        {
          "output_type": "stream",
          "name": "stdout",
          "text": [
            "2022-11-22 13:17:22,914 - PipelineObjectiveEvaluate - Continuing after pipeline fit error <Can't merge different data types> for graph: ((/n_lagged_{'window_size': 10};)/n_ridge_{};;(/n_lagged_{'window_size': 10};;/n_smoothing_{};;/n_sparse_lagged_{'window_size': 10, 'n_components': 0.5, 'sparse_transform': True, 'use_svd': False};)/n_glm_{'family': 'gaussian', 'link': 'log'};)/n_ridge_{}\n"
          ]
        },
        {
          "output_type": "stream",
          "name": "stderr",
          "text": [
            "INFO:root:EvoGraphOptimizer - Generation num: 3\n"
          ]
        },
        {
          "output_type": "stream",
          "name": "stdout",
          "text": [
            "2022-11-22 13:17:54,123 - EvoGraphOptimizer - Generation num: 3\n"
          ]
        },
        {
          "output_type": "stream",
          "name": "stderr",
          "text": [
            "INFO:root:EvoGraphOptimizer - Best individuals: HallOfFame archive fitness: [{<bound method QualityMetric.get_value of <class 'fedot.core.composer.metrics.RMSE'>>: 1.4239013506210805, <ComplexityMetricsEnum.node_num: 'node_number'>: 0.4}]\n"
          ]
        },
        {
          "output_type": "stream",
          "name": "stdout",
          "text": [
            "2022-11-22 13:17:54,133 - EvoGraphOptimizer - Best individuals: HallOfFame archive fitness: [{<bound method QualityMetric.get_value of <class 'fedot.core.composer.metrics.RMSE'>>: 1.4239013506210805, <ComplexityMetricsEnum.node_num: 'node_number'>: 0.4}]\n"
          ]
        },
        {
          "output_type": "stream",
          "name": "stderr",
          "text": [
            "INFO:root:EvoGraphOptimizer - no improvements for 1 iterations\n"
          ]
        },
        {
          "output_type": "stream",
          "name": "stdout",
          "text": [
            "2022-11-22 13:17:54,138 - EvoGraphOptimizer - no improvements for 1 iterations\n"
          ]
        },
        {
          "output_type": "stream",
          "name": "stderr",
          "text": [
            "INFO:root:EvoGraphOptimizer - spent time: 1.5 min\n"
          ]
        },
        {
          "output_type": "stream",
          "name": "stdout",
          "text": [
            "2022-11-22 13:17:54,148 - EvoGraphOptimizer - spent time: 1.5 min\n"
          ]
        },
        {
          "output_type": "stream",
          "name": "stderr",
          "text": [
            "INFO:root:EvoGraphOptimizer - Next population size: 55; max graph depth: 5\n"
          ]
        },
        {
          "output_type": "stream",
          "name": "stdout",
          "text": [
            "2022-11-22 13:17:54,154 - EvoGraphOptimizer - Next population size: 55; max graph depth: 5\n"
          ]
        },
        {
          "output_type": "stream",
          "name": "stderr",
          "text": [
            "INFO:root:MultiprocessingDispatcher - Number of used CPU's: 1\n"
          ]
        },
        {
          "output_type": "stream",
          "name": "stdout",
          "text": [
            "2022-11-22 13:17:55,480 - MultiprocessingDispatcher - Number of used CPU's: 1\n"
          ]
        },
        {
          "output_type": "stream",
          "name": "stderr",
          "text": [
            "INFO:root:EvoGraphOptimizer - Generation num: 4\n"
          ]
        },
        {
          "output_type": "stream",
          "name": "stdout",
          "text": [
            "2022-11-22 13:18:24,571 - EvoGraphOptimizer - Generation num: 4\n"
          ]
        },
        {
          "output_type": "stream",
          "name": "stderr",
          "text": [
            "INFO:root:EvoGraphOptimizer - Best individuals: HallOfFame archive fitness: [{<bound method QualityMetric.get_value of <class 'fedot.core.composer.metrics.RMSE'>>: 1.423763845819239, <ComplexityMetricsEnum.node_num: 'node_number'>: 0.4}]\n"
          ]
        },
        {
          "output_type": "stream",
          "name": "stdout",
          "text": [
            "2022-11-22 13:18:24,580 - EvoGraphOptimizer - Best individuals: HallOfFame archive fitness: [{<bound method QualityMetric.get_value of <class 'fedot.core.composer.metrics.RMSE'>>: 1.423763845819239, <ComplexityMetricsEnum.node_num: 'node_number'>: 0.4}]\n"
          ]
        },
        {
          "output_type": "stream",
          "name": "stderr",
          "text": [
            "INFO:root:EvoGraphOptimizer - no improvements for 0 iterations\n"
          ]
        },
        {
          "output_type": "stream",
          "name": "stdout",
          "text": [
            "2022-11-22 13:18:24,587 - EvoGraphOptimizer - no improvements for 0 iterations\n"
          ]
        },
        {
          "output_type": "stream",
          "name": "stderr",
          "text": [
            "INFO:root:EvoGraphOptimizer - spent time: 2.0 min\n"
          ]
        },
        {
          "output_type": "stream",
          "name": "stdout",
          "text": [
            "2022-11-22 13:18:24,591 - EvoGraphOptimizer - spent time: 2.0 min\n"
          ]
        },
        {
          "output_type": "stream",
          "name": "stderr",
          "text": [
            "CRITICAL:root:GroupedCondition - Optimisation stopped: Max number of generations reached\n"
          ]
        },
        {
          "output_type": "stream",
          "name": "stdout",
          "text": [
            "2022-11-22 13:18:24,594 - GroupedCondition - Optimisation stopped: Max number of generations reached\n"
          ]
        },
        {
          "output_type": "stream",
          "name": "stderr",
          "text": [
            "\rGenerations:  33%|███▎      | 1/3 [02:01<?, ?gen/s]\n",
            "INFO:root:OptimisationTimer - Composition time: 2.026 min\n"
          ]
        },
        {
          "output_type": "stream",
          "name": "stdout",
          "text": [
            "2022-11-22 13:18:24,599 - OptimisationTimer - Composition time: 2.026 min\n"
          ]
        },
        {
          "output_type": "stream",
          "name": "stderr",
          "text": [
            "INFO:root:GPComposer - GP composition finished\n"
          ]
        },
        {
          "output_type": "stream",
          "name": "stdout",
          "text": [
            "2022-11-22 13:18:24,605 - GPComposer - GP composition finished\n"
          ]
        },
        {
          "output_type": "stream",
          "name": "stderr",
          "text": [
            "CRITICAL:root:ApiComposer - Model generation finished\n"
          ]
        },
        {
          "output_type": "stream",
          "name": "stdout",
          "text": [
            "2022-11-22 13:18:24,859 - ApiComposer - Model generation finished\n"
          ]
        },
        {
          "output_type": "stream",
          "name": "stderr",
          "text": [
            "CRITICAL:root:FEDOT logger - Final pipeline was fitted\n"
          ]
        },
        {
          "output_type": "stream",
          "name": "stdout",
          "text": [
            "2022-11-22 13:18:25,066 - FEDOT logger - Final pipeline was fitted\n"
          ]
        },
        {
          "output_type": "stream",
          "name": "stderr",
          "text": [
            "CRITICAL:root:FEDOT logger - Final pipeline: {'depth': 3, 'length': 4, 'nodes': [ridge, glm, ridge, lagged]}\n"
          ]
        },
        {
          "output_type": "stream",
          "name": "stdout",
          "text": [
            "2022-11-22 13:18:25,079 - FEDOT logger - Final pipeline: {'depth': 3, 'length': 4, 'nodes': [ridge, glm, ridge, lagged]}\n"
          ]
        },
        {
          "output_type": "stream",
          "name": "stderr",
          "text": [
            "DEBUG:root:SecondaryNode - Obtain prediction in secondary node with operation: ridge\n"
          ]
        },
        {
          "output_type": "stream",
          "name": "stdout",
          "text": [
            "2022-11-22 13:18:25,087 - SecondaryNode - Obtain prediction in secondary node with operation: ridge\n"
          ]
        },
        {
          "output_type": "stream",
          "name": "stderr",
          "text": [
            "DEBUG:root:SecondaryNode - Fit all parent nodes in secondary node with operation: ridge\n"
          ]
        },
        {
          "output_type": "stream",
          "name": "stdout",
          "text": [
            "2022-11-22 13:18:25,097 - SecondaryNode - Fit all parent nodes in secondary node with operation: ridge\n"
          ]
        },
        {
          "output_type": "stream",
          "name": "stderr",
          "text": [
            "DEBUG:root:SecondaryNode - Obtain prediction in secondary node with operation: ridge\n"
          ]
        },
        {
          "output_type": "stream",
          "name": "stdout",
          "text": [
            "2022-11-22 13:18:25,109 - SecondaryNode - Obtain prediction in secondary node with operation: ridge\n"
          ]
        },
        {
          "output_type": "stream",
          "name": "stderr",
          "text": [
            "DEBUG:root:SecondaryNode - Fit all parent nodes in secondary node with operation: ridge\n"
          ]
        },
        {
          "output_type": "stream",
          "name": "stdout",
          "text": [
            "2022-11-22 13:18:25,123 - SecondaryNode - Fit all parent nodes in secondary node with operation: ridge\n"
          ]
        },
        {
          "output_type": "stream",
          "name": "stderr",
          "text": [
            "DEBUG:root:PrimaryNode - Predict in primary node by operation: lagged\n"
          ]
        },
        {
          "output_type": "stream",
          "name": "stdout",
          "text": [
            "2022-11-22 13:18:25,136 - PrimaryNode - Predict in primary node by operation: lagged\n"
          ]
        },
        {
          "output_type": "stream",
          "name": "stderr",
          "text": [
            "DEBUG:root:PrimaryNode - Predict in primary node by operation: glm\n"
          ]
        },
        {
          "output_type": "stream",
          "name": "stdout",
          "text": [
            "2022-11-22 13:18:25,147 - PrimaryNode - Predict in primary node by operation: glm\n"
          ]
        },
        {
          "output_type": "stream",
          "name": "stderr",
          "text": [
            "WARNING:root:OperationTypesRepository - Operation lagged not found in the repository\n"
          ]
        },
        {
          "output_type": "stream",
          "name": "stdout",
          "text": [
            "2022-11-22 13:18:25,202 - OperationTypesRepository - Operation lagged not found in the repository\n"
          ]
        },
        {
          "output_type": "display_data",
          "data": {
            "text/plain": [
              "<Figure size 2100x2100 with 1 Axes>"
            ],
            "image/png": "[encoded data removed]"
          },
          "metadata": {}
        }
      ]
    },
    {
      "cell_type": "code",
      "source": [
        "import sys\n",
        "from sklearn.metrics import mean_squared_error as mse\n",
        "from fedot.core.composer.metrics import QualityMetric\n",
        "from fedot.core.data.data import InputData, OutputData\n",
        "from fedot.core.repository.tasks import TsForecastingParams\n",
        "\n",
        "def quantile_loss(y_true, y_pred, quantile=0.5):\n",
        "    res = np.array(y_true)-np.array(y_pred)\n",
        "    metrics=np.empty(shape = [0])\n",
        "    for x in res:\n",
        "        if x>=0:\n",
        "            metrics = np.append(metrics, quantile*x)\n",
        "        else:\n",
        "            metrics = np.append(metrics,(quantile-1)*x)\n",
        "    return np.mean(metrics)\n",
        "\n",
        "class Quantile_Loss_1(QualityMetric):\n",
        "    default_value = sys.maxsize\n",
        "\n",
        "    @staticmethod\n",
        "    def metric(reference: InputData, predicted: OutputData) -> float:\n",
        "        value = quantile_loss(reference.target, predicted.predict,quantile = 0.1)\n",
        "        return value\n",
        "\n",
        "\n",
        "class Quantile_Loss_9(QualityMetric):\n",
        "    default_value = sys.maxsize\n",
        "\n",
        "    @staticmethod\n",
        "    def metric(reference: InputData, predicted: OutputData) -> float:\n",
        "        value = quantile_loss(reference.target, predicted.predict,quantile = 0.9)\n",
        "        return value"
      ],
      "metadata": {
        "id": "RjNmHvqaB2f8"
      },
      "execution_count": 65,
      "outputs": []
    },
    {
      "cell_type": "code",
      "source": [
        "fig,ax  = plt.subplots()\n",
        "fig.set(figwidth = 15,figheight = 7)\n",
        "test_range = range(len(ts), len(ts)+len(ts_test))\n",
        "test_range = range(end,end+horizon)\n",
        "train_range = range(start,end)\n",
        "total_range = range(start,end+horizon)\n",
        "\n",
        "ax.plot(train_range,ts, label = 'train ts')\n",
        "if trend is not None:\n",
        "    ax.plot(train_range, trend,color = 'green',label = 'trend')\n",
        "if trend_test is not None:\n",
        "    ax.plot(test_range, trend_test,color = 'green')\n",
        "ax.plot(test_range,forecast, color = 'red', label = 'forecast')\n",
        "ax.plot(test_range, ts_test,color = 'black', label = 'test ts')\n",
        "plt.legend();\n",
        "\n",
        "fig1,ax1 = plt.subplots()\n",
        "fig1.set(figwidth = 15,figheight = 7)\n",
        "\n",
        "if trend_test is not None:\n",
        "    ax1.plot(test_range, trend_test,color = 'green')\n",
        "ax1.plot(test_range,forecast, color = 'red', label = 'forecast')\n",
        "ax1.plot(test_range, ts_test,color = 'black', label = 'test ts')\n",
        "plt.legend();"
      ],
      "metadata": {
        "colab": {
          "base_uri": "https://localhost:8080/",
          "height": 843
        },
        "id": "2Fl-x0hYk-hv",
        "outputId": "9687b60b-b33d-4cb3-972f-75e2395c9c39"
      },
      "execution_count": 66,
      "outputs": [
        {
          "output_type": "display_data",
          "data": {
            "text/plain": [
              "<Figure size 1080x504 with 1 Axes>"
            ],
            "image/png": "[encoded data removed]"
          },
          "metadata": {
            "needs_background": "light"
          }
        },
        {
          "output_type": "display_data",
          "data": {
            "text/plain": [
              "<Figure size 1080x504 with 1 Axes>"
            ],
            "image/png": "[encoded data removed]"
          },
          "metadata": {
            "needs_background": "light"
          }
        }
      ]
    },
    {
      "cell_type": "code",
      "source": [
        "#importing for tuning\n",
        "from fedot.core.optimisers.adapters import PipelineAdapter\n",
        "from fedot.core.pipelines.tuning.tuner_builder import TunerBuilder\n",
        "from fedot.core.repository.quality_metrics_repository import RegressionMetricsEnum\n",
        "from fedot.core.pipelines.tuning.tuner_interface import HyperoptTuner\n",
        "from fedot.core.pipelines.tuning.unified import PipelineTuner\n",
        "from fedot.core.optimisers.composer_requirements import ComposerRequirements\n",
        "import datetime\n",
        "\n",
        "from fedot.core.repository.quality_metrics_repository import RegressionMetricsEnum\n",
        "\n",
        "#these parameters are the same for both tuners below\n",
        "task = Task(TaskTypesEnum.ts_forecasting,TsForecastingParams(forecast_length=horizon))\n",
        "composer_requirements = ComposerRequirements()\n",
        "composer_requirements.validation_blocks = 2\n",
        "composer_requirements.n_jobs= -1\n",
        "composer_requirements.show_progress = True\n",
        "\n",
        "#this tuner will be used to create lower confidence interval\n",
        "low_tuner = TunerBuilder(task = task) \\\n",
        "         .with_tuner(PipelineTuner) \\\n",
        "         .with_metric(Quantile_Loss_1.get_value) \\\n",
        "         .with_iterations(10) \\\n",
        "         .with_timeout(datetime.timedelta(minutes=2)) \\\n",
        "         .with_requirements(composer_requirements) \\\n",
        "         .build(train_data)\n",
        "\n",
        "#this tuner will be used to create uppper confidence interval\n",
        "up_tuner = TunerBuilder(task = task) \\\n",
        "         .with_tuner(PipelineTuner) \\\n",
        "         .with_metric(Quantile_Loss_9.get_value) \\\n",
        "         .with_iterations(10) \\\n",
        "         .with_timeout(datetime.timedelta(minutes=2)) \\\n",
        "         .with_requirements(composer_requirements) \\\n",
        "         .build(train_data)"
      ],
      "metadata": {
        "id": "NNRl8s3ZlJnV",
        "colab": {
          "base_uri": "https://localhost:8080/"
        },
        "outputId": "850061db-20ca-48fb-d84f-a27ae56c74cf"
      },
      "execution_count": 67,
      "outputs": [
        {
          "output_type": "stream",
          "name": "stderr",
          "text": [
            "INFO:root:DataSourceSplitter - Hold out validation is applied.\n"
          ]
        },
        {
          "output_type": "stream",
          "name": "stdout",
          "text": [
            "2022-11-22 13:19:07,937 - DataSourceSplitter - Hold out validation is applied.\n"
          ]
        },
        {
          "output_type": "stream",
          "name": "stderr",
          "text": [
            "INFO:root:DataSourceSplitter - Hold out validation is applied.\n"
          ]
        },
        {
          "output_type": "stream",
          "name": "stdout",
          "text": [
            "2022-11-22 13:19:07,947 - DataSourceSplitter - Hold out validation is applied.\n"
          ]
        }
      ]
    },
    {
      "cell_type": "code",
      "source": [
        "def quantile_maker(quantile,arrays):\n",
        "    number_arrays = len(arrays)\n",
        "    l = len(arrays[0])\n",
        "    up = []\n",
        "    low = []\n",
        "    for i in range(l):\n",
        "        x = np.array([arrays[j][i] for j in range(number_arrays)])\n",
        "        q_up = np.quantile(x, 1-quantile)\n",
        "        up.append(q_up)\n",
        "        q_low = np.quantile(x,quantile)\n",
        "        low.append(q_low)\n",
        "    up = np.array(up)\n",
        "    low = np.array(low)\n",
        "    return {'up':up,'low':low}\n",
        "\n",
        "def mean_maker(arrays):\n",
        "    number_arrays = len(arrays)\n",
        "    l = len(arrays[0])\n",
        "    average = []\n",
        "    for i in range(l):\n",
        "        x = np.array([arrays[j][i] for j in range(number_arrays)])\n",
        "        average.append(x.mean())\n",
        "    return average\n",
        "\n",
        "def median_maker(arrays):\n",
        "    number_arrays = len(arrays)\n",
        "    l = len(arrays[0])\n",
        "    median = []\n",
        "    for i in range(l):\n",
        "        x = np.array([arrays[j][i] for j in range(number_arrays)])\n",
        "        median.append(np.median(x))\n",
        "    return median\n",
        "\n",
        "def absolute_maker(arrays):\n",
        "    number_arrays = len(arrays)\n",
        "    l = len(arrays[0])\n",
        "    maximum = []\n",
        "    minimum = []\n",
        "    for i in range(l):\n",
        "        x = np.array([arrays[j][i] for j in range(number_arrays)])\n",
        "        maximum.append(np.max(x))\n",
        "        minimum.append(np.min(x))\n",
        "    return {'up':np.array(maximum),'low':np.array(minimum)}\n",
        "\n",
        "from scipy.stats import trim_mean\n",
        "def truncated_mean_maker(arrays, quantile=0.1):\n",
        "    number_arrays = len(arrays)\n",
        "    l = len(arrays[0])\n",
        "    trunc_mean = []\n",
        "    for i in range(l):\n",
        "        x = np.array([arrays[j][i] for j in range(number_arrays)])\n",
        "        trunc_mean.append(trim_mean(x, quantile))\n",
        "    return np.array(trunc_mean)"
      ],
      "metadata": {
        "id": "qQ4OwVwOtph5"
      },
      "execution_count": 68,
      "outputs": []
    },
    {
      "cell_type": "code",
      "source": [
        "def conf_int_maker(model = model,\n",
        "                   train_ts = ts,\n",
        "                   number_models = 10, \n",
        "                   pipelines_show= False):\n",
        "    \"\"\"\n",
        "    model - a fedot model of interest\n",
        "    train_ts - the ts used for training the model\n",
        "    ts_test - the testing series; used for plotting and visualization of the results\n",
        "    number_models - number of models used to create the confidence intervals\n",
        "    regim - type of getting lower and upper confidence intervals from the upper and lower arrays; \n",
        "            default is 'quantile' also avaliable 'average' and 'median', 'absolute_bounds', 'truncated_mean'\n",
        "    plot - boolean parameter indicating wheter to show plot of the forecast and confidence intervals\n",
        "    plot_history - boolean parameter indicating whether to show previous series\n",
        "    \"\"\"\n",
        "    \n",
        "    horizon = model.params.task.task_params.forecast_length\n",
        "    train_data = model.train_data\n",
        "    test_data = model.test_data\n",
        "    forecast = model.predict(test_data)\n",
        "\n",
        "    #4 lines below allow us take the best models\n",
        "    fits = []\n",
        "    for ind in model.history.individuals[-1]:\n",
        "        fits.append(ind.fitness.value)\n",
        "    fits = np.sort(np.array(fits))\n",
        "\n",
        "    #create up and low predictions\n",
        "    up_predictions = []\n",
        "    low_predictions = []\n",
        "    \n",
        "    for ind in model.history.individuals[-1]:\n",
        "        if ind.fitness.value<=fits[number_models]:\n",
        "            pipeline = PipelineAdapter().restore(ind.graph)\n",
        "            if pipelines_show:\n",
        "                pipeline.show()\n",
        "            \n",
        "            #tuning upper confidence interval\n",
        "            tuned_pipeline = up_tuner.tune(pipeline)\n",
        "            tuned_pipeline.fit(train_data)\n",
        "            preds = tuned_pipeline.predict(test_data).predict.ravel()\n",
        "            up_predictions.append(preds)\n",
        "            del tuned_pipeline\n",
        "            \n",
        "            #tuning lower confidence interval\n",
        "            tuned_pipeline = low_tuner.tune(pipeline)\n",
        "            tuned_pipeline.fit(train_data)\n",
        "            preds = tuned_pipeline.predict(test_data).predict.ravel()\n",
        "            low_predictions.append(preds)\n",
        "            del tuned_pipeline\n",
        "    return {'up_predictions':up_predictions, 'low_predictions':low_predictions}"
      ],
      "metadata": {
        "id": "kG1n1Q7Wt1DF"
      },
      "execution_count": 56,
      "outputs": []
    },
    {
      "cell_type": "code",
      "source": [
        "def conf_int_plotting(up_predictions,\n",
        "                      low_predictions,\n",
        "                      horizon=horizon,\n",
        "                      forecast=forecast,\n",
        "                      ts=ts,\n",
        "                      ts_test=ts_test,\n",
        "                      trend_test=trend_test,\n",
        "                      regim = 'quantile',\n",
        "                      plot_history = True,\n",
        "                      plot_up_int = True,\n",
        "                      plot_low_int = True,\n",
        "                      plot_trend = True,\n",
        "                      plot_forecast = True,\n",
        "                      plot_upper_train = True,\n",
        "                      plot_lower_train = True,\n",
        "                      plot_ts_test = True):\n",
        "    if regim == 'quantile':\n",
        "        up_res= quantile_maker(quantile = 0.1, arrays = up_predictions)['up']\n",
        "        low_res= quantile_maker(quantile = 0.1, arrays = low_predictions)['low']\n",
        "    if regim == 'mean':\n",
        "        up_res = mean_maker(arrays = up_predictions)\n",
        "        low_res = mean_maker(arrays = low_predictions)\n",
        "    if regim == 'median':\n",
        "        up_res = median_maker(arrays = up_predictions)\n",
        "        low_res = median_maker(arrays = low_predictions)\n",
        "    if regim == 'absolute_bounds':\n",
        "        up_res = absolute_maker(arrays = up_predictions)['up']\n",
        "        low_res = absolute_maker(arrays = low_predictions)['low']\n",
        "    if regim == 'truncated_mean':\n",
        "        up_res = truncated_mean_maker(arrays = up_predictions)\n",
        "        low_res = truncated_mean_maker(arrays = low_predictions)\n",
        "    \n",
        "    up = np.maximum(up_res,forecast)  \n",
        "    low = np.minimum(low_res,forecast)\n",
        "\n",
        "    r = range(1,horizon+1)\n",
        "    fig,ax = plt.subplots()\n",
        "    fig.set(figwidth = 15,figheight = 7)\n",
        "    for i in range(len(up_predictions)):\n",
        "        if i==0:\n",
        "            if plot_upper_train:\n",
        "                ax.plot(r,up_predictions[i], color = 'yellow',label = 'preds for up train')\n",
        "            if plot_lower_train:\n",
        "                ax.plot(r,low_predictions[i], color = 'pink',label = 'preds for low train')\n",
        "        else:\n",
        "            if plot_upper_train:\n",
        "                ax.plot(r,up_predictions[i], color = 'yellow')\n",
        "            if plot_lower_train:\n",
        "                ax.plot(r,low_predictions[i], color = 'pink')    \n",
        "    if plot_up_int:\n",
        "        ax.plot(r,up, color = 'blue', label  = 'Up',marker= '.')\n",
        "    if plot_low_int:\n",
        "        ax.plot(r,low, color = 'green', label  = 'Low',marker = '.')\n",
        "    if plot_forecast:\n",
        "        ax.plot(r,forecast, color = 'red', label = 'Forecast')\n",
        "    if ts_test is not None:\n",
        "        if plot_ts_test:\n",
        "            ax.plot(r,ts_test,color = 'black', label = 'Actual TS')\n",
        "    if trend_test is not None:\n",
        "        if plot_trend:\n",
        "            ax.plot(r, trend_test, color = 'magenta', label = 'True Trend')\n",
        "    plt.legend()\n",
        "    if plot_history:\n",
        "        fig1,ax1 = plt.subplots()\n",
        "        \n",
        "        fig1.set(figwidth = 15,figheight = 7)\n",
        "       \n",
        "        train_range = range(len(ts))\n",
        "        test_range = range(len(ts),len(ts)+horizon)\n",
        "        \n",
        "        ax1.plot(train_range,ts, color = 'gray',label = 'Train ts')\n",
        "        ax1.plot(test_range, up,color = 'blue', label = 'Up')\n",
        "        ax1.plot(test_range, low,color = 'green', label = 'Low')\n",
        "        ax1.plot(test_range,forecast, color = 'red', label = 'Forecast')\n",
        "        if ts_test is not None:\n",
        "            ax1.plot(test_range, ts_test,color = 'black', label = 'Actual TS')  \n",
        "        if trend_test is not None:\n",
        "            ax1.plot(test_range, trend_test, color = 'magenta', label = 'True Trend')\n",
        "        plt.legend();"
      ],
      "metadata": {
        "id": "SvUS1eNu5yK3"
      },
      "execution_count": 75,
      "outputs": []
    },
    {
      "cell_type": "code",
      "source": [
        "x = conf_int_maker(model = model, number_models = 10,pipelines_show = False)"
      ],
      "metadata": {
        "colab": {
          "base_uri": "https://localhost:8080/"
        },
        "id": "VZrcnhUHlc8G",
        "outputId": "9112b90f-c905-4434-b8b2-6a33e8498d4b"
      },
      "execution_count": 69,
      "outputs": [
        {
          "output_type": "stream",
          "name": "stderr",
          "text": [
            "INFO:root:PipelineTuner - Hyperparameters optimization start\n"
          ]
        },
        {
          "output_type": "stream",
          "name": "stdout",
          "text": [
            "2022-11-22 13:20:07,332 - PipelineTuner - Hyperparameters optimization start\n",
            "  0%|          | 0/10 [00:00<?, ?trial/s, best loss=?]"
          ]
        },
        {
          "output_type": "stream",
          "name": "stderr",
          "text": [
            "INFO:hyperopt.tpe:build_posterior_wrapper took 0.008015 seconds\n"
          ]
        },
        {
          "output_type": "stream",
          "name": "stdout",
          "text": [
            "2022-11-22 13:20:07,564 - build_posterior_wrapper took 0.008015 seconds\n"
          ]
        },
        {
          "output_type": "stream",
          "name": "stderr",
          "text": [
            "INFO:hyperopt.tpe:TPE using 0 trials\n"
          ]
        },
        {
          "output_type": "stream",
          "name": "stdout",
          "text": [
            "2022-11-22 13:20:07,574 - TPE using 0 trials\n",
            " 10%|█         | 1/10 [00:00<00:08,  1.02trial/s, best loss: 4.021060103297611]"
          ]
        },
        {
          "output_type": "stream",
          "name": "stderr",
          "text": [
            "INFO:hyperopt.tpe:build_posterior_wrapper took 0.014534 seconds\n"
          ]
        },
        {
          "output_type": "stream",
          "name": "stdout",
          "text": [
            "2022-11-22 13:20:08,556 - build_posterior_wrapper took 0.014534 seconds\n"
          ]
        },
        {
          "output_type": "stream",
          "name": "stderr",
          "text": [
            "INFO:hyperopt.tpe:TPE using 1/1 trials with best loss 4.021060\n"
          ]
        },
        {
          "output_type": "stream",
          "name": "stdout",
          "text": [
            "2022-11-22 13:20:08,562 - TPE using 1/1 trials with best loss 4.021060\n",
            " 20%|██        | 2/10 [00:02<00:10,  1.26s/trial, best loss: 4.021060103297611]"
          ]
        },
        {
          "output_type": "stream",
          "name": "stderr",
          "text": [
            "INFO:hyperopt.tpe:build_posterior_wrapper took 0.006129 seconds\n"
          ]
        },
        {
          "output_type": "stream",
          "name": "stdout",
          "text": [
            "2022-11-22 13:20:10,012 - build_posterior_wrapper took 0.006129 seconds\n"
          ]
        },
        {
          "output_type": "stream",
          "name": "stderr",
          "text": [
            "INFO:hyperopt.tpe:TPE using 2/2 trials with best loss 4.021060\n"
          ]
        },
        {
          "output_type": "stream",
          "name": "stdout",
          "text": [
            "2022-11-22 13:20:10,027 - TPE using 2/2 trials with best loss 4.021060\n",
            " 30%|███       | 3/10 [00:02<00:06,  1.12trial/s, best loss: 4.021060103297611]"
          ]
        },
        {
          "output_type": "stream",
          "name": "stderr",
          "text": [
            "INFO:hyperopt.tpe:build_posterior_wrapper took 0.005886 seconds\n"
          ]
        },
        {
          "output_type": "stream",
          "name": "stdout",
          "text": [
            "2022-11-22 13:20:10,466 - build_posterior_wrapper took 0.005886 seconds\n"
          ]
        },
        {
          "output_type": "stream",
          "name": "stderr",
          "text": [
            "INFO:hyperopt.tpe:TPE using 3/3 trials with best loss 4.021060\n"
          ]
        },
        {
          "output_type": "stream",
          "name": "stdout",
          "text": [
            "2022-11-22 13:20:10,482 - TPE using 3/3 trials with best loss 4.021060\n",
            " 40%|████      | 4/10 [00:04<00:06,  1.04s/trial, best loss: 2.1817506405707614]"
          ]
        },
        {
          "output_type": "stream",
          "name": "stderr",
          "text": [
            "INFO:hyperopt.tpe:build_posterior_wrapper took 0.005911 seconds\n"
          ]
        },
        {
          "output_type": "stream",
          "name": "stdout",
          "text": [
            "2022-11-22 13:20:11,729 - build_posterior_wrapper took 0.005911 seconds\n"
          ]
        },
        {
          "output_type": "stream",
          "name": "stderr",
          "text": [
            "INFO:hyperopt.tpe:TPE using 4/4 trials with best loss 2.181751\n"
          ]
        },
        {
          "output_type": "stream",
          "name": "stdout",
          "text": [
            "2022-11-22 13:20:11,736 - TPE using 4/4 trials with best loss 2.181751\n",
            " 50%|█████     | 5/10 [00:05<00:05,  1.05s/trial, best loss: 2.1817506405707614]"
          ]
        },
        {
          "output_type": "stream",
          "name": "stderr",
          "text": [
            "INFO:hyperopt.tpe:build_posterior_wrapper took 0.005496 seconds\n"
          ]
        },
        {
          "output_type": "stream",
          "name": "stdout",
          "text": [
            "2022-11-22 13:20:12,786 - build_posterior_wrapper took 0.005496 seconds\n"
          ]
        },
        {
          "output_type": "stream",
          "name": "stderr",
          "text": [
            "INFO:hyperopt.tpe:TPE using 5/5 trials with best loss 2.181751\n"
          ]
        },
        {
          "output_type": "stream",
          "name": "stdout",
          "text": [
            "2022-11-22 13:20:12,800 - TPE using 5/5 trials with best loss 2.181751\n",
            " 60%|██████    | 6/10 [00:06<00:04,  1.11s/trial, best loss: 2.1817506405707614]"
          ]
        },
        {
          "output_type": "stream",
          "name": "stderr",
          "text": [
            "INFO:hyperopt.tpe:build_posterior_wrapper took 0.007028 seconds\n"
          ]
        },
        {
          "output_type": "stream",
          "name": "stdout",
          "text": [
            "2022-11-22 13:20:14,032 - build_posterior_wrapper took 0.007028 seconds\n"
          ]
        },
        {
          "output_type": "stream",
          "name": "stderr",
          "text": [
            "INFO:hyperopt.tpe:TPE using 6/6 trials with best loss 2.181751\n"
          ]
        },
        {
          "output_type": "stream",
          "name": "stdout",
          "text": [
            "2022-11-22 13:20:14,038 - TPE using 6/6 trials with best loss 2.181751\n",
            " 70%|███████   | 7/10 [00:06<00:02,  1.14trial/s, best loss: 0.4957373546204969]"
          ]
        },
        {
          "output_type": "stream",
          "name": "stderr",
          "text": [
            "INFO:hyperopt.tpe:build_posterior_wrapper took 0.006882 seconds\n"
          ]
        },
        {
          "output_type": "stream",
          "name": "stdout",
          "text": [
            "2022-11-22 13:20:14,408 - build_posterior_wrapper took 0.006882 seconds\n"
          ]
        },
        {
          "output_type": "stream",
          "name": "stderr",
          "text": [
            "INFO:hyperopt.tpe:TPE using 7/7 trials with best loss 0.495737\n"
          ]
        },
        {
          "output_type": "stream",
          "name": "stdout",
          "text": [
            "2022-11-22 13:20:14,416 - TPE using 7/7 trials with best loss 0.495737\n",
            " 80%|████████  | 8/10 [00:07<00:01,  1.15trial/s, best loss: 0.471895174950814] "
          ]
        },
        {
          "output_type": "stream",
          "name": "stderr",
          "text": [
            "INFO:hyperopt.tpe:build_posterior_wrapper took 0.006917 seconds\n"
          ]
        },
        {
          "output_type": "stream",
          "name": "stdout",
          "text": [
            "2022-11-22 13:20:15,264 - build_posterior_wrapper took 0.006917 seconds\n"
          ]
        },
        {
          "output_type": "stream",
          "name": "stderr",
          "text": [
            "INFO:hyperopt.tpe:TPE using 8/8 trials with best loss 0.471895\n"
          ]
        },
        {
          "output_type": "stream",
          "name": "stdout",
          "text": [
            "2022-11-22 13:20:15,271 - TPE using 8/8 trials with best loss 0.471895\n",
            " 90%|█████████ | 9/10 [00:08<00:00,  1.03trial/s, best loss: 0.471895174950814]"
          ]
        },
        {
          "output_type": "stream",
          "name": "stderr",
          "text": [
            "INFO:hyperopt.tpe:build_posterior_wrapper took 0.006916 seconds\n"
          ]
        },
        {
          "output_type": "stream",
          "name": "stdout",
          "text": [
            "2022-11-22 13:20:16,471 - build_posterior_wrapper took 0.006916 seconds\n"
          ]
        },
        {
          "output_type": "stream",
          "name": "stderr",
          "text": [
            "INFO:hyperopt.tpe:TPE using 9/9 trials with best loss 0.471895\n"
          ]
        },
        {
          "output_type": "stream",
          "name": "stdout",
          "text": [
            "2022-11-22 13:20:16,485 - TPE using 9/9 trials with best loss 0.471895\n",
            "100%|██████████| 10/10 [00:10<00:00,  1.02s/trial, best loss: 0.3844862077158641]\n"
          ]
        },
        {
          "output_type": "stream",
          "name": "stderr",
          "text": [
            "INFO:root:PipelineTuner - Hyperparameters optimization finished\n"
          ]
        },
        {
          "output_type": "stream",
          "name": "stdout",
          "text": [
            "2022-11-22 13:20:19,198 - PipelineTuner - Hyperparameters optimization finished\n"
          ]
        },
        {
          "output_type": "stream",
          "name": "stderr",
          "text": [
            "INFO:root:PipelineTuner - Return init pipeline due to the fact that obtained metric 0.384 worse than initial (+ 5% deviation) 0.220\n"
          ]
        },
        {
          "output_type": "stream",
          "name": "stdout",
          "text": [
            "2022-11-22 13:20:19,219 - PipelineTuner - Return init pipeline due to the fact that obtained metric 0.384 worse than initial (+ 5% deviation) 0.220\n"
          ]
        },
        {
          "output_type": "stream",
          "name": "stderr",
          "text": [
            "INFO:root:PipelineTuner - Hyperparameters optimization start\n"
          ]
        },
        {
          "output_type": "stream",
          "name": "stdout",
          "text": [
            "2022-11-22 13:20:19,535 - PipelineTuner - Hyperparameters optimization start\n",
            "  0%|          | 0/10 [00:00<?, ?trial/s, best loss=?]"
          ]
        },
        {
          "output_type": "stream",
          "name": "stderr",
          "text": [
            "INFO:hyperopt.tpe:build_posterior_wrapper took 0.005890 seconds\n"
          ]
        },
        {
          "output_type": "stream",
          "name": "stdout",
          "text": [
            "2022-11-22 13:20:20,755 - build_posterior_wrapper took 0.005890 seconds\n"
          ]
        },
        {
          "output_type": "stream",
          "name": "stderr",
          "text": [
            "INFO:hyperopt.tpe:TPE using 0 trials\n"
          ]
        },
        {
          "output_type": "stream",
          "name": "stdout",
          "text": [
            "2022-11-22 13:20:20,768 - TPE using 0 trials\n",
            " 10%|█         | 1/10 [00:01<00:09,  1.09s/trial, best loss: 0.9595221702799006]"
          ]
        },
        {
          "output_type": "stream",
          "name": "stderr",
          "text": [
            "INFO:hyperopt.tpe:build_posterior_wrapper took 0.010173 seconds\n"
          ]
        },
        {
          "output_type": "stream",
          "name": "stdout",
          "text": [
            "2022-11-22 13:20:21,854 - build_posterior_wrapper took 0.010173 seconds\n"
          ]
        },
        {
          "output_type": "stream",
          "name": "stderr",
          "text": [
            "INFO:hyperopt.tpe:TPE using 1/1 trials with best loss 0.959522\n"
          ]
        },
        {
          "output_type": "stream",
          "name": "stdout",
          "text": [
            "2022-11-22 13:20:21,866 - TPE using 1/1 trials with best loss 0.959522\n",
            " 20%|██        | 2/10 [00:01<00:05,  1.59trial/s, best loss: 0.9595221702799006]"
          ]
        },
        {
          "output_type": "stream",
          "name": "stderr",
          "text": [
            "INFO:hyperopt.tpe:build_posterior_wrapper took 0.006753 seconds\n"
          ]
        },
        {
          "output_type": "stream",
          "name": "stdout",
          "text": [
            "2022-11-22 13:20:22,154 - build_posterior_wrapper took 0.006753 seconds\n"
          ]
        },
        {
          "output_type": "stream",
          "name": "stderr",
          "text": [
            "INFO:hyperopt.tpe:TPE using 2/2 trials with best loss 0.959522\n"
          ]
        },
        {
          "output_type": "stream",
          "name": "stdout",
          "text": [
            "2022-11-22 13:20:22,163 - TPE using 2/2 trials with best loss 0.959522\n",
            " 30%|███       | 3/10 [00:01<00:03,  1.93trial/s, best loss: 0.9276203615558231]"
          ]
        },
        {
          "output_type": "stream",
          "name": "stderr",
          "text": [
            "INFO:hyperopt.tpe:build_posterior_wrapper took 0.006070 seconds\n"
          ]
        },
        {
          "output_type": "stream",
          "name": "stdout",
          "text": [
            "2022-11-22 13:20:22,539 - build_posterior_wrapper took 0.006070 seconds\n"
          ]
        },
        {
          "output_type": "stream",
          "name": "stderr",
          "text": [
            "INFO:hyperopt.tpe:TPE using 3/3 trials with best loss 0.927620\n"
          ]
        },
        {
          "output_type": "stream",
          "name": "stdout",
          "text": [
            "2022-11-22 13:20:22,551 - TPE using 3/3 trials with best loss 0.927620\n",
            " 40%|████      | 4/10 [00:03<00:05,  1.08trial/s, best loss: 0.9276203615558231]"
          ]
        },
        {
          "output_type": "stream",
          "name": "stderr",
          "text": [
            "INFO:hyperopt.tpe:build_posterior_wrapper took 0.006087 seconds\n"
          ]
        },
        {
          "output_type": "stream",
          "name": "stdout",
          "text": [
            "2022-11-22 13:20:24,090 - build_posterior_wrapper took 0.006087 seconds\n"
          ]
        },
        {
          "output_type": "stream",
          "name": "stderr",
          "text": [
            "INFO:hyperopt.tpe:TPE using 4/4 trials with best loss 0.927620\n"
          ]
        },
        {
          "output_type": "stream",
          "name": "stdout",
          "text": [
            "2022-11-22 13:20:24,106 - TPE using 4/4 trials with best loss 0.927620\n",
            " 50%|█████     | 5/10 [00:03<00:03,  1.41trial/s, best loss: 0.9276203615558231]"
          ]
        },
        {
          "output_type": "stream",
          "name": "stderr",
          "text": [
            "INFO:hyperopt.tpe:build_posterior_wrapper took 0.013549 seconds\n"
          ]
        },
        {
          "output_type": "stream",
          "name": "stdout",
          "text": [
            "2022-11-22 13:20:24,420 - build_posterior_wrapper took 0.013549 seconds\n"
          ]
        },
        {
          "output_type": "stream",
          "name": "stderr",
          "text": [
            "INFO:hyperopt.tpe:TPE using 5/5 trials with best loss 0.927620\n"
          ]
        },
        {
          "output_type": "stream",
          "name": "stdout",
          "text": [
            "2022-11-22 13:20:24,431 - TPE using 5/5 trials with best loss 0.927620\n",
            " 60%|██████    | 6/10 [00:04<00:02,  1.42trial/s, best loss: 0.3614406855385003]"
          ]
        },
        {
          "output_type": "stream",
          "name": "stderr",
          "text": [
            "INFO:hyperopt.tpe:build_posterior_wrapper took 0.005625 seconds\n"
          ]
        },
        {
          "output_type": "stream",
          "name": "stdout",
          "text": [
            "2022-11-22 13:20:25,109 - build_posterior_wrapper took 0.005625 seconds\n"
          ]
        },
        {
          "output_type": "stream",
          "name": "stderr",
          "text": [
            "INFO:hyperopt.tpe:TPE using 6/6 trials with best loss 0.361441\n"
          ]
        },
        {
          "output_type": "stream",
          "name": "stdout",
          "text": [
            "2022-11-22 13:20:25,119 - TPE using 6/6 trials with best loss 0.361441\n",
            " 70%|███████   | 7/10 [00:04<00:01,  1.54trial/s, best loss: 0.3614406855385003]"
          ]
        },
        {
          "output_type": "stream",
          "name": "stderr",
          "text": [
            "INFO:hyperopt.tpe:build_posterior_wrapper took 0.006414 seconds\n"
          ]
        },
        {
          "output_type": "stream",
          "name": "stdout",
          "text": [
            "2022-11-22 13:20:25,642 - build_posterior_wrapper took 0.006414 seconds\n"
          ]
        },
        {
          "output_type": "stream",
          "name": "stderr",
          "text": [
            "INFO:hyperopt.tpe:TPE using 7/7 trials with best loss 0.361441\n"
          ]
        },
        {
          "output_type": "stream",
          "name": "stdout",
          "text": [
            "2022-11-22 13:20:25,649 - TPE using 7/7 trials with best loss 0.361441\n",
            " 80%|████████  | 8/10 [00:05<00:01,  1.66trial/s, best loss: 0.3614406855385003]"
          ]
        },
        {
          "output_type": "stream",
          "name": "stderr",
          "text": [
            "INFO:hyperopt.tpe:build_posterior_wrapper took 0.014664 seconds\n"
          ]
        },
        {
          "output_type": "stream",
          "name": "stdout",
          "text": [
            "2022-11-22 13:20:26,158 - build_posterior_wrapper took 0.014664 seconds\n"
          ]
        },
        {
          "output_type": "stream",
          "name": "stderr",
          "text": [
            "INFO:hyperopt.tpe:TPE using 8/8 trials with best loss 0.361441\n"
          ]
        },
        {
          "output_type": "stream",
          "name": "stdout",
          "text": [
            "2022-11-22 13:20:26,166 - TPE using 8/8 trials with best loss 0.361441\n",
            " 90%|█████████ | 9/10 [00:06<00:00,  1.27trial/s, best loss: 0.3614406855385003]"
          ]
        },
        {
          "output_type": "stream",
          "name": "stderr",
          "text": [
            "INFO:hyperopt.tpe:build_posterior_wrapper took 0.005708 seconds\n"
          ]
        },
        {
          "output_type": "stream",
          "name": "stdout",
          "text": [
            "2022-11-22 13:20:27,337 - build_posterior_wrapper took 0.005708 seconds\n"
          ]
        },
        {
          "output_type": "stream",
          "name": "stderr",
          "text": [
            "INFO:hyperopt.tpe:TPE using 9/9 trials with best loss 0.361441\n"
          ]
        },
        {
          "output_type": "stream",
          "name": "stdout",
          "text": [
            "2022-11-22 13:20:27,354 - TPE using 9/9 trials with best loss 0.361441\n",
            "100%|██████████| 10/10 [00:06<00:00,  1.45trial/s, best loss: 0.3614406855385003]\n"
          ]
        },
        {
          "output_type": "stream",
          "name": "stderr",
          "text": [
            "INFO:root:PipelineTuner - Hyperparameters optimization finished\n"
          ]
        },
        {
          "output_type": "stream",
          "name": "stdout",
          "text": [
            "2022-11-22 13:20:28,421 - PipelineTuner - Hyperparameters optimization finished\n"
          ]
        },
        {
          "output_type": "stream",
          "name": "stderr",
          "text": [
            "INFO:root:PipelineTuner - Return tuned pipeline due to the fact that obtained metric 0.361 equal or better than initial (+ 5% deviation) 0.370\n"
          ]
        },
        {
          "output_type": "stream",
          "name": "stdout",
          "text": [
            "2022-11-22 13:20:28,430 - PipelineTuner - Return tuned pipeline due to the fact that obtained metric 0.361 equal or better than initial (+ 5% deviation) 0.370\n"
          ]
        },
        {
          "output_type": "stream",
          "name": "stderr",
          "text": [
            "INFO:root:PipelineTuner - Hyperparameters optimization start\n"
          ]
        },
        {
          "output_type": "stream",
          "name": "stdout",
          "text": [
            "2022-11-22 13:20:29,080 - PipelineTuner - Hyperparameters optimization start\n",
            "  0%|          | 0/10 [00:00<?, ?trial/s, best loss=?]"
          ]
        },
        {
          "output_type": "stream",
          "name": "stderr",
          "text": [
            "INFO:hyperopt.tpe:build_posterior_wrapper took 0.005690 seconds\n"
          ]
        },
        {
          "output_type": "stream",
          "name": "stdout",
          "text": [
            "2022-11-22 13:20:29,335 - build_posterior_wrapper took 0.005690 seconds\n"
          ]
        },
        {
          "output_type": "stream",
          "name": "stderr",
          "text": [
            "INFO:hyperopt.tpe:TPE using 0 trials\n"
          ]
        },
        {
          "output_type": "stream",
          "name": "stdout",
          "text": [
            "2022-11-22 13:20:29,341 - TPE using 0 trials\n",
            " 10%|█         | 1/10 [00:00<00:04,  1.80trial/s, best loss: 0.40026772982640396]"
          ]
        },
        {
          "output_type": "stream",
          "name": "stderr",
          "text": [
            "INFO:hyperopt.tpe:build_posterior_wrapper took 0.005543 seconds\n"
          ]
        },
        {
          "output_type": "stream",
          "name": "stdout",
          "text": [
            "2022-11-22 13:20:29,892 - build_posterior_wrapper took 0.005543 seconds\n"
          ]
        },
        {
          "output_type": "stream",
          "name": "stderr",
          "text": [
            "INFO:hyperopt.tpe:TPE using 1/1 trials with best loss 0.400268\n"
          ]
        },
        {
          "output_type": "stream",
          "name": "stdout",
          "text": [
            "2022-11-22 13:20:29,902 - TPE using 1/1 trials with best loss 0.400268\n",
            " 20%|██        | 2/10 [00:01<00:05,  1.52trial/s, best loss: 0.40026772982640396]"
          ]
        },
        {
          "output_type": "stream",
          "name": "stderr",
          "text": [
            "INFO:hyperopt.tpe:build_posterior_wrapper took 0.005303 seconds\n"
          ]
        },
        {
          "output_type": "stream",
          "name": "stdout",
          "text": [
            "2022-11-22 13:20:30,627 - build_posterior_wrapper took 0.005303 seconds\n"
          ]
        },
        {
          "output_type": "stream",
          "name": "stderr",
          "text": [
            "INFO:hyperopt.tpe:TPE using 2/2 trials with best loss 0.400268\n"
          ]
        },
        {
          "output_type": "stream",
          "name": "stdout",
          "text": [
            "2022-11-22 13:20:30,643 - TPE using 2/2 trials with best loss 0.400268\n",
            " 30%|███       | 3/10 [00:01<00:03,  1.85trial/s, best loss: 0.29276525240605616]"
          ]
        },
        {
          "output_type": "stream",
          "name": "stderr",
          "text": [
            "INFO:hyperopt.tpe:build_posterior_wrapper took 0.005024 seconds\n"
          ]
        },
        {
          "output_type": "stream",
          "name": "stdout",
          "text": [
            "2022-11-22 13:20:31,024 - build_posterior_wrapper took 0.005024 seconds\n"
          ]
        },
        {
          "output_type": "stream",
          "name": "stderr",
          "text": [
            "INFO:hyperopt.tpe:TPE using 3/3 trials with best loss 0.292765\n"
          ]
        },
        {
          "output_type": "stream",
          "name": "stdout",
          "text": [
            "2022-11-22 13:20:31,031 - TPE using 3/3 trials with best loss 0.292765\n",
            " 40%|████      | 4/10 [00:01<00:02,  2.26trial/s, best loss: 0.29276525240605616]"
          ]
        },
        {
          "output_type": "stream",
          "name": "stderr",
          "text": [
            "INFO:hyperopt.tpe:build_posterior_wrapper took 0.006185 seconds\n"
          ]
        },
        {
          "output_type": "stream",
          "name": "stdout",
          "text": [
            "2022-11-22 13:20:31,316 - build_posterior_wrapper took 0.006185 seconds\n"
          ]
        },
        {
          "output_type": "stream",
          "name": "stderr",
          "text": [
            "INFO:hyperopt.tpe:TPE using 4/4 trials with best loss 0.292765\n"
          ]
        },
        {
          "output_type": "stream",
          "name": "stdout",
          "text": [
            "2022-11-22 13:20:31,326 - TPE using 4/4 trials with best loss 0.292765\n",
            " 50%|█████     | 5/10 [00:03<00:03,  1.37trial/s, best loss: 0.29276525240605616]"
          ]
        },
        {
          "output_type": "stream",
          "name": "stderr",
          "text": [
            "INFO:hyperopt.tpe:build_posterior_wrapper took 0.004735 seconds\n"
          ]
        },
        {
          "output_type": "stream",
          "name": "stdout",
          "text": [
            "2022-11-22 13:20:32,555 - build_posterior_wrapper took 0.004735 seconds\n"
          ]
        },
        {
          "output_type": "stream",
          "name": "stderr",
          "text": [
            "INFO:hyperopt.tpe:TPE using 5/5 trials with best loss 0.292765\n"
          ]
        },
        {
          "output_type": "stream",
          "name": "stdout",
          "text": [
            "2022-11-22 13:20:32,567 - TPE using 5/5 trials with best loss 0.292765\n",
            " 60%|██████    | 6/10 [00:04<00:03,  1.31trial/s, best loss: 0.29276525240605616]"
          ]
        },
        {
          "output_type": "stream",
          "name": "stderr",
          "text": [
            "INFO:hyperopt.tpe:build_posterior_wrapper took 0.005474 seconds\n"
          ]
        },
        {
          "output_type": "stream",
          "name": "stdout",
          "text": [
            "2022-11-22 13:20:33,386 - build_posterior_wrapper took 0.005474 seconds\n"
          ]
        },
        {
          "output_type": "stream",
          "name": "stderr",
          "text": [
            "INFO:hyperopt.tpe:TPE using 6/6 trials with best loss 0.292765\n"
          ]
        },
        {
          "output_type": "stream",
          "name": "stdout",
          "text": [
            "2022-11-22 13:20:33,392 - TPE using 6/6 trials with best loss 0.292765\n",
            " 70%|███████   | 7/10 [00:04<00:02,  1.48trial/s, best loss: 0.2675621623680233] "
          ]
        },
        {
          "output_type": "stream",
          "name": "stderr",
          "text": [
            "INFO:hyperopt.tpe:build_posterior_wrapper took 0.005825 seconds\n"
          ]
        },
        {
          "output_type": "stream",
          "name": "stdout",
          "text": [
            "2022-11-22 13:20:33,875 - build_posterior_wrapper took 0.005825 seconds\n"
          ]
        },
        {
          "output_type": "stream",
          "name": "stderr",
          "text": [
            "INFO:hyperopt.tpe:TPE using 7/7 trials with best loss 0.267562\n"
          ]
        },
        {
          "output_type": "stream",
          "name": "stdout",
          "text": [
            "2022-11-22 13:20:33,881 - TPE using 7/7 trials with best loss 0.267562\n",
            " 80%|████████  | 8/10 [00:05<00:01,  1.48trial/s, best loss: 0.2675621623680233]"
          ]
        },
        {
          "output_type": "stream",
          "name": "stderr",
          "text": [
            "INFO:hyperopt.tpe:build_posterior_wrapper took 0.006043 seconds\n"
          ]
        },
        {
          "output_type": "stream",
          "name": "stdout",
          "text": [
            "2022-11-22 13:20:34,557 - build_posterior_wrapper took 0.006043 seconds\n"
          ]
        },
        {
          "output_type": "stream",
          "name": "stderr",
          "text": [
            "INFO:hyperopt.tpe:TPE using 8/8 trials with best loss 0.267562\n"
          ]
        },
        {
          "output_type": "stream",
          "name": "stdout",
          "text": [
            "2022-11-22 13:20:34,563 - TPE using 8/8 trials with best loss 0.267562\n",
            " 90%|█████████ | 9/10 [00:05<00:00,  1.81trial/s, best loss: 0.22550471383038898]"
          ]
        },
        {
          "output_type": "stream",
          "name": "stderr",
          "text": [
            "INFO:hyperopt.tpe:build_posterior_wrapper took 0.005243 seconds\n"
          ]
        },
        {
          "output_type": "stream",
          "name": "stdout",
          "text": [
            "2022-11-22 13:20:34,832 - build_posterior_wrapper took 0.005243 seconds\n"
          ]
        },
        {
          "output_type": "stream",
          "name": "stderr",
          "text": [
            "INFO:hyperopt.tpe:TPE using 9/9 trials with best loss 0.225505\n"
          ]
        },
        {
          "output_type": "stream",
          "name": "stdout",
          "text": [
            "2022-11-22 13:20:34,838 - TPE using 9/9 trials with best loss 0.225505\n",
            "100%|██████████| 10/10 [00:06<00:00,  1.57trial/s, best loss: 0.22550471383038898]\n"
          ]
        },
        {
          "output_type": "stream",
          "name": "stderr",
          "text": [
            "INFO:root:PipelineTuner - Hyperparameters optimization finished\n"
          ]
        },
        {
          "output_type": "stream",
          "name": "stdout",
          "text": [
            "2022-11-22 13:20:35,971 - PipelineTuner - Hyperparameters optimization finished\n"
          ]
        },
        {
          "output_type": "stream",
          "name": "stderr",
          "text": [
            "INFO:root:PipelineTuner - Return init pipeline due to the fact that obtained metric 0.226 worse than initial (+ 5% deviation) 0.209\n"
          ]
        },
        {
          "output_type": "stream",
          "name": "stdout",
          "text": [
            "2022-11-22 13:20:35,977 - PipelineTuner - Return init pipeline due to the fact that obtained metric 0.226 worse than initial (+ 5% deviation) 0.209\n"
          ]
        },
        {
          "output_type": "stream",
          "name": "stderr",
          "text": [
            "INFO:root:PipelineTuner - Hyperparameters optimization start\n"
          ]
        },
        {
          "output_type": "stream",
          "name": "stdout",
          "text": [
            "2022-11-22 13:20:36,175 - PipelineTuner - Hyperparameters optimization start\n",
            "  0%|          | 0/10 [00:00<?, ?trial/s, best loss=?]"
          ]
        },
        {
          "output_type": "stream",
          "name": "stderr",
          "text": [
            "INFO:hyperopt.tpe:build_posterior_wrapper took 0.006271 seconds\n"
          ]
        },
        {
          "output_type": "stream",
          "name": "stdout",
          "text": [
            "2022-11-22 13:20:36,459 - build_posterior_wrapper took 0.006271 seconds\n"
          ]
        },
        {
          "output_type": "stream",
          "name": "stderr",
          "text": [
            "INFO:hyperopt.tpe:TPE using 0 trials\n"
          ]
        },
        {
          "output_type": "stream",
          "name": "stdout",
          "text": [
            "2022-11-22 13:20:36,470 - TPE using 0 trials\n",
            " 10%|█         | 1/10 [00:00<00:06,  1.34trial/s, best loss: 0.35894706893580564]"
          ]
        },
        {
          "output_type": "stream",
          "name": "stderr",
          "text": [
            "INFO:hyperopt.tpe:build_posterior_wrapper took 0.005325 seconds\n"
          ]
        },
        {
          "output_type": "stream",
          "name": "stdout",
          "text": [
            "2022-11-22 13:20:37,210 - build_posterior_wrapper took 0.005325 seconds\n"
          ]
        },
        {
          "output_type": "stream",
          "name": "stderr",
          "text": [
            "INFO:hyperopt.tpe:TPE using 1/1 trials with best loss 0.358947\n"
          ]
        },
        {
          "output_type": "stream",
          "name": "stdout",
          "text": [
            "2022-11-22 13:20:37,223 - TPE using 1/1 trials with best loss 0.358947\n",
            " 20%|██        | 2/10 [00:01<00:03,  2.08trial/s, best loss: 0.35894706893580564]"
          ]
        },
        {
          "output_type": "stream",
          "name": "stderr",
          "text": [
            "INFO:hyperopt.tpe:build_posterior_wrapper took 0.005210 seconds\n"
          ]
        },
        {
          "output_type": "stream",
          "name": "stdout",
          "text": [
            "2022-11-22 13:20:37,503 - build_posterior_wrapper took 0.005210 seconds\n"
          ]
        },
        {
          "output_type": "stream",
          "name": "stderr",
          "text": [
            "INFO:hyperopt.tpe:TPE using 2/2 trials with best loss 0.358947\n"
          ]
        },
        {
          "output_type": "stream",
          "name": "stdout",
          "text": [
            "2022-11-22 13:20:37,515 - TPE using 2/2 trials with best loss 0.358947\n",
            " 30%|███       | 3/10 [00:01<00:03,  1.94trial/s, best loss: 0.35894706893580564]"
          ]
        },
        {
          "output_type": "stream",
          "name": "stderr",
          "text": [
            "INFO:hyperopt.tpe:build_posterior_wrapper took 0.005373 seconds\n"
          ]
        },
        {
          "output_type": "stream",
          "name": "stdout",
          "text": [
            "2022-11-22 13:20:38,061 - build_posterior_wrapper took 0.005373 seconds\n"
          ]
        },
        {
          "output_type": "stream",
          "name": "stderr",
          "text": [
            "INFO:hyperopt.tpe:TPE using 3/3 trials with best loss 0.358947\n"
          ]
        },
        {
          "output_type": "stream",
          "name": "stdout",
          "text": [
            "2022-11-22 13:20:38,067 - TPE using 3/3 trials with best loss 0.358947\n",
            " 40%|████      | 4/10 [00:02<00:03,  1.51trial/s, best loss: 0.22373585054234776]"
          ]
        },
        {
          "output_type": "stream",
          "name": "stderr",
          "text": [
            "INFO:hyperopt.tpe:build_posterior_wrapper took 0.005463 seconds\n"
          ]
        },
        {
          "output_type": "stream",
          "name": "stdout",
          "text": [
            "2022-11-22 13:20:38,951 - build_posterior_wrapper took 0.005463 seconds\n"
          ]
        },
        {
          "output_type": "stream",
          "name": "stderr",
          "text": [
            "INFO:hyperopt.tpe:TPE using 4/4 trials with best loss 0.223736\n"
          ]
        },
        {
          "output_type": "stream",
          "name": "stdout",
          "text": [
            "2022-11-22 13:20:38,964 - TPE using 4/4 trials with best loss 0.223736\n",
            " 50%|█████     | 5/10 [00:02<00:02,  1.84trial/s, best loss: 0.22373585054234776]"
          ]
        },
        {
          "output_type": "stream",
          "name": "stderr",
          "text": [
            "INFO:hyperopt.tpe:build_posterior_wrapper took 0.005947 seconds\n"
          ]
        },
        {
          "output_type": "stream",
          "name": "stdout",
          "text": [
            "2022-11-22 13:20:39,281 - build_posterior_wrapper took 0.005947 seconds\n"
          ]
        },
        {
          "output_type": "stream",
          "name": "stderr",
          "text": [
            "INFO:hyperopt.tpe:TPE using 5/5 trials with best loss 0.223736\n"
          ]
        },
        {
          "output_type": "stream",
          "name": "stdout",
          "text": [
            "2022-11-22 13:20:39,290 - TPE using 5/5 trials with best loss 0.223736\n",
            " 60%|██████    | 6/10 [00:03<00:02,  1.71trial/s, best loss: 0.22373585054234776]"
          ]
        },
        {
          "output_type": "stream",
          "name": "stderr",
          "text": [
            "INFO:hyperopt.tpe:build_posterior_wrapper took 0.005701 seconds\n"
          ]
        },
        {
          "output_type": "stream",
          "name": "stdout",
          "text": [
            "2022-11-22 13:20:39,949 - build_posterior_wrapper took 0.005701 seconds\n"
          ]
        },
        {
          "output_type": "stream",
          "name": "stderr",
          "text": [
            "INFO:hyperopt.tpe:TPE using 6/6 trials with best loss 0.223736\n"
          ]
        },
        {
          "output_type": "stream",
          "name": "stdout",
          "text": [
            "2022-11-22 13:20:39,963 - TPE using 6/6 trials with best loss 0.223736\n",
            " 70%|███████   | 7/10 [00:04<00:01,  1.55trial/s, best loss: 0.22373585054234776]"
          ]
        },
        {
          "output_type": "stream",
          "name": "stderr",
          "text": [
            "INFO:hyperopt.tpe:build_posterior_wrapper took 0.007227 seconds\n"
          ]
        },
        {
          "output_type": "stream",
          "name": "stdout",
          "text": [
            "2022-11-22 13:20:40,720 - build_posterior_wrapper took 0.007227 seconds\n"
          ]
        },
        {
          "output_type": "stream",
          "name": "stderr",
          "text": [
            "INFO:hyperopt.tpe:TPE using 7/7 trials with best loss 0.223736\n"
          ]
        },
        {
          "output_type": "stream",
          "name": "stdout",
          "text": [
            "2022-11-22 13:20:40,726 - TPE using 7/7 trials with best loss 0.223736\n",
            " 80%|████████  | 8/10 [00:05<00:01,  1.18trial/s, best loss: 0.22373585054234776]"
          ]
        },
        {
          "output_type": "stream",
          "name": "stderr",
          "text": [
            "INFO:hyperopt.tpe:build_posterior_wrapper took 0.004997 seconds\n"
          ]
        },
        {
          "output_type": "stream",
          "name": "stdout",
          "text": [
            "2022-11-22 13:20:41,987 - build_posterior_wrapper took 0.004997 seconds\n"
          ]
        },
        {
          "output_type": "stream",
          "name": "stderr",
          "text": [
            "INFO:hyperopt.tpe:TPE using 8/8 trials with best loss 0.223736\n"
          ]
        },
        {
          "output_type": "stream",
          "name": "stdout",
          "text": [
            "2022-11-22 13:20:41,993 - TPE using 8/8 trials with best loss 0.223736\n",
            " 90%|█████████ | 9/10 [00:06<00:00,  1.24trial/s, best loss: 0.22373585054234776]"
          ]
        },
        {
          "output_type": "stream",
          "name": "stderr",
          "text": [
            "INFO:hyperopt.tpe:build_posterior_wrapper took 0.005008 seconds\n"
          ]
        },
        {
          "output_type": "stream",
          "name": "stdout",
          "text": [
            "2022-11-22 13:20:42,708 - build_posterior_wrapper took 0.005008 seconds\n"
          ]
        },
        {
          "output_type": "stream",
          "name": "stderr",
          "text": [
            "INFO:hyperopt.tpe:TPE using 9/9 trials with best loss 0.223736\n"
          ]
        },
        {
          "output_type": "stream",
          "name": "stdout",
          "text": [
            "2022-11-22 13:20:42,714 - TPE using 9/9 trials with best loss 0.223736\n",
            "100%|██████████| 10/10 [00:07<00:00,  1.36trial/s, best loss: 0.22373585054234776]\n"
          ]
        },
        {
          "output_type": "stream",
          "name": "stderr",
          "text": [
            "INFO:root:PipelineTuner - Hyperparameters optimization finished\n"
          ]
        },
        {
          "output_type": "stream",
          "name": "stdout",
          "text": [
            "2022-11-22 13:20:44,764 - PipelineTuner - Hyperparameters optimization finished\n"
          ]
        },
        {
          "output_type": "stream",
          "name": "stderr",
          "text": [
            "INFO:root:PipelineTuner - Return tuned pipeline due to the fact that obtained metric 0.224 equal or better than initial (+ 5% deviation) 0.553\n"
          ]
        },
        {
          "output_type": "stream",
          "name": "stdout",
          "text": [
            "2022-11-22 13:20:44,771 - PipelineTuner - Return tuned pipeline due to the fact that obtained metric 0.224 equal or better than initial (+ 5% deviation) 0.553\n"
          ]
        },
        {
          "output_type": "stream",
          "name": "stderr",
          "text": [
            "INFO:root:PipelineTuner - Hyperparameters optimization start\n"
          ]
        },
        {
          "output_type": "stream",
          "name": "stdout",
          "text": [
            "2022-11-22 13:20:45,563 - PipelineTuner - Hyperparameters optimization start\n",
            "  0%|          | 0/10 [00:00<?, ?trial/s, best loss=?]"
          ]
        },
        {
          "output_type": "stream",
          "name": "stderr",
          "text": [
            "INFO:hyperopt.tpe:build_posterior_wrapper took 0.005328 seconds\n"
          ]
        },
        {
          "output_type": "stream",
          "name": "stdout",
          "text": [
            "2022-11-22 13:20:45,807 - build_posterior_wrapper took 0.005328 seconds\n"
          ]
        },
        {
          "output_type": "stream",
          "name": "stderr",
          "text": [
            "INFO:hyperopt.tpe:TPE using 0 trials\n"
          ]
        },
        {
          "output_type": "stream",
          "name": "stdout",
          "text": [
            "2022-11-22 13:20:45,819 - TPE using 0 trials\n",
            " 10%|█         | 1/10 [00:01<00:12,  1.35s/trial, best loss: 195.44992967162477]"
          ]
        },
        {
          "output_type": "stream",
          "name": "stderr",
          "text": [
            "INFO:hyperopt.tpe:build_posterior_wrapper took 0.006241 seconds\n"
          ]
        },
        {
          "output_type": "stream",
          "name": "stdout",
          "text": [
            "2022-11-22 13:20:47,160 - build_posterior_wrapper took 0.006241 seconds\n"
          ]
        },
        {
          "output_type": "stream",
          "name": "stderr",
          "text": [
            "INFO:hyperopt.tpe:TPE using 1/1 trials with best loss 195.449930\n"
          ]
        },
        {
          "output_type": "stream",
          "name": "stdout",
          "text": [
            "2022-11-22 13:20:47,166 - TPE using 1/1 trials with best loss 195.449930\n",
            " 20%|██        | 2/10 [00:02<00:08,  1.07s/trial, best loss: 1.4446590704677282]"
          ]
        },
        {
          "output_type": "stream",
          "name": "stderr",
          "text": [
            "INFO:hyperopt.tpe:build_posterior_wrapper took 0.005820 seconds\n"
          ]
        },
        {
          "output_type": "stream",
          "name": "stdout",
          "text": [
            "2022-11-22 13:20:48,034 - build_posterior_wrapper took 0.005820 seconds\n"
          ]
        },
        {
          "output_type": "stream",
          "name": "stderr",
          "text": [
            "INFO:hyperopt.tpe:TPE using 2/2 trials with best loss 1.444659\n"
          ]
        },
        {
          "output_type": "stream",
          "name": "stdout",
          "text": [
            "2022-11-22 13:20:48,040 - TPE using 2/2 trials with best loss 1.444659\n",
            " 30%|███       | 3/10 [00:03<00:07,  1.13s/trial, best loss: 1.4446590704677282]"
          ]
        },
        {
          "output_type": "stream",
          "name": "stderr",
          "text": [
            "INFO:hyperopt.tpe:build_posterior_wrapper took 0.006538 seconds\n"
          ]
        },
        {
          "output_type": "stream",
          "name": "stdout",
          "text": [
            "2022-11-22 13:20:49,239 - build_posterior_wrapper took 0.006538 seconds\n"
          ]
        },
        {
          "output_type": "stream",
          "name": "stderr",
          "text": [
            "INFO:hyperopt.tpe:TPE using 3/3 trials with best loss 1.444659\n"
          ]
        },
        {
          "output_type": "stream",
          "name": "stdout",
          "text": [
            "2022-11-22 13:20:49,245 - TPE using 3/3 trials with best loss 1.444659\n",
            " 40%|████      | 4/10 [00:04<00:06,  1.10s/trial, best loss: 1.4446590704677282]"
          ]
        },
        {
          "output_type": "stream",
          "name": "stderr",
          "text": [
            "INFO:hyperopt.tpe:build_posterior_wrapper took 0.005263 seconds\n"
          ]
        },
        {
          "output_type": "stream",
          "name": "stdout",
          "text": [
            "2022-11-22 13:20:50,296 - build_posterior_wrapper took 0.005263 seconds\n"
          ]
        },
        {
          "output_type": "stream",
          "name": "stderr",
          "text": [
            "INFO:hyperopt.tpe:TPE using 4/4 trials with best loss 1.444659\n"
          ]
        },
        {
          "output_type": "stream",
          "name": "stdout",
          "text": [
            "2022-11-22 13:20:50,308 - TPE using 4/4 trials with best loss 1.444659\n",
            " 50%|█████     | 5/10 [00:05<00:05,  1.18s/trial, best loss: 1.4446590704677282]"
          ]
        },
        {
          "output_type": "stream",
          "name": "stderr",
          "text": [
            "INFO:hyperopt.tpe:build_posterior_wrapper took 0.004727 seconds\n"
          ]
        },
        {
          "output_type": "stream",
          "name": "stdout",
          "text": [
            "2022-11-22 13:20:51,615 - build_posterior_wrapper took 0.004727 seconds\n"
          ]
        },
        {
          "output_type": "stream",
          "name": "stderr",
          "text": [
            "INFO:hyperopt.tpe:TPE using 5/5 trials with best loss 1.444659\n"
          ]
        },
        {
          "output_type": "stream",
          "name": "stdout",
          "text": [
            "2022-11-22 13:20:51,631 - TPE using 5/5 trials with best loss 1.444659\n",
            " 60%|██████    | 6/10 [00:06<00:04,  1.03s/trial, best loss: 0.2718820462189593]"
          ]
        },
        {
          "output_type": "stream",
          "name": "stderr",
          "text": [
            "INFO:hyperopt.tpe:build_posterior_wrapper took 0.005499 seconds\n"
          ]
        },
        {
          "output_type": "stream",
          "name": "stdout",
          "text": [
            "2022-11-22 13:20:52,339 - build_posterior_wrapper took 0.005499 seconds\n"
          ]
        },
        {
          "output_type": "stream",
          "name": "stderr",
          "text": [
            "INFO:hyperopt.tpe:TPE using 6/6 trials with best loss 0.271882\n"
          ]
        },
        {
          "output_type": "stream",
          "name": "stdout",
          "text": [
            "2022-11-22 13:20:52,345 - TPE using 6/6 trials with best loss 0.271882\n",
            " 70%|███████   | 7/10 [00:06<00:02,  1.25trial/s, best loss: 0.2718820462189593]"
          ]
        },
        {
          "output_type": "stream",
          "name": "stderr",
          "text": [
            "INFO:hyperopt.tpe:build_posterior_wrapper took 0.004710 seconds\n"
          ]
        },
        {
          "output_type": "stream",
          "name": "stdout",
          "text": [
            "2022-11-22 13:20:52,666 - build_posterior_wrapper took 0.004710 seconds\n"
          ]
        },
        {
          "output_type": "stream",
          "name": "stderr",
          "text": [
            "INFO:hyperopt.tpe:TPE using 7/7 trials with best loss 0.271882\n"
          ]
        },
        {
          "output_type": "stream",
          "name": "stdout",
          "text": [
            "2022-11-22 13:20:52,679 - TPE using 7/7 trials with best loss 0.271882\n",
            " 80%|████████  | 8/10 [00:07<00:01,  1.41trial/s, best loss: 0.2718820462189593]"
          ]
        },
        {
          "output_type": "stream",
          "name": "stderr",
          "text": [
            "INFO:hyperopt.tpe:build_posterior_wrapper took 0.005365 seconds\n"
          ]
        },
        {
          "output_type": "stream",
          "name": "stdout",
          "text": [
            "2022-11-22 13:20:53,191 - build_posterior_wrapper took 0.005365 seconds\n"
          ]
        },
        {
          "output_type": "stream",
          "name": "stderr",
          "text": [
            "INFO:hyperopt.tpe:TPE using 8/8 trials with best loss 0.271882\n"
          ]
        },
        {
          "output_type": "stream",
          "name": "stdout",
          "text": [
            "2022-11-22 13:20:53,213 - TPE using 8/8 trials with best loss 0.271882\n",
            " 90%|█████████ | 9/10 [00:07<00:00,  1.73trial/s, best loss: 0.16270275498138922]"
          ]
        },
        {
          "output_type": "stream",
          "name": "stderr",
          "text": [
            "INFO:hyperopt.tpe:build_posterior_wrapper took 0.004740 seconds\n"
          ]
        },
        {
          "output_type": "stream",
          "name": "stdout",
          "text": [
            "2022-11-22 13:20:53,474 - build_posterior_wrapper took 0.004740 seconds\n"
          ]
        },
        {
          "output_type": "stream",
          "name": "stderr",
          "text": [
            "INFO:hyperopt.tpe:TPE using 9/9 trials with best loss 0.162703\n"
          ]
        },
        {
          "output_type": "stream",
          "name": "stdout",
          "text": [
            "2022-11-22 13:20:53,487 - TPE using 9/9 trials with best loss 0.162703\n",
            "100%|██████████| 10/10 [00:08<00:00,  1.23trial/s, best loss: 0.16270275498138922]\n"
          ]
        },
        {
          "output_type": "stream",
          "name": "stderr",
          "text": [
            "INFO:root:PipelineTuner - Hyperparameters optimization finished\n"
          ]
        },
        {
          "output_type": "stream",
          "name": "stdout",
          "text": [
            "2022-11-22 13:20:54,157 - PipelineTuner - Hyperparameters optimization finished\n"
          ]
        },
        {
          "output_type": "stream",
          "name": "stderr",
          "text": [
            "INFO:root:PipelineTuner - Return tuned pipeline due to the fact that obtained metric 0.163 equal or better than initial (+ 5% deviation) 0.220\n"
          ]
        },
        {
          "output_type": "stream",
          "name": "stdout",
          "text": [
            "2022-11-22 13:20:54,163 - PipelineTuner - Return tuned pipeline due to the fact that obtained metric 0.163 equal or better than initial (+ 5% deviation) 0.220\n"
          ]
        },
        {
          "output_type": "stream",
          "name": "stderr",
          "text": [
            "INFO:root:PipelineTuner - Hyperparameters optimization start\n"
          ]
        },
        {
          "output_type": "stream",
          "name": "stdout",
          "text": [
            "2022-11-22 13:20:54,401 - PipelineTuner - Hyperparameters optimization start\n",
            "  0%|          | 0/10 [00:00<?, ?trial/s, best loss=?]"
          ]
        },
        {
          "output_type": "stream",
          "name": "stderr",
          "text": [
            "INFO:hyperopt.tpe:build_posterior_wrapper took 0.004671 seconds\n"
          ]
        },
        {
          "output_type": "stream",
          "name": "stdout",
          "text": [
            "2022-11-22 13:20:54,689 - build_posterior_wrapper took 0.004671 seconds\n"
          ]
        },
        {
          "output_type": "stream",
          "name": "stderr",
          "text": [
            "INFO:hyperopt.tpe:TPE using 0 trials\n"
          ]
        },
        {
          "output_type": "stream",
          "name": "stdout",
          "text": [
            "2022-11-22 13:20:54,703 - TPE using 0 trials\n",
            " 10%|█         | 1/10 [00:00<00:04,  1.82trial/s, best loss: 0.4114082011778269]"
          ]
        },
        {
          "output_type": "stream",
          "name": "stderr",
          "text": [
            "INFO:hyperopt.tpe:build_posterior_wrapper took 0.006622 seconds\n"
          ]
        },
        {
          "output_type": "stream",
          "name": "stdout",
          "text": [
            "2022-11-22 13:20:55,244 - build_posterior_wrapper took 0.006622 seconds\n"
          ]
        },
        {
          "output_type": "stream",
          "name": "stderr",
          "text": [
            "INFO:hyperopt.tpe:TPE using 1/1 trials with best loss 0.411408\n"
          ]
        },
        {
          "output_type": "stream",
          "name": "stdout",
          "text": [
            "2022-11-22 13:20:55,252 - TPE using 1/1 trials with best loss 0.411408\n",
            " 20%|██        | 2/10 [00:01<00:07,  1.09trial/s, best loss: 0.4114082011778269]"
          ]
        },
        {
          "output_type": "stream",
          "name": "stderr",
          "text": [
            "INFO:hyperopt.tpe:build_posterior_wrapper took 0.009396 seconds\n"
          ]
        },
        {
          "output_type": "stream",
          "name": "stdout",
          "text": [
            "2022-11-22 13:20:56,428 - build_posterior_wrapper took 0.009396 seconds\n"
          ]
        },
        {
          "output_type": "stream",
          "name": "stderr",
          "text": [
            "INFO:hyperopt.tpe:TPE using 2/2 trials with best loss 0.411408\n"
          ]
        },
        {
          "output_type": "stream",
          "name": "stdout",
          "text": [
            "2022-11-22 13:20:56,441 - TPE using 2/2 trials with best loss 0.411408\n",
            " 30%|███       | 3/10 [00:02<00:04,  1.45trial/s, best loss: 0.4114082011778269]"
          ]
        },
        {
          "output_type": "stream",
          "name": "stderr",
          "text": [
            "INFO:hyperopt.tpe:build_posterior_wrapper took 0.005537 seconds\n"
          ]
        },
        {
          "output_type": "stream",
          "name": "stdout",
          "text": [
            "2022-11-22 13:20:56,834 - build_posterior_wrapper took 0.005537 seconds\n"
          ]
        },
        {
          "output_type": "stream",
          "name": "stderr",
          "text": [
            "INFO:hyperopt.tpe:TPE using 3/3 trials with best loss 0.411408\n"
          ]
        },
        {
          "output_type": "stream",
          "name": "stdout",
          "text": [
            "2022-11-22 13:20:56,841 - TPE using 3/3 trials with best loss 0.411408\n",
            " 40%|████      | 4/10 [00:02<00:03,  1.52trial/s, best loss: 0.4114082011778269]"
          ]
        },
        {
          "output_type": "stream",
          "name": "stderr",
          "text": [
            "INFO:hyperopt.tpe:build_posterior_wrapper took 0.011755 seconds\n"
          ]
        },
        {
          "output_type": "stream",
          "name": "stdout",
          "text": [
            "2022-11-22 13:20:57,450 - build_posterior_wrapper took 0.011755 seconds\n"
          ]
        },
        {
          "output_type": "stream",
          "name": "stderr",
          "text": [
            "INFO:hyperopt.tpe:TPE using 4/4 trials with best loss 0.411408\n"
          ]
        },
        {
          "output_type": "stream",
          "name": "stdout",
          "text": [
            "2022-11-22 13:20:57,459 - TPE using 4/4 trials with best loss 0.411408\n",
            " 50%|█████     | 5/10 [00:03<00:04,  1.15trial/s, best loss: 0.4114082011778269]"
          ]
        },
        {
          "output_type": "stream",
          "name": "stderr",
          "text": [
            "INFO:hyperopt.tpe:build_posterior_wrapper took 0.010178 seconds\n"
          ]
        },
        {
          "output_type": "stream",
          "name": "stdout",
          "text": [
            "2022-11-22 13:20:58,689 - build_posterior_wrapper took 0.010178 seconds\n"
          ]
        },
        {
          "output_type": "stream",
          "name": "stderr",
          "text": [
            "INFO:hyperopt.tpe:TPE using 5/5 trials with best loss 0.411408\n"
          ]
        },
        {
          "output_type": "stream",
          "name": "stdout",
          "text": [
            "2022-11-22 13:20:58,699 - TPE using 5/5 trials with best loss 0.411408\n",
            " 60%|██████    | 6/10 [00:04<00:03,  1.14trial/s, best loss: 0.4114082011778269]"
          ]
        },
        {
          "output_type": "stream",
          "name": "stderr",
          "text": [
            "INFO:hyperopt.tpe:build_posterior_wrapper took 0.005500 seconds\n"
          ]
        },
        {
          "output_type": "stream",
          "name": "stdout",
          "text": [
            "2022-11-22 13:20:59,583 - build_posterior_wrapper took 0.005500 seconds\n"
          ]
        },
        {
          "output_type": "stream",
          "name": "stderr",
          "text": [
            "INFO:hyperopt.tpe:TPE using 6/6 trials with best loss 0.411408\n"
          ]
        },
        {
          "output_type": "stream",
          "name": "stdout",
          "text": [
            "2022-11-22 13:20:59,593 - TPE using 6/6 trials with best loss 0.411408\n",
            " 70%|███████   | 7/10 [00:05<00:02,  1.06trial/s, best loss: 0.4114082011778269]"
          ]
        },
        {
          "output_type": "stream",
          "name": "stderr",
          "text": [
            "INFO:hyperopt.tpe:build_posterior_wrapper took 0.008832 seconds\n"
          ]
        },
        {
          "output_type": "stream",
          "name": "stdout",
          "text": [
            "2022-11-22 13:21:00,663 - build_posterior_wrapper took 0.008832 seconds\n"
          ]
        },
        {
          "output_type": "stream",
          "name": "stderr",
          "text": [
            "INFO:hyperopt.tpe:TPE using 7/7 trials with best loss 0.411408\n"
          ]
        },
        {
          "output_type": "stream",
          "name": "stdout",
          "text": [
            "2022-11-22 13:21:00,673 - TPE using 7/7 trials with best loss 0.411408\n",
            " 80%|████████  | 8/10 [00:06<00:01,  1.29trial/s, best loss: 0.4114082011778269]"
          ]
        },
        {
          "output_type": "stream",
          "name": "stderr",
          "text": [
            "INFO:hyperopt.tpe:build_posterior_wrapper took 0.007715 seconds\n"
          ]
        },
        {
          "output_type": "stream",
          "name": "stdout",
          "text": [
            "2022-11-22 13:21:01,071 - build_posterior_wrapper took 0.007715 seconds\n"
          ]
        },
        {
          "output_type": "stream",
          "name": "stderr",
          "text": [
            "INFO:hyperopt.tpe:TPE using 8/8 trials with best loss 0.411408\n"
          ]
        },
        {
          "output_type": "stream",
          "name": "stdout",
          "text": [
            "2022-11-22 13:21:01,088 - TPE using 8/8 trials with best loss 0.411408\n",
            " 90%|█████████ | 9/10 [00:07<00:00,  1.30trial/s, best loss: 0.4114082011778269]"
          ]
        },
        {
          "output_type": "stream",
          "name": "stderr",
          "text": [
            "INFO:hyperopt.tpe:build_posterior_wrapper took 0.005369 seconds\n"
          ]
        },
        {
          "output_type": "stream",
          "name": "stdout",
          "text": [
            "2022-11-22 13:21:01,838 - build_posterior_wrapper took 0.005369 seconds\n"
          ]
        },
        {
          "output_type": "stream",
          "name": "stderr",
          "text": [
            "INFO:hyperopt.tpe:TPE using 9/9 trials with best loss 0.411408\n"
          ]
        },
        {
          "output_type": "stream",
          "name": "stdout",
          "text": [
            "2022-11-22 13:21:01,849 - TPE using 9/9 trials with best loss 0.411408\n",
            "100%|██████████| 10/10 [00:07<00:00,  1.29trial/s, best loss: 0.3994406622047632]\n"
          ]
        },
        {
          "output_type": "stream",
          "name": "stderr",
          "text": [
            "INFO:root:PipelineTuner - Hyperparameters optimization finished\n"
          ]
        },
        {
          "output_type": "stream",
          "name": "stdout",
          "text": [
            "2022-11-22 13:21:03,063 - PipelineTuner - Hyperparameters optimization finished\n"
          ]
        },
        {
          "output_type": "stream",
          "name": "stderr",
          "text": [
            "INFO:root:PipelineTuner - Return tuned pipeline due to the fact that obtained metric 0.399 equal or better than initial (+ 5% deviation) 1.219\n"
          ]
        },
        {
          "output_type": "stream",
          "name": "stdout",
          "text": [
            "2022-11-22 13:21:03,074 - PipelineTuner - Return tuned pipeline due to the fact that obtained metric 0.399 equal or better than initial (+ 5% deviation) 1.219\n"
          ]
        },
        {
          "output_type": "stream",
          "name": "stderr",
          "text": [
            "INFO:root:PipelineTuner - Hyperparameters optimization start\n"
          ]
        },
        {
          "output_type": "stream",
          "name": "stdout",
          "text": [
            "2022-11-22 13:21:03,663 - PipelineTuner - Hyperparameters optimization start\n",
            "  0%|          | 0/10 [00:00<?, ?trial/s, best loss=?]"
          ]
        },
        {
          "output_type": "stream",
          "name": "stderr",
          "text": [
            "INFO:hyperopt.tpe:build_posterior_wrapper took 0.006526 seconds\n"
          ]
        },
        {
          "output_type": "stream",
          "name": "stdout",
          "text": [
            "2022-11-22 13:21:03,942 - build_posterior_wrapper took 0.006526 seconds\n"
          ]
        },
        {
          "output_type": "stream",
          "name": "stderr",
          "text": [
            "INFO:hyperopt.tpe:TPE using 0 trials\n"
          ]
        },
        {
          "output_type": "stream",
          "name": "stdout",
          "text": [
            "2022-11-22 13:21:03,956 - TPE using 0 trials\n",
            " 10%|█         | 1/10 [00:00<00:08,  1.10trial/s, best loss: 172.47482119726683]"
          ]
        },
        {
          "output_type": "stream",
          "name": "stderr",
          "text": [
            "INFO:hyperopt.tpe:build_posterior_wrapper took 0.012998 seconds\n"
          ]
        },
        {
          "output_type": "stream",
          "name": "stdout",
          "text": [
            "2022-11-22 13:21:04,860 - build_posterior_wrapper took 0.012998 seconds\n"
          ]
        },
        {
          "output_type": "stream",
          "name": "stderr",
          "text": [
            "INFO:hyperopt.tpe:TPE using 1/1 trials with best loss 172.474821\n"
          ]
        },
        {
          "output_type": "stream",
          "name": "stdout",
          "text": [
            "2022-11-22 13:21:04,866 - TPE using 1/1 trials with best loss 172.474821\n",
            " 20%|██        | 2/10 [00:01<00:04,  1.63trial/s, best loss: 0.22132458777669126]"
          ]
        },
        {
          "output_type": "stream",
          "name": "stderr",
          "text": [
            "INFO:hyperopt.tpe:build_posterior_wrapper took 0.005871 seconds\n"
          ]
        },
        {
          "output_type": "stream",
          "name": "stdout",
          "text": [
            "2022-11-22 13:21:05,269 - build_posterior_wrapper took 0.005871 seconds\n"
          ]
        },
        {
          "output_type": "stream",
          "name": "stderr",
          "text": [
            "INFO:hyperopt.tpe:TPE using 2/2 trials with best loss 0.221325\n"
          ]
        },
        {
          "output_type": "stream",
          "name": "stdout",
          "text": [
            "2022-11-22 13:21:05,283 - TPE using 2/2 trials with best loss 0.221325\n",
            " 30%|███       | 3/10 [00:03<00:08,  1.17s/trial, best loss: 0.22132458777669126]"
          ]
        },
        {
          "output_type": "stream",
          "name": "stderr",
          "text": [
            "INFO:hyperopt.tpe:build_posterior_wrapper took 0.010375 seconds\n"
          ]
        },
        {
          "output_type": "stream",
          "name": "stdout",
          "text": [
            "2022-11-22 13:21:07,093 - build_posterior_wrapper took 0.010375 seconds\n"
          ]
        },
        {
          "output_type": "stream",
          "name": "stderr",
          "text": [
            "INFO:hyperopt.tpe:TPE using 3/3 trials with best loss 0.221325\n"
          ]
        },
        {
          "output_type": "stream",
          "name": "stdout",
          "text": [
            "2022-11-22 13:21:07,107 - TPE using 3/3 trials with best loss 0.221325\n",
            " 40%|████      | 4/10 [00:04<00:06,  1.13s/trial, best loss: 0.22132458777669126]"
          ]
        },
        {
          "output_type": "stream",
          "name": "stderr",
          "text": [
            "INFO:hyperopt.tpe:build_posterior_wrapper took 0.009076 seconds\n"
          ]
        },
        {
          "output_type": "stream",
          "name": "stdout",
          "text": [
            "2022-11-22 13:21:08,158 - build_posterior_wrapper took 0.009076 seconds\n"
          ]
        },
        {
          "output_type": "stream",
          "name": "stderr",
          "text": [
            "INFO:hyperopt.tpe:TPE using 4/4 trials with best loss 0.221325\n"
          ]
        },
        {
          "output_type": "stream",
          "name": "stdout",
          "text": [
            "2022-11-22 13:21:08,166 - TPE using 4/4 trials with best loss 0.221325\n",
            " 50%|█████     | 5/10 [00:04<00:04,  1.13trial/s, best loss: 0.22132458777669126]"
          ]
        },
        {
          "output_type": "stream",
          "name": "stderr",
          "text": [
            "INFO:hyperopt.tpe:build_posterior_wrapper took 0.006680 seconds\n"
          ]
        },
        {
          "output_type": "stream",
          "name": "stdout",
          "text": [
            "2022-11-22 13:21:08,612 - build_posterior_wrapper took 0.006680 seconds\n"
          ]
        },
        {
          "output_type": "stream",
          "name": "stderr",
          "text": [
            "INFO:hyperopt.tpe:TPE using 5/5 trials with best loss 0.221325\n"
          ]
        },
        {
          "output_type": "stream",
          "name": "stdout",
          "text": [
            "2022-11-22 13:21:08,626 - TPE using 5/5 trials with best loss 0.221325\n",
            " 60%|██████    | 6/10 [00:06<00:04,  1.06s/trial, best loss: 0.22132458777669126]"
          ]
        },
        {
          "output_type": "stream",
          "name": "stderr",
          "text": [
            "INFO:hyperopt.tpe:build_posterior_wrapper took 0.006260 seconds\n"
          ]
        },
        {
          "output_type": "stream",
          "name": "stdout",
          "text": [
            "2022-11-22 13:21:10,016 - build_posterior_wrapper took 0.006260 seconds\n"
          ]
        },
        {
          "output_type": "stream",
          "name": "stderr",
          "text": [
            "INFO:hyperopt.tpe:TPE using 6/6 trials with best loss 0.221325\n"
          ]
        },
        {
          "output_type": "stream",
          "name": "stdout",
          "text": [
            "2022-11-22 13:21:10,030 - TPE using 6/6 trials with best loss 0.221325\n",
            " 70%|███████   | 7/10 [00:07<00:03,  1.10s/trial, best loss: 0.22132458777669126]"
          ]
        },
        {
          "output_type": "stream",
          "name": "stderr",
          "text": [
            "INFO:hyperopt.tpe:build_posterior_wrapper took 0.006008 seconds\n"
          ]
        },
        {
          "output_type": "stream",
          "name": "stdout",
          "text": [
            "2022-11-22 13:21:11,200 - build_posterior_wrapper took 0.006008 seconds\n"
          ]
        },
        {
          "output_type": "stream",
          "name": "stderr",
          "text": [
            "INFO:hyperopt.tpe:TPE using 7/7 trials with best loss 0.221325\n"
          ]
        },
        {
          "output_type": "stream",
          "name": "stdout",
          "text": [
            "2022-11-22 13:21:11,211 - TPE using 7/7 trials with best loss 0.221325\n",
            " 80%|████████  | 8/10 [00:07<00:01,  1.17trial/s, best loss: 0.22132458777669126]"
          ]
        },
        {
          "output_type": "stream",
          "name": "stderr",
          "text": [
            "INFO:hyperopt.tpe:build_posterior_wrapper took 0.006340 seconds\n"
          ]
        },
        {
          "output_type": "stream",
          "name": "stdout",
          "text": [
            "2022-11-22 13:21:11,534 - build_posterior_wrapper took 0.006340 seconds\n"
          ]
        },
        {
          "output_type": "stream",
          "name": "stderr",
          "text": [
            "INFO:hyperopt.tpe:TPE using 8/8 trials with best loss 0.221325\n"
          ]
        },
        {
          "output_type": "stream",
          "name": "stdout",
          "text": [
            "2022-11-22 13:21:11,546 - TPE using 8/8 trials with best loss 0.221325\n",
            " 90%|█████████ | 9/10 [00:08<00:01,  1.01s/trial, best loss: 0.22132458777669126]"
          ]
        },
        {
          "output_type": "stream",
          "name": "stderr",
          "text": [
            "INFO:hyperopt.tpe:build_posterior_wrapper took 0.006575 seconds\n"
          ]
        },
        {
          "output_type": "stream",
          "name": "stdout",
          "text": [
            "2022-11-22 13:21:12,896 - build_posterior_wrapper took 0.006575 seconds\n"
          ]
        },
        {
          "output_type": "stream",
          "name": "stderr",
          "text": [
            "INFO:hyperopt.tpe:TPE using 9/9 trials with best loss 0.221325\n"
          ]
        },
        {
          "output_type": "stream",
          "name": "stdout",
          "text": [
            "2022-11-22 13:21:12,908 - TPE using 9/9 trials with best loss 0.221325\n",
            "100%|██████████| 10/10 [00:10<00:00,  1.01s/trial, best loss: 0.22132458777669126]\n"
          ]
        },
        {
          "output_type": "stream",
          "name": "stderr",
          "text": [
            "INFO:root:PipelineTuner - Hyperparameters optimization finished\n"
          ]
        },
        {
          "output_type": "stream",
          "name": "stdout",
          "text": [
            "2022-11-22 13:21:14,415 - PipelineTuner - Hyperparameters optimization finished\n"
          ]
        },
        {
          "output_type": "stream",
          "name": "stderr",
          "text": [
            "INFO:root:PipelineTuner - Return init pipeline due to the fact that obtained metric 0.221 worse than initial (+ 5% deviation) 0.220\n"
          ]
        },
        {
          "output_type": "stream",
          "name": "stdout",
          "text": [
            "2022-11-22 13:21:14,432 - PipelineTuner - Return init pipeline due to the fact that obtained metric 0.221 worse than initial (+ 5% deviation) 0.220\n"
          ]
        },
        {
          "output_type": "stream",
          "name": "stderr",
          "text": [
            "INFO:root:PipelineTuner - Hyperparameters optimization start\n"
          ]
        },
        {
          "output_type": "stream",
          "name": "stdout",
          "text": [
            "2022-11-22 13:21:14,642 - PipelineTuner - Hyperparameters optimization start\n",
            "  0%|          | 0/10 [00:00<?, ?trial/s, best loss=?]"
          ]
        },
        {
          "output_type": "stream",
          "name": "stderr",
          "text": [
            "INFO:hyperopt.tpe:build_posterior_wrapper took 0.007838 seconds\n"
          ]
        },
        {
          "output_type": "stream",
          "name": "stdout",
          "text": [
            "2022-11-22 13:21:15,089 - build_posterior_wrapper took 0.007838 seconds\n"
          ]
        },
        {
          "output_type": "stream",
          "name": "stderr",
          "text": [
            "INFO:hyperopt.tpe:TPE using 0 trials\n"
          ]
        },
        {
          "output_type": "stream",
          "name": "stdout",
          "text": [
            "2022-11-22 13:21:15,104 - TPE using 0 trials\n",
            " 10%|█         | 1/10 [00:01<00:11,  1.30s/trial, best loss: 3.2857547141745]"
          ]
        },
        {
          "output_type": "stream",
          "name": "stderr",
          "text": [
            "INFO:hyperopt.tpe:build_posterior_wrapper took 0.005826 seconds\n"
          ]
        },
        {
          "output_type": "stream",
          "name": "stdout",
          "text": [
            "2022-11-22 13:21:16,386 - build_posterior_wrapper took 0.005826 seconds\n"
          ]
        },
        {
          "output_type": "stream",
          "name": "stderr",
          "text": [
            "INFO:hyperopt.tpe:TPE using 1/1 trials with best loss 3.285755\n"
          ]
        },
        {
          "output_type": "stream",
          "name": "stdout",
          "text": [
            "2022-11-22 13:21:16,397 - TPE using 1/1 trials with best loss 3.285755\n",
            " 20%|██        | 2/10 [00:02<00:12,  1.52s/trial, best loss: 0.824484498947085]"
          ]
        },
        {
          "output_type": "stream",
          "name": "stderr",
          "text": [
            "INFO:hyperopt.tpe:build_posterior_wrapper took 0.005982 seconds\n"
          ]
        },
        {
          "output_type": "stream",
          "name": "stdout",
          "text": [
            "2022-11-22 13:21:18,059 - build_posterior_wrapper took 0.005982 seconds\n"
          ]
        },
        {
          "output_type": "stream",
          "name": "stderr",
          "text": [
            "INFO:hyperopt.tpe:TPE using 2/2 trials with best loss 0.824484\n"
          ]
        },
        {
          "output_type": "stream",
          "name": "stdout",
          "text": [
            "2022-11-22 13:21:18,078 - TPE using 2/2 trials with best loss 0.824484\n",
            " 30%|███       | 3/10 [00:03<00:06,  1.00trial/s, best loss: 0.5233653348838524]"
          ]
        },
        {
          "output_type": "stream",
          "name": "stderr",
          "text": [
            "INFO:hyperopt.tpe:build_posterior_wrapper took 0.005720 seconds\n"
          ]
        },
        {
          "output_type": "stream",
          "name": "stdout",
          "text": [
            "2022-11-22 13:21:18,442 - build_posterior_wrapper took 0.005720 seconds\n"
          ]
        },
        {
          "output_type": "stream",
          "name": "stderr",
          "text": [
            "INFO:hyperopt.tpe:TPE using 3/3 trials with best loss 0.523365\n"
          ]
        },
        {
          "output_type": "stream",
          "name": "stdout",
          "text": [
            "2022-11-22 13:21:18,459 - TPE using 3/3 trials with best loss 0.523365\n",
            " 40%|████      | 4/10 [00:03<00:04,  1.37trial/s, best loss: 0.5233653348838524]"
          ]
        },
        {
          "output_type": "stream",
          "name": "stderr",
          "text": [
            "INFO:hyperopt.tpe:build_posterior_wrapper took 0.005610 seconds\n"
          ]
        },
        {
          "output_type": "stream",
          "name": "stdout",
          "text": [
            "2022-11-22 13:21:18,764 - build_posterior_wrapper took 0.005610 seconds\n"
          ]
        },
        {
          "output_type": "stream",
          "name": "stderr",
          "text": [
            "INFO:hyperopt.tpe:TPE using 4/4 trials with best loss 0.523365\n"
          ]
        },
        {
          "output_type": "stream",
          "name": "stdout",
          "text": [
            "2022-11-22 13:21:18,777 - TPE using 4/4 trials with best loss 0.523365\n",
            " 50%|█████     | 5/10 [00:04<00:03,  1.64trial/s, best loss: 0.5233653348838524]"
          ]
        },
        {
          "output_type": "stream",
          "name": "stderr",
          "text": [
            "INFO:hyperopt.tpe:build_posterior_wrapper took 0.005626 seconds\n"
          ]
        },
        {
          "output_type": "stream",
          "name": "stdout",
          "text": [
            "2022-11-22 13:21:19,157 - build_posterior_wrapper took 0.005626 seconds\n"
          ]
        },
        {
          "output_type": "stream",
          "name": "stderr",
          "text": [
            "INFO:hyperopt.tpe:TPE using 5/5 trials with best loss 0.523365\n"
          ]
        },
        {
          "output_type": "stream",
          "name": "stdout",
          "text": [
            "2022-11-22 13:21:19,168 - TPE using 5/5 trials with best loss 0.523365\n",
            " 60%|██████    | 6/10 [00:05<00:03,  1.07trial/s, best loss: 0.5233653348838524]"
          ]
        },
        {
          "output_type": "stream",
          "name": "stderr",
          "text": [
            "INFO:hyperopt.tpe:build_posterior_wrapper took 0.005763 seconds\n"
          ]
        },
        {
          "output_type": "stream",
          "name": "stdout",
          "text": [
            "2022-11-22 13:21:20,733 - build_posterior_wrapper took 0.005763 seconds\n"
          ]
        },
        {
          "output_type": "stream",
          "name": "stderr",
          "text": [
            "INFO:hyperopt.tpe:TPE using 6/6 trials with best loss 0.523365\n"
          ]
        },
        {
          "output_type": "stream",
          "name": "stdout",
          "text": [
            "2022-11-22 13:21:20,750 - TPE using 6/6 trials with best loss 0.523365\n",
            " 70%|███████   | 7/10 [00:06<00:02,  1.03trial/s, best loss: 0.5233653348838524]"
          ]
        },
        {
          "output_type": "stream",
          "name": "stderr",
          "text": [
            "INFO:hyperopt.tpe:build_posterior_wrapper took 0.005553 seconds\n"
          ]
        },
        {
          "output_type": "stream",
          "name": "stdout",
          "text": [
            "2022-11-22 13:21:21,770 - build_posterior_wrapper took 0.005553 seconds\n"
          ]
        },
        {
          "output_type": "stream",
          "name": "stderr",
          "text": [
            "INFO:hyperopt.tpe:TPE using 7/7 trials with best loss 0.523365\n"
          ]
        },
        {
          "output_type": "stream",
          "name": "stdout",
          "text": [
            "2022-11-22 13:21:21,786 - TPE using 7/7 trials with best loss 0.523365\n",
            " 80%|████████  | 8/10 [00:07<00:01,  1.20trial/s, best loss: 0.33542701655274426]"
          ]
        },
        {
          "output_type": "stream",
          "name": "stderr",
          "text": [
            "INFO:hyperopt.tpe:build_posterior_wrapper took 0.006101 seconds\n"
          ]
        },
        {
          "output_type": "stream",
          "name": "stdout",
          "text": [
            "2022-11-22 13:21:22,312 - build_posterior_wrapper took 0.006101 seconds\n"
          ]
        },
        {
          "output_type": "stream",
          "name": "stderr",
          "text": [
            "INFO:hyperopt.tpe:TPE using 8/8 trials with best loss 0.335427\n"
          ]
        },
        {
          "output_type": "stream",
          "name": "stdout",
          "text": [
            "2022-11-22 13:21:22,323 - TPE using 8/8 trials with best loss 0.335427\n",
            " 90%|█████████ | 9/10 [00:07<00:00,  1.51trial/s, best loss: 0.33542701655274426]"
          ]
        },
        {
          "output_type": "stream",
          "name": "stderr",
          "text": [
            "INFO:hyperopt.tpe:build_posterior_wrapper took 0.006392 seconds\n"
          ]
        },
        {
          "output_type": "stream",
          "name": "stdout",
          "text": [
            "2022-11-22 13:21:22,601 - build_posterior_wrapper took 0.006392 seconds\n"
          ]
        },
        {
          "output_type": "stream",
          "name": "stderr",
          "text": [
            "INFO:hyperopt.tpe:TPE using 9/9 trials with best loss 0.335427\n"
          ]
        },
        {
          "output_type": "stream",
          "name": "stdout",
          "text": [
            "2022-11-22 13:21:22,613 - TPE using 9/9 trials with best loss 0.335427\n",
            "100%|██████████| 10/10 [00:08<00:00,  1.14trial/s, best loss: 0.33542701655274426]\n"
          ]
        },
        {
          "output_type": "stream",
          "name": "stderr",
          "text": [
            "INFO:root:PipelineTuner - Hyperparameters optimization finished\n"
          ]
        },
        {
          "output_type": "stream",
          "name": "stdout",
          "text": [
            "2022-11-22 13:21:24,391 - PipelineTuner - Hyperparameters optimization finished\n"
          ]
        },
        {
          "output_type": "stream",
          "name": "stderr",
          "text": [
            "INFO:root:PipelineTuner - Return tuned pipeline due to the fact that obtained metric 0.335 equal or better than initial (+ 5% deviation) 1.687\n"
          ]
        },
        {
          "output_type": "stream",
          "name": "stdout",
          "text": [
            "2022-11-22 13:21:24,405 - PipelineTuner - Return tuned pipeline due to the fact that obtained metric 0.335 equal or better than initial (+ 5% deviation) 1.687\n"
          ]
        },
        {
          "output_type": "stream",
          "name": "stderr",
          "text": [
            "INFO:root:PipelineTuner - Hyperparameters optimization start\n"
          ]
        },
        {
          "output_type": "stream",
          "name": "stdout",
          "text": [
            "2022-11-22 13:21:24,957 - PipelineTuner - Hyperparameters optimization start\n",
            "  0%|          | 0/10 [00:00<?, ?trial/s, best loss=?]"
          ]
        },
        {
          "output_type": "stream",
          "name": "stderr",
          "text": [
            "INFO:hyperopt.tpe:build_posterior_wrapper took 0.007868 seconds\n"
          ]
        },
        {
          "output_type": "stream",
          "name": "stdout",
          "text": [
            "2022-11-22 13:21:25,246 - build_posterior_wrapper took 0.007868 seconds\n"
          ]
        },
        {
          "output_type": "stream",
          "name": "stderr",
          "text": [
            "INFO:hyperopt.tpe:TPE using 0 trials\n"
          ]
        },
        {
          "output_type": "stream",
          "name": "stdout",
          "text": [
            "2022-11-22 13:21:25,260 - TPE using 0 trials\n",
            " 10%|█         | 1/10 [00:00<00:03,  2.73trial/s, best loss: 0.32590172873438467]"
          ]
        },
        {
          "output_type": "stream",
          "name": "stderr",
          "text": [
            "INFO:hyperopt.tpe:build_posterior_wrapper took 0.007294 seconds\n"
          ]
        },
        {
          "output_type": "stream",
          "name": "stdout",
          "text": [
            "2022-11-22 13:21:25,619 - build_posterior_wrapper took 0.007294 seconds\n"
          ]
        },
        {
          "output_type": "stream",
          "name": "stderr",
          "text": [
            "INFO:hyperopt.tpe:TPE using 1/1 trials with best loss 0.325902\n"
          ]
        },
        {
          "output_type": "stream",
          "name": "stdout",
          "text": [
            "2022-11-22 13:21:25,634 - TPE using 1/1 trials with best loss 0.325902\n",
            " 20%|██        | 2/10 [00:00<00:02,  2.71trial/s, best loss: 0.21850613863960341]"
          ]
        },
        {
          "output_type": "stream",
          "name": "stderr",
          "text": [
            "INFO:hyperopt.tpe:build_posterior_wrapper took 0.006886 seconds\n"
          ]
        },
        {
          "output_type": "stream",
          "name": "stdout",
          "text": [
            "2022-11-22 13:21:25,985 - build_posterior_wrapper took 0.006886 seconds\n"
          ]
        },
        {
          "output_type": "stream",
          "name": "stderr",
          "text": [
            "INFO:hyperopt.tpe:TPE using 2/2 trials with best loss 0.218506\n"
          ]
        },
        {
          "output_type": "stream",
          "name": "stdout",
          "text": [
            "2022-11-22 13:21:25,993 - TPE using 2/2 trials with best loss 0.218506\n",
            " 30%|███       | 3/10 [00:01<00:02,  2.80trial/s, best loss: 0.21850613863960341]"
          ]
        },
        {
          "output_type": "stream",
          "name": "stderr",
          "text": [
            "INFO:hyperopt.tpe:build_posterior_wrapper took 0.006706 seconds\n"
          ]
        },
        {
          "output_type": "stream",
          "name": "stdout",
          "text": [
            "2022-11-22 13:21:26,329 - build_posterior_wrapper took 0.006706 seconds\n"
          ]
        },
        {
          "output_type": "stream",
          "name": "stderr",
          "text": [
            "INFO:hyperopt.tpe:TPE using 3/3 trials with best loss 0.218506\n"
          ]
        },
        {
          "output_type": "stream",
          "name": "stdout",
          "text": [
            "2022-11-22 13:21:26,336 - TPE using 3/3 trials with best loss 0.218506\n",
            " 40%|████      | 4/10 [00:02<00:04,  1.47trial/s, best loss: 0.21850613863960341]"
          ]
        },
        {
          "output_type": "stream",
          "name": "stderr",
          "text": [
            "INFO:hyperopt.tpe:build_posterior_wrapper took 0.006312 seconds\n"
          ]
        },
        {
          "output_type": "stream",
          "name": "stdout",
          "text": [
            "2022-11-22 13:21:27,506 - build_posterior_wrapper took 0.006312 seconds\n"
          ]
        },
        {
          "output_type": "stream",
          "name": "stderr",
          "text": [
            "INFO:hyperopt.tpe:TPE using 4/4 trials with best loss 0.218506\n"
          ]
        },
        {
          "output_type": "stream",
          "name": "stdout",
          "text": [
            "2022-11-22 13:21:27,512 - TPE using 4/4 trials with best loss 0.218506\n",
            " 50%|█████     | 5/10 [00:02<00:03,  1.47trial/s, best loss: 0.21850613863960341]"
          ]
        },
        {
          "output_type": "stream",
          "name": "stderr",
          "text": [
            "INFO:hyperopt.tpe:build_posterior_wrapper took 0.005865 seconds\n"
          ]
        },
        {
          "output_type": "stream",
          "name": "stdout",
          "text": [
            "2022-11-22 13:21:28,186 - build_posterior_wrapper took 0.005865 seconds\n"
          ]
        },
        {
          "output_type": "stream",
          "name": "stderr",
          "text": [
            "INFO:hyperopt.tpe:TPE using 5/5 trials with best loss 0.218506\n"
          ]
        },
        {
          "output_type": "stream",
          "name": "stdout",
          "text": [
            "2022-11-22 13:21:28,198 - TPE using 5/5 trials with best loss 0.218506\n",
            " 60%|██████    | 6/10 [00:04<00:03,  1.21trial/s, best loss: 0.21850613863960341]"
          ]
        },
        {
          "output_type": "stream",
          "name": "stderr",
          "text": [
            "INFO:hyperopt.tpe:build_posterior_wrapper took 0.007716 seconds\n"
          ]
        },
        {
          "output_type": "stream",
          "name": "stdout",
          "text": [
            "2022-11-22 13:21:29,301 - build_posterior_wrapper took 0.007716 seconds\n"
          ]
        },
        {
          "output_type": "stream",
          "name": "stderr",
          "text": [
            "INFO:hyperopt.tpe:TPE using 6/6 trials with best loss 0.218506\n"
          ]
        },
        {
          "output_type": "stream",
          "name": "stdout",
          "text": [
            "2022-11-22 13:21:29,313 - TPE using 6/6 trials with best loss 0.218506\n",
            " 70%|███████   | 7/10 [00:04<00:02,  1.15trial/s, best loss: 0.21850613863960341]"
          ]
        },
        {
          "output_type": "stream",
          "name": "stderr",
          "text": [
            "INFO:hyperopt.tpe:build_posterior_wrapper took 0.006526 seconds\n"
          ]
        },
        {
          "output_type": "stream",
          "name": "stdout",
          "text": [
            "2022-11-22 13:21:30,248 - build_posterior_wrapper took 0.006526 seconds\n"
          ]
        },
        {
          "output_type": "stream",
          "name": "stderr",
          "text": [
            "INFO:hyperopt.tpe:TPE using 7/7 trials with best loss 0.218506\n"
          ]
        },
        {
          "output_type": "stream",
          "name": "stdout",
          "text": [
            "2022-11-22 13:21:30,263 - TPE using 7/7 trials with best loss 0.218506\n",
            " 80%|████████  | 8/10 [00:05<00:01,  1.32trial/s, best loss: 0.21850613863960341]"
          ]
        },
        {
          "output_type": "stream",
          "name": "stderr",
          "text": [
            "INFO:hyperopt.tpe:build_posterior_wrapper took 0.005515 seconds\n"
          ]
        },
        {
          "output_type": "stream",
          "name": "stdout",
          "text": [
            "2022-11-22 13:21:30,770 - build_posterior_wrapper took 0.005515 seconds\n"
          ]
        },
        {
          "output_type": "stream",
          "name": "stderr",
          "text": [
            "INFO:hyperopt.tpe:TPE using 8/8 trials with best loss 0.218506\n"
          ]
        },
        {
          "output_type": "stream",
          "name": "stdout",
          "text": [
            "2022-11-22 13:21:30,786 - TPE using 8/8 trials with best loss 0.218506\n",
            " 90%|█████████ | 9/10 [00:06<00:00,  1.04trial/s, best loss: 0.21850613863960341]"
          ]
        },
        {
          "output_type": "stream",
          "name": "stderr",
          "text": [
            "INFO:hyperopt.tpe:build_posterior_wrapper took 0.010538 seconds\n"
          ]
        },
        {
          "output_type": "stream",
          "name": "stdout",
          "text": [
            "2022-11-22 13:21:32,185 - build_posterior_wrapper took 0.010538 seconds\n"
          ]
        },
        {
          "output_type": "stream",
          "name": "stderr",
          "text": [
            "INFO:hyperopt.tpe:TPE using 9/9 trials with best loss 0.218506\n"
          ]
        },
        {
          "output_type": "stream",
          "name": "stdout",
          "text": [
            "2022-11-22 13:21:32,201 - TPE using 9/9 trials with best loss 0.218506\n",
            "100%|██████████| 10/10 [00:07<00:00,  1.27trial/s, best loss: 0.19865061702679107]\n"
          ]
        },
        {
          "output_type": "stream",
          "name": "stderr",
          "text": [
            "INFO:root:PipelineTuner - Hyperparameters optimization finished\n"
          ]
        },
        {
          "output_type": "stream",
          "name": "stdout",
          "text": [
            "2022-11-22 13:21:33,950 - PipelineTuner - Hyperparameters optimization finished\n"
          ]
        },
        {
          "output_type": "stream",
          "name": "stderr",
          "text": [
            "INFO:root:PipelineTuner - Return tuned pipeline due to the fact that obtained metric 0.199 equal or better than initial (+ 5% deviation) 0.221\n"
          ]
        },
        {
          "output_type": "stream",
          "name": "stdout",
          "text": [
            "2022-11-22 13:21:33,971 - PipelineTuner - Return tuned pipeline due to the fact that obtained metric 0.199 equal or better than initial (+ 5% deviation) 0.221\n"
          ]
        },
        {
          "output_type": "stream",
          "name": "stderr",
          "text": [
            "INFO:root:PipelineTuner - Hyperparameters optimization start\n"
          ]
        },
        {
          "output_type": "stream",
          "name": "stdout",
          "text": [
            "2022-11-22 13:21:34,814 - PipelineTuner - Hyperparameters optimization start\n",
            "  0%|          | 0/10 [00:00<?, ?trial/s, best loss=?]"
          ]
        },
        {
          "output_type": "stream",
          "name": "stderr",
          "text": [
            "INFO:hyperopt.tpe:build_posterior_wrapper took 0.005867 seconds\n"
          ]
        },
        {
          "output_type": "stream",
          "name": "stdout",
          "text": [
            "2022-11-22 13:21:35,637 - build_posterior_wrapper took 0.005867 seconds\n"
          ]
        },
        {
          "output_type": "stream",
          "name": "stderr",
          "text": [
            "INFO:hyperopt.tpe:TPE using 0 trials\n"
          ]
        },
        {
          "output_type": "stream",
          "name": "stdout",
          "text": [
            "2022-11-22 13:21:35,650 - TPE using 0 trials\n",
            " 10%|█         | 1/10 [00:01<00:09,  1.04s/trial, best loss: 0.5644041677093733]"
          ]
        },
        {
          "output_type": "stream",
          "name": "stderr",
          "text": [
            "INFO:hyperopt.tpe:build_posterior_wrapper took 0.006300 seconds\n"
          ]
        },
        {
          "output_type": "stream",
          "name": "stdout",
          "text": [
            "2022-11-22 13:21:36,682 - build_posterior_wrapper took 0.006300 seconds\n"
          ]
        },
        {
          "output_type": "stream",
          "name": "stderr",
          "text": [
            "INFO:hyperopt.tpe:TPE using 1/1 trials with best loss 0.564404\n"
          ]
        },
        {
          "output_type": "stream",
          "name": "stdout",
          "text": [
            "2022-11-22 13:21:36,696 - TPE using 1/1 trials with best loss 0.564404\n",
            " 20%|██        | 2/10 [00:02<00:10,  1.26s/trial, best loss: 0.5644041677093733]"
          ]
        },
        {
          "output_type": "stream",
          "name": "stderr",
          "text": [
            "INFO:hyperopt.tpe:build_posterior_wrapper took 0.010659 seconds\n"
          ]
        },
        {
          "output_type": "stream",
          "name": "stdout",
          "text": [
            "2022-11-22 13:21:38,105 - build_posterior_wrapper took 0.010659 seconds\n"
          ]
        },
        {
          "output_type": "stream",
          "name": "stderr",
          "text": [
            "INFO:hyperopt.tpe:TPE using 2/2 trials with best loss 0.564404\n"
          ]
        },
        {
          "output_type": "stream",
          "name": "stdout",
          "text": [
            "2022-11-22 13:21:38,118 - TPE using 2/2 trials with best loss 0.564404\n",
            " 30%|███       | 3/10 [00:03<00:07,  1.08s/trial, best loss: 0.5644041677093733]"
          ]
        },
        {
          "output_type": "stream",
          "name": "stderr",
          "text": [
            "INFO:hyperopt.tpe:build_posterior_wrapper took 0.006484 seconds\n"
          ]
        },
        {
          "output_type": "stream",
          "name": "stdout",
          "text": [
            "2022-11-22 13:21:38,967 - build_posterior_wrapper took 0.006484 seconds\n"
          ]
        },
        {
          "output_type": "stream",
          "name": "stderr",
          "text": [
            "INFO:hyperopt.tpe:TPE using 3/3 trials with best loss 0.564404\n"
          ]
        },
        {
          "output_type": "stream",
          "name": "stdout",
          "text": [
            "2022-11-22 13:21:38,987 - TPE using 3/3 trials with best loss 0.564404\n",
            " 40%|████      | 4/10 [00:04<00:05,  1.02trial/s, best loss: 0.5644041677093733]"
          ]
        },
        {
          "output_type": "stream",
          "name": "stderr",
          "text": [
            "INFO:hyperopt.tpe:build_posterior_wrapper took 0.006148 seconds\n"
          ]
        },
        {
          "output_type": "stream",
          "name": "stdout",
          "text": [
            "2022-11-22 13:21:39,777 - build_posterior_wrapper took 0.006148 seconds\n"
          ]
        },
        {
          "output_type": "stream",
          "name": "stderr",
          "text": [
            "INFO:hyperopt.tpe:TPE using 4/4 trials with best loss 0.564404\n"
          ]
        },
        {
          "output_type": "stream",
          "name": "stdout",
          "text": [
            "2022-11-22 13:21:39,790 - TPE using 4/4 trials with best loss 0.564404\n",
            " 50%|█████     | 5/10 [00:05<00:05,  1.08s/trial, best loss: 0.5644041677093733]"
          ]
        },
        {
          "output_type": "stream",
          "name": "stderr",
          "text": [
            "INFO:hyperopt.tpe:build_posterior_wrapper took 0.005731 seconds\n"
          ]
        },
        {
          "output_type": "stream",
          "name": "stdout",
          "text": [
            "2022-11-22 13:21:41,048 - build_posterior_wrapper took 0.005731 seconds\n"
          ]
        },
        {
          "output_type": "stream",
          "name": "stderr",
          "text": [
            "INFO:hyperopt.tpe:TPE using 5/5 trials with best loss 0.564404\n"
          ]
        },
        {
          "output_type": "stream",
          "name": "stdout",
          "text": [
            "2022-11-22 13:21:41,064 - TPE using 5/5 trials with best loss 0.564404\n",
            " 60%|██████    | 6/10 [00:06<00:04,  1.24s/trial, best loss: 0.5644041677093733]"
          ]
        },
        {
          "output_type": "stream",
          "name": "stderr",
          "text": [
            "INFO:hyperopt.tpe:build_posterior_wrapper took 0.006092 seconds\n"
          ]
        },
        {
          "output_type": "stream",
          "name": "stdout",
          "text": [
            "2022-11-22 13:21:42,591 - build_posterior_wrapper took 0.006092 seconds\n"
          ]
        },
        {
          "output_type": "stream",
          "name": "stderr",
          "text": [
            "INFO:hyperopt.tpe:TPE using 6/6 trials with best loss 0.564404\n"
          ]
        },
        {
          "output_type": "stream",
          "name": "stdout",
          "text": [
            "2022-11-22 13:21:42,603 - TPE using 6/6 trials with best loss 0.564404\n",
            " 70%|███████   | 7/10 [00:07<00:03,  1.07s/trial, best loss: 0.3574230029122878]"
          ]
        },
        {
          "output_type": "stream",
          "name": "stderr",
          "text": [
            "INFO:hyperopt.tpe:build_posterior_wrapper took 0.006120 seconds\n"
          ]
        },
        {
          "output_type": "stream",
          "name": "stdout",
          "text": [
            "2022-11-22 13:21:43,334 - build_posterior_wrapper took 0.006120 seconds\n"
          ]
        },
        {
          "output_type": "stream",
          "name": "stderr",
          "text": [
            "INFO:hyperopt.tpe:TPE using 7/7 trials with best loss 0.357423\n"
          ]
        },
        {
          "output_type": "stream",
          "name": "stdout",
          "text": [
            "2022-11-22 13:21:43,351 - TPE using 7/7 trials with best loss 0.357423\n",
            " 80%|████████  | 8/10 [00:09<00:02,  1.23s/trial, best loss: 0.3574230029122878]"
          ]
        },
        {
          "output_type": "stream",
          "name": "stderr",
          "text": [
            "INFO:hyperopt.tpe:build_posterior_wrapper took 0.005953 seconds\n"
          ]
        },
        {
          "output_type": "stream",
          "name": "stdout",
          "text": [
            "2022-11-22 13:21:44,881 - build_posterior_wrapper took 0.005953 seconds\n"
          ]
        },
        {
          "output_type": "stream",
          "name": "stderr",
          "text": [
            "INFO:hyperopt.tpe:TPE using 8/8 trials with best loss 0.357423\n"
          ]
        },
        {
          "output_type": "stream",
          "name": "stdout",
          "text": [
            "2022-11-22 13:21:44,895 - TPE using 8/8 trials with best loss 0.357423\n",
            " 90%|█████████ | 9/10 [00:09<00:00,  1.00trial/s, best loss: 0.3574230029122878]"
          ]
        },
        {
          "output_type": "stream",
          "name": "stderr",
          "text": [
            "INFO:hyperopt.tpe:build_posterior_wrapper took 0.007127 seconds\n"
          ]
        },
        {
          "output_type": "stream",
          "name": "stdout",
          "text": [
            "2022-11-22 13:21:45,378 - build_posterior_wrapper took 0.007127 seconds\n"
          ]
        },
        {
          "output_type": "stream",
          "name": "stderr",
          "text": [
            "INFO:hyperopt.tpe:TPE using 9/9 trials with best loss 0.357423\n"
          ]
        },
        {
          "output_type": "stream",
          "name": "stdout",
          "text": [
            "2022-11-22 13:21:45,392 - TPE using 9/9 trials with best loss 0.357423\n",
            "100%|██████████| 10/10 [00:10<00:00,  1.02s/trial, best loss: 0.35602429393506624]\n"
          ]
        },
        {
          "output_type": "stream",
          "name": "stderr",
          "text": [
            "INFO:root:PipelineTuner - Hyperparameters optimization finished\n"
          ]
        },
        {
          "output_type": "stream",
          "name": "stdout",
          "text": [
            "2022-11-22 13:21:46,299 - PipelineTuner - Hyperparameters optimization finished\n"
          ]
        },
        {
          "output_type": "stream",
          "name": "stderr",
          "text": [
            "INFO:root:PipelineTuner - Return tuned pipeline due to the fact that obtained metric 0.356 equal or better than initial (+ 5% deviation) 1.872\n"
          ]
        },
        {
          "output_type": "stream",
          "name": "stdout",
          "text": [
            "2022-11-22 13:21:46,315 - PipelineTuner - Return tuned pipeline due to the fact that obtained metric 0.356 equal or better than initial (+ 5% deviation) 1.872\n"
          ]
        },
        {
          "output_type": "stream",
          "name": "stderr",
          "text": [
            "INFO:root:PipelineTuner - Hyperparameters optimization start\n"
          ]
        },
        {
          "output_type": "stream",
          "name": "stdout",
          "text": [
            "2022-11-22 13:21:46,760 - PipelineTuner - Hyperparameters optimization start\n",
            "  0%|          | 0/10 [00:00<?, ?trial/s, best loss=?]"
          ]
        },
        {
          "output_type": "stream",
          "name": "stderr",
          "text": [
            "INFO:hyperopt.tpe:build_posterior_wrapper took 0.005871 seconds\n"
          ]
        },
        {
          "output_type": "stream",
          "name": "stdout",
          "text": [
            "2022-11-22 13:21:47,040 - build_posterior_wrapper took 0.005871 seconds\n"
          ]
        },
        {
          "output_type": "stream",
          "name": "stderr",
          "text": [
            "INFO:hyperopt.tpe:TPE using 0 trials\n"
          ]
        },
        {
          "output_type": "stream",
          "name": "stdout",
          "text": [
            "2022-11-22 13:21:47,052 - TPE using 0 trials\n",
            " 10%|█         | 1/10 [00:00<00:08,  1.07trial/s, best loss: 181.97900967385414]"
          ]
        },
        {
          "output_type": "stream",
          "name": "stderr",
          "text": [
            "INFO:hyperopt.tpe:build_posterior_wrapper took 0.005641 seconds\n"
          ]
        },
        {
          "output_type": "stream",
          "name": "stdout",
          "text": [
            "2022-11-22 13:21:47,977 - build_posterior_wrapper took 0.005641 seconds\n"
          ]
        },
        {
          "output_type": "stream",
          "name": "stderr",
          "text": [
            "INFO:hyperopt.tpe:TPE using 1/1 trials with best loss 181.979010\n"
          ]
        },
        {
          "output_type": "stream",
          "name": "stdout",
          "text": [
            "2022-11-22 13:21:47,985 - TPE using 1/1 trials with best loss 181.979010\n",
            " 20%|██        | 2/10 [00:02<00:09,  1.23s/trial, best loss: 16.756514002713214]"
          ]
        },
        {
          "output_type": "stream",
          "name": "stderr",
          "text": [
            "INFO:hyperopt.tpe:build_posterior_wrapper took 0.006192 seconds\n"
          ]
        },
        {
          "output_type": "stream",
          "name": "stdout",
          "text": [
            "2022-11-22 13:21:49,416 - build_posterior_wrapper took 0.006192 seconds\n"
          ]
        },
        {
          "output_type": "stream",
          "name": "stderr",
          "text": [
            "INFO:hyperopt.tpe:TPE using 2/2 trials with best loss 16.756514\n"
          ]
        },
        {
          "output_type": "stream",
          "name": "stdout",
          "text": [
            "2022-11-22 13:21:49,423 - TPE using 2/2 trials with best loss 16.756514\n",
            " 30%|███       | 3/10 [00:03<00:07,  1.05s/trial, best loss: 0.30878738486866064]"
          ]
        },
        {
          "output_type": "stream",
          "name": "stderr",
          "text": [
            "INFO:hyperopt.tpe:build_posterior_wrapper took 0.007092 seconds\n"
          ]
        },
        {
          "output_type": "stream",
          "name": "stdout",
          "text": [
            "2022-11-22 13:21:50,256 - build_posterior_wrapper took 0.007092 seconds\n"
          ]
        },
        {
          "output_type": "stream",
          "name": "stderr",
          "text": [
            "INFO:hyperopt.tpe:TPE using 3/3 trials with best loss 0.308787\n"
          ]
        },
        {
          "output_type": "stream",
          "name": "stdout",
          "text": [
            "2022-11-22 13:21:50,266 - TPE using 3/3 trials with best loss 0.308787\n",
            " 40%|████      | 4/10 [00:03<00:04,  1.30trial/s, best loss: 0.30878738486866064]"
          ]
        },
        {
          "output_type": "stream",
          "name": "stderr",
          "text": [
            "INFO:hyperopt.tpe:build_posterior_wrapper took 0.007533 seconds\n"
          ]
        },
        {
          "output_type": "stream",
          "name": "stdout",
          "text": [
            "2022-11-22 13:21:50,592 - build_posterior_wrapper took 0.007533 seconds\n"
          ]
        },
        {
          "output_type": "stream",
          "name": "stderr",
          "text": [
            "INFO:hyperopt.tpe:TPE using 4/4 trials with best loss 0.308787\n"
          ]
        },
        {
          "output_type": "stream",
          "name": "stdout",
          "text": [
            "2022-11-22 13:21:50,599 - TPE using 4/4 trials with best loss 0.308787\n",
            " 50%|█████     | 5/10 [00:03<00:03,  1.67trial/s, best loss: 0.20041096558486143]"
          ]
        },
        {
          "output_type": "stream",
          "name": "stderr",
          "text": [
            "INFO:hyperopt.tpe:build_posterior_wrapper took 0.006718 seconds\n"
          ]
        },
        {
          "output_type": "stream",
          "name": "stdout",
          "text": [
            "2022-11-22 13:21:50,890 - build_posterior_wrapper took 0.006718 seconds\n"
          ]
        },
        {
          "output_type": "stream",
          "name": "stderr",
          "text": [
            "INFO:hyperopt.tpe:TPE using 5/5 trials with best loss 0.200411\n"
          ]
        },
        {
          "output_type": "stream",
          "name": "stdout",
          "text": [
            "2022-11-22 13:21:50,898 - TPE using 5/5 trials with best loss 0.200411\n",
            " 60%|██████    | 6/10 [00:04<00:02,  1.41trial/s, best loss: 0.20041096558486143]"
          ]
        },
        {
          "output_type": "stream",
          "name": "stderr",
          "text": [
            "INFO:hyperopt.tpe:build_posterior_wrapper took 0.005761 seconds\n"
          ]
        },
        {
          "output_type": "stream",
          "name": "stdout",
          "text": [
            "2022-11-22 13:21:51,807 - build_posterior_wrapper took 0.005761 seconds\n"
          ]
        },
        {
          "output_type": "stream",
          "name": "stderr",
          "text": [
            "INFO:hyperopt.tpe:TPE using 6/6 trials with best loss 0.200411\n"
          ]
        },
        {
          "output_type": "stream",
          "name": "stdout",
          "text": [
            "2022-11-22 13:21:51,814 - TPE using 6/6 trials with best loss 0.200411\n",
            " 70%|███████   | 7/10 [00:05<00:02,  1.39trial/s, best loss: 0.18468904291710447]"
          ]
        },
        {
          "output_type": "stream",
          "name": "stderr",
          "text": [
            "INFO:hyperopt.tpe:build_posterior_wrapper took 0.005559 seconds\n"
          ]
        },
        {
          "output_type": "stream",
          "name": "stdout",
          "text": [
            "2022-11-22 13:21:52,550 - build_posterior_wrapper took 0.005559 seconds\n"
          ]
        },
        {
          "output_type": "stream",
          "name": "stderr",
          "text": [
            "INFO:hyperopt.tpe:TPE using 7/7 trials with best loss 0.184689\n"
          ]
        },
        {
          "output_type": "stream",
          "name": "stdout",
          "text": [
            "2022-11-22 13:21:52,563 - TPE using 7/7 trials with best loss 0.184689\n",
            " 80%|████████  | 8/10 [00:06<00:01,  1.48trial/s, best loss: 0.18468904291710447]"
          ]
        },
        {
          "output_type": "stream",
          "name": "stderr",
          "text": [
            "INFO:hyperopt.tpe:build_posterior_wrapper took 0.007458 seconds\n"
          ]
        },
        {
          "output_type": "stream",
          "name": "stdout",
          "text": [
            "2022-11-22 13:21:53,136 - build_posterior_wrapper took 0.007458 seconds\n"
          ]
        },
        {
          "output_type": "stream",
          "name": "stderr",
          "text": [
            "INFO:hyperopt.tpe:TPE using 8/8 trials with best loss 0.184689\n"
          ]
        },
        {
          "output_type": "stream",
          "name": "stdout",
          "text": [
            "2022-11-22 13:21:53,144 - TPE using 8/8 trials with best loss 0.184689\n",
            " 90%|█████████ | 9/10 [00:06<00:00,  1.38trial/s, best loss: 0.18468904291710447]"
          ]
        },
        {
          "output_type": "stream",
          "name": "stderr",
          "text": [
            "INFO:hyperopt.tpe:build_posterior_wrapper took 0.011567 seconds\n"
          ]
        },
        {
          "output_type": "stream",
          "name": "stdout",
          "text": [
            "2022-11-22 13:21:53,977 - build_posterior_wrapper took 0.011567 seconds\n"
          ]
        },
        {
          "output_type": "stream",
          "name": "stderr",
          "text": [
            "INFO:hyperopt.tpe:TPE using 9/9 trials with best loss 0.184689\n"
          ]
        },
        {
          "output_type": "stream",
          "name": "stdout",
          "text": [
            "2022-11-22 13:21:53,994 - TPE using 9/9 trials with best loss 0.184689\n",
            "100%|██████████| 10/10 [00:07<00:00,  1.31trial/s, best loss: 0.18468904291710447]\n"
          ]
        },
        {
          "output_type": "stream",
          "name": "stderr",
          "text": [
            "INFO:root:PipelineTuner - Hyperparameters optimization finished\n"
          ]
        },
        {
          "output_type": "stream",
          "name": "stdout",
          "text": [
            "2022-11-22 13:21:55,464 - PipelineTuner - Hyperparameters optimization finished\n"
          ]
        },
        {
          "output_type": "stream",
          "name": "stderr",
          "text": [
            "INFO:root:PipelineTuner - Return tuned pipeline due to the fact that obtained metric 0.185 equal or better than initial (+ 5% deviation) 0.220\n"
          ]
        },
        {
          "output_type": "stream",
          "name": "stdout",
          "text": [
            "2022-11-22 13:21:55,470 - PipelineTuner - Return tuned pipeline due to the fact that obtained metric 0.185 equal or better than initial (+ 5% deviation) 0.220\n"
          ]
        },
        {
          "output_type": "stream",
          "name": "stderr",
          "text": [
            "INFO:root:PipelineTuner - Hyperparameters optimization start\n"
          ]
        },
        {
          "output_type": "stream",
          "name": "stdout",
          "text": [
            "2022-11-22 13:21:56,297 - PipelineTuner - Hyperparameters optimization start\n",
            "  0%|          | 0/10 [00:00<?, ?trial/s, best loss=?]"
          ]
        },
        {
          "output_type": "stream",
          "name": "stderr",
          "text": [
            "INFO:hyperopt.tpe:build_posterior_wrapper took 0.010849 seconds\n"
          ]
        },
        {
          "output_type": "stream",
          "name": "stdout",
          "text": [
            "2022-11-22 13:21:57,096 - build_posterior_wrapper took 0.010849 seconds\n"
          ]
        },
        {
          "output_type": "stream",
          "name": "stderr",
          "text": [
            "INFO:hyperopt.tpe:TPE using 0 trials\n"
          ]
        },
        {
          "output_type": "stream",
          "name": "stdout",
          "text": [
            "2022-11-22 13:21:57,102 - TPE using 0 trials\n",
            " 10%|█         | 1/10 [00:00<00:06,  1.44trial/s, best loss: 1.473447363705243]"
          ]
        },
        {
          "output_type": "stream",
          "name": "stderr",
          "text": [
            "INFO:hyperopt.tpe:build_posterior_wrapper took 0.007104 seconds\n"
          ]
        },
        {
          "output_type": "stream",
          "name": "stdout",
          "text": [
            "2022-11-22 13:21:57,795 - build_posterior_wrapper took 0.007104 seconds\n"
          ]
        },
        {
          "output_type": "stream",
          "name": "stderr",
          "text": [
            "INFO:hyperopt.tpe:TPE using 1/1 trials with best loss 1.473447\n"
          ]
        },
        {
          "output_type": "stream",
          "name": "stdout",
          "text": [
            "2022-11-22 13:21:57,801 - TPE using 1/1 trials with best loss 1.473447\n",
            " 20%|██        | 2/10 [00:02<00:08,  1.11s/trial, best loss: 1.473447363705243]"
          ]
        },
        {
          "output_type": "stream",
          "name": "stderr",
          "text": [
            "INFO:hyperopt.tpe:build_posterior_wrapper took 0.008256 seconds\n"
          ]
        },
        {
          "output_type": "stream",
          "name": "stdout",
          "text": [
            "2022-11-22 13:21:59,185 - build_posterior_wrapper took 0.008256 seconds\n"
          ]
        },
        {
          "output_type": "stream",
          "name": "stderr",
          "text": [
            "INFO:hyperopt.tpe:TPE using 2/2 trials with best loss 1.473447\n"
          ]
        },
        {
          "output_type": "stream",
          "name": "stdout",
          "text": [
            "2022-11-22 13:21:59,190 - TPE using 2/2 trials with best loss 1.473447\n",
            " 30%|███       | 3/10 [00:03<00:07,  1.05s/trial, best loss: 1.41713514100096] "
          ]
        },
        {
          "output_type": "stream",
          "name": "stderr",
          "text": [
            "INFO:hyperopt.tpe:build_posterior_wrapper took 0.009058 seconds\n"
          ]
        },
        {
          "output_type": "stream",
          "name": "stdout",
          "text": [
            "2022-11-22 13:22:00,161 - build_posterior_wrapper took 0.009058 seconds\n"
          ]
        },
        {
          "output_type": "stream",
          "name": "stderr",
          "text": [
            "INFO:hyperopt.tpe:TPE using 3/3 trials with best loss 1.417135\n"
          ]
        },
        {
          "output_type": "stream",
          "name": "stdout",
          "text": [
            "2022-11-22 13:22:00,168 - TPE using 3/3 trials with best loss 1.417135\n",
            " 40%|████      | 4/10 [00:03<00:05,  1.08trial/s, best loss: 0.2913122143868495]"
          ]
        },
        {
          "output_type": "stream",
          "name": "stderr",
          "text": [
            "INFO:hyperopt.tpe:build_posterior_wrapper took 0.012839 seconds\n"
          ]
        },
        {
          "output_type": "stream",
          "name": "stdout",
          "text": [
            "2022-11-22 13:22:00,904 - build_posterior_wrapper took 0.012839 seconds\n"
          ]
        },
        {
          "output_type": "stream",
          "name": "stderr",
          "text": [
            "INFO:hyperopt.tpe:TPE using 4/4 trials with best loss 0.291312\n"
          ]
        },
        {
          "output_type": "stream",
          "name": "stdout",
          "text": [
            "2022-11-22 13:22:00,913 - TPE using 4/4 trials with best loss 0.291312\n",
            " 50%|█████     | 5/10 [00:04<00:04,  1.06trial/s, best loss: 0.2913122143868495]"
          ]
        },
        {
          "output_type": "stream",
          "name": "stderr",
          "text": [
            "INFO:hyperopt.tpe:build_posterior_wrapper took 0.012637 seconds\n"
          ]
        },
        {
          "output_type": "stream",
          "name": "stdout",
          "text": [
            "2022-11-22 13:22:01,870 - build_posterior_wrapper took 0.012637 seconds\n"
          ]
        },
        {
          "output_type": "stream",
          "name": "stderr",
          "text": [
            "INFO:hyperopt.tpe:TPE using 5/5 trials with best loss 0.291312\n"
          ]
        },
        {
          "output_type": "stream",
          "name": "stdout",
          "text": [
            "2022-11-22 13:22:01,880 - TPE using 5/5 trials with best loss 0.291312\n",
            " 60%|██████    | 6/10 [00:05<00:03,  1.16trial/s, best loss: 0.2913122143868495]"
          ]
        },
        {
          "output_type": "stream",
          "name": "stderr",
          "text": [
            "INFO:hyperopt.tpe:build_posterior_wrapper took 0.011912 seconds\n"
          ]
        },
        {
          "output_type": "stream",
          "name": "stdout",
          "text": [
            "2022-11-22 13:22:02,584 - build_posterior_wrapper took 0.011912 seconds\n"
          ]
        },
        {
          "output_type": "stream",
          "name": "stderr",
          "text": [
            "INFO:hyperopt.tpe:TPE using 6/6 trials with best loss 0.291312\n"
          ]
        },
        {
          "output_type": "stream",
          "name": "stdout",
          "text": [
            "2022-11-22 13:22:02,598 - TPE using 6/6 trials with best loss 0.291312\n",
            " 70%|███████   | 7/10 [00:06<00:03,  1.04s/trial, best loss: 0.2913122143868495]"
          ]
        },
        {
          "output_type": "stream",
          "name": "stderr",
          "text": [
            "INFO:hyperopt.tpe:build_posterior_wrapper took 0.005829 seconds\n"
          ]
        },
        {
          "output_type": "stream",
          "name": "stdout",
          "text": [
            "2022-11-22 13:22:03,975 - build_posterior_wrapper took 0.005829 seconds\n"
          ]
        },
        {
          "output_type": "stream",
          "name": "stderr",
          "text": [
            "INFO:hyperopt.tpe:TPE using 7/7 trials with best loss 0.291312\n"
          ]
        },
        {
          "output_type": "stream",
          "name": "stdout",
          "text": [
            "2022-11-22 13:22:03,989 - TPE using 7/7 trials with best loss 0.291312\n",
            " 80%|████████  | 8/10 [00:07<00:01,  1.03trial/s, best loss: 0.2913122143868495]"
          ]
        },
        {
          "output_type": "stream",
          "name": "stderr",
          "text": [
            "INFO:hyperopt.tpe:build_posterior_wrapper took 0.006470 seconds\n"
          ]
        },
        {
          "output_type": "stream",
          "name": "stdout",
          "text": [
            "2022-11-22 13:22:04,817 - build_posterior_wrapper took 0.006470 seconds\n"
          ]
        },
        {
          "output_type": "stream",
          "name": "stderr",
          "text": [
            "INFO:hyperopt.tpe:TPE using 8/8 trials with best loss 0.291312\n"
          ]
        },
        {
          "output_type": "stream",
          "name": "stdout",
          "text": [
            "2022-11-22 13:22:04,837 - TPE using 8/8 trials with best loss 0.291312\n",
            " 90%|█████████ | 9/10 [00:08<00:00,  1.03trial/s, best loss: 0.2913122143868495]"
          ]
        },
        {
          "output_type": "stream",
          "name": "stderr",
          "text": [
            "INFO:hyperopt.tpe:build_posterior_wrapper took 0.006151 seconds\n"
          ]
        },
        {
          "output_type": "stream",
          "name": "stdout",
          "text": [
            "2022-11-22 13:22:05,790 - build_posterior_wrapper took 0.006151 seconds\n"
          ]
        },
        {
          "output_type": "stream",
          "name": "stderr",
          "text": [
            "INFO:hyperopt.tpe:TPE using 9/9 trials with best loss 0.291312\n"
          ]
        },
        {
          "output_type": "stream",
          "name": "stdout",
          "text": [
            "2022-11-22 13:22:05,802 - TPE using 9/9 trials with best loss 0.291312\n",
            "100%|██████████| 10/10 [00:09<00:00,  1.03trial/s, best loss: 0.2913122143868495]\n"
          ]
        },
        {
          "output_type": "stream",
          "name": "stderr",
          "text": [
            "INFO:root:PipelineTuner - Hyperparameters optimization finished\n"
          ]
        },
        {
          "output_type": "stream",
          "name": "stdout",
          "text": [
            "2022-11-22 13:22:07,272 - PipelineTuner - Hyperparameters optimization finished\n"
          ]
        },
        {
          "output_type": "stream",
          "name": "stderr",
          "text": [
            "INFO:root:PipelineTuner - Return tuned pipeline due to the fact that obtained metric 0.291 equal or better than initial (+ 5% deviation) 0.452\n"
          ]
        },
        {
          "output_type": "stream",
          "name": "stdout",
          "text": [
            "2022-11-22 13:22:07,287 - PipelineTuner - Return tuned pipeline due to the fact that obtained metric 0.291 equal or better than initial (+ 5% deviation) 0.452\n"
          ]
        },
        {
          "output_type": "stream",
          "name": "stderr",
          "text": [
            "INFO:root:PipelineTuner - Hyperparameters optimization start\n"
          ]
        },
        {
          "output_type": "stream",
          "name": "stdout",
          "text": [
            "2022-11-22 13:22:07,731 - PipelineTuner - Hyperparameters optimization start\n",
            "  0%|          | 0/10 [00:00<?, ?trial/s, best loss=?]"
          ]
        },
        {
          "output_type": "stream",
          "name": "stderr",
          "text": [
            "INFO:hyperopt.tpe:build_posterior_wrapper took 0.004478 seconds\n"
          ]
        },
        {
          "output_type": "stream",
          "name": "stdout",
          "text": [
            "2022-11-22 13:22:07,967 - build_posterior_wrapper took 0.004478 seconds\n"
          ]
        },
        {
          "output_type": "stream",
          "name": "stderr",
          "text": [
            "INFO:hyperopt.tpe:TPE using 0 trials\n"
          ]
        },
        {
          "output_type": "stream",
          "name": "stdout",
          "text": [
            "2022-11-22 13:22:07,978 - TPE using 0 trials\n",
            " 10%|█         | 1/10 [00:01<00:09,  1.04s/trial, best loss: 12.410071827496408]"
          ]
        },
        {
          "output_type": "stream",
          "name": "stderr",
          "text": [
            "INFO:hyperopt.tpe:build_posterior_wrapper took 0.004743 seconds\n"
          ]
        },
        {
          "output_type": "stream",
          "name": "stdout",
          "text": [
            "2022-11-22 13:22:09,007 - build_posterior_wrapper took 0.004743 seconds\n"
          ]
        },
        {
          "output_type": "stream",
          "name": "stderr",
          "text": [
            "INFO:hyperopt.tpe:TPE using 1/1 trials with best loss 12.410072\n"
          ]
        },
        {
          "output_type": "stream",
          "name": "stdout",
          "text": [
            "2022-11-22 13:22:09,019 - TPE using 1/1 trials with best loss 12.410072\n",
            " 20%|██        | 2/10 [00:01<00:06,  1.28trial/s, best loss: 12.410071827496408]"
          ]
        },
        {
          "output_type": "stream",
          "name": "stderr",
          "text": [
            "INFO:hyperopt.tpe:build_posterior_wrapper took 0.004817 seconds\n"
          ]
        },
        {
          "output_type": "stream",
          "name": "stdout",
          "text": [
            "2022-11-22 13:22:09,608 - build_posterior_wrapper took 0.004817 seconds\n"
          ]
        },
        {
          "output_type": "stream",
          "name": "stderr",
          "text": [
            "INFO:hyperopt.tpe:TPE using 2/2 trials with best loss 12.410072\n"
          ]
        },
        {
          "output_type": "stream",
          "name": "stdout",
          "text": [
            "2022-11-22 13:22:09,620 - TPE using 2/2 trials with best loss 12.410072\n",
            " 30%|███       | 3/10 [00:02<00:04,  1.43trial/s, best loss: 0.2798239135691105]"
          ]
        },
        {
          "output_type": "stream",
          "name": "stderr",
          "text": [
            "INFO:hyperopt.tpe:build_posterior_wrapper took 0.005704 seconds\n"
          ]
        },
        {
          "output_type": "stream",
          "name": "stdout",
          "text": [
            "2022-11-22 13:22:10,216 - build_posterior_wrapper took 0.005704 seconds\n"
          ]
        },
        {
          "output_type": "stream",
          "name": "stderr",
          "text": [
            "INFO:hyperopt.tpe:TPE using 3/3 trials with best loss 0.279824\n"
          ]
        },
        {
          "output_type": "stream",
          "name": "stdout",
          "text": [
            "2022-11-22 13:22:10,231 - TPE using 3/3 trials with best loss 0.279824\n",
            " 40%|████      | 4/10 [00:03<00:05,  1.04trial/s, best loss: 0.2798239135691105]"
          ]
        },
        {
          "output_type": "stream",
          "name": "stderr",
          "text": [
            "INFO:hyperopt.tpe:build_posterior_wrapper took 0.009755 seconds\n"
          ]
        },
        {
          "output_type": "stream",
          "name": "stdout",
          "text": [
            "2022-11-22 13:22:11,574 - build_posterior_wrapper took 0.009755 seconds\n"
          ]
        },
        {
          "output_type": "stream",
          "name": "stderr",
          "text": [
            "INFO:hyperopt.tpe:TPE using 4/4 trials with best loss 0.279824\n"
          ]
        },
        {
          "output_type": "stream",
          "name": "stdout",
          "text": [
            "2022-11-22 13:22:11,582 - TPE using 4/4 trials with best loss 0.279824\n",
            " 50%|█████     | 5/10 [00:03<00:03,  1.34trial/s, best loss: 0.19708296068098252]"
          ]
        },
        {
          "output_type": "stream",
          "name": "stderr",
          "text": [
            "INFO:hyperopt.tpe:build_posterior_wrapper took 0.005302 seconds\n"
          ]
        },
        {
          "output_type": "stream",
          "name": "stdout",
          "text": [
            "2022-11-22 13:22:11,938 - build_posterior_wrapper took 0.005302 seconds\n"
          ]
        },
        {
          "output_type": "stream",
          "name": "stderr",
          "text": [
            "INFO:hyperopt.tpe:TPE using 5/5 trials with best loss 0.197083\n"
          ]
        },
        {
          "output_type": "stream",
          "name": "stdout",
          "text": [
            "2022-11-22 13:22:11,951 - TPE using 5/5 trials with best loss 0.197083\n",
            " 60%|██████    | 6/10 [00:04<00:02,  1.56trial/s, best loss: 0.19708296068098252]"
          ]
        },
        {
          "output_type": "stream",
          "name": "stderr",
          "text": [
            "INFO:hyperopt.tpe:build_posterior_wrapper took 0.005146 seconds\n"
          ]
        },
        {
          "output_type": "stream",
          "name": "stdout",
          "text": [
            "2022-11-22 13:22:12,381 - build_posterior_wrapper took 0.005146 seconds\n"
          ]
        },
        {
          "output_type": "stream",
          "name": "stderr",
          "text": [
            "INFO:hyperopt.tpe:TPE using 6/6 trials with best loss 0.197083\n"
          ]
        },
        {
          "output_type": "stream",
          "name": "stdout",
          "text": [
            "2022-11-22 13:22:12,392 - TPE using 6/6 trials with best loss 0.197083\n",
            " 70%|███████   | 7/10 [00:05<00:02,  1.11trial/s, best loss: 0.19708296068098252]"
          ]
        },
        {
          "output_type": "stream",
          "name": "stderr",
          "text": [
            "INFO:hyperopt.tpe:build_posterior_wrapper took 0.004903 seconds\n"
          ]
        },
        {
          "output_type": "stream",
          "name": "stdout",
          "text": [
            "2022-11-22 13:22:13,809 - build_posterior_wrapper took 0.004903 seconds\n"
          ]
        },
        {
          "output_type": "stream",
          "name": "stderr",
          "text": [
            "INFO:hyperopt.tpe:TPE using 7/7 trials with best loss 0.197083\n"
          ]
        },
        {
          "output_type": "stream",
          "name": "stdout",
          "text": [
            "2022-11-22 13:22:13,819 - TPE using 7/7 trials with best loss 0.197083\n",
            " 80%|████████  | 8/10 [00:07<00:02,  1.03s/trial, best loss: 0.19708296068098252]"
          ]
        },
        {
          "output_type": "stream",
          "name": "stderr",
          "text": [
            "INFO:hyperopt.tpe:build_posterior_wrapper took 0.005152 seconds\n"
          ]
        },
        {
          "output_type": "stream",
          "name": "stdout",
          "text": [
            "2022-11-22 13:22:15,131 - build_posterior_wrapper took 0.005152 seconds\n"
          ]
        },
        {
          "output_type": "stream",
          "name": "stderr",
          "text": [
            "INFO:hyperopt.tpe:TPE using 8/8 trials with best loss 0.197083\n"
          ]
        },
        {
          "output_type": "stream",
          "name": "stdout",
          "text": [
            "2022-11-22 13:22:15,141 - TPE using 8/8 trials with best loss 0.197083\n",
            " 90%|█████████ | 9/10 [00:08<00:01,  1.15s/trial, best loss: 0.19708296068098252]"
          ]
        },
        {
          "output_type": "stream",
          "name": "stderr",
          "text": [
            "INFO:hyperopt.tpe:build_posterior_wrapper took 0.005100 seconds\n"
          ]
        },
        {
          "output_type": "stream",
          "name": "stdout",
          "text": [
            "2022-11-22 13:22:16,546 - build_posterior_wrapper took 0.005100 seconds\n"
          ]
        },
        {
          "output_type": "stream",
          "name": "stderr",
          "text": [
            "INFO:hyperopt.tpe:TPE using 9/9 trials with best loss 0.197083\n"
          ]
        },
        {
          "output_type": "stream",
          "name": "stdout",
          "text": [
            "2022-11-22 13:22:16,557 - TPE using 9/9 trials with best loss 0.197083\n",
            "100%|██████████| 10/10 [00:09<00:00,  1.07trial/s, best loss: 0.19708296068098252]\n"
          ]
        },
        {
          "output_type": "stream",
          "name": "stderr",
          "text": [
            "INFO:root:PipelineTuner - Hyperparameters optimization finished\n"
          ]
        },
        {
          "output_type": "stream",
          "name": "stdout",
          "text": [
            "2022-11-22 13:22:17,689 - PipelineTuner - Hyperparameters optimization finished\n"
          ]
        },
        {
          "output_type": "stream",
          "name": "stderr",
          "text": [
            "INFO:root:PipelineTuner - Return tuned pipeline due to the fact that obtained metric 0.197 equal or better than initial (+ 5% deviation) 0.209\n"
          ]
        },
        {
          "output_type": "stream",
          "name": "stdout",
          "text": [
            "2022-11-22 13:22:17,704 - PipelineTuner - Return tuned pipeline due to the fact that obtained metric 0.197 equal or better than initial (+ 5% deviation) 0.209\n"
          ]
        },
        {
          "output_type": "stream",
          "name": "stderr",
          "text": [
            "INFO:root:PipelineTuner - Hyperparameters optimization start\n"
          ]
        },
        {
          "output_type": "stream",
          "name": "stdout",
          "text": [
            "2022-11-22 13:22:18,021 - PipelineTuner - Hyperparameters optimization start\n",
            "  0%|          | 0/10 [00:00<?, ?trial/s, best loss=?]"
          ]
        },
        {
          "output_type": "stream",
          "name": "stderr",
          "text": [
            "INFO:hyperopt.tpe:build_posterior_wrapper took 0.004374 seconds\n"
          ]
        },
        {
          "output_type": "stream",
          "name": "stdout",
          "text": [
            "2022-11-22 13:22:18,385 - build_posterior_wrapper took 0.004374 seconds\n"
          ]
        },
        {
          "output_type": "stream",
          "name": "stderr",
          "text": [
            "INFO:hyperopt.tpe:TPE using 0 trials\n"
          ]
        },
        {
          "output_type": "stream",
          "name": "stdout",
          "text": [
            "2022-11-22 13:22:18,395 - TPE using 0 trials\n",
            " 10%|█         | 1/10 [00:00<00:06,  1.36trial/s, best loss: 0.2866475758678554]"
          ]
        },
        {
          "output_type": "stream",
          "name": "stderr",
          "text": [
            "INFO:hyperopt.tpe:build_posterior_wrapper took 0.004734 seconds\n"
          ]
        },
        {
          "output_type": "stream",
          "name": "stdout",
          "text": [
            "2022-11-22 13:22:19,121 - build_posterior_wrapper took 0.004734 seconds\n"
          ]
        },
        {
          "output_type": "stream",
          "name": "stderr",
          "text": [
            "INFO:hyperopt.tpe:TPE using 1/1 trials with best loss 0.286648\n"
          ]
        },
        {
          "output_type": "stream",
          "name": "stdout",
          "text": [
            "2022-11-22 13:22:19,134 - TPE using 1/1 trials with best loss 0.286648\n",
            " 20%|██        | 2/10 [00:01<00:06,  1.33trial/s, best loss: 0.2866475758678554]"
          ]
        },
        {
          "output_type": "stream",
          "name": "stderr",
          "text": [
            "INFO:hyperopt.tpe:build_posterior_wrapper took 0.004735 seconds\n"
          ]
        },
        {
          "output_type": "stream",
          "name": "stdout",
          "text": [
            "2022-11-22 13:22:19,895 - build_posterior_wrapper took 0.004735 seconds\n"
          ]
        },
        {
          "output_type": "stream",
          "name": "stderr",
          "text": [
            "INFO:hyperopt.tpe:TPE using 2/2 trials with best loss 0.286648\n"
          ]
        },
        {
          "output_type": "stream",
          "name": "stdout",
          "text": [
            "2022-11-22 13:22:19,906 - TPE using 2/2 trials with best loss 0.286648\n",
            " 30%|███       | 3/10 [00:02<00:04,  1.51trial/s, best loss: 0.2866475758678554]"
          ]
        },
        {
          "output_type": "stream",
          "name": "stderr",
          "text": [
            "INFO:hyperopt.tpe:build_posterior_wrapper took 0.006166 seconds\n"
          ]
        },
        {
          "output_type": "stream",
          "name": "stdout",
          "text": [
            "2022-11-22 13:22:20,451 - build_posterior_wrapper took 0.006166 seconds\n"
          ]
        },
        {
          "output_type": "stream",
          "name": "stderr",
          "text": [
            "INFO:hyperopt.tpe:TPE using 3/3 trials with best loss 0.286648\n"
          ]
        },
        {
          "output_type": "stream",
          "name": "stdout",
          "text": [
            "2022-11-22 13:22:20,464 - TPE using 3/3 trials with best loss 0.286648\n",
            " 40%|████      | 4/10 [00:02<00:03,  1.70trial/s, best loss: 0.2866475758678554]"
          ]
        },
        {
          "output_type": "stream",
          "name": "stderr",
          "text": [
            "INFO:hyperopt.tpe:build_posterior_wrapper took 0.005276 seconds\n"
          ]
        },
        {
          "output_type": "stream",
          "name": "stdout",
          "text": [
            "2022-11-22 13:22:20,918 - build_posterior_wrapper took 0.005276 seconds\n"
          ]
        },
        {
          "output_type": "stream",
          "name": "stderr",
          "text": [
            "INFO:hyperopt.tpe:TPE using 4/4 trials with best loss 0.286648\n"
          ]
        },
        {
          "output_type": "stream",
          "name": "stdout",
          "text": [
            "2022-11-22 13:22:20,930 - TPE using 4/4 trials with best loss 0.286648\n",
            " 50%|█████     | 5/10 [00:02<00:02,  1.97trial/s, best loss: 0.2866475758678554]"
          ]
        },
        {
          "output_type": "stream",
          "name": "stderr",
          "text": [
            "INFO:hyperopt.tpe:build_posterior_wrapper took 0.005670 seconds\n"
          ]
        },
        {
          "output_type": "stream",
          "name": "stdout",
          "text": [
            "2022-11-22 13:22:21,282 - build_posterior_wrapper took 0.005670 seconds\n"
          ]
        },
        {
          "output_type": "stream",
          "name": "stderr",
          "text": [
            "INFO:hyperopt.tpe:TPE using 5/5 trials with best loss 0.286648\n"
          ]
        },
        {
          "output_type": "stream",
          "name": "stdout",
          "text": [
            "2022-11-22 13:22:21,294 - TPE using 5/5 trials with best loss 0.286648\n",
            " 60%|██████    | 6/10 [00:03<00:02,  1.96trial/s, best loss: 0.2866475758678554]"
          ]
        },
        {
          "output_type": "stream",
          "name": "stderr",
          "text": [
            "INFO:hyperopt.tpe:build_posterior_wrapper took 0.005073 seconds\n"
          ]
        },
        {
          "output_type": "stream",
          "name": "stdout",
          "text": [
            "2022-11-22 13:22:21,801 - build_posterior_wrapper took 0.005073 seconds\n"
          ]
        },
        {
          "output_type": "stream",
          "name": "stderr",
          "text": [
            "INFO:hyperopt.tpe:TPE using 6/6 trials with best loss 0.286648\n"
          ]
        },
        {
          "output_type": "stream",
          "name": "stdout",
          "text": [
            "2022-11-22 13:22:21,814 - TPE using 6/6 trials with best loss 0.286648\n",
            " 70%|███████   | 7/10 [00:04<00:02,  1.25trial/s, best loss: 0.2866475758678554]"
          ]
        },
        {
          "output_type": "stream",
          "name": "stderr",
          "text": [
            "INFO:hyperopt.tpe:build_posterior_wrapper took 0.004947 seconds\n"
          ]
        },
        {
          "output_type": "stream",
          "name": "stdout",
          "text": [
            "2022-11-22 13:22:23,191 - build_posterior_wrapper took 0.004947 seconds\n"
          ]
        },
        {
          "output_type": "stream",
          "name": "stderr",
          "text": [
            "INFO:hyperopt.tpe:TPE using 7/7 trials with best loss 0.286648\n"
          ]
        },
        {
          "output_type": "stream",
          "name": "stdout",
          "text": [
            "2022-11-22 13:22:23,201 - TPE using 7/7 trials with best loss 0.286648\n",
            " 80%|████████  | 8/10 [00:05<00:01,  1.10trial/s, best loss: 0.2866475758678554]"
          ]
        },
        {
          "output_type": "stream",
          "name": "stderr",
          "text": [
            "INFO:hyperopt.tpe:build_posterior_wrapper took 0.005337 seconds\n"
          ]
        },
        {
          "output_type": "stream",
          "name": "stdout",
          "text": [
            "2022-11-22 13:22:24,322 - build_posterior_wrapper took 0.005337 seconds\n"
          ]
        },
        {
          "output_type": "stream",
          "name": "stderr",
          "text": [
            "INFO:hyperopt.tpe:TPE using 8/8 trials with best loss 0.286648\n"
          ]
        },
        {
          "output_type": "stream",
          "name": "stdout",
          "text": [
            "2022-11-22 13:22:24,331 - TPE using 8/8 trials with best loss 0.286648\n",
            " 90%|█████████ | 9/10 [00:07<00:01,  1.13s/trial, best loss: 0.2866475758678554]"
          ]
        },
        {
          "output_type": "stream",
          "name": "stderr",
          "text": [
            "INFO:hyperopt.tpe:build_posterior_wrapper took 0.005466 seconds\n"
          ]
        },
        {
          "output_type": "stream",
          "name": "stdout",
          "text": [
            "2022-11-22 13:22:25,950 - build_posterior_wrapper took 0.005466 seconds\n"
          ]
        },
        {
          "output_type": "stream",
          "name": "stderr",
          "text": [
            "INFO:hyperopt.tpe:TPE using 9/9 trials with best loss 0.286648\n"
          ]
        },
        {
          "output_type": "stream",
          "name": "stdout",
          "text": [
            "2022-11-22 13:22:25,965 - TPE using 9/9 trials with best loss 0.286648\n",
            "100%|██████████| 10/10 [00:08<00:00,  1.25trial/s, best loss: 0.2866475758678554]\n"
          ]
        },
        {
          "output_type": "stream",
          "name": "stderr",
          "text": [
            "INFO:root:PipelineTuner - Hyperparameters optimization finished\n"
          ]
        },
        {
          "output_type": "stream",
          "name": "stdout",
          "text": [
            "2022-11-22 13:22:27,133 - PipelineTuner - Hyperparameters optimization finished\n"
          ]
        },
        {
          "output_type": "stream",
          "name": "stderr",
          "text": [
            "INFO:root:PipelineTuner - Return tuned pipeline due to the fact that obtained metric 0.287 equal or better than initial (+ 5% deviation) 1.502\n"
          ]
        },
        {
          "output_type": "stream",
          "name": "stdout",
          "text": [
            "2022-11-22 13:22:27,140 - PipelineTuner - Return tuned pipeline due to the fact that obtained metric 0.287 equal or better than initial (+ 5% deviation) 1.502\n"
          ]
        },
        {
          "output_type": "stream",
          "name": "stderr",
          "text": [
            "INFO:root:PipelineTuner - Hyperparameters optimization start\n"
          ]
        },
        {
          "output_type": "stream",
          "name": "stdout",
          "text": [
            "2022-11-22 13:22:27,860 - PipelineTuner - Hyperparameters optimization start\n",
            "  0%|          | 0/10 [00:00<?, ?trial/s, best loss=?]"
          ]
        },
        {
          "output_type": "stream",
          "name": "stderr",
          "text": [
            "INFO:hyperopt.tpe:build_posterior_wrapper took 0.005255 seconds\n"
          ]
        },
        {
          "output_type": "stream",
          "name": "stdout",
          "text": [
            "2022-11-22 13:22:28,140 - build_posterior_wrapper took 0.005255 seconds\n"
          ]
        },
        {
          "output_type": "stream",
          "name": "stderr",
          "text": [
            "INFO:hyperopt.tpe:TPE using 0 trials\n"
          ]
        },
        {
          "output_type": "stream",
          "name": "stdout",
          "text": [
            "2022-11-22 13:22:28,149 - TPE using 0 trials\n",
            " 10%|█         | 1/10 [00:00<00:05,  1.54trial/s, best loss: 0.5517634193282214]"
          ]
        },
        {
          "output_type": "stream",
          "name": "stderr",
          "text": [
            "INFO:hyperopt.tpe:build_posterior_wrapper took 0.005162 seconds\n"
          ]
        },
        {
          "output_type": "stream",
          "name": "stdout",
          "text": [
            "2022-11-22 13:22:28,793 - build_posterior_wrapper took 0.005162 seconds\n"
          ]
        },
        {
          "output_type": "stream",
          "name": "stderr",
          "text": [
            "INFO:hyperopt.tpe:TPE using 1/1 trials with best loss 0.551763\n"
          ]
        },
        {
          "output_type": "stream",
          "name": "stdout",
          "text": [
            "2022-11-22 13:22:28,799 - TPE using 1/1 trials with best loss 0.551763\n",
            " 20%|██        | 2/10 [00:01<00:07,  1.03trial/s, best loss: 0.5517634193282214]"
          ]
        },
        {
          "output_type": "stream",
          "name": "stderr",
          "text": [
            "INFO:hyperopt.tpe:build_posterior_wrapper took 0.008507 seconds\n"
          ]
        },
        {
          "output_type": "stream",
          "name": "stdout",
          "text": [
            "2022-11-22 13:22:29,994 - build_posterior_wrapper took 0.008507 seconds\n"
          ]
        },
        {
          "output_type": "stream",
          "name": "stderr",
          "text": [
            "INFO:hyperopt.tpe:TPE using 2/2 trials with best loss 0.551763\n"
          ]
        },
        {
          "output_type": "stream",
          "name": "stdout",
          "text": [
            "2022-11-22 13:22:30,002 - TPE using 2/2 trials with best loss 0.551763\n",
            " 30%|███       | 3/10 [00:02<00:04,  1.46trial/s, best loss: 0.21121131631379397]"
          ]
        },
        {
          "output_type": "stream",
          "name": "stderr",
          "text": [
            "INFO:hyperopt.tpe:build_posterior_wrapper took 0.004831 seconds\n"
          ]
        },
        {
          "output_type": "stream",
          "name": "stdout",
          "text": [
            "2022-11-22 13:22:30,338 - build_posterior_wrapper took 0.004831 seconds\n"
          ]
        },
        {
          "output_type": "stream",
          "name": "stderr",
          "text": [
            "INFO:hyperopt.tpe:TPE using 3/3 trials with best loss 0.211211\n"
          ]
        },
        {
          "output_type": "stream",
          "name": "stdout",
          "text": [
            "2022-11-22 13:22:30,348 - TPE using 3/3 trials with best loss 0.211211\n",
            " 40%|████      | 4/10 [00:02<00:03,  1.73trial/s, best loss: 0.21121131631379397]"
          ]
        },
        {
          "output_type": "stream",
          "name": "stderr",
          "text": [
            "INFO:hyperopt.tpe:build_posterior_wrapper took 0.005088 seconds\n"
          ]
        },
        {
          "output_type": "stream",
          "name": "stdout",
          "text": [
            "2022-11-22 13:22:30,752 - build_posterior_wrapper took 0.005088 seconds\n"
          ]
        },
        {
          "output_type": "stream",
          "name": "stderr",
          "text": [
            "INFO:hyperopt.tpe:TPE using 4/4 trials with best loss 0.211211\n"
          ]
        },
        {
          "output_type": "stream",
          "name": "stdout",
          "text": [
            "2022-11-22 13:22:30,763 - TPE using 4/4 trials with best loss 0.211211\n",
            " 50%|█████     | 5/10 [00:03<00:03,  1.44trial/s, best loss: 0.21121131631379397]"
          ]
        },
        {
          "output_type": "stream",
          "name": "stderr",
          "text": [
            "INFO:hyperopt.tpe:build_posterior_wrapper took 0.010825 seconds\n"
          ]
        },
        {
          "output_type": "stream",
          "name": "stdout",
          "text": [
            "2022-11-22 13:22:31,653 - build_posterior_wrapper took 0.010825 seconds\n"
          ]
        },
        {
          "output_type": "stream",
          "name": "stderr",
          "text": [
            "INFO:hyperopt.tpe:TPE using 5/5 trials with best loss 0.211211\n"
          ]
        },
        {
          "output_type": "stream",
          "name": "stdout",
          "text": [
            "2022-11-22 13:22:31,667 - TPE using 5/5 trials with best loss 0.211211\n",
            " 60%|██████    | 6/10 [00:04<00:03,  1.27trial/s, best loss: 0.21121131631379397]"
          ]
        },
        {
          "output_type": "stream",
          "name": "stderr",
          "text": [
            "INFO:hyperopt.tpe:build_posterior_wrapper took 0.006222 seconds\n"
          ]
        },
        {
          "output_type": "stream",
          "name": "stdout",
          "text": [
            "2022-11-22 13:22:32,613 - build_posterior_wrapper took 0.006222 seconds\n"
          ]
        },
        {
          "output_type": "stream",
          "name": "stderr",
          "text": [
            "INFO:hyperopt.tpe:TPE using 6/6 trials with best loss 0.211211\n"
          ]
        },
        {
          "output_type": "stream",
          "name": "stdout",
          "text": [
            "2022-11-22 13:22:32,630 - TPE using 6/6 trials with best loss 0.211211\n",
            " 70%|███████   | 7/10 [00:04<00:01,  1.55trial/s, best loss: 0.21121131631379397]"
          ]
        },
        {
          "output_type": "stream",
          "name": "stderr",
          "text": [
            "INFO:hyperopt.tpe:build_posterior_wrapper took 0.005263 seconds\n"
          ]
        },
        {
          "output_type": "stream",
          "name": "stdout",
          "text": [
            "2022-11-22 13:22:32,966 - build_posterior_wrapper took 0.005263 seconds\n"
          ]
        },
        {
          "output_type": "stream",
          "name": "stderr",
          "text": [
            "INFO:hyperopt.tpe:TPE using 7/7 trials with best loss 0.211211\n"
          ]
        },
        {
          "output_type": "stream",
          "name": "stdout",
          "text": [
            "2022-11-22 13:22:32,980 - TPE using 7/7 trials with best loss 0.211211\n",
            " 80%|████████  | 8/10 [00:05<00:01,  1.77trial/s, best loss: 0.21121131631379397]"
          ]
        },
        {
          "output_type": "stream",
          "name": "stderr",
          "text": [
            "INFO:hyperopt.tpe:build_posterior_wrapper took 0.006476 seconds\n"
          ]
        },
        {
          "output_type": "stream",
          "name": "stdout",
          "text": [
            "2022-11-22 13:22:33,374 - build_posterior_wrapper took 0.006476 seconds\n"
          ]
        },
        {
          "output_type": "stream",
          "name": "stderr",
          "text": [
            "INFO:hyperopt.tpe:TPE using 8/8 trials with best loss 0.211211\n"
          ]
        },
        {
          "output_type": "stream",
          "name": "stdout",
          "text": [
            "2022-11-22 13:22:33,385 - TPE using 8/8 trials with best loss 0.211211\n",
            " 90%|█████████ | 9/10 [00:06<00:00,  1.55trial/s, best loss: 0.21121131631379397]"
          ]
        },
        {
          "output_type": "stream",
          "name": "stderr",
          "text": [
            "INFO:hyperopt.tpe:build_posterior_wrapper took 0.005473 seconds\n"
          ]
        },
        {
          "output_type": "stream",
          "name": "stdout",
          "text": [
            "2022-11-22 13:22:34,187 - build_posterior_wrapper took 0.005473 seconds\n"
          ]
        },
        {
          "output_type": "stream",
          "name": "stderr",
          "text": [
            "INFO:hyperopt.tpe:TPE using 9/9 trials with best loss 0.211211\n"
          ]
        },
        {
          "output_type": "stream",
          "name": "stdout",
          "text": [
            "2022-11-22 13:22:34,196 - TPE using 9/9 trials with best loss 0.211211\n",
            "100%|██████████| 10/10 [00:06<00:00,  1.53trial/s, best loss: 0.21121131631379397]\n"
          ]
        },
        {
          "output_type": "stream",
          "name": "stderr",
          "text": [
            "INFO:root:PipelineTuner - Hyperparameters optimization finished\n"
          ]
        },
        {
          "output_type": "stream",
          "name": "stdout",
          "text": [
            "2022-11-22 13:22:34,988 - PipelineTuner - Hyperparameters optimization finished\n"
          ]
        },
        {
          "output_type": "stream",
          "name": "stderr",
          "text": [
            "INFO:root:PipelineTuner - Return tuned pipeline due to the fact that obtained metric 0.211 equal or better than initial (+ 5% deviation) 0.220\n"
          ]
        },
        {
          "output_type": "stream",
          "name": "stdout",
          "text": [
            "2022-11-22 13:22:34,994 - PipelineTuner - Return tuned pipeline due to the fact that obtained metric 0.211 equal or better than initial (+ 5% deviation) 0.220\n"
          ]
        },
        {
          "output_type": "stream",
          "name": "stderr",
          "text": [
            "INFO:root:PipelineTuner - Hyperparameters optimization start\n"
          ]
        },
        {
          "output_type": "stream",
          "name": "stdout",
          "text": [
            "2022-11-22 13:22:35,302 - PipelineTuner - Hyperparameters optimization start\n",
            "  0%|          | 0/10 [00:00<?, ?trial/s, best loss=?]"
          ]
        },
        {
          "output_type": "stream",
          "name": "stderr",
          "text": [
            "INFO:hyperopt.tpe:build_posterior_wrapper took 0.004732 seconds\n"
          ]
        },
        {
          "output_type": "stream",
          "name": "stdout",
          "text": [
            "2022-11-22 13:22:35,627 - build_posterior_wrapper took 0.004732 seconds\n"
          ]
        },
        {
          "output_type": "stream",
          "name": "stderr",
          "text": [
            "INFO:hyperopt.tpe:TPE using 0 trials\n"
          ]
        },
        {
          "output_type": "stream",
          "name": "stdout",
          "text": [
            "2022-11-22 13:22:35,633 - TPE using 0 trials\n",
            " 10%|█         | 1/10 [00:00<00:07,  1.14trial/s, best loss: 0.29833701747968266]"
          ]
        },
        {
          "output_type": "stream",
          "name": "stderr",
          "text": [
            "INFO:hyperopt.tpe:build_posterior_wrapper took 0.010415 seconds\n"
          ]
        },
        {
          "output_type": "stream",
          "name": "stdout",
          "text": [
            "2022-11-22 13:22:36,513 - build_posterior_wrapper took 0.010415 seconds\n"
          ]
        },
        {
          "output_type": "stream",
          "name": "stderr",
          "text": [
            "INFO:hyperopt.tpe:TPE using 1/1 trials with best loss 0.298337\n"
          ]
        },
        {
          "output_type": "stream",
          "name": "stdout",
          "text": [
            "2022-11-22 13:22:36,519 - TPE using 1/1 trials with best loss 0.298337\n",
            " 20%|██        | 2/10 [00:01<00:07,  1.01trial/s, best loss: 0.29833701747968266]"
          ]
        },
        {
          "output_type": "stream",
          "name": "stderr",
          "text": [
            "INFO:hyperopt.tpe:build_posterior_wrapper took 0.005977 seconds\n"
          ]
        },
        {
          "output_type": "stream",
          "name": "stdout",
          "text": [
            "2022-11-22 13:22:37,572 - build_posterior_wrapper took 0.005977 seconds\n"
          ]
        },
        {
          "output_type": "stream",
          "name": "stderr",
          "text": [
            "INFO:hyperopt.tpe:TPE using 2/2 trials with best loss 0.298337\n"
          ]
        },
        {
          "output_type": "stream",
          "name": "stdout",
          "text": [
            "2022-11-22 13:22:37,579 - TPE using 2/2 trials with best loss 0.298337\n",
            " 30%|███       | 3/10 [00:02<00:05,  1.32trial/s, best loss: 0.29833701747968266]"
          ]
        },
        {
          "output_type": "stream",
          "name": "stderr",
          "text": [
            "INFO:hyperopt.tpe:build_posterior_wrapper took 0.005405 seconds\n"
          ]
        },
        {
          "output_type": "stream",
          "name": "stdout",
          "text": [
            "2022-11-22 13:22:38,061 - build_posterior_wrapper took 0.005405 seconds\n"
          ]
        },
        {
          "output_type": "stream",
          "name": "stderr",
          "text": [
            "INFO:hyperopt.tpe:TPE using 3/3 trials with best loss 0.298337\n"
          ]
        },
        {
          "output_type": "stream",
          "name": "stdout",
          "text": [
            "2022-11-22 13:22:38,067 - TPE using 3/3 trials with best loss 0.298337\n",
            " 40%|████      | 4/10 [00:02<00:03,  1.60trial/s, best loss: 0.29833701747968266]"
          ]
        },
        {
          "output_type": "stream",
          "name": "stderr",
          "text": [
            "INFO:hyperopt.tpe:build_posterior_wrapper took 0.005241 seconds\n"
          ]
        },
        {
          "output_type": "stream",
          "name": "stdout",
          "text": [
            "2022-11-22 13:22:38,475 - build_posterior_wrapper took 0.005241 seconds\n"
          ]
        },
        {
          "output_type": "stream",
          "name": "stderr",
          "text": [
            "INFO:hyperopt.tpe:TPE using 4/4 trials with best loss 0.298337\n"
          ]
        },
        {
          "output_type": "stream",
          "name": "stdout",
          "text": [
            "2022-11-22 13:22:38,485 - TPE using 4/4 trials with best loss 0.298337\n",
            " 50%|█████     | 5/10 [00:04<00:04,  1.12trial/s, best loss: 0.29833701747968266]"
          ]
        },
        {
          "output_type": "stream",
          "name": "stderr",
          "text": [
            "INFO:hyperopt.tpe:build_posterior_wrapper took 0.013036 seconds\n"
          ]
        },
        {
          "output_type": "stream",
          "name": "stdout",
          "text": [
            "2022-11-22 13:22:39,858 - build_posterior_wrapper took 0.013036 seconds\n"
          ]
        },
        {
          "output_type": "stream",
          "name": "stderr",
          "text": [
            "INFO:hyperopt.tpe:TPE using 5/5 trials with best loss 0.298337\n"
          ]
        },
        {
          "output_type": "stream",
          "name": "stdout",
          "text": [
            "2022-11-22 13:22:39,873 - TPE using 5/5 trials with best loss 0.298337\n",
            " 60%|██████    | 6/10 [00:05<00:03,  1.07trial/s, best loss: 0.29833701747968266]"
          ]
        },
        {
          "output_type": "stream",
          "name": "stderr",
          "text": [
            "INFO:hyperopt.tpe:build_posterior_wrapper took 0.006482 seconds\n"
          ]
        },
        {
          "output_type": "stream",
          "name": "stdout",
          "text": [
            "2022-11-22 13:22:40,868 - build_posterior_wrapper took 0.006482 seconds\n"
          ]
        },
        {
          "output_type": "stream",
          "name": "stderr",
          "text": [
            "INFO:hyperopt.tpe:TPE using 6/6 trials with best loss 0.298337\n"
          ]
        },
        {
          "output_type": "stream",
          "name": "stdout",
          "text": [
            "2022-11-22 13:22:40,875 - TPE using 6/6 trials with best loss 0.298337\n",
            " 70%|███████   | 7/10 [00:05<00:02,  1.18trial/s, best loss: 0.29833701747968266]"
          ]
        },
        {
          "output_type": "stream",
          "name": "stderr",
          "text": [
            "INFO:hyperopt.tpe:build_posterior_wrapper took 0.005820 seconds\n"
          ]
        },
        {
          "output_type": "stream",
          "name": "stdout",
          "text": [
            "2022-11-22 13:22:41,542 - build_posterior_wrapper took 0.005820 seconds\n"
          ]
        },
        {
          "output_type": "stream",
          "name": "stderr",
          "text": [
            "INFO:hyperopt.tpe:TPE using 7/7 trials with best loss 0.298337\n"
          ]
        },
        {
          "output_type": "stream",
          "name": "stdout",
          "text": [
            "2022-11-22 13:22:41,548 - TPE using 7/7 trials with best loss 0.298337\n",
            " 80%|████████  | 8/10 [00:06<00:01,  1.37trial/s, best loss: 0.29833701747968266]"
          ]
        },
        {
          "output_type": "stream",
          "name": "stderr",
          "text": [
            "INFO:hyperopt.tpe:build_posterior_wrapper took 0.004755 seconds\n"
          ]
        },
        {
          "output_type": "stream",
          "name": "stdout",
          "text": [
            "2022-11-22 13:22:42,019 - build_posterior_wrapper took 0.004755 seconds\n"
          ]
        },
        {
          "output_type": "stream",
          "name": "stderr",
          "text": [
            "INFO:hyperopt.tpe:TPE using 8/8 trials with best loss 0.298337\n"
          ]
        },
        {
          "output_type": "stream",
          "name": "stdout",
          "text": [
            "2022-11-22 13:22:42,031 - TPE using 8/8 trials with best loss 0.298337\n",
            " 90%|█████████ | 9/10 [00:07<00:00,  1.43trial/s, best loss: 0.29833701747968266]"
          ]
        },
        {
          "output_type": "stream",
          "name": "stderr",
          "text": [
            "INFO:hyperopt.tpe:build_posterior_wrapper took 0.004765 seconds\n"
          ]
        },
        {
          "output_type": "stream",
          "name": "stdout",
          "text": [
            "2022-11-22 13:22:42,643 - build_posterior_wrapper took 0.004765 seconds\n"
          ]
        },
        {
          "output_type": "stream",
          "name": "stderr",
          "text": [
            "INFO:hyperopt.tpe:TPE using 9/9 trials with best loss 0.298337\n"
          ]
        },
        {
          "output_type": "stream",
          "name": "stdout",
          "text": [
            "2022-11-22 13:22:42,650 - TPE using 9/9 trials with best loss 0.298337\n",
            "100%|██████████| 10/10 [00:07<00:00,  1.27trial/s, best loss: 0.29833701747968266]\n"
          ]
        },
        {
          "output_type": "stream",
          "name": "stderr",
          "text": [
            "INFO:root:PipelineTuner - Hyperparameters optimization finished\n"
          ]
        },
        {
          "output_type": "stream",
          "name": "stdout",
          "text": [
            "2022-11-22 13:22:44,490 - PipelineTuner - Hyperparameters optimization finished\n"
          ]
        },
        {
          "output_type": "stream",
          "name": "stderr",
          "text": [
            "INFO:root:PipelineTuner - Return tuned pipeline due to the fact that obtained metric 0.298 equal or better than initial (+ 5% deviation) 0.779\n"
          ]
        },
        {
          "output_type": "stream",
          "name": "stdout",
          "text": [
            "2022-11-22 13:22:44,504 - PipelineTuner - Return tuned pipeline due to the fact that obtained metric 0.298 equal or better than initial (+ 5% deviation) 0.779\n"
          ]
        },
        {
          "output_type": "stream",
          "name": "stderr",
          "text": [
            "INFO:root:PipelineTuner - Hyperparameters optimization start\n"
          ]
        },
        {
          "output_type": "stream",
          "name": "stdout",
          "text": [
            "2022-11-22 13:22:45,328 - PipelineTuner - Hyperparameters optimization start\n",
            "  0%|          | 0/10 [00:00<?, ?trial/s, best loss=?]"
          ]
        },
        {
          "output_type": "stream",
          "name": "stderr",
          "text": [
            "INFO:hyperopt.tpe:build_posterior_wrapper took 0.009063 seconds\n"
          ]
        },
        {
          "output_type": "stream",
          "name": "stdout",
          "text": [
            "2022-11-22 13:22:45,583 - build_posterior_wrapper took 0.009063 seconds\n"
          ]
        },
        {
          "output_type": "stream",
          "name": "stderr",
          "text": [
            "INFO:hyperopt.tpe:TPE using 0 trials\n"
          ]
        },
        {
          "output_type": "stream",
          "name": "stdout",
          "text": [
            "2022-11-22 13:22:45,600 - TPE using 0 trials\n",
            " 10%|█         | 1/10 [00:01<00:11,  1.28s/trial, best loss: 12.45983915171928]"
          ]
        },
        {
          "output_type": "stream",
          "name": "stderr",
          "text": [
            "INFO:hyperopt.tpe:build_posterior_wrapper took 0.004902 seconds\n"
          ]
        },
        {
          "output_type": "stream",
          "name": "stdout",
          "text": [
            "2022-11-22 13:22:46,864 - build_posterior_wrapper took 0.004902 seconds\n"
          ]
        },
        {
          "output_type": "stream",
          "name": "stderr",
          "text": [
            "INFO:hyperopt.tpe:TPE using 1/1 trials with best loss 12.459839\n"
          ]
        },
        {
          "output_type": "stream",
          "name": "stdout",
          "text": [
            "2022-11-22 13:22:46,875 - TPE using 1/1 trials with best loss 12.459839\n",
            " 20%|██        | 2/10 [00:02<00:08,  1.10s/trial, best loss: 7.992221152082124]"
          ]
        },
        {
          "output_type": "stream",
          "name": "stderr",
          "text": [
            "INFO:hyperopt.tpe:build_posterior_wrapper took 0.004716 seconds\n"
          ]
        },
        {
          "output_type": "stream",
          "name": "stdout",
          "text": [
            "2022-11-22 13:22:47,834 - build_posterior_wrapper took 0.004716 seconds\n"
          ]
        },
        {
          "output_type": "stream",
          "name": "stderr",
          "text": [
            "INFO:hyperopt.tpe:TPE using 2/2 trials with best loss 7.992221\n"
          ]
        },
        {
          "output_type": "stream",
          "name": "stdout",
          "text": [
            "2022-11-22 13:22:47,848 - TPE using 2/2 trials with best loss 7.992221\n",
            " 30%|███       | 3/10 [00:02<00:06,  1.16trial/s, best loss: 7.992221152082124]"
          ]
        },
        {
          "output_type": "stream",
          "name": "stderr",
          "text": [
            "INFO:hyperopt.tpe:build_posterior_wrapper took 0.004773 seconds\n"
          ]
        },
        {
          "output_type": "stream",
          "name": "stdout",
          "text": [
            "2022-11-22 13:22:48,422 - build_posterior_wrapper took 0.004773 seconds\n"
          ]
        },
        {
          "output_type": "stream",
          "name": "stderr",
          "text": [
            "INFO:hyperopt.tpe:TPE using 3/3 trials with best loss 7.992221\n"
          ]
        },
        {
          "output_type": "stream",
          "name": "stdout",
          "text": [
            "2022-11-22 13:22:48,432 - TPE using 3/3 trials with best loss 7.992221\n",
            " 40%|████      | 4/10 [00:03<00:04,  1.38trial/s, best loss: 1.1769914663450312]"
          ]
        },
        {
          "output_type": "stream",
          "name": "stderr",
          "text": [
            "INFO:hyperopt.tpe:build_posterior_wrapper took 0.004801 seconds\n"
          ]
        },
        {
          "output_type": "stream",
          "name": "stdout",
          "text": [
            "2022-11-22 13:22:48,933 - build_posterior_wrapper took 0.004801 seconds\n"
          ]
        },
        {
          "output_type": "stream",
          "name": "stderr",
          "text": [
            "INFO:hyperopt.tpe:TPE using 4/4 trials with best loss 1.176991\n"
          ]
        },
        {
          "output_type": "stream",
          "name": "stdout",
          "text": [
            "2022-11-22 13:22:48,941 - TPE using 4/4 trials with best loss 1.176991\n",
            " 50%|█████     | 5/10 [00:03<00:03,  1.56trial/s, best loss: 0.9718032142333196]"
          ]
        },
        {
          "output_type": "stream",
          "name": "stderr",
          "text": [
            "INFO:hyperopt.tpe:build_posterior_wrapper took 0.004869 seconds\n"
          ]
        },
        {
          "output_type": "stream",
          "name": "stdout",
          "text": [
            "2022-11-22 13:22:49,418 - build_posterior_wrapper took 0.004869 seconds\n"
          ]
        },
        {
          "output_type": "stream",
          "name": "stderr",
          "text": [
            "INFO:hyperopt.tpe:TPE using 5/5 trials with best loss 0.971803\n"
          ]
        },
        {
          "output_type": "stream",
          "name": "stdout",
          "text": [
            "2022-11-22 13:22:49,434 - TPE using 5/5 trials with best loss 0.971803\n",
            " 60%|██████    | 6/10 [00:05<00:03,  1.17trial/s, best loss: 0.9718032142333196]"
          ]
        },
        {
          "output_type": "stream",
          "name": "stderr",
          "text": [
            "INFO:hyperopt.tpe:build_posterior_wrapper took 0.004664 seconds\n"
          ]
        },
        {
          "output_type": "stream",
          "name": "stdout",
          "text": [
            "2022-11-22 13:22:50,685 - build_posterior_wrapper took 0.004664 seconds\n"
          ]
        },
        {
          "output_type": "stream",
          "name": "stderr",
          "text": [
            "INFO:hyperopt.tpe:TPE using 6/6 trials with best loss 0.971803\n"
          ]
        },
        {
          "output_type": "stream",
          "name": "stdout",
          "text": [
            "2022-11-22 13:22:50,695 - TPE using 6/6 trials with best loss 0.971803\n",
            " 70%|███████   | 7/10 [00:05<00:02,  1.26trial/s, best loss: 0.35511353576385013]"
          ]
        },
        {
          "output_type": "stream",
          "name": "stderr",
          "text": [
            "INFO:hyperopt.tpe:build_posterior_wrapper took 0.004666 seconds\n"
          ]
        },
        {
          "output_type": "stream",
          "name": "stdout",
          "text": [
            "2022-11-22 13:22:51,356 - build_posterior_wrapper took 0.004666 seconds\n"
          ]
        },
        {
          "output_type": "stream",
          "name": "stderr",
          "text": [
            "INFO:hyperopt.tpe:TPE using 7/7 trials with best loss 0.355114\n"
          ]
        },
        {
          "output_type": "stream",
          "name": "stdout",
          "text": [
            "2022-11-22 13:22:51,369 - TPE using 7/7 trials with best loss 0.355114\n",
            " 80%|████████  | 8/10 [00:07<00:01,  1.04trial/s, best loss: 0.35511353576385013]"
          ]
        },
        {
          "output_type": "stream",
          "name": "stderr",
          "text": [
            "INFO:hyperopt.tpe:build_posterior_wrapper took 0.004689 seconds\n"
          ]
        },
        {
          "output_type": "stream",
          "name": "stdout",
          "text": [
            "2022-11-22 13:22:52,663 - build_posterior_wrapper took 0.004689 seconds\n"
          ]
        },
        {
          "output_type": "stream",
          "name": "stderr",
          "text": [
            "INFO:hyperopt.tpe:TPE using 8/8 trials with best loss 0.355114\n"
          ]
        },
        {
          "output_type": "stream",
          "name": "stdout",
          "text": [
            "2022-11-22 13:22:52,673 - TPE using 8/8 trials with best loss 0.355114\n",
            " 90%|█████████ | 9/10 [00:07<00:00,  1.07trial/s, best loss: 0.35511353576385013]"
          ]
        },
        {
          "output_type": "stream",
          "name": "stderr",
          "text": [
            "INFO:hyperopt.tpe:build_posterior_wrapper took 0.007341 seconds\n"
          ]
        },
        {
          "output_type": "stream",
          "name": "stdout",
          "text": [
            "2022-11-22 13:22:53,542 - build_posterior_wrapper took 0.007341 seconds\n"
          ]
        },
        {
          "output_type": "stream",
          "name": "stderr",
          "text": [
            "INFO:hyperopt.tpe:TPE using 9/9 trials with best loss 0.355114\n"
          ]
        },
        {
          "output_type": "stream",
          "name": "stdout",
          "text": [
            "2022-11-22 13:22:53,547 - TPE using 9/9 trials with best loss 0.355114\n",
            "100%|██████████| 10/10 [00:08<00:00,  1.21trial/s, best loss: 0.35511353576385013]\n"
          ]
        },
        {
          "output_type": "stream",
          "name": "stderr",
          "text": [
            "INFO:root:PipelineTuner - Hyperparameters optimization finished\n"
          ]
        },
        {
          "output_type": "stream",
          "name": "stdout",
          "text": [
            "2022-11-22 13:22:54,475 - PipelineTuner - Hyperparameters optimization finished\n"
          ]
        },
        {
          "output_type": "stream",
          "name": "stderr",
          "text": [
            "INFO:root:PipelineTuner - Return init pipeline due to the fact that obtained metric 0.355 worse than initial (+ 5% deviation) 0.209\n"
          ]
        },
        {
          "output_type": "stream",
          "name": "stdout",
          "text": [
            "2022-11-22 13:22:54,479 - PipelineTuner - Return init pipeline due to the fact that obtained metric 0.355 worse than initial (+ 5% deviation) 0.209\n"
          ]
        },
        {
          "output_type": "stream",
          "name": "stderr",
          "text": [
            "INFO:root:PipelineTuner - Hyperparameters optimization start\n"
          ]
        },
        {
          "output_type": "stream",
          "name": "stdout",
          "text": [
            "2022-11-22 13:22:54,695 - PipelineTuner - Hyperparameters optimization start\n",
            "  0%|          | 0/10 [00:00<?, ?trial/s, best loss=?]"
          ]
        },
        {
          "output_type": "stream",
          "name": "stderr",
          "text": [
            "INFO:hyperopt.tpe:build_posterior_wrapper took 0.004964 seconds\n"
          ]
        },
        {
          "output_type": "stream",
          "name": "stdout",
          "text": [
            "2022-11-22 13:22:55,350 - build_posterior_wrapper took 0.004964 seconds\n"
          ]
        },
        {
          "output_type": "stream",
          "name": "stderr",
          "text": [
            "INFO:hyperopt.tpe:TPE using 0 trials\n"
          ]
        },
        {
          "output_type": "stream",
          "name": "stdout",
          "text": [
            "2022-11-22 13:22:55,357 - TPE using 0 trials\n",
            " 10%|█         | 1/10 [00:00<00:06,  1.41trial/s, best loss: 3114.3500923807333]"
          ]
        },
        {
          "output_type": "stream",
          "name": "stderr",
          "text": [
            "INFO:hyperopt.tpe:build_posterior_wrapper took 0.006523 seconds\n"
          ]
        },
        {
          "output_type": "stream",
          "name": "stdout",
          "text": [
            "2022-11-22 13:22:56,072 - build_posterior_wrapper took 0.006523 seconds\n"
          ]
        },
        {
          "output_type": "stream",
          "name": "stderr",
          "text": [
            "INFO:hyperopt.tpe:TPE using 1/1 trials with best loss 3114.350092\n"
          ]
        },
        {
          "output_type": "stream",
          "name": "stdout",
          "text": [
            "2022-11-22 13:22:56,087 - TPE using 1/1 trials with best loss 3114.350092\n",
            " 20%|██        | 2/10 [00:01<00:07,  1.09trial/s, best loss: 1.4596196285828498]"
          ]
        },
        {
          "output_type": "stream",
          "name": "stderr",
          "text": [
            "INFO:hyperopt.tpe:build_posterior_wrapper took 0.005278 seconds\n"
          ]
        },
        {
          "output_type": "stream",
          "name": "stdout",
          "text": [
            "2022-11-22 13:22:57,133 - build_posterior_wrapper took 0.005278 seconds\n"
          ]
        },
        {
          "output_type": "stream",
          "name": "stderr",
          "text": [
            "INFO:hyperopt.tpe:TPE using 2/2 trials with best loss 1.459620\n"
          ]
        },
        {
          "output_type": "stream",
          "name": "stdout",
          "text": [
            "2022-11-22 13:22:57,141 - TPE using 2/2 trials with best loss 1.459620\n",
            " 30%|███       | 3/10 [00:02<00:04,  1.48trial/s, best loss: 1.4596196285828498]"
          ]
        },
        {
          "output_type": "stream",
          "name": "stderr",
          "text": [
            "INFO:hyperopt.tpe:build_posterior_wrapper took 0.005772 seconds\n"
          ]
        },
        {
          "output_type": "stream",
          "name": "stdout",
          "text": [
            "2022-11-22 13:22:57,522 - build_posterior_wrapper took 0.005772 seconds\n"
          ]
        },
        {
          "output_type": "stream",
          "name": "stderr",
          "text": [
            "INFO:hyperopt.tpe:TPE using 3/3 trials with best loss 1.459620\n"
          ]
        },
        {
          "output_type": "stream",
          "name": "stdout",
          "text": [
            "2022-11-22 13:22:57,529 - TPE using 3/3 trials with best loss 1.459620\n",
            " 40%|████      | 4/10 [00:03<00:04,  1.27trial/s, best loss: 0.4379851001897992]"
          ]
        },
        {
          "output_type": "stream",
          "name": "stderr",
          "text": [
            "INFO:hyperopt.tpe:build_posterior_wrapper took 0.005787 seconds\n"
          ]
        },
        {
          "output_type": "stream",
          "name": "stdout",
          "text": [
            "2022-11-22 13:22:58,472 - build_posterior_wrapper took 0.005787 seconds\n"
          ]
        },
        {
          "output_type": "stream",
          "name": "stderr",
          "text": [
            "INFO:hyperopt.tpe:TPE using 4/4 trials with best loss 0.437985\n"
          ]
        },
        {
          "output_type": "stream",
          "name": "stdout",
          "text": [
            "2022-11-22 13:22:58,479 - TPE using 4/4 trials with best loss 0.437985\n",
            " 50%|█████     | 5/10 [00:03<00:03,  1.35trial/s, best loss: 0.3573024346244832]"
          ]
        },
        {
          "output_type": "stream",
          "name": "stderr",
          "text": [
            "INFO:hyperopt.tpe:build_posterior_wrapper took 0.005070 seconds\n"
          ]
        },
        {
          "output_type": "stream",
          "name": "stdout",
          "text": [
            "2022-11-22 13:22:59,133 - build_posterior_wrapper took 0.005070 seconds\n"
          ]
        },
        {
          "output_type": "stream",
          "name": "stderr",
          "text": [
            "INFO:hyperopt.tpe:TPE using 5/5 trials with best loss 0.357302\n"
          ]
        },
        {
          "output_type": "stream",
          "name": "stdout",
          "text": [
            "2022-11-22 13:22:59,139 - TPE using 5/5 trials with best loss 0.357302\n",
            " 60%|██████    | 6/10 [00:04<00:02,  1.55trial/s, best loss: 0.26017376323597685]"
          ]
        },
        {
          "output_type": "stream",
          "name": "stderr",
          "text": [
            "INFO:hyperopt.tpe:build_posterior_wrapper took 0.005556 seconds\n"
          ]
        },
        {
          "output_type": "stream",
          "name": "stdout",
          "text": [
            "2022-11-22 13:22:59,591 - build_posterior_wrapper took 0.005556 seconds\n"
          ]
        },
        {
          "output_type": "stream",
          "name": "stderr",
          "text": [
            "INFO:hyperopt.tpe:TPE using 6/6 trials with best loss 0.260174\n"
          ]
        },
        {
          "output_type": "stream",
          "name": "stdout",
          "text": [
            "2022-11-22 13:22:59,597 - TPE using 6/6 trials with best loss 0.260174\n",
            " 70%|███████   | 7/10 [00:04<00:01,  1.78trial/s, best loss: 0.26017376323597685]"
          ]
        },
        {
          "output_type": "stream",
          "name": "stderr",
          "text": [
            "INFO:hyperopt.tpe:build_posterior_wrapper took 0.005268 seconds\n"
          ]
        },
        {
          "output_type": "stream",
          "name": "stdout",
          "text": [
            "2022-11-22 13:22:59,982 - build_posterior_wrapper took 0.005268 seconds\n"
          ]
        },
        {
          "output_type": "stream",
          "name": "stderr",
          "text": [
            "INFO:hyperopt.tpe:TPE using 7/7 trials with best loss 0.260174\n"
          ]
        },
        {
          "output_type": "stream",
          "name": "stdout",
          "text": [
            "2022-11-22 13:22:59,989 - TPE using 7/7 trials with best loss 0.260174\n",
            " 80%|████████  | 8/10 [00:05<00:01,  1.98trial/s, best loss: 0.26017376323597685]"
          ]
        },
        {
          "output_type": "stream",
          "name": "stderr",
          "text": [
            "INFO:hyperopt.tpe:build_posterior_wrapper took 0.004749 seconds\n"
          ]
        },
        {
          "output_type": "stream",
          "name": "stdout",
          "text": [
            "2022-11-22 13:23:00,364 - build_posterior_wrapper took 0.004749 seconds\n"
          ]
        },
        {
          "output_type": "stream",
          "name": "stderr",
          "text": [
            "INFO:hyperopt.tpe:TPE using 8/8 trials with best loss 0.260174\n"
          ]
        },
        {
          "output_type": "stream",
          "name": "stdout",
          "text": [
            "2022-11-22 13:23:00,378 - TPE using 8/8 trials with best loss 0.260174\n",
            " 90%|█████████ | 9/10 [00:05<00:00,  1.76trial/s, best loss: 0.26017376323597685]"
          ]
        },
        {
          "output_type": "stream",
          "name": "stderr",
          "text": [
            "INFO:hyperopt.tpe:build_posterior_wrapper took 0.006352 seconds\n"
          ]
        },
        {
          "output_type": "stream",
          "name": "stdout",
          "text": [
            "2022-11-22 13:23:01,077 - build_posterior_wrapper took 0.006352 seconds\n"
          ]
        },
        {
          "output_type": "stream",
          "name": "stderr",
          "text": [
            "INFO:hyperopt.tpe:TPE using 9/9 trials with best loss 0.260174\n"
          ]
        },
        {
          "output_type": "stream",
          "name": "stdout",
          "text": [
            "2022-11-22 13:23:01,087 - TPE using 9/9 trials with best loss 0.260174\n",
            "100%|██████████| 10/10 [00:06<00:00,  1.65trial/s, best loss: 0.26017376323597685]\n"
          ]
        },
        {
          "output_type": "stream",
          "name": "stderr",
          "text": [
            "INFO:root:PipelineTuner - Hyperparameters optimization finished\n"
          ]
        },
        {
          "output_type": "stream",
          "name": "stdout",
          "text": [
            "2022-11-22 13:23:01,899 - PipelineTuner - Hyperparameters optimization finished\n"
          ]
        },
        {
          "output_type": "stream",
          "name": "stderr",
          "text": [
            "INFO:root:PipelineTuner - Return tuned pipeline due to the fact that obtained metric 0.260 equal or better than initial (+ 5% deviation) 0.382\n"
          ]
        },
        {
          "output_type": "stream",
          "name": "stdout",
          "text": [
            "2022-11-22 13:23:01,905 - PipelineTuner - Return tuned pipeline due to the fact that obtained metric 0.260 equal or better than initial (+ 5% deviation) 0.382\n"
          ]
        },
        {
          "output_type": "stream",
          "name": "stderr",
          "text": [
            "INFO:root:PipelineTuner - Hyperparameters optimization start\n"
          ]
        },
        {
          "output_type": "stream",
          "name": "stdout",
          "text": [
            "2022-11-22 13:23:02,310 - PipelineTuner - Hyperparameters optimization start\n",
            "  0%|          | 0/10 [00:00<?, ?trial/s, best loss=?]"
          ]
        },
        {
          "output_type": "stream",
          "name": "stderr",
          "text": [
            "INFO:hyperopt.tpe:build_posterior_wrapper took 0.005401 seconds\n"
          ]
        },
        {
          "output_type": "stream",
          "name": "stdout",
          "text": [
            "2022-11-22 13:23:02,664 - build_posterior_wrapper took 0.005401 seconds\n"
          ]
        },
        {
          "output_type": "stream",
          "name": "stderr",
          "text": [
            "INFO:hyperopt.tpe:TPE using 0 trials\n"
          ]
        },
        {
          "output_type": "stream",
          "name": "stdout",
          "text": [
            "2022-11-22 13:23:02,670 - TPE using 0 trials\n",
            " 10%|█         | 1/10 [00:01<00:10,  1.20s/trial, best loss: 150.18818205130825]"
          ]
        },
        {
          "output_type": "stream",
          "name": "stderr",
          "text": [
            "INFO:hyperopt.tpe:build_posterior_wrapper took 0.021643 seconds\n"
          ]
        },
        {
          "output_type": "stream",
          "name": "stdout",
          "text": [
            "2022-11-22 13:23:03,891 - build_posterior_wrapper took 0.021643 seconds\n"
          ]
        },
        {
          "output_type": "stream",
          "name": "stderr",
          "text": [
            "INFO:hyperopt.tpe:TPE using 1/1 trials with best loss 150.188182\n"
          ]
        },
        {
          "output_type": "stream",
          "name": "stdout",
          "text": [
            "2022-11-22 13:23:03,903 - TPE using 1/1 trials with best loss 150.188182\n",
            " 20%|██        | 2/10 [00:01<00:06,  1.21trial/s, best loss: 0.16916194204826973]"
          ]
        },
        {
          "output_type": "stream",
          "name": "stderr",
          "text": [
            "INFO:hyperopt.tpe:build_posterior_wrapper took 0.011606 seconds\n"
          ]
        },
        {
          "output_type": "stream",
          "name": "stdout",
          "text": [
            "2022-11-22 13:23:04,445 - build_posterior_wrapper took 0.011606 seconds\n"
          ]
        },
        {
          "output_type": "stream",
          "name": "stderr",
          "text": [
            "INFO:hyperopt.tpe:TPE using 2/2 trials with best loss 0.169162\n"
          ]
        },
        {
          "output_type": "stream",
          "name": "stdout",
          "text": [
            "2022-11-22 13:23:04,455 - TPE using 2/2 trials with best loss 0.169162\n",
            " 30%|███       | 3/10 [00:02<00:06,  1.00trial/s, best loss: 0.1658849151627075] "
          ]
        },
        {
          "output_type": "stream",
          "name": "stderr",
          "text": [
            "INFO:hyperopt.tpe:build_posterior_wrapper took 0.013164 seconds\n"
          ]
        },
        {
          "output_type": "stream",
          "name": "stdout",
          "text": [
            "2022-11-22 13:23:05,645 - build_posterior_wrapper took 0.013164 seconds\n"
          ]
        },
        {
          "output_type": "stream",
          "name": "stderr",
          "text": [
            "INFO:hyperopt.tpe:TPE using 3/3 trials with best loss 0.165885\n"
          ]
        },
        {
          "output_type": "stream",
          "name": "stdout",
          "text": [
            "2022-11-22 13:23:05,663 - TPE using 3/3 trials with best loss 0.165885\n",
            " 40%|████      | 4/10 [00:03<00:05,  1.11trial/s, best loss: 0.1658849151627075]"
          ]
        },
        {
          "output_type": "stream",
          "name": "stderr",
          "text": [
            "INFO:hyperopt.tpe:build_posterior_wrapper took 0.019130 seconds\n"
          ]
        },
        {
          "output_type": "stream",
          "name": "stdout",
          "text": [
            "2022-11-22 13:23:06,408 - build_posterior_wrapper took 0.019130 seconds\n"
          ]
        },
        {
          "output_type": "stream",
          "name": "stderr",
          "text": [
            "INFO:hyperopt.tpe:TPE using 4/4 trials with best loss 0.165885\n"
          ]
        },
        {
          "output_type": "stream",
          "name": "stdout",
          "text": [
            "2022-11-22 13:23:06,424 - TPE using 4/4 trials with best loss 0.165885\n",
            " 50%|█████     | 5/10 [00:04<00:03,  1.36trial/s, best loss: 0.1658849151627075]"
          ]
        },
        {
          "output_type": "stream",
          "name": "stderr",
          "text": [
            "INFO:hyperopt.tpe:build_posterior_wrapper took 0.012743 seconds\n"
          ]
        },
        {
          "output_type": "stream",
          "name": "stdout",
          "text": [
            "2022-11-22 13:23:06,845 - build_posterior_wrapper took 0.012743 seconds\n"
          ]
        },
        {
          "output_type": "stream",
          "name": "stderr",
          "text": [
            "INFO:hyperopt.tpe:TPE using 5/5 trials with best loss 0.165885\n"
          ]
        },
        {
          "output_type": "stream",
          "name": "stdout",
          "text": [
            "2022-11-22 13:23:06,859 - TPE using 5/5 trials with best loss 0.165885\n",
            " 60%|██████    | 6/10 [00:04<00:02,  1.49trial/s, best loss: 0.1658849151627075]"
          ]
        },
        {
          "output_type": "stream",
          "name": "stderr",
          "text": [
            "INFO:hyperopt.tpe:build_posterior_wrapper took 0.005894 seconds\n"
          ]
        },
        {
          "output_type": "stream",
          "name": "stdout",
          "text": [
            "2022-11-22 13:23:07,379 - build_posterior_wrapper took 0.005894 seconds\n"
          ]
        },
        {
          "output_type": "stream",
          "name": "stderr",
          "text": [
            "INFO:hyperopt.tpe:TPE using 6/6 trials with best loss 0.165885\n"
          ]
        },
        {
          "output_type": "stream",
          "name": "stdout",
          "text": [
            "2022-11-22 13:23:07,389 - TPE using 6/6 trials with best loss 0.165885\n",
            " 70%|███████   | 7/10 [00:05<00:01,  1.70trial/s, best loss: 0.1658849151627075]"
          ]
        },
        {
          "output_type": "stream",
          "name": "stderr",
          "text": [
            "INFO:hyperopt.tpe:build_posterior_wrapper took 0.006028 seconds\n"
          ]
        },
        {
          "output_type": "stream",
          "name": "stdout",
          "text": [
            "2022-11-22 13:23:07,799 - build_posterior_wrapper took 0.006028 seconds\n"
          ]
        },
        {
          "output_type": "stream",
          "name": "stderr",
          "text": [
            "INFO:hyperopt.tpe:TPE using 7/7 trials with best loss 0.165885\n"
          ]
        },
        {
          "output_type": "stream",
          "name": "stdout",
          "text": [
            "2022-11-22 13:23:07,812 - TPE using 7/7 trials with best loss 0.165885\n",
            " 80%|████████  | 8/10 [00:06<00:01,  1.19trial/s, best loss: 0.1658849151627075]"
          ]
        },
        {
          "output_type": "stream",
          "name": "stderr",
          "text": [
            "INFO:hyperopt.tpe:build_posterior_wrapper took 0.013865 seconds\n"
          ]
        },
        {
          "output_type": "stream",
          "name": "stdout",
          "text": [
            "2022-11-22 13:23:09,182 - build_posterior_wrapper took 0.013865 seconds\n"
          ]
        },
        {
          "output_type": "stream",
          "name": "stderr",
          "text": [
            "INFO:hyperopt.tpe:TPE using 8/8 trials with best loss 0.165885\n"
          ]
        },
        {
          "output_type": "stream",
          "name": "stdout",
          "text": [
            "2022-11-22 13:23:09,194 - TPE using 8/8 trials with best loss 0.165885\n",
            " 90%|█████████ | 9/10 [00:06<00:00,  1.48trial/s, best loss: 0.1658849151627075]"
          ]
        },
        {
          "output_type": "stream",
          "name": "stderr",
          "text": [
            "INFO:hyperopt.tpe:build_posterior_wrapper took 0.009171 seconds\n"
          ]
        },
        {
          "output_type": "stream",
          "name": "stdout",
          "text": [
            "2022-11-22 13:23:09,491 - build_posterior_wrapper took 0.009171 seconds\n"
          ]
        },
        {
          "output_type": "stream",
          "name": "stderr",
          "text": [
            "INFO:hyperopt.tpe:TPE using 9/9 trials with best loss 0.165885\n"
          ]
        },
        {
          "output_type": "stream",
          "name": "stdout",
          "text": [
            "2022-11-22 13:23:09,504 - TPE using 9/9 trials with best loss 0.165885\n",
            "100%|██████████| 10/10 [00:07<00:00,  1.26trial/s, best loss: 0.1658849151627075]\n"
          ]
        },
        {
          "output_type": "stream",
          "name": "stderr",
          "text": [
            "INFO:root:PipelineTuner - Hyperparameters optimization finished\n"
          ]
        },
        {
          "output_type": "stream",
          "name": "stdout",
          "text": [
            "2022-11-22 13:23:11,327 - PipelineTuner - Hyperparameters optimization finished\n"
          ]
        },
        {
          "output_type": "stream",
          "name": "stderr",
          "text": [
            "INFO:root:PipelineTuner - Return tuned pipeline due to the fact that obtained metric 0.166 equal or better than initial (+ 5% deviation) 0.220\n"
          ]
        },
        {
          "output_type": "stream",
          "name": "stdout",
          "text": [
            "2022-11-22 13:23:11,330 - PipelineTuner - Return tuned pipeline due to the fact that obtained metric 0.166 equal or better than initial (+ 5% deviation) 0.220\n"
          ]
        },
        {
          "output_type": "stream",
          "name": "stderr",
          "text": [
            "INFO:root:PipelineTuner - Hyperparameters optimization start\n"
          ]
        },
        {
          "output_type": "stream",
          "name": "stdout",
          "text": [
            "2022-11-22 13:23:12,063 - PipelineTuner - Hyperparameters optimization start\n",
            "  0%|          | 0/10 [00:00<?, ?trial/s, best loss=?]"
          ]
        },
        {
          "output_type": "stream",
          "name": "stderr",
          "text": [
            "INFO:hyperopt.tpe:build_posterior_wrapper took 0.004904 seconds\n"
          ]
        },
        {
          "output_type": "stream",
          "name": "stdout",
          "text": [
            "2022-11-22 13:23:12,792 - build_posterior_wrapper took 0.004904 seconds\n"
          ]
        },
        {
          "output_type": "stream",
          "name": "stderr",
          "text": [
            "INFO:hyperopt.tpe:TPE using 0 trials\n"
          ]
        },
        {
          "output_type": "stream",
          "name": "stdout",
          "text": [
            "2022-11-22 13:23:12,802 - TPE using 0 trials\n",
            " 10%|█         | 1/10 [00:00<00:04,  1.93trial/s, best loss: 0.29519617733944625]"
          ]
        },
        {
          "output_type": "stream",
          "name": "stderr",
          "text": [
            "INFO:hyperopt.tpe:build_posterior_wrapper took 0.007546 seconds\n"
          ]
        },
        {
          "output_type": "stream",
          "name": "stdout",
          "text": [
            "2022-11-22 13:23:13,315 - build_posterior_wrapper took 0.007546 seconds\n"
          ]
        },
        {
          "output_type": "stream",
          "name": "stderr",
          "text": [
            "INFO:hyperopt.tpe:TPE using 1/1 trials with best loss 0.295196\n"
          ]
        },
        {
          "output_type": "stream",
          "name": "stdout",
          "text": [
            "2022-11-22 13:23:13,326 - TPE using 1/1 trials with best loss 0.295196\n",
            " 20%|██        | 2/10 [00:01<00:06,  1.25trial/s, best loss: 0.29519617733944625]"
          ]
        },
        {
          "output_type": "stream",
          "name": "stderr",
          "text": [
            "INFO:hyperopt.tpe:build_posterior_wrapper took 0.005975 seconds\n"
          ]
        },
        {
          "output_type": "stream",
          "name": "stdout",
          "text": [
            "2022-11-22 13:23:14,306 - build_posterior_wrapper took 0.005975 seconds\n"
          ]
        },
        {
          "output_type": "stream",
          "name": "stderr",
          "text": [
            "INFO:hyperopt.tpe:TPE using 2/2 trials with best loss 0.295196\n"
          ]
        },
        {
          "output_type": "stream",
          "name": "stdout",
          "text": [
            "2022-11-22 13:23:14,324 - TPE using 2/2 trials with best loss 0.295196\n",
            " 30%|███       | 3/10 [00:01<00:04,  1.59trial/s, best loss: 0.29519617733944625]"
          ]
        },
        {
          "output_type": "stream",
          "name": "stderr",
          "text": [
            "INFO:hyperopt.tpe:build_posterior_wrapper took 0.006196 seconds\n"
          ]
        },
        {
          "output_type": "stream",
          "name": "stdout",
          "text": [
            "2022-11-22 13:23:14,735 - build_posterior_wrapper took 0.006196 seconds\n"
          ]
        },
        {
          "output_type": "stream",
          "name": "stderr",
          "text": [
            "INFO:hyperopt.tpe:TPE using 3/3 trials with best loss 0.295196\n"
          ]
        },
        {
          "output_type": "stream",
          "name": "stdout",
          "text": [
            "2022-11-22 13:23:14,750 - TPE using 3/3 trials with best loss 0.295196\n",
            " 40%|████      | 4/10 [00:02<00:03,  1.98trial/s, best loss: 0.29519617733944625]"
          ]
        },
        {
          "output_type": "stream",
          "name": "stderr",
          "text": [
            "INFO:hyperopt.tpe:build_posterior_wrapper took 0.006531 seconds\n"
          ]
        },
        {
          "output_type": "stream",
          "name": "stdout",
          "text": [
            "2022-11-22 13:23:15,052 - build_posterior_wrapper took 0.006531 seconds\n"
          ]
        },
        {
          "output_type": "stream",
          "name": "stderr",
          "text": [
            "INFO:hyperopt.tpe:TPE using 4/4 trials with best loss 0.295196\n"
          ]
        },
        {
          "output_type": "stream",
          "name": "stdout",
          "text": [
            "2022-11-22 13:23:15,071 - TPE using 4/4 trials with best loss 0.295196\n",
            " 50%|█████     | 5/10 [00:02<00:02,  1.89trial/s, best loss: 0.29519617733944625]"
          ]
        },
        {
          "output_type": "stream",
          "name": "stderr",
          "text": [
            "INFO:hyperopt.tpe:build_posterior_wrapper took 0.013921 seconds\n"
          ]
        },
        {
          "output_type": "stream",
          "name": "stdout",
          "text": [
            "2022-11-22 13:23:15,634 - build_posterior_wrapper took 0.013921 seconds\n"
          ]
        },
        {
          "output_type": "stream",
          "name": "stderr",
          "text": [
            "INFO:hyperopt.tpe:TPE using 5/5 trials with best loss 0.295196\n"
          ]
        },
        {
          "output_type": "stream",
          "name": "stdout",
          "text": [
            "2022-11-22 13:23:15,650 - TPE using 5/5 trials with best loss 0.295196\n",
            " 60%|██████    | 6/10 [00:04<00:03,  1.18trial/s, best loss: 0.29519617733944625]"
          ]
        },
        {
          "output_type": "stream",
          "name": "stderr",
          "text": [
            "INFO:hyperopt.tpe:build_posterior_wrapper took 0.013195 seconds\n"
          ]
        },
        {
          "output_type": "stream",
          "name": "stdout",
          "text": [
            "2022-11-22 13:23:17,086 - build_posterior_wrapper took 0.013195 seconds\n"
          ]
        },
        {
          "output_type": "stream",
          "name": "stderr",
          "text": [
            "INFO:hyperopt.tpe:TPE using 6/6 trials with best loss 0.295196\n"
          ]
        },
        {
          "output_type": "stream",
          "name": "stdout",
          "text": [
            "2022-11-22 13:23:17,095 - TPE using 6/6 trials with best loss 0.295196\n",
            " 70%|███████   | 7/10 [00:04<00:02,  1.30trial/s, best loss: 0.29519617733944625]"
          ]
        },
        {
          "output_type": "stream",
          "name": "stderr",
          "text": [
            "INFO:hyperopt.tpe:build_posterior_wrapper took 0.019383 seconds\n"
          ]
        },
        {
          "output_type": "stream",
          "name": "stdout",
          "text": [
            "2022-11-22 13:23:17,715 - build_posterior_wrapper took 0.019383 seconds\n"
          ]
        },
        {
          "output_type": "stream",
          "name": "stderr",
          "text": [
            "INFO:hyperopt.tpe:TPE using 7/7 trials with best loss 0.295196\n"
          ]
        },
        {
          "output_type": "stream",
          "name": "stdout",
          "text": [
            "2022-11-22 13:23:17,724 - TPE using 7/7 trials with best loss 0.295196\n",
            " 80%|████████  | 8/10 [00:05<00:01,  1.20trial/s, best loss: 0.29519617733944625]"
          ]
        },
        {
          "output_type": "stream",
          "name": "stderr",
          "text": [
            "INFO:hyperopt.tpe:build_posterior_wrapper took 0.012980 seconds\n"
          ]
        },
        {
          "output_type": "stream",
          "name": "stdout",
          "text": [
            "2022-11-22 13:23:18,674 - build_posterior_wrapper took 0.012980 seconds\n"
          ]
        },
        {
          "output_type": "stream",
          "name": "stderr",
          "text": [
            "INFO:hyperopt.tpe:TPE using 8/8 trials with best loss 0.295196\n"
          ]
        },
        {
          "output_type": "stream",
          "name": "stdout",
          "text": [
            "2022-11-22 13:23:18,680 - TPE using 8/8 trials with best loss 0.295196\n",
            " 90%|█████████ | 9/10 [00:06<00:00,  1.44trial/s, best loss: 0.29519617733944625]"
          ]
        },
        {
          "output_type": "stream",
          "name": "stderr",
          "text": [
            "INFO:hyperopt.tpe:build_posterior_wrapper took 0.005489 seconds\n"
          ]
        },
        {
          "output_type": "stream",
          "name": "stdout",
          "text": [
            "2022-11-22 13:23:19,060 - build_posterior_wrapper took 0.005489 seconds\n"
          ]
        },
        {
          "output_type": "stream",
          "name": "stderr",
          "text": [
            "INFO:hyperopt.tpe:TPE using 9/9 trials with best loss 0.295196\n"
          ]
        },
        {
          "output_type": "stream",
          "name": "stdout",
          "text": [
            "2022-11-22 13:23:19,066 - TPE using 9/9 trials with best loss 0.295196\n",
            "100%|██████████| 10/10 [00:06<00:00,  1.47trial/s, best loss: 0.29519617733944625]\n"
          ]
        },
        {
          "output_type": "stream",
          "name": "stderr",
          "text": [
            "INFO:root:PipelineTuner - Hyperparameters optimization finished\n"
          ]
        },
        {
          "output_type": "stream",
          "name": "stdout",
          "text": [
            "2022-11-22 13:23:20,112 - PipelineTuner - Hyperparameters optimization finished\n"
          ]
        },
        {
          "output_type": "stream",
          "name": "stderr",
          "text": [
            "INFO:root:PipelineTuner - Return tuned pipeline due to the fact that obtained metric 0.295 equal or better than initial (+ 5% deviation) 1.463\n"
          ]
        },
        {
          "output_type": "stream",
          "name": "stdout",
          "text": [
            "2022-11-22 13:23:20,127 - PipelineTuner - Return tuned pipeline due to the fact that obtained metric 0.295 equal or better than initial (+ 5% deviation) 1.463\n"
          ]
        },
        {
          "output_type": "stream",
          "name": "stderr",
          "text": [
            "INFO:root:PipelineTuner - Hyperparameters optimization start\n"
          ]
        },
        {
          "output_type": "stream",
          "name": "stdout",
          "text": [
            "2022-11-22 13:23:20,597 - PipelineTuner - Hyperparameters optimization start\n",
            "  0%|          | 0/10 [00:00<?, ?trial/s, best loss=?]"
          ]
        },
        {
          "output_type": "stream",
          "name": "stderr",
          "text": [
            "INFO:hyperopt.tpe:build_posterior_wrapper took 0.004966 seconds\n"
          ]
        },
        {
          "output_type": "stream",
          "name": "stdout",
          "text": [
            "2022-11-22 13:23:20,842 - build_posterior_wrapper took 0.004966 seconds\n"
          ]
        },
        {
          "output_type": "stream",
          "name": "stderr",
          "text": [
            "INFO:hyperopt.tpe:TPE using 0 trials\n"
          ]
        },
        {
          "output_type": "stream",
          "name": "stdout",
          "text": [
            "2022-11-22 13:23:20,854 - TPE using 0 trials\n",
            " 10%|█         | 1/10 [00:00<00:07,  1.24trial/s, best loss: 475.20217470629206]"
          ]
        },
        {
          "output_type": "stream",
          "name": "stderr",
          "text": [
            "INFO:hyperopt.tpe:build_posterior_wrapper took 0.011064 seconds\n"
          ]
        },
        {
          "output_type": "stream",
          "name": "stdout",
          "text": [
            "2022-11-22 13:23:21,656 - build_posterior_wrapper took 0.011064 seconds\n"
          ]
        },
        {
          "output_type": "stream",
          "name": "stderr",
          "text": [
            "INFO:hyperopt.tpe:TPE using 1/1 trials with best loss 475.202175\n"
          ]
        },
        {
          "output_type": "stream",
          "name": "stdout",
          "text": [
            "2022-11-22 13:23:21,665 - TPE using 1/1 trials with best loss 475.202175\n",
            " 20%|██        | 2/10 [00:01<00:05,  1.54trial/s, best loss: 0.43103721613837714]"
          ]
        },
        {
          "output_type": "stream",
          "name": "stderr",
          "text": [
            "INFO:hyperopt.tpe:build_posterior_wrapper took 0.005576 seconds\n"
          ]
        },
        {
          "output_type": "stream",
          "name": "stdout",
          "text": [
            "2022-11-22 13:23:22,188 - build_posterior_wrapper took 0.005576 seconds\n"
          ]
        },
        {
          "output_type": "stream",
          "name": "stderr",
          "text": [
            "INFO:hyperopt.tpe:TPE using 2/2 trials with best loss 0.431037\n"
          ]
        },
        {
          "output_type": "stream",
          "name": "stdout",
          "text": [
            "2022-11-22 13:23:22,204 - TPE using 2/2 trials with best loss 0.431037\n",
            " 30%|███       | 3/10 [00:01<00:03,  1.94trial/s, best loss: 0.16685500974802384]"
          ]
        },
        {
          "output_type": "stream",
          "name": "stderr",
          "text": [
            "INFO:hyperopt.tpe:build_posterior_wrapper took 0.005297 seconds\n"
          ]
        },
        {
          "output_type": "stream",
          "name": "stdout",
          "text": [
            "2022-11-22 13:23:22,546 - build_posterior_wrapper took 0.005297 seconds\n"
          ]
        },
        {
          "output_type": "stream",
          "name": "stderr",
          "text": [
            "INFO:hyperopt.tpe:TPE using 3/3 trials with best loss 0.166855\n"
          ]
        },
        {
          "output_type": "stream",
          "name": "stdout",
          "text": [
            "2022-11-22 13:23:22,564 - TPE using 3/3 trials with best loss 0.166855\n",
            " 40%|████      | 4/10 [00:02<00:03,  1.94trial/s, best loss: 0.16685500974802384]"
          ]
        },
        {
          "output_type": "stream",
          "name": "stderr",
          "text": [
            "INFO:hyperopt.tpe:build_posterior_wrapper took 0.010413 seconds\n"
          ]
        },
        {
          "output_type": "stream",
          "name": "stdout",
          "text": [
            "2022-11-22 13:23:23,078 - build_posterior_wrapper took 0.010413 seconds\n"
          ]
        },
        {
          "output_type": "stream",
          "name": "stderr",
          "text": [
            "INFO:hyperopt.tpe:TPE using 4/4 trials with best loss 0.166855\n"
          ]
        },
        {
          "output_type": "stream",
          "name": "stdout",
          "text": [
            "2022-11-22 13:23:23,088 - TPE using 4/4 trials with best loss 0.166855\n",
            " 50%|█████     | 5/10 [00:02<00:02,  2.13trial/s, best loss: 0.16685500974802384]"
          ]
        },
        {
          "output_type": "stream",
          "name": "stderr",
          "text": [
            "INFO:hyperopt.tpe:build_posterior_wrapper took 0.005813 seconds\n"
          ]
        },
        {
          "output_type": "stream",
          "name": "stdout",
          "text": [
            "2022-11-22 13:23:23,451 - build_posterior_wrapper took 0.005813 seconds\n"
          ]
        },
        {
          "output_type": "stream",
          "name": "stderr",
          "text": [
            "INFO:hyperopt.tpe:TPE using 5/5 trials with best loss 0.166855\n"
          ]
        },
        {
          "output_type": "stream",
          "name": "stdout",
          "text": [
            "2022-11-22 13:23:23,464 - TPE using 5/5 trials with best loss 0.166855\n",
            " 60%|██████    | 6/10 [00:03<00:02,  1.91trial/s, best loss: 0.16685500974802384]"
          ]
        },
        {
          "output_type": "stream",
          "name": "stderr",
          "text": [
            "INFO:hyperopt.tpe:build_posterior_wrapper took 0.004926 seconds\n"
          ]
        },
        {
          "output_type": "stream",
          "name": "stdout",
          "text": [
            "2022-11-22 13:23:24,076 - build_posterior_wrapper took 0.004926 seconds\n"
          ]
        },
        {
          "output_type": "stream",
          "name": "stderr",
          "text": [
            "INFO:hyperopt.tpe:TPE using 6/6 trials with best loss 0.166855\n"
          ]
        },
        {
          "output_type": "stream",
          "name": "stdout",
          "text": [
            "2022-11-22 13:23:24,083 - TPE using 6/6 trials with best loss 0.166855\n",
            " 70%|███████   | 7/10 [00:04<00:02,  1.45trial/s, best loss: 0.16685500974802384]"
          ]
        },
        {
          "output_type": "stream",
          "name": "stderr",
          "text": [
            "INFO:hyperopt.tpe:build_posterior_wrapper took 0.005974 seconds\n"
          ]
        },
        {
          "output_type": "stream",
          "name": "stdout",
          "text": [
            "2022-11-22 13:23:25,116 - build_posterior_wrapper took 0.005974 seconds\n"
          ]
        },
        {
          "output_type": "stream",
          "name": "stderr",
          "text": [
            "INFO:hyperopt.tpe:TPE using 7/7 trials with best loss 0.166855\n"
          ]
        },
        {
          "output_type": "stream",
          "name": "stdout",
          "text": [
            "2022-11-22 13:23:25,122 - TPE using 7/7 trials with best loss 0.166855\n",
            " 80%|████████  | 8/10 [00:05<00:01,  1.17trial/s, best loss: 0.16685500974802384]"
          ]
        },
        {
          "output_type": "stream",
          "name": "stderr",
          "text": [
            "INFO:hyperopt.tpe:build_posterior_wrapper took 0.007170 seconds\n"
          ]
        },
        {
          "output_type": "stream",
          "name": "stdout",
          "text": [
            "2022-11-22 13:23:26,339 - build_posterior_wrapper took 0.007170 seconds\n"
          ]
        },
        {
          "output_type": "stream",
          "name": "stderr",
          "text": [
            "INFO:hyperopt.tpe:TPE using 8/8 trials with best loss 0.166855\n"
          ]
        },
        {
          "output_type": "stream",
          "name": "stdout",
          "text": [
            "2022-11-22 13:23:26,343 - TPE using 8/8 trials with best loss 0.166855\n",
            " 90%|█████████ | 9/10 [00:06<00:00,  1.08trial/s, best loss: 0.16685500974802384]"
          ]
        },
        {
          "output_type": "stream",
          "name": "stderr",
          "text": [
            "INFO:hyperopt.tpe:build_posterior_wrapper took 0.005323 seconds\n"
          ]
        },
        {
          "output_type": "stream",
          "name": "stdout",
          "text": [
            "2022-11-22 13:23:27,412 - build_posterior_wrapper took 0.005323 seconds\n"
          ]
        },
        {
          "output_type": "stream",
          "name": "stderr",
          "text": [
            "INFO:hyperopt.tpe:TPE using 9/9 trials with best loss 0.166855\n"
          ]
        },
        {
          "output_type": "stream",
          "name": "stdout",
          "text": [
            "2022-11-22 13:23:27,426 - TPE using 9/9 trials with best loss 0.166855\n",
            "100%|██████████| 10/10 [00:07<00:00,  1.34trial/s, best loss: 0.16685500974802384]\n"
          ]
        },
        {
          "output_type": "stream",
          "name": "stderr",
          "text": [
            "INFO:root:PipelineTuner - Hyperparameters optimization finished\n"
          ]
        },
        {
          "output_type": "stream",
          "name": "stdout",
          "text": [
            "2022-11-22 13:23:28,662 - PipelineTuner - Hyperparameters optimization finished\n"
          ]
        },
        {
          "output_type": "stream",
          "name": "stderr",
          "text": [
            "INFO:root:PipelineTuner - Return tuned pipeline due to the fact that obtained metric 0.167 equal or better than initial (+ 5% deviation) 0.209\n"
          ]
        },
        {
          "output_type": "stream",
          "name": "stdout",
          "text": [
            "2022-11-22 13:23:28,680 - PipelineTuner - Return tuned pipeline due to the fact that obtained metric 0.167 equal or better than initial (+ 5% deviation) 0.209\n"
          ]
        },
        {
          "output_type": "stream",
          "name": "stderr",
          "text": [
            "INFO:root:PipelineTuner - Hyperparameters optimization start\n"
          ]
        },
        {
          "output_type": "stream",
          "name": "stdout",
          "text": [
            "2022-11-22 13:23:28,948 - PipelineTuner - Hyperparameters optimization start\n",
            "  0%|          | 0/10 [00:00<?, ?trial/s, best loss=?]"
          ]
        },
        {
          "output_type": "stream",
          "name": "stderr",
          "text": [
            "INFO:hyperopt.tpe:build_posterior_wrapper took 0.004852 seconds\n"
          ]
        },
        {
          "output_type": "stream",
          "name": "stdout",
          "text": [
            "2022-11-22 13:23:29,260 - build_posterior_wrapper took 0.004852 seconds\n"
          ]
        },
        {
          "output_type": "stream",
          "name": "stderr",
          "text": [
            "INFO:hyperopt.tpe:TPE using 0 trials\n"
          ]
        },
        {
          "output_type": "stream",
          "name": "stdout",
          "text": [
            "2022-11-22 13:23:29,266 - TPE using 0 trials\n",
            " 10%|█         | 1/10 [00:00<00:04,  2.06trial/s, best loss: 2.0580970130748257]"
          ]
        },
        {
          "output_type": "stream",
          "name": "stderr",
          "text": [
            "INFO:hyperopt.tpe:build_posterior_wrapper took 0.005744 seconds\n"
          ]
        },
        {
          "output_type": "stream",
          "name": "stdout",
          "text": [
            "2022-11-22 13:23:29,749 - build_posterior_wrapper took 0.005744 seconds\n"
          ]
        },
        {
          "output_type": "stream",
          "name": "stderr",
          "text": [
            "INFO:hyperopt.tpe:TPE using 1/1 trials with best loss 2.058097\n"
          ]
        },
        {
          "output_type": "stream",
          "name": "stdout",
          "text": [
            "2022-11-22 13:23:29,756 - TPE using 1/1 trials with best loss 2.058097\n",
            " 20%|██        | 2/10 [00:01<00:06,  1.26trial/s, best loss: 0.38904258841053213]"
          ]
        },
        {
          "output_type": "stream",
          "name": "stderr",
          "text": [
            "INFO:hyperopt.tpe:build_posterior_wrapper took 0.005689 seconds\n"
          ]
        },
        {
          "output_type": "stream",
          "name": "stdout",
          "text": [
            "2022-11-22 13:23:30,758 - build_posterior_wrapper took 0.005689 seconds\n"
          ]
        },
        {
          "output_type": "stream",
          "name": "stderr",
          "text": [
            "INFO:hyperopt.tpe:TPE using 2/2 trials with best loss 0.389043\n"
          ]
        },
        {
          "output_type": "stream",
          "name": "stdout",
          "text": [
            "2022-11-22 13:23:30,765 - TPE using 2/2 trials with best loss 0.389043\n",
            " 30%|███       | 3/10 [00:01<00:03,  1.85trial/s, best loss: 0.38904258841053213]"
          ]
        },
        {
          "output_type": "stream",
          "name": "stderr",
          "text": [
            "INFO:hyperopt.tpe:build_posterior_wrapper took 0.004809 seconds\n"
          ]
        },
        {
          "output_type": "stream",
          "name": "stdout",
          "text": [
            "2022-11-22 13:23:30,999 - build_posterior_wrapper took 0.004809 seconds\n"
          ]
        },
        {
          "output_type": "stream",
          "name": "stderr",
          "text": [
            "INFO:hyperopt.tpe:TPE using 3/3 trials with best loss 0.389043\n"
          ]
        },
        {
          "output_type": "stream",
          "name": "stdout",
          "text": [
            "2022-11-22 13:23:31,005 - TPE using 3/3 trials with best loss 0.389043\n",
            " 40%|████      | 4/10 [00:02<00:02,  2.19trial/s, best loss: 0.38904258841053213]"
          ]
        },
        {
          "output_type": "stream",
          "name": "stderr",
          "text": [
            "INFO:hyperopt.tpe:build_posterior_wrapper took 0.005088 seconds\n"
          ]
        },
        {
          "output_type": "stream",
          "name": "stdout",
          "text": [
            "2022-11-22 13:23:31,328 - build_posterior_wrapper took 0.005088 seconds\n"
          ]
        },
        {
          "output_type": "stream",
          "name": "stderr",
          "text": [
            "INFO:hyperopt.tpe:TPE using 4/4 trials with best loss 0.389043\n"
          ]
        },
        {
          "output_type": "stream",
          "name": "stdout",
          "text": [
            "2022-11-22 13:23:31,334 - TPE using 4/4 trials with best loss 0.389043\n",
            " 50%|█████     | 5/10 [00:03<00:03,  1.44trial/s, best loss: 0.38904258841053213]"
          ]
        },
        {
          "output_type": "stream",
          "name": "stderr",
          "text": [
            "INFO:hyperopt.tpe:build_posterior_wrapper took 0.005775 seconds\n"
          ]
        },
        {
          "output_type": "stream",
          "name": "stdout",
          "text": [
            "2022-11-22 13:23:32,439 - build_posterior_wrapper took 0.005775 seconds\n"
          ]
        },
        {
          "output_type": "stream",
          "name": "stderr",
          "text": [
            "INFO:hyperopt.tpe:TPE using 5/5 trials with best loss 0.389043\n"
          ]
        },
        {
          "output_type": "stream",
          "name": "stdout",
          "text": [
            "2022-11-22 13:23:32,455 - TPE using 5/5 trials with best loss 0.389043\n",
            " 60%|██████    | 6/10 [00:04<00:03,  1.33trial/s, best loss: 0.38904258841053213]"
          ]
        },
        {
          "output_type": "stream",
          "name": "stderr",
          "text": [
            "INFO:hyperopt.tpe:build_posterior_wrapper took 0.005696 seconds\n"
          ]
        },
        {
          "output_type": "stream",
          "name": "stdout",
          "text": [
            "2022-11-22 13:23:33,305 - build_posterior_wrapper took 0.005696 seconds\n"
          ]
        },
        {
          "output_type": "stream",
          "name": "stderr",
          "text": [
            "INFO:hyperopt.tpe:TPE using 6/6 trials with best loss 0.389043\n"
          ]
        },
        {
          "output_type": "stream",
          "name": "stdout",
          "text": [
            "2022-11-22 13:23:33,309 - TPE using 6/6 trials with best loss 0.389043\n",
            " 70%|███████   | 7/10 [00:04<00:02,  1.38trial/s, best loss: 0.38904258841053213]"
          ]
        },
        {
          "output_type": "stream",
          "name": "stderr",
          "text": [
            "INFO:hyperopt.tpe:build_posterior_wrapper took 0.004717 seconds\n"
          ]
        },
        {
          "output_type": "stream",
          "name": "stdout",
          "text": [
            "2022-11-22 13:23:33,976 - build_posterior_wrapper took 0.004717 seconds\n"
          ]
        },
        {
          "output_type": "stream",
          "name": "stderr",
          "text": [
            "INFO:hyperopt.tpe:TPE using 7/7 trials with best loss 0.389043\n"
          ]
        },
        {
          "output_type": "stream",
          "name": "stdout",
          "text": [
            "2022-11-22 13:23:33,992 - TPE using 7/7 trials with best loss 0.389043\n",
            " 80%|████████  | 8/10 [00:05<00:01,  1.54trial/s, best loss: 0.38904258841053213]"
          ]
        },
        {
          "output_type": "stream",
          "name": "stderr",
          "text": [
            "INFO:hyperopt.tpe:build_posterior_wrapper took 0.009145 seconds\n"
          ]
        },
        {
          "output_type": "stream",
          "name": "stdout",
          "text": [
            "2022-11-22 13:23:34,472 - build_posterior_wrapper took 0.009145 seconds\n"
          ]
        },
        {
          "output_type": "stream",
          "name": "stderr",
          "text": [
            "INFO:hyperopt.tpe:TPE using 8/8 trials with best loss 0.389043\n"
          ]
        },
        {
          "output_type": "stream",
          "name": "stdout",
          "text": [
            "2022-11-22 13:23:34,488 - TPE using 8/8 trials with best loss 0.389043\n",
            " 90%|█████████ | 9/10 [00:06<00:00,  1.41trial/s, best loss: 0.22201732828909976]"
          ]
        },
        {
          "output_type": "stream",
          "name": "stderr",
          "text": [
            "INFO:hyperopt.tpe:build_posterior_wrapper took 0.008734 seconds\n"
          ]
        },
        {
          "output_type": "stream",
          "name": "stdout",
          "text": [
            "2022-11-22 13:23:35,318 - build_posterior_wrapper took 0.008734 seconds\n"
          ]
        },
        {
          "output_type": "stream",
          "name": "stderr",
          "text": [
            "INFO:hyperopt.tpe:TPE using 9/9 trials with best loss 0.222017\n"
          ]
        },
        {
          "output_type": "stream",
          "name": "stdout",
          "text": [
            "2022-11-22 13:23:35,332 - TPE using 9/9 trials with best loss 0.222017\n",
            "100%|██████████| 10/10 [00:07<00:00,  1.41trial/s, best loss: 0.22201732828909976]\n"
          ]
        },
        {
          "output_type": "stream",
          "name": "stderr",
          "text": [
            "INFO:root:PipelineTuner - Hyperparameters optimization finished\n"
          ]
        },
        {
          "output_type": "stream",
          "name": "stdout",
          "text": [
            "2022-11-22 13:23:37,234 - PipelineTuner - Hyperparameters optimization finished\n"
          ]
        },
        {
          "output_type": "stream",
          "name": "stderr",
          "text": [
            "INFO:root:PipelineTuner - Return tuned pipeline due to the fact that obtained metric 0.222 equal or better than initial (+ 5% deviation) 1.325\n"
          ]
        },
        {
          "output_type": "stream",
          "name": "stdout",
          "text": [
            "2022-11-22 13:23:37,247 - PipelineTuner - Return tuned pipeline due to the fact that obtained metric 0.222 equal or better than initial (+ 5% deviation) 1.325\n"
          ]
        },
        {
          "output_type": "stream",
          "name": "stderr",
          "text": [
            "INFO:root:PipelineTuner - Hyperparameters optimization start\n"
          ]
        },
        {
          "output_type": "stream",
          "name": "stdout",
          "text": [
            "2022-11-22 13:23:37,986 - PipelineTuner - Hyperparameters optimization start\n",
            "  0%|          | 0/10 [00:00<?, ?trial/s, best loss=?]"
          ]
        },
        {
          "output_type": "stream",
          "name": "stderr",
          "text": [
            "INFO:hyperopt.tpe:build_posterior_wrapper took 0.007626 seconds\n"
          ]
        },
        {
          "output_type": "stream",
          "name": "stdout",
          "text": [
            "2022-11-22 13:23:38,357 - build_posterior_wrapper took 0.007626 seconds\n"
          ]
        },
        {
          "output_type": "stream",
          "name": "stderr",
          "text": [
            "INFO:hyperopt.tpe:TPE using 0 trials\n"
          ]
        },
        {
          "output_type": "stream",
          "name": "stdout",
          "text": [
            "2022-11-22 13:23:38,368 - TPE using 0 trials\n",
            " 10%|█         | 1/10 [00:00<00:05,  1.68trial/s, best loss: 0.1517503957075788]"
          ]
        },
        {
          "output_type": "stream",
          "name": "stderr",
          "text": [
            "INFO:hyperopt.tpe:build_posterior_wrapper took 0.008191 seconds\n"
          ]
        },
        {
          "output_type": "stream",
          "name": "stdout",
          "text": [
            "2022-11-22 13:23:38,959 - build_posterior_wrapper took 0.008191 seconds\n"
          ]
        },
        {
          "output_type": "stream",
          "name": "stderr",
          "text": [
            "INFO:hyperopt.tpe:TPE using 1/1 trials with best loss 0.151750\n"
          ]
        },
        {
          "output_type": "stream",
          "name": "stdout",
          "text": [
            "2022-11-22 13:23:38,971 - TPE using 1/1 trials with best loss 0.151750\n",
            " 20%|██        | 2/10 [00:01<00:04,  1.71trial/s, best loss: 0.1517503957075788]"
          ]
        },
        {
          "output_type": "stream",
          "name": "stderr",
          "text": [
            "INFO:hyperopt.tpe:build_posterior_wrapper took 0.015766 seconds\n"
          ]
        },
        {
          "output_type": "stream",
          "name": "stdout",
          "text": [
            "2022-11-22 13:23:39,548 - build_posterior_wrapper took 0.015766 seconds\n"
          ]
        },
        {
          "output_type": "stream",
          "name": "stderr",
          "text": [
            "INFO:hyperopt.tpe:TPE using 2/2 trials with best loss 0.151750\n"
          ]
        },
        {
          "output_type": "stream",
          "name": "stdout",
          "text": [
            "2022-11-22 13:23:39,569 - TPE using 2/2 trials with best loss 0.151750\n",
            " 30%|███       | 3/10 [00:01<00:03,  1.90trial/s, best loss: 0.1517503957075788]"
          ]
        },
        {
          "output_type": "stream",
          "name": "stderr",
          "text": [
            "INFO:hyperopt.tpe:build_posterior_wrapper took 0.015130 seconds\n"
          ]
        },
        {
          "output_type": "stream",
          "name": "stdout",
          "text": [
            "2022-11-22 13:23:40,005 - build_posterior_wrapper took 0.015130 seconds\n"
          ]
        },
        {
          "output_type": "stream",
          "name": "stderr",
          "text": [
            "INFO:hyperopt.tpe:TPE using 3/3 trials with best loss 0.151750\n"
          ]
        },
        {
          "output_type": "stream",
          "name": "stdout",
          "text": [
            "2022-11-22 13:23:40,008 - TPE using 3/3 trials with best loss 0.151750\n",
            " 40%|████      | 4/10 [00:02<00:05,  1.19trial/s, best loss: 0.1517503957075788]"
          ]
        },
        {
          "output_type": "stream",
          "name": "stderr",
          "text": [
            "INFO:hyperopt.tpe:build_posterior_wrapper took 0.017474 seconds\n"
          ]
        },
        {
          "output_type": "stream",
          "name": "stdout",
          "text": [
            "2022-11-22 13:23:41,320 - build_posterior_wrapper took 0.017474 seconds\n"
          ]
        },
        {
          "output_type": "stream",
          "name": "stderr",
          "text": [
            "INFO:hyperopt.tpe:TPE using 4/4 trials with best loss 0.151750\n"
          ]
        },
        {
          "output_type": "stream",
          "name": "stdout",
          "text": [
            "2022-11-22 13:23:41,324 - TPE using 4/4 trials with best loss 0.151750\n",
            " 50%|█████     | 5/10 [00:03<00:03,  1.28trial/s, best loss: 0.1517503957075788]"
          ]
        },
        {
          "output_type": "stream",
          "name": "stderr",
          "text": [
            "INFO:hyperopt.tpe:build_posterior_wrapper took 0.017118 seconds\n"
          ]
        },
        {
          "output_type": "stream",
          "name": "stdout",
          "text": [
            "2022-11-22 13:23:42,001 - build_posterior_wrapper took 0.017118 seconds\n"
          ]
        },
        {
          "output_type": "stream",
          "name": "stderr",
          "text": [
            "INFO:hyperopt.tpe:TPE using 5/5 trials with best loss 0.151750\n"
          ]
        },
        {
          "output_type": "stream",
          "name": "stdout",
          "text": [
            "2022-11-22 13:23:42,011 - TPE using 5/5 trials with best loss 0.151750\n",
            " 60%|██████    | 6/10 [00:04<00:02,  1.48trial/s, best loss: 0.1517503957075788]"
          ]
        },
        {
          "output_type": "stream",
          "name": "stderr",
          "text": [
            "INFO:hyperopt.tpe:build_posterior_wrapper took 0.008812 seconds\n"
          ]
        },
        {
          "output_type": "stream",
          "name": "stdout",
          "text": [
            "2022-11-22 13:23:42,455 - build_posterior_wrapper took 0.008812 seconds\n"
          ]
        },
        {
          "output_type": "stream",
          "name": "stderr",
          "text": [
            "INFO:hyperopt.tpe:TPE using 6/6 trials with best loss 0.151750\n"
          ]
        },
        {
          "output_type": "stream",
          "name": "stdout",
          "text": [
            "2022-11-22 13:23:42,471 - TPE using 6/6 trials with best loss 0.151750\n",
            " 70%|███████   | 7/10 [00:04<00:02,  1.40trial/s, best loss: 0.1517503957075788]"
          ]
        },
        {
          "output_type": "stream",
          "name": "stderr",
          "text": [
            "INFO:hyperopt.tpe:build_posterior_wrapper took 0.008430 seconds\n"
          ]
        },
        {
          "output_type": "stream",
          "name": "stdout",
          "text": [
            "2022-11-22 13:23:43,247 - build_posterior_wrapper took 0.008430 seconds\n"
          ]
        },
        {
          "output_type": "stream",
          "name": "stderr",
          "text": [
            "INFO:hyperopt.tpe:TPE using 7/7 trials with best loss 0.151750\n"
          ]
        },
        {
          "output_type": "stream",
          "name": "stdout",
          "text": [
            "2022-11-22 13:23:43,260 - TPE using 7/7 trials with best loss 0.151750\n",
            " 80%|████████  | 8/10 [00:05<00:01,  1.39trial/s, best loss: 0.1517503957075788]"
          ]
        },
        {
          "output_type": "stream",
          "name": "stderr",
          "text": [
            "INFO:hyperopt.tpe:build_posterior_wrapper took 0.010028 seconds\n"
          ]
        },
        {
          "output_type": "stream",
          "name": "stdout",
          "text": [
            "2022-11-22 13:23:44,001 - build_posterior_wrapper took 0.010028 seconds\n"
          ]
        },
        {
          "output_type": "stream",
          "name": "stderr",
          "text": [
            "INFO:hyperopt.tpe:TPE using 8/8 trials with best loss 0.151750\n"
          ]
        },
        {
          "output_type": "stream",
          "name": "stdout",
          "text": [
            "2022-11-22 13:23:44,012 - TPE using 8/8 trials with best loss 0.151750\n",
            " 90%|█████████ | 9/10 [00:06<00:00,  1.39trial/s, best loss: 0.1517503957075788]"
          ]
        },
        {
          "output_type": "stream",
          "name": "stderr",
          "text": [
            "INFO:hyperopt.tpe:build_posterior_wrapper took 0.014558 seconds\n"
          ]
        },
        {
          "output_type": "stream",
          "name": "stdout",
          "text": [
            "2022-11-22 13:23:44,709 - build_posterior_wrapper took 0.014558 seconds\n"
          ]
        },
        {
          "output_type": "stream",
          "name": "stderr",
          "text": [
            "INFO:hyperopt.tpe:TPE using 9/9 trials with best loss 0.151750\n"
          ]
        },
        {
          "output_type": "stream",
          "name": "stdout",
          "text": [
            "2022-11-22 13:23:44,729 - TPE using 9/9 trials with best loss 0.151750\n",
            "100%|██████████| 10/10 [00:06<00:00,  1.47trial/s, best loss: 0.1517503957075788]\n"
          ]
        },
        {
          "output_type": "stream",
          "name": "stderr",
          "text": [
            "INFO:root:PipelineTuner - Hyperparameters optimization finished\n"
          ]
        },
        {
          "output_type": "stream",
          "name": "stdout",
          "text": [
            "2022-11-22 13:23:45,716 - PipelineTuner - Hyperparameters optimization finished\n"
          ]
        },
        {
          "output_type": "stream",
          "name": "stderr",
          "text": [
            "INFO:root:PipelineTuner - Return tuned pipeline due to the fact that obtained metric 0.152 equal or better than initial (+ 5% deviation) 0.221\n"
          ]
        },
        {
          "output_type": "stream",
          "name": "stdout",
          "text": [
            "2022-11-22 13:23:45,722 - PipelineTuner - Return tuned pipeline due to the fact that obtained metric 0.152 equal or better than initial (+ 5% deviation) 0.221\n"
          ]
        },
        {
          "output_type": "stream",
          "name": "stderr",
          "text": [
            "INFO:root:PipelineTuner - Hyperparameters optimization start\n"
          ]
        },
        {
          "output_type": "stream",
          "name": "stdout",
          "text": [
            "2022-11-22 13:23:46,209 - PipelineTuner - Hyperparameters optimization start\n",
            "  0%|          | 0/10 [00:00<?, ?trial/s, best loss=?]"
          ]
        },
        {
          "output_type": "stream",
          "name": "stderr",
          "text": [
            "INFO:hyperopt.tpe:build_posterior_wrapper took 0.010006 seconds\n"
          ]
        },
        {
          "output_type": "stream",
          "name": "stdout",
          "text": [
            "2022-11-22 13:23:46,798 - build_posterior_wrapper took 0.010006 seconds\n"
          ]
        },
        {
          "output_type": "stream",
          "name": "stderr",
          "text": [
            "INFO:hyperopt.tpe:TPE using 0 trials\n"
          ]
        },
        {
          "output_type": "stream",
          "name": "stdout",
          "text": [
            "2022-11-22 13:23:46,804 - TPE using 0 trials\n",
            " 10%|█         | 1/10 [00:00<00:07,  1.21trial/s, best loss: 0.2784030107295533]"
          ]
        },
        {
          "output_type": "stream",
          "name": "stderr",
          "text": [
            "INFO:hyperopt.tpe:build_posterior_wrapper took 0.009037 seconds\n"
          ]
        },
        {
          "output_type": "stream",
          "name": "stdout",
          "text": [
            "2022-11-22 13:23:47,627 - build_posterior_wrapper took 0.009037 seconds\n"
          ]
        },
        {
          "output_type": "stream",
          "name": "stderr",
          "text": [
            "INFO:hyperopt.tpe:TPE using 1/1 trials with best loss 0.278403\n"
          ]
        },
        {
          "output_type": "stream",
          "name": "stdout",
          "text": [
            "2022-11-22 13:23:47,633 - TPE using 1/1 trials with best loss 0.278403\n",
            " 20%|██        | 2/10 [00:02<00:09,  1.18s/trial, best loss: 0.2784030107295533]"
          ]
        },
        {
          "output_type": "stream",
          "name": "stderr",
          "text": [
            "INFO:hyperopt.tpe:build_posterior_wrapper took 0.017463 seconds\n"
          ]
        },
        {
          "output_type": "stream",
          "name": "stdout",
          "text": [
            "2022-11-22 13:23:49,064 - build_posterior_wrapper took 0.017463 seconds\n"
          ]
        },
        {
          "output_type": "stream",
          "name": "stderr",
          "text": [
            "INFO:hyperopt.tpe:TPE using 2/2 trials with best loss 0.278403\n"
          ]
        },
        {
          "output_type": "stream",
          "name": "stdout",
          "text": [
            "2022-11-22 13:23:49,079 - TPE using 2/2 trials with best loss 0.278403\n",
            " 30%|███       | 3/10 [00:02<00:05,  1.17trial/s, best loss: 0.2784030107295533]"
          ]
        },
        {
          "output_type": "stream",
          "name": "stderr",
          "text": [
            "INFO:hyperopt.tpe:build_posterior_wrapper took 0.008978 seconds\n"
          ]
        },
        {
          "output_type": "stream",
          "name": "stdout",
          "text": [
            "2022-11-22 13:23:49,526 - build_posterior_wrapper took 0.008978 seconds\n"
          ]
        },
        {
          "output_type": "stream",
          "name": "stderr",
          "text": [
            "INFO:hyperopt.tpe:TPE using 3/3 trials with best loss 0.278403\n"
          ]
        },
        {
          "output_type": "stream",
          "name": "stdout",
          "text": [
            "2022-11-22 13:23:49,537 - TPE using 3/3 trials with best loss 0.278403\n",
            " 40%|████      | 4/10 [00:03<00:04,  1.46trial/s, best loss: 0.2784030107295533]"
          ]
        },
        {
          "output_type": "stream",
          "name": "stderr",
          "text": [
            "INFO:hyperopt.tpe:build_posterior_wrapper took 0.008165 seconds\n"
          ]
        },
        {
          "output_type": "stream",
          "name": "stdout",
          "text": [
            "2022-11-22 13:23:49,947 - build_posterior_wrapper took 0.008165 seconds\n"
          ]
        },
        {
          "output_type": "stream",
          "name": "stderr",
          "text": [
            "INFO:hyperopt.tpe:TPE using 4/4 trials with best loss 0.278403\n"
          ]
        },
        {
          "output_type": "stream",
          "name": "stdout",
          "text": [
            "2022-11-22 13:23:49,958 - TPE using 4/4 trials with best loss 0.278403\n",
            " 50%|█████     | 5/10 [00:03<00:03,  1.40trial/s, best loss: 0.2784030107295533]"
          ]
        },
        {
          "output_type": "stream",
          "name": "stderr",
          "text": [
            "INFO:hyperopt.tpe:build_posterior_wrapper took 0.008249 seconds\n"
          ]
        },
        {
          "output_type": "stream",
          "name": "stdout",
          "text": [
            "2022-11-22 13:23:50,716 - build_posterior_wrapper took 0.008249 seconds\n"
          ]
        },
        {
          "output_type": "stream",
          "name": "stderr",
          "text": [
            "INFO:hyperopt.tpe:TPE using 5/5 trials with best loss 0.278403\n"
          ]
        },
        {
          "output_type": "stream",
          "name": "stdout",
          "text": [
            "2022-11-22 13:23:50,729 - TPE using 5/5 trials with best loss 0.278403\n",
            " 60%|██████    | 6/10 [00:04<00:02,  1.38trial/s, best loss: 0.2784030107295533]"
          ]
        },
        {
          "output_type": "stream",
          "name": "stderr",
          "text": [
            "INFO:hyperopt.tpe:build_posterior_wrapper took 0.016253 seconds\n"
          ]
        },
        {
          "output_type": "stream",
          "name": "stdout",
          "text": [
            "2022-11-22 13:23:51,472 - build_posterior_wrapper took 0.016253 seconds\n"
          ]
        },
        {
          "output_type": "stream",
          "name": "stderr",
          "text": [
            "INFO:hyperopt.tpe:TPE using 6/6 trials with best loss 0.278403\n"
          ]
        },
        {
          "output_type": "stream",
          "name": "stdout",
          "text": [
            "2022-11-22 13:23:51,486 - TPE using 6/6 trials with best loss 0.278403\n",
            " 70%|███████   | 7/10 [00:06<00:02,  1.07trial/s, best loss: 0.2784030107295533]"
          ]
        },
        {
          "output_type": "stream",
          "name": "stderr",
          "text": [
            "INFO:hyperopt.tpe:build_posterior_wrapper took 0.012229 seconds\n"
          ]
        },
        {
          "output_type": "stream",
          "name": "stdout",
          "text": [
            "2022-11-22 13:23:52,819 - build_posterior_wrapper took 0.012229 seconds\n"
          ]
        },
        {
          "output_type": "stream",
          "name": "stderr",
          "text": [
            "INFO:hyperopt.tpe:TPE using 7/7 trials with best loss 0.278403\n"
          ]
        },
        {
          "output_type": "stream",
          "name": "stdout",
          "text": [
            "2022-11-22 13:23:52,828 - TPE using 7/7 trials with best loss 0.278403\n",
            " 80%|████████  | 8/10 [00:06<00:01,  1.23trial/s, best loss: 0.2784030107295533]"
          ]
        },
        {
          "output_type": "stream",
          "name": "stderr",
          "text": [
            "INFO:hyperopt.tpe:build_posterior_wrapper took 0.007945 seconds\n"
          ]
        },
        {
          "output_type": "stream",
          "name": "stdout",
          "text": [
            "2022-11-22 13:23:53,382 - build_posterior_wrapper took 0.007945 seconds\n"
          ]
        },
        {
          "output_type": "stream",
          "name": "stderr",
          "text": [
            "INFO:hyperopt.tpe:TPE using 8/8 trials with best loss 0.278403\n"
          ]
        },
        {
          "output_type": "stream",
          "name": "stdout",
          "text": [
            "2022-11-22 13:23:53,396 - TPE using 8/8 trials with best loss 0.278403\n",
            " 90%|█████████ | 9/10 [00:07<00:00,  1.39trial/s, best loss: 0.2784030107295533]"
          ]
        },
        {
          "output_type": "stream",
          "name": "stderr",
          "text": [
            "INFO:hyperopt.tpe:build_posterior_wrapper took 0.008266 seconds\n"
          ]
        },
        {
          "output_type": "stream",
          "name": "stdout",
          "text": [
            "2022-11-22 13:23:53,885 - build_posterior_wrapper took 0.008266 seconds\n"
          ]
        },
        {
          "output_type": "stream",
          "name": "stderr",
          "text": [
            "INFO:hyperopt.tpe:TPE using 9/9 trials with best loss 0.278403\n"
          ]
        },
        {
          "output_type": "stream",
          "name": "stdout",
          "text": [
            "2022-11-22 13:23:53,893 - TPE using 9/9 trials with best loss 0.278403\n",
            "100%|██████████| 10/10 [00:08<00:00,  1.20trial/s, best loss: 0.2784030107295533]\n"
          ]
        },
        {
          "output_type": "stream",
          "name": "stderr",
          "text": [
            "INFO:root:PipelineTuner - Hyperparameters optimization finished\n"
          ]
        },
        {
          "output_type": "stream",
          "name": "stdout",
          "text": [
            "2022-11-22 13:23:55,987 - PipelineTuner - Hyperparameters optimization finished\n"
          ]
        },
        {
          "output_type": "stream",
          "name": "stderr",
          "text": [
            "INFO:root:PipelineTuner - Return tuned pipeline due to the fact that obtained metric 0.278 equal or better than initial (+ 5% deviation) 1.034\n"
          ]
        },
        {
          "output_type": "stream",
          "name": "stdout",
          "text": [
            "2022-11-22 13:23:55,994 - PipelineTuner - Return tuned pipeline due to the fact that obtained metric 0.278 equal or better than initial (+ 5% deviation) 1.034\n"
          ]
        },
        {
          "output_type": "stream",
          "name": "stderr",
          "text": [
            "INFO:root:PipelineTuner - Hyperparameters optimization start\n"
          ]
        },
        {
          "output_type": "stream",
          "name": "stdout",
          "text": [
            "2022-11-22 13:23:56,806 - PipelineTuner - Hyperparameters optimization start\n",
            "  0%|          | 0/10 [00:00<?, ?trial/s, best loss=?]"
          ]
        },
        {
          "output_type": "stream",
          "name": "stderr",
          "text": [
            "INFO:hyperopt.tpe:build_posterior_wrapper took 0.006805 seconds\n"
          ]
        },
        {
          "output_type": "stream",
          "name": "stdout",
          "text": [
            "2022-11-22 13:23:57,088 - build_posterior_wrapper took 0.006805 seconds\n"
          ]
        },
        {
          "output_type": "stream",
          "name": "stderr",
          "text": [
            "INFO:hyperopt.tpe:TPE using 0 trials\n"
          ]
        },
        {
          "output_type": "stream",
          "name": "stdout",
          "text": [
            "2022-11-22 13:23:57,094 - TPE using 0 trials\n",
            " 10%|█         | 1/10 [00:00<00:05,  1.56trial/s, best loss: 0.38834266058006783]"
          ]
        },
        {
          "output_type": "stream",
          "name": "stderr",
          "text": [
            "INFO:hyperopt.tpe:build_posterior_wrapper took 0.006603 seconds\n"
          ]
        },
        {
          "output_type": "stream",
          "name": "stdout",
          "text": [
            "2022-11-22 13:23:57,735 - build_posterior_wrapper took 0.006603 seconds\n"
          ]
        },
        {
          "output_type": "stream",
          "name": "stderr",
          "text": [
            "INFO:hyperopt.tpe:TPE using 1/1 trials with best loss 0.388343\n"
          ]
        },
        {
          "output_type": "stream",
          "name": "stdout",
          "text": [
            "2022-11-22 13:23:57,745 - TPE using 1/1 trials with best loss 0.388343\n",
            " 20%|██        | 2/10 [00:01<00:05,  1.47trial/s, best loss: 0.3452175749120099] "
          ]
        },
        {
          "output_type": "stream",
          "name": "stderr",
          "text": [
            "INFO:hyperopt.tpe:build_posterior_wrapper took 0.006828 seconds\n"
          ]
        },
        {
          "output_type": "stream",
          "name": "stdout",
          "text": [
            "2022-11-22 13:23:58,443 - build_posterior_wrapper took 0.006828 seconds\n"
          ]
        },
        {
          "output_type": "stream",
          "name": "stderr",
          "text": [
            "INFO:hyperopt.tpe:TPE using 2/2 trials with best loss 0.345218\n"
          ]
        },
        {
          "output_type": "stream",
          "name": "stdout",
          "text": [
            "2022-11-22 13:23:58,455 - TPE using 2/2 trials with best loss 0.345218\n",
            " 30%|███       | 3/10 [00:01<00:04,  1.50trial/s, best loss: 0.3452175749120099]"
          ]
        },
        {
          "output_type": "stream",
          "name": "stderr",
          "text": [
            "INFO:hyperopt.tpe:build_posterior_wrapper took 0.005944 seconds\n"
          ]
        },
        {
          "output_type": "stream",
          "name": "stdout",
          "text": [
            "2022-11-22 13:23:59,087 - build_posterior_wrapper took 0.005944 seconds\n"
          ]
        },
        {
          "output_type": "stream",
          "name": "stderr",
          "text": [
            "INFO:hyperopt.tpe:TPE using 3/3 trials with best loss 0.345218\n"
          ]
        },
        {
          "output_type": "stream",
          "name": "stdout",
          "text": [
            "2022-11-22 13:23:59,098 - TPE using 3/3 trials with best loss 0.345218\n",
            " 40%|████      | 4/10 [00:03<00:04,  1.24trial/s, best loss: 0.3452175749120099]"
          ]
        },
        {
          "output_type": "stream",
          "name": "stderr",
          "text": [
            "INFO:hyperopt.tpe:build_posterior_wrapper took 0.006472 seconds\n"
          ]
        },
        {
          "output_type": "stream",
          "name": "stdout",
          "text": [
            "2022-11-22 13:24:00,112 - build_posterior_wrapper took 0.006472 seconds\n"
          ]
        },
        {
          "output_type": "stream",
          "name": "stderr",
          "text": [
            "INFO:hyperopt.tpe:TPE using 4/4 trials with best loss 0.345218\n"
          ]
        },
        {
          "output_type": "stream",
          "name": "stdout",
          "text": [
            "2022-11-22 13:24:00,127 - TPE using 4/4 trials with best loss 0.345218\n",
            " 50%|█████     | 5/10 [00:03<00:03,  1.59trial/s, best loss: 0.14686275264002752]"
          ]
        },
        {
          "output_type": "stream",
          "name": "stderr",
          "text": [
            "INFO:hyperopt.tpe:build_posterior_wrapper took 0.011137 seconds\n"
          ]
        },
        {
          "output_type": "stream",
          "name": "stdout",
          "text": [
            "2022-11-22 13:24:00,432 - build_posterior_wrapper took 0.011137 seconds\n"
          ]
        },
        {
          "output_type": "stream",
          "name": "stderr",
          "text": [
            "INFO:hyperopt.tpe:TPE using 5/5 trials with best loss 0.146863\n"
          ]
        },
        {
          "output_type": "stream",
          "name": "stdout",
          "text": [
            "2022-11-22 13:24:00,444 - TPE using 5/5 trials with best loss 0.146863\n",
            " 60%|██████    | 6/10 [00:03<00:02,  1.75trial/s, best loss: 0.14686275264002752]"
          ]
        },
        {
          "output_type": "stream",
          "name": "stderr",
          "text": [
            "INFO:hyperopt.tpe:build_posterior_wrapper took 0.012263 seconds\n"
          ]
        },
        {
          "output_type": "stream",
          "name": "stdout",
          "text": [
            "2022-11-22 13:24:00,893 - build_posterior_wrapper took 0.012263 seconds\n"
          ]
        },
        {
          "output_type": "stream",
          "name": "stderr",
          "text": [
            "INFO:hyperopt.tpe:TPE using 6/6 trials with best loss 0.146863\n"
          ]
        },
        {
          "output_type": "stream",
          "name": "stdout",
          "text": [
            "2022-11-22 13:24:00,910 - TPE using 6/6 trials with best loss 0.146863\n",
            " 70%|███████   | 7/10 [00:04<00:02,  1.43trial/s, best loss: 0.14686275264002752]"
          ]
        },
        {
          "output_type": "stream",
          "name": "stderr",
          "text": [
            "INFO:hyperopt.tpe:build_posterior_wrapper took 0.015585 seconds\n"
          ]
        },
        {
          "output_type": "stream",
          "name": "stdout",
          "text": [
            "2022-11-22 13:24:01,851 - build_posterior_wrapper took 0.015585 seconds\n"
          ]
        },
        {
          "output_type": "stream",
          "name": "stderr",
          "text": [
            "INFO:hyperopt.tpe:TPE using 7/7 trials with best loss 0.146863\n"
          ]
        },
        {
          "output_type": "stream",
          "name": "stdout",
          "text": [
            "2022-11-22 13:24:01,857 - TPE using 7/7 trials with best loss 0.146863\n",
            " 80%|████████  | 8/10 [00:05<00:01,  1.18trial/s, best loss: 0.14686275264002752]"
          ]
        },
        {
          "output_type": "stream",
          "name": "stderr",
          "text": [
            "INFO:hyperopt.tpe:build_posterior_wrapper took 0.008816 seconds\n"
          ]
        },
        {
          "output_type": "stream",
          "name": "stdout",
          "text": [
            "2022-11-22 13:24:03,006 - build_posterior_wrapper took 0.008816 seconds\n"
          ]
        },
        {
          "output_type": "stream",
          "name": "stderr",
          "text": [
            "INFO:hyperopt.tpe:TPE using 8/8 trials with best loss 0.146863\n"
          ]
        },
        {
          "output_type": "stream",
          "name": "stdout",
          "text": [
            "2022-11-22 13:24:03,014 - TPE using 8/8 trials with best loss 0.146863\n",
            " 90%|█████████ | 9/10 [00:06<00:00,  1.36trial/s, best loss: 0.14686275264002752]"
          ]
        },
        {
          "output_type": "stream",
          "name": "stderr",
          "text": [
            "INFO:hyperopt.tpe:build_posterior_wrapper took 0.006121 seconds\n"
          ]
        },
        {
          "output_type": "stream",
          "name": "stdout",
          "text": [
            "2022-11-22 13:24:03,495 - build_posterior_wrapper took 0.006121 seconds\n"
          ]
        },
        {
          "output_type": "stream",
          "name": "stderr",
          "text": [
            "INFO:hyperopt.tpe:TPE using 9/9 trials with best loss 0.146863\n"
          ]
        },
        {
          "output_type": "stream",
          "name": "stdout",
          "text": [
            "2022-11-22 13:24:03,509 - TPE using 9/9 trials with best loss 0.146863\n",
            "100%|██████████| 10/10 [00:07<00:00,  1.43trial/s, best loss: 0.14686275264002752]\n"
          ]
        },
        {
          "output_type": "stream",
          "name": "stderr",
          "text": [
            "INFO:root:PipelineTuner - Hyperparameters optimization finished\n"
          ]
        },
        {
          "output_type": "stream",
          "name": "stdout",
          "text": [
            "2022-11-22 13:24:04,363 - PipelineTuner - Hyperparameters optimization finished\n"
          ]
        },
        {
          "output_type": "stream",
          "name": "stderr",
          "text": [
            "INFO:root:PipelineTuner - Return tuned pipeline due to the fact that obtained metric 0.147 equal or better than initial (+ 5% deviation) 0.221\n"
          ]
        },
        {
          "output_type": "stream",
          "name": "stdout",
          "text": [
            "2022-11-22 13:24:04,372 - PipelineTuner - Return tuned pipeline due to the fact that obtained metric 0.147 equal or better than initial (+ 5% deviation) 0.221\n"
          ]
        },
        {
          "output_type": "stream",
          "name": "stderr",
          "text": [
            "INFO:root:PipelineTuner - Hyperparameters optimization start\n"
          ]
        },
        {
          "output_type": "stream",
          "name": "stdout",
          "text": [
            "2022-11-22 13:24:04,660 - PipelineTuner - Hyperparameters optimization start\n",
            "  0%|          | 0/10 [00:00<?, ?trial/s, best loss=?]"
          ]
        },
        {
          "output_type": "stream",
          "name": "stderr",
          "text": [
            "INFO:hyperopt.tpe:build_posterior_wrapper took 0.005996 seconds\n"
          ]
        },
        {
          "output_type": "stream",
          "name": "stdout",
          "text": [
            "2022-11-22 13:24:04,954 - build_posterior_wrapper took 0.005996 seconds\n"
          ]
        },
        {
          "output_type": "stream",
          "name": "stderr",
          "text": [
            "INFO:hyperopt.tpe:TPE using 0 trials\n"
          ]
        },
        {
          "output_type": "stream",
          "name": "stdout",
          "text": [
            "2022-11-22 13:24:04,960 - TPE using 0 trials\n",
            " 10%|█         | 1/10 [00:01<00:10,  1.19s/trial, best loss: 0.32900781992945555]"
          ]
        },
        {
          "output_type": "stream",
          "name": "stderr",
          "text": [
            "INFO:hyperopt.tpe:build_posterior_wrapper took 0.013626 seconds\n"
          ]
        },
        {
          "output_type": "stream",
          "name": "stdout",
          "text": [
            "2022-11-22 13:24:06,160 - build_posterior_wrapper took 0.013626 seconds\n"
          ]
        },
        {
          "output_type": "stream",
          "name": "stderr",
          "text": [
            "INFO:hyperopt.tpe:TPE using 1/1 trials with best loss 0.329008\n"
          ]
        },
        {
          "output_type": "stream",
          "name": "stdout",
          "text": [
            "2022-11-22 13:24:06,168 - TPE using 1/1 trials with best loss 0.329008\n",
            " 20%|██        | 2/10 [00:02<00:10,  1.26s/trial, best loss: 0.32900781992945555]"
          ]
        },
        {
          "output_type": "stream",
          "name": "stderr",
          "text": [
            "INFO:hyperopt.tpe:build_posterior_wrapper took 0.016232 seconds\n"
          ]
        },
        {
          "output_type": "stream",
          "name": "stdout",
          "text": [
            "2022-11-22 13:24:07,462 - build_posterior_wrapper took 0.016232 seconds\n"
          ]
        },
        {
          "output_type": "stream",
          "name": "stderr",
          "text": [
            "INFO:hyperopt.tpe:TPE using 2/2 trials with best loss 0.329008\n"
          ]
        },
        {
          "output_type": "stream",
          "name": "stdout",
          "text": [
            "2022-11-22 13:24:07,470 - TPE using 2/2 trials with best loss 0.329008\n",
            " 30%|███       | 3/10 [00:04<00:10,  1.46s/trial, best loss: 0.32900781992945555]"
          ]
        },
        {
          "output_type": "stream",
          "name": "stderr",
          "text": [
            "INFO:hyperopt.tpe:build_posterior_wrapper took 0.011187 seconds\n"
          ]
        },
        {
          "output_type": "stream",
          "name": "stdout",
          "text": [
            "2022-11-22 13:24:09,157 - build_posterior_wrapper took 0.011187 seconds\n"
          ]
        },
        {
          "output_type": "stream",
          "name": "stderr",
          "text": [
            "INFO:hyperopt.tpe:TPE using 3/3 trials with best loss 0.329008\n"
          ]
        },
        {
          "output_type": "stream",
          "name": "stdout",
          "text": [
            "2022-11-22 13:24:09,165 - TPE using 3/3 trials with best loss 0.329008\n",
            " 40%|████      | 4/10 [00:05<00:07,  1.29s/trial, best loss: 0.32900781992945555]"
          ]
        },
        {
          "output_type": "stream",
          "name": "stderr",
          "text": [
            "INFO:hyperopt.tpe:build_posterior_wrapper took 0.006331 seconds\n"
          ]
        },
        {
          "output_type": "stream",
          "name": "stdout",
          "text": [
            "2022-11-22 13:24:10,197 - build_posterior_wrapper took 0.006331 seconds\n"
          ]
        },
        {
          "output_type": "stream",
          "name": "stderr",
          "text": [
            "INFO:hyperopt.tpe:TPE using 4/4 trials with best loss 0.329008\n"
          ]
        },
        {
          "output_type": "stream",
          "name": "stdout",
          "text": [
            "2022-11-22 13:24:10,211 - TPE using 4/4 trials with best loss 0.329008\n",
            " 50%|█████     | 5/10 [00:05<00:05,  1.07s/trial, best loss: 0.31511736721635053]"
          ]
        },
        {
          "output_type": "stream",
          "name": "stderr",
          "text": [
            "INFO:hyperopt.tpe:build_posterior_wrapper took 0.006031 seconds\n"
          ]
        },
        {
          "output_type": "stream",
          "name": "stdout",
          "text": [
            "2022-11-22 13:24:10,855 - build_posterior_wrapper took 0.006031 seconds\n"
          ]
        },
        {
          "output_type": "stream",
          "name": "stderr",
          "text": [
            "INFO:hyperopt.tpe:TPE using 5/5 trials with best loss 0.315117\n"
          ]
        },
        {
          "output_type": "stream",
          "name": "stdout",
          "text": [
            "2022-11-22 13:24:10,866 - TPE using 5/5 trials with best loss 0.315117\n",
            " 60%|██████    | 6/10 [00:06<00:03,  1.01trial/s, best loss: 0.31511736721635053]"
          ]
        },
        {
          "output_type": "stream",
          "name": "stderr",
          "text": [
            "INFO:hyperopt.tpe:build_posterior_wrapper took 0.006401 seconds\n"
          ]
        },
        {
          "output_type": "stream",
          "name": "stdout",
          "text": [
            "2022-11-22 13:24:11,693 - build_posterior_wrapper took 0.006401 seconds\n"
          ]
        },
        {
          "output_type": "stream",
          "name": "stderr",
          "text": [
            "INFO:hyperopt.tpe:TPE using 6/6 trials with best loss 0.315117\n"
          ]
        },
        {
          "output_type": "stream",
          "name": "stdout",
          "text": [
            "2022-11-22 13:24:11,705 - TPE using 6/6 trials with best loss 0.315117\n",
            " 70%|███████   | 7/10 [00:07<00:02,  1.17trial/s, best loss: 0.31511736721635053]"
          ]
        },
        {
          "output_type": "stream",
          "name": "stderr",
          "text": [
            "INFO:hyperopt.tpe:build_posterior_wrapper took 0.019731 seconds\n"
          ]
        },
        {
          "output_type": "stream",
          "name": "stdout",
          "text": [
            "2022-11-22 13:24:12,296 - build_posterior_wrapper took 0.019731 seconds\n"
          ]
        },
        {
          "output_type": "stream",
          "name": "stderr",
          "text": [
            "INFO:hyperopt.tpe:TPE using 7/7 trials with best loss 0.315117\n"
          ]
        },
        {
          "output_type": "stream",
          "name": "stdout",
          "text": [
            "2022-11-22 13:24:12,304 - TPE using 7/7 trials with best loss 0.315117\n",
            " 80%|████████  | 8/10 [00:08<00:01,  1.16trial/s, best loss: 0.31511736721635053]"
          ]
        },
        {
          "output_type": "stream",
          "name": "stderr",
          "text": [
            "INFO:hyperopt.tpe:build_posterior_wrapper took 0.007693 seconds\n"
          ]
        },
        {
          "output_type": "stream",
          "name": "stdout",
          "text": [
            "2022-11-22 13:24:13,144 - build_posterior_wrapper took 0.007693 seconds\n"
          ]
        },
        {
          "output_type": "stream",
          "name": "stderr",
          "text": [
            "INFO:hyperopt.tpe:TPE using 8/8 trials with best loss 0.315117\n"
          ]
        },
        {
          "output_type": "stream",
          "name": "stdout",
          "text": [
            "2022-11-22 13:24:13,151 - TPE using 8/8 trials with best loss 0.315117\n",
            " 90%|█████████ | 9/10 [00:08<00:00,  1.33trial/s, best loss: 0.31511736721635053]"
          ]
        },
        {
          "output_type": "stream",
          "name": "stderr",
          "text": [
            "INFO:hyperopt.tpe:build_posterior_wrapper took 0.007226 seconds\n"
          ]
        },
        {
          "output_type": "stream",
          "name": "stdout",
          "text": [
            "2022-11-22 13:24:13,661 - build_posterior_wrapper took 0.007226 seconds\n"
          ]
        },
        {
          "output_type": "stream",
          "name": "stderr",
          "text": [
            "INFO:hyperopt.tpe:TPE using 9/9 trials with best loss 0.315117\n"
          ]
        },
        {
          "output_type": "stream",
          "name": "stdout",
          "text": [
            "2022-11-22 13:24:13,668 - TPE using 9/9 trials with best loss 0.315117\n",
            "100%|██████████| 10/10 [00:10<00:00,  1.03s/trial, best loss: 0.31511736721635053]\n"
          ]
        },
        {
          "output_type": "stream",
          "name": "stderr",
          "text": [
            "INFO:root:PipelineTuner - Hyperparameters optimization finished\n"
          ]
        },
        {
          "output_type": "stream",
          "name": "stdout",
          "text": [
            "2022-11-22 13:24:15,868 - PipelineTuner - Hyperparameters optimization finished\n"
          ]
        },
        {
          "output_type": "stream",
          "name": "stderr",
          "text": [
            "INFO:root:PipelineTuner - Return tuned pipeline due to the fact that obtained metric 0.315 equal or better than initial (+ 5% deviation) 1.041\n"
          ]
        },
        {
          "output_type": "stream",
          "name": "stdout",
          "text": [
            "2022-11-22 13:24:15,872 - PipelineTuner - Return tuned pipeline due to the fact that obtained metric 0.315 equal or better than initial (+ 5% deviation) 1.041\n"
          ]
        }
      ]
    },
    {
      "cell_type": "code",
      "source": [
        "conf_int_plotting(up_predictions = x['up_predictions'],\n",
        "                  low_predictions = x['low_predictions'],\n",
        "                  regim='median',\n",
        "                  plot_history = True,\n",
        "                  plot_up_int = True,\n",
        "                  plot_low_int = True,\n",
        "                  plot_trend = True,\n",
        "                  plot_forecast = True,\n",
        "                  plot_upper_train = True,\n",
        "                  plot_lower_train = True,\n",
        "                  plot_ts_test = True)"
      ],
      "metadata": {
        "colab": {
          "base_uri": "https://localhost:8080/",
          "height": 839
        },
        "id": "mU3vaDLetRdZ",
        "outputId": "e00a198b-f416-4327-db08-d7a4c886eaf9"
      },
      "execution_count": 76,
      "outputs": [
        {
          "output_type": "display_data",
          "data": {
            "text/plain": [
              "<Figure size 1080x504 with 1 Axes>"
            ],
            "image/png": "[encoded data removed]"
          },
          "metadata": {
            "needs_background": "light"
          }
        },
        {
          "output_type": "display_data",
          "data": {
            "text/plain": [
              "<Figure size 1080x504 with 1 Axes>"
            ],
            "image/png": "[encoded data removed]"
          },
          "metadata": {
            "needs_background": "light"
          }
        }
      ]
    }
  ]
}