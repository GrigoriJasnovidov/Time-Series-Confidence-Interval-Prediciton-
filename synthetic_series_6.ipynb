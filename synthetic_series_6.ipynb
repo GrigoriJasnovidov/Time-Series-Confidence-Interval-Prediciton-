{
  "nbformat": 4,
  "nbformat_minor": 0,
  "metadata": {
    "colab": {
      "provenance": []
    },
    "kernelspec": {
      "name": "python3",
      "display_name": "Python 3"
    },
    "language_info": {
      "name": "python"
    },
    "gpuClass": "standard"
  },
  "cells": [
    {
      "cell_type": "code",
      "source": [
        "#!pip install fedot"
      ],
      "metadata": {
        "id": "TXneEk7apj1R"
      },
      "execution_count": 2,
      "outputs": []
    },
    {
      "cell_type": "code",
      "source": [
        "import os\n",
        "os.environ[\"MKL_NUM_THREADS\"] = \"4\"\n",
        "os.environ[\"NUMEXPR_NUM_THREADS\"] = \"4\"\n",
        "os.environ[\"OMP_NUM_THREADS\"] = \"4\"\n",
        "\n",
        "import torch\n",
        "torch.set_num_threads(4)"
      ],
      "metadata": {
        "id": "_DR1YZYryW_b"
      },
      "execution_count": 3,
      "outputs": []
    },
    {
      "cell_type": "code",
      "source": [
        "import matplotlib.pyplot as plt\n",
        "import numpy as np\n",
        "import pandas as pd\n",
        "import logging\n",
        "logging.raiseExceptions = False\n",
        "\n",
        "import fedot\n",
        "from fedot.api.main import Fedot\n",
        "from fedot.core.data.data import InputData\n",
        "from fedot.core.data.data_split import train_test_data_setup\n",
        "from fedot.core.repository.dataset_types import DataTypesEnum\n",
        "from fedot.core.repository.tasks import TsForecastingParams, Task, TaskTypesEnum\n",
        "import inspect"
      ],
      "metadata": {
        "id": "OO7SMqrTjSrB"
      },
      "execution_count": 4,
      "outputs": []
    },
    {
      "cell_type": "code",
      "source": [
        "from google.colab import files\n",
        "uploaded = files.upload()"
      ],
      "metadata": {
        "colab": {
          "base_uri": "https://localhost:8080/",
          "height": 38
        },
        "id": "BVTPK-TbzzU-",
        "outputId": "16ddc234-c880-49a4-89cf-fc0de39fe3e1"
      },
      "execution_count": null,
      "outputs": [
        {
          "output_type": "display_data",
          "data": {
            "text/plain": [
              "<IPython.core.display.HTML object>"
            ],
            "text/html": [
              "\n",
              "     <input type=\"file\" id=\"files-a6a488dd-9466-4d5a-83cb-c9c56e943704\" name=\"files[]\" multiple disabled\n",
              "        style=\"border:none\" />\n",
              "     <output id=\"result-a6a488dd-9466-4d5a-83cb-c9c56e943704\">\n",
              "      Upload widget is only available when the cell has been executed in the\n",
              "      current browser session. Please rerun this cell to enable.\n",
              "      </output>\n",
              "      <script>// Copyright 2017 Google LLC\n",
              "//\n",
              "// Licensed under the Apache License, Version 2.0 (the \"License\");\n",
              "// you may not use this file except in compliance with the License.\n",
              "// You may obtain a copy of the License at\n",
              "//\n",
              "//      http://www.apache.org/licenses/LICENSE-2.0\n",
              "//\n",
              "// Unless required by applicable law or agreed to in writing, software\n",
              "// distributed under the License is distributed on an \"AS IS\" BASIS,\n",
              "// WITHOUT WARRANTIES OR CONDITIONS OF ANY KIND, either express or implied.\n",
              "// See the License for the specific language governing permissions and\n",
              "// limitations under the License.\n",
              "\n",
              "/**\n",
              " * @fileoverview Helpers for google.colab Python module.\n",
              " */\n",
              "(function(scope) {\n",
              "function span(text, styleAttributes = {}) {\n",
              "  const element = document.createElement('span');\n",
              "  element.textContent = text;\n",
              "  for (const key of Object.keys(styleAttributes)) {\n",
              "    element.style[key] = styleAttributes[key];\n",
              "  }\n",
              "  return element;\n",
              "}\n",
              "\n",
              "// Max number of bytes which will be uploaded at a time.\n",
              "const MAX_PAYLOAD_SIZE = 100 * 1024;\n",
              "\n",
              "function _uploadFiles(inputId, outputId) {\n",
              "  const steps = uploadFilesStep(inputId, outputId);\n",
              "  const outputElement = document.getElementById(outputId);\n",
              "  // Cache steps on the outputElement to make it available for the next call\n",
              "  // to uploadFilesContinue from Python.\n",
              "  outputElement.steps = steps;\n",
              "\n",
              "  return _uploadFilesContinue(outputId);\n",
              "}\n",
              "\n",
              "// This is roughly an async generator (not supported in the browser yet),\n",
              "// where there are multiple asynchronous steps and the Python side is going\n",
              "// to poll for completion of each step.\n",
              "// This uses a Promise to block the python side on completion of each step,\n",
              "// then passes the result of the previous step as the input to the next step.\n",
              "function _uploadFilesContinue(outputId) {\n",
              "  const outputElement = document.getElementById(outputId);\n",
              "  const steps = outputElement.steps;\n",
              "\n",
              "  const next = steps.next(outputElement.lastPromiseValue);\n",
              "  return Promise.resolve(next.value.promise).then((value) => {\n",
              "    // Cache the last promise value to make it available to the next\n",
              "    // step of the generator.\n",
              "    outputElement.lastPromiseValue = value;\n",
              "    return next.value.response;\n",
              "  });\n",
              "}\n",
              "\n",
              "/**\n",
              " * Generator function which is called between each async step of the upload\n",
              " * process.\n",
              " * @param {string} inputId Element ID of the input file picker element.\n",
              " * @param {string} outputId Element ID of the output display.\n",
              " * @return {!Iterable<!Object>} Iterable of next steps.\n",
              " */\n",
              "function* uploadFilesStep(inputId, outputId) {\n",
              "  const inputElement = document.getElementById(inputId);\n",
              "  inputElement.disabled = false;\n",
              "\n",
              "  const outputElement = document.getElementById(outputId);\n",
              "  outputElement.innerHTML = '';\n",
              "\n",
              "  const pickedPromise = new Promise((resolve) => {\n",
              "    inputElement.addEventListener('change', (e) => {\n",
              "      resolve(e.target.files);\n",
              "    });\n",
              "  });\n",
              "\n",
              "  const cancel = document.createElement('button');\n",
              "  inputElement.parentElement.appendChild(cancel);\n",
              "  cancel.textContent = 'Cancel upload';\n",
              "  const cancelPromise = new Promise((resolve) => {\n",
              "    cancel.onclick = () => {\n",
              "      resolve(null);\n",
              "    };\n",
              "  });\n",
              "\n",
              "  // Wait for the user to pick the files.\n",
              "  const files = yield {\n",
              "    promise: Promise.race([pickedPromise, cancelPromise]),\n",
              "    response: {\n",
              "      action: 'starting',\n",
              "    }\n",
              "  };\n",
              "\n",
              "  cancel.remove();\n",
              "\n",
              "  // Disable the input element since further picks are not allowed.\n",
              "  inputElement.disabled = true;\n",
              "\n",
              "  if (!files) {\n",
              "    return {\n",
              "      response: {\n",
              "        action: 'complete',\n",
              "      }\n",
              "    };\n",
              "  }\n",
              "\n",
              "  for (const file of files) {\n",
              "    const li = document.createElement('li');\n",
              "    li.append(span(file.name, {fontWeight: 'bold'}));\n",
              "    li.append(span(\n",
              "        `(${file.type || 'n/a'}) - ${file.size} bytes, ` +\n",
              "        `last modified: ${\n",
              "            file.lastModifiedDate ? file.lastModifiedDate.toLocaleDateString() :\n",
              "                                    'n/a'} - `));\n",
              "    const percent = span('0% done');\n",
              "    li.appendChild(percent);\n",
              "\n",
              "    outputElement.appendChild(li);\n",
              "\n",
              "    const fileDataPromise = new Promise((resolve) => {\n",
              "      const reader = new FileReader();\n",
              "      reader.onload = (e) => {\n",
              "        resolve(e.target.result);\n",
              "      };\n",
              "      reader.readAsArrayBuffer(file);\n",
              "    });\n",
              "    // Wait for the data to be ready.\n",
              "    let fileData = yield {\n",
              "      promise: fileDataPromise,\n",
              "      response: {\n",
              "        action: 'continue',\n",
              "      }\n",
              "    };\n",
              "\n",
              "    // Use a chunked sending to avoid message size limits. See b/62115660.\n",
              "    let position = 0;\n",
              "    do {\n",
              "      const length = Math.min(fileData.byteLength - position, MAX_PAYLOAD_SIZE);\n",
              "      const chunk = new Uint8Array(fileData, position, length);\n",
              "      position += length;\n",
              "\n",
              "      const base64 = btoa(String.fromCharCode.apply(null, chunk));\n",
              "      yield {\n",
              "        response: {\n",
              "          action: 'append',\n",
              "          file: file.name,\n",
              "          data: base64,\n",
              "        },\n",
              "      };\n",
              "\n",
              "      let percentDone = fileData.byteLength === 0 ?\n",
              "          100 :\n",
              "          Math.round((position / fileData.byteLength) * 100);\n",
              "      percent.textContent = `${percentDone}% done`;\n",
              "\n",
              "    } while (position < fileData.byteLength);\n",
              "  }\n",
              "\n",
              "  // All done.\n",
              "  yield {\n",
              "    response: {\n",
              "      action: 'complete',\n",
              "    }\n",
              "  };\n",
              "}\n",
              "\n",
              "scope.google = scope.google || {};\n",
              "scope.google.colab = scope.google.colab || {};\n",
              "scope.google.colab._files = {\n",
              "  _uploadFiles,\n",
              "  _uploadFilesContinue,\n",
              "};\n",
              "})(self);\n",
              "</script> "
            ]
          },
          "metadata": {}
        }
      ]
    },
    {
      "cell_type": "code",
      "source": [
        "ts_tabular =pd.read_csv('ts study 1.txt')\n",
        "ts_real_temp = ts_tabular[ts_tabular['label']=='temp'].drop('label',axis=1)['value'].to_numpy()"
      ],
      "metadata": {
        "id": "Q-9beb5I0YmP"
      },
      "execution_count": null,
      "outputs": []
    },
    {
      "cell_type": "code",
      "source": [
        "def s1(n,noise = 3,sign=1):\n",
        "    def f1(x):\n",
        "        return 5*np.sin(x/20)+0.1*x-2*np.sqrt(x)\n",
        "    trend = f1(np.array(range(n)))\n",
        "    noise = np.random.normal(loc = 0, scale = noise,size = n)\n",
        "    ans = {'ts':(trend+noise)*sign, 'trend' : trend*sign}\n",
        "    return ans\n",
        "def s2(length, periods = 10,noise = 0.3,sign=1 ):\n",
        "\n",
        "    sinusoidal_data = np.linspace(-periods * np.pi, periods * np.pi, length)\n",
        "    sinusoidal_data = np.sin(sinusoidal_data)\n",
        "    cos_1_data = np.linspace(-periods * np.pi/2, periods/2 * np.pi/2, int(length/2))\n",
        "    cos_1_data = np.cos(cos_1_data) \n",
        "    cos_2_data = np.linspace(periods/2 * np.pi/2, periods * np.pi/2, int(length/2))\n",
        "    cos_2_data = np.cos(cos_2_data)   \n",
        "    cosine_data = np.hstack((cos_1_data, cos_2_data))\n",
        "    \n",
        "    random_noise = np.random.normal(loc=0.0, scale=noise, size=length)\n",
        "    synthetic_data = sinusoidal_data + cosine_data + random_noise\n",
        "    ans = {'ts':synthetic_data*sign, 'trend': (sinusoidal_data + cosine_data)*sign}\n",
        "    return ans\n",
        "def s3(n,noise = 10,sign = 1):\n",
        "    r = np.array(range(n))\n",
        "    trend = (r-r/5*np.sin(r/2)+r/2*np.sin(r/20))/10\n",
        "    noise = np.random.normal(loc=0,scale = noise,size = n)\n",
        "    ans = {'ts':(trend+noise)*sign, 'trend': trend*sign}\n",
        "    return ans\n",
        "def s4(n,noise = 1,sign =1):\n",
        "    array = np.array(range(n))\n",
        "    trend = array/5+np.power(array,0.5)*np.sin(np.pi/12*array)\n",
        "    noise = np.random.normal(loc = 0,scale = noise, size = n)\n",
        "    noise_cum = noise.cumsum()\n",
        "    ts = trend+noise_cum\n",
        "    ans = {'ts':ts*sign, 'trend' : trend*sign}\n",
        "    return ans\n",
        "\n",
        "def s5(n,noise = 1,sign=1):\n",
        "    r= np.arange(n)\n",
        "    trend = r*1\n",
        "    noise = np.random.normal(loc=0,scale = noise,size = n)\n",
        "    noise_cum = noise.cumsum()\n",
        "    ts = trend+noise_cum\n",
        "    ans = {'ts':ts*sign,'trend':trend*sign}\n",
        "    return ans\n",
        "\n",
        "def s6(n,noise = 1, sign =1):\n",
        "    r = np.arange(n)\n",
        "    trend = 2*np.sin(2*r)+np.cos(r)\n",
        "    noise = np.random.normal(loc = 0,scale  = noise,size = n)\n",
        "    ts = trend+noise\n",
        "    ans = {'ts':ts,'trend':trend}\n",
        "    return ans"
      ],
      "metadata": {
        "id": "nrd3-HXsjhue"
      },
      "execution_count": 5,
      "outputs": []
    },
    {
      "cell_type": "code",
      "source": [
        "horizon = 25\n",
        "validation_blocks = 2\n",
        "task = Task(TaskTypesEnum.ts_forecasting,  TsForecastingParams(forecast_length=horizon))\n",
        "start = 0\n",
        "end = 1000\n",
        "series = 6\n",
        "\n",
        "if series == 'traffic':\n",
        "    init_series = ts_real_temp\n",
        "    ts = init_series[start:end]\n",
        "    trend = None\n",
        "    ts_test = init_series[end:end+horizon]\n",
        "    trend_test = None\n",
        "    idx = np.array(range(len(np.array(ts))))\n",
        "\n",
        "if series ==1:\n",
        "    noise = 0.5\n",
        "    init_series = s1(10000,noise= noise,sign =1)\n",
        "    ts = init_series['ts'][start:end]\n",
        "    trend = init_series['trend'][start:end]\n",
        "    ts_test = init_series['ts'][end:end+horizon]\n",
        "    trend_test = init_series['trend'][end:end+horizon]\n",
        "    idx = np.array( range(len(np.array(ts))) )\n",
        "    train_input = InputData(idx=idx,\n",
        "                            features=ts,\n",
        "                            target=ts,\n",
        "                            task=task,\n",
        "                            data_type=DataTypesEnum.ts)\n",
        "\n",
        "    \n",
        "if series ==2:\n",
        "    noise = 0.5\n",
        "    init_series = s2(10000,noise= noise,sign =1)\n",
        "    ts = init_series['ts'][start:end]\n",
        "    trend = init_series['trend'][start:end]\n",
        "    ts_test = init_series['ts'][end:end+horizon]\n",
        "    trend_test = init_series['trend'][end:end+horizon]\n",
        "    idx = np.array( range(len(np.array(ts))) )\n",
        "    train_input = InputData(idx=idx,\n",
        "                            features=ts,\n",
        "                            target=ts,\n",
        "                            task=task,\n",
        "                            data_type=DataTypesEnum.ts)\n",
        "    \n",
        "if series ==3:\n",
        "    noise = 0.5\n",
        "    init_series = s3(10000,noise= noise,sign =1)\n",
        "    ts = init_series['ts'][start:end]\n",
        "    trend = init_series['trend'][start:end]\n",
        "    ts_test = init_series['ts'][end:end+horizon]\n",
        "    trend_test = init_series['trend'][end:end+horizon]\n",
        "    idx = np.array( range(len(np.array(ts))) )\n",
        "    train_input = InputData(idx=idx,\n",
        "                            features=ts,\n",
        "                            target=ts,\n",
        "                            task=task,\n",
        "                            data_type=DataTypesEnum.ts)\n",
        "    \n",
        "if series ==4:\n",
        "    noise = 0.5\n",
        "    init_series = s4(10000,noise= noise,sign =1)\n",
        "    ts = init_series['ts'][start:end]\n",
        "    trend = init_series['trend'][start:end]\n",
        "    ts_test = init_series['ts'][end:end+horizon]\n",
        "    trend_test = init_series['trend'][end:end+horizon]\n",
        "    idx = np.array( range(len(np.array(ts))) )\n",
        "    train_input = InputData(idx=idx,\n",
        "                            features=ts,\n",
        "                            target=ts,\n",
        "                            task=task,\n",
        "                            data_type=DataTypesEnum.ts)\n",
        "  \n",
        "if series ==5:\n",
        "    noise = 1\n",
        "    init_series = s5(10000,noise= noise,sign =1)\n",
        "    ts = init_series['ts'][start:end]\n",
        "    trend = init_series['trend'][start:end]\n",
        "    ts_test = init_series['ts'][end:end+horizon]\n",
        "    trend_test = init_series['trend'][end:end+horizon]\n",
        "    idx = np.array( range(len(np.array(ts))) )\n",
        "    train_input = InputData(idx=idx,\n",
        "                            features=ts,\n",
        "                            target=ts,\n",
        "                            task=task,\n",
        "                            data_type=DataTypesEnum.ts)\n",
        "    \n",
        "\n",
        "if series ==6:\n",
        "    noise = 0.5\n",
        "    init_series = s6(10000,noise= noise,sign =1)\n",
        "    ts = init_series['ts'][start:end]\n",
        "    trend = init_series['trend'][start:end]\n",
        "    ts_test = init_series['ts'][end:end+horizon]\n",
        "    trend_test = init_series['trend'][end:end+horizon]\n",
        "    idx = np.array( range(len(np.array(ts))) )\n",
        "    train_input = InputData(idx=idx,\n",
        "                            features=ts,\n",
        "                            target=ts,\n",
        "                            task=task,\n",
        "                            data_type=DataTypesEnum.ts)\n",
        "    \n",
        "\n",
        "train_data, test_data = train_test_data_setup(train_input, validation_blocks=2)\n",
        "\n",
        "# init model for the time series forecasting\n",
        "model = Fedot(problem='ts_forecasting',\n",
        "                  safe_mode = True,\n",
        "                  task_params=task.task_params,\n",
        "                  timeout=3,\n",
        "                  n_jobs=-1,\n",
        "                  cv_folds=2, \n",
        "                  validation_blocks=2, \n",
        "                  preset='stable',\n",
        "                  with_tuning = False,\n",
        "                  max_depth = 5,\n",
        "                  num_of_generations  =3 ,\n",
        "                  logging_level = 10,\n",
        "                 show_progress =True)"
      ],
      "metadata": {
        "id": "99HaD_Mzj2sc",
        "colab": {
          "base_uri": "https://localhost:8080/"
        },
        "outputId": "0975f896-de39-448e-e34d-b59456883050"
      },
      "execution_count": 6,
      "outputs": [
        {
          "output_type": "stream",
          "name": "stderr",
          "text": [
            "DEBUG:tensorflow:Falling back to TensorFlow client; we recommended you install the Cloud TPU client directly with pip install cloud-tpu-client.\n"
          ]
        },
        {
          "output_type": "stream",
          "name": "stdout",
          "text": [
            "2022-11-22 16:22:39,331 - Falling back to TensorFlow client; we recommended you install the Cloud TPU client directly with pip install cloud-tpu-client.\n"
          ]
        },
        {
          "output_type": "stream",
          "name": "stderr",
          "text": [
            "DEBUG:h5py._conv:Creating converter from 7 to 5\n"
          ]
        },
        {
          "output_type": "stream",
          "name": "stdout",
          "text": [
            "2022-11-22 16:22:39,674 - Creating converter from 7 to 5\n"
          ]
        },
        {
          "output_type": "stream",
          "name": "stderr",
          "text": [
            "DEBUG:h5py._conv:Creating converter from 5 to 7\n"
          ]
        },
        {
          "output_type": "stream",
          "name": "stdout",
          "text": [
            "2022-11-22 16:22:39,680 - Creating converter from 5 to 7\n"
          ]
        },
        {
          "output_type": "stream",
          "name": "stderr",
          "text": [
            "DEBUG:h5py._conv:Creating converter from 7 to 5\n"
          ]
        },
        {
          "output_type": "stream",
          "name": "stdout",
          "text": [
            "2022-11-22 16:22:39,684 - Creating converter from 7 to 5\n"
          ]
        },
        {
          "output_type": "stream",
          "name": "stderr",
          "text": [
            "DEBUG:h5py._conv:Creating converter from 5 to 7\n"
          ]
        },
        {
          "output_type": "stream",
          "name": "stdout",
          "text": [
            "2022-11-22 16:22:39,687 - Creating converter from 5 to 7\n"
          ]
        },
        {
          "output_type": "stream",
          "name": "stderr",
          "text": [
            "DEBUG:root:Initializing MLIR with module: _site_initialize_0\n"
          ]
        },
        {
          "output_type": "stream",
          "name": "stdout",
          "text": [
            "2022-11-22 16:22:39,999 - Initializing MLIR with module: _site_initialize_0\n"
          ]
        },
        {
          "output_type": "stream",
          "name": "stderr",
          "text": [
            "DEBUG:root:Registering dialects from initializer <module 'jaxlib.mlir._mlir_libs._site_initialize_0' from '/usr/local/lib/python3.7/dist-packages/jaxlib/mlir/_mlir_libs/_site_initialize_0.so'>\n"
          ]
        },
        {
          "output_type": "stream",
          "name": "stdout",
          "text": [
            "2022-11-22 16:22:40,006 - Registering dialects from initializer <module 'jaxlib.mlir._mlir_libs._site_initialize_0' from '/usr/local/lib/python3.7/dist-packages/jaxlib/mlir/_mlir_libs/_site_initialize_0.so'>\n"
          ]
        },
        {
          "output_type": "stream",
          "name": "stderr",
          "text": [
            "DEBUG:jax._src.path:etils.epath found. Using etils.epath for file I/O.\n"
          ]
        },
        {
          "output_type": "stream",
          "name": "stdout",
          "text": [
            "2022-11-22 16:22:40,117 - etils.epath found. Using etils.epath for file I/O.\n"
          ]
        },
        {
          "output_type": "stream",
          "name": "stderr",
          "text": [
            "INFO:summarizer.preprocessing.cleaner:'pattern' package not found; tag filters are not available for English\n"
          ]
        },
        {
          "output_type": "stream",
          "name": "stdout",
          "text": [
            "2022-11-22 16:22:41,223 - 'pattern' package not found; tag filters are not available for English\n"
          ]
        }
      ]
    },
    {
      "cell_type": "code",
      "source": [
        "inspect.getmembers(model)"
      ],
      "metadata": {
        "id": "9_7-EycnrusN",
        "colab": {
          "base_uri": "https://localhost:8080/"
        },
        "outputId": "8104185b-c5b1-4a51-890e-240920c4d8e3"
      },
      "execution_count": null,
      "outputs": [
        {
          "output_type": "execute_result",
          "data": {
            "text/plain": [
              "[('__class__', fedot.api.main.Fedot),\n",
              " ('__delattr__',\n",
              "  <method-wrapper '__delattr__' of Fedot object at 0x7f64b5cef150>),\n",
              " ('__dict__',\n",
              "  {'metrics': <fedot.api.api_utils.metrics.ApiMetrics at 0x7f64b5c14910>,\n",
              "   'api_composer': <fedot.api.api_utils.api_composer.ApiComposer at 0x7f64b5c14150>,\n",
              "   'params': <fedot.api.api_utils.params.ApiParams at 0x7f64b5c14f10>,\n",
              "   'data_processor': <fedot.api.api_utils.api_data.ApiDataProcessor at 0x7f64b8e25ad0>,\n",
              "   'data_analyser': <fedot.api.api_utils.api_data_analyser.DataAnalyser at 0x7f64b5d3df50>,\n",
              "   'target': None,\n",
              "   'prediction': None,\n",
              "   'train_data': None,\n",
              "   'test_data': None,\n",
              "   'current_pipeline': None,\n",
              "   'best_models': (),\n",
              "   'history': None}),\n",
              " ('__dir__', <function Fedot.__dir__()>),\n",
              " ('__doc__',\n",
              "  \"Main class for FEDOT API.\\n\\n    Facade for ApiDataProcessor, ApiComposer, ApiMetrics, ApiInitialAssumptions.\\n\\n    Args:\\n        problem: the name of modelling problem to solve\\n\\n            .. details:: possible ``problem`` options:\\n\\n                - ``classification`` -> for classification task\\n                - ``regression`` -> for regression task\\n                - ``ts_forecasting`` -> for time serires forecasting task\\n\\n        timeout: time for model design (in minutes): ``None`` or ``-1`` means infinite time\\n        task_params: additional parameters of the task\\n        seed: value for fixed random seed\\n        logging_level: logging levels are the same as in 'logging'\\n\\n            .. details:: possible ``logging_level`` options:\\n\\n                    - ``50`` -> critical\\n                    - ``40`` -> error\\n                    - ``30`` -> warning\\n                    - ``20`` -> info\\n                    - ``10`` -> debug\\n                    - ``0`` -> nonset\\n\\n        safe_mode: if set ``True`` it will cut large datasets to prevent memory overflow and use label encoder\\n            instead of oneHot encoder if summary cardinality of categorical features is high.\\n        n_jobs: num of ``n_jobs`` for parallelization (``-1`` for use all cpu's)\\n        max_depth: max depth of the pipeline\\n        max_arity: max arity of the pipeline nodes\\n        pop_size: population size for composer\\n        num_of_generations: number of generations for composer\\n        keep_n_best: Number of the best individuals of previous generation to keep in next generation.\\n        available_operations: list of model names to use\\n        early_stopping_generations: composer will stop after ``n`` generation without improving\\n        with_tuning: allow hyperparameters tuning for the model\\n        cv_folds: number of folds for cross-validation\\n        validation_blocks: number of validation blocks for time series forecasting\\n        max_pipeline_fit_time: time constraint for operation fitting (in minutes)\\n        initial_assumption: initial assumption for composer\\n        genetic_scheme: name of the genetic scheme\\n        history_folder: name of the folder for composing history\\n        metric:  metric for quality calculation during composing, also is used for tuning if with_tuning=True\\n        collect_intermediate_metric: save metrics for intermediate (non-root) nodes in pipeline\\n        preset: name of preset for model building (e.g. 'best_quality', 'fast_train', 'gpu'):\\n\\n            .. details:: possible ``preset`` options:\\n\\n                - ``best_quality`` -> All models that are available for this data type and task are used\\n                - ``fast_train`` -> Models that learn quickly. This includes preprocessing operations\\n                  (data operations) that only reduce the dimensionality of the data, but cannot increase it.\\n                  For example, there are no polynomial features and one-hot encoding operations\\n                - ``stable`` -> The most reliable preset in which the most stable operations are included.\\n                - ``auto`` -> Automatically determine which preset should be used.\\n                - ``gpu`` -> Models that use GPU resources for computation.\\n                - ``ts`` -> A special preset with models for time series forecasting task.\\n                - ``automl`` -> A special preset with only AutoML libraries such as TPOT and H2O as operations.\\n\\n        use_pipelines_cache: bool indicating whether to use pipeline structures caching, enabled by default.\\n        use_preprocessing_cache: bool indicating whether to use optional preprocessors caching, enabled by default.\\n        cache_folder: path to the place where cache files should be stored (if any cache is enabled).\\n        show_progress: bool indicating whether to show progress using tqdm/tuner or not\\n    \"),\n",
              " ('__eq__', <method-wrapper '__eq__' of Fedot object at 0x7f64b5cef150>),\n",
              " ('__format__', <function Fedot.__format__(format_spec, /)>),\n",
              " ('__ge__', <method-wrapper '__ge__' of Fedot object at 0x7f64b5cef150>),\n",
              " ('__getattribute__',\n",
              "  <method-wrapper '__getattribute__' of Fedot object at 0x7f64b5cef150>),\n",
              " ('__gt__', <method-wrapper '__gt__' of Fedot object at 0x7f64b5cef150>),\n",
              " ('__hash__', <method-wrapper '__hash__' of Fedot object at 0x7f64b5cef150>),\n",
              " ('__init__',\n",
              "  <bound method Fedot.__init__ of <fedot.api.main.Fedot object at 0x7f64b5cef150>>),\n",
              " ('__init_subclass__', <function Fedot.__init_subclass__>),\n",
              " ('__le__', <method-wrapper '__le__' of Fedot object at 0x7f64b5cef150>),\n",
              " ('__lt__', <method-wrapper '__lt__' of Fedot object at 0x7f64b5cef150>),\n",
              " ('__module__', 'fedot.api.main'),\n",
              " ('__ne__', <method-wrapper '__ne__' of Fedot object at 0x7f64b5cef150>),\n",
              " ('__new__', <function object.__new__(*args, **kwargs)>),\n",
              " ('__reduce__', <function Fedot.__reduce__()>),\n",
              " ('__reduce_ex__', <function Fedot.__reduce_ex__(protocol, /)>),\n",
              " ('__repr__', <method-wrapper '__repr__' of Fedot object at 0x7f64b5cef150>),\n",
              " ('__setattr__',\n",
              "  <method-wrapper '__setattr__' of Fedot object at 0x7f64b5cef150>),\n",
              " ('__sizeof__', <function Fedot.__sizeof__()>),\n",
              " ('__str__', <method-wrapper '__str__' of Fedot object at 0x7f64b5cef150>),\n",
              " ('__subclasshook__', <function Fedot.__subclasshook__>),\n",
              " ('__weakref__', None),\n",
              " ('_check_forecast_applicable',\n",
              "  <bound method Fedot._check_forecast_applicable of <fedot.api.main.Fedot object at 0x7f64b5cef150>>),\n",
              " ('_init_remote_if_necessary',\n",
              "  <bound method Fedot._init_remote_if_necessary of <fedot.api.main.Fedot object at 0x7f64b5cef150>>),\n",
              " ('_train_pipeline_on_full_dataset',\n",
              "  <bound method Fedot._train_pipeline_on_full_dataset of <fedot.api.main.Fedot object at 0x7f64b5cef150>>),\n",
              " ('api_composer',\n",
              "  <fedot.api.api_utils.api_composer.ApiComposer at 0x7f64b5c14150>),\n",
              " ('best_models', ()),\n",
              " ('current_pipeline', None),\n",
              " ('data_analyser',\n",
              "  <fedot.api.api_utils.api_data_analyser.DataAnalyser at 0x7f64b5d3df50>),\n",
              " ('data_processor',\n",
              "  <fedot.api.api_utils.api_data.ApiDataProcessor at 0x7f64b8e25ad0>),\n",
              " ('explain',\n",
              "  <bound method Fedot.explain of <fedot.api.main.Fedot object at 0x7f64b5cef150>>),\n",
              " ('export_as_project',\n",
              "  <bound method Fedot.export_as_project of <fedot.api.main.Fedot object at 0x7f64b5cef150>>),\n",
              " ('fit',\n",
              "  <bound method Fedot.fit of <fedot.api.main.Fedot object at 0x7f64b5cef150>>),\n",
              " ('forecast',\n",
              "  <bound method Fedot.forecast of <fedot.api.main.Fedot object at 0x7f64b5cef150>>),\n",
              " ('get_metrics',\n",
              "  <bound method Fedot.get_metrics of <fedot.api.main.Fedot object at 0x7f64b5cef150>>),\n",
              " ('history', None),\n",
              " ('import_as_project',\n",
              "  <bound method Fedot.import_as_project of <fedot.api.main.Fedot object at 0x7f64b5cef150>>),\n",
              " ('load',\n",
              "  <bound method Fedot.load of <fedot.api.main.Fedot object at 0x7f64b5cef150>>),\n",
              " ('metrics', <fedot.api.api_utils.metrics.ApiMetrics at 0x7f64b5c14910>),\n",
              " ('params', <fedot.api.api_utils.params.ApiParams at 0x7f64b5c14f10>),\n",
              " ('plot_pareto',\n",
              "  <bound method Fedot.plot_pareto of <fedot.api.main.Fedot object at 0x7f64b5cef150>>),\n",
              " ('plot_prediction',\n",
              "  <bound method Fedot.plot_prediction of <fedot.api.main.Fedot object at 0x7f64b5cef150>>),\n",
              " ('predict',\n",
              "  <bound method Fedot.predict of <fedot.api.main.Fedot object at 0x7f64b5cef150>>),\n",
              " ('predict_proba',\n",
              "  <bound method Fedot.predict_proba of <fedot.api.main.Fedot object at 0x7f64b5cef150>>),\n",
              " ('prediction', None),\n",
              " ('save_predict',\n",
              "  <bound method Fedot.save_predict of <fedot.api.main.Fedot object at 0x7f64b5cef150>>),\n",
              " ('target', None),\n",
              " ('test_data', None),\n",
              " ('train_data', None)]"
            ]
          },
          "metadata": {},
          "execution_count": 14
        }
      ]
    },
    {
      "cell_type": "code",
      "source": [
        "pipeline = model.fit(train_data)\n",
        "forecast = model.forecast(test_data)\n",
        "pipeline.show()"
      ],
      "metadata": {
        "colab": {
          "base_uri": "https://localhost:8080/",
          "height": 1000
        },
        "id": "PXM7Phihw1GU",
        "outputId": "994d2366-8995-4435-dca9-5ab55710af19"
      },
      "execution_count": 7,
      "outputs": [
        {
          "output_type": "stream",
          "name": "stderr",
          "text": [
            "INFO:root:AssumptionsHandler - Initial pipeline fitting started\n"
          ]
        },
        {
          "output_type": "stream",
          "name": "stdout",
          "text": [
            "2022-11-22 16:22:46,017 - AssumptionsHandler - Initial pipeline fitting started\n"
          ]
        },
        {
          "output_type": "stream",
          "name": "stderr",
          "text": [
            "DEBUG:root:SecondaryNode - Trying to fit secondary node with operation: ridge\n"
          ]
        },
        {
          "output_type": "stream",
          "name": "stdout",
          "text": [
            "2022-11-22 16:22:46,027 - SecondaryNode - Trying to fit secondary node with operation: ridge\n"
          ]
        },
        {
          "output_type": "stream",
          "name": "stderr",
          "text": [
            "DEBUG:root:SecondaryNode - Fit all parent nodes in secondary node with operation: ridge\n"
          ]
        },
        {
          "output_type": "stream",
          "name": "stdout",
          "text": [
            "2022-11-22 16:22:46,031 - SecondaryNode - Fit all parent nodes in secondary node with operation: ridge\n"
          ]
        },
        {
          "output_type": "stream",
          "name": "stderr",
          "text": [
            "DEBUG:root:SecondaryNode - Trying to fit secondary node with operation: ridge\n"
          ]
        },
        {
          "output_type": "stream",
          "name": "stdout",
          "text": [
            "2022-11-22 16:22:46,037 - SecondaryNode - Trying to fit secondary node with operation: ridge\n"
          ]
        },
        {
          "output_type": "stream",
          "name": "stderr",
          "text": [
            "DEBUG:root:SecondaryNode - Fit all parent nodes in secondary node with operation: ridge\n"
          ]
        },
        {
          "output_type": "stream",
          "name": "stdout",
          "text": [
            "2022-11-22 16:22:46,043 - SecondaryNode - Fit all parent nodes in secondary node with operation: ridge\n"
          ]
        },
        {
          "output_type": "stream",
          "name": "stderr",
          "text": [
            "DEBUG:root:PrimaryNode - Trying to fit primary node with operation: lagged\n"
          ]
        },
        {
          "output_type": "stream",
          "name": "stdout",
          "text": [
            "2022-11-22 16:22:46,052 - PrimaryNode - Trying to fit primary node with operation: lagged\n"
          ]
        },
        {
          "output_type": "stream",
          "name": "stderr",
          "text": [
            "DEBUG:root:PrimaryNode - Trying to fit primary node with operation: glm\n"
          ]
        },
        {
          "output_type": "stream",
          "name": "stdout",
          "text": [
            "2022-11-22 16:22:46,173 - PrimaryNode - Trying to fit primary node with operation: glm\n"
          ]
        },
        {
          "output_type": "stream",
          "name": "stderr",
          "text": [
            "DEBUG:root:SecondaryNode - Obtain prediction in secondary node with operation: ridge\n"
          ]
        },
        {
          "output_type": "stream",
          "name": "stdout",
          "text": [
            "2022-11-22 16:22:46,306 - SecondaryNode - Obtain prediction in secondary node with operation: ridge\n"
          ]
        },
        {
          "output_type": "stream",
          "name": "stderr",
          "text": [
            "DEBUG:root:SecondaryNode - Fit all parent nodes in secondary node with operation: ridge\n"
          ]
        },
        {
          "output_type": "stream",
          "name": "stdout",
          "text": [
            "2022-11-22 16:22:46,315 - SecondaryNode - Fit all parent nodes in secondary node with operation: ridge\n"
          ]
        },
        {
          "output_type": "stream",
          "name": "stderr",
          "text": [
            "DEBUG:root:SecondaryNode - Obtain prediction in secondary node with operation: ridge\n"
          ]
        },
        {
          "output_type": "stream",
          "name": "stdout",
          "text": [
            "2022-11-22 16:22:46,322 - SecondaryNode - Obtain prediction in secondary node with operation: ridge\n"
          ]
        },
        {
          "output_type": "stream",
          "name": "stderr",
          "text": [
            "DEBUG:root:SecondaryNode - Fit all parent nodes in secondary node with operation: ridge\n"
          ]
        },
        {
          "output_type": "stream",
          "name": "stdout",
          "text": [
            "2022-11-22 16:22:46,326 - SecondaryNode - Fit all parent nodes in secondary node with operation: ridge\n"
          ]
        },
        {
          "output_type": "stream",
          "name": "stderr",
          "text": [
            "DEBUG:root:PrimaryNode - Predict in primary node by operation: lagged\n"
          ]
        },
        {
          "output_type": "stream",
          "name": "stdout",
          "text": [
            "2022-11-22 16:22:46,332 - PrimaryNode - Predict in primary node by operation: lagged\n"
          ]
        },
        {
          "output_type": "stream",
          "name": "stderr",
          "text": [
            "DEBUG:root:PrimaryNode - Predict in primary node by operation: glm\n"
          ]
        },
        {
          "output_type": "stream",
          "name": "stdout",
          "text": [
            "2022-11-22 16:22:46,339 - PrimaryNode - Predict in primary node by operation: glm\n"
          ]
        },
        {
          "output_type": "stream",
          "name": "stderr",
          "text": [
            "INFO:root:AssumptionsHandler - Initial pipeline was fitted successfully\n"
          ]
        },
        {
          "output_type": "stream",
          "name": "stdout",
          "text": [
            "2022-11-22 16:22:46,348 - AssumptionsHandler - Initial pipeline was fitted successfully\n"
          ]
        },
        {
          "output_type": "stream",
          "name": "stderr",
          "text": [
            "CRITICAL:root:ApiComposer - Initial pipeline was fitted in 0.3 sec.\n"
          ]
        },
        {
          "output_type": "stream",
          "name": "stdout",
          "text": [
            "2022-11-22 16:22:46,353 - ApiComposer - Initial pipeline was fitted in 0.3 sec.\n"
          ]
        },
        {
          "output_type": "stream",
          "name": "stderr",
          "text": [
            "CRITICAL:root:ApiComposer - AutoML configured. Parameters tuning: False Time limit: 3 min Set of candidate models: ['lagged', 'glm', 'rfr', 'locf', 'isolation_forest_reg', 'adareg', 'ransac_lin_reg', 'sgdr', 'gaussian_filter', 'gbr', 'dtreg', 'normalization', 'ets', 'lgbmreg', 'linear', 'scaling', 'pca', 'ransac_non_lin_reg', 'treg', 'ridge', 'diff_filter', 'polyfit', 'lasso', 'smoothing', 'ar', 'clstm', 'cut', 'sparse_lagged', 'fast_ica', 'ts_naive_average', 'poly_features']\n"
          ]
        },
        {
          "output_type": "stream",
          "name": "stdout",
          "text": [
            "2022-11-22 16:22:46,383 - ApiComposer - AutoML configured. Parameters tuning: False Time limit: 3 min Set of candidate models: ['lagged', 'glm', 'rfr', 'locf', 'isolation_forest_reg', 'adareg', 'ransac_lin_reg', 'sgdr', 'gaussian_filter', 'gbr', 'dtreg', 'normalization', 'ets', 'lgbmreg', 'linear', 'scaling', 'pca', 'ransac_non_lin_reg', 'treg', 'ridge', 'diff_filter', 'polyfit', 'lasso', 'smoothing', 'ar', 'clstm', 'cut', 'sparse_lagged', 'fast_ica', 'ts_naive_average', 'poly_features']\n"
          ]
        },
        {
          "output_type": "stream",
          "name": "stderr",
          "text": [
            "CRITICAL:root:ApiComposer - Pipeline composition started.\n"
          ]
        },
        {
          "output_type": "stream",
          "name": "stdout",
          "text": [
            "2022-11-22 16:22:46,402 - ApiComposer - Pipeline composition started.\n"
          ]
        },
        {
          "output_type": "stream",
          "name": "stderr",
          "text": [
            "INFO:root:DataSourceSplitter - K-folds cross validation is applied.\n"
          ]
        },
        {
          "output_type": "stream",
          "name": "stdout",
          "text": [
            "2022-11-22 16:22:46,409 - DataSourceSplitter - K-folds cross validation is applied.\n"
          ]
        },
        {
          "output_type": "stream",
          "name": "stderr",
          "text": [
            "\rGenerations:  33%|███▎      | 1/3 [00:00<?, ?gen/s]INFO:root:MultiprocessingDispatcher - Number of used CPU's: 2\n"
          ]
        },
        {
          "output_type": "stream",
          "name": "stdout",
          "text": [
            "2022-11-22 16:22:46,421 - MultiprocessingDispatcher - Number of used CPU's: 2\n"
          ]
        },
        {
          "output_type": "stream",
          "name": "stderr",
          "text": [
            "INFO:root:EvoGraphOptimizer - Generation num: 1\n"
          ]
        },
        {
          "output_type": "stream",
          "name": "stdout",
          "text": [
            "2022-11-22 16:22:53,924 - EvoGraphOptimizer - Generation num: 1\n"
          ]
        },
        {
          "output_type": "stream",
          "name": "stderr",
          "text": [
            "INFO:root:EvoGraphOptimizer - Best individuals: HallOfFame archive fitness: [{<bound method QualityMetric.get_value of <class 'fedot.core.composer.metrics.RMSE'>>: 0.5833390867213327, <ComplexityMetricsEnum.node_num: 'node_number'>: 0.4}]\n"
          ]
        },
        {
          "output_type": "stream",
          "name": "stdout",
          "text": [
            "2022-11-22 16:22:53,942 - EvoGraphOptimizer - Best individuals: HallOfFame archive fitness: [{<bound method QualityMetric.get_value of <class 'fedot.core.composer.metrics.RMSE'>>: 0.5833390867213327, <ComplexityMetricsEnum.node_num: 'node_number'>: 0.4}]\n"
          ]
        },
        {
          "output_type": "stream",
          "name": "stderr",
          "text": [
            "INFO:root:EvoGraphOptimizer - no improvements for 0 iterations\n"
          ]
        },
        {
          "output_type": "stream",
          "name": "stdout",
          "text": [
            "2022-11-22 16:22:53,949 - EvoGraphOptimizer - no improvements for 0 iterations\n"
          ]
        },
        {
          "output_type": "stream",
          "name": "stderr",
          "text": [
            "INFO:root:EvoGraphOptimizer - spent time: 0.1 min\n"
          ]
        },
        {
          "output_type": "stream",
          "name": "stdout",
          "text": [
            "2022-11-22 16:22:53,961 - EvoGraphOptimizer - spent time: 0.1 min\n"
          ]
        },
        {
          "output_type": "stream",
          "name": "stderr",
          "text": [
            "INFO:root:MultiprocessingDispatcher - Number of used CPU's: 2\n"
          ]
        },
        {
          "output_type": "stream",
          "name": "stdout",
          "text": [
            "2022-11-22 16:22:55,113 - MultiprocessingDispatcher - Number of used CPU's: 2\n"
          ]
        },
        {
          "output_type": "stream",
          "name": "stderr",
          "text": [
            "INFO:root:EvoGraphOptimizer - Generation num: 2\n"
          ]
        },
        {
          "output_type": "stream",
          "name": "stdout",
          "text": [
            "2022-11-22 16:23:44,062 - EvoGraphOptimizer - Generation num: 2\n"
          ]
        },
        {
          "output_type": "stream",
          "name": "stderr",
          "text": [
            "INFO:root:EvoGraphOptimizer - Best individuals: HallOfFame archive fitness: [{<bound method QualityMetric.get_value of <class 'fedot.core.composer.metrics.RMSE'>>: 0.48533900639977523, <ComplexityMetricsEnum.node_num: 'node_number'>: 0.4}]\n"
          ]
        },
        {
          "output_type": "stream",
          "name": "stdout",
          "text": [
            "2022-11-22 16:23:44,067 - EvoGraphOptimizer - Best individuals: HallOfFame archive fitness: [{<bound method QualityMetric.get_value of <class 'fedot.core.composer.metrics.RMSE'>>: 0.48533900639977523, <ComplexityMetricsEnum.node_num: 'node_number'>: 0.4}]\n"
          ]
        },
        {
          "output_type": "stream",
          "name": "stderr",
          "text": [
            "INFO:root:EvoGraphOptimizer - no improvements for 0 iterations\n"
          ]
        },
        {
          "output_type": "stream",
          "name": "stdout",
          "text": [
            "2022-11-22 16:23:44,070 - EvoGraphOptimizer - no improvements for 0 iterations\n"
          ]
        },
        {
          "output_type": "stream",
          "name": "stderr",
          "text": [
            "INFO:root:EvoGraphOptimizer - spent time: 1.0 min\n"
          ]
        },
        {
          "output_type": "stream",
          "name": "stdout",
          "text": [
            "2022-11-22 16:23:44,073 - EvoGraphOptimizer - spent time: 1.0 min\n"
          ]
        },
        {
          "output_type": "stream",
          "name": "stderr",
          "text": [
            "INFO:root:EvoGraphOptimizer - Next population size: 34; max graph depth: 5\n"
          ]
        },
        {
          "output_type": "stream",
          "name": "stdout",
          "text": [
            "2022-11-22 16:23:44,077 - EvoGraphOptimizer - Next population size: 34; max graph depth: 5\n"
          ]
        },
        {
          "output_type": "stream",
          "name": "stderr",
          "text": [
            "INFO:root:MultiprocessingDispatcher - Number of used CPU's: 2\n"
          ]
        },
        {
          "output_type": "stream",
          "name": "stdout",
          "text": [
            "2022-11-22 16:23:44,872 - MultiprocessingDispatcher - Number of used CPU's: 2\n"
          ]
        },
        {
          "output_type": "stream",
          "name": "stderr",
          "text": [
            "INFO:root:EvoGraphOptimizer - Generation num: 3\n"
          ]
        },
        {
          "output_type": "stream",
          "name": "stdout",
          "text": [
            "2022-11-22 16:25:38,726 - EvoGraphOptimizer - Generation num: 3\n"
          ]
        },
        {
          "output_type": "stream",
          "name": "stderr",
          "text": [
            "INFO:root:EvoGraphOptimizer - Best individuals: HallOfFame archive fitness: [{<bound method QualityMetric.get_value of <class 'fedot.core.composer.metrics.RMSE'>>: 0.4792829415986337, <ComplexityMetricsEnum.node_num: 'node_number'>: 0.4}]\n"
          ]
        },
        {
          "output_type": "stream",
          "name": "stdout",
          "text": [
            "2022-11-22 16:25:38,733 - EvoGraphOptimizer - Best individuals: HallOfFame archive fitness: [{<bound method QualityMetric.get_value of <class 'fedot.core.composer.metrics.RMSE'>>: 0.4792829415986337, <ComplexityMetricsEnum.node_num: 'node_number'>: 0.4}]\n"
          ]
        },
        {
          "output_type": "stream",
          "name": "stderr",
          "text": [
            "INFO:root:EvoGraphOptimizer - no improvements for 0 iterations\n"
          ]
        },
        {
          "output_type": "stream",
          "name": "stdout",
          "text": [
            "2022-11-22 16:25:38,738 - EvoGraphOptimizer - no improvements for 0 iterations\n"
          ]
        },
        {
          "output_type": "stream",
          "name": "stderr",
          "text": [
            "INFO:root:EvoGraphOptimizer - spent time: 2.9 min\n"
          ]
        },
        {
          "output_type": "stream",
          "name": "stdout",
          "text": [
            "2022-11-22 16:25:38,741 - EvoGraphOptimizer - spent time: 2.9 min\n"
          ]
        },
        {
          "output_type": "stream",
          "name": "stderr",
          "text": [
            "CRITICAL:root:GroupedCondition - Optimisation stopped: Time limit is reached\n"
          ]
        },
        {
          "output_type": "stream",
          "name": "stdout",
          "text": [
            "2022-11-22 16:25:38,744 - GroupedCondition - Optimisation stopped: Time limit is reached\n"
          ]
        },
        {
          "output_type": "stream",
          "name": "stderr",
          "text": [
            "\rGenerations:  33%|███▎      | 1/3 [02:52<?, ?gen/s]\n",
            "INFO:root:OptimisationTimer - Composition time: 2.872 min\n"
          ]
        },
        {
          "output_type": "stream",
          "name": "stdout",
          "text": [
            "2022-11-22 16:25:38,749 - OptimisationTimer - Composition time: 2.872 min\n"
          ]
        },
        {
          "output_type": "stream",
          "name": "stderr",
          "text": [
            "INFO:root:OptimisationTimer - Algorithm was terminated due to processing time limit\n"
          ]
        },
        {
          "output_type": "stream",
          "name": "stdout",
          "text": [
            "2022-11-22 16:25:38,752 - OptimisationTimer - Algorithm was terminated due to processing time limit\n"
          ]
        },
        {
          "output_type": "stream",
          "name": "stderr",
          "text": [
            "INFO:root:GPComposer - GP composition finished\n"
          ]
        },
        {
          "output_type": "stream",
          "name": "stdout",
          "text": [
            "2022-11-22 16:25:38,758 - GPComposer - GP composition finished\n"
          ]
        },
        {
          "output_type": "stream",
          "name": "stderr",
          "text": [
            "CRITICAL:root:ApiComposer - Model generation finished\n"
          ]
        },
        {
          "output_type": "stream",
          "name": "stdout",
          "text": [
            "2022-11-22 16:25:39,028 - ApiComposer - Model generation finished\n"
          ]
        },
        {
          "output_type": "stream",
          "name": "stderr",
          "text": [
            "CRITICAL:root:FEDOT logger - Final pipeline was fitted\n"
          ]
        },
        {
          "output_type": "stream",
          "name": "stdout",
          "text": [
            "2022-11-22 16:25:53,672 - FEDOT logger - Final pipeline was fitted\n"
          ]
        },
        {
          "output_type": "stream",
          "name": "stderr",
          "text": [
            "CRITICAL:root:FEDOT logger - Final pipeline: {'depth': 3, 'length': 4, 'nodes': [lgbmreg, glm, rfr, lagged]}\n"
          ]
        },
        {
          "output_type": "stream",
          "name": "stdout",
          "text": [
            "2022-11-22 16:25:53,681 - FEDOT logger - Final pipeline: {'depth': 3, 'length': 4, 'nodes': [lgbmreg, glm, rfr, lagged]}\n"
          ]
        },
        {
          "output_type": "stream",
          "name": "stderr",
          "text": [
            "DEBUG:root:SecondaryNode - Obtain prediction in secondary node with operation: lgbmreg\n"
          ]
        },
        {
          "output_type": "stream",
          "name": "stdout",
          "text": [
            "2022-11-22 16:25:53,687 - SecondaryNode - Obtain prediction in secondary node with operation: lgbmreg\n"
          ]
        },
        {
          "output_type": "stream",
          "name": "stderr",
          "text": [
            "DEBUG:root:SecondaryNode - Fit all parent nodes in secondary node with operation: lgbmreg\n"
          ]
        },
        {
          "output_type": "stream",
          "name": "stdout",
          "text": [
            "2022-11-22 16:25:53,690 - SecondaryNode - Fit all parent nodes in secondary node with operation: lgbmreg\n"
          ]
        },
        {
          "output_type": "stream",
          "name": "stderr",
          "text": [
            "DEBUG:root:SecondaryNode - Obtain prediction in secondary node with operation: rfr\n"
          ]
        },
        {
          "output_type": "stream",
          "name": "stdout",
          "text": [
            "2022-11-22 16:25:53,693 - SecondaryNode - Obtain prediction in secondary node with operation: rfr\n"
          ]
        },
        {
          "output_type": "stream",
          "name": "stderr",
          "text": [
            "DEBUG:root:SecondaryNode - Fit all parent nodes in secondary node with operation: rfr\n"
          ]
        },
        {
          "output_type": "stream",
          "name": "stdout",
          "text": [
            "2022-11-22 16:25:53,696 - SecondaryNode - Fit all parent nodes in secondary node with operation: rfr\n"
          ]
        },
        {
          "output_type": "stream",
          "name": "stderr",
          "text": [
            "DEBUG:root:PrimaryNode - Predict in primary node by operation: lagged\n"
          ]
        },
        {
          "output_type": "stream",
          "name": "stdout",
          "text": [
            "2022-11-22 16:25:53,699 - PrimaryNode - Predict in primary node by operation: lagged\n"
          ]
        },
        {
          "output_type": "stream",
          "name": "stderr",
          "text": [
            "DEBUG:root:PrimaryNode - Predict in primary node by operation: glm\n"
          ]
        },
        {
          "output_type": "stream",
          "name": "stdout",
          "text": [
            "2022-11-22 16:25:53,735 - PrimaryNode - Predict in primary node by operation: glm\n"
          ]
        },
        {
          "output_type": "stream",
          "name": "stderr",
          "text": [
            "WARNING:root:OperationTypesRepository - Operation lagged not found in the repository\n"
          ]
        },
        {
          "output_type": "stream",
          "name": "stdout",
          "text": [
            "2022-11-22 16:25:53,771 - OperationTypesRepository - Operation lagged not found in the repository\n"
          ]
        },
        {
          "output_type": "stream",
          "name": "stderr",
          "text": [
            "DEBUG:matplotlib.font_manager:findfont: Matching sans\\-serif:style=normal:variant=normal:weight=normal:stretch=normal:size=13.0.\n"
          ]
        },
        {
          "output_type": "stream",
          "name": "stdout",
          "text": [
            "2022-11-22 16:25:53,880 - findfont: Matching sans\\-serif:style=normal:variant=normal:weight=normal:stretch=normal:size=13.0.\n"
          ]
        },
        {
          "output_type": "stream",
          "name": "stderr",
          "text": [
            "DEBUG:matplotlib.font_manager:findfont: score(<Font 'STIXGeneral' (STIXGeneralBolIta.ttf) italic normal 700 normal>) = 11.335\n"
          ]
        },
        {
          "output_type": "stream",
          "name": "stdout",
          "text": [
            "2022-11-22 16:25:53,894 - findfont: score(<Font 'STIXGeneral' (STIXGeneralBolIta.ttf) italic normal 700 normal>) = 11.335\n"
          ]
        },
        {
          "output_type": "stream",
          "name": "stderr",
          "text": [
            "DEBUG:matplotlib.font_manager:findfont: score(<Font 'DejaVu Sans Mono' (DejaVuSansMono-Bold.ttf) normal normal 700 normal>) = 10.335\n"
          ]
        },
        {
          "output_type": "stream",
          "name": "stdout",
          "text": [
            "2022-11-22 16:25:53,897 - findfont: score(<Font 'DejaVu Sans Mono' (DejaVuSansMono-Bold.ttf) normal normal 700 normal>) = 10.335\n"
          ]
        },
        {
          "output_type": "stream",
          "name": "stderr",
          "text": [
            "DEBUG:matplotlib.font_manager:findfont: score(<Font 'DejaVu Sans' (DejaVuSans-Oblique.ttf) oblique normal 400 normal>) = 1.05\n"
          ]
        },
        {
          "output_type": "stream",
          "name": "stdout",
          "text": [
            "2022-11-22 16:25:53,904 - findfont: score(<Font 'DejaVu Sans' (DejaVuSans-Oblique.ttf) oblique normal 400 normal>) = 1.05\n"
          ]
        },
        {
          "output_type": "stream",
          "name": "stderr",
          "text": [
            "DEBUG:matplotlib.font_manager:findfont: score(<Font 'STIXNonUnicode' (STIXNonUniBolIta.ttf) italic normal 700 normal>) = 11.335\n"
          ]
        },
        {
          "output_type": "stream",
          "name": "stdout",
          "text": [
            "2022-11-22 16:25:53,909 - findfont: score(<Font 'STIXNonUnicode' (STIXNonUniBolIta.ttf) italic normal 700 normal>) = 11.335\n"
          ]
        },
        {
          "output_type": "stream",
          "name": "stderr",
          "text": [
            "DEBUG:matplotlib.font_manager:findfont: score(<Font 'cmex10' (cmex10.ttf) normal normal 400 normal>) = 10.05\n"
          ]
        },
        {
          "output_type": "stream",
          "name": "stdout",
          "text": [
            "2022-11-22 16:25:53,915 - findfont: score(<Font 'cmex10' (cmex10.ttf) normal normal 400 normal>) = 10.05\n"
          ]
        },
        {
          "output_type": "stream",
          "name": "stderr",
          "text": [
            "DEBUG:matplotlib.font_manager:findfont: score(<Font 'STIXSizeThreeSym' (STIXSizThreeSymBol.ttf) normal normal 700 normal>) = 10.335\n"
          ]
        },
        {
          "output_type": "stream",
          "name": "stdout",
          "text": [
            "2022-11-22 16:25:53,921 - findfont: score(<Font 'STIXSizeThreeSym' (STIXSizThreeSymBol.ttf) normal normal 700 normal>) = 10.335\n"
          ]
        },
        {
          "output_type": "stream",
          "name": "stderr",
          "text": [
            "DEBUG:matplotlib.font_manager:findfont: score(<Font 'cmsy10' (cmsy10.ttf) normal normal 400 normal>) = 10.05\n"
          ]
        },
        {
          "output_type": "stream",
          "name": "stdout",
          "text": [
            "2022-11-22 16:25:53,929 - findfont: score(<Font 'cmsy10' (cmsy10.ttf) normal normal 400 normal>) = 10.05\n"
          ]
        },
        {
          "output_type": "stream",
          "name": "stderr",
          "text": [
            "DEBUG:matplotlib.font_manager:findfont: score(<Font 'STIXSizeTwoSym' (STIXSizTwoSymReg.ttf) normal normal regular normal>) = 10.05\n"
          ]
        },
        {
          "output_type": "stream",
          "name": "stdout",
          "text": [
            "2022-11-22 16:25:53,936 - findfont: score(<Font 'STIXSizeTwoSym' (STIXSizTwoSymReg.ttf) normal normal regular normal>) = 10.05\n"
          ]
        },
        {
          "output_type": "stream",
          "name": "stderr",
          "text": [
            "DEBUG:matplotlib.font_manager:findfont: score(<Font 'DejaVu Sans' (DejaVuSans-Bold.ttf) normal normal 700 normal>) = 0.33499999999999996\n"
          ]
        },
        {
          "output_type": "stream",
          "name": "stdout",
          "text": [
            "2022-11-22 16:25:53,940 - findfont: score(<Font 'DejaVu Sans' (DejaVuSans-Bold.ttf) normal normal 700 normal>) = 0.33499999999999996\n"
          ]
        },
        {
          "output_type": "stream",
          "name": "stderr",
          "text": [
            "DEBUG:matplotlib.font_manager:findfont: score(<Font 'DejaVu Sans Mono' (DejaVuSansMono.ttf) normal normal 400 normal>) = 10.05\n"
          ]
        },
        {
          "output_type": "stream",
          "name": "stdout",
          "text": [
            "2022-11-22 16:25:53,944 - findfont: score(<Font 'DejaVu Sans Mono' (DejaVuSansMono.ttf) normal normal 400 normal>) = 10.05\n"
          ]
        },
        {
          "output_type": "stream",
          "name": "stderr",
          "text": [
            "DEBUG:matplotlib.font_manager:findfont: score(<Font 'cmss10' (cmss10.ttf) normal normal 400 normal>) = 10.05\n"
          ]
        },
        {
          "output_type": "stream",
          "name": "stdout",
          "text": [
            "2022-11-22 16:25:53,951 - findfont: score(<Font 'cmss10' (cmss10.ttf) normal normal 400 normal>) = 10.05\n"
          ]
        },
        {
          "output_type": "stream",
          "name": "stderr",
          "text": [
            "DEBUG:matplotlib.font_manager:findfont: score(<Font 'DejaVu Serif' (DejaVuSerif-Bold.ttf) normal normal 700 normal>) = 10.335\n"
          ]
        },
        {
          "output_type": "stream",
          "name": "stdout",
          "text": [
            "2022-11-22 16:25:53,957 - findfont: score(<Font 'DejaVu Serif' (DejaVuSerif-Bold.ttf) normal normal 700 normal>) = 10.335\n"
          ]
        },
        {
          "output_type": "stream",
          "name": "stderr",
          "text": [
            "DEBUG:matplotlib.font_manager:findfont: score(<Font 'STIXGeneral' (STIXGeneralItalic.ttf) italic normal 400 normal>) = 11.05\n"
          ]
        },
        {
          "output_type": "stream",
          "name": "stdout",
          "text": [
            "2022-11-22 16:25:53,960 - findfont: score(<Font 'STIXGeneral' (STIXGeneralItalic.ttf) italic normal 400 normal>) = 11.05\n"
          ]
        },
        {
          "output_type": "stream",
          "name": "stderr",
          "text": [
            "DEBUG:matplotlib.font_manager:findfont: score(<Font 'DejaVu Sans Display' (DejaVuSansDisplay.ttf) normal normal 400 normal>) = 10.05\n"
          ]
        },
        {
          "output_type": "stream",
          "name": "stdout",
          "text": [
            "2022-11-22 16:25:53,966 - findfont: score(<Font 'DejaVu Sans Display' (DejaVuSansDisplay.ttf) normal normal 400 normal>) = 10.05\n"
          ]
        },
        {
          "output_type": "stream",
          "name": "stderr",
          "text": [
            "DEBUG:matplotlib.font_manager:findfont: score(<Font 'STIXNonUnicode' (STIXNonUni.ttf) normal normal regular normal>) = 10.05\n"
          ]
        },
        {
          "output_type": "stream",
          "name": "stdout",
          "text": [
            "2022-11-22 16:25:53,971 - findfont: score(<Font 'STIXNonUnicode' (STIXNonUni.ttf) normal normal regular normal>) = 10.05\n"
          ]
        },
        {
          "output_type": "stream",
          "name": "stderr",
          "text": [
            "DEBUG:matplotlib.font_manager:findfont: score(<Font 'STIXGeneral' (STIXGeneral.ttf) normal normal regular normal>) = 10.05\n"
          ]
        },
        {
          "output_type": "stream",
          "name": "stdout",
          "text": [
            "2022-11-22 16:25:53,975 - findfont: score(<Font 'STIXGeneral' (STIXGeneral.ttf) normal normal regular normal>) = 10.05\n"
          ]
        },
        {
          "output_type": "stream",
          "name": "stderr",
          "text": [
            "DEBUG:matplotlib.font_manager:findfont: score(<Font 'cmmi10' (cmmi10.ttf) normal normal 400 normal>) = 10.05\n"
          ]
        },
        {
          "output_type": "stream",
          "name": "stdout",
          "text": [
            "2022-11-22 16:25:53,980 - findfont: score(<Font 'cmmi10' (cmmi10.ttf) normal normal 400 normal>) = 10.05\n"
          ]
        },
        {
          "output_type": "stream",
          "name": "stderr",
          "text": [
            "DEBUG:matplotlib.font_manager:findfont: score(<Font 'DejaVu Serif' (DejaVuSerif-BoldItalic.ttf) italic normal 700 normal>) = 11.335\n"
          ]
        },
        {
          "output_type": "stream",
          "name": "stdout",
          "text": [
            "2022-11-22 16:25:53,986 - findfont: score(<Font 'DejaVu Serif' (DejaVuSerif-BoldItalic.ttf) italic normal 700 normal>) = 11.335\n"
          ]
        },
        {
          "output_type": "stream",
          "name": "stderr",
          "text": [
            "DEBUG:matplotlib.font_manager:findfont: score(<Font 'STIXSizeFourSym' (STIXSizFourSymReg.ttf) normal normal regular normal>) = 10.05\n"
          ]
        },
        {
          "output_type": "stream",
          "name": "stdout",
          "text": [
            "2022-11-22 16:25:53,991 - findfont: score(<Font 'STIXSizeFourSym' (STIXSizFourSymReg.ttf) normal normal regular normal>) = 10.05\n"
          ]
        },
        {
          "output_type": "stream",
          "name": "stderr",
          "text": [
            "DEBUG:matplotlib.font_manager:findfont: score(<Font 'DejaVu Serif' (DejaVuSerif-Italic.ttf) italic normal 400 normal>) = 11.05\n"
          ]
        },
        {
          "output_type": "stream",
          "name": "stdout",
          "text": [
            "2022-11-22 16:25:53,994 - findfont: score(<Font 'DejaVu Serif' (DejaVuSerif-Italic.ttf) italic normal 400 normal>) = 11.05\n"
          ]
        },
        {
          "output_type": "stream",
          "name": "stderr",
          "text": [
            "DEBUG:matplotlib.font_manager:findfont: score(<Font 'DejaVu Sans Mono' (DejaVuSansMono-BoldOblique.ttf) oblique normal 700 normal>) = 11.335\n"
          ]
        },
        {
          "output_type": "stream",
          "name": "stdout",
          "text": [
            "2022-11-22 16:25:54,004 - findfont: score(<Font 'DejaVu Sans Mono' (DejaVuSansMono-BoldOblique.ttf) oblique normal 700 normal>) = 11.335\n"
          ]
        },
        {
          "output_type": "stream",
          "name": "stderr",
          "text": [
            "DEBUG:matplotlib.font_manager:findfont: score(<Font 'cmtt10' (cmtt10.ttf) normal normal 400 normal>) = 10.05\n"
          ]
        },
        {
          "output_type": "stream",
          "name": "stdout",
          "text": [
            "2022-11-22 16:25:54,009 - findfont: score(<Font 'cmtt10' (cmtt10.ttf) normal normal 400 normal>) = 10.05\n"
          ]
        },
        {
          "output_type": "stream",
          "name": "stderr",
          "text": [
            "DEBUG:matplotlib.font_manager:findfont: score(<Font 'STIXSizeFourSym' (STIXSizFourSymBol.ttf) normal normal 700 normal>) = 10.335\n"
          ]
        },
        {
          "output_type": "stream",
          "name": "stdout",
          "text": [
            "2022-11-22 16:25:54,013 - findfont: score(<Font 'STIXSizeFourSym' (STIXSizFourSymBol.ttf) normal normal 700 normal>) = 10.335\n"
          ]
        },
        {
          "output_type": "stream",
          "name": "stderr",
          "text": [
            "DEBUG:matplotlib.font_manager:findfont: score(<Font 'STIXSizeOneSym' (STIXSizOneSymReg.ttf) normal normal regular normal>) = 10.05\n"
          ]
        },
        {
          "output_type": "stream",
          "name": "stdout",
          "text": [
            "2022-11-22 16:25:54,019 - findfont: score(<Font 'STIXSizeOneSym' (STIXSizOneSymReg.ttf) normal normal regular normal>) = 10.05\n"
          ]
        },
        {
          "output_type": "stream",
          "name": "stderr",
          "text": [
            "DEBUG:matplotlib.font_manager:findfont: score(<Font 'DejaVu Serif Display' (DejaVuSerifDisplay.ttf) normal normal 400 normal>) = 10.05\n"
          ]
        },
        {
          "output_type": "stream",
          "name": "stdout",
          "text": [
            "2022-11-22 16:25:54,022 - findfont: score(<Font 'DejaVu Serif Display' (DejaVuSerifDisplay.ttf) normal normal 400 normal>) = 10.05\n"
          ]
        },
        {
          "output_type": "stream",
          "name": "stderr",
          "text": [
            "DEBUG:matplotlib.font_manager:findfont: score(<Font 'STIXGeneral' (STIXGeneralBol.ttf) normal normal 700 normal>) = 10.335\n"
          ]
        },
        {
          "output_type": "stream",
          "name": "stdout",
          "text": [
            "2022-11-22 16:25:54,025 - findfont: score(<Font 'STIXGeneral' (STIXGeneralBol.ttf) normal normal 700 normal>) = 10.335\n"
          ]
        },
        {
          "output_type": "stream",
          "name": "stderr",
          "text": [
            "DEBUG:matplotlib.font_manager:findfont: score(<Font 'STIXSizeFiveSym' (STIXSizFiveSymReg.ttf) normal normal regular normal>) = 10.05\n"
          ]
        },
        {
          "output_type": "stream",
          "name": "stdout",
          "text": [
            "2022-11-22 16:25:54,029 - findfont: score(<Font 'STIXSizeFiveSym' (STIXSizFiveSymReg.ttf) normal normal regular normal>) = 10.05\n"
          ]
        },
        {
          "output_type": "stream",
          "name": "stderr",
          "text": [
            "DEBUG:matplotlib.font_manager:findfont: score(<Font 'STIXSizeOneSym' (STIXSizOneSymBol.ttf) normal normal 700 normal>) = 10.335\n"
          ]
        },
        {
          "output_type": "stream",
          "name": "stdout",
          "text": [
            "2022-11-22 16:25:54,032 - findfont: score(<Font 'STIXSizeOneSym' (STIXSizOneSymBol.ttf) normal normal 700 normal>) = 10.335\n"
          ]
        },
        {
          "output_type": "stream",
          "name": "stderr",
          "text": [
            "DEBUG:matplotlib.font_manager:findfont: score(<Font 'DejaVu Serif' (DejaVuSerif.ttf) normal normal 400 normal>) = 10.05\n"
          ]
        },
        {
          "output_type": "stream",
          "name": "stdout",
          "text": [
            "2022-11-22 16:25:54,036 - findfont: score(<Font 'DejaVu Serif' (DejaVuSerif.ttf) normal normal 400 normal>) = 10.05\n"
          ]
        },
        {
          "output_type": "stream",
          "name": "stderr",
          "text": [
            "DEBUG:matplotlib.font_manager:findfont: score(<Font 'STIXSizeTwoSym' (STIXSizTwoSymBol.ttf) normal normal 700 normal>) = 10.335\n"
          ]
        },
        {
          "output_type": "stream",
          "name": "stdout",
          "text": [
            "2022-11-22 16:25:54,039 - findfont: score(<Font 'STIXSizeTwoSym' (STIXSizTwoSymBol.ttf) normal normal 700 normal>) = 10.335\n"
          ]
        },
        {
          "output_type": "stream",
          "name": "stderr",
          "text": [
            "DEBUG:matplotlib.font_manager:findfont: score(<Font 'STIXSizeThreeSym' (STIXSizThreeSymReg.ttf) normal normal regular normal>) = 10.05\n"
          ]
        },
        {
          "output_type": "stream",
          "name": "stdout",
          "text": [
            "2022-11-22 16:25:54,042 - findfont: score(<Font 'STIXSizeThreeSym' (STIXSizThreeSymReg.ttf) normal normal regular normal>) = 10.05\n"
          ]
        },
        {
          "output_type": "stream",
          "name": "stderr",
          "text": [
            "DEBUG:matplotlib.font_manager:findfont: score(<Font 'STIXNonUnicode' (STIXNonUniIta.ttf) italic normal 400 normal>) = 11.05\n"
          ]
        },
        {
          "output_type": "stream",
          "name": "stdout",
          "text": [
            "2022-11-22 16:25:54,045 - findfont: score(<Font 'STIXNonUnicode' (STIXNonUniIta.ttf) italic normal 400 normal>) = 11.05\n"
          ]
        },
        {
          "output_type": "stream",
          "name": "stderr",
          "text": [
            "DEBUG:matplotlib.font_manager:findfont: score(<Font 'DejaVu Sans Mono' (DejaVuSansMono-Oblique.ttf) oblique normal 400 normal>) = 11.05\n"
          ]
        },
        {
          "output_type": "stream",
          "name": "stdout",
          "text": [
            "2022-11-22 16:25:54,048 - findfont: score(<Font 'DejaVu Sans Mono' (DejaVuSansMono-Oblique.ttf) oblique normal 400 normal>) = 11.05\n"
          ]
        },
        {
          "output_type": "stream",
          "name": "stderr",
          "text": [
            "DEBUG:matplotlib.font_manager:findfont: score(<Font 'cmb10' (cmb10.ttf) normal normal 400 normal>) = 10.05\n"
          ]
        },
        {
          "output_type": "stream",
          "name": "stdout",
          "text": [
            "2022-11-22 16:25:54,056 - findfont: score(<Font 'cmb10' (cmb10.ttf) normal normal 400 normal>) = 10.05\n"
          ]
        },
        {
          "output_type": "stream",
          "name": "stderr",
          "text": [
            "DEBUG:matplotlib.font_manager:findfont: score(<Font 'DejaVu Sans' (DejaVuSans.ttf) normal normal 400 normal>) = 0.05\n"
          ]
        },
        {
          "output_type": "stream",
          "name": "stdout",
          "text": [
            "2022-11-22 16:25:54,059 - findfont: score(<Font 'DejaVu Sans' (DejaVuSans.ttf) normal normal 400 normal>) = 0.05\n"
          ]
        },
        {
          "output_type": "stream",
          "name": "stderr",
          "text": [
            "DEBUG:matplotlib.font_manager:findfont: score(<Font 'DejaVu Sans' (DejaVuSans-BoldOblique.ttf) oblique normal 700 normal>) = 1.335\n"
          ]
        },
        {
          "output_type": "stream",
          "name": "stdout",
          "text": [
            "2022-11-22 16:25:54,061 - findfont: score(<Font 'DejaVu Sans' (DejaVuSans-BoldOblique.ttf) oblique normal 700 normal>) = 1.335\n"
          ]
        },
        {
          "output_type": "stream",
          "name": "stderr",
          "text": [
            "DEBUG:matplotlib.font_manager:findfont: score(<Font 'cmr10' (cmr10.ttf) normal normal 400 normal>) = 10.05\n"
          ]
        },
        {
          "output_type": "stream",
          "name": "stdout",
          "text": [
            "2022-11-22 16:25:54,064 - findfont: score(<Font 'cmr10' (cmr10.ttf) normal normal 400 normal>) = 10.05\n"
          ]
        },
        {
          "output_type": "stream",
          "name": "stderr",
          "text": [
            "DEBUG:matplotlib.font_manager:findfont: score(<Font 'STIXNonUnicode' (STIXNonUniBol.ttf) normal normal 700 normal>) = 10.335\n"
          ]
        },
        {
          "output_type": "stream",
          "name": "stdout",
          "text": [
            "2022-11-22 16:25:54,067 - findfont: score(<Font 'STIXNonUnicode' (STIXNonUniBol.ttf) normal normal 700 normal>) = 10.335\n"
          ]
        },
        {
          "output_type": "stream",
          "name": "stderr",
          "text": [
            "DEBUG:matplotlib.font_manager:findfont: score(<Font 'Liberation Serif' (LiberationSerif-BoldItalic.ttf) italic normal 700 normal>) = 11.335\n"
          ]
        },
        {
          "output_type": "stream",
          "name": "stdout",
          "text": [
            "2022-11-22 16:25:54,069 - findfont: score(<Font 'Liberation Serif' (LiberationSerif-BoldItalic.ttf) italic normal 700 normal>) = 11.335\n"
          ]
        },
        {
          "output_type": "stream",
          "name": "stderr",
          "text": [
            "DEBUG:matplotlib.font_manager:findfont: score(<Font 'Liberation Mono' (LiberationMono-Bold.ttf) normal normal 700 normal>) = 10.335\n"
          ]
        },
        {
          "output_type": "stream",
          "name": "stdout",
          "text": [
            "2022-11-22 16:25:54,072 - findfont: score(<Font 'Liberation Mono' (LiberationMono-Bold.ttf) normal normal 700 normal>) = 10.335\n"
          ]
        },
        {
          "output_type": "stream",
          "name": "stderr",
          "text": [
            "DEBUG:matplotlib.font_manager:findfont: score(<Font 'Liberation Sans' (LiberationSans-Italic.ttf) italic normal 400 normal>) = 11.05\n"
          ]
        },
        {
          "output_type": "stream",
          "name": "stdout",
          "text": [
            "2022-11-22 16:25:54,075 - findfont: score(<Font 'Liberation Sans' (LiberationSans-Italic.ttf) italic normal 400 normal>) = 11.05\n"
          ]
        },
        {
          "output_type": "stream",
          "name": "stderr",
          "text": [
            "DEBUG:matplotlib.font_manager:findfont: score(<Font 'Liberation Sans' (LiberationSans-BoldItalic.ttf) italic normal 700 normal>) = 11.335\n"
          ]
        },
        {
          "output_type": "stream",
          "name": "stdout",
          "text": [
            "2022-11-22 16:25:54,078 - findfont: score(<Font 'Liberation Sans' (LiberationSans-BoldItalic.ttf) italic normal 700 normal>) = 11.335\n"
          ]
        },
        {
          "output_type": "stream",
          "name": "stderr",
          "text": [
            "DEBUG:matplotlib.font_manager:findfont: score(<Font 'Liberation Serif' (LiberationSerif-Regular.ttf) normal normal 400 normal>) = 10.05\n"
          ]
        },
        {
          "output_type": "stream",
          "name": "stdout",
          "text": [
            "2022-11-22 16:25:54,080 - findfont: score(<Font 'Liberation Serif' (LiberationSerif-Regular.ttf) normal normal 400 normal>) = 10.05\n"
          ]
        },
        {
          "output_type": "stream",
          "name": "stderr",
          "text": [
            "DEBUG:matplotlib.font_manager:findfont: score(<Font 'Liberation Serif' (LiberationSerif-Italic.ttf) italic normal 400 normal>) = 11.05\n"
          ]
        },
        {
          "output_type": "stream",
          "name": "stdout",
          "text": [
            "2022-11-22 16:25:54,083 - findfont: score(<Font 'Liberation Serif' (LiberationSerif-Italic.ttf) italic normal 400 normal>) = 11.05\n"
          ]
        },
        {
          "output_type": "stream",
          "name": "stderr",
          "text": [
            "DEBUG:matplotlib.font_manager:findfont: score(<Font 'Liberation Sans' (LiberationSans-Bold.ttf) normal normal 700 normal>) = 10.335\n"
          ]
        },
        {
          "output_type": "stream",
          "name": "stdout",
          "text": [
            "2022-11-22 16:25:54,086 - findfont: score(<Font 'Liberation Sans' (LiberationSans-Bold.ttf) normal normal 700 normal>) = 10.335\n"
          ]
        },
        {
          "output_type": "stream",
          "name": "stderr",
          "text": [
            "DEBUG:matplotlib.font_manager:findfont: score(<Font 'Liberation Sans' (LiberationSans-Regular.ttf) normal normal 400 normal>) = 10.05\n"
          ]
        },
        {
          "output_type": "stream",
          "name": "stdout",
          "text": [
            "2022-11-22 16:25:54,092 - findfont: score(<Font 'Liberation Sans' (LiberationSans-Regular.ttf) normal normal 400 normal>) = 10.05\n"
          ]
        },
        {
          "output_type": "stream",
          "name": "stderr",
          "text": [
            "DEBUG:matplotlib.font_manager:findfont: score(<Font 'Liberation Sans Narrow' (LiberationSansNarrow-BoldItalic.ttf) italic normal 700 condensed>) = 11.535\n"
          ]
        },
        {
          "output_type": "stream",
          "name": "stdout",
          "text": [
            "2022-11-22 16:25:54,096 - findfont: score(<Font 'Liberation Sans Narrow' (LiberationSansNarrow-BoldItalic.ttf) italic normal 700 condensed>) = 11.535\n"
          ]
        },
        {
          "output_type": "stream",
          "name": "stderr",
          "text": [
            "DEBUG:matplotlib.font_manager:findfont: score(<Font 'Liberation Mono' (LiberationMono-Regular.ttf) normal normal 400 normal>) = 10.05\n"
          ]
        },
        {
          "output_type": "stream",
          "name": "stdout",
          "text": [
            "2022-11-22 16:25:54,123 - findfont: score(<Font 'Liberation Mono' (LiberationMono-Regular.ttf) normal normal 400 normal>) = 10.05\n"
          ]
        },
        {
          "output_type": "stream",
          "name": "stderr",
          "text": [
            "DEBUG:matplotlib.font_manager:findfont: score(<Font 'Liberation Mono' (LiberationMono-Italic.ttf) italic normal 400 normal>) = 11.05\n"
          ]
        },
        {
          "output_type": "stream",
          "name": "stdout",
          "text": [
            "2022-11-22 16:25:54,164 - findfont: score(<Font 'Liberation Mono' (LiberationMono-Italic.ttf) italic normal 400 normal>) = 11.05\n"
          ]
        },
        {
          "output_type": "stream",
          "name": "stderr",
          "text": [
            "DEBUG:matplotlib.font_manager:findfont: score(<Font 'Liberation Serif' (LiberationSerif-Bold.ttf) normal normal 700 normal>) = 10.335\n"
          ]
        },
        {
          "output_type": "stream",
          "name": "stdout",
          "text": [
            "2022-11-22 16:25:54,203 - findfont: score(<Font 'Liberation Serif' (LiberationSerif-Bold.ttf) normal normal 700 normal>) = 10.335\n"
          ]
        },
        {
          "output_type": "stream",
          "name": "stderr",
          "text": [
            "DEBUG:matplotlib.font_manager:findfont: score(<Font 'Humor Sans' (Humor-Sans.ttf) normal normal 400 normal>) = 10.05\n"
          ]
        },
        {
          "output_type": "stream",
          "name": "stdout",
          "text": [
            "2022-11-22 16:25:54,206 - findfont: score(<Font 'Humor Sans' (Humor-Sans.ttf) normal normal 400 normal>) = 10.05\n"
          ]
        },
        {
          "output_type": "stream",
          "name": "stderr",
          "text": [
            "DEBUG:matplotlib.font_manager:findfont: score(<Font 'Liberation Sans Narrow' (LiberationSansNarrow-Italic.ttf) italic normal 400 condensed>) = 11.25\n"
          ]
        },
        {
          "output_type": "stream",
          "name": "stdout",
          "text": [
            "2022-11-22 16:25:54,209 - findfont: score(<Font 'Liberation Sans Narrow' (LiberationSansNarrow-Italic.ttf) italic normal 400 condensed>) = 11.25\n"
          ]
        },
        {
          "output_type": "stream",
          "name": "stderr",
          "text": [
            "DEBUG:matplotlib.font_manager:findfont: score(<Font 'Liberation Mono' (LiberationMono-BoldItalic.ttf) italic normal 700 normal>) = 11.335\n"
          ]
        },
        {
          "output_type": "stream",
          "name": "stdout",
          "text": [
            "2022-11-22 16:25:54,211 - findfont: score(<Font 'Liberation Mono' (LiberationMono-BoldItalic.ttf) italic normal 700 normal>) = 11.335\n"
          ]
        },
        {
          "output_type": "stream",
          "name": "stderr",
          "text": [
            "DEBUG:matplotlib.font_manager:findfont: score(<Font 'Liberation Sans Narrow' (LiberationSansNarrow-Regular.ttf) normal normal 400 condensed>) = 10.25\n"
          ]
        },
        {
          "output_type": "stream",
          "name": "stdout",
          "text": [
            "2022-11-22 16:25:54,214 - findfont: score(<Font 'Liberation Sans Narrow' (LiberationSansNarrow-Regular.ttf) normal normal 400 condensed>) = 10.25\n"
          ]
        },
        {
          "output_type": "stream",
          "name": "stderr",
          "text": [
            "DEBUG:matplotlib.font_manager:findfont: score(<Font 'Liberation Sans Narrow' (LiberationSansNarrow-Bold.ttf) normal normal 700 condensed>) = 10.535\n"
          ]
        },
        {
          "output_type": "stream",
          "name": "stdout",
          "text": [
            "2022-11-22 16:25:54,217 - findfont: score(<Font 'Liberation Sans Narrow' (LiberationSansNarrow-Bold.ttf) normal normal 700 condensed>) = 10.535\n"
          ]
        },
        {
          "output_type": "stream",
          "name": "stderr",
          "text": [
            "DEBUG:matplotlib.font_manager:findfont: Matching sans\\-serif:style=normal:variant=normal:weight=normal:stretch=normal:size=13.0 to DejaVu Sans ('/usr/local/lib/python3.7/dist-packages/matplotlib/mpl-data/fonts/ttf/DejaVuSans.ttf') with score of 0.050000.\n"
          ]
        },
        {
          "output_type": "stream",
          "name": "stdout",
          "text": [
            "2022-11-22 16:25:54,220 - findfont: Matching sans\\-serif:style=normal:variant=normal:weight=normal:stretch=normal:size=13.0 to DejaVu Sans ('/usr/local/lib/python3.7/dist-packages/matplotlib/mpl-data/fonts/ttf/DejaVuSans.ttf') with score of 0.050000.\n"
          ]
        },
        {
          "output_type": "display_data",
          "data": {
            "text/plain": [
              "<Figure size 2100x2100 with 1 Axes>"
            ],
            "image/png": "[encoded data removed]"
          },
          "metadata": {}
        }
      ]
    },
    {
      "cell_type": "code",
      "source": [
        "fig,ax  = plt.subplots()\n",
        "fig.set(figwidth = 15,figheight = 7)\n",
        "test_range = range(len(ts), len(ts)+len(ts_test))\n",
        "test_range = range(end,end+horizon)\n",
        "train_range = range(start,end)\n",
        "total_range = range(start,end+horizon)\n",
        "\n",
        "ax.plot(train_range,ts, label = 'train ts')\n",
        "if trend is not None:\n",
        "    ax.plot(train_range, trend,color = 'green',label = 'trend')\n",
        "if trend_test is not None:\n",
        "    ax.plot(test_range, trend_test,color = 'green')\n",
        "ax.plot(test_range,forecast, color = 'red', label = 'forecast')\n",
        "ax.plot(test_range, ts_test,color = 'black', label = 'test ts')\n",
        "plt.legend();\n",
        "\n",
        "fig1,ax1 = plt.subplots()\n",
        "fig1.set(figwidth = 15,figheight = 7)\n",
        "\n",
        "if trend_test is not None:\n",
        "    ax1.plot(test_range, trend_test,color = 'green')\n",
        "ax1.plot(test_range,forecast, color = 'red', label = 'forecast')\n",
        "ax1.plot(test_range, ts_test,color = 'black', label = 'test ts')\n",
        "plt.legend();"
      ],
      "metadata": {
        "colab": {
          "base_uri": "https://localhost:8080/",
          "height": 1000
        },
        "id": "2Fl-x0hYk-hv",
        "outputId": "4c22beb2-1348-4312-89f0-bc6dc234bb96"
      },
      "execution_count": 8,
      "outputs": [
        {
          "output_type": "stream",
          "name": "stderr",
          "text": [
            "DEBUG:matplotlib.font_manager:findfont: Matching sans\\-serif:style=normal:variant=normal:weight=normal:stretch=normal:size=10.0.\n"
          ]
        },
        {
          "output_type": "stream",
          "name": "stdout",
          "text": [
            "2022-11-22 16:26:11,948 - findfont: Matching sans\\-serif:style=normal:variant=normal:weight=normal:stretch=normal:size=10.0.\n"
          ]
        },
        {
          "output_type": "stream",
          "name": "stderr",
          "text": [
            "DEBUG:matplotlib.font_manager:findfont: score(<Font 'STIXGeneral' (STIXGeneralBolIta.ttf) italic normal 700 normal>) = 11.335\n"
          ]
        },
        {
          "output_type": "stream",
          "name": "stdout",
          "text": [
            "2022-11-22 16:26:11,956 - findfont: score(<Font 'STIXGeneral' (STIXGeneralBolIta.ttf) italic normal 700 normal>) = 11.335\n"
          ]
        },
        {
          "output_type": "stream",
          "name": "stderr",
          "text": [
            "DEBUG:matplotlib.font_manager:findfont: score(<Font 'DejaVu Sans Mono' (DejaVuSansMono-Bold.ttf) normal normal 700 normal>) = 10.335\n"
          ]
        },
        {
          "output_type": "stream",
          "name": "stdout",
          "text": [
            "2022-11-22 16:26:11,962 - findfont: score(<Font 'DejaVu Sans Mono' (DejaVuSansMono-Bold.ttf) normal normal 700 normal>) = 10.335\n"
          ]
        },
        {
          "output_type": "stream",
          "name": "stderr",
          "text": [
            "DEBUG:matplotlib.font_manager:findfont: score(<Font 'DejaVu Sans' (DejaVuSans-Oblique.ttf) oblique normal 400 normal>) = 1.05\n"
          ]
        },
        {
          "output_type": "stream",
          "name": "stdout",
          "text": [
            "2022-11-22 16:26:11,965 - findfont: score(<Font 'DejaVu Sans' (DejaVuSans-Oblique.ttf) oblique normal 400 normal>) = 1.05\n"
          ]
        },
        {
          "output_type": "stream",
          "name": "stderr",
          "text": [
            "DEBUG:matplotlib.font_manager:findfont: score(<Font 'STIXNonUnicode' (STIXNonUniBolIta.ttf) italic normal 700 normal>) = 11.335\n"
          ]
        },
        {
          "output_type": "stream",
          "name": "stdout",
          "text": [
            "2022-11-22 16:26:11,968 - findfont: score(<Font 'STIXNonUnicode' (STIXNonUniBolIta.ttf) italic normal 700 normal>) = 11.335\n"
          ]
        },
        {
          "output_type": "stream",
          "name": "stderr",
          "text": [
            "DEBUG:matplotlib.font_manager:findfont: score(<Font 'cmex10' (cmex10.ttf) normal normal 400 normal>) = 10.05\n"
          ]
        },
        {
          "output_type": "stream",
          "name": "stdout",
          "text": [
            "2022-11-22 16:26:11,971 - findfont: score(<Font 'cmex10' (cmex10.ttf) normal normal 400 normal>) = 10.05\n"
          ]
        },
        {
          "output_type": "stream",
          "name": "stderr",
          "text": [
            "DEBUG:matplotlib.font_manager:findfont: score(<Font 'STIXSizeThreeSym' (STIXSizThreeSymBol.ttf) normal normal 700 normal>) = 10.335\n"
          ]
        },
        {
          "output_type": "stream",
          "name": "stdout",
          "text": [
            "2022-11-22 16:26:11,974 - findfont: score(<Font 'STIXSizeThreeSym' (STIXSizThreeSymBol.ttf) normal normal 700 normal>) = 10.335\n"
          ]
        },
        {
          "output_type": "stream",
          "name": "stderr",
          "text": [
            "DEBUG:matplotlib.font_manager:findfont: score(<Font 'cmsy10' (cmsy10.ttf) normal normal 400 normal>) = 10.05\n"
          ]
        },
        {
          "output_type": "stream",
          "name": "stdout",
          "text": [
            "2022-11-22 16:26:11,978 - findfont: score(<Font 'cmsy10' (cmsy10.ttf) normal normal 400 normal>) = 10.05\n"
          ]
        },
        {
          "output_type": "stream",
          "name": "stderr",
          "text": [
            "DEBUG:matplotlib.font_manager:findfont: score(<Font 'STIXSizeTwoSym' (STIXSizTwoSymReg.ttf) normal normal regular normal>) = 10.05\n"
          ]
        },
        {
          "output_type": "stream",
          "name": "stdout",
          "text": [
            "2022-11-22 16:26:11,981 - findfont: score(<Font 'STIXSizeTwoSym' (STIXSizTwoSymReg.ttf) normal normal regular normal>) = 10.05\n"
          ]
        },
        {
          "output_type": "stream",
          "name": "stderr",
          "text": [
            "DEBUG:matplotlib.font_manager:findfont: score(<Font 'DejaVu Sans' (DejaVuSans-Bold.ttf) normal normal 700 normal>) = 0.33499999999999996\n"
          ]
        },
        {
          "output_type": "stream",
          "name": "stdout",
          "text": [
            "2022-11-22 16:26:11,984 - findfont: score(<Font 'DejaVu Sans' (DejaVuSans-Bold.ttf) normal normal 700 normal>) = 0.33499999999999996\n"
          ]
        },
        {
          "output_type": "stream",
          "name": "stderr",
          "text": [
            "DEBUG:matplotlib.font_manager:findfont: score(<Font 'DejaVu Sans Mono' (DejaVuSansMono.ttf) normal normal 400 normal>) = 10.05\n"
          ]
        },
        {
          "output_type": "stream",
          "name": "stdout",
          "text": [
            "2022-11-22 16:26:11,987 - findfont: score(<Font 'DejaVu Sans Mono' (DejaVuSansMono.ttf) normal normal 400 normal>) = 10.05\n"
          ]
        },
        {
          "output_type": "stream",
          "name": "stderr",
          "text": [
            "DEBUG:matplotlib.font_manager:findfont: score(<Font 'cmss10' (cmss10.ttf) normal normal 400 normal>) = 10.05\n"
          ]
        },
        {
          "output_type": "stream",
          "name": "stdout",
          "text": [
            "2022-11-22 16:26:11,990 - findfont: score(<Font 'cmss10' (cmss10.ttf) normal normal 400 normal>) = 10.05\n"
          ]
        },
        {
          "output_type": "stream",
          "name": "stderr",
          "text": [
            "DEBUG:matplotlib.font_manager:findfont: score(<Font 'DejaVu Serif' (DejaVuSerif-Bold.ttf) normal normal 700 normal>) = 10.335\n"
          ]
        },
        {
          "output_type": "stream",
          "name": "stdout",
          "text": [
            "2022-11-22 16:26:11,993 - findfont: score(<Font 'DejaVu Serif' (DejaVuSerif-Bold.ttf) normal normal 700 normal>) = 10.335\n"
          ]
        },
        {
          "output_type": "stream",
          "name": "stderr",
          "text": [
            "DEBUG:matplotlib.font_manager:findfont: score(<Font 'STIXGeneral' (STIXGeneralItalic.ttf) italic normal 400 normal>) = 11.05\n"
          ]
        },
        {
          "output_type": "stream",
          "name": "stdout",
          "text": [
            "2022-11-22 16:26:11,996 - findfont: score(<Font 'STIXGeneral' (STIXGeneralItalic.ttf) italic normal 400 normal>) = 11.05\n"
          ]
        },
        {
          "output_type": "stream",
          "name": "stderr",
          "text": [
            "DEBUG:matplotlib.font_manager:findfont: score(<Font 'DejaVu Sans Display' (DejaVuSansDisplay.ttf) normal normal 400 normal>) = 10.05\n"
          ]
        },
        {
          "output_type": "stream",
          "name": "stdout",
          "text": [
            "2022-11-22 16:26:11,999 - findfont: score(<Font 'DejaVu Sans Display' (DejaVuSansDisplay.ttf) normal normal 400 normal>) = 10.05\n"
          ]
        },
        {
          "output_type": "stream",
          "name": "stderr",
          "text": [
            "DEBUG:matplotlib.font_manager:findfont: score(<Font 'STIXNonUnicode' (STIXNonUni.ttf) normal normal regular normal>) = 10.05\n"
          ]
        },
        {
          "output_type": "stream",
          "name": "stdout",
          "text": [
            "2022-11-22 16:26:12,002 - findfont: score(<Font 'STIXNonUnicode' (STIXNonUni.ttf) normal normal regular normal>) = 10.05\n"
          ]
        },
        {
          "output_type": "stream",
          "name": "stderr",
          "text": [
            "DEBUG:matplotlib.font_manager:findfont: score(<Font 'STIXGeneral' (STIXGeneral.ttf) normal normal regular normal>) = 10.05\n"
          ]
        },
        {
          "output_type": "stream",
          "name": "stdout",
          "text": [
            "2022-11-22 16:26:12,005 - findfont: score(<Font 'STIXGeneral' (STIXGeneral.ttf) normal normal regular normal>) = 10.05\n"
          ]
        },
        {
          "output_type": "stream",
          "name": "stderr",
          "text": [
            "DEBUG:matplotlib.font_manager:findfont: score(<Font 'cmmi10' (cmmi10.ttf) normal normal 400 normal>) = 10.05\n"
          ]
        },
        {
          "output_type": "stream",
          "name": "stdout",
          "text": [
            "2022-11-22 16:26:12,008 - findfont: score(<Font 'cmmi10' (cmmi10.ttf) normal normal 400 normal>) = 10.05\n"
          ]
        },
        {
          "output_type": "stream",
          "name": "stderr",
          "text": [
            "DEBUG:matplotlib.font_manager:findfont: score(<Font 'DejaVu Serif' (DejaVuSerif-BoldItalic.ttf) italic normal 700 normal>) = 11.335\n"
          ]
        },
        {
          "output_type": "stream",
          "name": "stdout",
          "text": [
            "2022-11-22 16:26:12,012 - findfont: score(<Font 'DejaVu Serif' (DejaVuSerif-BoldItalic.ttf) italic normal 700 normal>) = 11.335\n"
          ]
        },
        {
          "output_type": "stream",
          "name": "stderr",
          "text": [
            "DEBUG:matplotlib.font_manager:findfont: score(<Font 'STIXSizeFourSym' (STIXSizFourSymReg.ttf) normal normal regular normal>) = 10.05\n"
          ]
        },
        {
          "output_type": "stream",
          "name": "stdout",
          "text": [
            "2022-11-22 16:26:12,015 - findfont: score(<Font 'STIXSizeFourSym' (STIXSizFourSymReg.ttf) normal normal regular normal>) = 10.05\n"
          ]
        },
        {
          "output_type": "stream",
          "name": "stderr",
          "text": [
            "DEBUG:matplotlib.font_manager:findfont: score(<Font 'DejaVu Serif' (DejaVuSerif-Italic.ttf) italic normal 400 normal>) = 11.05\n"
          ]
        },
        {
          "output_type": "stream",
          "name": "stdout",
          "text": [
            "2022-11-22 16:26:12,018 - findfont: score(<Font 'DejaVu Serif' (DejaVuSerif-Italic.ttf) italic normal 400 normal>) = 11.05\n"
          ]
        },
        {
          "output_type": "stream",
          "name": "stderr",
          "text": [
            "DEBUG:matplotlib.font_manager:findfont: score(<Font 'DejaVu Sans Mono' (DejaVuSansMono-BoldOblique.ttf) oblique normal 700 normal>) = 11.335\n"
          ]
        },
        {
          "output_type": "stream",
          "name": "stdout",
          "text": [
            "2022-11-22 16:26:12,021 - findfont: score(<Font 'DejaVu Sans Mono' (DejaVuSansMono-BoldOblique.ttf) oblique normal 700 normal>) = 11.335\n"
          ]
        },
        {
          "output_type": "stream",
          "name": "stderr",
          "text": [
            "DEBUG:matplotlib.font_manager:findfont: score(<Font 'cmtt10' (cmtt10.ttf) normal normal 400 normal>) = 10.05\n"
          ]
        },
        {
          "output_type": "stream",
          "name": "stdout",
          "text": [
            "2022-11-22 16:26:12,024 - findfont: score(<Font 'cmtt10' (cmtt10.ttf) normal normal 400 normal>) = 10.05\n"
          ]
        },
        {
          "output_type": "stream",
          "name": "stderr",
          "text": [
            "DEBUG:matplotlib.font_manager:findfont: score(<Font 'STIXSizeFourSym' (STIXSizFourSymBol.ttf) normal normal 700 normal>) = 10.335\n"
          ]
        },
        {
          "output_type": "stream",
          "name": "stdout",
          "text": [
            "2022-11-22 16:26:12,027 - findfont: score(<Font 'STIXSizeFourSym' (STIXSizFourSymBol.ttf) normal normal 700 normal>) = 10.335\n"
          ]
        },
        {
          "output_type": "stream",
          "name": "stderr",
          "text": [
            "DEBUG:matplotlib.font_manager:findfont: score(<Font 'STIXSizeOneSym' (STIXSizOneSymReg.ttf) normal normal regular normal>) = 10.05\n"
          ]
        },
        {
          "output_type": "stream",
          "name": "stdout",
          "text": [
            "2022-11-22 16:26:12,030 - findfont: score(<Font 'STIXSizeOneSym' (STIXSizOneSymReg.ttf) normal normal regular normal>) = 10.05\n"
          ]
        },
        {
          "output_type": "stream",
          "name": "stderr",
          "text": [
            "DEBUG:matplotlib.font_manager:findfont: score(<Font 'DejaVu Serif Display' (DejaVuSerifDisplay.ttf) normal normal 400 normal>) = 10.05\n"
          ]
        },
        {
          "output_type": "stream",
          "name": "stdout",
          "text": [
            "2022-11-22 16:26:12,033 - findfont: score(<Font 'DejaVu Serif Display' (DejaVuSerifDisplay.ttf) normal normal 400 normal>) = 10.05\n"
          ]
        },
        {
          "output_type": "stream",
          "name": "stderr",
          "text": [
            "DEBUG:matplotlib.font_manager:findfont: score(<Font 'STIXGeneral' (STIXGeneralBol.ttf) normal normal 700 normal>) = 10.335\n"
          ]
        },
        {
          "output_type": "stream",
          "name": "stdout",
          "text": [
            "2022-11-22 16:26:12,036 - findfont: score(<Font 'STIXGeneral' (STIXGeneralBol.ttf) normal normal 700 normal>) = 10.335\n"
          ]
        },
        {
          "output_type": "stream",
          "name": "stderr",
          "text": [
            "DEBUG:matplotlib.font_manager:findfont: score(<Font 'STIXSizeFiveSym' (STIXSizFiveSymReg.ttf) normal normal regular normal>) = 10.05\n"
          ]
        },
        {
          "output_type": "stream",
          "name": "stdout",
          "text": [
            "2022-11-22 16:26:12,039 - findfont: score(<Font 'STIXSizeFiveSym' (STIXSizFiveSymReg.ttf) normal normal regular normal>) = 10.05\n"
          ]
        },
        {
          "output_type": "stream",
          "name": "stderr",
          "text": [
            "DEBUG:matplotlib.font_manager:findfont: score(<Font 'STIXSizeOneSym' (STIXSizOneSymBol.ttf) normal normal 700 normal>) = 10.335\n"
          ]
        },
        {
          "output_type": "stream",
          "name": "stdout",
          "text": [
            "2022-11-22 16:26:12,043 - findfont: score(<Font 'STIXSizeOneSym' (STIXSizOneSymBol.ttf) normal normal 700 normal>) = 10.335\n"
          ]
        },
        {
          "output_type": "stream",
          "name": "stderr",
          "text": [
            "DEBUG:matplotlib.font_manager:findfont: score(<Font 'DejaVu Serif' (DejaVuSerif.ttf) normal normal 400 normal>) = 10.05\n"
          ]
        },
        {
          "output_type": "stream",
          "name": "stdout",
          "text": [
            "2022-11-22 16:26:12,047 - findfont: score(<Font 'DejaVu Serif' (DejaVuSerif.ttf) normal normal 400 normal>) = 10.05\n"
          ]
        },
        {
          "output_type": "stream",
          "name": "stderr",
          "text": [
            "DEBUG:matplotlib.font_manager:findfont: score(<Font 'STIXSizeTwoSym' (STIXSizTwoSymBol.ttf) normal normal 700 normal>) = 10.335\n"
          ]
        },
        {
          "output_type": "stream",
          "name": "stdout",
          "text": [
            "2022-11-22 16:26:12,050 - findfont: score(<Font 'STIXSizeTwoSym' (STIXSizTwoSymBol.ttf) normal normal 700 normal>) = 10.335\n"
          ]
        },
        {
          "output_type": "stream",
          "name": "stderr",
          "text": [
            "DEBUG:matplotlib.font_manager:findfont: score(<Font 'STIXSizeThreeSym' (STIXSizThreeSymReg.ttf) normal normal regular normal>) = 10.05\n"
          ]
        },
        {
          "output_type": "stream",
          "name": "stdout",
          "text": [
            "2022-11-22 16:26:12,053 - findfont: score(<Font 'STIXSizeThreeSym' (STIXSizThreeSymReg.ttf) normal normal regular normal>) = 10.05\n"
          ]
        },
        {
          "output_type": "stream",
          "name": "stderr",
          "text": [
            "DEBUG:matplotlib.font_manager:findfont: score(<Font 'STIXNonUnicode' (STIXNonUniIta.ttf) italic normal 400 normal>) = 11.05\n"
          ]
        },
        {
          "output_type": "stream",
          "name": "stdout",
          "text": [
            "2022-11-22 16:26:12,056 - findfont: score(<Font 'STIXNonUnicode' (STIXNonUniIta.ttf) italic normal 400 normal>) = 11.05\n"
          ]
        },
        {
          "output_type": "stream",
          "name": "stderr",
          "text": [
            "DEBUG:matplotlib.font_manager:findfont: score(<Font 'DejaVu Sans Mono' (DejaVuSansMono-Oblique.ttf) oblique normal 400 normal>) = 11.05\n"
          ]
        },
        {
          "output_type": "stream",
          "name": "stdout",
          "text": [
            "2022-11-22 16:26:12,059 - findfont: score(<Font 'DejaVu Sans Mono' (DejaVuSansMono-Oblique.ttf) oblique normal 400 normal>) = 11.05\n"
          ]
        },
        {
          "output_type": "stream",
          "name": "stderr",
          "text": [
            "DEBUG:matplotlib.font_manager:findfont: score(<Font 'cmb10' (cmb10.ttf) normal normal 400 normal>) = 10.05\n"
          ]
        },
        {
          "output_type": "stream",
          "name": "stdout",
          "text": [
            "2022-11-22 16:26:12,062 - findfont: score(<Font 'cmb10' (cmb10.ttf) normal normal 400 normal>) = 10.05\n"
          ]
        },
        {
          "output_type": "stream",
          "name": "stderr",
          "text": [
            "DEBUG:matplotlib.font_manager:findfont: score(<Font 'DejaVu Sans' (DejaVuSans.ttf) normal normal 400 normal>) = 0.05\n"
          ]
        },
        {
          "output_type": "stream",
          "name": "stdout",
          "text": [
            "2022-11-22 16:26:12,065 - findfont: score(<Font 'DejaVu Sans' (DejaVuSans.ttf) normal normal 400 normal>) = 0.05\n"
          ]
        },
        {
          "output_type": "stream",
          "name": "stderr",
          "text": [
            "DEBUG:matplotlib.font_manager:findfont: score(<Font 'DejaVu Sans' (DejaVuSans-BoldOblique.ttf) oblique normal 700 normal>) = 1.335\n"
          ]
        },
        {
          "output_type": "stream",
          "name": "stdout",
          "text": [
            "2022-11-22 16:26:12,068 - findfont: score(<Font 'DejaVu Sans' (DejaVuSans-BoldOblique.ttf) oblique normal 700 normal>) = 1.335\n"
          ]
        },
        {
          "output_type": "stream",
          "name": "stderr",
          "text": [
            "DEBUG:matplotlib.font_manager:findfont: score(<Font 'cmr10' (cmr10.ttf) normal normal 400 normal>) = 10.05\n"
          ]
        },
        {
          "output_type": "stream",
          "name": "stdout",
          "text": [
            "2022-11-22 16:26:12,072 - findfont: score(<Font 'cmr10' (cmr10.ttf) normal normal 400 normal>) = 10.05\n"
          ]
        },
        {
          "output_type": "stream",
          "name": "stderr",
          "text": [
            "DEBUG:matplotlib.font_manager:findfont: score(<Font 'STIXNonUnicode' (STIXNonUniBol.ttf) normal normal 700 normal>) = 10.335\n"
          ]
        },
        {
          "output_type": "stream",
          "name": "stdout",
          "text": [
            "2022-11-22 16:26:12,075 - findfont: score(<Font 'STIXNonUnicode' (STIXNonUniBol.ttf) normal normal 700 normal>) = 10.335\n"
          ]
        },
        {
          "output_type": "stream",
          "name": "stderr",
          "text": [
            "DEBUG:matplotlib.font_manager:findfont: score(<Font 'Liberation Serif' (LiberationSerif-BoldItalic.ttf) italic normal 700 normal>) = 11.335\n"
          ]
        },
        {
          "output_type": "stream",
          "name": "stdout",
          "text": [
            "2022-11-22 16:26:12,078 - findfont: score(<Font 'Liberation Serif' (LiberationSerif-BoldItalic.ttf) italic normal 700 normal>) = 11.335\n"
          ]
        },
        {
          "output_type": "stream",
          "name": "stderr",
          "text": [
            "DEBUG:matplotlib.font_manager:findfont: score(<Font 'Liberation Mono' (LiberationMono-Bold.ttf) normal normal 700 normal>) = 10.335\n"
          ]
        },
        {
          "output_type": "stream",
          "name": "stdout",
          "text": [
            "2022-11-22 16:26:12,081 - findfont: score(<Font 'Liberation Mono' (LiberationMono-Bold.ttf) normal normal 700 normal>) = 10.335\n"
          ]
        },
        {
          "output_type": "stream",
          "name": "stderr",
          "text": [
            "DEBUG:matplotlib.font_manager:findfont: score(<Font 'Liberation Sans' (LiberationSans-Italic.ttf) italic normal 400 normal>) = 11.05\n"
          ]
        },
        {
          "output_type": "stream",
          "name": "stdout",
          "text": [
            "2022-11-22 16:26:12,084 - findfont: score(<Font 'Liberation Sans' (LiberationSans-Italic.ttf) italic normal 400 normal>) = 11.05\n"
          ]
        },
        {
          "output_type": "stream",
          "name": "stderr",
          "text": [
            "DEBUG:matplotlib.font_manager:findfont: score(<Font 'Liberation Sans' (LiberationSans-BoldItalic.ttf) italic normal 700 normal>) = 11.335\n"
          ]
        },
        {
          "output_type": "stream",
          "name": "stdout",
          "text": [
            "2022-11-22 16:26:12,087 - findfont: score(<Font 'Liberation Sans' (LiberationSans-BoldItalic.ttf) italic normal 700 normal>) = 11.335\n"
          ]
        },
        {
          "output_type": "stream",
          "name": "stderr",
          "text": [
            "DEBUG:matplotlib.font_manager:findfont: score(<Font 'Liberation Serif' (LiberationSerif-Regular.ttf) normal normal 400 normal>) = 10.05\n"
          ]
        },
        {
          "output_type": "stream",
          "name": "stdout",
          "text": [
            "2022-11-22 16:26:12,090 - findfont: score(<Font 'Liberation Serif' (LiberationSerif-Regular.ttf) normal normal 400 normal>) = 10.05\n"
          ]
        },
        {
          "output_type": "stream",
          "name": "stderr",
          "text": [
            "DEBUG:matplotlib.font_manager:findfont: score(<Font 'Liberation Serif' (LiberationSerif-Italic.ttf) italic normal 400 normal>) = 11.05\n"
          ]
        },
        {
          "output_type": "stream",
          "name": "stdout",
          "text": [
            "2022-11-22 16:26:12,093 - findfont: score(<Font 'Liberation Serif' (LiberationSerif-Italic.ttf) italic normal 400 normal>) = 11.05\n"
          ]
        },
        {
          "output_type": "stream",
          "name": "stderr",
          "text": [
            "DEBUG:matplotlib.font_manager:findfont: score(<Font 'Liberation Sans' (LiberationSans-Bold.ttf) normal normal 700 normal>) = 10.335\n"
          ]
        },
        {
          "output_type": "stream",
          "name": "stdout",
          "text": [
            "2022-11-22 16:26:12,096 - findfont: score(<Font 'Liberation Sans' (LiberationSans-Bold.ttf) normal normal 700 normal>) = 10.335\n"
          ]
        },
        {
          "output_type": "stream",
          "name": "stderr",
          "text": [
            "DEBUG:matplotlib.font_manager:findfont: score(<Font 'Liberation Sans' (LiberationSans-Regular.ttf) normal normal 400 normal>) = 10.05\n"
          ]
        },
        {
          "output_type": "stream",
          "name": "stdout",
          "text": [
            "2022-11-22 16:26:12,100 - findfont: score(<Font 'Liberation Sans' (LiberationSans-Regular.ttf) normal normal 400 normal>) = 10.05\n"
          ]
        },
        {
          "output_type": "stream",
          "name": "stderr",
          "text": [
            "DEBUG:matplotlib.font_manager:findfont: score(<Font 'Liberation Sans Narrow' (LiberationSansNarrow-BoldItalic.ttf) italic normal 700 condensed>) = 11.535\n"
          ]
        },
        {
          "output_type": "stream",
          "name": "stdout",
          "text": [
            "2022-11-22 16:26:12,103 - findfont: score(<Font 'Liberation Sans Narrow' (LiberationSansNarrow-BoldItalic.ttf) italic normal 700 condensed>) = 11.535\n"
          ]
        },
        {
          "output_type": "stream",
          "name": "stderr",
          "text": [
            "DEBUG:matplotlib.font_manager:findfont: score(<Font 'Liberation Mono' (LiberationMono-Regular.ttf) normal normal 400 normal>) = 10.05\n"
          ]
        },
        {
          "output_type": "stream",
          "name": "stdout",
          "text": [
            "2022-11-22 16:26:12,106 - findfont: score(<Font 'Liberation Mono' (LiberationMono-Regular.ttf) normal normal 400 normal>) = 10.05\n"
          ]
        },
        {
          "output_type": "stream",
          "name": "stderr",
          "text": [
            "DEBUG:matplotlib.font_manager:findfont: score(<Font 'Liberation Mono' (LiberationMono-Italic.ttf) italic normal 400 normal>) = 11.05\n"
          ]
        },
        {
          "output_type": "stream",
          "name": "stdout",
          "text": [
            "2022-11-22 16:26:12,109 - findfont: score(<Font 'Liberation Mono' (LiberationMono-Italic.ttf) italic normal 400 normal>) = 11.05\n"
          ]
        },
        {
          "output_type": "stream",
          "name": "stderr",
          "text": [
            "DEBUG:matplotlib.font_manager:findfont: score(<Font 'Liberation Serif' (LiberationSerif-Bold.ttf) normal normal 700 normal>) = 10.335\n"
          ]
        },
        {
          "output_type": "stream",
          "name": "stdout",
          "text": [
            "2022-11-22 16:26:12,112 - findfont: score(<Font 'Liberation Serif' (LiberationSerif-Bold.ttf) normal normal 700 normal>) = 10.335\n"
          ]
        },
        {
          "output_type": "stream",
          "name": "stderr",
          "text": [
            "DEBUG:matplotlib.font_manager:findfont: score(<Font 'Humor Sans' (Humor-Sans.ttf) normal normal 400 normal>) = 10.05\n"
          ]
        },
        {
          "output_type": "stream",
          "name": "stdout",
          "text": [
            "2022-11-22 16:26:12,116 - findfont: score(<Font 'Humor Sans' (Humor-Sans.ttf) normal normal 400 normal>) = 10.05\n"
          ]
        },
        {
          "output_type": "stream",
          "name": "stderr",
          "text": [
            "DEBUG:matplotlib.font_manager:findfont: score(<Font 'Liberation Sans Narrow' (LiberationSansNarrow-Italic.ttf) italic normal 400 condensed>) = 11.25\n"
          ]
        },
        {
          "output_type": "stream",
          "name": "stdout",
          "text": [
            "2022-11-22 16:26:12,119 - findfont: score(<Font 'Liberation Sans Narrow' (LiberationSansNarrow-Italic.ttf) italic normal 400 condensed>) = 11.25\n"
          ]
        },
        {
          "output_type": "stream",
          "name": "stderr",
          "text": [
            "DEBUG:matplotlib.font_manager:findfont: score(<Font 'Liberation Mono' (LiberationMono-BoldItalic.ttf) italic normal 700 normal>) = 11.335\n"
          ]
        },
        {
          "output_type": "stream",
          "name": "stdout",
          "text": [
            "2022-11-22 16:26:12,122 - findfont: score(<Font 'Liberation Mono' (LiberationMono-BoldItalic.ttf) italic normal 700 normal>) = 11.335\n"
          ]
        },
        {
          "output_type": "stream",
          "name": "stderr",
          "text": [
            "DEBUG:matplotlib.font_manager:findfont: score(<Font 'Liberation Sans Narrow' (LiberationSansNarrow-Regular.ttf) normal normal 400 condensed>) = 10.25\n"
          ]
        },
        {
          "output_type": "stream",
          "name": "stdout",
          "text": [
            "2022-11-22 16:26:12,126 - findfont: score(<Font 'Liberation Sans Narrow' (LiberationSansNarrow-Regular.ttf) normal normal 400 condensed>) = 10.25\n"
          ]
        },
        {
          "output_type": "stream",
          "name": "stderr",
          "text": [
            "DEBUG:matplotlib.font_manager:findfont: score(<Font 'Liberation Sans Narrow' (LiberationSansNarrow-Bold.ttf) normal normal 700 condensed>) = 10.535\n"
          ]
        },
        {
          "output_type": "stream",
          "name": "stdout",
          "text": [
            "2022-11-22 16:26:12,129 - findfont: score(<Font 'Liberation Sans Narrow' (LiberationSansNarrow-Bold.ttf) normal normal 700 condensed>) = 10.535\n"
          ]
        },
        {
          "output_type": "stream",
          "name": "stderr",
          "text": [
            "DEBUG:matplotlib.font_manager:findfont: Matching sans\\-serif:style=normal:variant=normal:weight=normal:stretch=normal:size=10.0 to DejaVu Sans ('/usr/local/lib/python3.7/dist-packages/matplotlib/mpl-data/fonts/ttf/DejaVuSans.ttf') with score of 0.050000.\n"
          ]
        },
        {
          "output_type": "stream",
          "name": "stdout",
          "text": [
            "2022-11-22 16:26:12,134 - findfont: Matching sans\\-serif:style=normal:variant=normal:weight=normal:stretch=normal:size=10.0 to DejaVu Sans ('/usr/local/lib/python3.7/dist-packages/matplotlib/mpl-data/fonts/ttf/DejaVuSans.ttf') with score of 0.050000.\n"
          ]
        },
        {
          "output_type": "display_data",
          "data": {
            "text/plain": [
              "<Figure size 1080x504 with 1 Axes>"
            ],
            "image/png": "[encoded data removed]"
          },
          "metadata": {
            "needs_background": "light"
          }
        },
        {
          "output_type": "display_data",
          "data": {
            "text/plain": [
              "<Figure size 1080x504 with 1 Axes>"
            ],
            "image/png": "[encoded data removed]"
          },
          "metadata": {
            "needs_background": "light"
          }
        }
      ]
    },
    {
      "cell_type": "code",
      "source": [
        "import sys\n",
        "from sklearn.metrics import mean_squared_error as mse\n",
        "from fedot.core.composer.metrics import QualityMetric\n",
        "from fedot.core.data.data import InputData, OutputData\n",
        "from fedot.core.repository.tasks import TsForecastingParams\n",
        "\n",
        "def quantile_loss(y_true, y_pred, quantile=0.5):\n",
        "    res = np.array(y_true)-np.array(y_pred)\n",
        "    metrics=np.empty(shape = [0])\n",
        "    for x in res:\n",
        "        if x>=0:\n",
        "            metrics = np.append(metrics, quantile*x)\n",
        "        else:\n",
        "            metrics = np.append(metrics,(quantile-1)*x)\n",
        "    return np.mean(metrics)\n",
        "\n",
        "class Quantile_Loss_1(QualityMetric):\n",
        "    default_value = sys.maxsize\n",
        "\n",
        "    @staticmethod\n",
        "    def metric(reference: InputData, predicted: OutputData) -> float:\n",
        "        value = quantile_loss(reference.target, predicted.predict,quantile = 0.1)\n",
        "        return value\n",
        "\n",
        "\n",
        "class Quantile_Loss_9(QualityMetric):\n",
        "    default_value = sys.maxsize\n",
        "\n",
        "    @staticmethod\n",
        "    def metric(reference: InputData, predicted: OutputData) -> float:\n",
        "        value = quantile_loss(reference.target, predicted.predict,quantile = 0.9)\n",
        "        return value"
      ],
      "metadata": {
        "id": "uXWB4nm_p4x1"
      },
      "execution_count": 9,
      "outputs": []
    },
    {
      "cell_type": "code",
      "source": [
        "#importing for tuning\n",
        "from fedot.core.optimisers.adapters import PipelineAdapter\n",
        "from fedot.core.pipelines.tuning.tuner_builder import TunerBuilder\n",
        "from fedot.core.repository.quality_metrics_repository import RegressionMetricsEnum\n",
        "from fedot.core.pipelines.tuning.tuner_interface import HyperoptTuner\n",
        "from fedot.core.pipelines.tuning.unified import PipelineTuner\n",
        "from fedot.core.optimisers.composer_requirements import ComposerRequirements\n",
        "import datetime\n",
        "\n",
        "from fedot.core.repository.quality_metrics_repository import RegressionMetricsEnum\n",
        "\n",
        "#these parameters are the same for both tuners below\n",
        "task = Task(TaskTypesEnum.ts_forecasting,TsForecastingParams(forecast_length=horizon))\n",
        "composer_requirements = ComposerRequirements()\n",
        "composer_requirements.validation_blocks = 2\n",
        "composer_requirements.n_jobs= -1\n",
        "composer_requirements.show_progress = True\n",
        "\n",
        "#this tuner will be used to create lower confidence interval\n",
        "low_tuner = TunerBuilder(task = task) \\\n",
        "         .with_tuner(PipelineTuner) \\\n",
        "         .with_metric(Quantile_Loss_1.get_value) \\\n",
        "         .with_iterations(10) \\\n",
        "         .with_timeout(datetime.timedelta(minutes=2)) \\\n",
        "         .with_requirements(composer_requirements) \\\n",
        "         .build(train_data)\n",
        "\n",
        "#this tuner will be used to create uppper confidence interval\n",
        "up_tuner = TunerBuilder(task = task) \\\n",
        "         .with_tuner(PipelineTuner) \\\n",
        "         .with_metric(Quantile_Loss_9.get_value) \\\n",
        "         .with_iterations(10) \\\n",
        "         .with_timeout(datetime.timedelta(minutes=2)) \\\n",
        "         .with_requirements(composer_requirements) \\\n",
        "         .build(train_data)"
      ],
      "metadata": {
        "id": "NNRl8s3ZlJnV",
        "colab": {
          "base_uri": "https://localhost:8080/"
        },
        "outputId": "ab34c4aa-1da3-46b6-92a7-bc68d7174a3b"
      },
      "execution_count": 10,
      "outputs": [
        {
          "output_type": "stream",
          "name": "stderr",
          "text": [
            "INFO:root:DataSourceSplitter - Hold out validation is applied.\n"
          ]
        },
        {
          "output_type": "stream",
          "name": "stdout",
          "text": [
            "2022-11-22 16:26:29,836 - DataSourceSplitter - Hold out validation is applied.\n"
          ]
        },
        {
          "output_type": "stream",
          "name": "stderr",
          "text": [
            "INFO:root:DataSourceSplitter - Hold out validation is applied.\n"
          ]
        },
        {
          "output_type": "stream",
          "name": "stdout",
          "text": [
            "2022-11-22 16:26:29,844 - DataSourceSplitter - Hold out validation is applied.\n"
          ]
        }
      ]
    },
    {
      "cell_type": "code",
      "source": [
        "def quantile_maker(quantile,arrays):\n",
        "    number_arrays = len(arrays)\n",
        "    l = len(arrays[0])\n",
        "    up = []\n",
        "    low = []\n",
        "    for i in range(l):\n",
        "        x = np.array([arrays[j][i] for j in range(number_arrays)])\n",
        "        q_up = np.quantile(x, 1-quantile)\n",
        "        up.append(q_up)\n",
        "        q_low = np.quantile(x,quantile)\n",
        "        low.append(q_low)\n",
        "    up = np.array(up)\n",
        "    low = np.array(low)\n",
        "    return {'up':up,'low':low}\n",
        "\n",
        "def mean_maker(arrays):\n",
        "    number_arrays = len(arrays)\n",
        "    l = len(arrays[0])\n",
        "    average = []\n",
        "    for i in range(l):\n",
        "        x = np.array([arrays[j][i] for j in range(number_arrays)])\n",
        "        average.append(x.mean())\n",
        "    return average\n",
        "\n",
        "def median_maker(arrays):\n",
        "    number_arrays = len(arrays)\n",
        "    l = len(arrays[0])\n",
        "    median = []\n",
        "    for i in range(l):\n",
        "        x = np.array([arrays[j][i] for j in range(number_arrays)])\n",
        "        median.append(np.median(x))\n",
        "    return median\n",
        "\n",
        "def absolute_maker(arrays):\n",
        "    number_arrays = len(arrays)\n",
        "    l = len(arrays[0])\n",
        "    maximum = []\n",
        "    minimum = []\n",
        "    for i in range(l):\n",
        "        x = np.array([arrays[j][i] for j in range(number_arrays)])\n",
        "        maximum.append(np.max(x))\n",
        "        minimum.append(np.min(x))\n",
        "    return {'up':np.array(maximum),'low':np.array(minimum)}\n",
        "\n",
        "from scipy.stats import trim_mean\n",
        "def truncated_mean_maker(arrays, quantile=0.1):\n",
        "    number_arrays = len(arrays)\n",
        "    l = len(arrays[0])\n",
        "    trunc_mean = []\n",
        "    for i in range(l):\n",
        "        x = np.array([arrays[j][i] for j in range(number_arrays)])\n",
        "        trunc_mean.append(trim_mean(x, quantile))\n",
        "    return np.array(trunc_mean)"
      ],
      "metadata": {
        "id": "qQ4OwVwOtph5"
      },
      "execution_count": 11,
      "outputs": []
    },
    {
      "cell_type": "code",
      "source": [
        "def conf_int_maker(model = model,\n",
        "                   train_ts = ts,\n",
        "                   number_models = 10, \n",
        "                   pipelines_show= False):\n",
        "    \"\"\"\n",
        "    model - a fedot model of interest\n",
        "    train_ts - the ts used for training the model\n",
        "    ts_test - the testing series; used for plotting and visualization of the results\n",
        "    number_models - number of models used to create the confidence intervals\n",
        "    regim - type of getting lower and upper confidence intervals from the upper and lower arrays; \n",
        "            default is 'quantile' also avaliable 'average' and 'median', 'absolute_bounds', 'truncated_mean'\n",
        "    plot - boolean parameter indicating wheter to show plot of the forecast and confidence intervals\n",
        "    plot_history - boolean parameter indicating whether to show previous series\n",
        "    \"\"\"\n",
        "    \n",
        "    horizon = model.params.task.task_params.forecast_length\n",
        "    train_data = model.train_data\n",
        "    test_data = model.test_data\n",
        "    forecast = model.predict(test_data)\n",
        "\n",
        "    #4 lines below allow us take the best models\n",
        "    fits = []\n",
        "    for ind in model.history.individuals[-1]:\n",
        "        fits.append(ind.fitness.value)\n",
        "    fits = np.sort(np.array(fits))\n",
        "\n",
        "    #create up and low predictions\n",
        "    up_predictions = []\n",
        "    low_predictions = []\n",
        "    \n",
        "    s=1\n",
        "    for ind in model.history.individuals[-1]:\n",
        "        if ind.fitness.value<=fits[number_models]:\n",
        "            pipeline = PipelineAdapter().restore(ind.graph)\n",
        "            print(f'Fitting pipeline №{s}')\n",
        "            s+=1\n",
        "            if pipelines_show:\n",
        "                pipeline.show()\n",
        "            \n",
        "            \n",
        "            #tuning upper confidence interval\n",
        "            tuned_pipeline = up_tuner.tune(pipeline)\n",
        "            tuned_pipeline.fit(train_data)\n",
        "            preds = tuned_pipeline.predict(test_data).predict.ravel()\n",
        "            up_predictions.append(preds)\n",
        "            del tuned_pipeline\n",
        "            \n",
        "            #tuning lower confidence interval\n",
        "            tuned_pipeline = low_tuner.tune(pipeline)\n",
        "            tuned_pipeline.fit(train_data)\n",
        "            preds = tuned_pipeline.predict(test_data).predict.ravel()\n",
        "            low_predictions.append(preds)\n",
        "            del tuned_pipeline\n",
        "    return {'up_predictions':up_predictions, 'low_predictions':low_predictions}"
      ],
      "metadata": {
        "id": "kG1n1Q7Wt1DF"
      },
      "execution_count": 12,
      "outputs": []
    },
    {
      "cell_type": "code",
      "source": [
        "def conf_int_plotting(up_predictions,\n",
        "                      low_predictions,\n",
        "                      horizon=horizon,\n",
        "                      forecast=forecast,\n",
        "                      ts=ts,\n",
        "                      ts_test=ts_test,\n",
        "                      trend_test=trend_test,\n",
        "                      regim = 'quantile',\n",
        "                      plot_history = True,\n",
        "                      plot_up_int = True,\n",
        "                      plot_low_int = True,\n",
        "                      plot_trend = True,\n",
        "                      plot_forecast = True,\n",
        "                      plot_upper_train = True,\n",
        "                      plot_lower_train = True,\n",
        "                      plot_ts_test = True):\n",
        "    if regim == 'quantile':\n",
        "        up_res= quantile_maker(quantile = 0.1, arrays = up_predictions)['up']\n",
        "        low_res= quantile_maker(quantile = 0.1, arrays = low_predictions)['low']\n",
        "    if regim == 'mean':\n",
        "        up_res = mean_maker(arrays = up_predictions)\n",
        "        low_res = mean_maker(arrays = low_predictions)\n",
        "    if regim == 'median':\n",
        "        up_res = median_maker(arrays = up_predictions)\n",
        "        low_res = median_maker(arrays = low_predictions)\n",
        "    if regim == 'absolute_bounds':\n",
        "        up_res = absolute_maker(arrays = up_predictions)['up']\n",
        "        low_res = absolute_maker(arrays = low_predictions)['low']\n",
        "    if regim == 'truncated_mean':\n",
        "        up_res = truncated_mean_maker(arrays = up_predictions)\n",
        "        low_res = truncated_mean_maker(arrays = low_predictions)\n",
        "    \n",
        "    up = np.maximum(up_res,forecast)  \n",
        "    low = np.minimum(low_res,forecast)\n",
        "\n",
        "    r = range(1,horizon+1)\n",
        "    fig,ax = plt.subplots()\n",
        "    fig.set(figwidth = 15,figheight = 7)\n",
        "    for i in range(len(up_predictions)):\n",
        "        if i==0:\n",
        "            if plot_upper_train:\n",
        "                ax.plot(r,up_predictions[i], color = 'yellow',label = 'preds for up train')\n",
        "            if plot_lower_train:\n",
        "                ax.plot(r,low_predictions[i], color = 'pink',label = 'preds for low train')\n",
        "        else:\n",
        "            if plot_upper_train:\n",
        "                ax.plot(r,up_predictions[i], color = 'yellow')\n",
        "            if plot_lower_train:\n",
        "                ax.plot(r,low_predictions[i], color = 'pink')    \n",
        "    if plot_up_int:\n",
        "        ax.plot(r,up, color = 'blue', label  = 'Up',marker= '.')\n",
        "    if plot_low_int:\n",
        "        ax.plot(r,low, color = 'green', label  = 'Low',marker = '.')\n",
        "    if plot_forecast:\n",
        "        ax.plot(r,forecast, color = 'red', label = 'Forecast')\n",
        "    if ts_test is not None:\n",
        "        if plot_ts_test:\n",
        "            ax.plot(r,ts_test,color = 'black', label = 'Actual TS')\n",
        "    if trend_test is not None:\n",
        "        if plot_trend:\n",
        "            ax.plot(r, trend_test, color = 'magenta', label = 'True Trend')\n",
        "    plt.legend()\n",
        "    if plot_history:\n",
        "        fig1,ax1 = plt.subplots()\n",
        "        \n",
        "        fig1.set(figwidth = 15,figheight = 7)\n",
        "       \n",
        "        train_range = range(len(ts))\n",
        "        test_range = range(len(ts),len(ts)+horizon)\n",
        "        \n",
        "        ax1.plot(train_range,ts, color = 'gray',label = 'Train ts')\n",
        "        ax1.plot(test_range, up,color = 'blue', label = 'Up')\n",
        "        ax1.plot(test_range, low,color = 'green', label = 'Low')\n",
        "        ax1.plot(test_range,forecast, color = 'red', label = 'Forecast')\n",
        "        if ts_test is not None:\n",
        "            ax1.plot(test_range, ts_test,color = 'black', label = 'Actual TS')  \n",
        "        if trend_test is not None:\n",
        "            ax1.plot(test_range, trend_test, color = 'magenta', label = 'True Trend')\n",
        "        plt.legend();"
      ],
      "metadata": {
        "id": "SvUS1eNu5yK3"
      },
      "execution_count": 13,
      "outputs": []
    },
    {
      "cell_type": "code",
      "source": [
        "x = conf_int_maker(model = model, number_models =7,pipelines_show = False)"
      ],
      "metadata": {
        "colab": {
          "base_uri": "https://localhost:8080/"
        },
        "id": "VZrcnhUHlc8G",
        "outputId": "af92fcc4-1927-4ffc-9853-6b4e26bf3ef5"
      },
      "execution_count": 14,
      "outputs": [
        {
          "output_type": "stream",
          "name": "stderr",
          "text": [
            "INFO:root:PipelineTuner - Hyperparameters optimization start\n"
          ]
        },
        {
          "output_type": "stream",
          "name": "stdout",
          "text": [
            "Fitting pipeline №1\n",
            "2022-11-22 16:26:41,236 - PipelineTuner - Hyperparameters optimization start\n",
            "  0%|          | 0/10 [00:00<?, ?trial/s, best loss=?]"
          ]
        },
        {
          "output_type": "stream",
          "name": "stderr",
          "text": [
            "INFO:hyperopt.tpe:build_posterior_wrapper took 0.009593 seconds\n"
          ]
        },
        {
          "output_type": "stream",
          "name": "stdout",
          "text": [
            "2022-11-22 16:26:42,133 - build_posterior_wrapper took 0.009593 seconds\n"
          ]
        },
        {
          "output_type": "stream",
          "name": "stderr",
          "text": [
            "INFO:hyperopt.tpe:TPE using 0 trials\n"
          ]
        },
        {
          "output_type": "stream",
          "name": "stdout",
          "text": [
            "2022-11-22 16:26:42,148 - TPE using 0 trials\n",
            " 10%|█         | 1/10 [00:01<00:16,  1.88s/trial, best loss: 0.24155421754448153]"
          ]
        },
        {
          "output_type": "stream",
          "name": "stderr",
          "text": [
            "INFO:hyperopt.tpe:build_posterior_wrapper took 0.007830 seconds\n"
          ]
        },
        {
          "output_type": "stream",
          "name": "stdout",
          "text": [
            "2022-11-22 16:26:44,010 - build_posterior_wrapper took 0.007830 seconds\n"
          ]
        },
        {
          "output_type": "stream",
          "name": "stderr",
          "text": [
            "INFO:hyperopt.tpe:TPE using 1/1 trials with best loss 0.241554\n"
          ]
        },
        {
          "output_type": "stream",
          "name": "stdout",
          "text": [
            "2022-11-22 16:26:44,017 - TPE using 1/1 trials with best loss 0.241554\n",
            " 20%|██        | 2/10 [00:04<00:16,  2.08s/trial, best loss: 0.23211200161131118]"
          ]
        },
        {
          "output_type": "stream",
          "name": "stderr",
          "text": [
            "INFO:hyperopt.tpe:build_posterior_wrapper took 0.007753 seconds\n"
          ]
        },
        {
          "output_type": "stream",
          "name": "stdout",
          "text": [
            "2022-11-22 16:26:46,224 - build_posterior_wrapper took 0.007753 seconds\n"
          ]
        },
        {
          "output_type": "stream",
          "name": "stderr",
          "text": [
            "INFO:hyperopt.tpe:TPE using 2/2 trials with best loss 0.232112\n"
          ]
        },
        {
          "output_type": "stream",
          "name": "stdout",
          "text": [
            "2022-11-22 16:26:46,233 - TPE using 2/2 trials with best loss 0.232112\n",
            " 30%|███       | 3/10 [00:06<00:14,  2.12s/trial, best loss: 0.21127287345731371]"
          ]
        },
        {
          "output_type": "stream",
          "name": "stderr",
          "text": [
            "INFO:hyperopt.tpe:build_posterior_wrapper took 0.007930 seconds\n"
          ]
        },
        {
          "output_type": "stream",
          "name": "stdout",
          "text": [
            "2022-11-22 16:26:48,394 - build_posterior_wrapper took 0.007930 seconds\n"
          ]
        },
        {
          "output_type": "stream",
          "name": "stderr",
          "text": [
            "INFO:hyperopt.tpe:TPE using 3/3 trials with best loss 0.211273\n"
          ]
        },
        {
          "output_type": "stream",
          "name": "stdout",
          "text": [
            "2022-11-22 16:26:48,400 - TPE using 3/3 trials with best loss 0.211273\n",
            " 40%|████      | 4/10 [00:06<00:09,  1.51s/trial, best loss: 0.21127287345731371]"
          ]
        },
        {
          "output_type": "stream",
          "name": "stderr",
          "text": [
            "INFO:hyperopt.tpe:build_posterior_wrapper took 0.008152 seconds\n"
          ]
        },
        {
          "output_type": "stream",
          "name": "stdout",
          "text": [
            "2022-11-22 16:26:48,972 - build_posterior_wrapper took 0.008152 seconds\n"
          ]
        },
        {
          "output_type": "stream",
          "name": "stderr",
          "text": [
            "INFO:hyperopt.tpe:TPE using 4/4 trials with best loss 0.211273\n"
          ]
        },
        {
          "output_type": "stream",
          "name": "stdout",
          "text": [
            "2022-11-22 16:26:48,977 - TPE using 4/4 trials with best loss 0.211273\n",
            " 50%|█████     | 5/10 [00:08<00:07,  1.53s/trial, best loss: 0.21127287345731371]"
          ]
        },
        {
          "output_type": "stream",
          "name": "stderr",
          "text": [
            "INFO:hyperopt.tpe:build_posterior_wrapper took 0.007926 seconds\n"
          ]
        },
        {
          "output_type": "stream",
          "name": "stdout",
          "text": [
            "2022-11-22 16:26:50,531 - build_posterior_wrapper took 0.007926 seconds\n"
          ]
        },
        {
          "output_type": "stream",
          "name": "stderr",
          "text": [
            "INFO:hyperopt.tpe:TPE using 5/5 trials with best loss 0.211273\n"
          ]
        },
        {
          "output_type": "stream",
          "name": "stdout",
          "text": [
            "2022-11-22 16:26:50,537 - TPE using 5/5 trials with best loss 0.211273\n",
            " 60%|██████    | 6/10 [00:08<00:04,  1.19s/trial, best loss: 0.21127287345731371]"
          ]
        },
        {
          "output_type": "stream",
          "name": "stderr",
          "text": [
            "INFO:hyperopt.tpe:build_posterior_wrapper took 0.007801 seconds\n"
          ]
        },
        {
          "output_type": "stream",
          "name": "stdout",
          "text": [
            "2022-11-22 16:26:51,065 - build_posterior_wrapper took 0.007801 seconds\n"
          ]
        },
        {
          "output_type": "stream",
          "name": "stderr",
          "text": [
            "INFO:hyperopt.tpe:TPE using 6/6 trials with best loss 0.211273\n"
          ]
        },
        {
          "output_type": "stream",
          "name": "stdout",
          "text": [
            "2022-11-22 16:26:51,076 - TPE using 6/6 trials with best loss 0.211273\n",
            " 70%|███████   | 7/10 [00:09<00:03,  1.12s/trial, best loss: 0.21127287345731371]"
          ]
        },
        {
          "output_type": "stream",
          "name": "stderr",
          "text": [
            "INFO:hyperopt.tpe:build_posterior_wrapper took 0.008964 seconds\n"
          ]
        },
        {
          "output_type": "stream",
          "name": "stdout",
          "text": [
            "2022-11-22 16:26:52,049 - build_posterior_wrapper took 0.008964 seconds\n"
          ]
        },
        {
          "output_type": "stream",
          "name": "stderr",
          "text": [
            "INFO:hyperopt.tpe:TPE using 7/7 trials with best loss 0.211273\n"
          ]
        },
        {
          "output_type": "stream",
          "name": "stdout",
          "text": [
            "2022-11-22 16:26:52,060 - TPE using 7/7 trials with best loss 0.211273\n",
            " 80%|████████  | 8/10 [00:10<00:02,  1.06s/trial, best loss: 0.21127287345731371]"
          ]
        },
        {
          "output_type": "stream",
          "name": "stderr",
          "text": [
            "INFO:hyperopt.tpe:build_posterior_wrapper took 0.008064 seconds\n"
          ]
        },
        {
          "output_type": "stream",
          "name": "stdout",
          "text": [
            "2022-11-22 16:26:52,982 - build_posterior_wrapper took 0.008064 seconds\n"
          ]
        },
        {
          "output_type": "stream",
          "name": "stderr",
          "text": [
            "INFO:hyperopt.tpe:TPE using 8/8 trials with best loss 0.211273\n"
          ]
        },
        {
          "output_type": "stream",
          "name": "stdout",
          "text": [
            "2022-11-22 16:26:52,993 - TPE using 8/8 trials with best loss 0.211273\n",
            " 90%|█████████ | 9/10 [00:12<00:01,  1.21s/trial, best loss: 0.21127287345731371]"
          ]
        },
        {
          "output_type": "stream",
          "name": "stderr",
          "text": [
            "INFO:hyperopt.tpe:build_posterior_wrapper took 0.007651 seconds\n"
          ]
        },
        {
          "output_type": "stream",
          "name": "stdout",
          "text": [
            "2022-11-22 16:26:54,519 - build_posterior_wrapper took 0.007651 seconds\n"
          ]
        },
        {
          "output_type": "stream",
          "name": "stderr",
          "text": [
            "INFO:hyperopt.tpe:TPE using 9/9 trials with best loss 0.211273\n"
          ]
        },
        {
          "output_type": "stream",
          "name": "stdout",
          "text": [
            "2022-11-22 16:26:54,527 - TPE using 9/9 trials with best loss 0.211273\n",
            "100%|██████████| 10/10 [00:13<00:00,  1.38s/trial, best loss: 0.21127287345731371]\n"
          ]
        },
        {
          "output_type": "stream",
          "name": "stderr",
          "text": [
            "INFO:root:PipelineTuner - Hyperparameters optimization finished\n"
          ]
        },
        {
          "output_type": "stream",
          "name": "stdout",
          "text": [
            "2022-11-22 16:26:58,216 - PipelineTuner - Hyperparameters optimization finished\n"
          ]
        },
        {
          "output_type": "stream",
          "name": "stderr",
          "text": [
            "INFO:root:PipelineTuner - Return tuned pipeline due to the fact that obtained metric 0.211 equal or better than initial (+ 5% deviation) 0.235\n"
          ]
        },
        {
          "output_type": "stream",
          "name": "stdout",
          "text": [
            "2022-11-22 16:26:58,228 - PipelineTuner - Return tuned pipeline due to the fact that obtained metric 0.211 equal or better than initial (+ 5% deviation) 0.235\n"
          ]
        },
        {
          "output_type": "stream",
          "name": "stderr",
          "text": [
            "INFO:root:PipelineTuner - Hyperparameters optimization start\n"
          ]
        },
        {
          "output_type": "stream",
          "name": "stdout",
          "text": [
            "2022-11-22 16:26:59,349 - PipelineTuner - Hyperparameters optimization start\n",
            "  0%|          | 0/10 [00:00<?, ?trial/s, best loss=?]"
          ]
        },
        {
          "output_type": "stream",
          "name": "stderr",
          "text": [
            "INFO:hyperopt.tpe:build_posterior_wrapper took 0.010741 seconds\n"
          ]
        },
        {
          "output_type": "stream",
          "name": "stdout",
          "text": [
            "2022-11-22 16:27:01,906 - build_posterior_wrapper took 0.010741 seconds\n"
          ]
        },
        {
          "output_type": "stream",
          "name": "stderr",
          "text": [
            "INFO:hyperopt.tpe:TPE using 0 trials\n"
          ]
        },
        {
          "output_type": "stream",
          "name": "stdout",
          "text": [
            "2022-11-22 16:27:01,917 - TPE using 0 trials\n",
            " 10%|█         | 1/10 [00:02<00:26,  2.95s/trial, best loss: 0.16348474444735905]"
          ]
        },
        {
          "output_type": "stream",
          "name": "stderr",
          "text": [
            "INFO:hyperopt.tpe:build_posterior_wrapper took 0.011579 seconds\n"
          ]
        },
        {
          "output_type": "stream",
          "name": "stdout",
          "text": [
            "2022-11-22 16:27:04,866 - build_posterior_wrapper took 0.011579 seconds\n"
          ]
        },
        {
          "output_type": "stream",
          "name": "stderr",
          "text": [
            "INFO:hyperopt.tpe:TPE using 1/1 trials with best loss 0.163485\n"
          ]
        },
        {
          "output_type": "stream",
          "name": "stdout",
          "text": [
            "2022-11-22 16:27:04,879 - TPE using 1/1 trials with best loss 0.163485\n",
            " 20%|██        | 2/10 [00:04<00:15,  1.91s/trial, best loss: 0.16348474444735905]"
          ]
        },
        {
          "output_type": "stream",
          "name": "stderr",
          "text": [
            "INFO:hyperopt.tpe:build_posterior_wrapper took 0.009250 seconds\n"
          ]
        },
        {
          "output_type": "stream",
          "name": "stdout",
          "text": [
            "2022-11-22 16:27:06,045 - build_posterior_wrapper took 0.009250 seconds\n"
          ]
        },
        {
          "output_type": "stream",
          "name": "stderr",
          "text": [
            "INFO:hyperopt.tpe:TPE using 2/2 trials with best loss 0.163485\n"
          ]
        },
        {
          "output_type": "stream",
          "name": "stdout",
          "text": [
            "2022-11-22 16:27:06,053 - TPE using 2/2 trials with best loss 0.163485\n",
            " 30%|███       | 3/10 [00:05<00:13,  1.88s/trial, best loss: 0.16348474444735905]"
          ]
        },
        {
          "output_type": "stream",
          "name": "stderr",
          "text": [
            "INFO:hyperopt.tpe:build_posterior_wrapper took 0.013990 seconds\n"
          ]
        },
        {
          "output_type": "stream",
          "name": "stdout",
          "text": [
            "2022-11-22 16:27:07,884 - build_posterior_wrapper took 0.013990 seconds\n"
          ]
        },
        {
          "output_type": "stream",
          "name": "stderr",
          "text": [
            "INFO:hyperopt.tpe:TPE using 3/3 trials with best loss 0.163485\n"
          ]
        },
        {
          "output_type": "stream",
          "name": "stdout",
          "text": [
            "2022-11-22 16:27:07,891 - TPE using 3/3 trials with best loss 0.163485\n",
            " 40%|████      | 4/10 [00:06<00:08,  1.42s/trial, best loss: 0.16348474444735905]"
          ]
        },
        {
          "output_type": "stream",
          "name": "stderr",
          "text": [
            "INFO:hyperopt.tpe:build_posterior_wrapper took 0.008030 seconds\n"
          ]
        },
        {
          "output_type": "stream",
          "name": "stdout",
          "text": [
            "2022-11-22 16:27:08,585 - build_posterior_wrapper took 0.008030 seconds\n"
          ]
        },
        {
          "output_type": "stream",
          "name": "stderr",
          "text": [
            "INFO:hyperopt.tpe:TPE using 4/4 trials with best loss 0.163485\n"
          ]
        },
        {
          "output_type": "stream",
          "name": "stdout",
          "text": [
            "2022-11-22 16:27:08,592 - TPE using 4/4 trials with best loss 0.163485\n",
            " 50%|█████     | 5/10 [00:07<00:05,  1.15s/trial, best loss: 0.16348474444735905]"
          ]
        },
        {
          "output_type": "stream",
          "name": "stderr",
          "text": [
            "INFO:hyperopt.tpe:build_posterior_wrapper took 0.008257 seconds\n"
          ]
        },
        {
          "output_type": "stream",
          "name": "stdout",
          "text": [
            "2022-11-22 16:27:09,272 - build_posterior_wrapper took 0.008257 seconds\n"
          ]
        },
        {
          "output_type": "stream",
          "name": "stderr",
          "text": [
            "INFO:hyperopt.tpe:TPE using 5/5 trials with best loss 0.163485\n"
          ]
        },
        {
          "output_type": "stream",
          "name": "stdout",
          "text": [
            "2022-11-22 16:27:09,279 - TPE using 5/5 trials with best loss 0.163485\n",
            " 60%|██████    | 6/10 [00:08<00:05,  1.25s/trial, best loss: 0.16348474444735905]"
          ]
        },
        {
          "output_type": "stream",
          "name": "stderr",
          "text": [
            "INFO:hyperopt.tpe:build_posterior_wrapper took 0.009468 seconds\n"
          ]
        },
        {
          "output_type": "stream",
          "name": "stdout",
          "text": [
            "2022-11-22 16:27:10,724 - build_posterior_wrapper took 0.009468 seconds\n"
          ]
        },
        {
          "output_type": "stream",
          "name": "stderr",
          "text": [
            "INFO:hyperopt.tpe:TPE using 6/6 trials with best loss 0.163485\n"
          ]
        },
        {
          "output_type": "stream",
          "name": "stdout",
          "text": [
            "2022-11-22 16:27:10,730 - TPE using 6/6 trials with best loss 0.163485\n",
            " 70%|███████   | 7/10 [00:10<00:04,  1.38s/trial, best loss: 0.16348474444735905]"
          ]
        },
        {
          "output_type": "stream",
          "name": "stderr",
          "text": [
            "INFO:hyperopt.tpe:build_posterior_wrapper took 0.009584 seconds\n"
          ]
        },
        {
          "output_type": "stream",
          "name": "stdout",
          "text": [
            "2022-11-22 16:27:12,378 - build_posterior_wrapper took 0.009584 seconds\n"
          ]
        },
        {
          "output_type": "stream",
          "name": "stderr",
          "text": [
            "INFO:hyperopt.tpe:TPE using 7/7 trials with best loss 0.163485\n"
          ]
        },
        {
          "output_type": "stream",
          "name": "stdout",
          "text": [
            "2022-11-22 16:27:12,384 - TPE using 7/7 trials with best loss 0.163485\n",
            " 80%|████████  | 8/10 [00:11<00:02,  1.38s/trial, best loss: 0.16348474444735905]"
          ]
        },
        {
          "output_type": "stream",
          "name": "stderr",
          "text": [
            "INFO:hyperopt.tpe:build_posterior_wrapper took 0.011930 seconds\n"
          ]
        },
        {
          "output_type": "stream",
          "name": "stdout",
          "text": [
            "2022-11-22 16:27:13,752 - build_posterior_wrapper took 0.011930 seconds\n"
          ]
        },
        {
          "output_type": "stream",
          "name": "stderr",
          "text": [
            "INFO:hyperopt.tpe:TPE using 8/8 trials with best loss 0.163485\n"
          ]
        },
        {
          "output_type": "stream",
          "name": "stdout",
          "text": [
            "2022-11-22 16:27:13,766 - TPE using 8/8 trials with best loss 0.163485\n",
            " 90%|█████████ | 9/10 [00:13<00:01,  1.41s/trial, best loss: 0.16348474444735905]"
          ]
        },
        {
          "output_type": "stream",
          "name": "stderr",
          "text": [
            "INFO:hyperopt.tpe:build_posterior_wrapper took 0.008564 seconds\n"
          ]
        },
        {
          "output_type": "stream",
          "name": "stdout",
          "text": [
            "2022-11-22 16:27:15,219 - build_posterior_wrapper took 0.008564 seconds\n"
          ]
        },
        {
          "output_type": "stream",
          "name": "stderr",
          "text": [
            "INFO:hyperopt.tpe:TPE using 9/9 trials with best loss 0.163485\n"
          ]
        },
        {
          "output_type": "stream",
          "name": "stdout",
          "text": [
            "2022-11-22 16:27:15,231 - TPE using 9/9 trials with best loss 0.163485\n",
            "100%|██████████| 10/10 [00:14<00:00,  1.49s/trial, best loss: 0.16348474444735905]\n"
          ]
        },
        {
          "output_type": "stream",
          "name": "stderr",
          "text": [
            "INFO:root:PipelineTuner - Hyperparameters optimization finished\n"
          ]
        },
        {
          "output_type": "stream",
          "name": "stdout",
          "text": [
            "2022-11-22 16:27:19,499 - PipelineTuner - Hyperparameters optimization finished\n"
          ]
        },
        {
          "output_type": "stream",
          "name": "stderr",
          "text": [
            "INFO:root:PipelineTuner - Return tuned pipeline due to the fact that obtained metric 0.163 equal or better than initial (+ 5% deviation) 0.171\n"
          ]
        },
        {
          "output_type": "stream",
          "name": "stdout",
          "text": [
            "2022-11-22 16:27:19,507 - PipelineTuner - Return tuned pipeline due to the fact that obtained metric 0.163 equal or better than initial (+ 5% deviation) 0.171\n"
          ]
        },
        {
          "output_type": "stream",
          "name": "stderr",
          "text": [
            "INFO:root:PipelineTuner - Hyperparameters optimization start\n"
          ]
        },
        {
          "output_type": "stream",
          "name": "stdout",
          "text": [
            "Fitting pipeline №2\n",
            "2022-11-22 16:27:20,763 - PipelineTuner - Hyperparameters optimization start\n",
            "  0%|          | 0/10 [00:00<?, ?trial/s, best loss=?]"
          ]
        },
        {
          "output_type": "stream",
          "name": "stderr",
          "text": [
            "INFO:hyperopt.tpe:build_posterior_wrapper took 0.007831 seconds\n"
          ]
        },
        {
          "output_type": "stream",
          "name": "stdout",
          "text": [
            "2022-11-22 16:27:34,423 - build_posterior_wrapper took 0.007831 seconds\n"
          ]
        },
        {
          "output_type": "stream",
          "name": "stderr",
          "text": [
            "INFO:hyperopt.tpe:TPE using 0 trials\n"
          ]
        },
        {
          "output_type": "stream",
          "name": "stdout",
          "text": [
            "2022-11-22 16:27:34,428 - TPE using 0 trials\n",
            " 10%|█         | 1/10 [00:11<01:47, 11.95s/trial, best loss: 0.2415967376891524]"
          ]
        },
        {
          "output_type": "stream",
          "name": "stderr",
          "text": [
            "INFO:hyperopt.tpe:build_posterior_wrapper took 0.011077 seconds\n"
          ]
        },
        {
          "output_type": "stream",
          "name": "stdout",
          "text": [
            "2022-11-22 16:27:46,378 - build_posterior_wrapper took 0.011077 seconds\n"
          ]
        },
        {
          "output_type": "stream",
          "name": "stderr",
          "text": [
            "INFO:hyperopt.tpe:TPE using 1/1 trials with best loss 0.241597\n"
          ]
        },
        {
          "output_type": "stream",
          "name": "stdout",
          "text": [
            "2022-11-22 16:27:46,385 - TPE using 1/1 trials with best loss 0.241597\n",
            " 20%|██        | 2/10 [00:24<01:36, 12.03s/trial, best loss: 0.2415967376891524]"
          ]
        },
        {
          "output_type": "stream",
          "name": "stderr",
          "text": [
            "INFO:hyperopt.tpe:build_posterior_wrapper took 0.012355 seconds\n"
          ]
        },
        {
          "output_type": "stream",
          "name": "stdout",
          "text": [
            "2022-11-22 16:27:58,465 - build_posterior_wrapper took 0.012355 seconds\n"
          ]
        },
        {
          "output_type": "stream",
          "name": "stderr",
          "text": [
            "INFO:hyperopt.tpe:TPE using 2/2 trials with best loss 0.241597\n"
          ]
        },
        {
          "output_type": "stream",
          "name": "stdout",
          "text": [
            "2022-11-22 16:27:58,475 - TPE using 2/2 trials with best loss 0.241597\n",
            " 30%|███       | 3/10 [00:37<01:29, 12.78s/trial, best loss: 0.2415967376891524]"
          ]
        },
        {
          "output_type": "stream",
          "name": "stderr",
          "text": [
            "INFO:hyperopt.tpe:build_posterior_wrapper took 0.009118 seconds\n"
          ]
        },
        {
          "output_type": "stream",
          "name": "stdout",
          "text": [
            "2022-11-22 16:28:12,125 - build_posterior_wrapper took 0.009118 seconds\n"
          ]
        },
        {
          "output_type": "stream",
          "name": "stderr",
          "text": [
            "INFO:hyperopt.tpe:TPE using 3/3 trials with best loss 0.241597\n"
          ]
        },
        {
          "output_type": "stream",
          "name": "stdout",
          "text": [
            "2022-11-22 16:28:12,132 - TPE using 3/3 trials with best loss 0.241597\n",
            " 40%|████      | 4/10 [00:47<01:09, 11.57s/trial, best loss: 0.23878533375769131]"
          ]
        },
        {
          "output_type": "stream",
          "name": "stderr",
          "text": [
            "INFO:hyperopt.tpe:build_posterior_wrapper took 0.006302 seconds\n"
          ]
        },
        {
          "output_type": "stream",
          "name": "stdout",
          "text": [
            "2022-11-22 16:28:21,845 - build_posterior_wrapper took 0.006302 seconds\n"
          ]
        },
        {
          "output_type": "stream",
          "name": "stderr",
          "text": [
            "INFO:hyperopt.tpe:TPE using 4/4 trials with best loss 0.238785\n"
          ]
        },
        {
          "output_type": "stream",
          "name": "stdout",
          "text": [
            "2022-11-22 16:28:21,851 - TPE using 4/4 trials with best loss 0.238785\n",
            " 50%|█████     | 5/10 [00:59<00:59, 11.82s/trial, best loss: 0.23878533375769131]"
          ]
        },
        {
          "output_type": "stream",
          "name": "stderr",
          "text": [
            "INFO:hyperopt.tpe:build_posterior_wrapper took 0.012599 seconds\n"
          ]
        },
        {
          "output_type": "stream",
          "name": "stdout",
          "text": [
            "2022-11-22 16:28:34,099 - build_posterior_wrapper took 0.012599 seconds\n"
          ]
        },
        {
          "output_type": "stream",
          "name": "stderr",
          "text": [
            "INFO:hyperopt.tpe:TPE using 5/5 trials with best loss 0.238785\n"
          ]
        },
        {
          "output_type": "stream",
          "name": "stdout",
          "text": [
            "2022-11-22 16:28:34,108 - TPE using 5/5 trials with best loss 0.238785\n",
            " 60%|██████    | 6/10 [01:16<00:53, 13.49s/trial, best loss: 0.23878533375769131]"
          ]
        },
        {
          "output_type": "stream",
          "name": "stderr",
          "text": [
            "INFO:hyperopt.tpe:build_posterior_wrapper took 0.008876 seconds\n"
          ]
        },
        {
          "output_type": "stream",
          "name": "stdout",
          "text": [
            "2022-11-22 16:28:50,848 - build_posterior_wrapper took 0.008876 seconds\n"
          ]
        },
        {
          "output_type": "stream",
          "name": "stderr",
          "text": [
            "INFO:hyperopt.tpe:TPE using 6/6 trials with best loss 0.238785\n"
          ]
        },
        {
          "output_type": "stream",
          "name": "stdout",
          "text": [
            "2022-11-22 16:28:50,853 - TPE using 6/6 trials with best loss 0.238785\n",
            " 70%|███████   | 7/10 [01:32<00:42, 14.32s/trial, best loss: 0.23878533375769131]"
          ]
        },
        {
          "output_type": "stream",
          "name": "stderr",
          "text": [
            "INFO:hyperopt.tpe:build_posterior_wrapper took 0.010196 seconds\n"
          ]
        },
        {
          "output_type": "stream",
          "name": "stdout",
          "text": [
            "2022-11-22 16:29:06,874 - build_posterior_wrapper took 0.010196 seconds\n"
          ]
        },
        {
          "output_type": "stream",
          "name": "stderr",
          "text": [
            "INFO:hyperopt.tpe:TPE using 7/7 trials with best loss 0.238785\n"
          ]
        },
        {
          "output_type": "stream",
          "name": "stdout",
          "text": [
            "2022-11-22 16:29:06,881 - TPE using 7/7 trials with best loss 0.238785\n",
            " 80%|████████  | 8/10 [01:44<00:27, 13.53s/trial, best loss: 0.2053474330337943] "
          ]
        },
        {
          "output_type": "stream",
          "name": "stderr",
          "text": [
            "INFO:hyperopt.tpe:build_posterior_wrapper took 0.009566 seconds\n"
          ]
        },
        {
          "output_type": "stream",
          "name": "stdout",
          "text": [
            "2022-11-22 16:29:18,712 - build_posterior_wrapper took 0.009566 seconds\n"
          ]
        },
        {
          "output_type": "stream",
          "name": "stderr",
          "text": [
            "INFO:hyperopt.tpe:TPE using 8/8 trials with best loss 0.205347\n"
          ]
        },
        {
          "output_type": "stream",
          "name": "stdout",
          "text": [
            "2022-11-22 16:29:18,718 - TPE using 8/8 trials with best loss 0.205347\n",
            " 90%|█████████ | 9/10 [01:55<00:12, 12.89s/trial, best loss: 0.2053474330337943]"
          ]
        },
        {
          "output_type": "stream",
          "name": "stderr",
          "text": [
            "INFO:hyperopt.tpe:build_posterior_wrapper took 0.009511 seconds\n"
          ]
        },
        {
          "output_type": "stream",
          "name": "stdout",
          "text": [
            "2022-11-22 16:29:30,201 - build_posterior_wrapper took 0.009511 seconds\n"
          ]
        },
        {
          "output_type": "stream",
          "name": "stderr",
          "text": [
            "INFO:hyperopt.tpe:TPE using 9/9 trials with best loss 0.205347\n"
          ]
        },
        {
          "output_type": "stream",
          "name": "stdout",
          "text": [
            "2022-11-22 16:29:30,207 - TPE using 9/9 trials with best loss 0.205347\n",
            "100%|██████████| 10/10 [02:00<00:00, 12.08s/trial, best loss: 0.2053474330337943]\n"
          ]
        },
        {
          "output_type": "stream",
          "name": "stderr",
          "text": [
            "INFO:root:PipelineTuner - Hyperparameters optimization finished\n"
          ]
        },
        {
          "output_type": "stream",
          "name": "stdout",
          "text": [
            "2022-11-22 16:29:47,287 - PipelineTuner - Hyperparameters optimization finished\n"
          ]
        },
        {
          "output_type": "stream",
          "name": "stderr",
          "text": [
            "INFO:root:PipelineTuner - Return tuned pipeline due to the fact that obtained metric 0.205 equal or better than initial (+ 5% deviation) 0.233\n"
          ]
        },
        {
          "output_type": "stream",
          "name": "stdout",
          "text": [
            "2022-11-22 16:29:47,296 - PipelineTuner - Return tuned pipeline due to the fact that obtained metric 0.205 equal or better than initial (+ 5% deviation) 0.233\n"
          ]
        },
        {
          "output_type": "stream",
          "name": "stderr",
          "text": [
            "INFO:root:PipelineTuner - Hyperparameters optimization start\n"
          ]
        },
        {
          "output_type": "stream",
          "name": "stdout",
          "text": [
            "2022-11-22 16:29:48,128 - PipelineTuner - Hyperparameters optimization start\n",
            "  0%|          | 0/10 [00:00<?, ?trial/s, best loss=?]"
          ]
        },
        {
          "output_type": "stream",
          "name": "stderr",
          "text": [
            "INFO:hyperopt.tpe:build_posterior_wrapper took 0.008421 seconds\n"
          ]
        },
        {
          "output_type": "stream",
          "name": "stdout",
          "text": [
            "2022-11-22 16:30:01,967 - build_posterior_wrapper took 0.008421 seconds\n"
          ]
        },
        {
          "output_type": "stream",
          "name": "stderr",
          "text": [
            "INFO:hyperopt.tpe:TPE using 0 trials\n"
          ]
        },
        {
          "output_type": "stream",
          "name": "stdout",
          "text": [
            "2022-11-22 16:30:01,972 - TPE using 0 trials\n",
            " 10%|█         | 1/10 [00:07<01:07,  7.45s/trial, best loss: 0.19525422911873405]"
          ]
        },
        {
          "output_type": "stream",
          "name": "stderr",
          "text": [
            "INFO:hyperopt.tpe:build_posterior_wrapper took 0.011599 seconds\n"
          ]
        },
        {
          "output_type": "stream",
          "name": "stdout",
          "text": [
            "2022-11-22 16:30:09,420 - build_posterior_wrapper took 0.011599 seconds\n"
          ]
        },
        {
          "output_type": "stream",
          "name": "stderr",
          "text": [
            "INFO:hyperopt.tpe:TPE using 1/1 trials with best loss 0.195254\n"
          ]
        },
        {
          "output_type": "stream",
          "name": "stdout",
          "text": [
            "2022-11-22 16:30:09,428 - TPE using 1/1 trials with best loss 0.195254\n",
            " 20%|██        | 2/10 [00:15<01:02,  7.84s/trial, best loss: 0.1540591025161272] "
          ]
        },
        {
          "output_type": "stream",
          "name": "stderr",
          "text": [
            "INFO:hyperopt.tpe:build_posterior_wrapper took 0.007780 seconds\n"
          ]
        },
        {
          "output_type": "stream",
          "name": "stdout",
          "text": [
            "2022-11-22 16:30:17,531 - build_posterior_wrapper took 0.007780 seconds\n"
          ]
        },
        {
          "output_type": "stream",
          "name": "stderr",
          "text": [
            "INFO:hyperopt.tpe:TPE using 2/2 trials with best loss 0.154059\n"
          ]
        },
        {
          "output_type": "stream",
          "name": "stdout",
          "text": [
            "2022-11-22 16:30:17,541 - TPE using 2/2 trials with best loss 0.154059\n",
            " 30%|███       | 3/10 [00:21<00:50,  7.17s/trial, best loss: 0.1540591025161272]"
          ]
        },
        {
          "output_type": "stream",
          "name": "stderr",
          "text": [
            "INFO:hyperopt.tpe:build_posterior_wrapper took 0.011697 seconds\n"
          ]
        },
        {
          "output_type": "stream",
          "name": "stdout",
          "text": [
            "2022-11-22 16:30:23,912 - build_posterior_wrapper took 0.011697 seconds\n"
          ]
        },
        {
          "output_type": "stream",
          "name": "stderr",
          "text": [
            "INFO:hyperopt.tpe:TPE using 3/3 trials with best loss 0.154059\n"
          ]
        },
        {
          "output_type": "stream",
          "name": "stdout",
          "text": [
            "2022-11-22 16:30:23,916 - TPE using 3/3 trials with best loss 0.154059\n",
            " 40%|████      | 4/10 [00:36<01:00, 10.13s/trial, best loss: 0.1540591025161272]"
          ]
        },
        {
          "output_type": "stream",
          "name": "stderr",
          "text": [
            "INFO:hyperopt.tpe:build_posterior_wrapper took 0.009846 seconds\n"
          ]
        },
        {
          "output_type": "stream",
          "name": "stdout",
          "text": [
            "2022-11-22 16:30:38,579 - build_posterior_wrapper took 0.009846 seconds\n"
          ]
        },
        {
          "output_type": "stream",
          "name": "stderr",
          "text": [
            "INFO:hyperopt.tpe:TPE using 4/4 trials with best loss 0.154059\n"
          ]
        },
        {
          "output_type": "stream",
          "name": "stdout",
          "text": [
            "2022-11-22 16:30:38,586 - TPE using 4/4 trials with best loss 0.154059\n",
            " 50%|█████     | 5/10 [00:42<00:42,  8.54s/trial, best loss: 0.1540591025161272]"
          ]
        },
        {
          "output_type": "stream",
          "name": "stderr",
          "text": [
            "INFO:hyperopt.tpe:build_posterior_wrapper took 0.006677 seconds\n"
          ]
        },
        {
          "output_type": "stream",
          "name": "stdout",
          "text": [
            "2022-11-22 16:30:44,284 - build_posterior_wrapper took 0.006677 seconds\n"
          ]
        },
        {
          "output_type": "stream",
          "name": "stderr",
          "text": [
            "INFO:hyperopt.tpe:TPE using 5/5 trials with best loss 0.154059\n"
          ]
        },
        {
          "output_type": "stream",
          "name": "stdout",
          "text": [
            "2022-11-22 16:30:44,291 - TPE using 5/5 trials with best loss 0.154059\n",
            " 60%|██████    | 6/10 [00:57<00:43, 10.84s/trial, best loss: 0.1540591025161272]"
          ]
        },
        {
          "output_type": "stream",
          "name": "stderr",
          "text": [
            "INFO:hyperopt.tpe:build_posterior_wrapper took 0.009715 seconds\n"
          ]
        },
        {
          "output_type": "stream",
          "name": "stdout",
          "text": [
            "2022-11-22 16:30:59,600 - build_posterior_wrapper took 0.009715 seconds\n"
          ]
        },
        {
          "output_type": "stream",
          "name": "stderr",
          "text": [
            "INFO:hyperopt.tpe:TPE using 6/6 trials with best loss 0.154059\n"
          ]
        },
        {
          "output_type": "stream",
          "name": "stdout",
          "text": [
            "2022-11-22 16:30:59,607 - TPE using 6/6 trials with best loss 0.154059\n",
            " 70%|███████   | 7/10 [01:20<00:44, 14.89s/trial, best loss: 0.1540591025161272]"
          ]
        },
        {
          "output_type": "stream",
          "name": "stderr",
          "text": [
            "INFO:hyperopt.tpe:build_posterior_wrapper took 0.010637 seconds\n"
          ]
        },
        {
          "output_type": "stream",
          "name": "stdout",
          "text": [
            "2022-11-22 16:31:22,814 - build_posterior_wrapper took 0.010637 seconds\n"
          ]
        },
        {
          "output_type": "stream",
          "name": "stderr",
          "text": [
            "INFO:hyperopt.tpe:TPE using 7/7 trials with best loss 0.154059\n"
          ]
        },
        {
          "output_type": "stream",
          "name": "stdout",
          "text": [
            "2022-11-22 16:31:22,822 - TPE using 7/7 trials with best loss 0.154059\n",
            " 80%|████████  | 8/10 [01:35<00:29, 14.66s/trial, best loss: 0.1540591025161272]"
          ]
        },
        {
          "output_type": "stream",
          "name": "stderr",
          "text": [
            "INFO:hyperopt.tpe:build_posterior_wrapper took 0.009878 seconds\n"
          ]
        },
        {
          "output_type": "stream",
          "name": "stdout",
          "text": [
            "2022-11-22 16:31:36,984 - build_posterior_wrapper took 0.009878 seconds\n"
          ]
        },
        {
          "output_type": "stream",
          "name": "stderr",
          "text": [
            "INFO:hyperopt.tpe:TPE using 8/8 trials with best loss 0.154059\n"
          ]
        },
        {
          "output_type": "stream",
          "name": "stdout",
          "text": [
            "2022-11-22 16:31:36,991 - TPE using 8/8 trials with best loss 0.154059\n",
            " 90%|█████████ | 9/10 [01:49<00:14, 14.49s/trial, best loss: 0.1540591025161272]"
          ]
        },
        {
          "output_type": "stream",
          "name": "stderr",
          "text": [
            "INFO:hyperopt.tpe:build_posterior_wrapper took 0.008537 seconds\n"
          ]
        },
        {
          "output_type": "stream",
          "name": "stdout",
          "text": [
            "2022-11-22 16:31:51,120 - build_posterior_wrapper took 0.008537 seconds\n"
          ]
        },
        {
          "output_type": "stream",
          "name": "stderr",
          "text": [
            "INFO:hyperopt.tpe:TPE using 9/9 trials with best loss 0.154059\n"
          ]
        },
        {
          "output_type": "stream",
          "name": "stdout",
          "text": [
            "2022-11-22 16:31:51,125 - TPE using 9/9 trials with best loss 0.154059\n",
            "100%|██████████| 10/10 [02:03<00:00, 12.34s/trial, best loss: 0.1540591025161272]\n"
          ]
        },
        {
          "output_type": "stream",
          "name": "stderr",
          "text": [
            "INFO:root:PipelineTuner - Hyperparameters optimization finished\n"
          ]
        },
        {
          "output_type": "stream",
          "name": "stdout",
          "text": [
            "2022-11-22 16:32:13,067 - PipelineTuner - Hyperparameters optimization finished\n"
          ]
        },
        {
          "output_type": "stream",
          "name": "stderr",
          "text": [
            "INFO:root:PipelineTuner - Return tuned pipeline due to the fact that obtained metric 0.154 equal or better than initial (+ 5% deviation) 0.169\n"
          ]
        },
        {
          "output_type": "stream",
          "name": "stdout",
          "text": [
            "2022-11-22 16:32:13,076 - PipelineTuner - Return tuned pipeline due to the fact that obtained metric 0.154 equal or better than initial (+ 5% deviation) 0.169\n"
          ]
        },
        {
          "output_type": "stream",
          "name": "stderr",
          "text": [
            "INFO:root:PipelineTuner - Hyperparameters optimization start\n"
          ]
        },
        {
          "output_type": "stream",
          "name": "stdout",
          "text": [
            "Fitting pipeline №3\n",
            "2022-11-22 16:32:13,759 - PipelineTuner - Hyperparameters optimization start\n",
            "  0%|          | 0/10 [00:00<?, ?trial/s, best loss=?]"
          ]
        },
        {
          "output_type": "stream",
          "name": "stderr",
          "text": [
            "INFO:hyperopt.tpe:build_posterior_wrapper took 0.010913 seconds\n"
          ]
        },
        {
          "output_type": "stream",
          "name": "stdout",
          "text": [
            "2022-11-22 16:32:14,592 - build_posterior_wrapper took 0.010913 seconds\n"
          ]
        },
        {
          "output_type": "stream",
          "name": "stderr",
          "text": [
            "INFO:hyperopt.tpe:TPE using 0 trials\n"
          ]
        },
        {
          "output_type": "stream",
          "name": "stdout",
          "text": [
            "2022-11-22 16:32:14,598 - TPE using 0 trials\n",
            " 10%|█         | 1/10 [00:00<00:06,  1.37trial/s, best loss: 0.25301032195382495]"
          ]
        },
        {
          "output_type": "stream",
          "name": "stderr",
          "text": [
            "INFO:hyperopt.tpe:build_posterior_wrapper took 0.009781 seconds\n"
          ]
        },
        {
          "output_type": "stream",
          "name": "stdout",
          "text": [
            "2022-11-22 16:32:15,324 - build_posterior_wrapper took 0.009781 seconds\n"
          ]
        },
        {
          "output_type": "stream",
          "name": "stderr",
          "text": [
            "INFO:hyperopt.tpe:TPE using 1/1 trials with best loss 0.253010\n"
          ]
        },
        {
          "output_type": "stream",
          "name": "stdout",
          "text": [
            "2022-11-22 16:32:15,331 - TPE using 1/1 trials with best loss 0.253010\n",
            " 20%|██        | 2/10 [00:02<00:09,  1.20s/trial, best loss: 0.22401406103966462]"
          ]
        },
        {
          "output_type": "stream",
          "name": "stderr",
          "text": [
            "INFO:hyperopt.tpe:build_posterior_wrapper took 0.008923 seconds\n"
          ]
        },
        {
          "output_type": "stream",
          "name": "stdout",
          "text": [
            "2022-11-22 16:32:16,853 - build_posterior_wrapper took 0.008923 seconds\n"
          ]
        },
        {
          "output_type": "stream",
          "name": "stderr",
          "text": [
            "INFO:hyperopt.tpe:TPE using 2/2 trials with best loss 0.224014\n"
          ]
        },
        {
          "output_type": "stream",
          "name": "stdout",
          "text": [
            "2022-11-22 16:32:16,859 - TPE using 2/2 trials with best loss 0.224014\n",
            " 30%|███       | 3/10 [00:03<00:08,  1.28s/trial, best loss: 0.21841040612920853]"
          ]
        },
        {
          "output_type": "stream",
          "name": "stderr",
          "text": [
            "INFO:hyperopt.tpe:build_posterior_wrapper took 0.008051 seconds\n"
          ]
        },
        {
          "output_type": "stream",
          "name": "stdout",
          "text": [
            "2022-11-22 16:32:18,235 - build_posterior_wrapper took 0.008051 seconds\n"
          ]
        },
        {
          "output_type": "stream",
          "name": "stderr",
          "text": [
            "INFO:hyperopt.tpe:TPE using 3/3 trials with best loss 0.218410\n"
          ]
        },
        {
          "output_type": "stream",
          "name": "stdout",
          "text": [
            "2022-11-22 16:32:18,251 - TPE using 3/3 trials with best loss 0.218410\n",
            " 40%|████      | 4/10 [00:04<00:06,  1.10s/trial, best loss: 0.21841040612920853]"
          ]
        },
        {
          "output_type": "stream",
          "name": "stderr",
          "text": [
            "INFO:hyperopt.tpe:build_posterior_wrapper took 0.015393 seconds\n"
          ]
        },
        {
          "output_type": "stream",
          "name": "stdout",
          "text": [
            "2022-11-22 16:32:19,055 - build_posterior_wrapper took 0.015393 seconds\n"
          ]
        },
        {
          "output_type": "stream",
          "name": "stderr",
          "text": [
            "INFO:hyperopt.tpe:TPE using 4/4 trials with best loss 0.218410\n"
          ]
        },
        {
          "output_type": "stream",
          "name": "stdout",
          "text": [
            "2022-11-22 16:32:19,068 - TPE using 4/4 trials with best loss 0.218410\n",
            " 50%|█████     | 5/10 [00:05<00:06,  1.25s/trial, best loss: 0.21841040612920853]"
          ]
        },
        {
          "output_type": "stream",
          "name": "stderr",
          "text": [
            "INFO:hyperopt.tpe:build_posterior_wrapper took 0.007979 seconds\n"
          ]
        },
        {
          "output_type": "stream",
          "name": "stdout",
          "text": [
            "2022-11-22 16:32:20,573 - build_posterior_wrapper took 0.007979 seconds\n"
          ]
        },
        {
          "output_type": "stream",
          "name": "stderr",
          "text": [
            "INFO:hyperopt.tpe:TPE using 5/5 trials with best loss 0.218410\n"
          ]
        },
        {
          "output_type": "stream",
          "name": "stdout",
          "text": [
            "2022-11-22 16:32:20,587 - TPE using 5/5 trials with best loss 0.218410\n",
            " 60%|██████    | 6/10 [00:06<00:04,  1.14s/trial, best loss: 0.21841040612920853]"
          ]
        },
        {
          "output_type": "stream",
          "name": "stderr",
          "text": [
            "INFO:hyperopt.tpe:build_posterior_wrapper took 0.008089 seconds\n"
          ]
        },
        {
          "output_type": "stream",
          "name": "stdout",
          "text": [
            "2022-11-22 16:32:21,494 - build_posterior_wrapper took 0.008089 seconds\n"
          ]
        },
        {
          "output_type": "stream",
          "name": "stderr",
          "text": [
            "INFO:hyperopt.tpe:TPE using 6/6 trials with best loss 0.218410\n"
          ]
        },
        {
          "output_type": "stream",
          "name": "stdout",
          "text": [
            "2022-11-22 16:32:21,509 - TPE using 6/6 trials with best loss 0.218410\n",
            " 70%|███████   | 7/10 [00:08<00:04,  1.40s/trial, best loss: 0.21835028871469275]"
          ]
        },
        {
          "output_type": "stream",
          "name": "stderr",
          "text": [
            "INFO:hyperopt.tpe:build_posterior_wrapper took 0.011207 seconds\n"
          ]
        },
        {
          "output_type": "stream",
          "name": "stdout",
          "text": [
            "2022-11-22 16:32:23,437 - build_posterior_wrapper took 0.011207 seconds\n"
          ]
        },
        {
          "output_type": "stream",
          "name": "stderr",
          "text": [
            "INFO:hyperopt.tpe:TPE using 7/7 trials with best loss 0.218350\n"
          ]
        },
        {
          "output_type": "stream",
          "name": "stdout",
          "text": [
            "2022-11-22 16:32:23,447 - TPE using 7/7 trials with best loss 0.218350\n",
            " 80%|████████  | 8/10 [00:11<00:03,  1.65s/trial, best loss: 0.21835028871469275]"
          ]
        },
        {
          "output_type": "stream",
          "name": "stderr",
          "text": [
            "INFO:hyperopt.tpe:build_posterior_wrapper took 0.019487 seconds\n"
          ]
        },
        {
          "output_type": "stream",
          "name": "stdout",
          "text": [
            "2022-11-22 16:32:25,643 - build_posterior_wrapper took 0.019487 seconds\n"
          ]
        },
        {
          "output_type": "stream",
          "name": "stderr",
          "text": [
            "INFO:hyperopt.tpe:TPE using 8/8 trials with best loss 0.218350\n"
          ]
        },
        {
          "output_type": "stream",
          "name": "stdout",
          "text": [
            "2022-11-22 16:32:25,651 - TPE using 8/8 trials with best loss 0.218350\n",
            " 90%|█████████ | 9/10 [00:12<00:01,  1.51s/trial, best loss: 0.21835028871469275]"
          ]
        },
        {
          "output_type": "stream",
          "name": "stderr",
          "text": [
            "INFO:hyperopt.tpe:build_posterior_wrapper took 0.011090 seconds\n"
          ]
        },
        {
          "output_type": "stream",
          "name": "stdout",
          "text": [
            "2022-11-22 16:32:26,816 - build_posterior_wrapper took 0.011090 seconds\n"
          ]
        },
        {
          "output_type": "stream",
          "name": "stderr",
          "text": [
            "INFO:hyperopt.tpe:TPE using 9/9 trials with best loss 0.218350\n"
          ]
        },
        {
          "output_type": "stream",
          "name": "stdout",
          "text": [
            "2022-11-22 16:32:26,825 - TPE using 9/9 trials with best loss 0.218350\n",
            "100%|██████████| 10/10 [00:14<00:00,  1.42s/trial, best loss: 0.21835028871469275]\n"
          ]
        },
        {
          "output_type": "stream",
          "name": "stderr",
          "text": [
            "INFO:root:PipelineTuner - Hyperparameters optimization finished\n"
          ]
        },
        {
          "output_type": "stream",
          "name": "stdout",
          "text": [
            "2022-11-22 16:32:30,740 - PipelineTuner - Hyperparameters optimization finished\n"
          ]
        },
        {
          "output_type": "stream",
          "name": "stderr",
          "text": [
            "INFO:root:PipelineTuner - Return tuned pipeline due to the fact that obtained metric 0.218 equal or better than initial (+ 5% deviation) 0.235\n"
          ]
        },
        {
          "output_type": "stream",
          "name": "stdout",
          "text": [
            "2022-11-22 16:32:30,746 - PipelineTuner - Return tuned pipeline due to the fact that obtained metric 0.218 equal or better than initial (+ 5% deviation) 0.235\n"
          ]
        },
        {
          "output_type": "stream",
          "name": "stderr",
          "text": [
            "INFO:root:PipelineTuner - Hyperparameters optimization start\n"
          ]
        },
        {
          "output_type": "stream",
          "name": "stdout",
          "text": [
            "2022-11-22 16:32:31,907 - PipelineTuner - Hyperparameters optimization start\n",
            "  0%|          | 0/10 [00:00<?, ?trial/s, best loss=?]"
          ]
        },
        {
          "output_type": "stream",
          "name": "stderr",
          "text": [
            "INFO:hyperopt.tpe:build_posterior_wrapper took 0.009113 seconds\n"
          ]
        },
        {
          "output_type": "stream",
          "name": "stdout",
          "text": [
            "2022-11-22 16:32:33,891 - build_posterior_wrapper took 0.009113 seconds\n"
          ]
        },
        {
          "output_type": "stream",
          "name": "stderr",
          "text": [
            "INFO:hyperopt.tpe:TPE using 0 trials\n"
          ]
        },
        {
          "output_type": "stream",
          "name": "stdout",
          "text": [
            "2022-11-22 16:32:33,897 - TPE using 0 trials\n",
            " 10%|█         | 1/10 [00:00<00:08,  1.11trial/s, best loss: 0.17879680064590522]"
          ]
        },
        {
          "output_type": "stream",
          "name": "stderr",
          "text": [
            "INFO:hyperopt.tpe:build_posterior_wrapper took 0.011513 seconds\n"
          ]
        },
        {
          "output_type": "stream",
          "name": "stdout",
          "text": [
            "2022-11-22 16:32:34,795 - build_posterior_wrapper took 0.011513 seconds\n"
          ]
        },
        {
          "output_type": "stream",
          "name": "stderr",
          "text": [
            "INFO:hyperopt.tpe:TPE using 1/1 trials with best loss 0.178797\n"
          ]
        },
        {
          "output_type": "stream",
          "name": "stdout",
          "text": [
            "2022-11-22 16:32:34,801 - TPE using 1/1 trials with best loss 0.178797\n",
            " 20%|██        | 2/10 [00:01<00:05,  1.43trial/s, best loss: 0.17879680064590522]"
          ]
        },
        {
          "output_type": "stream",
          "name": "stderr",
          "text": [
            "INFO:hyperopt.tpe:build_posterior_wrapper took 0.017645 seconds\n"
          ]
        },
        {
          "output_type": "stream",
          "name": "stdout",
          "text": [
            "2022-11-22 16:32:35,366 - build_posterior_wrapper took 0.017645 seconds\n"
          ]
        },
        {
          "output_type": "stream",
          "name": "stderr",
          "text": [
            "INFO:hyperopt.tpe:TPE using 2/2 trials with best loss 0.178797\n"
          ]
        },
        {
          "output_type": "stream",
          "name": "stdout",
          "text": [
            "2022-11-22 16:32:35,378 - TPE using 2/2 trials with best loss 0.178797\n",
            " 30%|███       | 3/10 [00:02<00:06,  1.06trial/s, best loss: 0.17583431542789882]"
          ]
        },
        {
          "output_type": "stream",
          "name": "stderr",
          "text": [
            "INFO:hyperopt.tpe:build_posterior_wrapper took 0.010146 seconds\n"
          ]
        },
        {
          "output_type": "stream",
          "name": "stdout",
          "text": [
            "2022-11-22 16:32:36,591 - build_posterior_wrapper took 0.010146 seconds\n"
          ]
        },
        {
          "output_type": "stream",
          "name": "stderr",
          "text": [
            "INFO:hyperopt.tpe:TPE using 3/3 trials with best loss 0.175834\n"
          ]
        },
        {
          "output_type": "stream",
          "name": "stdout",
          "text": [
            "2022-11-22 16:32:36,598 - TPE using 3/3 trials with best loss 0.175834\n",
            " 40%|████      | 4/10 [00:03<00:05,  1.14trial/s, best loss: 0.17583431542789882]"
          ]
        },
        {
          "output_type": "stream",
          "name": "stderr",
          "text": [
            "INFO:hyperopt.tpe:build_posterior_wrapper took 0.010121 seconds\n"
          ]
        },
        {
          "output_type": "stream",
          "name": "stdout",
          "text": [
            "2022-11-22 16:32:37,362 - build_posterior_wrapper took 0.010121 seconds\n"
          ]
        },
        {
          "output_type": "stream",
          "name": "stderr",
          "text": [
            "INFO:hyperopt.tpe:TPE using 4/4 trials with best loss 0.175834\n"
          ]
        },
        {
          "output_type": "stream",
          "name": "stdout",
          "text": [
            "2022-11-22 16:32:37,375 - TPE using 4/4 trials with best loss 0.175834\n",
            " 50%|█████     | 5/10 [00:04<00:04,  1.22trial/s, best loss: 0.17583431542789882]"
          ]
        },
        {
          "output_type": "stream",
          "name": "stderr",
          "text": [
            "INFO:hyperopt.tpe:build_posterior_wrapper took 0.008473 seconds\n"
          ]
        },
        {
          "output_type": "stream",
          "name": "stdout",
          "text": [
            "2022-11-22 16:32:38,087 - build_posterior_wrapper took 0.008473 seconds\n"
          ]
        },
        {
          "output_type": "stream",
          "name": "stderr",
          "text": [
            "INFO:hyperopt.tpe:TPE using 5/5 trials with best loss 0.175834\n"
          ]
        },
        {
          "output_type": "stream",
          "name": "stdout",
          "text": [
            "2022-11-22 16:32:38,101 - TPE using 5/5 trials with best loss 0.175834\n",
            " 60%|██████    | 6/10 [00:05<00:03,  1.12trial/s, best loss: 0.17583431542789882]"
          ]
        },
        {
          "output_type": "stream",
          "name": "stderr",
          "text": [
            "INFO:hyperopt.tpe:build_posterior_wrapper took 0.008166 seconds\n"
          ]
        },
        {
          "output_type": "stream",
          "name": "stdout",
          "text": [
            "2022-11-22 16:32:39,124 - build_posterior_wrapper took 0.008166 seconds\n"
          ]
        },
        {
          "output_type": "stream",
          "name": "stderr",
          "text": [
            "INFO:hyperopt.tpe:TPE using 6/6 trials with best loss 0.175834\n"
          ]
        },
        {
          "output_type": "stream",
          "name": "stdout",
          "text": [
            "2022-11-22 16:32:39,136 - TPE using 6/6 trials with best loss 0.175834\n",
            " 70%|███████   | 7/10 [00:06<00:02,  1.06trial/s, best loss: 0.16405818478930992]"
          ]
        },
        {
          "output_type": "stream",
          "name": "stderr",
          "text": [
            "INFO:hyperopt.tpe:build_posterior_wrapper took 0.008456 seconds\n"
          ]
        },
        {
          "output_type": "stream",
          "name": "stdout",
          "text": [
            "2022-11-22 16:32:40,176 - build_posterior_wrapper took 0.008456 seconds\n"
          ]
        },
        {
          "output_type": "stream",
          "name": "stderr",
          "text": [
            "INFO:hyperopt.tpe:TPE using 7/7 trials with best loss 0.164058\n"
          ]
        },
        {
          "output_type": "stream",
          "name": "stdout",
          "text": [
            "2022-11-22 16:32:40,185 - TPE using 7/7 trials with best loss 0.164058\n",
            " 80%|████████  | 8/10 [00:07<00:01,  1.04trial/s, best loss: 0.16405818478930992]"
          ]
        },
        {
          "output_type": "stream",
          "name": "stderr",
          "text": [
            "INFO:hyperopt.tpe:build_posterior_wrapper took 0.008847 seconds\n"
          ]
        },
        {
          "output_type": "stream",
          "name": "stdout",
          "text": [
            "2022-11-22 16:32:41,171 - build_posterior_wrapper took 0.008847 seconds\n"
          ]
        },
        {
          "output_type": "stream",
          "name": "stderr",
          "text": [
            "INFO:hyperopt.tpe:TPE using 8/8 trials with best loss 0.164058\n"
          ]
        },
        {
          "output_type": "stream",
          "name": "stdout",
          "text": [
            "2022-11-22 16:32:41,189 - TPE using 8/8 trials with best loss 0.164058\n",
            " 90%|█████████ | 9/10 [00:09<00:01,  1.39s/trial, best loss: 0.16405818478930992]"
          ]
        },
        {
          "output_type": "stream",
          "name": "stderr",
          "text": [
            "INFO:hyperopt.tpe:build_posterior_wrapper took 0.014191 seconds\n"
          ]
        },
        {
          "output_type": "stream",
          "name": "stdout",
          "text": [
            "2022-11-22 16:32:43,510 - build_posterior_wrapper took 0.014191 seconds\n"
          ]
        },
        {
          "output_type": "stream",
          "name": "stderr",
          "text": [
            "INFO:hyperopt.tpe:TPE using 9/9 trials with best loss 0.164058\n"
          ]
        },
        {
          "output_type": "stream",
          "name": "stdout",
          "text": [
            "2022-11-22 16:32:43,522 - TPE using 9/9 trials with best loss 0.164058\n",
            "100%|██████████| 10/10 [00:11<00:00,  1.10s/trial, best loss: 0.16405818478930992]\n"
          ]
        },
        {
          "output_type": "stream",
          "name": "stderr",
          "text": [
            "INFO:root:PipelineTuner - Hyperparameters optimization finished\n"
          ]
        },
        {
          "output_type": "stream",
          "name": "stdout",
          "text": [
            "2022-11-22 16:32:46,602 - PipelineTuner - Hyperparameters optimization finished\n"
          ]
        },
        {
          "output_type": "stream",
          "name": "stderr",
          "text": [
            "INFO:root:PipelineTuner - Return tuned pipeline due to the fact that obtained metric 0.164 equal or better than initial (+ 5% deviation) 0.176\n"
          ]
        },
        {
          "output_type": "stream",
          "name": "stdout",
          "text": [
            "2022-11-22 16:32:46,606 - PipelineTuner - Return tuned pipeline due to the fact that obtained metric 0.164 equal or better than initial (+ 5% deviation) 0.176\n"
          ]
        },
        {
          "output_type": "stream",
          "name": "stderr",
          "text": [
            "INFO:root:PipelineTuner - Hyperparameters optimization start\n"
          ]
        },
        {
          "output_type": "stream",
          "name": "stdout",
          "text": [
            "Fitting pipeline №4\n",
            "2022-11-22 16:32:47,275 - PipelineTuner - Hyperparameters optimization start\n",
            "  0%|          | 0/10 [00:00<?, ?trial/s, best loss=?]"
          ]
        },
        {
          "output_type": "stream",
          "name": "stderr",
          "text": [
            "INFO:hyperopt.tpe:build_posterior_wrapper took 0.007997 seconds\n"
          ]
        },
        {
          "output_type": "stream",
          "name": "stdout",
          "text": [
            "2022-11-22 16:32:51,752 - build_posterior_wrapper took 0.007997 seconds\n"
          ]
        },
        {
          "output_type": "stream",
          "name": "stderr",
          "text": [
            "INFO:hyperopt.tpe:TPE using 0 trials\n"
          ]
        },
        {
          "output_type": "stream",
          "name": "stdout",
          "text": [
            "2022-11-22 16:32:51,755 - TPE using 0 trials\n",
            " 10%|█         | 1/10 [00:06<00:58,  6.48s/trial, best loss: 0.2761370848052291]"
          ]
        },
        {
          "output_type": "stream",
          "name": "stderr",
          "text": [
            "INFO:hyperopt.tpe:build_posterior_wrapper took 0.007595 seconds\n"
          ]
        },
        {
          "output_type": "stream",
          "name": "stdout",
          "text": [
            "2022-11-22 16:32:58,234 - build_posterior_wrapper took 0.007595 seconds\n"
          ]
        },
        {
          "output_type": "stream",
          "name": "stderr",
          "text": [
            "INFO:hyperopt.tpe:TPE using 1/1 trials with best loss 0.276137\n"
          ]
        },
        {
          "output_type": "stream",
          "name": "stdout",
          "text": [
            "2022-11-22 16:32:58,240 - TPE using 1/1 trials with best loss 0.276137\n",
            " 20%|██        | 2/10 [00:32<02:25, 18.13s/trial, best loss: 0.2761370848052291]"
          ]
        },
        {
          "output_type": "stream",
          "name": "stderr",
          "text": [
            "INFO:hyperopt.tpe:build_posterior_wrapper took 0.009853 seconds\n"
          ]
        },
        {
          "output_type": "stream",
          "name": "stdout",
          "text": [
            "2022-11-22 16:33:24,516 - build_posterior_wrapper took 0.009853 seconds\n"
          ]
        },
        {
          "output_type": "stream",
          "name": "stderr",
          "text": [
            "INFO:hyperopt.tpe:TPE using 2/2 trials with best loss 0.276137\n"
          ]
        },
        {
          "output_type": "stream",
          "name": "stdout",
          "text": [
            "2022-11-22 16:33:24,524 - TPE using 2/2 trials with best loss 0.276137\n",
            " 30%|███       | 3/10 [00:44<01:47, 15.36s/trial, best loss: 0.25660805347181115]"
          ]
        },
        {
          "output_type": "stream",
          "name": "stderr",
          "text": [
            "INFO:hyperopt.tpe:build_posterior_wrapper took 0.004546 seconds\n"
          ]
        },
        {
          "output_type": "stream",
          "name": "stdout",
          "text": [
            "2022-11-22 16:33:36,574 - build_posterior_wrapper took 0.004546 seconds\n"
          ]
        },
        {
          "output_type": "stream",
          "name": "stderr",
          "text": [
            "INFO:hyperopt.tpe:TPE using 3/3 trials with best loss 0.256608\n"
          ]
        },
        {
          "output_type": "stream",
          "name": "stdout",
          "text": [
            "2022-11-22 16:33:36,584 - TPE using 3/3 trials with best loss 0.256608\n",
            " 40%|████      | 4/10 [01:23<02:26, 24.48s/trial, best loss: 0.24366685756694295]"
          ]
        },
        {
          "output_type": "stream",
          "name": "stderr",
          "text": [
            "INFO:hyperopt.tpe:build_posterior_wrapper took 0.010437 seconds\n"
          ]
        },
        {
          "output_type": "stream",
          "name": "stdout",
          "text": [
            "2022-11-22 16:34:15,033 - build_posterior_wrapper took 0.010437 seconds\n"
          ]
        },
        {
          "output_type": "stream",
          "name": "stderr",
          "text": [
            "INFO:hyperopt.tpe:TPE using 4/4 trials with best loss 0.243667\n"
          ]
        },
        {
          "output_type": "stream",
          "name": "stdout",
          "text": [
            "2022-11-22 16:34:15,038 - TPE using 4/4 trials with best loss 0.243667\n",
            " 50%|█████     | 5/10 [01:43<01:54, 22.95s/trial, best loss: 0.24366685756694295]"
          ]
        },
        {
          "output_type": "stream",
          "name": "stderr",
          "text": [
            "INFO:hyperopt.tpe:build_posterior_wrapper took 0.010297 seconds\n"
          ]
        },
        {
          "output_type": "stream",
          "name": "stdout",
          "text": [
            "2022-11-22 16:34:35,291 - build_posterior_wrapper took 0.010297 seconds\n"
          ]
        },
        {
          "output_type": "stream",
          "name": "stderr",
          "text": [
            "INFO:hyperopt.tpe:TPE using 5/5 trials with best loss 0.243667\n"
          ]
        },
        {
          "output_type": "stream",
          "name": "stdout",
          "text": [
            "2022-11-22 16:34:35,295 - TPE using 5/5 trials with best loss 0.243667\n",
            " 60%|██████    | 6/10 [02:50<01:53, 28.45s/trial, best loss: 0.24366685756694295]\n"
          ]
        },
        {
          "output_type": "stream",
          "name": "stderr",
          "text": [
            "INFO:root:PipelineTuner - Hyperparameters optimization finished\n"
          ]
        },
        {
          "output_type": "stream",
          "name": "stdout",
          "text": [
            "2022-11-22 16:36:19,657 - PipelineTuner - Hyperparameters optimization finished\n"
          ]
        },
        {
          "output_type": "stream",
          "name": "stderr",
          "text": [
            "INFO:root:PipelineTuner - Return tuned pipeline due to the fact that obtained metric 0.249 equal or better than initial (+ 5% deviation) 0.266\n"
          ]
        },
        {
          "output_type": "stream",
          "name": "stdout",
          "text": [
            "2022-11-22 16:36:19,667 - PipelineTuner - Return tuned pipeline due to the fact that obtained metric 0.249 equal or better than initial (+ 5% deviation) 0.266\n"
          ]
        },
        {
          "output_type": "stream",
          "name": "stderr",
          "text": [
            "INFO:root:PipelineTuner - Hyperparameters optimization start\n"
          ]
        },
        {
          "output_type": "stream",
          "name": "stdout",
          "text": [
            "2022-11-22 16:36:22,968 - PipelineTuner - Hyperparameters optimization start\n",
            "  0%|          | 0/10 [00:00<?, ?trial/s, best loss=?]"
          ]
        },
        {
          "output_type": "stream",
          "name": "stderr",
          "text": [
            "INFO:hyperopt.tpe:build_posterior_wrapper took 0.009750 seconds\n"
          ]
        },
        {
          "output_type": "stream",
          "name": "stdout",
          "text": [
            "2022-11-22 16:37:01,319 - build_posterior_wrapper took 0.009750 seconds\n"
          ]
        },
        {
          "output_type": "stream",
          "name": "stderr",
          "text": [
            "INFO:hyperopt.tpe:TPE using 0 trials\n"
          ]
        },
        {
          "output_type": "stream",
          "name": "stdout",
          "text": [
            "2022-11-22 16:37:01,328 - TPE using 0 trials\n",
            " 10%|█         | 1/10 [01:05<09:47, 65.23s/trial, best loss: 0.20366471254076404]"
          ]
        },
        {
          "output_type": "stream",
          "name": "stderr",
          "text": [
            "INFO:hyperopt.tpe:build_posterior_wrapper took 0.006138 seconds\n"
          ]
        },
        {
          "output_type": "stream",
          "name": "stdout",
          "text": [
            "2022-11-22 16:38:06,549 - build_posterior_wrapper took 0.006138 seconds\n"
          ]
        },
        {
          "output_type": "stream",
          "name": "stderr",
          "text": [
            "INFO:hyperopt.tpe:TPE using 1/1 trials with best loss 0.203665\n"
          ]
        },
        {
          "output_type": "stream",
          "name": "stdout",
          "text": [
            "2022-11-22 16:38:06,559 - TPE using 1/1 trials with best loss 0.203665\n",
            " 20%|██        | 2/10 [01:36<06:03, 45.38s/trial, best loss: 0.20366471254076404]"
          ]
        },
        {
          "output_type": "stream",
          "name": "stderr",
          "text": [
            "INFO:hyperopt.tpe:build_posterior_wrapper took 0.010894 seconds\n"
          ]
        },
        {
          "output_type": "stream",
          "name": "stdout",
          "text": [
            "2022-11-22 16:38:38,032 - build_posterior_wrapper took 0.010894 seconds\n"
          ]
        },
        {
          "output_type": "stream",
          "name": "stderr",
          "text": [
            "INFO:hyperopt.tpe:TPE using 2/2 trials with best loss 0.203665\n"
          ]
        },
        {
          "output_type": "stream",
          "name": "stdout",
          "text": [
            "2022-11-22 16:38:38,038 - TPE using 2/2 trials with best loss 0.203665\n",
            " 30%|███       | 3/10 [02:01<04:44, 40.66s/trial, best loss: 0.20366471254076404]\n"
          ]
        },
        {
          "output_type": "stream",
          "name": "stderr",
          "text": [
            "INFO:root:PipelineTuner - Hyperparameters optimization finished\n"
          ]
        },
        {
          "output_type": "stream",
          "name": "stdout",
          "text": [
            "2022-11-22 16:40:11,219 - PipelineTuner - Hyperparameters optimization finished\n"
          ]
        },
        {
          "output_type": "stream",
          "name": "stderr",
          "text": [
            "INFO:root:PipelineTuner - Return init pipeline due to the fact that obtained metric 0.209 worse than initial (+ 5% deviation) 0.185\n"
          ]
        },
        {
          "output_type": "stream",
          "name": "stdout",
          "text": [
            "2022-11-22 16:40:11,227 - PipelineTuner - Return init pipeline due to the fact that obtained metric 0.209 worse than initial (+ 5% deviation) 0.185\n"
          ]
        },
        {
          "output_type": "stream",
          "name": "stderr",
          "text": [
            "INFO:root:PipelineTuner - Hyperparameters optimization start\n"
          ]
        },
        {
          "output_type": "stream",
          "name": "stdout",
          "text": [
            "Fitting pipeline №5\n",
            "2022-11-22 16:40:16,320 - PipelineTuner - Hyperparameters optimization start\n",
            "  0%|          | 0/10 [00:00<?, ?trial/s, best loss=?]"
          ]
        },
        {
          "output_type": "stream",
          "name": "stderr",
          "text": [
            "INFO:hyperopt.tpe:build_posterior_wrapper took 0.546380 seconds\n"
          ]
        },
        {
          "output_type": "stream",
          "name": "stdout",
          "text": [
            "2022-11-22 16:40:22,608 - build_posterior_wrapper took 0.546380 seconds\n"
          ]
        },
        {
          "output_type": "stream",
          "name": "stderr",
          "text": [
            "INFO:hyperopt.tpe:TPE using 0 trials\n"
          ]
        },
        {
          "output_type": "stream",
          "name": "stdout",
          "text": [
            "2022-11-22 16:40:22,630 - TPE using 0 trials\n",
            " 10%|█         | 1/10 [00:04<00:44,  4.90s/trial, best loss: 0.2258381820229089]"
          ]
        },
        {
          "output_type": "stream",
          "name": "stderr",
          "text": [
            "INFO:hyperopt.tpe:build_posterior_wrapper took 0.012049 seconds\n"
          ]
        },
        {
          "output_type": "stream",
          "name": "stdout",
          "text": [
            "2022-11-22 16:40:26,978 - build_posterior_wrapper took 0.012049 seconds\n"
          ]
        },
        {
          "output_type": "stream",
          "name": "stderr",
          "text": [
            "INFO:hyperopt.tpe:TPE using 1/1 trials with best loss 0.225838\n"
          ]
        },
        {
          "output_type": "stream",
          "name": "stdout",
          "text": [
            "2022-11-22 16:40:26,984 - TPE using 1/1 trials with best loss 0.225838\n",
            " 20%|██        | 2/10 [00:07<00:26,  3.32s/trial, best loss: 0.2165913701969844]"
          ]
        },
        {
          "output_type": "stream",
          "name": "stderr",
          "text": [
            "INFO:hyperopt.tpe:build_posterior_wrapper took 0.007645 seconds\n"
          ]
        },
        {
          "output_type": "stream",
          "name": "stdout",
          "text": [
            "2022-11-22 16:40:29,190 - build_posterior_wrapper took 0.007645 seconds\n"
          ]
        },
        {
          "output_type": "stream",
          "name": "stderr",
          "text": [
            "INFO:hyperopt.tpe:TPE using 2/2 trials with best loss 0.216591\n"
          ]
        },
        {
          "output_type": "stream",
          "name": "stdout",
          "text": [
            "2022-11-22 16:40:29,199 - TPE using 2/2 trials with best loss 0.216591\n",
            " 30%|███       | 3/10 [00:11<00:27,  3.92s/trial, best loss: 0.21026361747911199]"
          ]
        },
        {
          "output_type": "stream",
          "name": "stderr",
          "text": [
            "INFO:hyperopt.tpe:build_posterior_wrapper took 0.008597 seconds\n"
          ]
        },
        {
          "output_type": "stream",
          "name": "stdout",
          "text": [
            "2022-11-22 16:40:33,828 - build_posterior_wrapper took 0.008597 seconds\n"
          ]
        },
        {
          "output_type": "stream",
          "name": "stderr",
          "text": [
            "INFO:hyperopt.tpe:TPE using 3/3 trials with best loss 0.210264\n"
          ]
        },
        {
          "output_type": "stream",
          "name": "stdout",
          "text": [
            "2022-11-22 16:40:33,834 - TPE using 3/3 trials with best loss 0.210264\n",
            " 40%|████      | 4/10 [00:13<00:19,  3.19s/trial, best loss: 0.21026361747911199]"
          ]
        },
        {
          "output_type": "stream",
          "name": "stderr",
          "text": [
            "INFO:hyperopt.tpe:build_posterior_wrapper took 0.006750 seconds\n"
          ]
        },
        {
          "output_type": "stream",
          "name": "stdout",
          "text": [
            "2022-11-22 16:40:35,894 - build_posterior_wrapper took 0.006750 seconds\n"
          ]
        },
        {
          "output_type": "stream",
          "name": "stderr",
          "text": [
            "INFO:hyperopt.tpe:TPE using 4/4 trials with best loss 0.210264\n"
          ]
        },
        {
          "output_type": "stream",
          "name": "stdout",
          "text": [
            "2022-11-22 16:40:35,907 - TPE using 4/4 trials with best loss 0.210264\n",
            " 50%|█████     | 5/10 [00:15<00:12,  2.59s/trial, best loss: 0.20094509011751893]"
          ]
        },
        {
          "output_type": "stream",
          "name": "stderr",
          "text": [
            "INFO:hyperopt.tpe:build_posterior_wrapper took 0.011672 seconds\n"
          ]
        },
        {
          "output_type": "stream",
          "name": "stdout",
          "text": [
            "2022-11-22 16:40:37,431 - build_posterior_wrapper took 0.011672 seconds\n"
          ]
        },
        {
          "output_type": "stream",
          "name": "stderr",
          "text": [
            "INFO:hyperopt.tpe:TPE using 5/5 trials with best loss 0.200945\n"
          ]
        },
        {
          "output_type": "stream",
          "name": "stdout",
          "text": [
            "2022-11-22 16:40:37,436 - TPE using 5/5 trials with best loss 0.200945\n",
            " 60%|██████    | 6/10 [00:19<00:12,  3.15s/trial, best loss: 0.20094509011751893]"
          ]
        },
        {
          "output_type": "stream",
          "name": "stderr",
          "text": [
            "INFO:hyperopt.tpe:build_posterior_wrapper took 0.010263 seconds\n"
          ]
        },
        {
          "output_type": "stream",
          "name": "stdout",
          "text": [
            "2022-11-22 16:40:41,651 - build_posterior_wrapper took 0.010263 seconds\n"
          ]
        },
        {
          "output_type": "stream",
          "name": "stderr",
          "text": [
            "INFO:hyperopt.tpe:TPE using 6/6 trials with best loss 0.200945\n"
          ]
        },
        {
          "output_type": "stream",
          "name": "stdout",
          "text": [
            "2022-11-22 16:40:41,664 - TPE using 6/6 trials with best loss 0.200945\n",
            " 70%|███████   | 7/10 [00:25<00:12,  4.07s/trial, best loss: 0.20094509011751893]"
          ]
        },
        {
          "output_type": "stream",
          "name": "stderr",
          "text": [
            "INFO:hyperopt.tpe:build_posterior_wrapper took 0.010995 seconds\n"
          ]
        },
        {
          "output_type": "stream",
          "name": "stdout",
          "text": [
            "2022-11-22 16:40:47,612 - build_posterior_wrapper took 0.010995 seconds\n"
          ]
        },
        {
          "output_type": "stream",
          "name": "stderr",
          "text": [
            "INFO:hyperopt.tpe:TPE using 7/7 trials with best loss 0.200945\n"
          ]
        },
        {
          "output_type": "stream",
          "name": "stdout",
          "text": [
            "2022-11-22 16:40:47,623 - TPE using 7/7 trials with best loss 0.200945\n",
            " 80%|████████  | 8/10 [00:28<00:07,  3.62s/trial, best loss: 0.20094509011751893]"
          ]
        },
        {
          "output_type": "stream",
          "name": "stderr",
          "text": [
            "INFO:hyperopt.tpe:build_posterior_wrapper took 0.010204 seconds\n"
          ]
        },
        {
          "output_type": "stream",
          "name": "stdout",
          "text": [
            "2022-11-22 16:40:50,268 - build_posterior_wrapper took 0.010204 seconds\n"
          ]
        },
        {
          "output_type": "stream",
          "name": "stderr",
          "text": [
            "INFO:hyperopt.tpe:TPE using 8/8 trials with best loss 0.200945\n"
          ]
        },
        {
          "output_type": "stream",
          "name": "stdout",
          "text": [
            "2022-11-22 16:40:50,279 - TPE using 8/8 trials with best loss 0.200945\n",
            " 90%|█████████ | 9/10 [00:34<00:04,  4.37s/trial, best loss: 0.20094509011751893]"
          ]
        },
        {
          "output_type": "stream",
          "name": "stderr",
          "text": [
            "INFO:hyperopt.tpe:build_posterior_wrapper took 0.009016 seconds\n"
          ]
        },
        {
          "output_type": "stream",
          "name": "stdout",
          "text": [
            "2022-11-22 16:40:56,280 - build_posterior_wrapper took 0.009016 seconds\n"
          ]
        },
        {
          "output_type": "stream",
          "name": "stderr",
          "text": [
            "INFO:hyperopt.tpe:TPE using 9/9 trials with best loss 0.200945\n"
          ]
        },
        {
          "output_type": "stream",
          "name": "stdout",
          "text": [
            "2022-11-22 16:40:56,291 - TPE using 9/9 trials with best loss 0.200945\n",
            "100%|██████████| 10/10 [00:37<00:00,  3.74s/trial, best loss: 0.20094509011751893]\n"
          ]
        },
        {
          "output_type": "stream",
          "name": "stderr",
          "text": [
            "INFO:root:PipelineTuner - Hyperparameters optimization finished\n"
          ]
        },
        {
          "output_type": "stream",
          "name": "stdout",
          "text": [
            "2022-11-22 16:41:01,077 - PipelineTuner - Hyperparameters optimization finished\n"
          ]
        },
        {
          "output_type": "stream",
          "name": "stderr",
          "text": [
            "INFO:root:PipelineTuner - Return tuned pipeline due to the fact that obtained metric 0.201 equal or better than initial (+ 5% deviation) 0.247\n"
          ]
        },
        {
          "output_type": "stream",
          "name": "stdout",
          "text": [
            "2022-11-22 16:41:01,088 - PipelineTuner - Return tuned pipeline due to the fact that obtained metric 0.201 equal or better than initial (+ 5% deviation) 0.247\n"
          ]
        },
        {
          "output_type": "stream",
          "name": "stderr",
          "text": [
            "INFO:root:PipelineTuner - Hyperparameters optimization start\n"
          ]
        },
        {
          "output_type": "stream",
          "name": "stdout",
          "text": [
            "2022-11-22 16:41:02,229 - PipelineTuner - Hyperparameters optimization start\n",
            "  0%|          | 0/10 [00:00<?, ?trial/s, best loss=?]"
          ]
        },
        {
          "output_type": "stream",
          "name": "stderr",
          "text": [
            "INFO:hyperopt.tpe:build_posterior_wrapper took 0.011050 seconds\n"
          ]
        },
        {
          "output_type": "stream",
          "name": "stdout",
          "text": [
            "2022-11-22 16:41:03,855 - build_posterior_wrapper took 0.011050 seconds\n"
          ]
        },
        {
          "output_type": "stream",
          "name": "stderr",
          "text": [
            "INFO:hyperopt.tpe:TPE using 0 trials\n"
          ]
        },
        {
          "output_type": "stream",
          "name": "stdout",
          "text": [
            "2022-11-22 16:41:03,861 - TPE using 0 trials\n",
            " 10%|█         | 1/10 [00:06<01:02,  6.95s/trial, best loss: 0.2644393102029359]"
          ]
        },
        {
          "output_type": "stream",
          "name": "stderr",
          "text": [
            "INFO:hyperopt.tpe:build_posterior_wrapper took 0.019056 seconds\n"
          ]
        },
        {
          "output_type": "stream",
          "name": "stdout",
          "text": [
            "2022-11-22 16:41:10,815 - build_posterior_wrapper took 0.019056 seconds\n"
          ]
        },
        {
          "output_type": "stream",
          "name": "stderr",
          "text": [
            "INFO:hyperopt.tpe:TPE using 1/1 trials with best loss 0.264439\n"
          ]
        },
        {
          "output_type": "stream",
          "name": "stdout",
          "text": [
            "2022-11-22 16:41:10,825 - TPE using 1/1 trials with best loss 0.264439\n",
            " 20%|██        | 2/10 [00:10<00:40,  5.07s/trial, best loss: 0.17479417938955405]"
          ]
        },
        {
          "output_type": "stream",
          "name": "stderr",
          "text": [
            "INFO:hyperopt.tpe:build_posterior_wrapper took 0.010410 seconds\n"
          ]
        },
        {
          "output_type": "stream",
          "name": "stdout",
          "text": [
            "2022-11-22 16:41:14,552 - build_posterior_wrapper took 0.010410 seconds\n"
          ]
        },
        {
          "output_type": "stream",
          "name": "stderr",
          "text": [
            "INFO:hyperopt.tpe:TPE using 2/2 trials with best loss 0.174794\n"
          ]
        },
        {
          "output_type": "stream",
          "name": "stdout",
          "text": [
            "2022-11-22 16:41:14,558 - TPE using 2/2 trials with best loss 0.174794\n",
            " 30%|███       | 3/10 [00:13<00:29,  4.26s/trial, best loss: 0.16762017378392435]"
          ]
        },
        {
          "output_type": "stream",
          "name": "stderr",
          "text": [
            "INFO:hyperopt.tpe:build_posterior_wrapper took 0.010561 seconds\n"
          ]
        },
        {
          "output_type": "stream",
          "name": "stdout",
          "text": [
            "2022-11-22 16:41:17,849 - build_posterior_wrapper took 0.010561 seconds\n"
          ]
        },
        {
          "output_type": "stream",
          "name": "stderr",
          "text": [
            "INFO:hyperopt.tpe:TPE using 3/3 trials with best loss 0.167620\n"
          ]
        },
        {
          "output_type": "stream",
          "name": "stdout",
          "text": [
            "2022-11-22 16:41:17,854 - TPE using 3/3 trials with best loss 0.167620\n",
            " 40%|████      | 4/10 [00:17<00:24,  4.04s/trial, best loss: 0.16762017378392435]"
          ]
        },
        {
          "output_type": "stream",
          "name": "stderr",
          "text": [
            "INFO:hyperopt.tpe:build_posterior_wrapper took 0.011148 seconds\n"
          ]
        },
        {
          "output_type": "stream",
          "name": "stdout",
          "text": [
            "2022-11-22 16:41:21,568 - build_posterior_wrapper took 0.011148 seconds\n"
          ]
        },
        {
          "output_type": "stream",
          "name": "stderr",
          "text": [
            "INFO:hyperopt.tpe:TPE using 4/4 trials with best loss 0.167620\n"
          ]
        },
        {
          "output_type": "stream",
          "name": "stdout",
          "text": [
            "2022-11-22 16:41:21,581 - TPE using 4/4 trials with best loss 0.167620\n",
            " 50%|█████     | 5/10 [00:21<00:19,  3.91s/trial, best loss: 0.16762017378392435]"
          ]
        },
        {
          "output_type": "stream",
          "name": "stderr",
          "text": [
            "INFO:hyperopt.tpe:build_posterior_wrapper took 0.011631 seconds\n"
          ]
        },
        {
          "output_type": "stream",
          "name": "stdout",
          "text": [
            "2022-11-22 16:41:25,231 - build_posterior_wrapper took 0.011631 seconds\n"
          ]
        },
        {
          "output_type": "stream",
          "name": "stderr",
          "text": [
            "INFO:hyperopt.tpe:TPE using 5/5 trials with best loss 0.167620\n"
          ]
        },
        {
          "output_type": "stream",
          "name": "stdout",
          "text": [
            "2022-11-22 16:41:25,237 - TPE using 5/5 trials with best loss 0.167620\n",
            " 60%|██████    | 6/10 [00:24<00:14,  3.50s/trial, best loss: 0.16067766527993033]"
          ]
        },
        {
          "output_type": "stream",
          "name": "stderr",
          "text": [
            "INFO:hyperopt.tpe:build_posterior_wrapper took 0.008953 seconds\n"
          ]
        },
        {
          "output_type": "stream",
          "name": "stdout",
          "text": [
            "2022-11-22 16:41:27,945 - build_posterior_wrapper took 0.008953 seconds\n"
          ]
        },
        {
          "output_type": "stream",
          "name": "stderr",
          "text": [
            "INFO:hyperopt.tpe:TPE using 6/6 trials with best loss 0.160678\n"
          ]
        },
        {
          "output_type": "stream",
          "name": "stdout",
          "text": [
            "2022-11-22 16:41:27,955 - TPE using 6/6 trials with best loss 0.160678\n",
            " 70%|███████   | 7/10 [00:26<00:09,  3.13s/trial, best loss: 0.16067766527993033]"
          ]
        },
        {
          "output_type": "stream",
          "name": "stderr",
          "text": [
            "INFO:hyperopt.tpe:build_posterior_wrapper took 0.014161 seconds\n"
          ]
        },
        {
          "output_type": "stream",
          "name": "stdout",
          "text": [
            "2022-11-22 16:41:30,310 - build_posterior_wrapper took 0.014161 seconds\n"
          ]
        },
        {
          "output_type": "stream",
          "name": "stderr",
          "text": [
            "INFO:hyperopt.tpe:TPE using 7/7 trials with best loss 0.160678\n"
          ]
        },
        {
          "output_type": "stream",
          "name": "stdout",
          "text": [
            "2022-11-22 16:41:30,317 - TPE using 7/7 trials with best loss 0.160678\n",
            " 80%|████████  | 8/10 [00:30<00:06,  3.34s/trial, best loss: 0.16067766527993033]"
          ]
        },
        {
          "output_type": "stream",
          "name": "stderr",
          "text": [
            "INFO:hyperopt.tpe:build_posterior_wrapper took 0.011319 seconds\n"
          ]
        },
        {
          "output_type": "stream",
          "name": "stdout",
          "text": [
            "2022-11-22 16:41:34,111 - build_posterior_wrapper took 0.011319 seconds\n"
          ]
        },
        {
          "output_type": "stream",
          "name": "stderr",
          "text": [
            "INFO:hyperopt.tpe:TPE using 8/8 trials with best loss 0.160678\n"
          ]
        },
        {
          "output_type": "stream",
          "name": "stdout",
          "text": [
            "2022-11-22 16:41:34,116 - TPE using 8/8 trials with best loss 0.160678\n",
            " 90%|█████████ | 9/10 [00:32<00:03,  3.12s/trial, best loss: 0.16067766527993033]"
          ]
        },
        {
          "output_type": "stream",
          "name": "stderr",
          "text": [
            "INFO:hyperopt.tpe:build_posterior_wrapper took 0.011923 seconds\n"
          ]
        },
        {
          "output_type": "stream",
          "name": "stdout",
          "text": [
            "2022-11-22 16:41:36,735 - build_posterior_wrapper took 0.011923 seconds\n"
          ]
        },
        {
          "output_type": "stream",
          "name": "stderr",
          "text": [
            "INFO:hyperopt.tpe:TPE using 9/9 trials with best loss 0.160678\n"
          ]
        },
        {
          "output_type": "stream",
          "name": "stdout",
          "text": [
            "2022-11-22 16:41:36,741 - TPE using 9/9 trials with best loss 0.160678\n",
            "100%|██████████| 10/10 [00:35<00:00,  3.58s/trial, best loss: 0.16067766527993033]\n"
          ]
        },
        {
          "output_type": "stream",
          "name": "stderr",
          "text": [
            "INFO:root:PipelineTuner - Hyperparameters optimization finished\n"
          ]
        },
        {
          "output_type": "stream",
          "name": "stdout",
          "text": [
            "2022-11-22 16:41:42,567 - PipelineTuner - Hyperparameters optimization finished\n"
          ]
        },
        {
          "output_type": "stream",
          "name": "stderr",
          "text": [
            "INFO:root:PipelineTuner - Return tuned pipeline due to the fact that obtained metric 0.161 equal or better than initial (+ 5% deviation) 0.165\n"
          ]
        },
        {
          "output_type": "stream",
          "name": "stdout",
          "text": [
            "2022-11-22 16:41:42,574 - PipelineTuner - Return tuned pipeline due to the fact that obtained metric 0.161 equal or better than initial (+ 5% deviation) 0.165\n"
          ]
        },
        {
          "output_type": "stream",
          "name": "stderr",
          "text": [
            "INFO:root:PipelineTuner - Hyperparameters optimization start\n"
          ]
        },
        {
          "output_type": "stream",
          "name": "stdout",
          "text": [
            "Fitting pipeline №6\n",
            "2022-11-22 16:41:44,819 - PipelineTuner - Hyperparameters optimization start\n",
            "  0%|          | 0/10 [00:00<?, ?trial/s, best loss=?]"
          ]
        },
        {
          "output_type": "stream",
          "name": "stderr",
          "text": [
            "INFO:hyperopt.tpe:build_posterior_wrapper took 0.013320 seconds\n"
          ]
        },
        {
          "output_type": "stream",
          "name": "stdout",
          "text": [
            "2022-11-22 16:41:45,687 - build_posterior_wrapper took 0.013320 seconds\n"
          ]
        },
        {
          "output_type": "stream",
          "name": "stderr",
          "text": [
            "INFO:hyperopt.tpe:TPE using 0 trials\n"
          ]
        },
        {
          "output_type": "stream",
          "name": "stdout",
          "text": [
            "2022-11-22 16:41:45,693 - TPE using 0 trials\n",
            " 10%|█         | 1/10 [00:01<00:15,  1.76s/trial, best loss: 0.23473078610728554]"
          ]
        },
        {
          "output_type": "stream",
          "name": "stderr",
          "text": [
            "INFO:hyperopt.tpe:build_posterior_wrapper took 0.012298 seconds\n"
          ]
        },
        {
          "output_type": "stream",
          "name": "stdout",
          "text": [
            "2022-11-22 16:41:47,455 - build_posterior_wrapper took 0.012298 seconds\n"
          ]
        },
        {
          "output_type": "stream",
          "name": "stderr",
          "text": [
            "INFO:hyperopt.tpe:TPE using 1/1 trials with best loss 0.234731\n"
          ]
        },
        {
          "output_type": "stream",
          "name": "stdout",
          "text": [
            "2022-11-22 16:41:47,468 - TPE using 1/1 trials with best loss 0.234731\n",
            " 20%|██        | 2/10 [00:03<00:12,  1.57s/trial, best loss: 0.2327841776766072] "
          ]
        },
        {
          "output_type": "stream",
          "name": "stderr",
          "text": [
            "INFO:hyperopt.tpe:build_posterior_wrapper took 0.011209 seconds\n"
          ]
        },
        {
          "output_type": "stream",
          "name": "stdout",
          "text": [
            "2022-11-22 16:41:48,895 - build_posterior_wrapper took 0.011209 seconds\n"
          ]
        },
        {
          "output_type": "stream",
          "name": "stderr",
          "text": [
            "INFO:hyperopt.tpe:TPE using 2/2 trials with best loss 0.232784\n"
          ]
        },
        {
          "output_type": "stream",
          "name": "stdout",
          "text": [
            "2022-11-22 16:41:48,912 - TPE using 2/2 trials with best loss 0.232784\n",
            " 30%|███       | 3/10 [00:04<00:10,  1.46s/trial, best loss: 0.2265876571467198]"
          ]
        },
        {
          "output_type": "stream",
          "name": "stderr",
          "text": [
            "INFO:hyperopt.tpe:build_posterior_wrapper took 0.008090 seconds\n"
          ]
        },
        {
          "output_type": "stream",
          "name": "stdout",
          "text": [
            "2022-11-22 16:41:50,226 - build_posterior_wrapper took 0.008090 seconds\n"
          ]
        },
        {
          "output_type": "stream",
          "name": "stderr",
          "text": [
            "INFO:hyperopt.tpe:TPE using 3/3 trials with best loss 0.226588\n"
          ]
        },
        {
          "output_type": "stream",
          "name": "stdout",
          "text": [
            "2022-11-22 16:41:50,235 - TPE using 3/3 trials with best loss 0.226588\n",
            " 40%|████      | 4/10 [00:05<00:06,  1.07s/trial, best loss: 0.2265876571467198]"
          ]
        },
        {
          "output_type": "stream",
          "name": "stderr",
          "text": [
            "INFO:hyperopt.tpe:build_posterior_wrapper took 0.012275 seconds\n"
          ]
        },
        {
          "output_type": "stream",
          "name": "stdout",
          "text": [
            "2022-11-22 16:41:50,698 - build_posterior_wrapper took 0.012275 seconds\n"
          ]
        },
        {
          "output_type": "stream",
          "name": "stderr",
          "text": [
            "INFO:hyperopt.tpe:TPE using 4/4 trials with best loss 0.226588\n"
          ]
        },
        {
          "output_type": "stream",
          "name": "stdout",
          "text": [
            "2022-11-22 16:41:50,711 - TPE using 4/4 trials with best loss 0.226588\n",
            " 50%|█████     | 5/10 [00:06<00:06,  1.31s/trial, best loss: 0.22209180844928988]"
          ]
        },
        {
          "output_type": "stream",
          "name": "stderr",
          "text": [
            "INFO:hyperopt.tpe:build_posterior_wrapper took 0.008180 seconds\n"
          ]
        },
        {
          "output_type": "stream",
          "name": "stdout",
          "text": [
            "2022-11-22 16:41:52,415 - build_posterior_wrapper took 0.008180 seconds\n"
          ]
        },
        {
          "output_type": "stream",
          "name": "stderr",
          "text": [
            "INFO:hyperopt.tpe:TPE using 5/5 trials with best loss 0.222092\n"
          ]
        },
        {
          "output_type": "stream",
          "name": "stdout",
          "text": [
            "2022-11-22 16:41:52,431 - TPE using 5/5 trials with best loss 0.222092\n",
            " 60%|██████    | 6/10 [00:08<00:06,  1.63s/trial, best loss: 0.22209180844928988]"
          ]
        },
        {
          "output_type": "stream",
          "name": "stderr",
          "text": [
            "INFO:hyperopt.tpe:build_posterior_wrapper took 0.016290 seconds\n"
          ]
        },
        {
          "output_type": "stream",
          "name": "stdout",
          "text": [
            "2022-11-22 16:41:54,676 - build_posterior_wrapper took 0.016290 seconds\n"
          ]
        },
        {
          "output_type": "stream",
          "name": "stderr",
          "text": [
            "INFO:hyperopt.tpe:TPE using 6/6 trials with best loss 0.222092\n"
          ]
        },
        {
          "output_type": "stream",
          "name": "stdout",
          "text": [
            "2022-11-22 16:41:54,683 - TPE using 6/6 trials with best loss 0.222092\n",
            " 70%|███████   | 7/10 [00:10<00:04,  1.55s/trial, best loss: 0.22209180844928988]"
          ]
        },
        {
          "output_type": "stream",
          "name": "stderr",
          "text": [
            "INFO:hyperopt.tpe:build_posterior_wrapper took 0.009243 seconds\n"
          ]
        },
        {
          "output_type": "stream",
          "name": "stdout",
          "text": [
            "2022-11-22 16:41:56,047 - build_posterior_wrapper took 0.009243 seconds\n"
          ]
        },
        {
          "output_type": "stream",
          "name": "stderr",
          "text": [
            "INFO:hyperopt.tpe:TPE using 7/7 trials with best loss 0.222092\n"
          ]
        },
        {
          "output_type": "stream",
          "name": "stdout",
          "text": [
            "2022-11-22 16:41:56,056 - TPE using 7/7 trials with best loss 0.222092\n",
            " 80%|████████  | 8/10 [00:10<00:02,  1.23s/trial, best loss: 0.22209180844928988]"
          ]
        },
        {
          "output_type": "stream",
          "name": "stderr",
          "text": [
            "INFO:hyperopt.tpe:build_posterior_wrapper took 0.008239 seconds\n"
          ]
        },
        {
          "output_type": "stream",
          "name": "stdout",
          "text": [
            "2022-11-22 16:41:56,609 - build_posterior_wrapper took 0.008239 seconds\n"
          ]
        },
        {
          "output_type": "stream",
          "name": "stderr",
          "text": [
            "INFO:hyperopt.tpe:TPE using 8/8 trials with best loss 0.222092\n"
          ]
        },
        {
          "output_type": "stream",
          "name": "stdout",
          "text": [
            "2022-11-22 16:41:56,619 - TPE using 8/8 trials with best loss 0.222092\n",
            " 90%|█████████ | 9/10 [00:12<00:01,  1.49s/trial, best loss: 0.22209180844928988]"
          ]
        },
        {
          "output_type": "stream",
          "name": "stderr",
          "text": [
            "INFO:hyperopt.tpe:build_posterior_wrapper took 0.008614 seconds\n"
          ]
        },
        {
          "output_type": "stream",
          "name": "stdout",
          "text": [
            "2022-11-22 16:41:58,664 - build_posterior_wrapper took 0.008614 seconds\n"
          ]
        },
        {
          "output_type": "stream",
          "name": "stderr",
          "text": [
            "INFO:hyperopt.tpe:TPE using 9/9 trials with best loss 0.222092\n"
          ]
        },
        {
          "output_type": "stream",
          "name": "stdout",
          "text": [
            "2022-11-22 16:41:58,670 - TPE using 9/9 trials with best loss 0.222092\n",
            "100%|██████████| 10/10 [00:13<00:00,  1.36s/trial, best loss: 0.22209180844928988]\n"
          ]
        },
        {
          "output_type": "stream",
          "name": "stderr",
          "text": [
            "INFO:root:PipelineTuner - Hyperparameters optimization finished\n"
          ]
        },
        {
          "output_type": "stream",
          "name": "stdout",
          "text": [
            "2022-11-22 16:42:00,679 - PipelineTuner - Hyperparameters optimization finished\n"
          ]
        },
        {
          "output_type": "stream",
          "name": "stderr",
          "text": [
            "INFO:root:PipelineTuner - Return tuned pipeline due to the fact that obtained metric 0.222 equal or better than initial (+ 5% deviation) 0.235\n"
          ]
        },
        {
          "output_type": "stream",
          "name": "stdout",
          "text": [
            "2022-11-22 16:42:00,685 - PipelineTuner - Return tuned pipeline due to the fact that obtained metric 0.222 equal or better than initial (+ 5% deviation) 0.235\n"
          ]
        },
        {
          "output_type": "stream",
          "name": "stderr",
          "text": [
            "INFO:root:PipelineTuner - Hyperparameters optimization start\n"
          ]
        },
        {
          "output_type": "stream",
          "name": "stdout",
          "text": [
            "2022-11-22 16:42:01,819 - PipelineTuner - Hyperparameters optimization start\n",
            "  0%|          | 0/10 [00:00<?, ?trial/s, best loss=?]"
          ]
        },
        {
          "output_type": "stream",
          "name": "stderr",
          "text": [
            "INFO:hyperopt.tpe:build_posterior_wrapper took 0.007689 seconds\n"
          ]
        },
        {
          "output_type": "stream",
          "name": "stdout",
          "text": [
            "2022-11-22 16:42:03,300 - build_posterior_wrapper took 0.007689 seconds\n"
          ]
        },
        {
          "output_type": "stream",
          "name": "stderr",
          "text": [
            "INFO:hyperopt.tpe:TPE using 0 trials\n"
          ]
        },
        {
          "output_type": "stream",
          "name": "stdout",
          "text": [
            "2022-11-22 16:42:03,310 - TPE using 0 trials\n",
            " 10%|█         | 1/10 [00:01<00:17,  1.95s/trial, best loss: 0.16798783509752746]"
          ]
        },
        {
          "output_type": "stream",
          "name": "stderr",
          "text": [
            "INFO:hyperopt.tpe:build_posterior_wrapper took 0.011032 seconds\n"
          ]
        },
        {
          "output_type": "stream",
          "name": "stdout",
          "text": [
            "2022-11-22 16:42:05,260 - build_posterior_wrapper took 0.011032 seconds\n"
          ]
        },
        {
          "output_type": "stream",
          "name": "stderr",
          "text": [
            "INFO:hyperopt.tpe:TPE using 1/1 trials with best loss 0.167988\n"
          ]
        },
        {
          "output_type": "stream",
          "name": "stdout",
          "text": [
            "2022-11-22 16:42:05,273 - TPE using 1/1 trials with best loss 0.167988\n",
            " 20%|██        | 2/10 [00:04<00:18,  2.37s/trial, best loss: 0.16798783509752746]"
          ]
        },
        {
          "output_type": "stream",
          "name": "stderr",
          "text": [
            "INFO:hyperopt.tpe:build_posterior_wrapper took 0.013266 seconds\n"
          ]
        },
        {
          "output_type": "stream",
          "name": "stdout",
          "text": [
            "2022-11-22 16:42:07,923 - build_posterior_wrapper took 0.013266 seconds\n"
          ]
        },
        {
          "output_type": "stream",
          "name": "stderr",
          "text": [
            "INFO:hyperopt.tpe:TPE using 2/2 trials with best loss 0.167988\n"
          ]
        },
        {
          "output_type": "stream",
          "name": "stdout",
          "text": [
            "2022-11-22 16:42:07,940 - TPE using 2/2 trials with best loss 0.167988\n",
            " 30%|███       | 3/10 [00:06<00:14,  2.02s/trial, best loss: 0.16798783509752746]"
          ]
        },
        {
          "output_type": "stream",
          "name": "stderr",
          "text": [
            "INFO:hyperopt.tpe:build_posterior_wrapper took 0.022562 seconds\n"
          ]
        },
        {
          "output_type": "stream",
          "name": "stdout",
          "text": [
            "2022-11-22 16:42:09,541 - build_posterior_wrapper took 0.022562 seconds\n"
          ]
        },
        {
          "output_type": "stream",
          "name": "stderr",
          "text": [
            "INFO:hyperopt.tpe:TPE using 3/3 trials with best loss 0.167988\n"
          ]
        },
        {
          "output_type": "stream",
          "name": "stdout",
          "text": [
            "2022-11-22 16:42:09,552 - TPE using 3/3 trials with best loss 0.167988\n",
            " 40%|████      | 4/10 [00:07<00:10,  1.78s/trial, best loss: 0.16798783509752746]"
          ]
        },
        {
          "output_type": "stream",
          "name": "stderr",
          "text": [
            "INFO:hyperopt.tpe:build_posterior_wrapper took 0.011788 seconds\n"
          ]
        },
        {
          "output_type": "stream",
          "name": "stdout",
          "text": [
            "2022-11-22 16:42:10,937 - build_posterior_wrapper took 0.011788 seconds\n"
          ]
        },
        {
          "output_type": "stream",
          "name": "stderr",
          "text": [
            "INFO:hyperopt.tpe:TPE using 4/4 trials with best loss 0.167988\n"
          ]
        },
        {
          "output_type": "stream",
          "name": "stdout",
          "text": [
            "2022-11-22 16:42:10,947 - TPE using 4/4 trials with best loss 0.167988\n",
            " 50%|█████     | 5/10 [00:08<00:07,  1.54s/trial, best loss: 0.16798783509752746]"
          ]
        },
        {
          "output_type": "stream",
          "name": "stderr",
          "text": [
            "INFO:hyperopt.tpe:build_posterior_wrapper took 0.008330 seconds\n"
          ]
        },
        {
          "output_type": "stream",
          "name": "stdout",
          "text": [
            "2022-11-22 16:42:12,034 - build_posterior_wrapper took 0.008330 seconds\n"
          ]
        },
        {
          "output_type": "stream",
          "name": "stderr",
          "text": [
            "INFO:hyperopt.tpe:TPE using 5/5 trials with best loss 0.167988\n"
          ]
        },
        {
          "output_type": "stream",
          "name": "stdout",
          "text": [
            "2022-11-22 16:42:12,044 - TPE using 5/5 trials with best loss 0.167988\n",
            " 60%|██████    | 6/10 [00:09<00:04,  1.16s/trial, best loss: 0.16798783509752746]"
          ]
        },
        {
          "output_type": "stream",
          "name": "stderr",
          "text": [
            "INFO:hyperopt.tpe:build_posterior_wrapper took 0.008030 seconds\n"
          ]
        },
        {
          "output_type": "stream",
          "name": "stdout",
          "text": [
            "2022-11-22 16:42:12,471 - build_posterior_wrapper took 0.008030 seconds\n"
          ]
        },
        {
          "output_type": "stream",
          "name": "stderr",
          "text": [
            "INFO:hyperopt.tpe:TPE using 6/6 trials with best loss 0.167988\n"
          ]
        },
        {
          "output_type": "stream",
          "name": "stdout",
          "text": [
            "2022-11-22 16:42:12,482 - TPE using 6/6 trials with best loss 0.167988\n",
            " 70%|███████   | 7/10 [00:10<00:03,  1.24s/trial, best loss: 0.16798783509752746]"
          ]
        },
        {
          "output_type": "stream",
          "name": "stderr",
          "text": [
            "INFO:hyperopt.tpe:build_posterior_wrapper took 0.008100 seconds\n"
          ]
        },
        {
          "output_type": "stream",
          "name": "stdout",
          "text": [
            "2022-11-22 16:42:13,870 - build_posterior_wrapper took 0.008100 seconds\n"
          ]
        },
        {
          "output_type": "stream",
          "name": "stderr",
          "text": [
            "INFO:hyperopt.tpe:TPE using 7/7 trials with best loss 0.167988\n"
          ]
        },
        {
          "output_type": "stream",
          "name": "stdout",
          "text": [
            "2022-11-22 16:42:13,885 - TPE using 7/7 trials with best loss 0.167988\n",
            " 80%|████████  | 8/10 [00:11<00:02,  1.04s/trial, best loss: 0.16798783509752746]"
          ]
        },
        {
          "output_type": "stream",
          "name": "stderr",
          "text": [
            "INFO:hyperopt.tpe:build_posterior_wrapper took 0.009086 seconds\n"
          ]
        },
        {
          "output_type": "stream",
          "name": "stdout",
          "text": [
            "2022-11-22 16:42:14,475 - build_posterior_wrapper took 0.009086 seconds\n"
          ]
        },
        {
          "output_type": "stream",
          "name": "stderr",
          "text": [
            "INFO:hyperopt.tpe:TPE using 8/8 trials with best loss 0.167988\n"
          ]
        },
        {
          "output_type": "stream",
          "name": "stdout",
          "text": [
            "2022-11-22 16:42:14,486 - TPE using 8/8 trials with best loss 0.167988\n",
            " 90%|█████████ | 9/10 [00:12<00:01,  1.25s/trial, best loss: 0.16798783509752746]"
          ]
        },
        {
          "output_type": "stream",
          "name": "stderr",
          "text": [
            "INFO:hyperopt.tpe:build_posterior_wrapper took 0.013070 seconds\n"
          ]
        },
        {
          "output_type": "stream",
          "name": "stdout",
          "text": [
            "2022-11-22 16:42:16,186 - build_posterior_wrapper took 0.013070 seconds\n"
          ]
        },
        {
          "output_type": "stream",
          "name": "stderr",
          "text": [
            "INFO:hyperopt.tpe:TPE using 9/9 trials with best loss 0.167988\n"
          ]
        },
        {
          "output_type": "stream",
          "name": "stdout",
          "text": [
            "2022-11-22 16:42:16,197 - TPE using 9/9 trials with best loss 0.167988\n",
            "100%|██████████| 10/10 [00:13<00:00,  1.34s/trial, best loss: 0.16798783509752746]\n"
          ]
        },
        {
          "output_type": "stream",
          "name": "stderr",
          "text": [
            "INFO:root:PipelineTuner - Hyperparameters optimization finished\n"
          ]
        },
        {
          "output_type": "stream",
          "name": "stdout",
          "text": [
            "2022-11-22 16:42:18,640 - PipelineTuner - Hyperparameters optimization finished\n"
          ]
        },
        {
          "output_type": "stream",
          "name": "stderr",
          "text": [
            "INFO:root:PipelineTuner - Return tuned pipeline due to the fact that obtained metric 0.168 equal or better than initial (+ 5% deviation) 0.176\n"
          ]
        },
        {
          "output_type": "stream",
          "name": "stdout",
          "text": [
            "2022-11-22 16:42:18,653 - PipelineTuner - Return tuned pipeline due to the fact that obtained metric 0.168 equal or better than initial (+ 5% deviation) 0.176\n"
          ]
        },
        {
          "output_type": "stream",
          "name": "stderr",
          "text": [
            "INFO:root:PipelineTuner - Hyperparameters optimization start\n"
          ]
        },
        {
          "output_type": "stream",
          "name": "stdout",
          "text": [
            "Fitting pipeline №7\n",
            "2022-11-22 16:42:19,204 - PipelineTuner - Hyperparameters optimization start\n",
            "  0%|          | 0/10 [00:00<?, ?trial/s, best loss=?]"
          ]
        },
        {
          "output_type": "stream",
          "name": "stderr",
          "text": [
            "INFO:hyperopt.tpe:build_posterior_wrapper took 0.008513 seconds\n"
          ]
        },
        {
          "output_type": "stream",
          "name": "stdout",
          "text": [
            "2022-11-22 16:42:21,462 - build_posterior_wrapper took 0.008513 seconds\n"
          ]
        },
        {
          "output_type": "stream",
          "name": "stderr",
          "text": [
            "INFO:hyperopt.tpe:TPE using 0 trials\n"
          ]
        },
        {
          "output_type": "stream",
          "name": "stdout",
          "text": [
            "2022-11-22 16:42:21,467 - TPE using 0 trials\n",
            " 10%|█         | 1/10 [00:03<00:28,  3.14s/trial, best loss: 0.3739401368201014]"
          ]
        },
        {
          "output_type": "stream",
          "name": "stderr",
          "text": [
            "INFO:hyperopt.tpe:build_posterior_wrapper took 0.011311 seconds\n"
          ]
        },
        {
          "output_type": "stream",
          "name": "stdout",
          "text": [
            "2022-11-22 16:42:24,604 - build_posterior_wrapper took 0.011311 seconds\n"
          ]
        },
        {
          "output_type": "stream",
          "name": "stderr",
          "text": [
            "INFO:hyperopt.tpe:TPE using 1/1 trials with best loss 0.373940\n"
          ]
        },
        {
          "output_type": "stream",
          "name": "stdout",
          "text": [
            "2022-11-22 16:42:24,610 - TPE using 1/1 trials with best loss 0.373940\n",
            " 20%|██        | 2/10 [00:06<00:24,  3.03s/trial, best loss: 0.2245521536505732]"
          ]
        },
        {
          "output_type": "stream",
          "name": "stderr",
          "text": [
            "INFO:hyperopt.tpe:build_posterior_wrapper took 0.013053 seconds\n"
          ]
        },
        {
          "output_type": "stream",
          "name": "stdout",
          "text": [
            "2022-11-22 16:42:27,557 - build_posterior_wrapper took 0.013053 seconds\n"
          ]
        },
        {
          "output_type": "stream",
          "name": "stderr",
          "text": [
            "INFO:hyperopt.tpe:TPE using 2/2 trials with best loss 0.224552\n"
          ]
        },
        {
          "output_type": "stream",
          "name": "stdout",
          "text": [
            "2022-11-22 16:42:27,567 - TPE using 2/2 trials with best loss 0.224552\n",
            " 30%|███       | 3/10 [00:16<00:44,  6.39s/trial, best loss: 0.2245521536505732]"
          ]
        },
        {
          "output_type": "stream",
          "name": "stderr",
          "text": [
            "INFO:hyperopt.tpe:build_posterior_wrapper took 0.012470 seconds\n"
          ]
        },
        {
          "output_type": "stream",
          "name": "stdout",
          "text": [
            "2022-11-22 16:42:37,952 - build_posterior_wrapper took 0.012470 seconds\n"
          ]
        },
        {
          "output_type": "stream",
          "name": "stderr",
          "text": [
            "INFO:hyperopt.tpe:TPE using 3/3 trials with best loss 0.224552\n"
          ]
        },
        {
          "output_type": "stream",
          "name": "stdout",
          "text": [
            "2022-11-22 16:42:37,961 - TPE using 3/3 trials with best loss 0.224552\n",
            " 40%|████      | 4/10 [00:23<00:38,  6.45s/trial, best loss: 0.2062518386515817]"
          ]
        },
        {
          "output_type": "stream",
          "name": "stderr",
          "text": [
            "INFO:hyperopt.tpe:build_posterior_wrapper took 0.011870 seconds\n"
          ]
        },
        {
          "output_type": "stream",
          "name": "stdout",
          "text": [
            "2022-11-22 16:42:44,497 - build_posterior_wrapper took 0.011870 seconds\n"
          ]
        },
        {
          "output_type": "stream",
          "name": "stderr",
          "text": [
            "INFO:hyperopt.tpe:TPE using 4/4 trials with best loss 0.206252\n"
          ]
        },
        {
          "output_type": "stream",
          "name": "stdout",
          "text": [
            "2022-11-22 16:42:44,505 - TPE using 4/4 trials with best loss 0.206252\n",
            " 50%|█████     | 5/10 [00:27<00:28,  5.77s/trial, best loss: 0.2062518386515817]"
          ]
        },
        {
          "output_type": "stream",
          "name": "stderr",
          "text": [
            "INFO:hyperopt.tpe:build_posterior_wrapper took 0.008152 seconds\n"
          ]
        },
        {
          "output_type": "stream",
          "name": "stdout",
          "text": [
            "2022-11-22 16:42:49,046 - build_posterior_wrapper took 0.008152 seconds\n"
          ]
        },
        {
          "output_type": "stream",
          "name": "stderr",
          "text": [
            "INFO:hyperopt.tpe:TPE using 5/5 trials with best loss 0.206252\n"
          ]
        },
        {
          "output_type": "stream",
          "name": "stdout",
          "text": [
            "2022-11-22 16:42:49,053 - TPE using 5/5 trials with best loss 0.206252\n",
            " 60%|██████    | 6/10 [00:28<00:17,  4.27s/trial, best loss: 0.2062518386515817]"
          ]
        },
        {
          "output_type": "stream",
          "name": "stderr",
          "text": [
            "INFO:hyperopt.tpe:build_posterior_wrapper took 0.011709 seconds\n"
          ]
        },
        {
          "output_type": "stream",
          "name": "stdout",
          "text": [
            "2022-11-22 16:42:50,401 - build_posterior_wrapper took 0.011709 seconds\n"
          ]
        },
        {
          "output_type": "stream",
          "name": "stderr",
          "text": [
            "INFO:hyperopt.tpe:TPE using 6/6 trials with best loss 0.206252\n"
          ]
        },
        {
          "output_type": "stream",
          "name": "stdout",
          "text": [
            "2022-11-22 16:42:50,414 - TPE using 6/6 trials with best loss 0.206252\n",
            " 70%|███████   | 7/10 [00:34<00:14,  4.78s/trial, best loss: 0.2062518386515817]"
          ]
        },
        {
          "output_type": "stream",
          "name": "stderr",
          "text": [
            "INFO:hyperopt.tpe:build_posterior_wrapper took 0.010400 seconds\n"
          ]
        },
        {
          "output_type": "stream",
          "name": "stdout",
          "text": [
            "2022-11-22 16:42:56,244 - build_posterior_wrapper took 0.010400 seconds\n"
          ]
        },
        {
          "output_type": "stream",
          "name": "stderr",
          "text": [
            "INFO:hyperopt.tpe:TPE using 7/7 trials with best loss 0.206252\n"
          ]
        },
        {
          "output_type": "stream",
          "name": "stdout",
          "text": [
            "2022-11-22 16:42:56,254 - TPE using 7/7 trials with best loss 0.206252\n",
            " 80%|████████  | 8/10 [00:37<00:08,  4.04s/trial, best loss: 0.2062518386515817]"
          ]
        },
        {
          "output_type": "stream",
          "name": "stderr",
          "text": [
            "INFO:hyperopt.tpe:build_posterior_wrapper took 0.010232 seconds\n"
          ]
        },
        {
          "output_type": "stream",
          "name": "stdout",
          "text": [
            "2022-11-22 16:42:58,714 - build_posterior_wrapper took 0.010232 seconds\n"
          ]
        },
        {
          "output_type": "stream",
          "name": "stderr",
          "text": [
            "INFO:hyperopt.tpe:TPE using 8/8 trials with best loss 0.206252\n"
          ]
        },
        {
          "output_type": "stream",
          "name": "stdout",
          "text": [
            "2022-11-22 16:42:58,720 - TPE using 8/8 trials with best loss 0.206252\n",
            " 90%|█████████ | 9/10 [00:43<00:04,  4.75s/trial, best loss: 0.2062518386515817]"
          ]
        },
        {
          "output_type": "stream",
          "name": "stderr",
          "text": [
            "INFO:hyperopt.tpe:build_posterior_wrapper took 0.019165 seconds\n"
          ]
        },
        {
          "output_type": "stream",
          "name": "stdout",
          "text": [
            "2022-11-22 16:43:05,035 - build_posterior_wrapper took 0.019165 seconds\n"
          ]
        },
        {
          "output_type": "stream",
          "name": "stderr",
          "text": [
            "INFO:hyperopt.tpe:TPE using 9/9 trials with best loss 0.206252\n"
          ]
        },
        {
          "output_type": "stream",
          "name": "stdout",
          "text": [
            "2022-11-22 16:43:05,046 - TPE using 9/9 trials with best loss 0.206252\n",
            "100%|██████████| 10/10 [00:52<00:00,  5.25s/trial, best loss: 0.2062518386515817]\n"
          ]
        },
        {
          "output_type": "stream",
          "name": "stderr",
          "text": [
            "INFO:root:PipelineTuner - Hyperparameters optimization finished\n"
          ]
        },
        {
          "output_type": "stream",
          "name": "stdout",
          "text": [
            "2022-11-22 16:43:20,473 - PipelineTuner - Hyperparameters optimization finished\n"
          ]
        },
        {
          "output_type": "stream",
          "name": "stderr",
          "text": [
            "INFO:root:PipelineTuner - Return tuned pipeline due to the fact that obtained metric 0.206 equal or better than initial (+ 5% deviation) 0.237\n"
          ]
        },
        {
          "output_type": "stream",
          "name": "stdout",
          "text": [
            "2022-11-22 16:43:20,487 - PipelineTuner - Return tuned pipeline due to the fact that obtained metric 0.206 equal or better than initial (+ 5% deviation) 0.237\n"
          ]
        },
        {
          "output_type": "stream",
          "name": "stderr",
          "text": [
            "INFO:root:PipelineTuner - Hyperparameters optimization start\n"
          ]
        },
        {
          "output_type": "stream",
          "name": "stdout",
          "text": [
            "2022-11-22 16:43:25,037 - PipelineTuner - Hyperparameters optimization start\n",
            "  0%|          | 0/10 [00:00<?, ?trial/s, best loss=?]"
          ]
        },
        {
          "output_type": "stream",
          "name": "stderr",
          "text": [
            "INFO:hyperopt.tpe:build_posterior_wrapper took 0.010970 seconds\n"
          ]
        },
        {
          "output_type": "stream",
          "name": "stdout",
          "text": [
            "2022-11-22 16:43:34,822 - build_posterior_wrapper took 0.010970 seconds\n"
          ]
        },
        {
          "output_type": "stream",
          "name": "stderr",
          "text": [
            "INFO:hyperopt.tpe:TPE using 0 trials\n"
          ]
        },
        {
          "output_type": "stream",
          "name": "stdout",
          "text": [
            "2022-11-22 16:43:34,829 - TPE using 0 trials\n",
            " 10%|█         | 1/10 [00:01<00:15,  1.76s/trial, best loss: 0.18993858551321316]"
          ]
        },
        {
          "output_type": "stream",
          "name": "stderr",
          "text": [
            "INFO:hyperopt.tpe:build_posterior_wrapper took 0.013289 seconds\n"
          ]
        },
        {
          "output_type": "stream",
          "name": "stdout",
          "text": [
            "2022-11-22 16:43:36,587 - build_posterior_wrapper took 0.013289 seconds\n"
          ]
        },
        {
          "output_type": "stream",
          "name": "stderr",
          "text": [
            "INFO:hyperopt.tpe:TPE using 1/1 trials with best loss 0.189939\n"
          ]
        },
        {
          "output_type": "stream",
          "name": "stdout",
          "text": [
            "2022-11-22 16:43:36,594 - TPE using 1/1 trials with best loss 0.189939\n",
            " 20%|██        | 2/10 [00:08<00:38,  4.85s/trial, best loss: 0.16997159232934897]"
          ]
        },
        {
          "output_type": "stream",
          "name": "stderr",
          "text": [
            "INFO:hyperopt.tpe:build_posterior_wrapper took 0.010999 seconds\n"
          ]
        },
        {
          "output_type": "stream",
          "name": "stdout",
          "text": [
            "2022-11-22 16:43:43,591 - build_posterior_wrapper took 0.010999 seconds\n"
          ]
        },
        {
          "output_type": "stream",
          "name": "stderr",
          "text": [
            "INFO:hyperopt.tpe:TPE using 2/2 trials with best loss 0.169972\n"
          ]
        },
        {
          "output_type": "stream",
          "name": "stdout",
          "text": [
            "2022-11-22 16:43:43,596 - TPE using 2/2 trials with best loss 0.169972\n",
            " 30%|███       | 3/10 [00:14<00:36,  5.19s/trial, best loss: 0.15822945095113555]"
          ]
        },
        {
          "output_type": "stream",
          "name": "stderr",
          "text": [
            "INFO:hyperopt.tpe:build_posterior_wrapper took 0.017576 seconds\n"
          ]
        },
        {
          "output_type": "stream",
          "name": "stdout",
          "text": [
            "2022-11-22 16:43:49,188 - build_posterior_wrapper took 0.017576 seconds\n"
          ]
        },
        {
          "output_type": "stream",
          "name": "stderr",
          "text": [
            "INFO:hyperopt.tpe:TPE using 3/3 trials with best loss 0.158229\n"
          ]
        },
        {
          "output_type": "stream",
          "name": "stdout",
          "text": [
            "2022-11-22 16:43:49,195 - TPE using 3/3 trials with best loss 0.158229\n",
            " 40%|████      | 4/10 [00:27<00:49,  8.27s/trial, best loss: 0.14845264199790792]"
          ]
        },
        {
          "output_type": "stream",
          "name": "stderr",
          "text": [
            "INFO:hyperopt.tpe:build_posterior_wrapper took 0.012985 seconds\n"
          ]
        },
        {
          "output_type": "stream",
          "name": "stdout",
          "text": [
            "2022-11-22 16:44:02,173 - build_posterior_wrapper took 0.012985 seconds\n"
          ]
        },
        {
          "output_type": "stream",
          "name": "stderr",
          "text": [
            "INFO:hyperopt.tpe:TPE using 4/4 trials with best loss 0.148453\n"
          ]
        },
        {
          "output_type": "stream",
          "name": "stdout",
          "text": [
            "2022-11-22 16:44:02,179 - TPE using 4/4 trials with best loss 0.148453\n",
            " 50%|█████     | 5/10 [00:41<00:51, 10.23s/trial, best loss: 0.14845264199790792]"
          ]
        },
        {
          "output_type": "stream",
          "name": "stderr",
          "text": [
            "INFO:hyperopt.tpe:build_posterior_wrapper took 0.011006 seconds\n"
          ]
        },
        {
          "output_type": "stream",
          "name": "stdout",
          "text": [
            "2022-11-22 16:44:15,887 - build_posterior_wrapper took 0.011006 seconds\n"
          ]
        },
        {
          "output_type": "stream",
          "name": "stderr",
          "text": [
            "INFO:hyperopt.tpe:TPE using 5/5 trials with best loss 0.148453\n"
          ]
        },
        {
          "output_type": "stream",
          "name": "stdout",
          "text": [
            "2022-11-22 16:44:15,893 - TPE using 5/5 trials with best loss 0.148453\n",
            " 60%|██████    | 6/10 [00:45<00:33,  8.28s/trial, best loss: 0.14845264199790792]"
          ]
        },
        {
          "output_type": "stream",
          "name": "stderr",
          "text": [
            "INFO:hyperopt.tpe:build_posterior_wrapper took 0.010578 seconds\n"
          ]
        },
        {
          "output_type": "stream",
          "name": "stdout",
          "text": [
            "2022-11-22 16:44:20,363 - build_posterior_wrapper took 0.010578 seconds\n"
          ]
        },
        {
          "output_type": "stream",
          "name": "stderr",
          "text": [
            "INFO:hyperopt.tpe:TPE using 6/6 trials with best loss 0.148453\n"
          ]
        },
        {
          "output_type": "stream",
          "name": "stdout",
          "text": [
            "2022-11-22 16:44:20,369 - TPE using 6/6 trials with best loss 0.148453\n",
            " 70%|███████   | 7/10 [00:59<00:29,  9.98s/trial, best loss: 0.14845264199790792]"
          ]
        },
        {
          "output_type": "stream",
          "name": "stderr",
          "text": [
            "INFO:hyperopt.tpe:build_posterior_wrapper took 0.012866 seconds\n"
          ]
        },
        {
          "output_type": "stream",
          "name": "stdout",
          "text": [
            "2022-11-22 16:44:33,861 - build_posterior_wrapper took 0.012866 seconds\n"
          ]
        },
        {
          "output_type": "stream",
          "name": "stderr",
          "text": [
            "INFO:hyperopt.tpe:TPE using 7/7 trials with best loss 0.148453\n"
          ]
        },
        {
          "output_type": "stream",
          "name": "stdout",
          "text": [
            "2022-11-22 16:44:33,866 - TPE using 7/7 trials with best loss 0.148453\n",
            " 80%|████████  | 8/10 [01:03<00:16,  8.12s/trial, best loss: 0.14845264199790792]"
          ]
        },
        {
          "output_type": "stream",
          "name": "stderr",
          "text": [
            "INFO:hyperopt.tpe:build_posterior_wrapper took 0.014065 seconds\n"
          ]
        },
        {
          "output_type": "stream",
          "name": "stdout",
          "text": [
            "2022-11-22 16:44:38,004 - build_posterior_wrapper took 0.014065 seconds\n"
          ]
        },
        {
          "output_type": "stream",
          "name": "stderr",
          "text": [
            "INFO:hyperopt.tpe:TPE using 8/8 trials with best loss 0.148453\n"
          ]
        },
        {
          "output_type": "stream",
          "name": "stdout",
          "text": [
            "2022-11-22 16:44:38,010 - TPE using 8/8 trials with best loss 0.148453\n",
            " 90%|█████████ | 9/10 [01:05<00:06,  6.22s/trial, best loss: 0.14845264199790792]"
          ]
        },
        {
          "output_type": "stream",
          "name": "stderr",
          "text": [
            "INFO:hyperopt.tpe:build_posterior_wrapper took 0.014021 seconds\n"
          ]
        },
        {
          "output_type": "stream",
          "name": "stdout",
          "text": [
            "2022-11-22 16:44:40,033 - build_posterior_wrapper took 0.014021 seconds\n"
          ]
        },
        {
          "output_type": "stream",
          "name": "stderr",
          "text": [
            "INFO:hyperopt.tpe:TPE using 9/9 trials with best loss 0.148453\n"
          ]
        },
        {
          "output_type": "stream",
          "name": "stdout",
          "text": [
            "2022-11-22 16:44:40,040 - TPE using 9/9 trials with best loss 0.148453\n",
            "100%|██████████| 10/10 [01:11<00:00,  7.17s/trial, best loss: 0.14845264199790792]\n"
          ]
        },
        {
          "output_type": "stream",
          "name": "stderr",
          "text": [
            "INFO:root:PipelineTuner - Hyperparameters optimization finished\n"
          ]
        },
        {
          "output_type": "stream",
          "name": "stdout",
          "text": [
            "2022-11-22 16:44:57,339 - PipelineTuner - Hyperparameters optimization finished\n"
          ]
        },
        {
          "output_type": "stream",
          "name": "stderr",
          "text": [
            "INFO:root:PipelineTuner - Return tuned pipeline due to the fact that obtained metric 0.148 equal or better than initial (+ 5% deviation) 0.165\n"
          ]
        },
        {
          "output_type": "stream",
          "name": "stdout",
          "text": [
            "2022-11-22 16:44:57,351 - PipelineTuner - Return tuned pipeline due to the fact that obtained metric 0.148 equal or better than initial (+ 5% deviation) 0.165\n"
          ]
        },
        {
          "output_type": "stream",
          "name": "stderr",
          "text": [
            "INFO:root:PipelineTuner - Hyperparameters optimization start\n"
          ]
        },
        {
          "output_type": "stream",
          "name": "stdout",
          "text": [
            "Fitting pipeline №8\n",
            "2022-11-22 16:45:05,819 - PipelineTuner - Hyperparameters optimization start\n",
            "  0%|          | 0/10 [00:00<?, ?trial/s, best loss=?]"
          ]
        },
        {
          "output_type": "stream",
          "name": "stderr",
          "text": [
            "INFO:hyperopt.tpe:build_posterior_wrapper took 0.011779 seconds\n"
          ]
        },
        {
          "output_type": "stream",
          "name": "stdout",
          "text": [
            "2022-11-22 16:45:09,043 - build_posterior_wrapper took 0.011779 seconds\n"
          ]
        },
        {
          "output_type": "stream",
          "name": "stderr",
          "text": [
            "INFO:hyperopt.tpe:TPE using 0 trials\n"
          ]
        },
        {
          "output_type": "stream",
          "name": "stdout",
          "text": [
            "2022-11-22 16:45:09,052 - TPE using 0 trials\n",
            " 10%|█         | 1/10 [00:10<01:31, 10.19s/trial, best loss: 0.24569669073274927]"
          ]
        },
        {
          "output_type": "stream",
          "name": "stderr",
          "text": [
            "INFO:hyperopt.tpe:build_posterior_wrapper took 0.010025 seconds\n"
          ]
        },
        {
          "output_type": "stream",
          "name": "stdout",
          "text": [
            "2022-11-22 16:45:19,230 - build_posterior_wrapper took 0.010025 seconds\n"
          ]
        },
        {
          "output_type": "stream",
          "name": "stderr",
          "text": [
            "INFO:hyperopt.tpe:TPE using 1/1 trials with best loss 0.245697\n"
          ]
        },
        {
          "output_type": "stream",
          "name": "stdout",
          "text": [
            "2022-11-22 16:45:19,236 - TPE using 1/1 trials with best loss 0.245697\n",
            " 20%|██        | 2/10 [00:20<01:20, 10.04s/trial, best loss: 0.22872227289337338]"
          ]
        },
        {
          "output_type": "stream",
          "name": "stderr",
          "text": [
            "INFO:hyperopt.tpe:build_posterior_wrapper took 0.005311 seconds\n"
          ]
        },
        {
          "output_type": "stream",
          "name": "stdout",
          "text": [
            "2022-11-22 16:45:29,165 - build_posterior_wrapper took 0.005311 seconds\n"
          ]
        },
        {
          "output_type": "stream",
          "name": "stderr",
          "text": [
            "INFO:hyperopt.tpe:TPE using 2/2 trials with best loss 0.228722\n"
          ]
        },
        {
          "output_type": "stream",
          "name": "stdout",
          "text": [
            "2022-11-22 16:45:29,172 - TPE using 2/2 trials with best loss 0.228722\n",
            " 30%|███       | 3/10 [00:33<01:21, 11.58s/trial, best loss: 0.22872227289337338]"
          ]
        },
        {
          "output_type": "stream",
          "name": "stderr",
          "text": [
            "INFO:hyperopt.tpe:build_posterior_wrapper took 0.008645 seconds\n"
          ]
        },
        {
          "output_type": "stream",
          "name": "stdout",
          "text": [
            "2022-11-22 16:45:42,581 - build_posterior_wrapper took 0.008645 seconds\n"
          ]
        },
        {
          "output_type": "stream",
          "name": "stderr",
          "text": [
            "INFO:hyperopt.tpe:TPE using 3/3 trials with best loss 0.228722\n"
          ]
        },
        {
          "output_type": "stream",
          "name": "stdout",
          "text": [
            "2022-11-22 16:45:42,585 - TPE using 3/3 trials with best loss 0.228722\n",
            " 40%|████      | 4/10 [01:26<02:47, 27.96s/trial, best loss: 0.22872227289337338]"
          ]
        },
        {
          "output_type": "stream",
          "name": "stderr",
          "text": [
            "INFO:hyperopt.tpe:build_posterior_wrapper took 0.005926 seconds\n"
          ]
        },
        {
          "output_type": "stream",
          "name": "stdout",
          "text": [
            "2022-11-22 16:46:35,654 - build_posterior_wrapper took 0.005926 seconds\n"
          ]
        },
        {
          "output_type": "stream",
          "name": "stderr",
          "text": [
            "INFO:hyperopt.tpe:TPE using 4/4 trials with best loss 0.228722\n"
          ]
        },
        {
          "output_type": "stream",
          "name": "stdout",
          "text": [
            "2022-11-22 16:46:35,662 - TPE using 4/4 trials with best loss 0.228722\n",
            " 50%|█████     | 5/10 [02:03<02:03, 24.66s/trial, best loss: 0.22872227289337338]\n"
          ]
        },
        {
          "output_type": "stream",
          "name": "stderr",
          "text": [
            "INFO:root:PipelineTuner - Hyperparameters optimization finished\n"
          ]
        },
        {
          "output_type": "stream",
          "name": "stdout",
          "text": [
            "2022-11-22 16:47:21,926 - PipelineTuner - Hyperparameters optimization finished\n"
          ]
        },
        {
          "output_type": "stream",
          "name": "stderr",
          "text": [
            "INFO:root:PipelineTuner - Return tuned pipeline due to the fact that obtained metric 0.229 equal or better than initial (+ 5% deviation) 0.261\n"
          ]
        },
        {
          "output_type": "stream",
          "name": "stdout",
          "text": [
            "2022-11-22 16:47:21,935 - PipelineTuner - Return tuned pipeline due to the fact that obtained metric 0.229 equal or better than initial (+ 5% deviation) 0.261\n"
          ]
        },
        {
          "output_type": "stream",
          "name": "stderr",
          "text": [
            "INFO:root:PipelineTuner - Hyperparameters optimization start\n"
          ]
        },
        {
          "output_type": "stream",
          "name": "stdout",
          "text": [
            "2022-11-22 16:47:22,863 - PipelineTuner - Hyperparameters optimization start\n",
            "  0%|          | 0/10 [00:00<?, ?trial/s, best loss=?]"
          ]
        },
        {
          "output_type": "stream",
          "name": "stderr",
          "text": [
            "INFO:hyperopt.tpe:build_posterior_wrapper took 0.004307 seconds\n"
          ]
        },
        {
          "output_type": "stream",
          "name": "stdout",
          "text": [
            "2022-11-22 16:47:32,605 - build_posterior_wrapper took 0.004307 seconds\n"
          ]
        },
        {
          "output_type": "stream",
          "name": "stderr",
          "text": [
            "INFO:hyperopt.tpe:TPE using 0 trials\n"
          ]
        },
        {
          "output_type": "stream",
          "name": "stdout",
          "text": [
            "2022-11-22 16:47:32,611 - TPE using 0 trials\n",
            " 10%|█         | 1/10 [00:05<00:53,  5.92s/trial, best loss: 0.250618521244353]"
          ]
        },
        {
          "output_type": "stream",
          "name": "stderr",
          "text": [
            "INFO:hyperopt.tpe:build_posterior_wrapper took 0.009908 seconds\n"
          ]
        },
        {
          "output_type": "stream",
          "name": "stdout",
          "text": [
            "2022-11-22 16:47:38,531 - build_posterior_wrapper took 0.009908 seconds\n"
          ]
        },
        {
          "output_type": "stream",
          "name": "stderr",
          "text": [
            "INFO:hyperopt.tpe:TPE using 1/1 trials with best loss 0.250619\n"
          ]
        },
        {
          "output_type": "stream",
          "name": "stdout",
          "text": [
            "2022-11-22 16:47:38,540 - TPE using 1/1 trials with best loss 0.250619\n",
            " 20%|██        | 2/10 [00:43<03:15, 24.40s/trial, best loss: 0.21913145578048968]"
          ]
        },
        {
          "output_type": "stream",
          "name": "stderr",
          "text": [
            "INFO:hyperopt.tpe:build_posterior_wrapper took 0.009662 seconds\n"
          ]
        },
        {
          "output_type": "stream",
          "name": "stdout",
          "text": [
            "2022-11-22 16:48:15,868 - build_posterior_wrapper took 0.009662 seconds\n"
          ]
        },
        {
          "output_type": "stream",
          "name": "stderr",
          "text": [
            "INFO:hyperopt.tpe:TPE using 2/2 trials with best loss 0.219131\n"
          ]
        },
        {
          "output_type": "stream",
          "name": "stdout",
          "text": [
            "2022-11-22 16:48:15,875 - TPE using 2/2 trials with best loss 0.219131\n",
            " 30%|███       | 3/10 [00:57<02:18, 19.79s/trial, best loss: 0.20497480957571096]"
          ]
        },
        {
          "output_type": "stream",
          "name": "stderr",
          "text": [
            "INFO:hyperopt.tpe:build_posterior_wrapper took 0.009587 seconds\n"
          ]
        },
        {
          "output_type": "stream",
          "name": "stdout",
          "text": [
            "2022-11-22 16:48:30,167 - build_posterior_wrapper took 0.009587 seconds\n"
          ]
        },
        {
          "output_type": "stream",
          "name": "stderr",
          "text": [
            "INFO:hyperopt.tpe:TPE using 3/3 trials with best loss 0.204975\n"
          ]
        },
        {
          "output_type": "stream",
          "name": "stdout",
          "text": [
            "2022-11-22 16:48:30,174 - TPE using 3/3 trials with best loss 0.204975\n",
            " 40%|████      | 4/10 [01:14<01:52, 18.74s/trial, best loss: 0.20437865601904318]"
          ]
        },
        {
          "output_type": "stream",
          "name": "stderr",
          "text": [
            "INFO:hyperopt.tpe:build_posterior_wrapper took 0.009206 seconds\n"
          ]
        },
        {
          "output_type": "stream",
          "name": "stdout",
          "text": [
            "2022-11-22 16:48:47,295 - build_posterior_wrapper took 0.009206 seconds\n"
          ]
        },
        {
          "output_type": "stream",
          "name": "stderr",
          "text": [
            "INFO:hyperopt.tpe:TPE using 4/4 trials with best loss 0.204379\n"
          ]
        },
        {
          "output_type": "stream",
          "name": "stdout",
          "text": [
            "2022-11-22 16:48:47,301 - TPE using 4/4 trials with best loss 0.204379\n",
            " 50%|█████     | 5/10 [01:22<01:13, 14.73s/trial, best loss: 0.20437865601904318]"
          ]
        },
        {
          "output_type": "stream",
          "name": "stderr",
          "text": [
            "INFO:hyperopt.tpe:build_posterior_wrapper took 0.009116 seconds\n"
          ]
        },
        {
          "output_type": "stream",
          "name": "stdout",
          "text": [
            "2022-11-22 16:48:54,935 - build_posterior_wrapper took 0.009116 seconds\n"
          ]
        },
        {
          "output_type": "stream",
          "name": "stderr",
          "text": [
            "INFO:hyperopt.tpe:TPE using 5/5 trials with best loss 0.204379\n"
          ]
        },
        {
          "output_type": "stream",
          "name": "stdout",
          "text": [
            "2022-11-22 16:48:54,942 - TPE using 5/5 trials with best loss 0.204379\n",
            " 60%|██████    | 6/10 [01:46<01:12, 18.05s/trial, best loss: 0.1748455984065407] "
          ]
        },
        {
          "output_type": "stream",
          "name": "stderr",
          "text": [
            "INFO:hyperopt.tpe:build_posterior_wrapper took 0.011153 seconds\n"
          ]
        },
        {
          "output_type": "stream",
          "name": "stdout",
          "text": [
            "2022-11-22 16:49:19,426 - build_posterior_wrapper took 0.011153 seconds\n"
          ]
        },
        {
          "output_type": "stream",
          "name": "stderr",
          "text": [
            "INFO:hyperopt.tpe:TPE using 6/6 trials with best loss 0.174846\n"
          ]
        },
        {
          "output_type": "stream",
          "name": "stdout",
          "text": [
            "2022-11-22 16:49:19,433 - TPE using 6/6 trials with best loss 0.174846\n",
            " 70%|███████   | 7/10 [02:13<00:57, 19.13s/trial, best loss: 0.1748455984065407]\n"
          ]
        },
        {
          "output_type": "stream",
          "name": "stderr",
          "text": [
            "INFO:root:PipelineTuner - Hyperparameters optimization finished\n"
          ]
        },
        {
          "output_type": "stream",
          "name": "stdout",
          "text": [
            "2022-11-22 16:50:10,026 - PipelineTuner - Hyperparameters optimization finished\n"
          ]
        },
        {
          "output_type": "stream",
          "name": "stderr",
          "text": [
            "INFO:root:PipelineTuner - Return tuned pipeline due to the fact that obtained metric 0.169 equal or better than initial (+ 5% deviation) 0.190\n"
          ]
        },
        {
          "output_type": "stream",
          "name": "stdout",
          "text": [
            "2022-11-22 16:50:10,032 - PipelineTuner - Return tuned pipeline due to the fact that obtained metric 0.169 equal or better than initial (+ 5% deviation) 0.190\n"
          ]
        },
        {
          "output_type": "stream",
          "name": "stderr",
          "text": [
            "INFO:root:PipelineTuner - Hyperparameters optimization start\n"
          ]
        },
        {
          "output_type": "stream",
          "name": "stdout",
          "text": [
            "Fitting pipeline №9\n",
            "2022-11-22 16:50:11,425 - PipelineTuner - Hyperparameters optimization start\n",
            "  0%|          | 0/10 [00:00<?, ?trial/s, best loss=?]"
          ]
        },
        {
          "output_type": "stream",
          "name": "stderr",
          "text": [
            "INFO:hyperopt.tpe:build_posterior_wrapper took 0.020426 seconds\n"
          ]
        },
        {
          "output_type": "stream",
          "name": "stdout",
          "text": [
            "2022-11-22 16:50:12,684 - build_posterior_wrapper took 0.020426 seconds\n"
          ]
        },
        {
          "output_type": "stream",
          "name": "stderr",
          "text": [
            "INFO:hyperopt.tpe:TPE using 0 trials\n"
          ]
        },
        {
          "output_type": "stream",
          "name": "stdout",
          "text": [
            "2022-11-22 16:50:12,691 - TPE using 0 trials\n",
            " 10%|█         | 1/10 [00:04<00:42,  4.67s/trial, best loss: 0.23058067870472773]"
          ]
        },
        {
          "output_type": "stream",
          "name": "stderr",
          "text": [
            "INFO:hyperopt.tpe:build_posterior_wrapper took 0.011905 seconds\n"
          ]
        },
        {
          "output_type": "stream",
          "name": "stdout",
          "text": [
            "2022-11-22 16:50:17,345 - build_posterior_wrapper took 0.011905 seconds\n"
          ]
        },
        {
          "output_type": "stream",
          "name": "stderr",
          "text": [
            "INFO:hyperopt.tpe:TPE using 1/1 trials with best loss 0.230581\n"
          ]
        },
        {
          "output_type": "stream",
          "name": "stdout",
          "text": [
            "2022-11-22 16:50:17,353 - TPE using 1/1 trials with best loss 0.230581\n",
            " 20%|██        | 2/10 [00:08<00:31,  3.95s/trial, best loss: 0.23058067870472773]"
          ]
        },
        {
          "output_type": "stream",
          "name": "stderr",
          "text": [
            "INFO:hyperopt.tpe:build_posterior_wrapper took 0.023760 seconds\n"
          ]
        },
        {
          "output_type": "stream",
          "name": "stdout",
          "text": [
            "2022-11-22 16:50:20,802 - build_posterior_wrapper took 0.023760 seconds\n"
          ]
        },
        {
          "output_type": "stream",
          "name": "stderr",
          "text": [
            "INFO:hyperopt.tpe:TPE using 2/2 trials with best loss 0.230581\n"
          ]
        },
        {
          "output_type": "stream",
          "name": "stdout",
          "text": [
            "2022-11-22 16:50:20,814 - TPE using 2/2 trials with best loss 0.230581\n",
            " 30%|███       | 3/10 [00:10<00:21,  3.11s/trial, best loss: 0.22623863226432037]"
          ]
        },
        {
          "output_type": "stream",
          "name": "stderr",
          "text": [
            "INFO:hyperopt.tpe:build_posterior_wrapper took 0.010594 seconds\n"
          ]
        },
        {
          "output_type": "stream",
          "name": "stdout",
          "text": [
            "2022-11-22 16:50:22,898 - build_posterior_wrapper took 0.010594 seconds\n"
          ]
        },
        {
          "output_type": "stream",
          "name": "stderr",
          "text": [
            "INFO:hyperopt.tpe:TPE using 3/3 trials with best loss 0.226239\n"
          ]
        },
        {
          "output_type": "stream",
          "name": "stdout",
          "text": [
            "2022-11-22 16:50:22,905 - TPE using 3/3 trials with best loss 0.226239\n",
            " 40%|████      | 4/10 [00:12<00:16,  2.67s/trial, best loss: 0.22623863226432037]"
          ]
        },
        {
          "output_type": "stream",
          "name": "stderr",
          "text": [
            "INFO:hyperopt.tpe:build_posterior_wrapper took 0.008355 seconds\n"
          ]
        },
        {
          "output_type": "stream",
          "name": "stdout",
          "text": [
            "2022-11-22 16:50:24,887 - build_posterior_wrapper took 0.008355 seconds\n"
          ]
        },
        {
          "output_type": "stream",
          "name": "stderr",
          "text": [
            "INFO:hyperopt.tpe:TPE using 4/4 trials with best loss 0.226239\n"
          ]
        },
        {
          "output_type": "stream",
          "name": "stdout",
          "text": [
            "2022-11-22 16:50:24,897 - TPE using 4/4 trials with best loss 0.226239\n",
            " 50%|█████     | 5/10 [00:15<00:14,  2.81s/trial, best loss: 0.22623863226432037]"
          ]
        },
        {
          "output_type": "stream",
          "name": "stderr",
          "text": [
            "INFO:hyperopt.tpe:build_posterior_wrapper took 0.008514 seconds\n"
          ]
        },
        {
          "output_type": "stream",
          "name": "stdout",
          "text": [
            "2022-11-22 16:50:27,954 - build_posterior_wrapper took 0.008514 seconds\n"
          ]
        },
        {
          "output_type": "stream",
          "name": "stderr",
          "text": [
            "INFO:hyperopt.tpe:TPE using 5/5 trials with best loss 0.226239\n"
          ]
        },
        {
          "output_type": "stream",
          "name": "stdout",
          "text": [
            "2022-11-22 16:50:27,967 - TPE using 5/5 trials with best loss 0.226239\n",
            " 60%|██████    | 6/10 [00:20<00:14,  3.73s/trial, best loss: 0.22623863226432037]"
          ]
        },
        {
          "output_type": "stream",
          "name": "stderr",
          "text": [
            "INFO:hyperopt.tpe:build_posterior_wrapper took 0.427667 seconds\n"
          ]
        },
        {
          "output_type": "stream",
          "name": "stdout",
          "text": [
            "2022-11-22 16:50:33,899 - build_posterior_wrapper took 0.427667 seconds\n"
          ]
        },
        {
          "output_type": "stream",
          "name": "stderr",
          "text": [
            "INFO:hyperopt.tpe:TPE using 6/6 trials with best loss 0.226239\n"
          ]
        },
        {
          "output_type": "stream",
          "name": "stdout",
          "text": [
            "2022-11-22 16:50:33,909 - TPE using 6/6 trials with best loss 0.226239\n",
            " 70%|███████   | 7/10 [00:28<00:15,  5.15s/trial, best loss: 0.21916057030188618]"
          ]
        },
        {
          "output_type": "stream",
          "name": "stderr",
          "text": [
            "INFO:hyperopt.tpe:build_posterior_wrapper took 0.015728 seconds\n"
          ]
        },
        {
          "output_type": "stream",
          "name": "stdout",
          "text": [
            "2022-11-22 16:50:41,572 - build_posterior_wrapper took 0.015728 seconds\n"
          ]
        },
        {
          "output_type": "stream",
          "name": "stderr",
          "text": [
            "INFO:hyperopt.tpe:TPE using 7/7 trials with best loss 0.219161\n"
          ]
        },
        {
          "output_type": "stream",
          "name": "stdout",
          "text": [
            "2022-11-22 16:50:41,589 - TPE using 7/7 trials with best loss 0.219161\n",
            " 80%|████████  | 8/10 [00:32<00:09,  4.52s/trial, best loss: 0.21916057030188618]"
          ]
        },
        {
          "output_type": "stream",
          "name": "stderr",
          "text": [
            "INFO:hyperopt.tpe:build_posterior_wrapper took 0.016196 seconds\n"
          ]
        },
        {
          "output_type": "stream",
          "name": "stdout",
          "text": [
            "2022-11-22 16:50:44,720 - build_posterior_wrapper took 0.016196 seconds\n"
          ]
        },
        {
          "output_type": "stream",
          "name": "stderr",
          "text": [
            "INFO:hyperopt.tpe:TPE using 8/8 trials with best loss 0.219161\n"
          ]
        },
        {
          "output_type": "stream",
          "name": "stdout",
          "text": [
            "2022-11-22 16:50:44,732 - TPE using 8/8 trials with best loss 0.219161\n",
            " 90%|█████████ | 9/10 [00:35<00:04,  4.29s/trial, best loss: 0.21916057030188618]"
          ]
        },
        {
          "output_type": "stream",
          "name": "stderr",
          "text": [
            "INFO:hyperopt.tpe:build_posterior_wrapper took 0.011298 seconds\n"
          ]
        },
        {
          "output_type": "stream",
          "name": "stdout",
          "text": [
            "2022-11-22 16:50:48,491 - build_posterior_wrapper took 0.011298 seconds\n"
          ]
        },
        {
          "output_type": "stream",
          "name": "stderr",
          "text": [
            "INFO:hyperopt.tpe:TPE using 9/9 trials with best loss 0.219161\n"
          ]
        },
        {
          "output_type": "stream",
          "name": "stdout",
          "text": [
            "2022-11-22 16:50:48,497 - TPE using 9/9 trials with best loss 0.219161\n",
            "100%|██████████| 10/10 [00:39<00:00,  3.97s/trial, best loss: 0.21916057030188618]\n"
          ]
        },
        {
          "output_type": "stream",
          "name": "stderr",
          "text": [
            "INFO:root:PipelineTuner - Hyperparameters optimization finished\n"
          ]
        },
        {
          "output_type": "stream",
          "name": "stdout",
          "text": [
            "2022-11-22 16:50:59,258 - PipelineTuner - Hyperparameters optimization finished\n"
          ]
        },
        {
          "output_type": "stream",
          "name": "stderr",
          "text": [
            "INFO:root:PipelineTuner - Return tuned pipeline due to the fact that obtained metric 0.219 equal or better than initial (+ 5% deviation) 0.235\n"
          ]
        },
        {
          "output_type": "stream",
          "name": "stdout",
          "text": [
            "2022-11-22 16:50:59,273 - PipelineTuner - Return tuned pipeline due to the fact that obtained metric 0.219 equal or better than initial (+ 5% deviation) 0.235\n"
          ]
        },
        {
          "output_type": "stream",
          "name": "stderr",
          "text": [
            "INFO:root:PipelineTuner - Hyperparameters optimization start\n"
          ]
        },
        {
          "output_type": "stream",
          "name": "stdout",
          "text": [
            "2022-11-22 16:51:00,560 - PipelineTuner - Hyperparameters optimization start\n",
            "  0%|          | 0/10 [00:00<?, ?trial/s, best loss=?]"
          ]
        },
        {
          "output_type": "stream",
          "name": "stderr",
          "text": [
            "INFO:hyperopt.tpe:build_posterior_wrapper took 0.008896 seconds\n"
          ]
        },
        {
          "output_type": "stream",
          "name": "stdout",
          "text": [
            "2022-11-22 16:51:07,348 - build_posterior_wrapper took 0.008896 seconds\n"
          ]
        },
        {
          "output_type": "stream",
          "name": "stderr",
          "text": [
            "INFO:hyperopt.tpe:TPE using 0 trials\n"
          ]
        },
        {
          "output_type": "stream",
          "name": "stdout",
          "text": [
            "2022-11-22 16:51:07,354 - TPE using 0 trials\n",
            " 10%|█         | 1/10 [00:02<00:21,  2.34s/trial, best loss: 0.1782418330624001]"
          ]
        },
        {
          "output_type": "stream",
          "name": "stderr",
          "text": [
            "INFO:hyperopt.tpe:build_posterior_wrapper took 0.007979 seconds\n"
          ]
        },
        {
          "output_type": "stream",
          "name": "stdout",
          "text": [
            "2022-11-22 16:51:09,694 - build_posterior_wrapper took 0.007979 seconds\n"
          ]
        },
        {
          "output_type": "stream",
          "name": "stderr",
          "text": [
            "INFO:hyperopt.tpe:TPE using 1/1 trials with best loss 0.178242\n"
          ]
        },
        {
          "output_type": "stream",
          "name": "stdout",
          "text": [
            "2022-11-22 16:51:09,704 - TPE using 1/1 trials with best loss 0.178242\n",
            " 20%|██        | 2/10 [00:08<00:35,  4.44s/trial, best loss: 0.17205861757423288]"
          ]
        },
        {
          "output_type": "stream",
          "name": "stderr",
          "text": [
            "INFO:hyperopt.tpe:build_posterior_wrapper took 0.014887 seconds\n"
          ]
        },
        {
          "output_type": "stream",
          "name": "stdout",
          "text": [
            "2022-11-22 16:51:15,619 - build_posterior_wrapper took 0.014887 seconds\n"
          ]
        },
        {
          "output_type": "stream",
          "name": "stderr",
          "text": [
            "INFO:hyperopt.tpe:TPE using 2/2 trials with best loss 0.172059\n"
          ]
        },
        {
          "output_type": "stream",
          "name": "stdout",
          "text": [
            "2022-11-22 16:51:15,632 - TPE using 2/2 trials with best loss 0.172059\n",
            " 30%|███       | 3/10 [00:14<00:37,  5.33s/trial, best loss: 0.16797589861597625]"
          ]
        },
        {
          "output_type": "stream",
          "name": "stderr",
          "text": [
            "INFO:hyperopt.tpe:build_posterior_wrapper took 0.008489 seconds\n"
          ]
        },
        {
          "output_type": "stream",
          "name": "stdout",
          "text": [
            "2022-11-22 16:51:21,989 - build_posterior_wrapper took 0.008489 seconds\n"
          ]
        },
        {
          "output_type": "stream",
          "name": "stderr",
          "text": [
            "INFO:hyperopt.tpe:TPE using 3/3 trials with best loss 0.167976\n"
          ]
        },
        {
          "output_type": "stream",
          "name": "stdout",
          "text": [
            "2022-11-22 16:51:22,005 - TPE using 3/3 trials with best loss 0.167976\n",
            " 40%|████      | 4/10 [00:22<00:37,  6.24s/trial, best loss: 0.16797589861597625]"
          ]
        },
        {
          "output_type": "stream",
          "name": "stderr",
          "text": [
            "INFO:hyperopt.tpe:build_posterior_wrapper took 0.014739 seconds\n"
          ]
        },
        {
          "output_type": "stream",
          "name": "stdout",
          "text": [
            "2022-11-22 16:51:29,625 - build_posterior_wrapper took 0.014739 seconds\n"
          ]
        },
        {
          "output_type": "stream",
          "name": "stderr",
          "text": [
            "INFO:hyperopt.tpe:TPE using 4/4 trials with best loss 0.167976\n"
          ]
        },
        {
          "output_type": "stream",
          "name": "stdout",
          "text": [
            "2022-11-22 16:51:29,631 - TPE using 4/4 trials with best loss 0.167976\n",
            " 50%|█████     | 5/10 [00:28<00:30,  6.10s/trial, best loss: 0.16797589861597625]"
          ]
        },
        {
          "output_type": "stream",
          "name": "stderr",
          "text": [
            "INFO:hyperopt.tpe:build_posterior_wrapper took 0.007932 seconds\n"
          ]
        },
        {
          "output_type": "stream",
          "name": "stdout",
          "text": [
            "2022-11-22 16:51:35,483 - build_posterior_wrapper took 0.007932 seconds\n"
          ]
        },
        {
          "output_type": "stream",
          "name": "stderr",
          "text": [
            "INFO:hyperopt.tpe:TPE using 5/5 trials with best loss 0.167976\n"
          ]
        },
        {
          "output_type": "stream",
          "name": "stdout",
          "text": [
            "2022-11-22 16:51:35,491 - TPE using 5/5 trials with best loss 0.167976\n",
            " 60%|██████    | 6/10 [00:34<00:24,  6.12s/trial, best loss: 0.16555019533675722]"
          ]
        },
        {
          "output_type": "stream",
          "name": "stderr",
          "text": [
            "INFO:hyperopt.tpe:build_posterior_wrapper took 0.009471 seconds\n"
          ]
        },
        {
          "output_type": "stream",
          "name": "stdout",
          "text": [
            "2022-11-22 16:51:41,624 - build_posterior_wrapper took 0.009471 seconds\n"
          ]
        },
        {
          "output_type": "stream",
          "name": "stderr",
          "text": [
            "INFO:hyperopt.tpe:TPE using 6/6 trials with best loss 0.165550\n"
          ]
        },
        {
          "output_type": "stream",
          "name": "stdout",
          "text": [
            "2022-11-22 16:51:41,631 - TPE using 6/6 trials with best loss 0.165550\n",
            " 70%|███████   | 7/10 [00:39<00:17,  5.77s/trial, best loss: 0.16555019533675722]"
          ]
        },
        {
          "output_type": "stream",
          "name": "stderr",
          "text": [
            "INFO:hyperopt.tpe:build_posterior_wrapper took 0.015949 seconds\n"
          ]
        },
        {
          "output_type": "stream",
          "name": "stdout",
          "text": [
            "2022-11-22 16:51:46,707 - build_posterior_wrapper took 0.015949 seconds\n"
          ]
        },
        {
          "output_type": "stream",
          "name": "stderr",
          "text": [
            "INFO:hyperopt.tpe:TPE using 7/7 trials with best loss 0.165550\n"
          ]
        },
        {
          "output_type": "stream",
          "name": "stdout",
          "text": [
            "2022-11-22 16:51:46,721 - TPE using 7/7 trials with best loss 0.165550\n",
            " 80%|████████  | 8/10 [00:40<00:08,  4.38s/trial, best loss: 0.16555019533675722]"
          ]
        },
        {
          "output_type": "stream",
          "name": "stderr",
          "text": [
            "INFO:hyperopt.tpe:build_posterior_wrapper took 0.008240 seconds\n"
          ]
        },
        {
          "output_type": "stream",
          "name": "stdout",
          "text": [
            "2022-11-22 16:51:48,088 - build_posterior_wrapper took 0.008240 seconds\n"
          ]
        },
        {
          "output_type": "stream",
          "name": "stderr",
          "text": [
            "INFO:hyperopt.tpe:TPE using 8/8 trials with best loss 0.165550\n"
          ]
        },
        {
          "output_type": "stream",
          "name": "stdout",
          "text": [
            "2022-11-22 16:51:48,095 - TPE using 8/8 trials with best loss 0.165550\n",
            " 90%|█████████ | 9/10 [00:44<00:04,  4.21s/trial, best loss: 0.16555019533675722]"
          ]
        },
        {
          "output_type": "stream",
          "name": "stderr",
          "text": [
            "INFO:hyperopt.tpe:build_posterior_wrapper took 0.009116 seconds\n"
          ]
        },
        {
          "output_type": "stream",
          "name": "stdout",
          "text": [
            "2022-11-22 16:51:51,942 - build_posterior_wrapper took 0.009116 seconds\n"
          ]
        },
        {
          "output_type": "stream",
          "name": "stderr",
          "text": [
            "INFO:hyperopt.tpe:TPE using 9/9 trials with best loss 0.165550\n"
          ]
        },
        {
          "output_type": "stream",
          "name": "stdout",
          "text": [
            "2022-11-22 16:51:51,949 - TPE using 9/9 trials with best loss 0.165550\n",
            "100%|██████████| 10/10 [00:53<00:00,  5.30s/trial, best loss: 0.16555019533675722]\n"
          ]
        },
        {
          "output_type": "stream",
          "name": "stderr",
          "text": [
            "INFO:root:PipelineTuner - Hyperparameters optimization finished\n"
          ]
        },
        {
          "output_type": "stream",
          "name": "stdout",
          "text": [
            "2022-11-22 16:52:06,428 - PipelineTuner - Hyperparameters optimization finished\n"
          ]
        },
        {
          "output_type": "stream",
          "name": "stderr",
          "text": [
            "INFO:root:PipelineTuner - Return tuned pipeline due to the fact that obtained metric 0.166 equal or better than initial (+ 5% deviation) 0.179\n"
          ]
        },
        {
          "output_type": "stream",
          "name": "stdout",
          "text": [
            "2022-11-22 16:52:06,435 - PipelineTuner - Return tuned pipeline due to the fact that obtained metric 0.166 equal or better than initial (+ 5% deviation) 0.179\n"
          ]
        }
      ]
    },
    {
      "cell_type": "code",
      "source": [
        "conf_int_plotting(up_predictions = x['up_predictions'],\n",
        "                  low_predictions = x['low_predictions'],\n",
        "                  regim='quantile',\n",
        "                  plot_history = False,\n",
        "                  plot_up_int = True,\n",
        "                  plot_low_int = True,\n",
        "                  plot_trend = False,\n",
        "                  plot_forecast = True,\n",
        "                  plot_upper_train = True,\n",
        "                  plot_lower_train = True,\n",
        "                  plot_ts_test = True)"
      ],
      "metadata": {
        "colab": {
          "base_uri": "https://localhost:8080/",
          "height": 428
        },
        "id": "mU3vaDLetRdZ",
        "outputId": "b6d9c79d-ee99-4106-983a-e63e231d9889"
      },
      "execution_count": 15,
      "outputs": [
        {
          "output_type": "display_data",
          "data": {
            "text/plain": [
              "<Figure size 1080x504 with 1 Axes>"
            ],
            "image/png": "[encoded data removed]"
          },
          "metadata": {
            "needs_background": "light"
          }
        }
      ]
    }
  ]
}