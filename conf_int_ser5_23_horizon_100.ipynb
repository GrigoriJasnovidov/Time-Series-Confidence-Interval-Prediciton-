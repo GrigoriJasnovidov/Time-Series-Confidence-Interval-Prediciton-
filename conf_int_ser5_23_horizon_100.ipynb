{
  "nbformat": 4,
  "nbformat_minor": 0,
  "metadata": {
    "colab": {
      "provenance": []
    },
    "kernelspec": {
      "name": "python3",
      "display_name": "Python 3"
    },
    "language_info": {
      "name": "python"
    },
    "gpuClass": "standard"
  },
  "cells": [
    {
      "cell_type": "code",
      "source": [
        "#!pip install git+https://github.com/aimclub/FEDOT.git"
      ],
      "metadata": {
        "id": "TXneEk7apj1R"
      },
      "execution_count": 2,
      "outputs": []
    },
    {
      "cell_type": "code",
      "source": [
        "import matplotlib.pyplot as plt\n",
        "import numpy as np\n",
        "import pandas as pd\n",
        "import logging\n",
        "logging.raiseExceptions = False\n",
        "\n",
        "import fedot\n",
        "from fedot.api.main import Fedot\n",
        "from fedot.core.data.data import InputData\n",
        "from fedot.core.data.data_split import train_test_data_setup\n",
        "from fedot.core.repository.dataset_types import DataTypesEnum\n",
        "from fedot.core.repository.tasks import TsForecastingParams, Task, TaskTypesEnum"
      ],
      "metadata": {
        "id": "_YXlYk9sK4CC"
      },
      "execution_count": 29,
      "outputs": []
    },
    {
      "cell_type": "code",
      "source": [
        "import matplotlib.pyplot as plt\n",
        "import numpy as np\n",
        "import pandas as pd\n",
        "import logging\n",
        "logging.raiseExceptions = False\n",
        "\n",
        "import fedot\n",
        "from fedot.api.main import Fedot\n",
        "from fedot.core.data.data import InputData\n",
        "from fedot.core.data.data_split import train_test_data_setup\n",
        "from fedot.core.repository.dataset_types import DataTypesEnum\n",
        "from fedot.core.repository.tasks import TsForecastingParams, Task, TaskTypesEnum\n",
        "import inspect"
      ],
      "metadata": {
        "id": "OO7SMqrTjSrB"
      },
      "execution_count": 30,
      "outputs": []
    },
    {
      "cell_type": "code",
      "source": [
        "from google.colab import files\n",
        "uploaded = files.upload()"
      ],
      "metadata": {
        "colab": {
          "base_uri": "https://localhost:8080/",
          "height": 38
        },
        "id": "BVTPK-TbzzU-",
        "outputId": "9e1c4005-27aa-48b4-d8bc-950829b9d7e5"
      },
      "execution_count": 6,
      "outputs": [
        {
          "output_type": "display_data",
          "data": {
            "text/plain": [
              "<IPython.core.display.HTML object>"
            ],
            "text/html": [
              "\n",
              "     <input type=\"file\" id=\"files-7defb4ac-cff7-4d79-a2d5-25e897885850\" name=\"files[]\" multiple disabled\n",
              "        style=\"border:none\" />\n",
              "     <output id=\"result-7defb4ac-cff7-4d79-a2d5-25e897885850\">\n",
              "      Upload widget is only available when the cell has been executed in the\n",
              "      current browser session. Please rerun this cell to enable.\n",
              "      </output>\n",
              "      <script>// Copyright 2017 Google LLC\n",
              "//\n",
              "// Licensed under the Apache License, Version 2.0 (the \"License\");\n",
              "// you may not use this file except in compliance with the License.\n",
              "// You may obtain a copy of the License at\n",
              "//\n",
              "//      http://www.apache.org/licenses/LICENSE-2.0\n",
              "//\n",
              "// Unless required by applicable law or agreed to in writing, software\n",
              "// distributed under the License is distributed on an \"AS IS\" BASIS,\n",
              "// WITHOUT WARRANTIES OR CONDITIONS OF ANY KIND, either express or implied.\n",
              "// See the License for the specific language governing permissions and\n",
              "// limitations under the License.\n",
              "\n",
              "/**\n",
              " * @fileoverview Helpers for google.colab Python module.\n",
              " */\n",
              "(function(scope) {\n",
              "function span(text, styleAttributes = {}) {\n",
              "  const element = document.createElement('span');\n",
              "  element.textContent = text;\n",
              "  for (const key of Object.keys(styleAttributes)) {\n",
              "    element.style[key] = styleAttributes[key];\n",
              "  }\n",
              "  return element;\n",
              "}\n",
              "\n",
              "// Max number of bytes which will be uploaded at a time.\n",
              "const MAX_PAYLOAD_SIZE = 100 * 1024;\n",
              "\n",
              "function _uploadFiles(inputId, outputId) {\n",
              "  const steps = uploadFilesStep(inputId, outputId);\n",
              "  const outputElement = document.getElementById(outputId);\n",
              "  // Cache steps on the outputElement to make it available for the next call\n",
              "  // to uploadFilesContinue from Python.\n",
              "  outputElement.steps = steps;\n",
              "\n",
              "  return _uploadFilesContinue(outputId);\n",
              "}\n",
              "\n",
              "// This is roughly an async generator (not supported in the browser yet),\n",
              "// where there are multiple asynchronous steps and the Python side is going\n",
              "// to poll for completion of each step.\n",
              "// This uses a Promise to block the python side on completion of each step,\n",
              "// then passes the result of the previous step as the input to the next step.\n",
              "function _uploadFilesContinue(outputId) {\n",
              "  const outputElement = document.getElementById(outputId);\n",
              "  const steps = outputElement.steps;\n",
              "\n",
              "  const next = steps.next(outputElement.lastPromiseValue);\n",
              "  return Promise.resolve(next.value.promise).then((value) => {\n",
              "    // Cache the last promise value to make it available to the next\n",
              "    // step of the generator.\n",
              "    outputElement.lastPromiseValue = value;\n",
              "    return next.value.response;\n",
              "  });\n",
              "}\n",
              "\n",
              "/**\n",
              " * Generator function which is called between each async step of the upload\n",
              " * process.\n",
              " * @param {string} inputId Element ID of the input file picker element.\n",
              " * @param {string} outputId Element ID of the output display.\n",
              " * @return {!Iterable<!Object>} Iterable of next steps.\n",
              " */\n",
              "function* uploadFilesStep(inputId, outputId) {\n",
              "  const inputElement = document.getElementById(inputId);\n",
              "  inputElement.disabled = false;\n",
              "\n",
              "  const outputElement = document.getElementById(outputId);\n",
              "  outputElement.innerHTML = '';\n",
              "\n",
              "  const pickedPromise = new Promise((resolve) => {\n",
              "    inputElement.addEventListener('change', (e) => {\n",
              "      resolve(e.target.files);\n",
              "    });\n",
              "  });\n",
              "\n",
              "  const cancel = document.createElement('button');\n",
              "  inputElement.parentElement.appendChild(cancel);\n",
              "  cancel.textContent = 'Cancel upload';\n",
              "  const cancelPromise = new Promise((resolve) => {\n",
              "    cancel.onclick = () => {\n",
              "      resolve(null);\n",
              "    };\n",
              "  });\n",
              "\n",
              "  // Wait for the user to pick the files.\n",
              "  const files = yield {\n",
              "    promise: Promise.race([pickedPromise, cancelPromise]),\n",
              "    response: {\n",
              "      action: 'starting',\n",
              "    }\n",
              "  };\n",
              "\n",
              "  cancel.remove();\n",
              "\n",
              "  // Disable the input element since further picks are not allowed.\n",
              "  inputElement.disabled = true;\n",
              "\n",
              "  if (!files) {\n",
              "    return {\n",
              "      response: {\n",
              "        action: 'complete',\n",
              "      }\n",
              "    };\n",
              "  }\n",
              "\n",
              "  for (const file of files) {\n",
              "    const li = document.createElement('li');\n",
              "    li.append(span(file.name, {fontWeight: 'bold'}));\n",
              "    li.append(span(\n",
              "        `(${file.type || 'n/a'}) - ${file.size} bytes, ` +\n",
              "        `last modified: ${\n",
              "            file.lastModifiedDate ? file.lastModifiedDate.toLocaleDateString() :\n",
              "                                    'n/a'} - `));\n",
              "    const percent = span('0% done');\n",
              "    li.appendChild(percent);\n",
              "\n",
              "    outputElement.appendChild(li);\n",
              "\n",
              "    const fileDataPromise = new Promise((resolve) => {\n",
              "      const reader = new FileReader();\n",
              "      reader.onload = (e) => {\n",
              "        resolve(e.target.result);\n",
              "      };\n",
              "      reader.readAsArrayBuffer(file);\n",
              "    });\n",
              "    // Wait for the data to be ready.\n",
              "    let fileData = yield {\n",
              "      promise: fileDataPromise,\n",
              "      response: {\n",
              "        action: 'continue',\n",
              "      }\n",
              "    };\n",
              "\n",
              "    // Use a chunked sending to avoid message size limits. See b/62115660.\n",
              "    let position = 0;\n",
              "    do {\n",
              "      const length = Math.min(fileData.byteLength - position, MAX_PAYLOAD_SIZE);\n",
              "      const chunk = new Uint8Array(fileData, position, length);\n",
              "      position += length;\n",
              "\n",
              "      const base64 = btoa(String.fromCharCode.apply(null, chunk));\n",
              "      yield {\n",
              "        response: {\n",
              "          action: 'append',\n",
              "          file: file.name,\n",
              "          data: base64,\n",
              "        },\n",
              "      };\n",
              "\n",
              "      let percentDone = fileData.byteLength === 0 ?\n",
              "          100 :\n",
              "          Math.round((position / fileData.byteLength) * 100);\n",
              "      percent.textContent = `${percentDone}% done`;\n",
              "\n",
              "    } while (position < fileData.byteLength);\n",
              "  }\n",
              "\n",
              "  // All done.\n",
              "  yield {\n",
              "    response: {\n",
              "      action: 'complete',\n",
              "    }\n",
              "  };\n",
              "}\n",
              "\n",
              "scope.google = scope.google || {};\n",
              "scope.google.colab = scope.google.colab || {};\n",
              "scope.google.colab._files = {\n",
              "  _uploadFiles,\n",
              "  _uploadFilesContinue,\n",
              "};\n",
              "})(self);\n",
              "</script> "
            ]
          },
          "metadata": {}
        }
      ]
    },
    {
      "cell_type": "code",
      "source": [
        "ts_tabular =pd.read_csv('ts study 1.txt')\n",
        "ts_real_temp = ts_tabular[ts_tabular['label']=='temp']['value'].to_numpy()\n",
        "ts_real_traffic = ts_tabular[ts_tabular['label']=='traffic_volume'].to_numpy()\n",
        "ts_real_oil = ts_tabular[ts_tabular['label']=='Weekly U.S. Field Production of Crude Oil  (Thousand Barrels per Day)']['value'].to_numpy()\n",
        "#ts_tabular.label.value_counts()"
      ],
      "metadata": {
        "id": "Q-9beb5I0YmP",
        "colab": {
          "base_uri": "https://localhost:8080/",
          "height": 398
        },
        "outputId": "b4ae3cd3-eefb-48c0-ff2d-830eb1fb3350"
      },
      "execution_count": null,
      "outputs": [
        {
          "output_type": "error",
          "ename": "FileNotFoundError",
          "evalue": "ignored",
          "traceback": [
            "\u001b[0;31m---------------------------------------------------------------------------\u001b[0m",
            "\u001b[0;31mFileNotFoundError\u001b[0m                         Traceback (most recent call last)",
            "\u001b[0;32m<ipython-input-6-2af8aa8f8edb>\u001b[0m in \u001b[0;36m<module>\u001b[0;34m\u001b[0m\n\u001b[0;32m----> 1\u001b[0;31m \u001b[0mts_tabular\u001b[0m \u001b[0;34m=\u001b[0m\u001b[0mpd\u001b[0m\u001b[0;34m.\u001b[0m\u001b[0mread_csv\u001b[0m\u001b[0;34m(\u001b[0m\u001b[0;34m'ts study 1.txt'\u001b[0m\u001b[0;34m)\u001b[0m\u001b[0;34m\u001b[0m\u001b[0;34m\u001b[0m\u001b[0m\n\u001b[0m\u001b[1;32m      2\u001b[0m \u001b[0mts_real_temp\u001b[0m \u001b[0;34m=\u001b[0m \u001b[0mts_tabular\u001b[0m\u001b[0;34m[\u001b[0m\u001b[0mts_tabular\u001b[0m\u001b[0;34m[\u001b[0m\u001b[0;34m'label'\u001b[0m\u001b[0;34m]\u001b[0m\u001b[0;34m==\u001b[0m\u001b[0;34m'temp'\u001b[0m\u001b[0;34m]\u001b[0m\u001b[0;34m[\u001b[0m\u001b[0;34m'value'\u001b[0m\u001b[0;34m]\u001b[0m\u001b[0;34m.\u001b[0m\u001b[0mto_numpy\u001b[0m\u001b[0;34m(\u001b[0m\u001b[0;34m)\u001b[0m\u001b[0;34m\u001b[0m\u001b[0;34m\u001b[0m\u001b[0m\n\u001b[1;32m      3\u001b[0m \u001b[0mts_real_traffic\u001b[0m \u001b[0;34m=\u001b[0m \u001b[0mts_tabular\u001b[0m\u001b[0;34m[\u001b[0m\u001b[0mts_tabular\u001b[0m\u001b[0;34m[\u001b[0m\u001b[0;34m'label'\u001b[0m\u001b[0;34m]\u001b[0m\u001b[0;34m==\u001b[0m\u001b[0;34m'traffic_volume'\u001b[0m\u001b[0;34m]\u001b[0m\u001b[0;34m.\u001b[0m\u001b[0mto_numpy\u001b[0m\u001b[0;34m(\u001b[0m\u001b[0;34m)\u001b[0m\u001b[0;34m\u001b[0m\u001b[0;34m\u001b[0m\u001b[0m\n\u001b[1;32m      4\u001b[0m \u001b[0mts_real_oil\u001b[0m \u001b[0;34m=\u001b[0m \u001b[0mts_tabular\u001b[0m\u001b[0;34m[\u001b[0m\u001b[0mts_tabular\u001b[0m\u001b[0;34m[\u001b[0m\u001b[0;34m'label'\u001b[0m\u001b[0;34m]\u001b[0m\u001b[0;34m==\u001b[0m\u001b[0;34m'Weekly U.S. Field Production of Crude Oil  (Thousand Barrels per Day)'\u001b[0m\u001b[0;34m]\u001b[0m\u001b[0;34m[\u001b[0m\u001b[0;34m'value'\u001b[0m\u001b[0;34m]\u001b[0m\u001b[0;34m.\u001b[0m\u001b[0mto_numpy\u001b[0m\u001b[0;34m(\u001b[0m\u001b[0;34m)\u001b[0m\u001b[0;34m\u001b[0m\u001b[0;34m\u001b[0m\u001b[0m\n\u001b[1;32m      5\u001b[0m \u001b[0;31m#ts_tabular.label.value_counts()\u001b[0m\u001b[0;34m\u001b[0m\u001b[0;34m\u001b[0m\u001b[0;34m\u001b[0m\u001b[0m\n",
            "\u001b[0;32m/usr/local/lib/python3.7/dist-packages/pandas/io/parsers.py\u001b[0m in \u001b[0;36mread_csv\u001b[0;34m(filepath_or_buffer, sep, delimiter, header, names, index_col, usecols, squeeze, prefix, mangle_dupe_cols, dtype, engine, converters, true_values, false_values, skipinitialspace, skiprows, skipfooter, nrows, na_values, keep_default_na, na_filter, verbose, skip_blank_lines, parse_dates, infer_datetime_format, keep_date_col, date_parser, dayfirst, cache_dates, iterator, chunksize, compression, thousands, decimal, lineterminator, quotechar, quoting, doublequote, escapechar, comment, encoding, dialect, error_bad_lines, warn_bad_lines, delim_whitespace, low_memory, memory_map, float_precision, storage_options)\u001b[0m\n\u001b[1;32m    608\u001b[0m     \u001b[0mkwds\u001b[0m\u001b[0;34m.\u001b[0m\u001b[0mupdate\u001b[0m\u001b[0;34m(\u001b[0m\u001b[0mkwds_defaults\u001b[0m\u001b[0;34m)\u001b[0m\u001b[0;34m\u001b[0m\u001b[0;34m\u001b[0m\u001b[0m\n\u001b[1;32m    609\u001b[0m \u001b[0;34m\u001b[0m\u001b[0m\n\u001b[0;32m--> 610\u001b[0;31m     \u001b[0;32mreturn\u001b[0m \u001b[0m_read\u001b[0m\u001b[0;34m(\u001b[0m\u001b[0mfilepath_or_buffer\u001b[0m\u001b[0;34m,\u001b[0m \u001b[0mkwds\u001b[0m\u001b[0;34m)\u001b[0m\u001b[0;34m\u001b[0m\u001b[0;34m\u001b[0m\u001b[0m\n\u001b[0m\u001b[1;32m    611\u001b[0m \u001b[0;34m\u001b[0m\u001b[0m\n\u001b[1;32m    612\u001b[0m \u001b[0;34m\u001b[0m\u001b[0m\n",
            "\u001b[0;32m/usr/local/lib/python3.7/dist-packages/pandas/io/parsers.py\u001b[0m in \u001b[0;36m_read\u001b[0;34m(filepath_or_buffer, kwds)\u001b[0m\n\u001b[1;32m    460\u001b[0m \u001b[0;34m\u001b[0m\u001b[0m\n\u001b[1;32m    461\u001b[0m     \u001b[0;31m# Create the parser.\u001b[0m\u001b[0;34m\u001b[0m\u001b[0;34m\u001b[0m\u001b[0;34m\u001b[0m\u001b[0m\n\u001b[0;32m--> 462\u001b[0;31m     \u001b[0mparser\u001b[0m \u001b[0;34m=\u001b[0m \u001b[0mTextFileReader\u001b[0m\u001b[0;34m(\u001b[0m\u001b[0mfilepath_or_buffer\u001b[0m\u001b[0;34m,\u001b[0m \u001b[0;34m**\u001b[0m\u001b[0mkwds\u001b[0m\u001b[0;34m)\u001b[0m\u001b[0;34m\u001b[0m\u001b[0;34m\u001b[0m\u001b[0m\n\u001b[0m\u001b[1;32m    463\u001b[0m \u001b[0;34m\u001b[0m\u001b[0m\n\u001b[1;32m    464\u001b[0m     \u001b[0;32mif\u001b[0m \u001b[0mchunksize\u001b[0m \u001b[0;32mor\u001b[0m \u001b[0miterator\u001b[0m\u001b[0;34m:\u001b[0m\u001b[0;34m\u001b[0m\u001b[0;34m\u001b[0m\u001b[0m\n",
            "\u001b[0;32m/usr/local/lib/python3.7/dist-packages/pandas/io/parsers.py\u001b[0m in \u001b[0;36m__init__\u001b[0;34m(self, f, engine, **kwds)\u001b[0m\n\u001b[1;32m    817\u001b[0m             \u001b[0mself\u001b[0m\u001b[0;34m.\u001b[0m\u001b[0moptions\u001b[0m\u001b[0;34m[\u001b[0m\u001b[0;34m\"has_index_names\"\u001b[0m\u001b[0;34m]\u001b[0m \u001b[0;34m=\u001b[0m \u001b[0mkwds\u001b[0m\u001b[0;34m[\u001b[0m\u001b[0;34m\"has_index_names\"\u001b[0m\u001b[0;34m]\u001b[0m\u001b[0;34m\u001b[0m\u001b[0;34m\u001b[0m\u001b[0m\n\u001b[1;32m    818\u001b[0m \u001b[0;34m\u001b[0m\u001b[0m\n\u001b[0;32m--> 819\u001b[0;31m         \u001b[0mself\u001b[0m\u001b[0;34m.\u001b[0m\u001b[0m_engine\u001b[0m \u001b[0;34m=\u001b[0m \u001b[0mself\u001b[0m\u001b[0;34m.\u001b[0m\u001b[0m_make_engine\u001b[0m\u001b[0;34m(\u001b[0m\u001b[0mself\u001b[0m\u001b[0;34m.\u001b[0m\u001b[0mengine\u001b[0m\u001b[0;34m)\u001b[0m\u001b[0;34m\u001b[0m\u001b[0;34m\u001b[0m\u001b[0m\n\u001b[0m\u001b[1;32m    820\u001b[0m \u001b[0;34m\u001b[0m\u001b[0m\n\u001b[1;32m    821\u001b[0m     \u001b[0;32mdef\u001b[0m \u001b[0mclose\u001b[0m\u001b[0;34m(\u001b[0m\u001b[0mself\u001b[0m\u001b[0;34m)\u001b[0m\u001b[0;34m:\u001b[0m\u001b[0;34m\u001b[0m\u001b[0;34m\u001b[0m\u001b[0m\n",
            "\u001b[0;32m/usr/local/lib/python3.7/dist-packages/pandas/io/parsers.py\u001b[0m in \u001b[0;36m_make_engine\u001b[0;34m(self, engine)\u001b[0m\n\u001b[1;32m   1048\u001b[0m             )\n\u001b[1;32m   1049\u001b[0m         \u001b[0;31m# error: Too many arguments for \"ParserBase\"\u001b[0m\u001b[0;34m\u001b[0m\u001b[0;34m\u001b[0m\u001b[0;34m\u001b[0m\u001b[0m\n\u001b[0;32m-> 1050\u001b[0;31m         \u001b[0;32mreturn\u001b[0m \u001b[0mmapping\u001b[0m\u001b[0;34m[\u001b[0m\u001b[0mengine\u001b[0m\u001b[0;34m]\u001b[0m\u001b[0;34m(\u001b[0m\u001b[0mself\u001b[0m\u001b[0;34m.\u001b[0m\u001b[0mf\u001b[0m\u001b[0;34m,\u001b[0m \u001b[0;34m**\u001b[0m\u001b[0mself\u001b[0m\u001b[0;34m.\u001b[0m\u001b[0moptions\u001b[0m\u001b[0;34m)\u001b[0m  \u001b[0;31m# type: ignore[call-arg]\u001b[0m\u001b[0;34m\u001b[0m\u001b[0;34m\u001b[0m\u001b[0m\n\u001b[0m\u001b[1;32m   1051\u001b[0m \u001b[0;34m\u001b[0m\u001b[0m\n\u001b[1;32m   1052\u001b[0m     \u001b[0;32mdef\u001b[0m \u001b[0m_failover_to_python\u001b[0m\u001b[0;34m(\u001b[0m\u001b[0mself\u001b[0m\u001b[0;34m)\u001b[0m\u001b[0;34m:\u001b[0m\u001b[0;34m\u001b[0m\u001b[0;34m\u001b[0m\u001b[0m\n",
            "\u001b[0;32m/usr/local/lib/python3.7/dist-packages/pandas/io/parsers.py\u001b[0m in \u001b[0;36m__init__\u001b[0;34m(self, src, **kwds)\u001b[0m\n\u001b[1;32m   1865\u001b[0m \u001b[0;34m\u001b[0m\u001b[0m\n\u001b[1;32m   1866\u001b[0m         \u001b[0;31m# open handles\u001b[0m\u001b[0;34m\u001b[0m\u001b[0;34m\u001b[0m\u001b[0;34m\u001b[0m\u001b[0m\n\u001b[0;32m-> 1867\u001b[0;31m         \u001b[0mself\u001b[0m\u001b[0;34m.\u001b[0m\u001b[0m_open_handles\u001b[0m\u001b[0;34m(\u001b[0m\u001b[0msrc\u001b[0m\u001b[0;34m,\u001b[0m \u001b[0mkwds\u001b[0m\u001b[0;34m)\u001b[0m\u001b[0;34m\u001b[0m\u001b[0;34m\u001b[0m\u001b[0m\n\u001b[0m\u001b[1;32m   1868\u001b[0m         \u001b[0;32massert\u001b[0m \u001b[0mself\u001b[0m\u001b[0;34m.\u001b[0m\u001b[0mhandles\u001b[0m \u001b[0;32mis\u001b[0m \u001b[0;32mnot\u001b[0m \u001b[0;32mNone\u001b[0m\u001b[0;34m\u001b[0m\u001b[0;34m\u001b[0m\u001b[0m\n\u001b[1;32m   1869\u001b[0m         \u001b[0;32mfor\u001b[0m \u001b[0mkey\u001b[0m \u001b[0;32min\u001b[0m \u001b[0;34m(\u001b[0m\u001b[0;34m\"storage_options\"\u001b[0m\u001b[0;34m,\u001b[0m \u001b[0;34m\"encoding\"\u001b[0m\u001b[0;34m,\u001b[0m \u001b[0;34m\"memory_map\"\u001b[0m\u001b[0;34m,\u001b[0m \u001b[0;34m\"compression\"\u001b[0m\u001b[0;34m)\u001b[0m\u001b[0;34m:\u001b[0m\u001b[0;34m\u001b[0m\u001b[0;34m\u001b[0m\u001b[0m\n",
            "\u001b[0;32m/usr/local/lib/python3.7/dist-packages/pandas/io/parsers.py\u001b[0m in \u001b[0;36m_open_handles\u001b[0;34m(self, src, kwds)\u001b[0m\n\u001b[1;32m   1366\u001b[0m             \u001b[0mcompression\u001b[0m\u001b[0;34m=\u001b[0m\u001b[0mkwds\u001b[0m\u001b[0;34m.\u001b[0m\u001b[0mget\u001b[0m\u001b[0;34m(\u001b[0m\u001b[0;34m\"compression\"\u001b[0m\u001b[0;34m,\u001b[0m \u001b[0;32mNone\u001b[0m\u001b[0;34m)\u001b[0m\u001b[0;34m,\u001b[0m\u001b[0;34m\u001b[0m\u001b[0;34m\u001b[0m\u001b[0m\n\u001b[1;32m   1367\u001b[0m             \u001b[0mmemory_map\u001b[0m\u001b[0;34m=\u001b[0m\u001b[0mkwds\u001b[0m\u001b[0;34m.\u001b[0m\u001b[0mget\u001b[0m\u001b[0;34m(\u001b[0m\u001b[0;34m\"memory_map\"\u001b[0m\u001b[0;34m,\u001b[0m \u001b[0;32mFalse\u001b[0m\u001b[0;34m)\u001b[0m\u001b[0;34m,\u001b[0m\u001b[0;34m\u001b[0m\u001b[0;34m\u001b[0m\u001b[0m\n\u001b[0;32m-> 1368\u001b[0;31m             \u001b[0mstorage_options\u001b[0m\u001b[0;34m=\u001b[0m\u001b[0mkwds\u001b[0m\u001b[0;34m.\u001b[0m\u001b[0mget\u001b[0m\u001b[0;34m(\u001b[0m\u001b[0;34m\"storage_options\"\u001b[0m\u001b[0;34m,\u001b[0m \u001b[0;32mNone\u001b[0m\u001b[0;34m)\u001b[0m\u001b[0;34m,\u001b[0m\u001b[0;34m\u001b[0m\u001b[0;34m\u001b[0m\u001b[0m\n\u001b[0m\u001b[1;32m   1369\u001b[0m         )\n\u001b[1;32m   1370\u001b[0m \u001b[0;34m\u001b[0m\u001b[0m\n",
            "\u001b[0;32m/usr/local/lib/python3.7/dist-packages/pandas/io/common.py\u001b[0m in \u001b[0;36mget_handle\u001b[0;34m(path_or_buf, mode, encoding, compression, memory_map, is_text, errors, storage_options)\u001b[0m\n\u001b[1;32m    650\u001b[0m                 \u001b[0mencoding\u001b[0m\u001b[0;34m=\u001b[0m\u001b[0mioargs\u001b[0m\u001b[0;34m.\u001b[0m\u001b[0mencoding\u001b[0m\u001b[0;34m,\u001b[0m\u001b[0;34m\u001b[0m\u001b[0;34m\u001b[0m\u001b[0m\n\u001b[1;32m    651\u001b[0m                 \u001b[0merrors\u001b[0m\u001b[0;34m=\u001b[0m\u001b[0merrors\u001b[0m\u001b[0;34m,\u001b[0m\u001b[0;34m\u001b[0m\u001b[0;34m\u001b[0m\u001b[0m\n\u001b[0;32m--> 652\u001b[0;31m                 \u001b[0mnewline\u001b[0m\u001b[0;34m=\u001b[0m\u001b[0;34m\"\"\u001b[0m\u001b[0;34m,\u001b[0m\u001b[0;34m\u001b[0m\u001b[0;34m\u001b[0m\u001b[0m\n\u001b[0m\u001b[1;32m    653\u001b[0m             )\n\u001b[1;32m    654\u001b[0m         \u001b[0;32melse\u001b[0m\u001b[0;34m:\u001b[0m\u001b[0;34m\u001b[0m\u001b[0;34m\u001b[0m\u001b[0m\n",
            "\u001b[0;31mFileNotFoundError\u001b[0m: [Errno 2] No such file or directory: 'ts study 1.txt'"
          ]
        }
      ]
    },
    {
      "cell_type": "code",
      "source": [
        "def s1(n,noise = 3,sign=1):\n",
        "    def f1(x):\n",
        "        return 5*np.sin(x/20)+0.1*x-2*np.sqrt(x)\n",
        "    trend = f1(np.array(range(n)))\n",
        "    noise = np.random.normal(loc = 0, scale = noise,size = n)\n",
        "    ans = {'ts':(trend+noise)*sign, 'trend' : trend*sign}\n",
        "    return ans\n",
        "def s2(length, periods = 10,noise = 0.3,sign=1 ):\n",
        "\n",
        "    sinusoidal_data = np.linspace(-periods * np.pi, periods * np.pi, length)\n",
        "    sinusoidal_data = np.sin(sinusoidal_data)\n",
        "    cos_1_data = np.linspace(-periods * np.pi/2, periods/2 * np.pi/2, int(length/2))\n",
        "    cos_1_data = np.cos(cos_1_data) \n",
        "    cos_2_data = np.linspace(periods/2 * np.pi/2, periods * np.pi/2, int(length/2))\n",
        "    cos_2_data = np.cos(cos_2_data)   \n",
        "    cosine_data = np.hstack((cos_1_data, cos_2_data))\n",
        "    \n",
        "    random_noise = np.random.normal(loc=0.0, scale=noise, size=length)\n",
        "    synthetic_data = sinusoidal_data + cosine_data + random_noise\n",
        "    ans = {'ts':synthetic_data*sign, 'trend': (sinusoidal_data + cosine_data)*sign}\n",
        "    return ans\n",
        "def s3(n,noise = 10,sign = 1):\n",
        "    r = np.array(range(n))\n",
        "    trend = (r-r/5*np.sin(r/2)+r/2*np.sin(r/20))/10\n",
        "    noise = np.random.normal(loc=0,scale = noise,size = n)\n",
        "    ans = {'ts':(trend+noise)*sign, 'trend': trend*sign}\n",
        "    return ans\n",
        "def s4(n,noise = 1,sign =1):\n",
        "    array = np.array(range(n))\n",
        "    trend = array/5+np.power(array,0.5)*np.sin(np.pi/12*array)\n",
        "    noise = np.random.normal(loc = 0,scale = noise, size = n)\n",
        "    noise_cum = noise.cumsum()\n",
        "    ts = trend+noise_cum\n",
        "    ans = {'ts':ts*sign, 'trend' : trend*sign}\n",
        "    return ans\n",
        "\n",
        "def s5(n,noise = 1,sign=1):\n",
        "    r= np.arange(n)\n",
        "    trend = r*1\n",
        "    noise = np.random.normal(loc=0,scale = noise,size = n)\n",
        "    noise_cum = noise.cumsum()\n",
        "    ts = trend+noise_cum\n",
        "    ans = {'ts':ts*sign,'trend':trend*sign}\n",
        "    return ans\n",
        "\n",
        "def s6(n,noise = 1, sign =1):\n",
        "    r = np.arange(n)\n",
        "    trend = 2*np.sin(2*r)+np.cos(r)\n",
        "    noise = np.random.normal(loc = 0,scale  = noise,size = n)\n",
        "    ts = trend+noise\n",
        "    ans = {'ts':ts,'trend':trend}\n",
        "    return ans\n",
        "\n",
        "\n",
        "def s7(n,noise = 1,sign=1):\n",
        "    r= np.arange(n)\n",
        "    trend = r*1+r*np.sin(np.pi*r/48)/np.log(r+2)\n",
        "    noise_coeff = np.log(r+1)\n",
        "    noise = np.random.normal(loc=0,scale = noise_coeff*noise,size = n)\n",
        "    noise_cum = noise.cumsum()\n",
        "    ts = trend+noise_cum\n",
        "    ans = {'ts':ts*sign,'trend':trend*sign}\n",
        "    return ans"
      ],
      "metadata": {
        "id": "nrd3-HXsjhue"
      },
      "execution_count": 31,
      "outputs": []
    },
    {
      "cell_type": "code",
      "source": [
        "horizon = 100\n",
        "validation_blocks = 2\n",
        "task = Task(TaskTypesEnum.ts_forecasting,  TsForecastingParams(forecast_length=horizon))\n",
        "start = 2000\n",
        "end = 3000\n",
        "series = 5\n",
        "\n",
        "if series == 'oil':\n",
        "  init_series = ts_real_oil\n",
        "  ts = init_series[start:end]\n",
        "  trend = None\n",
        "  ts_test = init_series[end:end+horizon]\n",
        "  trend_test = None\n",
        "\n",
        "if series == 'traffic':\n",
        "  init_series = ts_real_traffic\n",
        "  ts = init_series[start:end]\n",
        "  trend = None\n",
        "  ts_test = init_series[end:end+horizon]\n",
        "  trend_test = None\n",
        "\n",
        "if series == 'temp':\n",
        "    init_series = ts_real_temp\n",
        "    ts = init_series[start:end]\n",
        "    trend = None\n",
        "    ts_test = init_series[end:end+horizon]\n",
        "    trend_test = None\n",
        "\n",
        "if series ==1:\n",
        "    noise = 0.5\n",
        "    init_series = s1(10000,noise= noise,sign =1)\n",
        "    ts = init_series['ts'][start:end]\n",
        "    trend = init_series['trend'][start:end]\n",
        "    ts_test = init_series['ts'][end:end+horizon]\n",
        "    trend_test = init_series['trend'][end:end+horizon]  \n",
        "    \n",
        "if series ==2:\n",
        "    noise = 0.5\n",
        "    init_series = s2(10000,noise= noise,sign =1)\n",
        "    ts = init_series['ts'][start:end]\n",
        "    trend = init_series['trend'][start:end]\n",
        "    ts_test = init_series['ts'][end:end+horizon]\n",
        "    trend_test = init_series['trend'][end:end+horizon]\n",
        "    \n",
        "if series ==3:\n",
        "    noise = 0.5\n",
        "    init_series = s3(10000,noise= noise,sign =1)\n",
        "    ts = init_series['ts'][start:end]\n",
        "    trend = init_series['trend'][start:end]\n",
        "    ts_test = init_series['ts'][end:end+horizon]\n",
        "    trend_test = init_series['trend'][end:end+horizon]\n",
        "    \n",
        "if series ==4:\n",
        "    noise = 0.5\n",
        "    init_series = s4(10000,noise= noise,sign =1)\n",
        "    ts = init_series['ts'][start:end]\n",
        "    trend = init_series['trend'][start:end]\n",
        "    ts_test = init_series['ts'][end:end+horizon]\n",
        "    trend_test = init_series['trend'][end:end+horizon]\n",
        "  \n",
        "if series ==5:\n",
        "    noise = 1\n",
        "    init_series = s5(10000,noise= noise,sign =1)\n",
        "    ts = init_series['ts'][start:end]\n",
        "    trend = init_series['trend'][start:end]\n",
        "    ts_test = init_series['ts'][end:end+horizon]\n",
        "    trend_test = init_series['trend'][end:end+horizon]   \n",
        "\n",
        "if series ==6:\n",
        "    noise = 0.5\n",
        "    init_series = s6(10000,noise= noise,sign =1)\n",
        "    ts = init_series['ts'][start:end]\n",
        "    trend = init_series['trend'][start:end]\n",
        "    ts_test = init_series['ts'][end:end+horizon]\n",
        "    trend_test = init_series['trend'][end:end+horizon]\n",
        " \n",
        "idx = np.array( range(len(np.array(ts))) )\n",
        "train_input = InputData(idx=idx,\n",
        "                            features=ts,\n",
        "                            target=ts,\n",
        "                            task=task,\n",
        "                            data_type=DataTypesEnum.ts)\n",
        "train_data, test_data = train_test_data_setup(train_input, validation_blocks=2)\n",
        "\n",
        "# init model for the time series forecasting\n",
        "model = Fedot(problem='ts_forecasting',\n",
        "                  safe_mode = True,\n",
        "                  task_params=task.task_params,\n",
        "                  timeout=5,\n",
        "                  n_jobs=-1,\n",
        "                  cv_folds=2, \n",
        "                  validation_blocks=2, \n",
        "                  preset='ts',\n",
        "                  with_tuning = False,\n",
        "                  max_depth = 5,\n",
        "                  num_of_generations  =3 ,\n",
        "                  logging_level = 10,\n",
        "                 show_progress =True)"
      ],
      "metadata": {
        "id": "99HaD_Mzj2sc"
      },
      "execution_count": 32,
      "outputs": []
    },
    {
      "cell_type": "code",
      "source": [
        "pipeline = model.fit(train_data)\n",
        "forecast = model.forecast(test_data)"
      ],
      "metadata": {
        "colab": {
          "base_uri": "https://localhost:8080/"
        },
        "id": "PXM7Phihw1GU",
        "outputId": "2d5ea13f-b735-4101-dd82-8a780ba6b113"
      },
      "execution_count": 33,
      "outputs": [
        {
          "output_type": "stream",
          "name": "stderr",
          "text": [
            "INFO:root:AssumptionsHandler - Initial pipeline fitting started\n"
          ]
        },
        {
          "output_type": "stream",
          "name": "stdout",
          "text": [
            "2022-12-01 16:36:33,143 - AssumptionsHandler - Initial pipeline fitting started\n"
          ]
        },
        {
          "output_type": "stream",
          "name": "stderr",
          "text": [
            "DEBUG:root:SecondaryNode - Trying to fit secondary node with operation: ridge\n"
          ]
        },
        {
          "output_type": "stream",
          "name": "stdout",
          "text": [
            "2022-12-01 16:36:33,156 - SecondaryNode - Trying to fit secondary node with operation: ridge\n"
          ]
        },
        {
          "output_type": "stream",
          "name": "stderr",
          "text": [
            "DEBUG:root:SecondaryNode - Fit all parent nodes in secondary node with operation: ridge\n"
          ]
        },
        {
          "output_type": "stream",
          "name": "stdout",
          "text": [
            "2022-12-01 16:36:33,170 - SecondaryNode - Fit all parent nodes in secondary node with operation: ridge\n"
          ]
        },
        {
          "output_type": "stream",
          "name": "stderr",
          "text": [
            "DEBUG:root:SecondaryNode - Trying to fit secondary node with operation: ridge\n"
          ]
        },
        {
          "output_type": "stream",
          "name": "stdout",
          "text": [
            "2022-12-01 16:36:33,179 - SecondaryNode - Trying to fit secondary node with operation: ridge\n"
          ]
        },
        {
          "output_type": "stream",
          "name": "stderr",
          "text": [
            "DEBUG:root:SecondaryNode - Fit all parent nodes in secondary node with operation: ridge\n"
          ]
        },
        {
          "output_type": "stream",
          "name": "stdout",
          "text": [
            "2022-12-01 16:36:33,190 - SecondaryNode - Fit all parent nodes in secondary node with operation: ridge\n"
          ]
        },
        {
          "output_type": "stream",
          "name": "stderr",
          "text": [
            "DEBUG:root:PrimaryNode - Trying to fit primary node with operation: lagged\n"
          ]
        },
        {
          "output_type": "stream",
          "name": "stdout",
          "text": [
            "2022-12-01 16:36:33,197 - PrimaryNode - Trying to fit primary node with operation: lagged\n"
          ]
        },
        {
          "output_type": "stream",
          "name": "stderr",
          "text": [
            "DEBUG:root:PrimaryNode - Trying to fit primary node with operation: glm\n"
          ]
        },
        {
          "output_type": "stream",
          "name": "stdout",
          "text": [
            "2022-12-01 16:36:33,404 - PrimaryNode - Trying to fit primary node with operation: glm\n"
          ]
        },
        {
          "output_type": "stream",
          "name": "stderr",
          "text": [
            "DEBUG:root:SecondaryNode - Obtain prediction in secondary node with operation: ridge\n"
          ]
        },
        {
          "output_type": "stream",
          "name": "stdout",
          "text": [
            "2022-12-01 16:36:33,755 - SecondaryNode - Obtain prediction in secondary node with operation: ridge\n"
          ]
        },
        {
          "output_type": "stream",
          "name": "stderr",
          "text": [
            "DEBUG:root:SecondaryNode - Fit all parent nodes in secondary node with operation: ridge\n"
          ]
        },
        {
          "output_type": "stream",
          "name": "stdout",
          "text": [
            "2022-12-01 16:36:33,760 - SecondaryNode - Fit all parent nodes in secondary node with operation: ridge\n"
          ]
        },
        {
          "output_type": "stream",
          "name": "stderr",
          "text": [
            "DEBUG:root:SecondaryNode - Obtain prediction in secondary node with operation: ridge\n"
          ]
        },
        {
          "output_type": "stream",
          "name": "stdout",
          "text": [
            "2022-12-01 16:36:33,767 - SecondaryNode - Obtain prediction in secondary node with operation: ridge\n"
          ]
        },
        {
          "output_type": "stream",
          "name": "stderr",
          "text": [
            "DEBUG:root:SecondaryNode - Fit all parent nodes in secondary node with operation: ridge\n"
          ]
        },
        {
          "output_type": "stream",
          "name": "stdout",
          "text": [
            "2022-12-01 16:36:33,774 - SecondaryNode - Fit all parent nodes in secondary node with operation: ridge\n"
          ]
        },
        {
          "output_type": "stream",
          "name": "stderr",
          "text": [
            "DEBUG:root:PrimaryNode - Predict in primary node by operation: lagged\n"
          ]
        },
        {
          "output_type": "stream",
          "name": "stdout",
          "text": [
            "2022-12-01 16:36:33,783 - PrimaryNode - Predict in primary node by operation: lagged\n"
          ]
        },
        {
          "output_type": "stream",
          "name": "stderr",
          "text": [
            "DEBUG:root:PrimaryNode - Predict in primary node by operation: glm\n"
          ]
        },
        {
          "output_type": "stream",
          "name": "stdout",
          "text": [
            "2022-12-01 16:36:33,796 - PrimaryNode - Predict in primary node by operation: glm\n"
          ]
        },
        {
          "output_type": "stream",
          "name": "stderr",
          "text": [
            "INFO:root:AssumptionsHandler - Initial pipeline was fitted successfully\n"
          ]
        },
        {
          "output_type": "stream",
          "name": "stdout",
          "text": [
            "2022-12-01 16:36:33,810 - AssumptionsHandler - Initial pipeline was fitted successfully\n"
          ]
        },
        {
          "output_type": "stream",
          "name": "stderr",
          "text": [
            "CRITICAL:root:ApiComposer - Initial pipeline was fitted in 0.7 sec.\n"
          ]
        },
        {
          "output_type": "stream",
          "name": "stdout",
          "text": [
            "2022-12-01 16:36:33,820 - ApiComposer - Initial pipeline was fitted in 0.7 sec.\n"
          ]
        },
        {
          "output_type": "stream",
          "name": "stderr",
          "text": [
            "CRITICAL:root:ApiComposer - AutoML configured. Parameters tuning: False. Time limit: 5 min. Set of candidate models: ['scaling', 'locf', 'dtreg', 'smoothing', 'diff_filter', 'ar', 'arima', 'glm', 'sgdr', 'stl_arima', 'lagged', 'ridge', 'lasso', 'normalization', 'sparse_lagged', 'polyfit', 'ts_naive_average', 'gaussian_filter', 'adareg', 'linear', 'ets', 'cut', 'fast_ica', 'pca'].\n"
          ]
        },
        {
          "output_type": "stream",
          "name": "stdout",
          "text": [
            "2022-12-01 16:36:33,852 - ApiComposer - AutoML configured. Parameters tuning: False. Time limit: 5 min. Set of candidate models: ['scaling', 'locf', 'dtreg', 'smoothing', 'diff_filter', 'ar', 'arima', 'glm', 'sgdr', 'stl_arima', 'lagged', 'ridge', 'lasso', 'normalization', 'sparse_lagged', 'polyfit', 'ts_naive_average', 'gaussian_filter', 'adareg', 'linear', 'ets', 'cut', 'fast_ica', 'pca'].\n"
          ]
        },
        {
          "output_type": "stream",
          "name": "stderr",
          "text": [
            "CRITICAL:root:ApiComposer - Pipeline composition started.\n"
          ]
        },
        {
          "output_type": "stream",
          "name": "stdout",
          "text": [
            "2022-12-01 16:36:33,861 - ApiComposer - Pipeline composition started.\n"
          ]
        },
        {
          "output_type": "stream",
          "name": "stderr",
          "text": [
            "INFO:root:DataSourceSplitter - K-folds cross validation is applied.\n"
          ]
        },
        {
          "output_type": "stream",
          "name": "stdout",
          "text": [
            "2022-12-01 16:36:33,867 - DataSourceSplitter - K-folds cross validation is applied.\n"
          ]
        },
        {
          "output_type": "stream",
          "name": "stderr",
          "text": [
            "\rGenerations:  33%|███▎      | 1/3 [00:00<?, ?gen/s]INFO:root:MultiprocessingDispatcher - Number of used CPU's: 2\n"
          ]
        },
        {
          "output_type": "stream",
          "name": "stdout",
          "text": [
            "2022-12-01 16:36:33,876 - MultiprocessingDispatcher - Number of used CPU's: 2\n"
          ]
        },
        {
          "output_type": "stream",
          "name": "stderr",
          "text": [
            "INFO:root:EvoGraphOptimizer - Generation num: 1\n"
          ]
        },
        {
          "output_type": "stream",
          "name": "stdout",
          "text": [
            "2022-12-01 16:36:45,046 - EvoGraphOptimizer - Generation num: 1\n"
          ]
        },
        {
          "output_type": "stream",
          "name": "stderr",
          "text": [
            "INFO:root:EvoGraphOptimizer - Best individuals: HallOfFame archive fitness: ['<get_value=11.766 ComplexityMetricsEnum.node_num=0.400>']\n"
          ]
        },
        {
          "output_type": "stream",
          "name": "stdout",
          "text": [
            "2022-12-01 16:36:45,057 - EvoGraphOptimizer - Best individuals: HallOfFame archive fitness: ['<get_value=11.766 ComplexityMetricsEnum.node_num=0.400>']\n"
          ]
        },
        {
          "output_type": "stream",
          "name": "stderr",
          "text": [
            "INFO:root:MultiprocessingDispatcher - Number of used CPU's: 2\n"
          ]
        },
        {
          "output_type": "stream",
          "name": "stdout",
          "text": [
            "2022-12-01 16:36:46,446 - MultiprocessingDispatcher - Number of used CPU's: 2\n"
          ]
        },
        {
          "output_type": "stream",
          "name": "stderr",
          "text": [
            "INFO:root:EvoGraphOptimizer - Generation num: 2\n"
          ]
        },
        {
          "output_type": "stream",
          "name": "stdout",
          "text": [
            "2022-12-01 16:40:41,537 - EvoGraphOptimizer - Generation num: 2\n"
          ]
        },
        {
          "output_type": "stream",
          "name": "stderr",
          "text": [
            "INFO:root:EvoGraphOptimizer - Best individuals: HallOfFame archive fitness: ['<get_value=9.830 ComplexityMetricsEnum.node_num=0.300>']\n"
          ]
        },
        {
          "output_type": "stream",
          "name": "stdout",
          "text": [
            "2022-12-01 16:40:41,545 - EvoGraphOptimizer - Best individuals: HallOfFame archive fitness: ['<get_value=9.830 ComplexityMetricsEnum.node_num=0.300>']\n"
          ]
        },
        {
          "output_type": "stream",
          "name": "stderr",
          "text": [
            "CRITICAL:root:GroupedCondition - Optimisation stopped: Time limit is reached\n"
          ]
        },
        {
          "output_type": "stream",
          "name": "stdout",
          "text": [
            "2022-12-01 16:40:41,550 - GroupedCondition - Optimisation stopped: Time limit is reached\n"
          ]
        },
        {
          "output_type": "stream",
          "name": "stderr",
          "text": [
            "\rGenerations:  33%|███▎      | 1/3 [04:07<?, ?gen/s]\n",
            "INFO:root:OptimisationTimer - Composition time: 4.128 min\n"
          ]
        },
        {
          "output_type": "stream",
          "name": "stdout",
          "text": [
            "2022-12-01 16:40:41,556 - OptimisationTimer - Composition time: 4.128 min\n"
          ]
        },
        {
          "output_type": "stream",
          "name": "stderr",
          "text": [
            "INFO:root:OptimisationTimer - Algorithm was terminated due to processing time limit\n"
          ]
        },
        {
          "output_type": "stream",
          "name": "stdout",
          "text": [
            "2022-12-01 16:40:41,560 - OptimisationTimer - Algorithm was terminated due to processing time limit\n"
          ]
        },
        {
          "output_type": "stream",
          "name": "stderr",
          "text": [
            "INFO:root:EvoGraphOptimizer - Generation num: 3\n"
          ]
        },
        {
          "output_type": "stream",
          "name": "stdout",
          "text": [
            "2022-12-01 16:40:41,564 - EvoGraphOptimizer - Generation num: 3\n"
          ]
        },
        {
          "output_type": "stream",
          "name": "stderr",
          "text": [
            "INFO:root:EvoGraphOptimizer - Best individuals: HallOfFame archive fitness: ['<get_value=9.830 ComplexityMetricsEnum.node_num=0.300>']\n"
          ]
        },
        {
          "output_type": "stream",
          "name": "stdout",
          "text": [
            "2022-12-01 16:40:41,567 - EvoGraphOptimizer - Best individuals: HallOfFame archive fitness: ['<get_value=9.830 ComplexityMetricsEnum.node_num=0.300>']\n"
          ]
        },
        {
          "output_type": "stream",
          "name": "stderr",
          "text": [
            "INFO:root:EvoGraphOptimizer - no improvements for 1 iterations\n"
          ]
        },
        {
          "output_type": "stream",
          "name": "stdout",
          "text": [
            "2022-12-01 16:40:41,571 - EvoGraphOptimizer - no improvements for 1 iterations\n"
          ]
        },
        {
          "output_type": "stream",
          "name": "stderr",
          "text": [
            "INFO:root:EvoGraphOptimizer - spent time: 4.1 min\n"
          ]
        },
        {
          "output_type": "stream",
          "name": "stdout",
          "text": [
            "2022-12-01 16:40:41,574 - EvoGraphOptimizer - spent time: 4.1 min\n"
          ]
        },
        {
          "output_type": "stream",
          "name": "stderr",
          "text": [
            "INFO:root:GPComposer - GP composition finished\n"
          ]
        },
        {
          "output_type": "stream",
          "name": "stdout",
          "text": [
            "2022-12-01 16:40:41,580 - GPComposer - GP composition finished\n"
          ]
        },
        {
          "output_type": "stream",
          "name": "stderr",
          "text": [
            "CRITICAL:root:ApiComposer - Model generation finished\n"
          ]
        },
        {
          "output_type": "stream",
          "name": "stdout",
          "text": [
            "2022-12-01 16:40:41,996 - ApiComposer - Model generation finished\n"
          ]
        },
        {
          "output_type": "stream",
          "name": "stderr",
          "text": [
            "CRITICAL:root:FEDOT logger - Final pipeline was fitted\n"
          ]
        },
        {
          "output_type": "stream",
          "name": "stdout",
          "text": [
            "2022-12-01 16:40:42,228 - FEDOT logger - Final pipeline was fitted\n"
          ]
        },
        {
          "output_type": "stream",
          "name": "stderr",
          "text": [
            "CRITICAL:root:FEDOT logger - Final pipeline: {'depth': 3, 'length': 3, 'nodes': [ridge, ridge, lagged]}\n",
            "ridge - {}\n",
            "ridge - {}\n",
            "lagged - {'window_size': 10}\n"
          ]
        },
        {
          "output_type": "stream",
          "name": "stdout",
          "text": [
            "2022-12-01 16:40:42,239 - FEDOT logger - Final pipeline: {'depth': 3, 'length': 3, 'nodes': [ridge, ridge, lagged]}\n",
            "ridge - {}\n",
            "ridge - {}\n",
            "lagged - {'window_size': 10}\n"
          ]
        },
        {
          "output_type": "stream",
          "name": "stderr",
          "text": [
            "DEBUG:root:SecondaryNode - Obtain prediction in secondary node with operation: ridge\n"
          ]
        },
        {
          "output_type": "stream",
          "name": "stdout",
          "text": [
            "2022-12-01 16:40:42,254 - SecondaryNode - Obtain prediction in secondary node with operation: ridge\n"
          ]
        },
        {
          "output_type": "stream",
          "name": "stderr",
          "text": [
            "DEBUG:root:SecondaryNode - Fit all parent nodes in secondary node with operation: ridge\n"
          ]
        },
        {
          "output_type": "stream",
          "name": "stdout",
          "text": [
            "2022-12-01 16:40:42,271 - SecondaryNode - Fit all parent nodes in secondary node with operation: ridge\n"
          ]
        },
        {
          "output_type": "stream",
          "name": "stderr",
          "text": [
            "DEBUG:root:SecondaryNode - Obtain prediction in secondary node with operation: ridge\n"
          ]
        },
        {
          "output_type": "stream",
          "name": "stdout",
          "text": [
            "2022-12-01 16:40:42,281 - SecondaryNode - Obtain prediction in secondary node with operation: ridge\n"
          ]
        },
        {
          "output_type": "stream",
          "name": "stderr",
          "text": [
            "DEBUG:root:SecondaryNode - Fit all parent nodes in secondary node with operation: ridge\n"
          ]
        },
        {
          "output_type": "stream",
          "name": "stdout",
          "text": [
            "2022-12-01 16:40:42,298 - SecondaryNode - Fit all parent nodes in secondary node with operation: ridge\n"
          ]
        },
        {
          "output_type": "stream",
          "name": "stderr",
          "text": [
            "DEBUG:root:PrimaryNode - Predict in primary node by operation: lagged\n"
          ]
        },
        {
          "output_type": "stream",
          "name": "stdout",
          "text": [
            "2022-12-01 16:40:42,310 - PrimaryNode - Predict in primary node by operation: lagged\n"
          ]
        }
      ]
    },
    {
      "cell_type": "code",
      "source": [
        "pipeline.show()"
      ],
      "metadata": {
        "colab": {
          "base_uri": "https://localhost:8080/",
          "height": 1000
        },
        "id": "r9njKlbjVrj3",
        "outputId": "dbc27c9f-511f-4355-ec52-aa27f895690a"
      },
      "execution_count": 34,
      "outputs": [
        {
          "output_type": "stream",
          "name": "stderr",
          "text": [
            "DEBUG:matplotlib.font_manager:findfont: Matching sans\\-serif:style=normal:variant=normal:weight=normal:stretch=normal:size=13.0.\n"
          ]
        },
        {
          "output_type": "stream",
          "name": "stdout",
          "text": [
            "2022-12-01 16:41:06,043 - findfont: Matching sans\\-serif:style=normal:variant=normal:weight=normal:stretch=normal:size=13.0.\n"
          ]
        },
        {
          "output_type": "stream",
          "name": "stderr",
          "text": [
            "DEBUG:matplotlib.font_manager:findfont: score(<Font 'STIXSizeOneSym' (STIXSizOneSymReg.ttf) normal normal regular normal>) = 10.05\n"
          ]
        },
        {
          "output_type": "stream",
          "name": "stdout",
          "text": [
            "2022-12-01 16:41:06,050 - findfont: score(<Font 'STIXSizeOneSym' (STIXSizOneSymReg.ttf) normal normal regular normal>) = 10.05\n"
          ]
        },
        {
          "output_type": "stream",
          "name": "stderr",
          "text": [
            "DEBUG:matplotlib.font_manager:findfont: score(<Font 'STIXSizeFiveSym' (STIXSizFiveSymReg.ttf) normal normal regular normal>) = 10.05\n"
          ]
        },
        {
          "output_type": "stream",
          "name": "stdout",
          "text": [
            "2022-12-01 16:41:06,054 - findfont: score(<Font 'STIXSizeFiveSym' (STIXSizFiveSymReg.ttf) normal normal regular normal>) = 10.05\n"
          ]
        },
        {
          "output_type": "stream",
          "name": "stderr",
          "text": [
            "DEBUG:matplotlib.font_manager:findfont: score(<Font 'STIXSizeFourSym' (STIXSizFourSymReg.ttf) normal normal regular normal>) = 10.05\n"
          ]
        },
        {
          "output_type": "stream",
          "name": "stdout",
          "text": [
            "2022-12-01 16:41:06,061 - findfont: score(<Font 'STIXSizeFourSym' (STIXSizFourSymReg.ttf) normal normal regular normal>) = 10.05\n"
          ]
        },
        {
          "output_type": "stream",
          "name": "stderr",
          "text": [
            "DEBUG:matplotlib.font_manager:findfont: score(<Font 'cmtt10' (cmtt10.ttf) normal normal 400 normal>) = 10.05\n"
          ]
        },
        {
          "output_type": "stream",
          "name": "stdout",
          "text": [
            "2022-12-01 16:41:06,068 - findfont: score(<Font 'cmtt10' (cmtt10.ttf) normal normal 400 normal>) = 10.05\n"
          ]
        },
        {
          "output_type": "stream",
          "name": "stderr",
          "text": [
            "DEBUG:matplotlib.font_manager:findfont: score(<Font 'STIXSizeFourSym' (STIXSizFourSymBol.ttf) normal normal 700 normal>) = 10.335\n"
          ]
        },
        {
          "output_type": "stream",
          "name": "stdout",
          "text": [
            "2022-12-01 16:41:06,074 - findfont: score(<Font 'STIXSizeFourSym' (STIXSizFourSymBol.ttf) normal normal 700 normal>) = 10.335\n"
          ]
        },
        {
          "output_type": "stream",
          "name": "stderr",
          "text": [
            "DEBUG:matplotlib.font_manager:findfont: score(<Font 'DejaVu Sans Mono' (DejaVuSansMono-Bold.ttf) normal normal 700 normal>) = 10.335\n"
          ]
        },
        {
          "output_type": "stream",
          "name": "stdout",
          "text": [
            "2022-12-01 16:41:06,081 - findfont: score(<Font 'DejaVu Sans Mono' (DejaVuSansMono-Bold.ttf) normal normal 700 normal>) = 10.335\n"
          ]
        },
        {
          "output_type": "stream",
          "name": "stderr",
          "text": [
            "DEBUG:matplotlib.font_manager:findfont: score(<Font 'DejaVu Serif Display' (DejaVuSerifDisplay.ttf) normal normal 400 normal>) = 10.05\n"
          ]
        },
        {
          "output_type": "stream",
          "name": "stdout",
          "text": [
            "2022-12-01 16:41:06,088 - findfont: score(<Font 'DejaVu Serif Display' (DejaVuSerifDisplay.ttf) normal normal 400 normal>) = 10.05\n"
          ]
        },
        {
          "output_type": "stream",
          "name": "stderr",
          "text": [
            "DEBUG:matplotlib.font_manager:findfont: score(<Font 'STIXSizeThreeSym' (STIXSizThreeSymReg.ttf) normal normal regular normal>) = 10.05\n"
          ]
        },
        {
          "output_type": "stream",
          "name": "stdout",
          "text": [
            "2022-12-01 16:41:06,095 - findfont: score(<Font 'STIXSizeThreeSym' (STIXSizThreeSymReg.ttf) normal normal regular normal>) = 10.05\n"
          ]
        },
        {
          "output_type": "stream",
          "name": "stderr",
          "text": [
            "DEBUG:matplotlib.font_manager:findfont: score(<Font 'cmex10' (cmex10.ttf) normal normal 400 normal>) = 10.05\n"
          ]
        },
        {
          "output_type": "stream",
          "name": "stdout",
          "text": [
            "2022-12-01 16:41:06,102 - findfont: score(<Font 'cmex10' (cmex10.ttf) normal normal 400 normal>) = 10.05\n"
          ]
        },
        {
          "output_type": "stream",
          "name": "stderr",
          "text": [
            "DEBUG:matplotlib.font_manager:findfont: score(<Font 'STIXSizeThreeSym' (STIXSizThreeSymBol.ttf) normal normal 700 normal>) = 10.335\n"
          ]
        },
        {
          "output_type": "stream",
          "name": "stdout",
          "text": [
            "2022-12-01 16:41:06,109 - findfont: score(<Font 'STIXSizeThreeSym' (STIXSizThreeSymBol.ttf) normal normal 700 normal>) = 10.335\n"
          ]
        },
        {
          "output_type": "stream",
          "name": "stderr",
          "text": [
            "DEBUG:matplotlib.font_manager:findfont: score(<Font 'cmsy10' (cmsy10.ttf) normal normal 400 normal>) = 10.05\n"
          ]
        },
        {
          "output_type": "stream",
          "name": "stdout",
          "text": [
            "2022-12-01 16:41:06,112 - findfont: score(<Font 'cmsy10' (cmsy10.ttf) normal normal 400 normal>) = 10.05\n"
          ]
        },
        {
          "output_type": "stream",
          "name": "stderr",
          "text": [
            "DEBUG:matplotlib.font_manager:findfont: score(<Font 'DejaVu Serif' (DejaVuSerif-Bold.ttf) normal normal 700 normal>) = 10.335\n"
          ]
        },
        {
          "output_type": "stream",
          "name": "stdout",
          "text": [
            "2022-12-01 16:41:06,116 - findfont: score(<Font 'DejaVu Serif' (DejaVuSerif-Bold.ttf) normal normal 700 normal>) = 10.335\n"
          ]
        },
        {
          "output_type": "stream",
          "name": "stderr",
          "text": [
            "DEBUG:matplotlib.font_manager:findfont: score(<Font 'DejaVu Sans' (DejaVuSans-BoldOblique.ttf) oblique normal 700 normal>) = 1.335\n"
          ]
        },
        {
          "output_type": "stream",
          "name": "stdout",
          "text": [
            "2022-12-01 16:41:06,119 - findfont: score(<Font 'DejaVu Sans' (DejaVuSans-BoldOblique.ttf) oblique normal 700 normal>) = 1.335\n"
          ]
        },
        {
          "output_type": "stream",
          "name": "stderr",
          "text": [
            "DEBUG:matplotlib.font_manager:findfont: score(<Font 'DejaVu Serif' (DejaVuSerif.ttf) normal normal 400 normal>) = 10.05\n"
          ]
        },
        {
          "output_type": "stream",
          "name": "stdout",
          "text": [
            "2022-12-01 16:41:06,122 - findfont: score(<Font 'DejaVu Serif' (DejaVuSerif.ttf) normal normal 400 normal>) = 10.05\n"
          ]
        },
        {
          "output_type": "stream",
          "name": "stderr",
          "text": [
            "DEBUG:matplotlib.font_manager:findfont: score(<Font 'DejaVu Serif' (DejaVuSerif-BoldItalic.ttf) italic normal 700 normal>) = 11.335\n"
          ]
        },
        {
          "output_type": "stream",
          "name": "stdout",
          "text": [
            "2022-12-01 16:41:06,126 - findfont: score(<Font 'DejaVu Serif' (DejaVuSerif-BoldItalic.ttf) italic normal 700 normal>) = 11.335\n"
          ]
        },
        {
          "output_type": "stream",
          "name": "stderr",
          "text": [
            "DEBUG:matplotlib.font_manager:findfont: score(<Font 'STIXNonUnicode' (STIXNonUni.ttf) normal normal regular normal>) = 10.05\n"
          ]
        },
        {
          "output_type": "stream",
          "name": "stdout",
          "text": [
            "2022-12-01 16:41:06,129 - findfont: score(<Font 'STIXNonUnicode' (STIXNonUni.ttf) normal normal regular normal>) = 10.05\n"
          ]
        },
        {
          "output_type": "stream",
          "name": "stderr",
          "text": [
            "DEBUG:matplotlib.font_manager:findfont: score(<Font 'DejaVu Sans Mono' (DejaVuSansMono.ttf) normal normal 400 normal>) = 10.05\n"
          ]
        },
        {
          "output_type": "stream",
          "name": "stdout",
          "text": [
            "2022-12-01 16:41:06,133 - findfont: score(<Font 'DejaVu Sans Mono' (DejaVuSansMono.ttf) normal normal 400 normal>) = 10.05\n"
          ]
        },
        {
          "output_type": "stream",
          "name": "stderr",
          "text": [
            "DEBUG:matplotlib.font_manager:findfont: score(<Font 'DejaVu Sans Mono' (DejaVuSansMono-BoldOblique.ttf) oblique normal 700 normal>) = 11.335\n"
          ]
        },
        {
          "output_type": "stream",
          "name": "stdout",
          "text": [
            "2022-12-01 16:41:06,137 - findfont: score(<Font 'DejaVu Sans Mono' (DejaVuSansMono-BoldOblique.ttf) oblique normal 700 normal>) = 11.335\n"
          ]
        },
        {
          "output_type": "stream",
          "name": "stderr",
          "text": [
            "DEBUG:matplotlib.font_manager:findfont: score(<Font 'STIXSizeTwoSym' (STIXSizTwoSymBol.ttf) normal normal 700 normal>) = 10.335\n"
          ]
        },
        {
          "output_type": "stream",
          "name": "stdout",
          "text": [
            "2022-12-01 16:41:06,140 - findfont: score(<Font 'STIXSizeTwoSym' (STIXSizTwoSymBol.ttf) normal normal 700 normal>) = 10.335\n"
          ]
        },
        {
          "output_type": "stream",
          "name": "stderr",
          "text": [
            "DEBUG:matplotlib.font_manager:findfont: score(<Font 'STIXNonUnicode' (STIXNonUniBol.ttf) normal normal 700 normal>) = 10.335\n"
          ]
        },
        {
          "output_type": "stream",
          "name": "stdout",
          "text": [
            "2022-12-01 16:41:06,144 - findfont: score(<Font 'STIXNonUnicode' (STIXNonUniBol.ttf) normal normal 700 normal>) = 10.335\n"
          ]
        },
        {
          "output_type": "stream",
          "name": "stderr",
          "text": [
            "DEBUG:matplotlib.font_manager:findfont: score(<Font 'STIXGeneral' (STIXGeneralItalic.ttf) italic normal 400 normal>) = 11.05\n"
          ]
        },
        {
          "output_type": "stream",
          "name": "stdout",
          "text": [
            "2022-12-01 16:41:06,147 - findfont: score(<Font 'STIXGeneral' (STIXGeneralItalic.ttf) italic normal 400 normal>) = 11.05\n"
          ]
        },
        {
          "output_type": "stream",
          "name": "stderr",
          "text": [
            "DEBUG:matplotlib.font_manager:findfont: score(<Font 'STIXNonUnicode' (STIXNonUniIta.ttf) italic normal 400 normal>) = 11.05\n"
          ]
        },
        {
          "output_type": "stream",
          "name": "stdout",
          "text": [
            "2022-12-01 16:41:06,150 - findfont: score(<Font 'STIXNonUnicode' (STIXNonUniIta.ttf) italic normal 400 normal>) = 11.05\n"
          ]
        },
        {
          "output_type": "stream",
          "name": "stderr",
          "text": [
            "DEBUG:matplotlib.font_manager:findfont: score(<Font 'cmr10' (cmr10.ttf) normal normal 400 normal>) = 10.05\n"
          ]
        },
        {
          "output_type": "stream",
          "name": "stdout",
          "text": [
            "2022-12-01 16:41:06,153 - findfont: score(<Font 'cmr10' (cmr10.ttf) normal normal 400 normal>) = 10.05\n"
          ]
        },
        {
          "output_type": "stream",
          "name": "stderr",
          "text": [
            "DEBUG:matplotlib.font_manager:findfont: score(<Font 'STIXGeneral' (STIXGeneral.ttf) normal normal regular normal>) = 10.05\n"
          ]
        },
        {
          "output_type": "stream",
          "name": "stdout",
          "text": [
            "2022-12-01 16:41:06,156 - findfont: score(<Font 'STIXGeneral' (STIXGeneral.ttf) normal normal regular normal>) = 10.05\n"
          ]
        },
        {
          "output_type": "stream",
          "name": "stderr",
          "text": [
            "DEBUG:matplotlib.font_manager:findfont: score(<Font 'STIXSizeTwoSym' (STIXSizTwoSymReg.ttf) normal normal regular normal>) = 10.05\n"
          ]
        },
        {
          "output_type": "stream",
          "name": "stdout",
          "text": [
            "2022-12-01 16:41:06,160 - findfont: score(<Font 'STIXSizeTwoSym' (STIXSizTwoSymReg.ttf) normal normal regular normal>) = 10.05\n"
          ]
        },
        {
          "output_type": "stream",
          "name": "stderr",
          "text": [
            "DEBUG:matplotlib.font_manager:findfont: score(<Font 'cmb10' (cmb10.ttf) normal normal 400 normal>) = 10.05\n"
          ]
        },
        {
          "output_type": "stream",
          "name": "stdout",
          "text": [
            "2022-12-01 16:41:06,163 - findfont: score(<Font 'cmb10' (cmb10.ttf) normal normal 400 normal>) = 10.05\n"
          ]
        },
        {
          "output_type": "stream",
          "name": "stderr",
          "text": [
            "DEBUG:matplotlib.font_manager:findfont: score(<Font 'cmss10' (cmss10.ttf) normal normal 400 normal>) = 10.05\n"
          ]
        },
        {
          "output_type": "stream",
          "name": "stdout",
          "text": [
            "2022-12-01 16:41:06,166 - findfont: score(<Font 'cmss10' (cmss10.ttf) normal normal 400 normal>) = 10.05\n"
          ]
        },
        {
          "output_type": "stream",
          "name": "stderr",
          "text": [
            "DEBUG:matplotlib.font_manager:findfont: score(<Font 'STIXGeneral' (STIXGeneralBolIta.ttf) italic normal 700 normal>) = 11.335\n"
          ]
        },
        {
          "output_type": "stream",
          "name": "stdout",
          "text": [
            "2022-12-01 16:41:06,169 - findfont: score(<Font 'STIXGeneral' (STIXGeneralBolIta.ttf) italic normal 700 normal>) = 11.335\n"
          ]
        },
        {
          "output_type": "stream",
          "name": "stderr",
          "text": [
            "DEBUG:matplotlib.font_manager:findfont: score(<Font 'DejaVu Sans' (DejaVuSans.ttf) normal normal 400 normal>) = 0.05\n"
          ]
        },
        {
          "output_type": "stream",
          "name": "stdout",
          "text": [
            "2022-12-01 16:41:06,173 - findfont: score(<Font 'DejaVu Sans' (DejaVuSans.ttf) normal normal 400 normal>) = 0.05\n"
          ]
        },
        {
          "output_type": "stream",
          "name": "stderr",
          "text": [
            "DEBUG:matplotlib.font_manager:findfont: score(<Font 'DejaVu Sans' (DejaVuSans-Oblique.ttf) oblique normal 400 normal>) = 1.05\n"
          ]
        },
        {
          "output_type": "stream",
          "name": "stdout",
          "text": [
            "2022-12-01 16:41:06,176 - findfont: score(<Font 'DejaVu Sans' (DejaVuSans-Oblique.ttf) oblique normal 400 normal>) = 1.05\n"
          ]
        },
        {
          "output_type": "stream",
          "name": "stderr",
          "text": [
            "DEBUG:matplotlib.font_manager:findfont: score(<Font 'STIXSizeOneSym' (STIXSizOneSymBol.ttf) normal normal 700 normal>) = 10.335\n"
          ]
        },
        {
          "output_type": "stream",
          "name": "stdout",
          "text": [
            "2022-12-01 16:41:06,180 - findfont: score(<Font 'STIXSizeOneSym' (STIXSizOneSymBol.ttf) normal normal 700 normal>) = 10.335\n"
          ]
        },
        {
          "output_type": "stream",
          "name": "stderr",
          "text": [
            "DEBUG:matplotlib.font_manager:findfont: score(<Font 'DejaVu Sans Display' (DejaVuSansDisplay.ttf) normal normal 400 normal>) = 10.05\n"
          ]
        },
        {
          "output_type": "stream",
          "name": "stdout",
          "text": [
            "2022-12-01 16:41:06,183 - findfont: score(<Font 'DejaVu Sans Display' (DejaVuSansDisplay.ttf) normal normal 400 normal>) = 10.05\n"
          ]
        },
        {
          "output_type": "stream",
          "name": "stderr",
          "text": [
            "DEBUG:matplotlib.font_manager:findfont: score(<Font 'DejaVu Serif' (DejaVuSerif-Italic.ttf) italic normal 400 normal>) = 11.05\n"
          ]
        },
        {
          "output_type": "stream",
          "name": "stdout",
          "text": [
            "2022-12-01 16:41:06,187 - findfont: score(<Font 'DejaVu Serif' (DejaVuSerif-Italic.ttf) italic normal 400 normal>) = 11.05\n"
          ]
        },
        {
          "output_type": "stream",
          "name": "stderr",
          "text": [
            "DEBUG:matplotlib.font_manager:findfont: score(<Font 'STIXGeneral' (STIXGeneralBol.ttf) normal normal 700 normal>) = 10.335\n"
          ]
        },
        {
          "output_type": "stream",
          "name": "stdout",
          "text": [
            "2022-12-01 16:41:06,190 - findfont: score(<Font 'STIXGeneral' (STIXGeneralBol.ttf) normal normal 700 normal>) = 10.335\n"
          ]
        },
        {
          "output_type": "stream",
          "name": "stderr",
          "text": [
            "DEBUG:matplotlib.font_manager:findfont: score(<Font 'cmmi10' (cmmi10.ttf) normal normal 400 normal>) = 10.05\n"
          ]
        },
        {
          "output_type": "stream",
          "name": "stdout",
          "text": [
            "2022-12-01 16:41:06,193 - findfont: score(<Font 'cmmi10' (cmmi10.ttf) normal normal 400 normal>) = 10.05\n"
          ]
        },
        {
          "output_type": "stream",
          "name": "stderr",
          "text": [
            "DEBUG:matplotlib.font_manager:findfont: score(<Font 'DejaVu Sans' (DejaVuSans-Bold.ttf) normal normal 700 normal>) = 0.33499999999999996\n"
          ]
        },
        {
          "output_type": "stream",
          "name": "stdout",
          "text": [
            "2022-12-01 16:41:06,197 - findfont: score(<Font 'DejaVu Sans' (DejaVuSans-Bold.ttf) normal normal 700 normal>) = 0.33499999999999996\n"
          ]
        },
        {
          "output_type": "stream",
          "name": "stderr",
          "text": [
            "DEBUG:matplotlib.font_manager:findfont: score(<Font 'DejaVu Sans Mono' (DejaVuSansMono-Oblique.ttf) oblique normal 400 normal>) = 11.05\n"
          ]
        },
        {
          "output_type": "stream",
          "name": "stdout",
          "text": [
            "2022-12-01 16:41:06,200 - findfont: score(<Font 'DejaVu Sans Mono' (DejaVuSansMono-Oblique.ttf) oblique normal 400 normal>) = 11.05\n"
          ]
        },
        {
          "output_type": "stream",
          "name": "stderr",
          "text": [
            "DEBUG:matplotlib.font_manager:findfont: score(<Font 'STIXNonUnicode' (STIXNonUniBolIta.ttf) italic normal 700 normal>) = 11.335\n"
          ]
        },
        {
          "output_type": "stream",
          "name": "stdout",
          "text": [
            "2022-12-01 16:41:06,204 - findfont: score(<Font 'STIXNonUnicode' (STIXNonUniBolIta.ttf) italic normal 700 normal>) = 11.335\n"
          ]
        },
        {
          "output_type": "stream",
          "name": "stderr",
          "text": [
            "DEBUG:matplotlib.font_manager:findfont: score(<Font 'Liberation Mono' (LiberationMono-Regular.ttf) normal normal 400 normal>) = 10.05\n"
          ]
        },
        {
          "output_type": "stream",
          "name": "stdout",
          "text": [
            "2022-12-01 16:41:06,207 - findfont: score(<Font 'Liberation Mono' (LiberationMono-Regular.ttf) normal normal 400 normal>) = 10.05\n"
          ]
        },
        {
          "output_type": "stream",
          "name": "stderr",
          "text": [
            "DEBUG:matplotlib.font_manager:findfont: score(<Font 'Liberation Sans Narrow' (LiberationSansNarrow-Regular.ttf) normal normal 400 condensed>) = 10.25\n"
          ]
        },
        {
          "output_type": "stream",
          "name": "stdout",
          "text": [
            "2022-12-01 16:41:06,210 - findfont: score(<Font 'Liberation Sans Narrow' (LiberationSansNarrow-Regular.ttf) normal normal 400 condensed>) = 10.25\n"
          ]
        },
        {
          "output_type": "stream",
          "name": "stderr",
          "text": [
            "DEBUG:matplotlib.font_manager:findfont: score(<Font 'Liberation Mono' (LiberationMono-Italic.ttf) italic normal 400 normal>) = 11.05\n"
          ]
        },
        {
          "output_type": "stream",
          "name": "stdout",
          "text": [
            "2022-12-01 16:41:06,213 - findfont: score(<Font 'Liberation Mono' (LiberationMono-Italic.ttf) italic normal 400 normal>) = 11.05\n"
          ]
        },
        {
          "output_type": "stream",
          "name": "stderr",
          "text": [
            "DEBUG:matplotlib.font_manager:findfont: score(<Font 'Liberation Sans' (LiberationSans-BoldItalic.ttf) italic normal 700 normal>) = 11.335\n"
          ]
        },
        {
          "output_type": "stream",
          "name": "stdout",
          "text": [
            "2022-12-01 16:41:06,217 - findfont: score(<Font 'Liberation Sans' (LiberationSans-BoldItalic.ttf) italic normal 700 normal>) = 11.335\n"
          ]
        },
        {
          "output_type": "stream",
          "name": "stderr",
          "text": [
            "DEBUG:matplotlib.font_manager:findfont: score(<Font 'Liberation Serif' (LiberationSerif-Regular.ttf) normal normal 400 normal>) = 10.05\n"
          ]
        },
        {
          "output_type": "stream",
          "name": "stdout",
          "text": [
            "2022-12-01 16:41:06,220 - findfont: score(<Font 'Liberation Serif' (LiberationSerif-Regular.ttf) normal normal 400 normal>) = 10.05\n"
          ]
        },
        {
          "output_type": "stream",
          "name": "stderr",
          "text": [
            "DEBUG:matplotlib.font_manager:findfont: score(<Font 'Humor Sans' (Humor-Sans.ttf) normal normal 400 normal>) = 10.05\n"
          ]
        },
        {
          "output_type": "stream",
          "name": "stdout",
          "text": [
            "2022-12-01 16:41:06,223 - findfont: score(<Font 'Humor Sans' (Humor-Sans.ttf) normal normal 400 normal>) = 10.05\n"
          ]
        },
        {
          "output_type": "stream",
          "name": "stderr",
          "text": [
            "DEBUG:matplotlib.font_manager:findfont: score(<Font 'Liberation Mono' (LiberationMono-Bold.ttf) normal normal 700 normal>) = 10.335\n"
          ]
        },
        {
          "output_type": "stream",
          "name": "stdout",
          "text": [
            "2022-12-01 16:41:06,227 - findfont: score(<Font 'Liberation Mono' (LiberationMono-Bold.ttf) normal normal 700 normal>) = 10.335\n"
          ]
        },
        {
          "output_type": "stream",
          "name": "stderr",
          "text": [
            "DEBUG:matplotlib.font_manager:findfont: score(<Font 'Liberation Sans Narrow' (LiberationSansNarrow-Italic.ttf) italic normal 400 condensed>) = 11.25\n"
          ]
        },
        {
          "output_type": "stream",
          "name": "stdout",
          "text": [
            "2022-12-01 16:41:06,230 - findfont: score(<Font 'Liberation Sans Narrow' (LiberationSansNarrow-Italic.ttf) italic normal 400 condensed>) = 11.25\n"
          ]
        },
        {
          "output_type": "stream",
          "name": "stderr",
          "text": [
            "DEBUG:matplotlib.font_manager:findfont: score(<Font 'Liberation Serif' (LiberationSerif-BoldItalic.ttf) italic normal 700 normal>) = 11.335\n"
          ]
        },
        {
          "output_type": "stream",
          "name": "stdout",
          "text": [
            "2022-12-01 16:41:06,234 - findfont: score(<Font 'Liberation Serif' (LiberationSerif-BoldItalic.ttf) italic normal 700 normal>) = 11.335\n"
          ]
        },
        {
          "output_type": "stream",
          "name": "stderr",
          "text": [
            "DEBUG:matplotlib.font_manager:findfont: score(<Font 'Liberation Sans' (LiberationSans-Italic.ttf) italic normal 400 normal>) = 11.05\n"
          ]
        },
        {
          "output_type": "stream",
          "name": "stdout",
          "text": [
            "2022-12-01 16:41:06,238 - findfont: score(<Font 'Liberation Sans' (LiberationSans-Italic.ttf) italic normal 400 normal>) = 11.05\n"
          ]
        },
        {
          "output_type": "stream",
          "name": "stderr",
          "text": [
            "DEBUG:matplotlib.font_manager:findfont: score(<Font 'Liberation Mono' (LiberationMono-BoldItalic.ttf) italic normal 700 normal>) = 11.335\n"
          ]
        },
        {
          "output_type": "stream",
          "name": "stdout",
          "text": [
            "2022-12-01 16:41:06,241 - findfont: score(<Font 'Liberation Mono' (LiberationMono-BoldItalic.ttf) italic normal 700 normal>) = 11.335\n"
          ]
        },
        {
          "output_type": "stream",
          "name": "stderr",
          "text": [
            "DEBUG:matplotlib.font_manager:findfont: score(<Font 'Liberation Serif' (LiberationSerif-Bold.ttf) normal normal 700 normal>) = 10.335\n"
          ]
        },
        {
          "output_type": "stream",
          "name": "stdout",
          "text": [
            "2022-12-01 16:41:06,244 - findfont: score(<Font 'Liberation Serif' (LiberationSerif-Bold.ttf) normal normal 700 normal>) = 10.335\n"
          ]
        },
        {
          "output_type": "stream",
          "name": "stderr",
          "text": [
            "DEBUG:matplotlib.font_manager:findfont: score(<Font 'Liberation Sans' (LiberationSans-Regular.ttf) normal normal 400 normal>) = 10.05\n"
          ]
        },
        {
          "output_type": "stream",
          "name": "stdout",
          "text": [
            "2022-12-01 16:41:06,248 - findfont: score(<Font 'Liberation Sans' (LiberationSans-Regular.ttf) normal normal 400 normal>) = 10.05\n"
          ]
        },
        {
          "output_type": "stream",
          "name": "stderr",
          "text": [
            "DEBUG:matplotlib.font_manager:findfont: score(<Font 'Liberation Sans Narrow' (LiberationSansNarrow-Bold.ttf) normal normal 700 condensed>) = 10.535\n"
          ]
        },
        {
          "output_type": "stream",
          "name": "stdout",
          "text": [
            "2022-12-01 16:41:06,251 - findfont: score(<Font 'Liberation Sans Narrow' (LiberationSansNarrow-Bold.ttf) normal normal 700 condensed>) = 10.535\n"
          ]
        },
        {
          "output_type": "stream",
          "name": "stderr",
          "text": [
            "DEBUG:matplotlib.font_manager:findfont: score(<Font 'Liberation Serif' (LiberationSerif-Italic.ttf) italic normal 400 normal>) = 11.05\n"
          ]
        },
        {
          "output_type": "stream",
          "name": "stdout",
          "text": [
            "2022-12-01 16:41:06,254 - findfont: score(<Font 'Liberation Serif' (LiberationSerif-Italic.ttf) italic normal 400 normal>) = 11.05\n"
          ]
        },
        {
          "output_type": "stream",
          "name": "stderr",
          "text": [
            "DEBUG:matplotlib.font_manager:findfont: score(<Font 'Liberation Sans Narrow' (LiberationSansNarrow-BoldItalic.ttf) italic normal 700 condensed>) = 11.535\n"
          ]
        },
        {
          "output_type": "stream",
          "name": "stdout",
          "text": [
            "2022-12-01 16:41:06,258 - findfont: score(<Font 'Liberation Sans Narrow' (LiberationSansNarrow-BoldItalic.ttf) italic normal 700 condensed>) = 11.535\n"
          ]
        },
        {
          "output_type": "stream",
          "name": "stderr",
          "text": [
            "DEBUG:matplotlib.font_manager:findfont: score(<Font 'Liberation Sans' (LiberationSans-Bold.ttf) normal normal 700 normal>) = 10.335\n"
          ]
        },
        {
          "output_type": "stream",
          "name": "stdout",
          "text": [
            "2022-12-01 16:41:06,261 - findfont: score(<Font 'Liberation Sans' (LiberationSans-Bold.ttf) normal normal 700 normal>) = 10.335\n"
          ]
        },
        {
          "output_type": "stream",
          "name": "stderr",
          "text": [
            "DEBUG:matplotlib.font_manager:findfont: Matching sans\\-serif:style=normal:variant=normal:weight=normal:stretch=normal:size=13.0 to DejaVu Sans ('/usr/local/lib/python3.8/dist-packages/matplotlib/mpl-data/fonts/ttf/DejaVuSans.ttf') with score of 0.050000.\n"
          ]
        },
        {
          "output_type": "stream",
          "name": "stdout",
          "text": [
            "2022-12-01 16:41:06,265 - findfont: Matching sans\\-serif:style=normal:variant=normal:weight=normal:stretch=normal:size=13.0 to DejaVu Sans ('/usr/local/lib/python3.8/dist-packages/matplotlib/mpl-data/fonts/ttf/DejaVuSans.ttf') with score of 0.050000.\n"
          ]
        },
        {
          "output_type": "display_data",
          "data": {
            "text/plain": [
              "<Figure size 700x700 with 1 Axes>"
            ],
            "image/png": "[encoded data removed]"
          },
          "metadata": {}
        }
      ]
    },
    {
      "cell_type": "code",
      "source": [
        "#!pip install matplotlib==3.1.3"
      ],
      "metadata": {
        "id": "W-7EbIALYAbc"
      },
      "execution_count": 14,
      "outputs": []
    },
    {
      "cell_type": "code",
      "source": [
        "fig,ax  = plt.subplots()\n",
        "fig.set(figwidth = 15,figheight = 7)\n",
        "test_range = range(len(ts), len(ts)+len(ts_test))\n",
        "test_range = range(end,end+horizon)\n",
        "train_range = range(start,end)\n",
        "total_range = range(start,end+horizon)\n",
        "\n",
        "ax.plot(train_range,ts, label = 'train ts')\n",
        "if trend is not None:\n",
        "    ax.plot(train_range, trend,color = 'green',label = 'trend')\n",
        "if trend_test is not None:\n",
        "    ax.plot(test_range, trend_test,color = 'green')\n",
        "ax.plot(test_range,forecast, color = 'red', label = 'forecast')\n",
        "ax.plot(test_range, ts_test,color = 'black', label = 'test ts')\n",
        "plt.legend();\n",
        "\n",
        "fig1,ax1 = plt.subplots()\n",
        "fig1.set(figwidth = 15,figheight = 7)\n",
        "\n",
        "if trend_test is not None:\n",
        "    ax1.plot(test_range, trend_test,color = 'green')\n",
        "ax1.plot(test_range,forecast, color = 'red', label = 'forecast')\n",
        "ax1.plot(test_range, ts_test,color = 'black', label = 'test ts')\n",
        "plt.legend();"
      ],
      "metadata": {
        "colab": {
          "base_uri": "https://localhost:8080/",
          "height": 839
        },
        "id": "2Fl-x0hYk-hv",
        "outputId": "81431794-739e-4a0e-eb1a-2e037ba34019"
      },
      "execution_count": 35,
      "outputs": [
        {
          "output_type": "display_data",
          "data": {
            "text/plain": [
              "<Figure size 1080x504 with 1 Axes>"
            ],
            "image/png": "[encoded data removed]"
          },
          "metadata": {
            "needs_background": "light"
          }
        },
        {
          "output_type": "display_data",
          "data": {
            "text/plain": [
              "<Figure size 1080x504 with 1 Axes>"
            ],
            "image/png": "[encoded data removed]"
          },
          "metadata": {
            "needs_background": "light"
          }
        }
      ]
    },
    {
      "cell_type": "code",
      "source": [
        "import sys\n",
        "from sklearn.metrics import mean_squared_error as mse\n",
        "from fedot.core.composer.metrics import QualityMetric\n",
        "from fedot.core.data.data import InputData, OutputData\n",
        "from fedot.core.repository.tasks import TsForecastingParams\n",
        "\n",
        "def quantile_loss(y_true, y_pred, quantile=0.5):\n",
        "    res = np.array(y_true)-np.array(y_pred)\n",
        "    metrics=np.empty(shape = [0])\n",
        "    for x in res:\n",
        "        if x>=0:\n",
        "            metrics = np.append(metrics, quantile*x)\n",
        "        else:\n",
        "            metrics = np.append(metrics,(quantile-1)*x)\n",
        "    return np.mean(metrics)\n",
        "\n",
        "class Quantile_Loss_1(QualityMetric):\n",
        "    default_value = sys.maxsize\n",
        "\n",
        "    @staticmethod\n",
        "    def metric(reference: InputData, predicted: OutputData) -> float:\n",
        "        value = quantile_loss(reference.target, predicted.predict,quantile = 0.1)\n",
        "        return value\n",
        "\n",
        "\n",
        "class Quantile_Loss_9(QualityMetric):\n",
        "    default_value = sys.maxsize\n",
        "\n",
        "    @staticmethod\n",
        "    def metric(reference: InputData, predicted: OutputData) -> float:\n",
        "        value = quantile_loss(reference.target, predicted.predict,quantile = 0.9)\n",
        "        return value"
      ],
      "metadata": {
        "id": "uXWB4nm_p4x1"
      },
      "execution_count": 36,
      "outputs": []
    },
    {
      "cell_type": "code",
      "source": [
        "#importing for tuning\n",
        "\n",
        "from fedot.core.pipelines.adapters import PipelineAdapter\n",
        "from fedot.core.pipelines.tuning.tuner_builder import TunerBuilder\n",
        "from fedot.core.repository.quality_metrics_repository import RegressionMetricsEnum\n",
        "from fedot.core.pipelines.tuning.tuner_interface import HyperoptTuner\n",
        "from fedot.core.pipelines.tuning.unified import PipelineTuner\n",
        "from fedot.core.optimisers.composer_requirements import ComposerRequirements\n",
        "import datetime\n",
        "\n",
        "from fedot.core.repository.quality_metrics_repository import RegressionMetricsEnum\n",
        "\n",
        "#these parameters are the same for both tuners below\n",
        "task = Task(TaskTypesEnum.ts_forecasting,TsForecastingParams(forecast_length=horizon))\n",
        "composer_requirements = ComposerRequirements()\n",
        "composer_requirements.validation_blocks = 2\n",
        "composer_requirements.n_jobs= -1\n",
        "composer_requirements.show_progress = True\n",
        "\n",
        "#this tuner will be used to create lower confidence interval\n",
        "low_tuner = TunerBuilder(task = task) \\\n",
        "         .with_tuner(PipelineTuner) \\\n",
        "         .with_metric(Quantile_Loss_1.get_value) \\\n",
        "         .with_iterations(10) \\\n",
        "         .with_timeout(datetime.timedelta(minutes=2)) \\\n",
        "         .with_requirements(composer_requirements) \\\n",
        "         .build(train_data)\n",
        "\n",
        "#this tuner will be used to create uppper confidence interval\n",
        "up_tuner = TunerBuilder(task = task) \\\n",
        "         .with_tuner(PipelineTuner) \\\n",
        "         .with_metric(Quantile_Loss_9.get_value) \\\n",
        "         .with_iterations(10) \\\n",
        "         .with_timeout(datetime.timedelta(minutes=2)) \\\n",
        "         .with_requirements(composer_requirements) \\\n",
        "         .build(train_data)"
      ],
      "metadata": {
        "id": "NNRl8s3ZlJnV",
        "colab": {
          "base_uri": "https://localhost:8080/"
        },
        "outputId": "efe699d1-a3a8-4932-ee78-1e96e50418e3"
      },
      "execution_count": 37,
      "outputs": [
        {
          "output_type": "stream",
          "name": "stderr",
          "text": [
            "INFO:root:DataSourceSplitter - Hold out validation is applied.\n"
          ]
        },
        {
          "output_type": "stream",
          "name": "stdout",
          "text": [
            "2022-12-01 16:42:17,981 - DataSourceSplitter - Hold out validation is applied.\n"
          ]
        },
        {
          "output_type": "stream",
          "name": "stderr",
          "text": [
            "INFO:root:DataSourceSplitter - Hold out validation is applied.\n"
          ]
        },
        {
          "output_type": "stream",
          "name": "stdout",
          "text": [
            "2022-12-01 16:42:17,988 - DataSourceSplitter - Hold out validation is applied.\n"
          ]
        }
      ]
    },
    {
      "cell_type": "code",
      "source": [
        "def quantile_maker(quantile,arrays):\n",
        "    number_arrays = len(arrays)\n",
        "    l = len(arrays[0])\n",
        "    up = []\n",
        "    low = []\n",
        "    for i in range(l):\n",
        "        x = np.array([arrays[j][i] for j in range(number_arrays)])\n",
        "        q_up = np.quantile(x, 1-quantile)\n",
        "        up.append(q_up)\n",
        "        q_low = np.quantile(x,quantile)\n",
        "        low.append(q_low)\n",
        "    up = np.array(up)\n",
        "    low = np.array(low)\n",
        "    return {'up':up,'low':low}\n",
        "\n",
        "def mean_maker(arrays):\n",
        "    number_arrays = len(arrays)\n",
        "    l = len(arrays[0])\n",
        "    average = []\n",
        "    for i in range(l):\n",
        "        x = np.array([arrays[j][i] for j in range(number_arrays)])\n",
        "        average.append(x.mean())\n",
        "    return average\n",
        "\n",
        "def median_maker(arrays):\n",
        "    number_arrays = len(arrays)\n",
        "    l = len(arrays[0])\n",
        "    median = []\n",
        "    for i in range(l):\n",
        "        x = np.array([arrays[j][i] for j in range(number_arrays)])\n",
        "        median.append(np.median(x))\n",
        "    return median\n",
        "\n",
        "def absolute_maker(arrays):\n",
        "    number_arrays = len(arrays)\n",
        "    l = len(arrays[0])\n",
        "    maximum = []\n",
        "    minimum = []\n",
        "    for i in range(l):\n",
        "        x = np.array([arrays[j][i] for j in range(number_arrays)])\n",
        "        maximum.append(np.max(x))\n",
        "        minimum.append(np.min(x))\n",
        "    return {'up':np.array(maximum),'low':np.array(minimum)}\n",
        "\n",
        "from scipy.stats import trim_mean\n",
        "def truncated_mean_maker(arrays, quantile=0.1):\n",
        "    number_arrays = len(arrays)\n",
        "    l = len(arrays[0])\n",
        "    trunc_mean = []\n",
        "    for i in range(l):\n",
        "        x = np.array([arrays[j][i] for j in range(number_arrays)])\n",
        "        trunc_mean.append(trim_mean(x, quantile))\n",
        "    return np.array(trunc_mean)"
      ],
      "metadata": {
        "id": "qQ4OwVwOtph5"
      },
      "execution_count": 38,
      "outputs": []
    },
    {
      "cell_type": "code",
      "source": [
        "def conf_int_maker(model = model,\n",
        "                   train_ts = ts,\n",
        "                   number_models = 10, \n",
        "                   pipelines_show= False):\n",
        "    \"\"\"\n",
        "    model - a fedot model of interest\n",
        "    train_ts - the ts used for training the model\n",
        "    ts_test - the testing series; used for plotting and visualization of the results\n",
        "    number_models - number of models used to create the confidence intervals\n",
        "    regim - type of getting lower and upper confidence intervals from the upper and lower arrays; \n",
        "            default is 'quantile' also avaliable 'average' and 'median', 'absolute_bounds', 'truncated_mean'\n",
        "    plot - boolean parameter indicating wheter to show plot of the forecast and confidence intervals\n",
        "    plot_history - boolean parameter indicating whether to show previous series\n",
        "    \"\"\"\n",
        "    \n",
        "    horizon = model.params.task.task_params.forecast_length\n",
        "    train_data = model.train_data\n",
        "    test_data = model.test_data\n",
        "    forecast = model.predict(test_data)\n",
        "\n",
        "    #4 lines below allow us take the best models\n",
        "    fits = []\n",
        "    for ind in model.history.individuals[-2]:\n",
        "         fits.append(ind.fitness.value)\n",
        "    fits = np.sort(np.array(fits))\n",
        "    #create up and low predictions\n",
        "    up_predictions = []\n",
        "    low_predictions = []\n",
        "    \n",
        "    s=1\n",
        "    for ind in model.history.individuals[-2]: #[-1]:\n",
        "        if ind.fitness.value<=fits[number_models]:\n",
        "            pipeline = PipelineAdapter().restore(ind.graph)\n",
        "            print(f'Fitting pipeline №{s}')\n",
        "            s+=1\n",
        "            if pipelines_show:\n",
        "                pipeline.show()\n",
        "            \n",
        "            \n",
        "            #tuning upper confidence interval\n",
        "            tuned_pipeline = up_tuner.tune(pipeline)\n",
        "            tuned_pipeline.fit(train_data)\n",
        "            preds = tuned_pipeline.predict(test_data).predict.ravel()\n",
        "            up_predictions.append(preds)\n",
        "            del tuned_pipeline\n",
        "            \n",
        "            #tuning lower confidence interval\n",
        "            tuned_pipeline = low_tuner.tune(pipeline)\n",
        "            tuned_pipeline.fit(train_data)\n",
        "            preds = tuned_pipeline.predict(test_data).predict.ravel()\n",
        "            low_predictions.append(preds)\n",
        "            del tuned_pipeline\n",
        "    return {'up_predictions':up_predictions, 'low_predictions':low_predictions}"
      ],
      "metadata": {
        "id": "kG1n1Q7Wt1DF"
      },
      "execution_count": 39,
      "outputs": []
    },
    {
      "cell_type": "code",
      "source": [
        "def conf_int_plotting(up_predictions,\n",
        "                      low_predictions,\n",
        "                      horizon=horizon,\n",
        "                      forecast=forecast,\n",
        "                      ts=ts,\n",
        "                      ts_test=ts_test,\n",
        "                      trend_test=trend_test,\n",
        "                      regim = 'quantile',\n",
        "                      plot_history = True,\n",
        "                      plot_up_int = True,\n",
        "                      plot_low_int = True,\n",
        "                      plot_trend = True,\n",
        "                      plot_forecast = True,\n",
        "                      plot_upper_train = True,\n",
        "                      plot_lower_train = True,\n",
        "                      plot_ts_test = True):\n",
        "    if regim == 'quantile':\n",
        "        up_res= quantile_maker(quantile = 0.1, arrays = up_predictions)['up']\n",
        "        low_res= quantile_maker(quantile = 0.1, arrays = low_predictions)['low']\n",
        "    if regim == 'mean':\n",
        "        up_res = mean_maker(arrays = up_predictions)\n",
        "        low_res = mean_maker(arrays = low_predictions)\n",
        "    if regim == 'median':\n",
        "        up_res = median_maker(arrays = up_predictions)\n",
        "        low_res = median_maker(arrays = low_predictions)\n",
        "    if regim == 'absolute_bounds':\n",
        "        up_res = absolute_maker(arrays = up_predictions)['up']\n",
        "        low_res = absolute_maker(arrays = low_predictions)['low']\n",
        "    if regim == 'truncated_mean':\n",
        "        up_res = truncated_mean_maker(arrays = up_predictions)\n",
        "        low_res = truncated_mean_maker(arrays = low_predictions)\n",
        "    \n",
        "    up = np.maximum(up_res,forecast)  \n",
        "    low = np.minimum(low_res,forecast)\n",
        "\n",
        "    r = range(1,horizon+1)\n",
        "    fig,ax = plt.subplots()\n",
        "    fig.set(figwidth = 15,figheight = 7)\n",
        "    for i in range(len(up_predictions)):\n",
        "        if i==0:\n",
        "            if plot_upper_train:\n",
        "                ax.plot(r,up_predictions[i], color = 'yellow',label = 'preds for up train')\n",
        "            if plot_lower_train:\n",
        "                ax.plot(r,low_predictions[i], color = 'pink',label = 'preds for low train')\n",
        "        else:\n",
        "            if plot_upper_train:\n",
        "                ax.plot(r,up_predictions[i], color = 'yellow')\n",
        "            if plot_lower_train:\n",
        "                ax.plot(r,low_predictions[i], color = 'pink')    \n",
        "    if plot_up_int:\n",
        "        ax.plot(r,up, color = 'blue', label  = 'Up',marker= '.')\n",
        "    if plot_low_int:\n",
        "        ax.plot(r,low, color = 'green', label  = 'Low',marker = '.')\n",
        "    if plot_forecast:\n",
        "        ax.plot(r,forecast, color = 'red', label = 'Forecast')\n",
        "    if ts_test is not None:\n",
        "        if plot_ts_test:\n",
        "            ax.plot(r,ts_test,color = 'black', label = 'Actual TS')\n",
        "    if trend_test is not None:\n",
        "        if plot_trend:\n",
        "            ax.plot(r, trend_test, color = 'magenta', label = 'True Trend')\n",
        "    plt.legend()\n",
        "    if plot_history:\n",
        "        fig1,ax1 = plt.subplots()\n",
        "        \n",
        "        fig1.set(figwidth = 15,figheight = 7)\n",
        "       \n",
        "        train_range = range(len(ts))\n",
        "        test_range = range(len(ts),len(ts)+horizon)\n",
        "        \n",
        "        ax1.plot(train_range,ts, color = 'gray',label = 'Train ts')\n",
        "        ax1.plot(test_range, up,color = 'blue', label = 'Up')\n",
        "        ax1.plot(test_range, low,color = 'green', label = 'Low')\n",
        "        ax1.plot(test_range,forecast, color = 'red', label = 'Forecast')\n",
        "        if ts_test is not None:\n",
        "            ax1.plot(test_range, ts_test,color = 'black', label = 'Actual TS')  \n",
        "        if trend_test is not None:\n",
        "            ax1.plot(test_range, trend_test, color = 'magenta', label = 'True Trend')\n",
        "        plt.legend();"
      ],
      "metadata": {
        "id": "SvUS1eNu5yK3"
      },
      "execution_count": 40,
      "outputs": []
    },
    {
      "cell_type": "code",
      "source": [
        "x = conf_int_maker(model = model, number_models =5,pipelines_show = True)"
      ],
      "metadata": {
        "colab": {
          "base_uri": "https://localhost:8080/",
          "height": 1000
        },
        "id": "VZrcnhUHlc8G",
        "outputId": "4c2b7cd6-f9c8-4dd2-9129-fce28dccf142"
      },
      "execution_count": 41,
      "outputs": [
        {
          "output_type": "stream",
          "name": "stdout",
          "text": [
            "Fitting pipeline №1\n"
          ]
        },
        {
          "output_type": "display_data",
          "data": {
            "text/plain": [
              "<Figure size 700x700 with 1 Axes>"
            ],
            "image/png": "[encoded data removed]"
          },
          "metadata": {}
        },
        {
          "output_type": "stream",
          "name": "stderr",
          "text": [
            "INFO:root:PipelineTuner - Hyperparameters optimization start\n"
          ]
        },
        {
          "output_type": "stream",
          "name": "stdout",
          "text": [
            "2022-12-01 16:42:50,735 - PipelineTuner - Hyperparameters optimization start\n"
          ]
        },
        {
          "output_type": "stream",
          "name": "stderr",
          "text": [
            "CRITICAL:root:PipelineTuner - Initial pipeline: {'depth': 3, 'length': 4, 'nodes': [ridge, glm, ridge, lagged]}\n",
            "ridge - {}\n",
            "glm - {'family': 'gaussian', 'link': 'identity'}\n",
            "ridge - {}\n",
            "lagged - {'window_size': 10.06818054905099} \n",
            "Initial metric: 1.350\n"
          ]
        },
        {
          "output_type": "stream",
          "name": "stdout",
          "text": [
            "2022-12-01 16:42:51,244 - PipelineTuner - Initial pipeline: {'depth': 3, 'length': 4, 'nodes': [ridge, glm, ridge, lagged]}\n",
            "ridge - {}\n",
            "glm - {'family': 'gaussian', 'link': 'identity'}\n",
            "ridge - {}\n",
            "lagged - {'window_size': 10.06818054905099} \n",
            "Initial metric: 1.350\n",
            "  0%|          | 0/1 [00:00<?, ?trial/s, best loss=?]"
          ]
        },
        {
          "output_type": "stream",
          "name": "stderr",
          "text": [
            "INFO:hyperopt.tpe:build_posterior_wrapper took 0.009689 seconds\n"
          ]
        },
        {
          "output_type": "stream",
          "name": "stdout",
          "text": [
            "2022-12-01 16:42:51,285 - build_posterior_wrapper took 0.009689 seconds\n"
          ]
        },
        {
          "output_type": "stream",
          "name": "stderr",
          "text": [
            "INFO:hyperopt.tpe:TPE using 0 trials\n"
          ]
        },
        {
          "output_type": "stream",
          "name": "stdout",
          "text": [
            "2022-12-01 16:42:51,295 - TPE using 0 trials\n",
            "100%|██████████| 1/1 [00:00<00:00,  1.79trial/s, best loss: 0.9094130693288512]\n",
            " 10%|█         | 1/10 [00:00<?, ?trial/s, best loss=?]"
          ]
        },
        {
          "output_type": "stream",
          "name": "stderr",
          "text": [
            "INFO:hyperopt.tpe:build_posterior_wrapper took 0.008994 seconds\n"
          ]
        },
        {
          "output_type": "stream",
          "name": "stdout",
          "text": [
            "2022-12-01 16:42:51,867 - build_posterior_wrapper took 0.008994 seconds\n"
          ]
        },
        {
          "output_type": "stream",
          "name": "stderr",
          "text": [
            "INFO:hyperopt.tpe:TPE using 1/1 trials with best loss 0.909413\n"
          ]
        },
        {
          "output_type": "stream",
          "name": "stdout",
          "text": [
            "2022-12-01 16:42:51,876 - TPE using 1/1 trials with best loss 0.909413\n",
            " 20%|██        | 2/10 [00:00<00:05,  1.51trial/s, best loss: 0.9094130693288512]"
          ]
        },
        {
          "output_type": "stream",
          "name": "stderr",
          "text": [
            "INFO:hyperopt.tpe:build_posterior_wrapper took 0.010248 seconds\n"
          ]
        },
        {
          "output_type": "stream",
          "name": "stdout",
          "text": [
            "2022-12-01 16:42:52,536 - build_posterior_wrapper took 0.010248 seconds\n"
          ]
        },
        {
          "output_type": "stream",
          "name": "stderr",
          "text": [
            "INFO:hyperopt.tpe:TPE using 2/2 trials with best loss 0.909413\n"
          ]
        },
        {
          "output_type": "stream",
          "name": "stdout",
          "text": [
            "2022-12-01 16:42:52,547 - TPE using 2/2 trials with best loss 0.909413\n",
            " 30%|███       | 3/10 [00:02<00:09,  1.32s/trial, best loss: 0.9094130693288512]"
          ]
        },
        {
          "output_type": "stream",
          "name": "stderr",
          "text": [
            "INFO:hyperopt.tpe:build_posterior_wrapper took 0.006757 seconds\n"
          ]
        },
        {
          "output_type": "stream",
          "name": "stdout",
          "text": [
            "2022-12-01 16:42:54,317 - build_posterior_wrapper took 0.006757 seconds\n"
          ]
        },
        {
          "output_type": "stream",
          "name": "stderr",
          "text": [
            "INFO:hyperopt.tpe:TPE using 3/3 trials with best loss 0.909413\n"
          ]
        },
        {
          "output_type": "stream",
          "name": "stdout",
          "text": [
            "2022-12-01 16:42:54,327 - TPE using 3/3 trials with best loss 0.909413\n",
            " 40%|████      | 4/10 [00:03<00:07,  1.23s/trial, best loss: 0.9094130693288512]"
          ]
        },
        {
          "output_type": "stream",
          "name": "stderr",
          "text": [
            "INFO:hyperopt.tpe:build_posterior_wrapper took 0.006178 seconds\n"
          ]
        },
        {
          "output_type": "stream",
          "name": "stdout",
          "text": [
            "2022-12-01 16:42:55,437 - build_posterior_wrapper took 0.006178 seconds\n"
          ]
        },
        {
          "output_type": "stream",
          "name": "stderr",
          "text": [
            "INFO:hyperopt.tpe:TPE using 4/4 trials with best loss 0.909413\n"
          ]
        },
        {
          "output_type": "stream",
          "name": "stdout",
          "text": [
            "2022-12-01 16:42:55,442 - TPE using 4/4 trials with best loss 0.909413\n",
            " 50%|█████     | 5/10 [00:04<00:05,  1.13s/trial, best loss: 0.9094130693288512]"
          ]
        },
        {
          "output_type": "stream",
          "name": "stderr",
          "text": [
            "INFO:hyperopt.tpe:build_posterior_wrapper took 0.007023 seconds\n"
          ]
        },
        {
          "output_type": "stream",
          "name": "stdout",
          "text": [
            "2022-12-01 16:42:56,424 - build_posterior_wrapper took 0.007023 seconds\n"
          ]
        },
        {
          "output_type": "stream",
          "name": "stderr",
          "text": [
            "INFO:hyperopt.tpe:TPE using 5/5 trials with best loss 0.909413\n"
          ]
        },
        {
          "output_type": "stream",
          "name": "stdout",
          "text": [
            "2022-12-01 16:42:56,430 - TPE using 5/5 trials with best loss 0.909413\n",
            " 60%|██████    | 6/10 [00:05<00:04,  1.11s/trial, best loss: 0.9094130693288512]"
          ]
        },
        {
          "output_type": "stream",
          "name": "stderr",
          "text": [
            "INFO:hyperopt.tpe:build_posterior_wrapper took 0.004464 seconds\n"
          ]
        },
        {
          "output_type": "stream",
          "name": "stdout",
          "text": [
            "2022-12-01 16:42:57,491 - build_posterior_wrapper took 0.004464 seconds\n"
          ]
        },
        {
          "output_type": "stream",
          "name": "stderr",
          "text": [
            "INFO:hyperopt.tpe:TPE using 6/6 trials with best loss 0.909413\n"
          ]
        },
        {
          "output_type": "stream",
          "name": "stdout",
          "text": [
            "2022-12-01 16:42:57,505 - TPE using 6/6 trials with best loss 0.909413\n",
            " 70%|███████   | 7/10 [00:07<00:04,  1.47s/trial, best loss: 0.9094130693288512]"
          ]
        },
        {
          "output_type": "stream",
          "name": "stderr",
          "text": [
            "INFO:hyperopt.tpe:build_posterior_wrapper took 0.012319 seconds\n"
          ]
        },
        {
          "output_type": "stream",
          "name": "stdout",
          "text": [
            "2022-12-01 16:42:59,675 - build_posterior_wrapper took 0.012319 seconds\n"
          ]
        },
        {
          "output_type": "stream",
          "name": "stderr",
          "text": [
            "INFO:hyperopt.tpe:TPE using 7/7 trials with best loss 0.909413\n"
          ]
        },
        {
          "output_type": "stream",
          "name": "stdout",
          "text": [
            "2022-12-01 16:42:59,691 - TPE using 7/7 trials with best loss 0.909413\n",
            " 80%|████████  | 8/10 [00:08<00:02,  1.38s/trial, best loss: 0.9094130693288512]"
          ]
        },
        {
          "output_type": "stream",
          "name": "stderr",
          "text": [
            "INFO:hyperopt.tpe:build_posterior_wrapper took 0.007578 seconds\n"
          ]
        },
        {
          "output_type": "stream",
          "name": "stdout",
          "text": [
            "2022-12-01 16:43:00,861 - build_posterior_wrapper took 0.007578 seconds\n"
          ]
        },
        {
          "output_type": "stream",
          "name": "stderr",
          "text": [
            "INFO:hyperopt.tpe:TPE using 8/8 trials with best loss 0.909413\n"
          ]
        },
        {
          "output_type": "stream",
          "name": "stdout",
          "text": [
            "2022-12-01 16:43:00,869 - TPE using 8/8 trials with best loss 0.909413\n",
            " 90%|█████████ | 9/10 [00:09<00:01,  1.14s/trial, best loss: 0.9094130693288512]"
          ]
        },
        {
          "output_type": "stream",
          "name": "stderr",
          "text": [
            "INFO:hyperopt.tpe:build_posterior_wrapper took 0.005619 seconds\n"
          ]
        },
        {
          "output_type": "stream",
          "name": "stdout",
          "text": [
            "2022-12-01 16:43:01,469 - build_posterior_wrapper took 0.005619 seconds\n"
          ]
        },
        {
          "output_type": "stream",
          "name": "stderr",
          "text": [
            "INFO:hyperopt.tpe:TPE using 9/9 trials with best loss 0.909413\n"
          ]
        },
        {
          "output_type": "stream",
          "name": "stdout",
          "text": [
            "2022-12-01 16:43:01,476 - TPE using 9/9 trials with best loss 0.909413\n",
            "100%|██████████| 10/10 [00:10<00:00,  1.15s/trial, best loss: 0.9094130693288512]\n"
          ]
        },
        {
          "output_type": "stream",
          "name": "stderr",
          "text": [
            "INFO:root:PipelineTuner - Hyperparameters optimization finished\n"
          ]
        },
        {
          "output_type": "stream",
          "name": "stdout",
          "text": [
            "2022-12-01 16:43:02,799 - PipelineTuner - Hyperparameters optimization finished\n"
          ]
        },
        {
          "output_type": "stream",
          "name": "stderr",
          "text": [
            "INFO:root:PipelineTuner - Return tuned pipeline due to the fact that obtained metric 0.909 equal or better than initial (+ 5% deviation) 1.418\n"
          ]
        },
        {
          "output_type": "stream",
          "name": "stdout",
          "text": [
            "2022-12-01 16:43:02,809 - PipelineTuner - Return tuned pipeline due to the fact that obtained metric 0.909 equal or better than initial (+ 5% deviation) 1.418\n"
          ]
        },
        {
          "output_type": "stream",
          "name": "stderr",
          "text": [
            "CRITICAL:root:PipelineTuner - Final pipeline: {'depth': 3, 'length': 4, 'nodes': [ridge, glm, ridge, lagged]}\n",
            "ridge - {'alpha': 3.358459183471424}\n",
            "glm - {'family': 'gamma', 'link': 'inverse_power'}\n",
            "ridge - {'alpha': 4.037366848844316}\n",
            "lagged - {'window_size': 10.06818054905099}\n"
          ]
        },
        {
          "output_type": "stream",
          "name": "stdout",
          "text": [
            "2022-12-01 16:43:02,814 - PipelineTuner - Final pipeline: {'depth': 3, 'length': 4, 'nodes': [ridge, glm, ridge, lagged]}\n",
            "ridge - {'alpha': 3.358459183471424}\n",
            "glm - {'family': 'gamma', 'link': 'inverse_power'}\n",
            "ridge - {'alpha': 4.037366848844316}\n",
            "lagged - {'window_size': 10.06818054905099}\n"
          ]
        },
        {
          "output_type": "stream",
          "name": "stderr",
          "text": [
            "CRITICAL:root:PipelineTuner - Final metric: 0.909\n"
          ]
        },
        {
          "output_type": "stream",
          "name": "stdout",
          "text": [
            "2022-12-01 16:43:02,821 - PipelineTuner - Final metric: 0.909\n"
          ]
        },
        {
          "output_type": "stream",
          "name": "stderr",
          "text": [
            "INFO:root:PipelineTuner - Hyperparameters optimization start\n"
          ]
        },
        {
          "output_type": "stream",
          "name": "stdout",
          "text": [
            "2022-12-01 16:43:03,450 - PipelineTuner - Hyperparameters optimization start\n"
          ]
        },
        {
          "output_type": "stream",
          "name": "stderr",
          "text": [
            "CRITICAL:root:PipelineTuner - Initial pipeline: {'depth': 3, 'length': 4, 'nodes': [ridge, glm, ridge, lagged]}\n",
            "ridge - {'alpha': 3.358459183471424}\n",
            "glm - {'family': 'gamma', 'link': 'inverse_power'}\n",
            "ridge - {'alpha': 4.037366848844316}\n",
            "lagged - {'window_size': 10.06818054905099} \n",
            "Initial metric: 7.687\n"
          ]
        },
        {
          "output_type": "stream",
          "name": "stdout",
          "text": [
            "2022-12-01 16:43:04,016 - PipelineTuner - Initial pipeline: {'depth': 3, 'length': 4, 'nodes': [ridge, glm, ridge, lagged]}\n",
            "ridge - {'alpha': 3.358459183471424}\n",
            "glm - {'family': 'gamma', 'link': 'inverse_power'}\n",
            "ridge - {'alpha': 4.037366848844316}\n",
            "lagged - {'window_size': 10.06818054905099} \n",
            "Initial metric: 7.687\n",
            "  0%|          | 0/1 [00:00<?, ?trial/s, best loss=?]"
          ]
        },
        {
          "output_type": "stream",
          "name": "stderr",
          "text": [
            "INFO:hyperopt.tpe:build_posterior_wrapper took 0.006532 seconds\n"
          ]
        },
        {
          "output_type": "stream",
          "name": "stdout",
          "text": [
            "2022-12-01 16:43:04,057 - build_posterior_wrapper took 0.006532 seconds\n"
          ]
        },
        {
          "output_type": "stream",
          "name": "stderr",
          "text": [
            "INFO:hyperopt.tpe:TPE using 0 trials\n"
          ]
        },
        {
          "output_type": "stream",
          "name": "stdout",
          "text": [
            "2022-12-01 16:43:04,065 - TPE using 0 trials\n",
            "100%|██████████| 1/1 [00:00<00:00,  1.77trial/s, best loss: 7.605474411563615]\n",
            " 10%|█         | 1/10 [00:00<?, ?trial/s, best loss=?]"
          ]
        },
        {
          "output_type": "stream",
          "name": "stderr",
          "text": [
            "INFO:hyperopt.tpe:build_posterior_wrapper took 0.004716 seconds\n"
          ]
        },
        {
          "output_type": "stream",
          "name": "stdout",
          "text": [
            "2022-12-01 16:43:04,643 - build_posterior_wrapper took 0.004716 seconds\n"
          ]
        },
        {
          "output_type": "stream",
          "name": "stderr",
          "text": [
            "INFO:hyperopt.tpe:TPE using 1/1 trials with best loss 7.605474\n"
          ]
        },
        {
          "output_type": "stream",
          "name": "stdout",
          "text": [
            "2022-12-01 16:43:04,659 - TPE using 1/1 trials with best loss 7.605474\n",
            " 20%|██        | 2/10 [00:01<00:09,  1.24s/trial, best loss: 7.605474411563615]"
          ]
        },
        {
          "output_type": "stream",
          "name": "stderr",
          "text": [
            "INFO:hyperopt.tpe:build_posterior_wrapper took 0.004585 seconds\n"
          ]
        },
        {
          "output_type": "stream",
          "name": "stdout",
          "text": [
            "2022-12-01 16:43:05,883 - build_posterior_wrapper took 0.004585 seconds\n"
          ]
        },
        {
          "output_type": "stream",
          "name": "stderr",
          "text": [
            "INFO:hyperopt.tpe:TPE using 2/2 trials with best loss 7.605474\n"
          ]
        },
        {
          "output_type": "stream",
          "name": "stdout",
          "text": [
            "2022-12-01 16:43:05,904 - TPE using 2/2 trials with best loss 7.605474\n",
            " 30%|███       | 3/10 [00:01<00:06,  1.15trial/s, best loss: 7.605474411563615]"
          ]
        },
        {
          "output_type": "stream",
          "name": "stderr",
          "text": [
            "INFO:hyperopt.tpe:build_posterior_wrapper took 0.004441 seconds\n"
          ]
        },
        {
          "output_type": "stream",
          "name": "stdout",
          "text": [
            "2022-12-01 16:43:06,499 - build_posterior_wrapper took 0.004441 seconds\n"
          ]
        },
        {
          "output_type": "stream",
          "name": "stderr",
          "text": [
            "INFO:hyperopt.tpe:TPE using 3/3 trials with best loss 7.605474\n"
          ]
        },
        {
          "output_type": "stream",
          "name": "stdout",
          "text": [
            "2022-12-01 16:43:06,518 - TPE using 3/3 trials with best loss 7.605474\n",
            " 40%|████      | 4/10 [00:02<00:05,  1.10trial/s, best loss: 7.605474411563615]"
          ]
        },
        {
          "output_type": "stream",
          "name": "stderr",
          "text": [
            "INFO:hyperopt.tpe:build_posterior_wrapper took 0.006713 seconds\n"
          ]
        },
        {
          "output_type": "stream",
          "name": "stdout",
          "text": [
            "2022-12-01 16:43:07,459 - build_posterior_wrapper took 0.006713 seconds\n"
          ]
        },
        {
          "output_type": "stream",
          "name": "stderr",
          "text": [
            "INFO:hyperopt.tpe:TPE using 4/4 trials with best loss 7.605474\n"
          ]
        },
        {
          "output_type": "stream",
          "name": "stdout",
          "text": [
            "2022-12-01 16:43:07,465 - TPE using 4/4 trials with best loss 7.605474\n",
            " 50%|█████     | 5/10 [00:03<00:03,  1.27trial/s, best loss: 7.605474411563615]"
          ]
        },
        {
          "output_type": "stream",
          "name": "stderr",
          "text": [
            "INFO:hyperopt.tpe:build_posterior_wrapper took 0.005152 seconds\n"
          ]
        },
        {
          "output_type": "stream",
          "name": "stdout",
          "text": [
            "2022-12-01 16:43:08,050 - build_posterior_wrapper took 0.005152 seconds\n"
          ]
        },
        {
          "output_type": "stream",
          "name": "stderr",
          "text": [
            "INFO:hyperopt.tpe:TPE using 5/5 trials with best loss 7.605474\n"
          ]
        },
        {
          "output_type": "stream",
          "name": "stdout",
          "text": [
            "2022-12-01 16:43:08,056 - TPE using 5/5 trials with best loss 7.605474\n",
            " 60%|██████    | 6/10 [00:03<00:02,  1.42trial/s, best loss: 7.605474411563615]"
          ]
        },
        {
          "output_type": "stream",
          "name": "stderr",
          "text": [
            "INFO:hyperopt.tpe:build_posterior_wrapper took 0.004401 seconds\n"
          ]
        },
        {
          "output_type": "stream",
          "name": "stdout",
          "text": [
            "2022-12-01 16:43:08,619 - build_posterior_wrapper took 0.004401 seconds\n"
          ]
        },
        {
          "output_type": "stream",
          "name": "stderr",
          "text": [
            "INFO:hyperopt.tpe:TPE using 6/6 trials with best loss 7.605474\n"
          ]
        },
        {
          "output_type": "stream",
          "name": "stdout",
          "text": [
            "2022-12-01 16:43:08,634 - TPE using 6/6 trials with best loss 7.605474\n",
            " 70%|███████   | 7/10 [00:05<00:02,  1.01trial/s, best loss: 7.605474411563615]"
          ]
        },
        {
          "output_type": "stream",
          "name": "stderr",
          "text": [
            "INFO:hyperopt.tpe:build_posterior_wrapper took 0.010149 seconds\n"
          ]
        },
        {
          "output_type": "stream",
          "name": "stdout",
          "text": [
            "2022-12-01 16:43:10,168 - build_posterior_wrapper took 0.010149 seconds\n"
          ]
        },
        {
          "output_type": "stream",
          "name": "stderr",
          "text": [
            "INFO:hyperopt.tpe:TPE using 7/7 trials with best loss 7.605474\n"
          ]
        },
        {
          "output_type": "stream",
          "name": "stdout",
          "text": [
            "2022-12-01 16:43:10,181 - TPE using 7/7 trials with best loss 7.605474\n",
            " 80%|████████  | 8/10 [00:06<00:01,  1.12trial/s, best loss: 7.605474411563615]"
          ]
        },
        {
          "output_type": "stream",
          "name": "stderr",
          "text": [
            "INFO:hyperopt.tpe:build_posterior_wrapper took 0.005364 seconds\n"
          ]
        },
        {
          "output_type": "stream",
          "name": "stdout",
          "text": [
            "2022-12-01 16:43:10,867 - build_posterior_wrapper took 0.005364 seconds\n"
          ]
        },
        {
          "output_type": "stream",
          "name": "stderr",
          "text": [
            "INFO:hyperopt.tpe:TPE using 8/8 trials with best loss 7.605474\n"
          ]
        },
        {
          "output_type": "stream",
          "name": "stdout",
          "text": [
            "2022-12-01 16:43:10,871 - TPE using 8/8 trials with best loss 7.605474\n",
            " 90%|█████████ | 9/10 [00:07<00:00,  1.11trial/s, best loss: 7.605474411563615]"
          ]
        },
        {
          "output_type": "stream",
          "name": "stderr",
          "text": [
            "INFO:hyperopt.tpe:build_posterior_wrapper took 0.006747 seconds\n"
          ]
        },
        {
          "output_type": "stream",
          "name": "stdout",
          "text": [
            "2022-12-01 16:43:11,773 - build_posterior_wrapper took 0.006747 seconds\n"
          ]
        },
        {
          "output_type": "stream",
          "name": "stderr",
          "text": [
            "INFO:hyperopt.tpe:TPE using 9/9 trials with best loss 7.605474\n"
          ]
        },
        {
          "output_type": "stream",
          "name": "stdout",
          "text": [
            "2022-12-01 16:43:11,785 - TPE using 9/9 trials with best loss 7.605474\n",
            "100%|██████████| 10/10 [00:07<00:00,  1.15trial/s, best loss: 7.605474411563615]\n"
          ]
        },
        {
          "output_type": "stream",
          "name": "stderr",
          "text": [
            "INFO:root:PipelineTuner - Hyperparameters optimization finished\n"
          ]
        },
        {
          "output_type": "stream",
          "name": "stdout",
          "text": [
            "2022-12-01 16:43:13,023 - PipelineTuner - Hyperparameters optimization finished\n"
          ]
        },
        {
          "output_type": "stream",
          "name": "stderr",
          "text": [
            "INFO:root:PipelineTuner - Return tuned pipeline due to the fact that obtained metric 7.605 equal or better than initial (+ 5% deviation) 8.071\n"
          ]
        },
        {
          "output_type": "stream",
          "name": "stdout",
          "text": [
            "2022-12-01 16:43:13,030 - PipelineTuner - Return tuned pipeline due to the fact that obtained metric 7.605 equal or better than initial (+ 5% deviation) 8.071\n"
          ]
        },
        {
          "output_type": "stream",
          "name": "stderr",
          "text": [
            "CRITICAL:root:PipelineTuner - Final pipeline: {'depth': 3, 'length': 4, 'nodes': [ridge, glm, ridge, lagged]}\n",
            "ridge - {'alpha': 3.358459183471424}\n",
            "glm - {'family': 'inverse_gaussian', 'link': 'inverse_power'}\n",
            "ridge - {'alpha': 4.037366848844316}\n",
            "lagged - {'window_size': 10.06818054905099}\n"
          ]
        },
        {
          "output_type": "stream",
          "name": "stdout",
          "text": [
            "2022-12-01 16:43:13,037 - PipelineTuner - Final pipeline: {'depth': 3, 'length': 4, 'nodes': [ridge, glm, ridge, lagged]}\n",
            "ridge - {'alpha': 3.358459183471424}\n",
            "glm - {'family': 'inverse_gaussian', 'link': 'inverse_power'}\n",
            "ridge - {'alpha': 4.037366848844316}\n",
            "lagged - {'window_size': 10.06818054905099}\n"
          ]
        },
        {
          "output_type": "stream",
          "name": "stderr",
          "text": [
            "CRITICAL:root:PipelineTuner - Final metric: 7.605\n"
          ]
        },
        {
          "output_type": "stream",
          "name": "stdout",
          "text": [
            "2022-12-01 16:43:13,043 - PipelineTuner - Final metric: 7.605\n",
            "Fitting pipeline №2\n"
          ]
        },
        {
          "output_type": "display_data",
          "data": {
            "text/plain": [
              "<Figure size 700x700 with 1 Axes>"
            ],
            "image/png": "[encoded data removed]"
          },
          "metadata": {}
        },
        {
          "output_type": "stream",
          "name": "stderr",
          "text": [
            "INFO:root:PipelineTuner - Hyperparameters optimization start\n"
          ]
        },
        {
          "output_type": "stream",
          "name": "stdout",
          "text": [
            "2022-12-01 16:43:14,056 - PipelineTuner - Hyperparameters optimization start\n"
          ]
        },
        {
          "output_type": "stream",
          "name": "stderr",
          "text": [
            "CRITICAL:root:PipelineTuner - Initial pipeline: {'depth': 3, 'length': 4, 'nodes': [ridge, glm, ridge, lagged]}\n",
            "ridge - {'alpha': 0.5776784207053743}\n",
            "glm - {'family': 'gaussian', 'link': 'identity'}\n",
            "ridge - {}\n",
            "lagged - {'window_size': 10} \n",
            "Initial metric: 1.350\n"
          ]
        },
        {
          "output_type": "stream",
          "name": "stdout",
          "text": [
            "2022-12-01 16:43:14,580 - PipelineTuner - Initial pipeline: {'depth': 3, 'length': 4, 'nodes': [ridge, glm, ridge, lagged]}\n",
            "ridge - {'alpha': 0.5776784207053743}\n",
            "glm - {'family': 'gaussian', 'link': 'identity'}\n",
            "ridge - {}\n",
            "lagged - {'window_size': 10} \n",
            "Initial metric: 1.350\n",
            "  0%|          | 0/1 [00:00<?, ?trial/s, best loss=?]"
          ]
        },
        {
          "output_type": "stream",
          "name": "stderr",
          "text": [
            "INFO:hyperopt.tpe:build_posterior_wrapper took 0.004434 seconds\n"
          ]
        },
        {
          "output_type": "stream",
          "name": "stdout",
          "text": [
            "2022-12-01 16:43:14,613 - build_posterior_wrapper took 0.004434 seconds\n"
          ]
        },
        {
          "output_type": "stream",
          "name": "stderr",
          "text": [
            "INFO:hyperopt.tpe:TPE using 0 trials\n"
          ]
        },
        {
          "output_type": "stream",
          "name": "stdout",
          "text": [
            "2022-12-01 16:43:14,629 - TPE using 0 trials\n",
            "100%|██████████| 1/1 [00:00<00:00,  1.61trial/s, best loss: 0.902865703412001]\n",
            " 10%|█         | 1/10 [00:00<?, ?trial/s, best loss=?]"
          ]
        },
        {
          "output_type": "stream",
          "name": "stderr",
          "text": [
            "INFO:hyperopt.tpe:build_posterior_wrapper took 0.004369 seconds\n"
          ]
        },
        {
          "output_type": "stream",
          "name": "stdout",
          "text": [
            "2022-12-01 16:43:15,253 - build_posterior_wrapper took 0.004369 seconds\n"
          ]
        },
        {
          "output_type": "stream",
          "name": "stderr",
          "text": [
            "INFO:hyperopt.tpe:TPE using 1/1 trials with best loss 0.902866\n"
          ]
        },
        {
          "output_type": "stream",
          "name": "stdout",
          "text": [
            "2022-12-01 16:43:15,259 - TPE using 1/1 trials with best loss 0.902866\n",
            " 20%|██        | 2/10 [00:02<00:20,  2.58s/trial, best loss: 0.902865703412001]"
          ]
        },
        {
          "output_type": "stream",
          "name": "stderr",
          "text": [
            "INFO:hyperopt.tpe:build_posterior_wrapper took 0.004474 seconds\n"
          ]
        },
        {
          "output_type": "stream",
          "name": "stdout",
          "text": [
            "2022-12-01 16:43:17,836 - build_posterior_wrapper took 0.004474 seconds\n"
          ]
        },
        {
          "output_type": "stream",
          "name": "stderr",
          "text": [
            "INFO:hyperopt.tpe:TPE using 2/2 trials with best loss 0.902866\n"
          ]
        },
        {
          "output_type": "stream",
          "name": "stdout",
          "text": [
            "2022-12-01 16:43:17,842 - TPE using 2/2 trials with best loss 0.902866\n",
            " 30%|███       | 3/10 [00:03<00:10,  1.45s/trial, best loss: 0.902865703412001]"
          ]
        },
        {
          "output_type": "stream",
          "name": "stderr",
          "text": [
            "INFO:hyperopt.tpe:build_posterior_wrapper took 0.008801 seconds\n"
          ]
        },
        {
          "output_type": "stream",
          "name": "stdout",
          "text": [
            "2022-12-01 16:43:18,509 - build_posterior_wrapper took 0.008801 seconds\n"
          ]
        },
        {
          "output_type": "stream",
          "name": "stderr",
          "text": [
            "INFO:hyperopt.tpe:TPE using 3/3 trials with best loss 0.902866\n"
          ]
        },
        {
          "output_type": "stream",
          "name": "stdout",
          "text": [
            "2022-12-01 16:43:18,517 - TPE using 3/3 trials with best loss 0.902866\n",
            " 40%|████      | 4/10 [00:05<00:09,  1.65s/trial, best loss: 0.902865703412001]"
          ]
        },
        {
          "output_type": "stream",
          "name": "stderr",
          "text": [
            "INFO:hyperopt.tpe:build_posterior_wrapper took 0.009230 seconds\n"
          ]
        },
        {
          "output_type": "stream",
          "name": "stdout",
          "text": [
            "2022-12-01 16:43:20,402 - build_posterior_wrapper took 0.009230 seconds\n"
          ]
        },
        {
          "output_type": "stream",
          "name": "stderr",
          "text": [
            "INFO:hyperopt.tpe:TPE using 4/4 trials with best loss 0.902866\n"
          ]
        },
        {
          "output_type": "stream",
          "name": "stdout",
          "text": [
            "2022-12-01 16:43:20,409 - TPE using 4/4 trials with best loss 0.902866\n",
            " 50%|█████     | 5/10 [00:06<00:07,  1.42s/trial, best loss: 0.902865703412001]"
          ]
        },
        {
          "output_type": "stream",
          "name": "stderr",
          "text": [
            "INFO:hyperopt.tpe:build_posterior_wrapper took 0.009012 seconds\n"
          ]
        },
        {
          "output_type": "stream",
          "name": "stdout",
          "text": [
            "2022-12-01 16:43:21,467 - build_posterior_wrapper took 0.009012 seconds\n"
          ]
        },
        {
          "output_type": "stream",
          "name": "stderr",
          "text": [
            "INFO:hyperopt.tpe:TPE using 5/5 trials with best loss 0.902866\n"
          ]
        },
        {
          "output_type": "stream",
          "name": "stdout",
          "text": [
            "2022-12-01 16:43:21,475 - TPE using 5/5 trials with best loss 0.902866\n",
            " 60%|██████    | 6/10 [00:08<00:07,  1.76s/trial, best loss: 0.902865703412001]"
          ]
        },
        {
          "output_type": "stream",
          "name": "stderr",
          "text": [
            "INFO:hyperopt.tpe:build_posterior_wrapper took 0.010437 seconds\n"
          ]
        },
        {
          "output_type": "stream",
          "name": "stdout",
          "text": [
            "2022-12-01 16:43:23,820 - build_posterior_wrapper took 0.010437 seconds\n"
          ]
        },
        {
          "output_type": "stream",
          "name": "stderr",
          "text": [
            "INFO:hyperopt.tpe:TPE using 6/6 trials with best loss 0.902866\n"
          ]
        },
        {
          "output_type": "stream",
          "name": "stdout",
          "text": [
            "2022-12-01 16:43:23,825 - TPE using 6/6 trials with best loss 0.902866\n",
            " 70%|███████   | 7/10 [00:09<00:04,  1.62s/trial, best loss: 0.902865703412001]"
          ]
        },
        {
          "output_type": "stream",
          "name": "stderr",
          "text": [
            "INFO:hyperopt.tpe:build_posterior_wrapper took 0.009626 seconds\n"
          ]
        },
        {
          "output_type": "stream",
          "name": "stdout",
          "text": [
            "2022-12-01 16:43:25,167 - build_posterior_wrapper took 0.009626 seconds\n"
          ]
        },
        {
          "output_type": "stream",
          "name": "stderr",
          "text": [
            "INFO:hyperopt.tpe:TPE using 7/7 trials with best loss 0.902866\n"
          ]
        },
        {
          "output_type": "stream",
          "name": "stdout",
          "text": [
            "2022-12-01 16:43:25,187 - TPE using 7/7 trials with best loss 0.902866\n",
            " 80%|████████  | 8/10 [00:10<00:02,  1.37s/trial, best loss: 0.902865703412001]"
          ]
        },
        {
          "output_type": "stream",
          "name": "stderr",
          "text": [
            "INFO:hyperopt.tpe:build_posterior_wrapper took 0.004650 seconds\n"
          ]
        },
        {
          "output_type": "stream",
          "name": "stdout",
          "text": [
            "2022-12-01 16:43:26,005 - build_posterior_wrapper took 0.004650 seconds\n"
          ]
        },
        {
          "output_type": "stream",
          "name": "stderr",
          "text": [
            "INFO:hyperopt.tpe:TPE using 8/8 trials with best loss 0.902866\n"
          ]
        },
        {
          "output_type": "stream",
          "name": "stdout",
          "text": [
            "2022-12-01 16:43:26,011 - TPE using 8/8 trials with best loss 0.902866\n",
            " 90%|█████████ | 9/10 [00:11<00:01,  1.15s/trial, best loss: 0.902865703412001]"
          ]
        },
        {
          "output_type": "stream",
          "name": "stderr",
          "text": [
            "INFO:hyperopt.tpe:build_posterior_wrapper took 0.009745 seconds\n"
          ]
        },
        {
          "output_type": "stream",
          "name": "stdout",
          "text": [
            "2022-12-01 16:43:26,707 - build_posterior_wrapper took 0.009745 seconds\n"
          ]
        },
        {
          "output_type": "stream",
          "name": "stderr",
          "text": [
            "INFO:hyperopt.tpe:TPE using 9/9 trials with best loss 0.902866\n"
          ]
        },
        {
          "output_type": "stream",
          "name": "stdout",
          "text": [
            "2022-12-01 16:43:26,722 - TPE using 9/9 trials with best loss 0.902866\n",
            "100%|██████████| 10/10 [00:12<00:00,  1.36s/trial, best loss: 0.902865703412001]\n"
          ]
        },
        {
          "output_type": "stream",
          "name": "stderr",
          "text": [
            "INFO:root:PipelineTuner - Hyperparameters optimization finished\n"
          ]
        },
        {
          "output_type": "stream",
          "name": "stdout",
          "text": [
            "2022-12-01 16:43:28,048 - PipelineTuner - Hyperparameters optimization finished\n"
          ]
        },
        {
          "output_type": "stream",
          "name": "stderr",
          "text": [
            "INFO:root:PipelineTuner - Return tuned pipeline due to the fact that obtained metric 0.903 equal or better than initial (+ 5% deviation) 1.418\n"
          ]
        },
        {
          "output_type": "stream",
          "name": "stdout",
          "text": [
            "2022-12-01 16:43:28,062 - PipelineTuner - Return tuned pipeline due to the fact that obtained metric 0.903 equal or better than initial (+ 5% deviation) 1.418\n"
          ]
        },
        {
          "output_type": "stream",
          "name": "stderr",
          "text": [
            "CRITICAL:root:PipelineTuner - Final pipeline: {'depth': 3, 'length': 4, 'nodes': [ridge, glm, ridge, lagged]}\n",
            "ridge - {'alpha': 0.5776784207053743}\n",
            "glm - {'family': 'gaussian', 'link': 'inverse_power'}\n",
            "ridge - {'alpha': 5.362447898366953}\n",
            "lagged - {'window_size': 10}\n"
          ]
        },
        {
          "output_type": "stream",
          "name": "stdout",
          "text": [
            "2022-12-01 16:43:28,071 - PipelineTuner - Final pipeline: {'depth': 3, 'length': 4, 'nodes': [ridge, glm, ridge, lagged]}\n",
            "ridge - {'alpha': 0.5776784207053743}\n",
            "glm - {'family': 'gaussian', 'link': 'inverse_power'}\n",
            "ridge - {'alpha': 5.362447898366953}\n",
            "lagged - {'window_size': 10}\n"
          ]
        },
        {
          "output_type": "stream",
          "name": "stderr",
          "text": [
            "CRITICAL:root:PipelineTuner - Final metric: 0.903\n"
          ]
        },
        {
          "output_type": "stream",
          "name": "stdout",
          "text": [
            "2022-12-01 16:43:28,076 - PipelineTuner - Final metric: 0.903\n"
          ]
        },
        {
          "output_type": "stream",
          "name": "stderr",
          "text": [
            "INFO:root:PipelineTuner - Hyperparameters optimization start\n"
          ]
        },
        {
          "output_type": "stream",
          "name": "stdout",
          "text": [
            "2022-12-01 16:43:28,632 - PipelineTuner - Hyperparameters optimization start\n"
          ]
        },
        {
          "output_type": "stream",
          "name": "stderr",
          "text": [
            "CRITICAL:root:PipelineTuner - Initial pipeline: {'depth': 3, 'length': 4, 'nodes': [ridge, glm, ridge, lagged]}\n",
            "ridge - {'alpha': 0.5776784207053743}\n",
            "glm - {'family': 'gaussian', 'link': 'inverse_power'}\n",
            "ridge - {'alpha': 5.362447898366953}\n",
            "lagged - {'window_size': 10} \n",
            "Initial metric: 7.485\n"
          ]
        },
        {
          "output_type": "stream",
          "name": "stdout",
          "text": [
            "2022-12-01 16:43:29,212 - PipelineTuner - Initial pipeline: {'depth': 3, 'length': 4, 'nodes': [ridge, glm, ridge, lagged]}\n",
            "ridge - {'alpha': 0.5776784207053743}\n",
            "glm - {'family': 'gaussian', 'link': 'inverse_power'}\n",
            "ridge - {'alpha': 5.362447898366953}\n",
            "lagged - {'window_size': 10} \n",
            "Initial metric: 7.485\n",
            "  0%|          | 0/1 [00:00<?, ?trial/s, best loss=?]"
          ]
        },
        {
          "output_type": "stream",
          "name": "stderr",
          "text": [
            "INFO:hyperopt.tpe:build_posterior_wrapper took 0.004868 seconds\n"
          ]
        },
        {
          "output_type": "stream",
          "name": "stdout",
          "text": [
            "2022-12-01 16:43:29,246 - build_posterior_wrapper took 0.004868 seconds\n"
          ]
        },
        {
          "output_type": "stream",
          "name": "stderr",
          "text": [
            "INFO:hyperopt.tpe:TPE using 0 trials\n"
          ]
        },
        {
          "output_type": "stream",
          "name": "stdout",
          "text": [
            "2022-12-01 16:43:29,257 - TPE using 0 trials\n",
            "100%|██████████| 1/1 [00:00<00:00,  1.76trial/s, best loss: 24.530779662717663]\n",
            " 10%|█         | 1/10 [00:00<?, ?trial/s, best loss=?]"
          ]
        },
        {
          "output_type": "stream",
          "name": "stderr",
          "text": [
            "INFO:hyperopt.tpe:build_posterior_wrapper took 0.008277 seconds\n"
          ]
        },
        {
          "output_type": "stream",
          "name": "stdout",
          "text": [
            "2022-12-01 16:43:29,836 - build_posterior_wrapper took 0.008277 seconds\n"
          ]
        },
        {
          "output_type": "stream",
          "name": "stderr",
          "text": [
            "INFO:hyperopt.tpe:TPE using 1/1 trials with best loss 24.530780\n"
          ]
        },
        {
          "output_type": "stream",
          "name": "stdout",
          "text": [
            "2022-12-01 16:43:29,849 - TPE using 1/1 trials with best loss 24.530780\n",
            " 20%|██        | 2/10 [00:01<00:09,  1.15s/trial, best loss: 17.484280991913852]"
          ]
        },
        {
          "output_type": "stream",
          "name": "stderr",
          "text": [
            "INFO:hyperopt.tpe:build_posterior_wrapper took 0.009237 seconds\n"
          ]
        },
        {
          "output_type": "stream",
          "name": "stdout",
          "text": [
            "2022-12-01 16:43:30,996 - build_posterior_wrapper took 0.009237 seconds\n"
          ]
        },
        {
          "output_type": "stream",
          "name": "stderr",
          "text": [
            "INFO:hyperopt.tpe:TPE using 2/2 trials with best loss 17.484281\n"
          ]
        },
        {
          "output_type": "stream",
          "name": "stdout",
          "text": [
            "2022-12-01 16:43:31,008 - TPE using 2/2 trials with best loss 17.484281\n",
            " 30%|███       | 3/10 [00:01<00:06,  1.13trial/s, best loss: 14.7469639583734]  "
          ]
        },
        {
          "output_type": "stream",
          "name": "stderr",
          "text": [
            "INFO:hyperopt.tpe:build_posterior_wrapper took 0.011374 seconds\n"
          ]
        },
        {
          "output_type": "stream",
          "name": "stdout",
          "text": [
            "2022-12-01 16:43:31,700 - build_posterior_wrapper took 0.011374 seconds\n"
          ]
        },
        {
          "output_type": "stream",
          "name": "stderr",
          "text": [
            "INFO:hyperopt.tpe:TPE using 3/3 trials with best loss 14.746964\n"
          ]
        },
        {
          "output_type": "stream",
          "name": "stdout",
          "text": [
            "2022-12-01 16:43:31,709 - TPE using 3/3 trials with best loss 14.746964\n",
            " 40%|████      | 4/10 [00:02<00:05,  1.16trial/s, best loss: 14.7469639583734]"
          ]
        },
        {
          "output_type": "stream",
          "name": "stderr",
          "text": [
            "INFO:hyperopt.tpe:build_posterior_wrapper took 0.011850 seconds\n"
          ]
        },
        {
          "output_type": "stream",
          "name": "stdout",
          "text": [
            "2022-12-01 16:43:32,538 - build_posterior_wrapper took 0.011850 seconds\n"
          ]
        },
        {
          "output_type": "stream",
          "name": "stderr",
          "text": [
            "INFO:hyperopt.tpe:TPE using 4/4 trials with best loss 14.746964\n"
          ]
        },
        {
          "output_type": "stream",
          "name": "stdout",
          "text": [
            "2022-12-01 16:43:32,548 - TPE using 4/4 trials with best loss 14.746964\n",
            " 50%|█████     | 5/10 [00:03<00:04,  1.25trial/s, best loss: 14.7469639583734]"
          ]
        },
        {
          "output_type": "stream",
          "name": "stderr",
          "text": [
            "INFO:hyperopt.tpe:build_posterior_wrapper took 0.010486 seconds\n"
          ]
        },
        {
          "output_type": "stream",
          "name": "stdout",
          "text": [
            "2022-12-01 16:43:33,242 - build_posterior_wrapper took 0.010486 seconds\n"
          ]
        },
        {
          "output_type": "stream",
          "name": "stderr",
          "text": [
            "INFO:hyperopt.tpe:TPE using 5/5 trials with best loss 14.746964\n"
          ]
        },
        {
          "output_type": "stream",
          "name": "stdout",
          "text": [
            "2022-12-01 16:43:33,249 - TPE using 5/5 trials with best loss 14.746964\n",
            " 60%|██████    | 6/10 [00:05<00:04,  1.12s/trial, best loss: 14.7469639583734]"
          ]
        },
        {
          "output_type": "stream",
          "name": "stderr",
          "text": [
            "INFO:hyperopt.tpe:build_posterior_wrapper took 0.004518 seconds\n"
          ]
        },
        {
          "output_type": "stream",
          "name": "stdout",
          "text": [
            "2022-12-01 16:43:34,910 - build_posterior_wrapper took 0.004518 seconds\n"
          ]
        },
        {
          "output_type": "stream",
          "name": "stderr",
          "text": [
            "INFO:hyperopt.tpe:TPE using 6/6 trials with best loss 14.746964\n"
          ]
        },
        {
          "output_type": "stream",
          "name": "stdout",
          "text": [
            "2022-12-01 16:43:34,924 - TPE using 6/6 trials with best loss 14.746964\n",
            " 70%|███████   | 7/10 [00:06<00:03,  1.25s/trial, best loss: 14.7469639583734]"
          ]
        },
        {
          "output_type": "stream",
          "name": "stderr",
          "text": [
            "INFO:hyperopt.tpe:build_posterior_wrapper took 0.009326 seconds\n"
          ]
        },
        {
          "output_type": "stream",
          "name": "stdout",
          "text": [
            "2022-12-01 16:43:36,423 - build_posterior_wrapper took 0.009326 seconds\n"
          ]
        },
        {
          "output_type": "stream",
          "name": "stderr",
          "text": [
            "INFO:hyperopt.tpe:TPE using 7/7 trials with best loss 14.746964\n"
          ]
        },
        {
          "output_type": "stream",
          "name": "stdout",
          "text": [
            "2022-12-01 16:43:36,433 - TPE using 7/7 trials with best loss 14.746964\n",
            " 80%|████████  | 8/10 [00:07<00:02,  1.11s/trial, best loss: 14.7469639583734]"
          ]
        },
        {
          "output_type": "stream",
          "name": "stderr",
          "text": [
            "INFO:hyperopt.tpe:build_posterior_wrapper took 0.004414 seconds\n"
          ]
        },
        {
          "output_type": "stream",
          "name": "stdout",
          "text": [
            "2022-12-01 16:43:37,249 - build_posterior_wrapper took 0.004414 seconds\n"
          ]
        },
        {
          "output_type": "stream",
          "name": "stderr",
          "text": [
            "INFO:hyperopt.tpe:TPE using 8/8 trials with best loss 14.746964\n"
          ]
        },
        {
          "output_type": "stream",
          "name": "stdout",
          "text": [
            "2022-12-01 16:43:37,262 - TPE using 8/8 trials with best loss 14.746964\n",
            " 90%|█████████ | 9/10 [00:08<00:00,  1.03trial/s, best loss: 14.71239790883792]"
          ]
        },
        {
          "output_type": "stream",
          "name": "stderr",
          "text": [
            "INFO:hyperopt.tpe:build_posterior_wrapper took 0.004462 seconds\n"
          ]
        },
        {
          "output_type": "stream",
          "name": "stdout",
          "text": [
            "2022-12-01 16:43:37,902 - build_posterior_wrapper took 0.004462 seconds\n"
          ]
        },
        {
          "output_type": "stream",
          "name": "stderr",
          "text": [
            "INFO:hyperopt.tpe:TPE using 9/9 trials with best loss 14.712398\n"
          ]
        },
        {
          "output_type": "stream",
          "name": "stdout",
          "text": [
            "2022-12-01 16:43:37,918 - TPE using 9/9 trials with best loss 14.712398\n",
            "100%|██████████| 10/10 [00:08<00:00,  1.01trial/s, best loss: 14.71239790883792]\n"
          ]
        },
        {
          "output_type": "stream",
          "name": "stderr",
          "text": [
            "INFO:root:PipelineTuner - Hyperparameters optimization finished\n"
          ]
        },
        {
          "output_type": "stream",
          "name": "stdout",
          "text": [
            "2022-12-01 16:43:39,374 - PipelineTuner - Hyperparameters optimization finished\n"
          ]
        },
        {
          "output_type": "stream",
          "name": "stderr",
          "text": [
            "INFO:root:PipelineTuner - Return init pipeline due to the fact that obtained metric 14.712 worse than initial (+ 5% deviation) 7.860\n"
          ]
        },
        {
          "output_type": "stream",
          "name": "stdout",
          "text": [
            "2022-12-01 16:43:39,381 - PipelineTuner - Return init pipeline due to the fact that obtained metric 14.712 worse than initial (+ 5% deviation) 7.860\n"
          ]
        },
        {
          "output_type": "stream",
          "name": "stderr",
          "text": [
            "CRITICAL:root:PipelineTuner - Final pipeline: {'depth': 3, 'length': 4, 'nodes': [ridge, glm, ridge, lagged]}\n",
            "ridge - {'alpha': 0.5776784207053743}\n",
            "glm - {'family': 'gaussian', 'link': 'inverse_power'}\n",
            "ridge - {'alpha': 5.362447898366953}\n",
            "lagged - {'window_size': 10}\n"
          ]
        },
        {
          "output_type": "stream",
          "name": "stdout",
          "text": [
            "2022-12-01 16:43:39,395 - PipelineTuner - Final pipeline: {'depth': 3, 'length': 4, 'nodes': [ridge, glm, ridge, lagged]}\n",
            "ridge - {'alpha': 0.5776784207053743}\n",
            "glm - {'family': 'gaussian', 'link': 'inverse_power'}\n",
            "ridge - {'alpha': 5.362447898366953}\n",
            "lagged - {'window_size': 10}\n"
          ]
        },
        {
          "output_type": "stream",
          "name": "stderr",
          "text": [
            "CRITICAL:root:PipelineTuner - Final metric: 14.712\n"
          ]
        },
        {
          "output_type": "stream",
          "name": "stdout",
          "text": [
            "2022-12-01 16:43:39,403 - PipelineTuner - Final metric: 14.712\n",
            "Fitting pipeline №3\n"
          ]
        },
        {
          "output_type": "display_data",
          "data": {
            "text/plain": [
              "<Figure size 700x700 with 1 Axes>"
            ],
            "image/png": "[encoded data removed]"
          },
          "metadata": {}
        },
        {
          "output_type": "stream",
          "name": "stderr",
          "text": [
            "INFO:root:PipelineTuner - Hyperparameters optimization start\n"
          ]
        },
        {
          "output_type": "stream",
          "name": "stdout",
          "text": [
            "2022-12-01 16:43:40,416 - PipelineTuner - Hyperparameters optimization start\n"
          ]
        },
        {
          "output_type": "stream",
          "name": "stderr",
          "text": [
            "CRITICAL:root:PipelineTuner - Initial pipeline: {'depth': 2, 'length': 2, 'nodes': [ridge, lagged]}\n",
            "ridge - {}\n",
            "lagged - {'window_size': 10} \n",
            "Initial metric: 2.322\n"
          ]
        },
        {
          "output_type": "stream",
          "name": "stdout",
          "text": [
            "2022-12-01 16:43:40,598 - PipelineTuner - Initial pipeline: {'depth': 2, 'length': 2, 'nodes': [ridge, lagged]}\n",
            "ridge - {}\n",
            "lagged - {'window_size': 10} \n",
            "Initial metric: 2.322\n",
            "  0%|          | 0/1 [00:00<?, ?trial/s, best loss=?]"
          ]
        },
        {
          "output_type": "stream",
          "name": "stderr",
          "text": [
            "INFO:hyperopt.tpe:build_posterior_wrapper took 0.001431 seconds\n"
          ]
        },
        {
          "output_type": "stream",
          "name": "stdout",
          "text": [
            "2022-12-01 16:43:40,610 - build_posterior_wrapper took 0.001431 seconds\n"
          ]
        },
        {
          "output_type": "stream",
          "name": "stderr",
          "text": [
            "INFO:hyperopt.tpe:TPE using 0 trials\n"
          ]
        },
        {
          "output_type": "stream",
          "name": "stdout",
          "text": [
            "2022-12-01 16:43:40,618 - TPE using 0 trials\n",
            "100%|██████████| 1/1 [00:00<00:00,  3.98trial/s, best loss: 2.3225684713805568]\n",
            " 10%|█         | 1/10 [00:00<?, ?trial/s, best loss=?]"
          ]
        },
        {
          "output_type": "stream",
          "name": "stderr",
          "text": [
            "INFO:hyperopt.tpe:build_posterior_wrapper took 0.001576 seconds\n"
          ]
        },
        {
          "output_type": "stream",
          "name": "stdout",
          "text": [
            "2022-12-01 16:43:40,878 - build_posterior_wrapper took 0.001576 seconds\n"
          ]
        },
        {
          "output_type": "stream",
          "name": "stderr",
          "text": [
            "INFO:hyperopt.tpe:TPE using 1/1 trials with best loss 2.322568\n"
          ]
        },
        {
          "output_type": "stream",
          "name": "stdout",
          "text": [
            "2022-12-01 16:43:40,889 - TPE using 1/1 trials with best loss 2.322568\n",
            " 20%|██        | 2/10 [00:01<00:11,  1.47s/trial, best loss: 2.3225684713805568]"
          ]
        },
        {
          "output_type": "stream",
          "name": "stderr",
          "text": [
            "INFO:hyperopt.tpe:build_posterior_wrapper took 0.001251 seconds\n"
          ]
        },
        {
          "output_type": "stream",
          "name": "stdout",
          "text": [
            "2022-12-01 16:43:42,353 - build_posterior_wrapper took 0.001251 seconds\n"
          ]
        },
        {
          "output_type": "stream",
          "name": "stderr",
          "text": [
            "INFO:hyperopt.tpe:TPE using 2/2 trials with best loss 2.322568\n"
          ]
        },
        {
          "output_type": "stream",
          "name": "stdout",
          "text": [
            "2022-12-01 16:43:42,365 - TPE using 2/2 trials with best loss 2.322568\n",
            " 30%|███       | 3/10 [00:01<00:06,  1.09trial/s, best loss: 1.8632107369910726]"
          ]
        },
        {
          "output_type": "stream",
          "name": "stderr",
          "text": [
            "INFO:hyperopt.tpe:build_posterior_wrapper took 0.001276 seconds\n"
          ]
        },
        {
          "output_type": "stream",
          "name": "stdout",
          "text": [
            "2022-12-01 16:43:42,882 - build_posterior_wrapper took 0.001276 seconds\n"
          ]
        },
        {
          "output_type": "stream",
          "name": "stderr",
          "text": [
            "INFO:hyperopt.tpe:TPE using 3/3 trials with best loss 1.863211\n"
          ]
        },
        {
          "output_type": "stream",
          "name": "stdout",
          "text": [
            "2022-12-01 16:43:42,897 - TPE using 3/3 trials with best loss 1.863211\n",
            " 40%|████      | 4/10 [00:02<00:05,  1.10trial/s, best loss: 1.8632107369910726]"
          ]
        },
        {
          "output_type": "stream",
          "name": "stderr",
          "text": [
            "INFO:hyperopt.tpe:build_posterior_wrapper took 0.001255 seconds\n"
          ]
        },
        {
          "output_type": "stream",
          "name": "stdout",
          "text": [
            "2022-12-01 16:43:43,777 - build_posterior_wrapper took 0.001255 seconds\n"
          ]
        },
        {
          "output_type": "stream",
          "name": "stderr",
          "text": [
            "INFO:hyperopt.tpe:TPE using 4/4 trials with best loss 1.863211\n"
          ]
        },
        {
          "output_type": "stream",
          "name": "stdout",
          "text": [
            "2022-12-01 16:43:43,789 - TPE using 4/4 trials with best loss 1.863211\n",
            " 50%|█████     | 5/10 [00:04<00:06,  1.21s/trial, best loss: 1.8632107369910726]"
          ]
        },
        {
          "output_type": "stream",
          "name": "stderr",
          "text": [
            "INFO:hyperopt.tpe:build_posterior_wrapper took 0.001292 seconds\n"
          ]
        },
        {
          "output_type": "stream",
          "name": "stdout",
          "text": [
            "2022-12-01 16:43:45,456 - build_posterior_wrapper took 0.001292 seconds\n"
          ]
        },
        {
          "output_type": "stream",
          "name": "stderr",
          "text": [
            "INFO:hyperopt.tpe:TPE using 5/5 trials with best loss 1.863211\n"
          ]
        },
        {
          "output_type": "stream",
          "name": "stdout",
          "text": [
            "2022-12-01 16:43:45,479 - TPE using 5/5 trials with best loss 1.863211\n",
            " 60%|██████    | 6/10 [00:04<00:03,  1.14trial/s, best loss: 1.8632107369910726]"
          ]
        },
        {
          "output_type": "stream",
          "name": "stderr",
          "text": [
            "INFO:hyperopt.tpe:build_posterior_wrapper took 0.008778 seconds\n"
          ]
        },
        {
          "output_type": "stream",
          "name": "stdout",
          "text": [
            "2022-12-01 16:43:45,737 - build_posterior_wrapper took 0.008778 seconds\n"
          ]
        },
        {
          "output_type": "stream",
          "name": "stderr",
          "text": [
            "INFO:hyperopt.tpe:TPE using 6/6 trials with best loss 1.863211\n"
          ]
        },
        {
          "output_type": "stream",
          "name": "stdout",
          "text": [
            "2022-12-01 16:43:45,753 - TPE using 6/6 trials with best loss 1.863211\n",
            " 70%|███████   | 7/10 [00:05<00:02,  1.34trial/s, best loss: 1.489866348637132] "
          ]
        },
        {
          "output_type": "stream",
          "name": "stderr",
          "text": [
            "INFO:hyperopt.tpe:build_posterior_wrapper took 0.001272 seconds\n"
          ]
        },
        {
          "output_type": "stream",
          "name": "stdout",
          "text": [
            "2022-12-01 16:43:46,226 - build_posterior_wrapper took 0.001272 seconds\n"
          ]
        },
        {
          "output_type": "stream",
          "name": "stderr",
          "text": [
            "INFO:hyperopt.tpe:TPE using 7/7 trials with best loss 1.489866\n"
          ]
        },
        {
          "output_type": "stream",
          "name": "stdout",
          "text": [
            "2022-12-01 16:43:46,238 - TPE using 7/7 trials with best loss 1.489866\n",
            " 80%|████████  | 8/10 [00:07<00:02,  1.15s/trial, best loss: 1.489866348637132]"
          ]
        },
        {
          "output_type": "stream",
          "name": "stderr",
          "text": [
            "INFO:hyperopt.tpe:build_posterior_wrapper took 0.001294 seconds\n"
          ]
        },
        {
          "output_type": "stream",
          "name": "stdout",
          "text": [
            "2022-12-01 16:43:48,211 - build_posterior_wrapper took 0.001294 seconds\n"
          ]
        },
        {
          "output_type": "stream",
          "name": "stderr",
          "text": [
            "INFO:hyperopt.tpe:TPE using 8/8 trials with best loss 1.489866\n"
          ]
        },
        {
          "output_type": "stream",
          "name": "stdout",
          "text": [
            "2022-12-01 16:43:48,227 - TPE using 8/8 trials with best loss 1.489866\n",
            " 90%|█████████ | 9/10 [00:08<00:01,  1.00s/trial, best loss: 1.489866348637132]"
          ]
        },
        {
          "output_type": "stream",
          "name": "stderr",
          "text": [
            "INFO:hyperopt.tpe:build_posterior_wrapper took 0.001285 seconds\n"
          ]
        },
        {
          "output_type": "stream",
          "name": "stdout",
          "text": [
            "2022-12-01 16:43:48,894 - build_posterior_wrapper took 0.001285 seconds\n"
          ]
        },
        {
          "output_type": "stream",
          "name": "stderr",
          "text": [
            "INFO:hyperopt.tpe:TPE using 9/9 trials with best loss 1.489866\n"
          ]
        },
        {
          "output_type": "stream",
          "name": "stdout",
          "text": [
            "2022-12-01 16:43:48,914 - TPE using 9/9 trials with best loss 1.489866\n",
            "100%|██████████| 10/10 [00:08<00:00,  1.03trial/s, best loss: 1.489866348637132]\n"
          ]
        },
        {
          "output_type": "stream",
          "name": "stderr",
          "text": [
            "INFO:root:PipelineTuner - Hyperparameters optimization finished\n"
          ]
        },
        {
          "output_type": "stream",
          "name": "stdout",
          "text": [
            "2022-12-01 16:43:50,109 - PipelineTuner - Hyperparameters optimization finished\n"
          ]
        },
        {
          "output_type": "stream",
          "name": "stderr",
          "text": [
            "INFO:root:PipelineTuner - Return tuned pipeline due to the fact that obtained metric 1.490 equal or better than initial (+ 5% deviation) 2.438\n"
          ]
        },
        {
          "output_type": "stream",
          "name": "stdout",
          "text": [
            "2022-12-01 16:43:50,124 - PipelineTuner - Return tuned pipeline due to the fact that obtained metric 1.490 equal or better than initial (+ 5% deviation) 2.438\n"
          ]
        },
        {
          "output_type": "stream",
          "name": "stderr",
          "text": [
            "CRITICAL:root:PipelineTuner - Final pipeline: {'depth': 2, 'length': 2, 'nodes': [ridge, lagged]}\n",
            "ridge - {'alpha': 5.679091329112728}\n",
            "lagged - {'window_size': 167}\n"
          ]
        },
        {
          "output_type": "stream",
          "name": "stdout",
          "text": [
            "2022-12-01 16:43:50,132 - PipelineTuner - Final pipeline: {'depth': 2, 'length': 2, 'nodes': [ridge, lagged]}\n",
            "ridge - {'alpha': 5.679091329112728}\n",
            "lagged - {'window_size': 167}\n"
          ]
        },
        {
          "output_type": "stream",
          "name": "stderr",
          "text": [
            "CRITICAL:root:PipelineTuner - Final metric: 1.490\n"
          ]
        },
        {
          "output_type": "stream",
          "name": "stdout",
          "text": [
            "2022-12-01 16:43:50,157 - PipelineTuner - Final metric: 1.490\n"
          ]
        },
        {
          "output_type": "stream",
          "name": "stderr",
          "text": [
            "INFO:root:PipelineTuner - Hyperparameters optimization start\n"
          ]
        },
        {
          "output_type": "stream",
          "name": "stdout",
          "text": [
            "2022-12-01 16:43:50,686 - PipelineTuner - Hyperparameters optimization start\n"
          ]
        },
        {
          "output_type": "stream",
          "name": "stderr",
          "text": [
            "CRITICAL:root:PipelineTuner - Initial pipeline: {'depth': 2, 'length': 2, 'nodes': [ridge, lagged]}\n",
            "ridge - {'alpha': 5.679091329112728}\n",
            "lagged - {'window_size': 167} \n",
            "Initial metric: 13.150\n"
          ]
        },
        {
          "output_type": "stream",
          "name": "stdout",
          "text": [
            "2022-12-01 16:43:51,204 - PipelineTuner - Initial pipeline: {'depth': 2, 'length': 2, 'nodes': [ridge, lagged]}\n",
            "ridge - {'alpha': 5.679091329112728}\n",
            "lagged - {'window_size': 167} \n",
            "Initial metric: 13.150\n",
            "  0%|          | 0/1 [00:00<?, ?trial/s, best loss=?]"
          ]
        },
        {
          "output_type": "stream",
          "name": "stderr",
          "text": [
            "INFO:hyperopt.tpe:build_posterior_wrapper took 0.001446 seconds\n"
          ]
        },
        {
          "output_type": "stream",
          "name": "stdout",
          "text": [
            "2022-12-01 16:43:51,224 - build_posterior_wrapper took 0.001446 seconds\n"
          ]
        },
        {
          "output_type": "stream",
          "name": "stderr",
          "text": [
            "INFO:hyperopt.tpe:TPE using 0 trials\n"
          ]
        },
        {
          "output_type": "stream",
          "name": "stdout",
          "text": [
            "2022-12-01 16:43:51,234 - TPE using 0 trials\n",
            "100%|██████████| 1/1 [00:00<00:00,  1.88trial/s, best loss: 13.150200972692152]\n",
            " 10%|█         | 1/10 [00:00<?, ?trial/s, best loss=?]"
          ]
        },
        {
          "output_type": "stream",
          "name": "stderr",
          "text": [
            "INFO:hyperopt.tpe:build_posterior_wrapper took 0.001272 seconds\n"
          ]
        },
        {
          "output_type": "stream",
          "name": "stdout",
          "text": [
            "2022-12-01 16:43:51,768 - build_posterior_wrapper took 0.001272 seconds\n"
          ]
        },
        {
          "output_type": "stream",
          "name": "stderr",
          "text": [
            "INFO:hyperopt.tpe:TPE using 1/1 trials with best loss 13.150201\n"
          ]
        },
        {
          "output_type": "stream",
          "name": "stdout",
          "text": [
            "2022-12-01 16:43:51,777 - TPE using 1/1 trials with best loss 13.150201\n",
            " 20%|██        | 2/10 [00:00<00:02,  3.77trial/s, best loss: 2.7097123103791123]"
          ]
        },
        {
          "output_type": "stream",
          "name": "stderr",
          "text": [
            "INFO:hyperopt.tpe:build_posterior_wrapper took 0.001290 seconds\n"
          ]
        },
        {
          "output_type": "stream",
          "name": "stdout",
          "text": [
            "2022-12-01 16:43:52,041 - build_posterior_wrapper took 0.001290 seconds\n"
          ]
        },
        {
          "output_type": "stream",
          "name": "stderr",
          "text": [
            "INFO:hyperopt.tpe:TPE using 2/2 trials with best loss 2.709712\n"
          ]
        },
        {
          "output_type": "stream",
          "name": "stdout",
          "text": [
            "2022-12-01 16:43:52,049 - TPE using 2/2 trials with best loss 2.709712\n",
            " 30%|███       | 3/10 [00:00<00:03,  2.03trial/s, best loss: 2.7097123103791123]"
          ]
        },
        {
          "output_type": "stream",
          "name": "stderr",
          "text": [
            "INFO:hyperopt.tpe:build_posterior_wrapper took 0.001477 seconds\n"
          ]
        },
        {
          "output_type": "stream",
          "name": "stdout",
          "text": [
            "2022-12-01 16:43:52,686 - build_posterior_wrapper took 0.001477 seconds\n"
          ]
        },
        {
          "output_type": "stream",
          "name": "stderr",
          "text": [
            "INFO:hyperopt.tpe:TPE using 3/3 trials with best loss 2.709712\n"
          ]
        },
        {
          "output_type": "stream",
          "name": "stdout",
          "text": [
            "2022-12-01 16:43:52,700 - TPE using 3/3 trials with best loss 2.709712\n",
            " 40%|████      | 4/10 [00:01<00:04,  1.34trial/s, best loss: 2.7097123103791123]"
          ]
        },
        {
          "output_type": "stream",
          "name": "stderr",
          "text": [
            "INFO:hyperopt.tpe:build_posterior_wrapper took 0.001361 seconds\n"
          ]
        },
        {
          "output_type": "stream",
          "name": "stdout",
          "text": [
            "2022-12-01 16:43:53,732 - build_posterior_wrapper took 0.001361 seconds\n"
          ]
        },
        {
          "output_type": "stream",
          "name": "stderr",
          "text": [
            "INFO:hyperopt.tpe:TPE using 4/4 trials with best loss 2.709712\n"
          ]
        },
        {
          "output_type": "stream",
          "name": "stdout",
          "text": [
            "2022-12-01 16:43:53,739 - TPE using 4/4 trials with best loss 2.709712\n",
            " 50%|█████     | 5/10 [00:02<00:02,  1.84trial/s, best loss: 2.675052950413149] "
          ]
        },
        {
          "output_type": "stream",
          "name": "stderr",
          "text": [
            "INFO:hyperopt.tpe:build_posterior_wrapper took 0.001426 seconds\n"
          ]
        },
        {
          "output_type": "stream",
          "name": "stdout",
          "text": [
            "2022-12-01 16:43:53,969 - build_posterior_wrapper took 0.001426 seconds\n"
          ]
        },
        {
          "output_type": "stream",
          "name": "stderr",
          "text": [
            "INFO:hyperopt.tpe:TPE using 5/5 trials with best loss 2.675053\n"
          ]
        },
        {
          "output_type": "stream",
          "name": "stdout",
          "text": [
            "2022-12-01 16:43:53,976 - TPE using 5/5 trials with best loss 2.675053\n",
            " 60%|██████    | 6/10 [00:04<00:04,  1.02s/trial, best loss: 2.675052950413149]"
          ]
        },
        {
          "output_type": "stream",
          "name": "stderr",
          "text": [
            "INFO:hyperopt.tpe:build_posterior_wrapper took 0.001264 seconds\n"
          ]
        },
        {
          "output_type": "stream",
          "name": "stdout",
          "text": [
            "2022-12-01 16:43:55,831 - build_posterior_wrapper took 0.001264 seconds\n"
          ]
        },
        {
          "output_type": "stream",
          "name": "stderr",
          "text": [
            "INFO:hyperopt.tpe:TPE using 6/6 trials with best loss 2.675053\n"
          ]
        },
        {
          "output_type": "stream",
          "name": "stdout",
          "text": [
            "2022-12-01 16:43:55,844 - TPE using 6/6 trials with best loss 2.675053\n",
            " 70%|███████   | 7/10 [00:04<00:02,  1.21trial/s, best loss: 2.675052950413149]"
          ]
        },
        {
          "output_type": "stream",
          "name": "stderr",
          "text": [
            "INFO:hyperopt.tpe:build_posterior_wrapper took 0.003493 seconds\n"
          ]
        },
        {
          "output_type": "stream",
          "name": "stdout",
          "text": [
            "2022-12-01 16:43:56,299 - build_posterior_wrapper took 0.003493 seconds\n"
          ]
        },
        {
          "output_type": "stream",
          "name": "stderr",
          "text": [
            "INFO:hyperopt.tpe:TPE using 7/7 trials with best loss 2.675053\n"
          ]
        },
        {
          "output_type": "stream",
          "name": "stdout",
          "text": [
            "2022-12-01 16:43:56,314 - TPE using 7/7 trials with best loss 2.675053\n",
            " 80%|████████  | 8/10 [00:06<00:02,  1.07s/trial, best loss: 2.675052950413149]"
          ]
        },
        {
          "output_type": "stream",
          "name": "stderr",
          "text": [
            "INFO:hyperopt.tpe:build_posterior_wrapper took 0.003095 seconds\n"
          ]
        },
        {
          "output_type": "stream",
          "name": "stdout",
          "text": [
            "2022-12-01 16:43:57,855 - build_posterior_wrapper took 0.003095 seconds\n"
          ]
        },
        {
          "output_type": "stream",
          "name": "stderr",
          "text": [
            "INFO:hyperopt.tpe:TPE using 8/8 trials with best loss 2.675053\n"
          ]
        },
        {
          "output_type": "stream",
          "name": "stdout",
          "text": [
            "2022-12-01 16:43:57,861 - TPE using 8/8 trials with best loss 2.675053\n",
            " 90%|█████████ | 9/10 [00:06<00:00,  1.23trial/s, best loss: 2.5524501969552493]"
          ]
        },
        {
          "output_type": "stream",
          "name": "stderr",
          "text": [
            "INFO:hyperopt.tpe:build_posterior_wrapper took 0.003840 seconds\n"
          ]
        },
        {
          "output_type": "stream",
          "name": "stdout",
          "text": [
            "2022-12-01 16:43:58,122 - build_posterior_wrapper took 0.003840 seconds\n"
          ]
        },
        {
          "output_type": "stream",
          "name": "stderr",
          "text": [
            "INFO:hyperopt.tpe:TPE using 9/9 trials with best loss 2.552450\n"
          ]
        },
        {
          "output_type": "stream",
          "name": "stdout",
          "text": [
            "2022-12-01 16:43:58,138 - TPE using 9/9 trials with best loss 2.552450\n",
            "100%|██████████| 10/10 [00:06<00:00,  1.34trial/s, best loss: 2.5524501969552493]\n"
          ]
        },
        {
          "output_type": "stream",
          "name": "stderr",
          "text": [
            "INFO:root:PipelineTuner - Hyperparameters optimization finished\n"
          ]
        },
        {
          "output_type": "stream",
          "name": "stdout",
          "text": [
            "2022-12-01 16:43:58,727 - PipelineTuner - Hyperparameters optimization finished\n"
          ]
        },
        {
          "output_type": "stream",
          "name": "stderr",
          "text": [
            "INFO:root:PipelineTuner - Return tuned pipeline due to the fact that obtained metric 2.552 equal or better than initial (+ 5% deviation) 13.808\n"
          ]
        },
        {
          "output_type": "stream",
          "name": "stdout",
          "text": [
            "2022-12-01 16:43:58,739 - PipelineTuner - Return tuned pipeline due to the fact that obtained metric 2.552 equal or better than initial (+ 5% deviation) 13.808\n"
          ]
        },
        {
          "output_type": "stream",
          "name": "stderr",
          "text": [
            "CRITICAL:root:PipelineTuner - Final pipeline: {'depth': 2, 'length': 2, 'nodes': [ridge, lagged]}\n",
            "ridge - {'alpha': 2.107564627277068}\n",
            "lagged - {'window_size': 17}\n"
          ]
        },
        {
          "output_type": "stream",
          "name": "stdout",
          "text": [
            "2022-12-01 16:43:58,747 - PipelineTuner - Final pipeline: {'depth': 2, 'length': 2, 'nodes': [ridge, lagged]}\n",
            "ridge - {'alpha': 2.107564627277068}\n",
            "lagged - {'window_size': 17}\n"
          ]
        },
        {
          "output_type": "stream",
          "name": "stderr",
          "text": [
            "CRITICAL:root:PipelineTuner - Final metric: 2.552\n"
          ]
        },
        {
          "output_type": "stream",
          "name": "stdout",
          "text": [
            "2022-12-01 16:43:58,752 - PipelineTuner - Final metric: 2.552\n",
            "Fitting pipeline №4\n"
          ]
        },
        {
          "output_type": "display_data",
          "data": {
            "text/plain": [
              "<Figure size 700x700 with 1 Axes>"
            ],
            "image/png": "[encoded data removed]"
          },
          "metadata": {}
        },
        {
          "output_type": "stream",
          "name": "stderr",
          "text": [
            "INFO:root:PipelineTuner - Hyperparameters optimization start\n"
          ]
        },
        {
          "output_type": "stream",
          "name": "stdout",
          "text": [
            "2022-12-01 16:43:59,431 - PipelineTuner - Hyperparameters optimization start\n"
          ]
        },
        {
          "output_type": "stream",
          "name": "stderr",
          "text": [
            "CRITICAL:root:PipelineTuner - Initial pipeline: {'depth': 3, 'length': 3, 'nodes': [ridge, ridge, lagged]}\n",
            "ridge - {}\n",
            "ridge - {}\n",
            "lagged - {'window_size': 10} \n",
            "Initial metric: 2.322\n"
          ]
        },
        {
          "output_type": "stream",
          "name": "stdout",
          "text": [
            "2022-12-01 16:43:59,653 - PipelineTuner - Initial pipeline: {'depth': 3, 'length': 3, 'nodes': [ridge, ridge, lagged]}\n",
            "ridge - {}\n",
            "ridge - {}\n",
            "lagged - {'window_size': 10} \n",
            "Initial metric: 2.322\n",
            "  0%|          | 0/1 [00:00<?, ?trial/s, best loss=?]"
          ]
        },
        {
          "output_type": "stream",
          "name": "stderr",
          "text": [
            "INFO:hyperopt.tpe:build_posterior_wrapper took 0.002664 seconds\n"
          ]
        },
        {
          "output_type": "stream",
          "name": "stdout",
          "text": [
            "2022-12-01 16:43:59,686 - build_posterior_wrapper took 0.002664 seconds\n"
          ]
        },
        {
          "output_type": "stream",
          "name": "stderr",
          "text": [
            "INFO:hyperopt.tpe:TPE using 0 trials\n"
          ]
        },
        {
          "output_type": "stream",
          "name": "stdout",
          "text": [
            "2022-12-01 16:43:59,702 - TPE using 0 trials\n",
            "100%|██████████| 1/1 [00:00<00:00,  3.70trial/s, best loss: 2.3219026363399804]\n",
            " 10%|█         | 1/10 [00:00<?, ?trial/s, best loss=?]"
          ]
        },
        {
          "output_type": "stream",
          "name": "stderr",
          "text": [
            "INFO:hyperopt.tpe:build_posterior_wrapper took 0.002264 seconds\n"
          ]
        },
        {
          "output_type": "stream",
          "name": "stdout",
          "text": [
            "2022-12-01 16:43:59,977 - build_posterior_wrapper took 0.002264 seconds\n"
          ]
        },
        {
          "output_type": "stream",
          "name": "stderr",
          "text": [
            "INFO:hyperopt.tpe:TPE using 1/1 trials with best loss 2.321903\n"
          ]
        },
        {
          "output_type": "stream",
          "name": "stdout",
          "text": [
            "2022-12-01 16:43:59,987 - TPE using 1/1 trials with best loss 2.321903\n",
            " 20%|██        | 2/10 [00:01<00:10,  1.28s/trial, best loss: 2.3219026363399804]"
          ]
        },
        {
          "output_type": "stream",
          "name": "stderr",
          "text": [
            "INFO:hyperopt.tpe:build_posterior_wrapper took 0.008005 seconds\n"
          ]
        },
        {
          "output_type": "stream",
          "name": "stdout",
          "text": [
            "2022-12-01 16:44:01,267 - build_posterior_wrapper took 0.008005 seconds\n"
          ]
        },
        {
          "output_type": "stream",
          "name": "stderr",
          "text": [
            "INFO:hyperopt.tpe:TPE using 2/2 trials with best loss 2.321903\n"
          ]
        },
        {
          "output_type": "stream",
          "name": "stdout",
          "text": [
            "2022-12-01 16:44:01,282 - TPE using 2/2 trials with best loss 2.321903\n",
            " 30%|███       | 3/10 [00:01<00:05,  1.30trial/s, best loss: 1.0519457412156257]"
          ]
        },
        {
          "output_type": "stream",
          "name": "stderr",
          "text": [
            "INFO:hyperopt.tpe:build_posterior_wrapper took 0.008703 seconds\n"
          ]
        },
        {
          "output_type": "stream",
          "name": "stdout",
          "text": [
            "2022-12-01 16:44:01,685 - build_posterior_wrapper took 0.008703 seconds\n"
          ]
        },
        {
          "output_type": "stream",
          "name": "stderr",
          "text": [
            "INFO:hyperopt.tpe:TPE using 3/3 trials with best loss 1.051946\n"
          ]
        },
        {
          "output_type": "stream",
          "name": "stdout",
          "text": [
            "2022-12-01 16:44:01,697 - TPE using 3/3 trials with best loss 1.051946\n",
            " 40%|████      | 4/10 [00:02<00:03,  1.66trial/s, best loss: 1.0233894354983457]"
          ]
        },
        {
          "output_type": "stream",
          "name": "stderr",
          "text": [
            "INFO:hyperopt.tpe:build_posterior_wrapper took 0.002112 seconds\n"
          ]
        },
        {
          "output_type": "stream",
          "name": "stdout",
          "text": [
            "2022-12-01 16:44:02,078 - build_posterior_wrapper took 0.002112 seconds\n"
          ]
        },
        {
          "output_type": "stream",
          "name": "stderr",
          "text": [
            "INFO:hyperopt.tpe:TPE using 4/4 trials with best loss 1.023389\n"
          ]
        },
        {
          "output_type": "stream",
          "name": "stdout",
          "text": [
            "2022-12-01 16:44:02,092 - TPE using 4/4 trials with best loss 1.023389\n",
            " 50%|█████     | 5/10 [00:03<00:04,  1.11trial/s, best loss: 1.0233894354983457]"
          ]
        },
        {
          "output_type": "stream",
          "name": "stderr",
          "text": [
            "INFO:hyperopt.tpe:build_posterior_wrapper took 0.009242 seconds\n"
          ]
        },
        {
          "output_type": "stream",
          "name": "stdout",
          "text": [
            "2022-12-01 16:44:03,441 - build_posterior_wrapper took 0.009242 seconds\n"
          ]
        },
        {
          "output_type": "stream",
          "name": "stderr",
          "text": [
            "INFO:hyperopt.tpe:TPE using 5/5 trials with best loss 1.023389\n"
          ]
        },
        {
          "output_type": "stream",
          "name": "stdout",
          "text": [
            "2022-12-01 16:44:03,446 - TPE using 5/5 trials with best loss 1.023389\n",
            " 60%|██████    | 6/10 [00:04<00:03,  1.05trial/s, best loss: 1.0233894354983457]"
          ]
        },
        {
          "output_type": "stream",
          "name": "stderr",
          "text": [
            "INFO:hyperopt.tpe:build_posterior_wrapper took 0.002071 seconds\n"
          ]
        },
        {
          "output_type": "stream",
          "name": "stdout",
          "text": [
            "2022-12-01 16:44:04,475 - build_posterior_wrapper took 0.002071 seconds\n"
          ]
        },
        {
          "output_type": "stream",
          "name": "stderr",
          "text": [
            "INFO:hyperopt.tpe:TPE using 6/6 trials with best loss 1.023389\n"
          ]
        },
        {
          "output_type": "stream",
          "name": "stdout",
          "text": [
            "2022-12-01 16:44:04,489 - TPE using 6/6 trials with best loss 1.023389\n",
            " 70%|███████   | 7/10 [00:06<00:03,  1.26s/trial, best loss: 1.0233894354983457]"
          ]
        },
        {
          "output_type": "stream",
          "name": "stderr",
          "text": [
            "INFO:hyperopt.tpe:build_posterior_wrapper took 0.001829 seconds\n"
          ]
        },
        {
          "output_type": "stream",
          "name": "stdout",
          "text": [
            "2022-12-01 16:44:06,343 - build_posterior_wrapper took 0.001829 seconds\n"
          ]
        },
        {
          "output_type": "stream",
          "name": "stderr",
          "text": [
            "INFO:hyperopt.tpe:TPE using 7/7 trials with best loss 1.023389\n"
          ]
        },
        {
          "output_type": "stream",
          "name": "stdout",
          "text": [
            "2022-12-01 16:44:06,369 - TPE using 7/7 trials with best loss 1.023389\n",
            " 80%|████████  | 8/10 [00:07<00:02,  1.09s/trial, best loss: 1.0233894354983457]"
          ]
        },
        {
          "output_type": "stream",
          "name": "stderr",
          "text": [
            "INFO:hyperopt.tpe:build_posterior_wrapper took 0.002358 seconds\n"
          ]
        },
        {
          "output_type": "stream",
          "name": "stdout",
          "text": [
            "2022-12-01 16:44:07,082 - build_posterior_wrapper took 0.002358 seconds\n"
          ]
        },
        {
          "output_type": "stream",
          "name": "stderr",
          "text": [
            "INFO:hyperopt.tpe:TPE using 8/8 trials with best loss 1.023389\n"
          ]
        },
        {
          "output_type": "stream",
          "name": "stdout",
          "text": [
            "2022-12-01 16:44:07,094 - TPE using 8/8 trials with best loss 1.023389\n",
            " 90%|█████████ | 9/10 [00:08<00:01,  1.24s/trial, best loss: 1.0233894354983457]"
          ]
        },
        {
          "output_type": "stream",
          "name": "stderr",
          "text": [
            "INFO:hyperopt.tpe:build_posterior_wrapper took 0.002024 seconds\n"
          ]
        },
        {
          "output_type": "stream",
          "name": "stdout",
          "text": [
            "2022-12-01 16:44:08,644 - build_posterior_wrapper took 0.002024 seconds\n"
          ]
        },
        {
          "output_type": "stream",
          "name": "stderr",
          "text": [
            "INFO:hyperopt.tpe:TPE using 9/9 trials with best loss 1.023389\n"
          ]
        },
        {
          "output_type": "stream",
          "name": "stdout",
          "text": [
            "2022-12-01 16:44:08,655 - TPE using 9/9 trials with best loss 1.023389\n",
            "100%|██████████| 10/10 [00:10<00:00,  1.16s/trial, best loss: 1.0233894354983457]\n"
          ]
        },
        {
          "output_type": "stream",
          "name": "stderr",
          "text": [
            "INFO:root:PipelineTuner - Hyperparameters optimization finished\n"
          ]
        },
        {
          "output_type": "stream",
          "name": "stdout",
          "text": [
            "2022-12-01 16:44:10,758 - PipelineTuner - Hyperparameters optimization finished\n"
          ]
        },
        {
          "output_type": "stream",
          "name": "stderr",
          "text": [
            "INFO:root:PipelineTuner - Return tuned pipeline due to the fact that obtained metric 1.023 equal or better than initial (+ 5% deviation) 2.438\n"
          ]
        },
        {
          "output_type": "stream",
          "name": "stdout",
          "text": [
            "2022-12-01 16:44:10,762 - PipelineTuner - Return tuned pipeline due to the fact that obtained metric 1.023 equal or better than initial (+ 5% deviation) 2.438\n"
          ]
        },
        {
          "output_type": "stream",
          "name": "stderr",
          "text": [
            "CRITICAL:root:PipelineTuner - Final pipeline: {'depth': 3, 'length': 3, 'nodes': [ridge, ridge, lagged]}\n",
            "ridge - {'alpha': 6.425701669800815}\n",
            "ridge - {'alpha': 7.078245527261148}\n",
            "lagged - {'window_size': 98}\n"
          ]
        },
        {
          "output_type": "stream",
          "name": "stdout",
          "text": [
            "2022-12-01 16:44:10,775 - PipelineTuner - Final pipeline: {'depth': 3, 'length': 3, 'nodes': [ridge, ridge, lagged]}\n",
            "ridge - {'alpha': 6.425701669800815}\n",
            "ridge - {'alpha': 7.078245527261148}\n",
            "lagged - {'window_size': 98}\n"
          ]
        },
        {
          "output_type": "stream",
          "name": "stderr",
          "text": [
            "CRITICAL:root:PipelineTuner - Final metric: 1.023\n"
          ]
        },
        {
          "output_type": "stream",
          "name": "stdout",
          "text": [
            "2022-12-01 16:44:10,782 - PipelineTuner - Final metric: 1.023\n"
          ]
        },
        {
          "output_type": "stream",
          "name": "stderr",
          "text": [
            "INFO:root:PipelineTuner - Hyperparameters optimization start\n"
          ]
        },
        {
          "output_type": "stream",
          "name": "stdout",
          "text": [
            "2022-12-01 16:44:11,181 - PipelineTuner - Hyperparameters optimization start\n"
          ]
        },
        {
          "output_type": "stream",
          "name": "stderr",
          "text": [
            "CRITICAL:root:PipelineTuner - Initial pipeline: {'depth': 3, 'length': 3, 'nodes': [ridge, ridge, lagged]}\n",
            "ridge - {'alpha': 6.425701669800815}\n",
            "ridge - {'alpha': 7.078245527261148}\n",
            "lagged - {'window_size': 98} \n",
            "Initial metric: 8.589\n"
          ]
        },
        {
          "output_type": "stream",
          "name": "stdout",
          "text": [
            "2022-12-01 16:44:11,563 - PipelineTuner - Initial pipeline: {'depth': 3, 'length': 3, 'nodes': [ridge, ridge, lagged]}\n",
            "ridge - {'alpha': 6.425701669800815}\n",
            "ridge - {'alpha': 7.078245527261148}\n",
            "lagged - {'window_size': 98} \n",
            "Initial metric: 8.589\n",
            "  0%|          | 0/1 [00:00<?, ?trial/s, best loss=?]"
          ]
        },
        {
          "output_type": "stream",
          "name": "stderr",
          "text": [
            "INFO:hyperopt.tpe:build_posterior_wrapper took 0.006550 seconds\n"
          ]
        },
        {
          "output_type": "stream",
          "name": "stdout",
          "text": [
            "2022-12-01 16:44:11,600 - build_posterior_wrapper took 0.006550 seconds\n"
          ]
        },
        {
          "output_type": "stream",
          "name": "stderr",
          "text": [
            "INFO:hyperopt.tpe:TPE using 0 trials\n"
          ]
        },
        {
          "output_type": "stream",
          "name": "stdout",
          "text": [
            "2022-12-01 16:44:11,611 - TPE using 0 trials\n",
            "100%|██████████| 1/1 [00:00<00:00,  2.63trial/s, best loss: 8.589285553932745]\n",
            " 10%|█         | 1/10 [00:00<?, ?trial/s, best loss=?]"
          ]
        },
        {
          "output_type": "stream",
          "name": "stderr",
          "text": [
            "INFO:hyperopt.tpe:build_posterior_wrapper took 0.001821 seconds\n"
          ]
        },
        {
          "output_type": "stream",
          "name": "stdout",
          "text": [
            "2022-12-01 16:44:11,987 - build_posterior_wrapper took 0.001821 seconds\n"
          ]
        },
        {
          "output_type": "stream",
          "name": "stderr",
          "text": [
            "INFO:hyperopt.tpe:TPE using 1/1 trials with best loss 8.589286\n"
          ]
        },
        {
          "output_type": "stream",
          "name": "stdout",
          "text": [
            "2022-12-01 16:44:12,007 - TPE using 1/1 trials with best loss 8.589286\n",
            " 20%|██        | 2/10 [00:00<00:04,  1.94trial/s, best loss: 8.589285553932745]"
          ]
        },
        {
          "output_type": "stream",
          "name": "stderr",
          "text": [
            "INFO:hyperopt.tpe:build_posterior_wrapper took 0.001751 seconds\n"
          ]
        },
        {
          "output_type": "stream",
          "name": "stdout",
          "text": [
            "2022-12-01 16:44:12,508 - build_posterior_wrapper took 0.001751 seconds\n"
          ]
        },
        {
          "output_type": "stream",
          "name": "stderr",
          "text": [
            "INFO:hyperopt.tpe:TPE using 2/2 trials with best loss 8.589286\n"
          ]
        },
        {
          "output_type": "stream",
          "name": "stdout",
          "text": [
            "2022-12-01 16:44:12,517 - TPE using 2/2 trials with best loss 8.589286\n",
            " 30%|███       | 3/10 [00:01<00:05,  1.36trial/s, best loss: 8.589285553932745]"
          ]
        },
        {
          "output_type": "stream",
          "name": "stderr",
          "text": [
            "INFO:hyperopt.tpe:build_posterior_wrapper took 0.001760 seconds\n"
          ]
        },
        {
          "output_type": "stream",
          "name": "stdout",
          "text": [
            "2022-12-01 16:44:13,398 - build_posterior_wrapper took 0.001760 seconds\n"
          ]
        },
        {
          "output_type": "stream",
          "name": "stderr",
          "text": [
            "INFO:hyperopt.tpe:TPE using 3/3 trials with best loss 8.589286\n"
          ]
        },
        {
          "output_type": "stream",
          "name": "stdout",
          "text": [
            "2022-12-01 16:44:13,415 - TPE using 3/3 trials with best loss 8.589286\n",
            " 40%|████      | 4/10 [00:01<00:03,  1.79trial/s, best loss: 3.464497298223333]"
          ]
        },
        {
          "output_type": "stream",
          "name": "stderr",
          "text": [
            "INFO:hyperopt.tpe:build_posterior_wrapper took 0.001744 seconds\n"
          ]
        },
        {
          "output_type": "stream",
          "name": "stdout",
          "text": [
            "2022-12-01 16:44:13,748 - build_posterior_wrapper took 0.001744 seconds\n"
          ]
        },
        {
          "output_type": "stream",
          "name": "stderr",
          "text": [
            "INFO:hyperopt.tpe:TPE using 4/4 trials with best loss 3.464497\n"
          ]
        },
        {
          "output_type": "stream",
          "name": "stdout",
          "text": [
            "2022-12-01 16:44:13,755 - TPE using 4/4 trials with best loss 3.464497\n",
            " 50%|█████     | 5/10 [00:02<00:02,  2.18trial/s, best loss: 2.660029905610802]"
          ]
        },
        {
          "output_type": "stream",
          "name": "stderr",
          "text": [
            "INFO:hyperopt.tpe:build_posterior_wrapper took 0.001876 seconds\n"
          ]
        },
        {
          "output_type": "stream",
          "name": "stdout",
          "text": [
            "2022-12-01 16:44:14,051 - build_posterior_wrapper took 0.001876 seconds\n"
          ]
        },
        {
          "output_type": "stream",
          "name": "stderr",
          "text": [
            "INFO:hyperopt.tpe:TPE using 5/5 trials with best loss 2.660030\n"
          ]
        },
        {
          "output_type": "stream",
          "name": "stdout",
          "text": [
            "2022-12-01 16:44:14,066 - TPE using 5/5 trials with best loss 2.660030\n",
            " 60%|██████    | 6/10 [00:02<00:01,  2.40trial/s, best loss: 2.660029905610802]"
          ]
        },
        {
          "output_type": "stream",
          "name": "stderr",
          "text": [
            "INFO:hyperopt.tpe:build_posterior_wrapper took 0.002080 seconds\n"
          ]
        },
        {
          "output_type": "stream",
          "name": "stdout",
          "text": [
            "2022-12-01 16:44:14,393 - build_posterior_wrapper took 0.002080 seconds\n"
          ]
        },
        {
          "output_type": "stream",
          "name": "stderr",
          "text": [
            "INFO:hyperopt.tpe:TPE using 6/6 trials with best loss 2.660030\n"
          ]
        },
        {
          "output_type": "stream",
          "name": "stdout",
          "text": [
            "2022-12-01 16:44:14,406 - TPE using 6/6 trials with best loss 2.660030\n",
            " 70%|███████   | 7/10 [00:02<00:01,  2.19trial/s, best loss: 2.660029905610802]"
          ]
        },
        {
          "output_type": "stream",
          "name": "stderr",
          "text": [
            "INFO:hyperopt.tpe:build_posterior_wrapper took 0.001751 seconds\n"
          ]
        },
        {
          "output_type": "stream",
          "name": "stdout",
          "text": [
            "2022-12-01 16:44:14,926 - build_posterior_wrapper took 0.001751 seconds\n"
          ]
        },
        {
          "output_type": "stream",
          "name": "stderr",
          "text": [
            "INFO:hyperopt.tpe:TPE using 7/7 trials with best loss 2.660030\n"
          ]
        },
        {
          "output_type": "stream",
          "name": "stdout",
          "text": [
            "2022-12-01 16:44:14,944 - TPE using 7/7 trials with best loss 2.660030\n",
            " 80%|████████  | 8/10 [00:03<00:00,  2.27trial/s, best loss: 2.660029905610802]"
          ]
        },
        {
          "output_type": "stream",
          "name": "stderr",
          "text": [
            "INFO:hyperopt.tpe:build_posterior_wrapper took 0.002318 seconds\n"
          ]
        },
        {
          "output_type": "stream",
          "name": "stdout",
          "text": [
            "2022-12-01 16:44:15,331 - build_posterior_wrapper took 0.002318 seconds\n"
          ]
        },
        {
          "output_type": "stream",
          "name": "stderr",
          "text": [
            "INFO:hyperopt.tpe:TPE using 8/8 trials with best loss 2.660030\n"
          ]
        },
        {
          "output_type": "stream",
          "name": "stdout",
          "text": [
            "2022-12-01 16:44:15,357 - TPE using 8/8 trials with best loss 2.660030\n",
            " 90%|█████████ | 9/10 [00:03<00:00,  2.12trial/s, best loss: 2.660029905610802]"
          ]
        },
        {
          "output_type": "stream",
          "name": "stderr",
          "text": [
            "INFO:hyperopt.tpe:build_posterior_wrapper took 0.003084 seconds\n"
          ]
        },
        {
          "output_type": "stream",
          "name": "stdout",
          "text": [
            "2022-12-01 16:44:15,874 - build_posterior_wrapper took 0.003084 seconds\n"
          ]
        },
        {
          "output_type": "stream",
          "name": "stderr",
          "text": [
            "INFO:hyperopt.tpe:TPE using 9/9 trials with best loss 2.660030\n"
          ]
        },
        {
          "output_type": "stream",
          "name": "stdout",
          "text": [
            "2022-12-01 16:44:15,881 - TPE using 9/9 trials with best loss 2.660030\n",
            "100%|██████████| 10/10 [00:04<00:00,  2.00trial/s, best loss: 2.660029905610802]\n"
          ]
        },
        {
          "output_type": "stream",
          "name": "stderr",
          "text": [
            "INFO:root:PipelineTuner - Hyperparameters optimization finished\n"
          ]
        },
        {
          "output_type": "stream",
          "name": "stdout",
          "text": [
            "2022-12-01 16:44:16,789 - PipelineTuner - Hyperparameters optimization finished\n"
          ]
        },
        {
          "output_type": "stream",
          "name": "stderr",
          "text": [
            "INFO:root:PipelineTuner - Return tuned pipeline due to the fact that obtained metric 2.660 equal or better than initial (+ 5% deviation) 9.019\n"
          ]
        },
        {
          "output_type": "stream",
          "name": "stdout",
          "text": [
            "2022-12-01 16:44:16,798 - PipelineTuner - Return tuned pipeline due to the fact that obtained metric 2.660 equal or better than initial (+ 5% deviation) 9.019\n"
          ]
        },
        {
          "output_type": "stream",
          "name": "stderr",
          "text": [
            "CRITICAL:root:PipelineTuner - Final pipeline: {'depth': 3, 'length': 3, 'nodes': [ridge, ridge, lagged]}\n",
            "ridge - {'alpha': 0.5924162356238623}\n",
            "ridge - {'alpha': 8.237108304830153}\n",
            "lagged - {'window_size': 26}\n"
          ]
        },
        {
          "output_type": "stream",
          "name": "stdout",
          "text": [
            "2022-12-01 16:44:16,805 - PipelineTuner - Final pipeline: {'depth': 3, 'length': 3, 'nodes': [ridge, ridge, lagged]}\n",
            "ridge - {'alpha': 0.5924162356238623}\n",
            "ridge - {'alpha': 8.237108304830153}\n",
            "lagged - {'window_size': 26}\n"
          ]
        },
        {
          "output_type": "stream",
          "name": "stderr",
          "text": [
            "CRITICAL:root:PipelineTuner - Final metric: 2.660\n"
          ]
        },
        {
          "output_type": "stream",
          "name": "stdout",
          "text": [
            "2022-12-01 16:44:16,815 - PipelineTuner - Final metric: 2.660\n",
            "Fitting pipeline №5\n"
          ]
        },
        {
          "output_type": "display_data",
          "data": {
            "text/plain": [
              "<Figure size 700x700 with 1 Axes>"
            ],
            "image/png": "[encoded data removed]"
          },
          "metadata": {}
        },
        {
          "output_type": "stream",
          "name": "stderr",
          "text": [
            "INFO:root:PipelineTuner - Hyperparameters optimization start\n"
          ]
        },
        {
          "output_type": "stream",
          "name": "stdout",
          "text": [
            "2022-12-01 16:44:17,515 - PipelineTuner - Hyperparameters optimization start\n"
          ]
        },
        {
          "output_type": "stream",
          "name": "stderr",
          "text": [
            "CRITICAL:root:PipelineTuner - Initial pipeline: {'depth': 2, 'length': 3, 'nodes': [ridge, glm, lagged]}\n",
            "ridge - {}\n",
            "glm - {'family': 'gaussian', 'link': 'identity'}\n",
            "lagged - {'window_size': 10} \n",
            "Initial metric: 1.350\n"
          ]
        },
        {
          "output_type": "stream",
          "name": "stdout",
          "text": [
            "2022-12-01 16:44:18,031 - PipelineTuner - Initial pipeline: {'depth': 2, 'length': 3, 'nodes': [ridge, glm, lagged]}\n",
            "ridge - {}\n",
            "glm - {'family': 'gaussian', 'link': 'identity'}\n",
            "lagged - {'window_size': 10} \n",
            "Initial metric: 1.350\n",
            "  0%|          | 0/1 [00:00<?, ?trial/s, best loss=?]"
          ]
        },
        {
          "output_type": "stream",
          "name": "stderr",
          "text": [
            "INFO:hyperopt.tpe:build_posterior_wrapper took 0.008431 seconds\n"
          ]
        },
        {
          "output_type": "stream",
          "name": "stdout",
          "text": [
            "2022-12-01 16:44:18,060 - build_posterior_wrapper took 0.008431 seconds\n"
          ]
        },
        {
          "output_type": "stream",
          "name": "stderr",
          "text": [
            "INFO:hyperopt.tpe:TPE using 0 trials\n"
          ]
        },
        {
          "output_type": "stream",
          "name": "stdout",
          "text": [
            "2022-12-01 16:44:18,065 - TPE using 0 trials\n",
            "100%|██████████| 1/1 [00:00<00:00,  1.82trial/s, best loss: 1.3506489818123493]\n",
            " 10%|█         | 1/10 [00:00<?, ?trial/s, best loss=?]"
          ]
        },
        {
          "output_type": "stream",
          "name": "stderr",
          "text": [
            "INFO:hyperopt.tpe:build_posterior_wrapper took 0.007120 seconds\n"
          ]
        },
        {
          "output_type": "stream",
          "name": "stdout",
          "text": [
            "2022-12-01 16:44:18,631 - build_posterior_wrapper took 0.007120 seconds\n"
          ]
        },
        {
          "output_type": "stream",
          "name": "stderr",
          "text": [
            "INFO:hyperopt.tpe:TPE using 1/1 trials with best loss 1.350649\n"
          ]
        },
        {
          "output_type": "stream",
          "name": "stdout",
          "text": [
            "2022-12-01 16:44:18,639 - TPE using 1/1 trials with best loss 1.350649\n",
            " 20%|██        | 2/10 [00:01<00:12,  1.60s/trial, best loss: 1.3506489818123493]"
          ]
        },
        {
          "output_type": "stream",
          "name": "stderr",
          "text": [
            "INFO:hyperopt.tpe:build_posterior_wrapper took 0.011446 seconds\n"
          ]
        },
        {
          "output_type": "stream",
          "name": "stdout",
          "text": [
            "2022-12-01 16:44:20,243 - build_posterior_wrapper took 0.011446 seconds\n"
          ]
        },
        {
          "output_type": "stream",
          "name": "stderr",
          "text": [
            "INFO:hyperopt.tpe:TPE using 2/2 trials with best loss 1.350649\n"
          ]
        },
        {
          "output_type": "stream",
          "name": "stdout",
          "text": [
            "2022-12-01 16:44:20,250 - TPE using 2/2 trials with best loss 1.350649\n",
            " 30%|███       | 3/10 [00:03<00:13,  1.88s/trial, best loss: 1.3506489818123493]"
          ]
        },
        {
          "output_type": "stream",
          "name": "stderr",
          "text": [
            "INFO:hyperopt.tpe:build_posterior_wrapper took 0.013097 seconds\n"
          ]
        },
        {
          "output_type": "stream",
          "name": "stdout",
          "text": [
            "2022-12-01 16:44:22,328 - build_posterior_wrapper took 0.013097 seconds\n"
          ]
        },
        {
          "output_type": "stream",
          "name": "stderr",
          "text": [
            "INFO:hyperopt.tpe:TPE using 3/3 trials with best loss 1.350649\n"
          ]
        },
        {
          "output_type": "stream",
          "name": "stdout",
          "text": [
            "2022-12-01 16:44:22,354 - TPE using 3/3 trials with best loss 1.350649\n",
            " 40%|████      | 4/10 [00:04<00:07,  1.29s/trial, best loss: 1.3506489818123493]"
          ]
        },
        {
          "output_type": "stream",
          "name": "stderr",
          "text": [
            "INFO:hyperopt.tpe:build_posterior_wrapper took 0.006926 seconds\n"
          ]
        },
        {
          "output_type": "stream",
          "name": "stdout",
          "text": [
            "2022-12-01 16:44:22,907 - build_posterior_wrapper took 0.006926 seconds\n"
          ]
        },
        {
          "output_type": "stream",
          "name": "stderr",
          "text": [
            "INFO:hyperopt.tpe:TPE using 4/4 trials with best loss 1.350649\n"
          ]
        },
        {
          "output_type": "stream",
          "name": "stdout",
          "text": [
            "2022-12-01 16:44:22,923 - TPE using 4/4 trials with best loss 1.350649\n",
            " 50%|█████     | 5/10 [00:06<00:07,  1.55s/trial, best loss: 1.3506489818123493]"
          ]
        },
        {
          "output_type": "stream",
          "name": "stderr",
          "text": [
            "INFO:hyperopt.tpe:build_posterior_wrapper took 0.009856 seconds\n"
          ]
        },
        {
          "output_type": "stream",
          "name": "stdout",
          "text": [
            "2022-12-01 16:44:24,838 - build_posterior_wrapper took 0.009856 seconds\n"
          ]
        },
        {
          "output_type": "stream",
          "name": "stderr",
          "text": [
            "INFO:hyperopt.tpe:TPE using 5/5 trials with best loss 1.350649\n"
          ]
        },
        {
          "output_type": "stream",
          "name": "stdout",
          "text": [
            "2022-12-01 16:44:24,844 - TPE using 5/5 trials with best loss 1.350649\n",
            " 60%|██████    | 6/10 [00:08<00:07,  1.88s/trial, best loss: 1.3506489818123493]"
          ]
        },
        {
          "output_type": "stream",
          "name": "stderr",
          "text": [
            "INFO:hyperopt.tpe:build_posterior_wrapper took 0.003867 seconds\n"
          ]
        },
        {
          "output_type": "stream",
          "name": "stdout",
          "text": [
            "2022-12-01 16:44:27,303 - build_posterior_wrapper took 0.003867 seconds\n"
          ]
        },
        {
          "output_type": "stream",
          "name": "stderr",
          "text": [
            "INFO:hyperopt.tpe:TPE using 6/6 trials with best loss 1.350649\n"
          ]
        },
        {
          "output_type": "stream",
          "name": "stdout",
          "text": [
            "2022-12-01 16:44:27,317 - TPE using 6/6 trials with best loss 1.350649\n",
            " 70%|███████   | 7/10 [00:09<00:04,  1.60s/trial, best loss: 1.3506489818123493]"
          ]
        },
        {
          "output_type": "stream",
          "name": "stderr",
          "text": [
            "INFO:hyperopt.tpe:build_posterior_wrapper took 0.004040 seconds\n"
          ]
        },
        {
          "output_type": "stream",
          "name": "stdout",
          "text": [
            "2022-12-01 16:44:28,352 - build_posterior_wrapper took 0.004040 seconds\n"
          ]
        },
        {
          "output_type": "stream",
          "name": "stderr",
          "text": [
            "INFO:hyperopt.tpe:TPE using 7/7 trials with best loss 1.350649\n"
          ]
        },
        {
          "output_type": "stream",
          "name": "stdout",
          "text": [
            "2022-12-01 16:44:28,368 - TPE using 7/7 trials with best loss 1.350649\n",
            " 80%|████████  | 8/10 [00:10<00:02,  1.36s/trial, best loss: 1.3506489818123493]"
          ]
        },
        {
          "output_type": "stream",
          "name": "stderr",
          "text": [
            "INFO:hyperopt.tpe:build_posterior_wrapper took 0.008242 seconds\n"
          ]
        },
        {
          "output_type": "stream",
          "name": "stdout",
          "text": [
            "2022-12-01 16:44:29,226 - build_posterior_wrapper took 0.008242 seconds\n"
          ]
        },
        {
          "output_type": "stream",
          "name": "stderr",
          "text": [
            "INFO:hyperopt.tpe:TPE using 8/8 trials with best loss 1.350649\n"
          ]
        },
        {
          "output_type": "stream",
          "name": "stdout",
          "text": [
            "2022-12-01 16:44:29,231 - TPE using 8/8 trials with best loss 1.350649\n",
            " 90%|█████████ | 9/10 [00:11<00:01,  1.16s/trial, best loss: 1.3506489818123493]"
          ]
        },
        {
          "output_type": "stream",
          "name": "stderr",
          "text": [
            "INFO:hyperopt.tpe:build_posterior_wrapper took 0.004063 seconds\n"
          ]
        },
        {
          "output_type": "stream",
          "name": "stdout",
          "text": [
            "2022-12-01 16:44:29,939 - build_posterior_wrapper took 0.004063 seconds\n"
          ]
        },
        {
          "output_type": "stream",
          "name": "stderr",
          "text": [
            "INFO:hyperopt.tpe:TPE using 9/9 trials with best loss 1.350649\n"
          ]
        },
        {
          "output_type": "stream",
          "name": "stdout",
          "text": [
            "2022-12-01 16:44:29,958 - TPE using 9/9 trials with best loss 1.350649\n",
            "100%|██████████| 10/10 [00:13<00:00,  1.48s/trial, best loss: 1.3506489818123493]\n"
          ]
        },
        {
          "output_type": "stream",
          "name": "stderr",
          "text": [
            "INFO:root:PipelineTuner - Hyperparameters optimization finished\n"
          ]
        },
        {
          "output_type": "stream",
          "name": "stdout",
          "text": [
            "2022-12-01 16:44:32,507 - PipelineTuner - Hyperparameters optimization finished\n"
          ]
        },
        {
          "output_type": "stream",
          "name": "stderr",
          "text": [
            "INFO:root:PipelineTuner - Return tuned pipeline due to the fact that obtained metric 1.351 equal or better than initial (+ 5% deviation) 1.418\n"
          ]
        },
        {
          "output_type": "stream",
          "name": "stdout",
          "text": [
            "2022-12-01 16:44:32,520 - PipelineTuner - Return tuned pipeline due to the fact that obtained metric 1.351 equal or better than initial (+ 5% deviation) 1.418\n"
          ]
        },
        {
          "output_type": "stream",
          "name": "stderr",
          "text": [
            "CRITICAL:root:PipelineTuner - Final pipeline: {'depth': 2, 'length': 3, 'nodes': [ridge, glm, lagged]}\n",
            "ridge - {'alpha': 5.285889458239712}\n",
            "glm - {'family': 'inverse_gaussian', 'link': 'identity'}\n",
            "lagged - {'window_size': 10}\n"
          ]
        },
        {
          "output_type": "stream",
          "name": "stdout",
          "text": [
            "2022-12-01 16:44:32,528 - PipelineTuner - Final pipeline: {'depth': 2, 'length': 3, 'nodes': [ridge, glm, lagged]}\n",
            "ridge - {'alpha': 5.285889458239712}\n",
            "glm - {'family': 'inverse_gaussian', 'link': 'identity'}\n",
            "lagged - {'window_size': 10}\n"
          ]
        },
        {
          "output_type": "stream",
          "name": "stderr",
          "text": [
            "CRITICAL:root:PipelineTuner - Final metric: 1.351\n"
          ]
        },
        {
          "output_type": "stream",
          "name": "stdout",
          "text": [
            "2022-12-01 16:44:32,535 - PipelineTuner - Final metric: 1.351\n"
          ]
        },
        {
          "output_type": "stream",
          "name": "stderr",
          "text": [
            "INFO:root:PipelineTuner - Hyperparameters optimization start\n"
          ]
        },
        {
          "output_type": "stream",
          "name": "stdout",
          "text": [
            "2022-12-01 16:44:33,055 - PipelineTuner - Hyperparameters optimization start\n"
          ]
        },
        {
          "output_type": "stream",
          "name": "stderr",
          "text": [
            "CRITICAL:root:PipelineTuner - Initial pipeline: {'depth': 2, 'length': 3, 'nodes': [ridge, glm, lagged]}\n",
            "ridge - {'alpha': 5.285889458239712}\n",
            "glm - {'family': 'inverse_gaussian', 'link': 'identity'}\n",
            "lagged - {'window_size': 10} \n",
            "Initial metric: 12.024\n"
          ]
        },
        {
          "output_type": "stream",
          "name": "stdout",
          "text": [
            "2022-12-01 16:44:33,565 - PipelineTuner - Initial pipeline: {'depth': 2, 'length': 3, 'nodes': [ridge, glm, lagged]}\n",
            "ridge - {'alpha': 5.285889458239712}\n",
            "glm - {'family': 'inverse_gaussian', 'link': 'identity'}\n",
            "lagged - {'window_size': 10} \n",
            "Initial metric: 12.024\n",
            "  0%|          | 0/1 [00:00<?, ?trial/s, best loss=?]"
          ]
        },
        {
          "output_type": "stream",
          "name": "stderr",
          "text": [
            "INFO:hyperopt.tpe:build_posterior_wrapper took 0.013777 seconds\n"
          ]
        },
        {
          "output_type": "stream",
          "name": "stdout",
          "text": [
            "2022-12-01 16:44:33,597 - build_posterior_wrapper took 0.013777 seconds\n"
          ]
        },
        {
          "output_type": "stream",
          "name": "stderr",
          "text": [
            "INFO:hyperopt.tpe:TPE using 0 trials\n"
          ]
        },
        {
          "output_type": "stream",
          "name": "stdout",
          "text": [
            "2022-12-01 16:44:33,612 - TPE using 0 trials\n",
            "100%|██████████| 1/1 [00:00<00:00,  1.78trial/s, best loss: 7.925382114878761]\n",
            " 10%|█         | 1/10 [00:00<?, ?trial/s, best loss=?]"
          ]
        },
        {
          "output_type": "stream",
          "name": "stderr",
          "text": [
            "INFO:hyperopt.tpe:build_posterior_wrapper took 0.007933 seconds\n"
          ]
        },
        {
          "output_type": "stream",
          "name": "stdout",
          "text": [
            "2022-12-01 16:44:34,176 - build_posterior_wrapper took 0.007933 seconds\n"
          ]
        },
        {
          "output_type": "stream",
          "name": "stderr",
          "text": [
            "INFO:hyperopt.tpe:TPE using 1/1 trials with best loss 7.925382\n"
          ]
        },
        {
          "output_type": "stream",
          "name": "stdout",
          "text": [
            "2022-12-01 16:44:34,185 - TPE using 1/1 trials with best loss 7.925382\n",
            " 20%|██        | 2/10 [00:00<00:05,  1.38trial/s, best loss: 7.925382114878761]"
          ]
        },
        {
          "output_type": "stream",
          "name": "stderr",
          "text": [
            "INFO:hyperopt.tpe:build_posterior_wrapper took 0.004024 seconds\n"
          ]
        },
        {
          "output_type": "stream",
          "name": "stdout",
          "text": [
            "2022-12-01 16:44:34,906 - build_posterior_wrapper took 0.004024 seconds\n"
          ]
        },
        {
          "output_type": "stream",
          "name": "stderr",
          "text": [
            "INFO:hyperopt.tpe:TPE using 2/2 trials with best loss 7.925382\n"
          ]
        },
        {
          "output_type": "stream",
          "name": "stdout",
          "text": [
            "2022-12-01 16:44:34,922 - TPE using 2/2 trials with best loss 7.925382\n",
            " 30%|███       | 3/10 [00:01<00:04,  1.49trial/s, best loss: 7.925382114878761]"
          ]
        },
        {
          "output_type": "stream",
          "name": "stderr",
          "text": [
            "INFO:hyperopt.tpe:build_posterior_wrapper took 0.004050 seconds\n"
          ]
        },
        {
          "output_type": "stream",
          "name": "stdout",
          "text": [
            "2022-12-01 16:44:35,537 - build_posterior_wrapper took 0.004050 seconds\n"
          ]
        },
        {
          "output_type": "stream",
          "name": "stderr",
          "text": [
            "INFO:hyperopt.tpe:TPE using 3/3 trials with best loss 7.925382\n"
          ]
        },
        {
          "output_type": "stream",
          "name": "stdout",
          "text": [
            "2022-12-01 16:44:35,554 - TPE using 3/3 trials with best loss 7.925382\n",
            " 40%|████      | 4/10 [00:02<00:05,  1.02trial/s, best loss: 7.925382114878761]"
          ]
        },
        {
          "output_type": "stream",
          "name": "stderr",
          "text": [
            "INFO:hyperopt.tpe:build_posterior_wrapper took 0.004027 seconds\n"
          ]
        },
        {
          "output_type": "stream",
          "name": "stdout",
          "text": [
            "2022-12-01 16:44:36,887 - build_posterior_wrapper took 0.004027 seconds\n"
          ]
        },
        {
          "output_type": "stream",
          "name": "stderr",
          "text": [
            "INFO:hyperopt.tpe:TPE using 4/4 trials with best loss 7.925382\n"
          ]
        },
        {
          "output_type": "stream",
          "name": "stdout",
          "text": [
            "2022-12-01 16:44:36,906 - TPE using 4/4 trials with best loss 7.925382\n",
            " 50%|█████     | 5/10 [00:03<00:04,  1.19trial/s, best loss: 7.925382114878761]"
          ]
        },
        {
          "output_type": "stream",
          "name": "stderr",
          "text": [
            "INFO:hyperopt.tpe:build_posterior_wrapper took 0.004234 seconds\n"
          ]
        },
        {
          "output_type": "stream",
          "name": "stdout",
          "text": [
            "2022-12-01 16:44:37,514 - build_posterior_wrapper took 0.004234 seconds\n"
          ]
        },
        {
          "output_type": "stream",
          "name": "stderr",
          "text": [
            "INFO:hyperopt.tpe:TPE using 5/5 trials with best loss 7.925382\n"
          ]
        },
        {
          "output_type": "stream",
          "name": "stdout",
          "text": [
            "2022-12-01 16:44:37,531 - TPE using 5/5 trials with best loss 7.925382\n",
            " 60%|██████    | 6/10 [00:04<00:04,  1.09s/trial, best loss: 7.925382114878761]"
          ]
        },
        {
          "output_type": "stream",
          "name": "stderr",
          "text": [
            "INFO:hyperopt.tpe:build_posterior_wrapper took 0.003965 seconds\n"
          ]
        },
        {
          "output_type": "stream",
          "name": "stdout",
          "text": [
            "2022-12-01 16:44:39,028 - build_posterior_wrapper took 0.003965 seconds\n"
          ]
        },
        {
          "output_type": "stream",
          "name": "stderr",
          "text": [
            "INFO:hyperopt.tpe:TPE using 6/6 trials with best loss 7.925382\n"
          ]
        },
        {
          "output_type": "stream",
          "name": "stdout",
          "text": [
            "2022-12-01 16:44:39,044 - TPE using 6/6 trials with best loss 7.925382\n",
            " 70%|███████   | 7/10 [00:05<00:03,  1.10s/trial, best loss: 7.925382114878761]"
          ]
        },
        {
          "output_type": "stream",
          "name": "stderr",
          "text": [
            "INFO:hyperopt.tpe:build_posterior_wrapper took 0.003882 seconds\n"
          ]
        },
        {
          "output_type": "stream",
          "name": "stdout",
          "text": [
            "2022-12-01 16:44:40,143 - build_posterior_wrapper took 0.003882 seconds\n"
          ]
        },
        {
          "output_type": "stream",
          "name": "stderr",
          "text": [
            "INFO:hyperopt.tpe:TPE using 7/7 trials with best loss 7.925382\n"
          ]
        },
        {
          "output_type": "stream",
          "name": "stdout",
          "text": [
            "2022-12-01 16:44:40,160 - TPE using 7/7 trials with best loss 7.925382\n",
            " 80%|████████  | 8/10 [00:07<00:02,  1.37s/trial, best loss: 7.26506085086339] "
          ]
        },
        {
          "output_type": "stream",
          "name": "stderr",
          "text": [
            "INFO:hyperopt.tpe:build_posterior_wrapper took 0.010700 seconds\n"
          ]
        },
        {
          "output_type": "stream",
          "name": "stdout",
          "text": [
            "2022-12-01 16:44:42,099 - build_posterior_wrapper took 0.010700 seconds\n"
          ]
        },
        {
          "output_type": "stream",
          "name": "stderr",
          "text": [
            "INFO:hyperopt.tpe:TPE using 8/8 trials with best loss 7.265061\n"
          ]
        },
        {
          "output_type": "stream",
          "name": "stdout",
          "text": [
            "2022-12-01 16:44:42,104 - TPE using 8/8 trials with best loss 7.265061\n",
            " 90%|█████████ | 9/10 [00:09<00:01,  1.34s/trial, best loss: 7.26506085086339]"
          ]
        },
        {
          "output_type": "stream",
          "name": "stderr",
          "text": [
            "INFO:hyperopt.tpe:build_posterior_wrapper took 0.005621 seconds\n"
          ]
        },
        {
          "output_type": "stream",
          "name": "stdout",
          "text": [
            "2022-12-01 16:44:43,373 - build_posterior_wrapper took 0.005621 seconds\n"
          ]
        },
        {
          "output_type": "stream",
          "name": "stderr",
          "text": [
            "INFO:hyperopt.tpe:TPE using 9/9 trials with best loss 7.265061\n"
          ]
        },
        {
          "output_type": "stream",
          "name": "stdout",
          "text": [
            "2022-12-01 16:44:43,387 - TPE using 9/9 trials with best loss 7.265061\n",
            "100%|██████████| 10/10 [00:09<00:00,  1.10s/trial, best loss: 7.26506085086339]\n"
          ]
        },
        {
          "output_type": "stream",
          "name": "stderr",
          "text": [
            "INFO:root:PipelineTuner - Hyperparameters optimization finished\n"
          ]
        },
        {
          "output_type": "stream",
          "name": "stdout",
          "text": [
            "2022-12-01 16:44:46,029 - PipelineTuner - Hyperparameters optimization finished\n"
          ]
        },
        {
          "output_type": "stream",
          "name": "stderr",
          "text": [
            "INFO:root:PipelineTuner - Return tuned pipeline due to the fact that obtained metric 7.265 equal or better than initial (+ 5% deviation) 12.625\n"
          ]
        },
        {
          "output_type": "stream",
          "name": "stdout",
          "text": [
            "2022-12-01 16:44:46,042 - PipelineTuner - Return tuned pipeline due to the fact that obtained metric 7.265 equal or better than initial (+ 5% deviation) 12.625\n"
          ]
        },
        {
          "output_type": "stream",
          "name": "stderr",
          "text": [
            "CRITICAL:root:PipelineTuner - Final pipeline: {'depth': 2, 'length': 3, 'nodes': [ridge, glm, lagged]}\n",
            "ridge - {'alpha': 8.348560689607432}\n",
            "glm - {'family': 'gaussian', 'link': 'log'}\n",
            "lagged - {'window_size': 448}\n"
          ]
        },
        {
          "output_type": "stream",
          "name": "stdout",
          "text": [
            "2022-12-01 16:44:46,051 - PipelineTuner - Final pipeline: {'depth': 2, 'length': 3, 'nodes': [ridge, glm, lagged]}\n",
            "ridge - {'alpha': 8.348560689607432}\n",
            "glm - {'family': 'gaussian', 'link': 'log'}\n",
            "lagged - {'window_size': 448}\n"
          ]
        },
        {
          "output_type": "stream",
          "name": "stderr",
          "text": [
            "CRITICAL:root:PipelineTuner - Final metric: 7.265\n"
          ]
        },
        {
          "output_type": "stream",
          "name": "stdout",
          "text": [
            "2022-12-01 16:44:46,059 - PipelineTuner - Final metric: 7.265\n",
            "Fitting pipeline №6\n"
          ]
        },
        {
          "output_type": "display_data",
          "data": {
            "text/plain": [
              "<Figure size 700x700 with 1 Axes>"
            ],
            "image/png": "[encoded data removed]"
          },
          "metadata": {}
        },
        {
          "output_type": "stream",
          "name": "stderr",
          "text": [
            "INFO:root:PipelineTuner - Hyperparameters optimization start\n"
          ]
        },
        {
          "output_type": "stream",
          "name": "stdout",
          "text": [
            "2022-12-01 16:44:48,895 - PipelineTuner - Hyperparameters optimization start\n"
          ]
        },
        {
          "output_type": "stream",
          "name": "stderr",
          "text": [
            "CRITICAL:root:PipelineTuner - Initial pipeline: {'depth': 3, 'length': 4, 'nodes': [ridge, glm, ridge, lagged]}\n",
            "ridge - {}\n",
            "glm - {'family': 'gaussian', 'link': 'identity'}\n",
            "ridge - {}\n",
            "lagged - {'window_size': 10} \n",
            "Initial metric: 1.350\n"
          ]
        },
        {
          "output_type": "stream",
          "name": "stdout",
          "text": [
            "2022-12-01 16:44:49,391 - PipelineTuner - Initial pipeline: {'depth': 3, 'length': 4, 'nodes': [ridge, glm, ridge, lagged]}\n",
            "ridge - {}\n",
            "glm - {'family': 'gaussian', 'link': 'identity'}\n",
            "ridge - {}\n",
            "lagged - {'window_size': 10} \n",
            "Initial metric: 1.350\n",
            "  0%|          | 0/1 [00:00<?, ?trial/s, best loss=?]"
          ]
        },
        {
          "output_type": "stream",
          "name": "stderr",
          "text": [
            "INFO:hyperopt.tpe:build_posterior_wrapper took 0.005683 seconds\n"
          ]
        },
        {
          "output_type": "stream",
          "name": "stdout",
          "text": [
            "2022-12-01 16:44:49,416 - build_posterior_wrapper took 0.005683 seconds\n"
          ]
        },
        {
          "output_type": "stream",
          "name": "stderr",
          "text": [
            "INFO:hyperopt.tpe:TPE using 0 trials\n"
          ]
        },
        {
          "output_type": "stream",
          "name": "stdout",
          "text": [
            "2022-12-01 16:44:49,424 - TPE using 0 trials\n",
            "100%|██████████| 1/1 [00:00<00:00,  1.78trial/s, best loss: 2.7326299190766155]\n",
            " 10%|█         | 1/10 [00:00<?, ?trial/s, best loss=?]"
          ]
        },
        {
          "output_type": "stream",
          "name": "stderr",
          "text": [
            "INFO:hyperopt.tpe:build_posterior_wrapper took 0.004960 seconds\n"
          ]
        },
        {
          "output_type": "stream",
          "name": "stdout",
          "text": [
            "2022-12-01 16:44:49,996 - build_posterior_wrapper took 0.004960 seconds\n"
          ]
        },
        {
          "output_type": "stream",
          "name": "stderr",
          "text": [
            "INFO:hyperopt.tpe:TPE using 1/1 trials with best loss 2.732630\n"
          ]
        },
        {
          "output_type": "stream",
          "name": "stdout",
          "text": [
            "2022-12-01 16:44:50,003 - TPE using 1/1 trials with best loss 2.732630\n",
            " 20%|██        | 2/10 [00:00<00:07,  1.14trial/s, best loss: 1.8603629720298074]"
          ]
        },
        {
          "output_type": "stream",
          "name": "stderr",
          "text": [
            "INFO:hyperopt.tpe:build_posterior_wrapper took 0.007516 seconds\n"
          ]
        },
        {
          "output_type": "stream",
          "name": "stdout",
          "text": [
            "2022-12-01 16:44:50,885 - build_posterior_wrapper took 0.007516 seconds\n"
          ]
        },
        {
          "output_type": "stream",
          "name": "stderr",
          "text": [
            "INFO:hyperopt.tpe:TPE using 2/2 trials with best loss 1.860363\n"
          ]
        },
        {
          "output_type": "stream",
          "name": "stdout",
          "text": [
            "2022-12-01 16:44:50,899 - TPE using 2/2 trials with best loss 1.860363\n",
            " 30%|███       | 3/10 [00:02<00:09,  1.29s/trial, best loss: 1.8603629720298074]"
          ]
        },
        {
          "output_type": "stream",
          "name": "stderr",
          "text": [
            "INFO:hyperopt.tpe:build_posterior_wrapper took 0.007483 seconds\n"
          ]
        },
        {
          "output_type": "stream",
          "name": "stdout",
          "text": [
            "2022-12-01 16:44:52,454 - build_posterior_wrapper took 0.007483 seconds\n"
          ]
        },
        {
          "output_type": "stream",
          "name": "stderr",
          "text": [
            "INFO:hyperopt.tpe:TPE using 3/3 trials with best loss 1.860363\n"
          ]
        },
        {
          "output_type": "stream",
          "name": "stdout",
          "text": [
            "2022-12-01 16:44:52,465 - TPE using 3/3 trials with best loss 1.860363\n",
            " 40%|████      | 4/10 [00:03<00:06,  1.11s/trial, best loss: 1.8603629720298074]"
          ]
        },
        {
          "output_type": "stream",
          "name": "stderr",
          "text": [
            "INFO:hyperopt.tpe:build_posterior_wrapper took 0.006263 seconds\n"
          ]
        },
        {
          "output_type": "stream",
          "name": "stdout",
          "text": [
            "2022-12-01 16:44:53,368 - build_posterior_wrapper took 0.006263 seconds\n"
          ]
        },
        {
          "output_type": "stream",
          "name": "stderr",
          "text": [
            "INFO:hyperopt.tpe:TPE using 4/4 trials with best loss 1.860363\n"
          ]
        },
        {
          "output_type": "stream",
          "name": "stdout",
          "text": [
            "2022-12-01 16:44:53,378 - TPE using 4/4 trials with best loss 1.860363\n",
            " 50%|█████     | 5/10 [00:04<00:05,  1.12s/trial, best loss: 1.8603629720298074]"
          ]
        },
        {
          "output_type": "stream",
          "name": "stderr",
          "text": [
            "INFO:hyperopt.tpe:build_posterior_wrapper took 0.012008 seconds\n"
          ]
        },
        {
          "output_type": "stream",
          "name": "stdout",
          "text": [
            "2022-12-01 16:44:54,493 - build_posterior_wrapper took 0.012008 seconds\n"
          ]
        },
        {
          "output_type": "stream",
          "name": "stderr",
          "text": [
            "INFO:hyperopt.tpe:TPE using 5/5 trials with best loss 1.860363\n"
          ]
        },
        {
          "output_type": "stream",
          "name": "stdout",
          "text": [
            "2022-12-01 16:44:54,509 - TPE using 5/5 trials with best loss 1.860363\n",
            " 60%|██████    | 6/10 [00:05<00:04,  1.22s/trial, best loss: 1.8603629720298074]"
          ]
        },
        {
          "output_type": "stream",
          "name": "stderr",
          "text": [
            "INFO:hyperopt.tpe:build_posterior_wrapper took 0.018521 seconds\n"
          ]
        },
        {
          "output_type": "stream",
          "name": "stdout",
          "text": [
            "2022-12-01 16:44:55,904 - build_posterior_wrapper took 0.018521 seconds\n"
          ]
        },
        {
          "output_type": "stream",
          "name": "stderr",
          "text": [
            "INFO:hyperopt.tpe:TPE using 6/6 trials with best loss 1.860363\n"
          ]
        },
        {
          "output_type": "stream",
          "name": "stdout",
          "text": [
            "2022-12-01 16:44:55,915 - TPE using 6/6 trials with best loss 1.860363\n",
            " 70%|███████   | 7/10 [00:06<00:03,  1.16s/trial, best loss: 1.6201416147928007]"
          ]
        },
        {
          "output_type": "stream",
          "name": "stderr",
          "text": [
            "INFO:hyperopt.tpe:build_posterior_wrapper took 0.004409 seconds\n"
          ]
        },
        {
          "output_type": "stream",
          "name": "stdout",
          "text": [
            "2022-12-01 16:44:56,934 - build_posterior_wrapper took 0.004409 seconds\n"
          ]
        },
        {
          "output_type": "stream",
          "name": "stderr",
          "text": [
            "INFO:hyperopt.tpe:TPE using 7/7 trials with best loss 1.620142\n"
          ]
        },
        {
          "output_type": "stream",
          "name": "stdout",
          "text": [
            "2022-12-01 16:44:56,950 - TPE using 7/7 trials with best loss 1.620142\n",
            " 80%|████████  | 8/10 [00:08<00:02,  1.16s/trial, best loss: 1.6201416147928007]"
          ]
        },
        {
          "output_type": "stream",
          "name": "stderr",
          "text": [
            "INFO:hyperopt.tpe:build_posterior_wrapper took 0.008991 seconds\n"
          ]
        },
        {
          "output_type": "stream",
          "name": "stdout",
          "text": [
            "2022-12-01 16:44:58,110 - build_posterior_wrapper took 0.008991 seconds\n"
          ]
        },
        {
          "output_type": "stream",
          "name": "stderr",
          "text": [
            "INFO:hyperopt.tpe:TPE using 8/8 trials with best loss 1.620142\n"
          ]
        },
        {
          "output_type": "stream",
          "name": "stdout",
          "text": [
            "2022-12-01 16:44:58,116 - TPE using 8/8 trials with best loss 1.620142\n",
            " 90%|█████████ | 9/10 [00:10<00:01,  1.61s/trial, best loss: 1.6201416147928007]"
          ]
        },
        {
          "output_type": "stream",
          "name": "stderr",
          "text": [
            "INFO:hyperopt.tpe:build_posterior_wrapper took 0.012907 seconds\n"
          ]
        },
        {
          "output_type": "stream",
          "name": "stdout",
          "text": [
            "2022-12-01 16:45:00,698 - build_posterior_wrapper took 0.012907 seconds\n"
          ]
        },
        {
          "output_type": "stream",
          "name": "stderr",
          "text": [
            "INFO:hyperopt.tpe:TPE using 9/9 trials with best loss 1.620142\n"
          ]
        },
        {
          "output_type": "stream",
          "name": "stdout",
          "text": [
            "2022-12-01 16:45:00,729 - TPE using 9/9 trials with best loss 1.620142\n",
            "100%|██████████| 10/10 [00:12<00:00,  1.33s/trial, best loss: 1.6201416147928007]\n"
          ]
        },
        {
          "output_type": "stream",
          "name": "stderr",
          "text": [
            "INFO:root:PipelineTuner - Hyperparameters optimization finished\n"
          ]
        },
        {
          "output_type": "stream",
          "name": "stdout",
          "text": [
            "2022-12-01 16:45:02,844 - PipelineTuner - Hyperparameters optimization finished\n"
          ]
        },
        {
          "output_type": "stream",
          "name": "stderr",
          "text": [
            "INFO:root:PipelineTuner - Return init pipeline due to the fact that obtained metric 1.620 worse than initial (+ 5% deviation) 1.418\n"
          ]
        },
        {
          "output_type": "stream",
          "name": "stdout",
          "text": [
            "2022-12-01 16:45:02,860 - PipelineTuner - Return init pipeline due to the fact that obtained metric 1.620 worse than initial (+ 5% deviation) 1.418\n"
          ]
        },
        {
          "output_type": "stream",
          "name": "stderr",
          "text": [
            "CRITICAL:root:PipelineTuner - Final pipeline: {'depth': 3, 'length': 4, 'nodes': [ridge, glm, ridge, lagged]}\n",
            "ridge - {}\n",
            "glm - {'family': 'gaussian', 'link': 'identity'}\n",
            "ridge - {}\n",
            "lagged - {'window_size': 10}\n"
          ]
        },
        {
          "output_type": "stream",
          "name": "stdout",
          "text": [
            "2022-12-01 16:45:02,868 - PipelineTuner - Final pipeline: {'depth': 3, 'length': 4, 'nodes': [ridge, glm, ridge, lagged]}\n",
            "ridge - {}\n",
            "glm - {'family': 'gaussian', 'link': 'identity'}\n",
            "ridge - {}\n",
            "lagged - {'window_size': 10}\n"
          ]
        },
        {
          "output_type": "stream",
          "name": "stderr",
          "text": [
            "CRITICAL:root:PipelineTuner - Final metric: 1.620\n"
          ]
        },
        {
          "output_type": "stream",
          "name": "stdout",
          "text": [
            "2022-12-01 16:45:02,878 - PipelineTuner - Final metric: 1.620\n"
          ]
        },
        {
          "output_type": "stream",
          "name": "stderr",
          "text": [
            "INFO:root:PipelineTuner - Hyperparameters optimization start\n"
          ]
        },
        {
          "output_type": "stream",
          "name": "stdout",
          "text": [
            "2022-12-01 16:45:03,506 - PipelineTuner - Hyperparameters optimization start\n"
          ]
        },
        {
          "output_type": "stream",
          "name": "stderr",
          "text": [
            "CRITICAL:root:PipelineTuner - Initial pipeline: {'depth': 3, 'length': 4, 'nodes': [ridge, glm, ridge, lagged]}\n",
            "ridge - {'alpha': 5.362878778010362}\n",
            "glm - {'family': 'inverse_gaussian', 'link': 'identity'}\n",
            "ridge - {'alpha': 4.513937239686009}\n",
            "lagged - {'window_size': 132} \n",
            "Initial metric: 14.470\n"
          ]
        },
        {
          "output_type": "stream",
          "name": "stdout",
          "text": [
            "2022-12-01 16:45:04,268 - PipelineTuner - Initial pipeline: {'depth': 3, 'length': 4, 'nodes': [ridge, glm, ridge, lagged]}\n",
            "ridge - {'alpha': 5.362878778010362}\n",
            "glm - {'family': 'inverse_gaussian', 'link': 'identity'}\n",
            "ridge - {'alpha': 4.513937239686009}\n",
            "lagged - {'window_size': 132} \n",
            "Initial metric: 14.470\n",
            "  0%|          | 0/1 [00:00<?, ?trial/s, best loss=?]"
          ]
        },
        {
          "output_type": "stream",
          "name": "stderr",
          "text": [
            "INFO:hyperopt.tpe:build_posterior_wrapper took 0.009132 seconds\n"
          ]
        },
        {
          "output_type": "stream",
          "name": "stdout",
          "text": [
            "2022-12-01 16:45:04,327 - build_posterior_wrapper took 0.009132 seconds\n"
          ]
        },
        {
          "output_type": "stream",
          "name": "stderr",
          "text": [
            "INFO:hyperopt.tpe:TPE using 0 trials\n"
          ]
        },
        {
          "output_type": "stream",
          "name": "stdout",
          "text": [
            "2022-12-01 16:45:04,342 - TPE using 0 trials\n",
            "100%|██████████| 1/1 [00:00<00:00,  1.38trial/s, best loss: 7.281101587630449]\n",
            " 10%|█         | 1/10 [00:00<?, ?trial/s, best loss=?]"
          ]
        },
        {
          "output_type": "stream",
          "name": "stderr",
          "text": [
            "INFO:hyperopt.tpe:build_posterior_wrapper took 0.012267 seconds\n"
          ]
        },
        {
          "output_type": "stream",
          "name": "stdout",
          "text": [
            "2022-12-01 16:45:05,089 - build_posterior_wrapper took 0.012267 seconds\n"
          ]
        },
        {
          "output_type": "stream",
          "name": "stderr",
          "text": [
            "INFO:hyperopt.tpe:TPE using 1/1 trials with best loss 7.281102\n"
          ]
        },
        {
          "output_type": "stream",
          "name": "stdout",
          "text": [
            "2022-12-01 16:45:05,106 - TPE using 1/1 trials with best loss 7.281102\n",
            " 20%|██        | 2/10 [00:02<00:19,  2.42s/trial, best loss: 7.281101587630449]"
          ]
        },
        {
          "output_type": "stream",
          "name": "stderr",
          "text": [
            "INFO:hyperopt.tpe:build_posterior_wrapper took 0.015629 seconds\n"
          ]
        },
        {
          "output_type": "stream",
          "name": "stdout",
          "text": [
            "2022-12-01 16:45:07,524 - build_posterior_wrapper took 0.015629 seconds\n"
          ]
        },
        {
          "output_type": "stream",
          "name": "stderr",
          "text": [
            "INFO:hyperopt.tpe:TPE using 2/2 trials with best loss 7.281102\n"
          ]
        },
        {
          "output_type": "stream",
          "name": "stdout",
          "text": [
            "2022-12-01 16:45:07,538 - TPE using 2/2 trials with best loss 7.281102\n",
            " 30%|███       | 3/10 [00:04<00:16,  2.32s/trial, best loss: 3.5159216195863565]"
          ]
        },
        {
          "output_type": "stream",
          "name": "stderr",
          "text": [
            "INFO:hyperopt.tpe:build_posterior_wrapper took 0.007040 seconds\n"
          ]
        },
        {
          "output_type": "stream",
          "name": "stdout",
          "text": [
            "2022-12-01 16:45:09,753 - build_posterior_wrapper took 0.007040 seconds\n"
          ]
        },
        {
          "output_type": "stream",
          "name": "stderr",
          "text": [
            "INFO:hyperopt.tpe:TPE using 3/3 trials with best loss 3.515922\n"
          ]
        },
        {
          "output_type": "stream",
          "name": "stdout",
          "text": [
            "2022-12-01 16:45:09,761 - TPE using 3/3 trials with best loss 3.515922\n",
            " 40%|████      | 4/10 [00:06<00:13,  2.22s/trial, best loss: 3.5159216195863565]"
          ]
        },
        {
          "output_type": "stream",
          "name": "stderr",
          "text": [
            "INFO:hyperopt.tpe:build_posterior_wrapper took 0.005468 seconds\n"
          ]
        },
        {
          "output_type": "stream",
          "name": "stdout",
          "text": [
            "2022-12-01 16:45:11,853 - build_posterior_wrapper took 0.005468 seconds\n"
          ]
        },
        {
          "output_type": "stream",
          "name": "stderr",
          "text": [
            "INFO:hyperopt.tpe:TPE using 4/4 trials with best loss 3.515922\n"
          ]
        },
        {
          "output_type": "stream",
          "name": "stdout",
          "text": [
            "2022-12-01 16:45:11,861 - TPE using 4/4 trials with best loss 3.515922\n",
            " 50%|█████     | 5/10 [00:07<00:07,  1.60s/trial, best loss: 3.5159216195863565]"
          ]
        },
        {
          "output_type": "stream",
          "name": "stderr",
          "text": [
            "INFO:hyperopt.tpe:build_posterior_wrapper took 0.016632 seconds\n"
          ]
        },
        {
          "output_type": "stream",
          "name": "stdout",
          "text": [
            "2022-12-01 16:45:12,524 - build_posterior_wrapper took 0.016632 seconds\n"
          ]
        },
        {
          "output_type": "stream",
          "name": "stderr",
          "text": [
            "INFO:hyperopt.tpe:TPE using 5/5 trials with best loss 3.515922\n"
          ]
        },
        {
          "output_type": "stream",
          "name": "stdout",
          "text": [
            "2022-12-01 16:45:12,539 - TPE using 5/5 trials with best loss 3.515922\n",
            " 60%|██████    | 6/10 [00:08<00:06,  1.58s/trial, best loss: 3.5159216195863565]"
          ]
        },
        {
          "output_type": "stream",
          "name": "stderr",
          "text": [
            "INFO:hyperopt.tpe:build_posterior_wrapper took 0.014235 seconds\n"
          ]
        },
        {
          "output_type": "stream",
          "name": "stdout",
          "text": [
            "2022-12-01 16:45:14,063 - build_posterior_wrapper took 0.014235 seconds\n"
          ]
        },
        {
          "output_type": "stream",
          "name": "stderr",
          "text": [
            "INFO:hyperopt.tpe:TPE using 6/6 trials with best loss 3.515922\n"
          ]
        },
        {
          "output_type": "stream",
          "name": "stdout",
          "text": [
            "2022-12-01 16:45:14,074 - TPE using 6/6 trials with best loss 3.515922\n",
            " 70%|███████   | 7/10 [00:09<00:04,  1.34s/trial, best loss: 3.5159216195863565]"
          ]
        },
        {
          "output_type": "stream",
          "name": "stderr",
          "text": [
            "INFO:hyperopt.tpe:build_posterior_wrapper took 0.011437 seconds\n"
          ]
        },
        {
          "output_type": "stream",
          "name": "stdout",
          "text": [
            "2022-12-01 16:45:14,935 - build_posterior_wrapper took 0.011437 seconds\n"
          ]
        },
        {
          "output_type": "stream",
          "name": "stderr",
          "text": [
            "INFO:hyperopt.tpe:TPE using 7/7 trials with best loss 3.515922\n"
          ]
        },
        {
          "output_type": "stream",
          "name": "stdout",
          "text": [
            "2022-12-01 16:45:14,945 - TPE using 7/7 trials with best loss 3.515922\n",
            " 80%|████████  | 8/10 [00:10<00:02,  1.14s/trial, best loss: 3.5159216195863565]"
          ]
        },
        {
          "output_type": "stream",
          "name": "stderr",
          "text": [
            "INFO:hyperopt.tpe:build_posterior_wrapper took 0.006591 seconds\n"
          ]
        },
        {
          "output_type": "stream",
          "name": "stdout",
          "text": [
            "2022-12-01 16:45:15,673 - build_posterior_wrapper took 0.006591 seconds\n"
          ]
        },
        {
          "output_type": "stream",
          "name": "stderr",
          "text": [
            "INFO:hyperopt.tpe:TPE using 8/8 trials with best loss 3.515922\n"
          ]
        },
        {
          "output_type": "stream",
          "name": "stdout",
          "text": [
            "2022-12-01 16:45:15,684 - TPE using 8/8 trials with best loss 3.515922\n",
            " 90%|█████████ | 9/10 [00:11<00:00,  1.01trial/s, best loss: 3.5159216195863565]"
          ]
        },
        {
          "output_type": "stream",
          "name": "stderr",
          "text": [
            "INFO:hyperopt.tpe:build_posterior_wrapper took 0.005585 seconds\n"
          ]
        },
        {
          "output_type": "stream",
          "name": "stdout",
          "text": [
            "2022-12-01 16:45:16,344 - build_posterior_wrapper took 0.005585 seconds\n"
          ]
        },
        {
          "output_type": "stream",
          "name": "stderr",
          "text": [
            "INFO:hyperopt.tpe:TPE using 9/9 trials with best loss 3.515922\n"
          ]
        },
        {
          "output_type": "stream",
          "name": "stdout",
          "text": [
            "2022-12-01 16:45:16,362 - TPE using 9/9 trials with best loss 3.515922\n",
            "100%|██████████| 10/10 [00:11<00:00,  1.32s/trial, best loss: 3.5159216195863565]\n"
          ]
        },
        {
          "output_type": "stream",
          "name": "stderr",
          "text": [
            "INFO:root:PipelineTuner - Hyperparameters optimization finished\n"
          ]
        },
        {
          "output_type": "stream",
          "name": "stdout",
          "text": [
            "2022-12-01 16:45:19,161 - PipelineTuner - Hyperparameters optimization finished\n"
          ]
        },
        {
          "output_type": "stream",
          "name": "stderr",
          "text": [
            "INFO:root:PipelineTuner - Return tuned pipeline due to the fact that obtained metric 3.516 equal or better than initial (+ 5% deviation) 15.194\n"
          ]
        },
        {
          "output_type": "stream",
          "name": "stdout",
          "text": [
            "2022-12-01 16:45:19,169 - PipelineTuner - Return tuned pipeline due to the fact that obtained metric 3.516 equal or better than initial (+ 5% deviation) 15.194\n"
          ]
        },
        {
          "output_type": "stream",
          "name": "stderr",
          "text": [
            "CRITICAL:root:PipelineTuner - Final pipeline: {'depth': 3, 'length': 4, 'nodes': [ridge, glm, ridge, lagged]}\n",
            "ridge - {'alpha': 8.03930136839957}\n",
            "glm - {'family': 'inverse_gaussian', 'link': 'identity'}\n",
            "ridge - {'alpha': 2.87019558296478}\n",
            "lagged - {'window_size': 410}\n"
          ]
        },
        {
          "output_type": "stream",
          "name": "stdout",
          "text": [
            "2022-12-01 16:45:19,176 - PipelineTuner - Final pipeline: {'depth': 3, 'length': 4, 'nodes': [ridge, glm, ridge, lagged]}\n",
            "ridge - {'alpha': 8.03930136839957}\n",
            "glm - {'family': 'inverse_gaussian', 'link': 'identity'}\n",
            "ridge - {'alpha': 2.87019558296478}\n",
            "lagged - {'window_size': 410}\n"
          ]
        },
        {
          "output_type": "stream",
          "name": "stderr",
          "text": [
            "CRITICAL:root:PipelineTuner - Final metric: 3.516\n"
          ]
        },
        {
          "output_type": "stream",
          "name": "stdout",
          "text": [
            "2022-12-01 16:45:19,181 - PipelineTuner - Final metric: 3.516\n"
          ]
        }
      ]
    },
    {
      "cell_type": "code",
      "source": [
        "conf_int_plotting(up_predictions = x['up_predictions'],\n",
        "                  low_predictions = x['low_predictions'],\n",
        "                  regim='quantile',\n",
        "                  plot_history = True,\n",
        "                  plot_up_int = True,\n",
        "                  plot_low_int = True,\n",
        "                  plot_trend = True,\n",
        "                  plot_forecast = True,\n",
        "                  plot_upper_train = True,\n",
        "                  plot_lower_train = True,\n",
        "                  plot_ts_test = True)"
      ],
      "metadata": {
        "colab": {
          "base_uri": "https://localhost:8080/",
          "height": 839
        },
        "id": "mU3vaDLetRdZ",
        "outputId": "8e2776c7-9879-4285-8172-16c06054ee69"
      },
      "execution_count": 42,
      "outputs": [
        {
          "output_type": "display_data",
          "data": {
            "text/plain": [
              "<Figure size 1080x504 with 1 Axes>"
            ],
            "image/png": "[encoded data removed]"
          },
          "metadata": {
            "needs_background": "light"
          }
        },
        {
          "output_type": "display_data",
          "data": {
            "text/plain": [
              "<Figure size 1080x504 with 1 Axes>"
            ],
            "image/png": "[encoded data removed]"
          },
          "metadata": {
            "needs_background": "light"
          }
        }
      ]
    }
  ]
}