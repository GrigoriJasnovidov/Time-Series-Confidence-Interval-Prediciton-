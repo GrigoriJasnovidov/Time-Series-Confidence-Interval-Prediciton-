{
  "nbformat": 4,
  "nbformat_minor": 0,
  "metadata": {
    "colab": {
      "provenance": []
    },
    "kernelspec": {
      "name": "python3",
      "display_name": "Python 3"
    },
    "language_info": {
      "name": "python"
    },
    "gpuClass": "standard"
  },
  "cells": [
    {
      "cell_type": "code",
      "source": [
        "#!pip install fedot"
      ],
      "metadata": {
        "id": "TXneEk7apj1R"
      },
      "execution_count": 4,
      "outputs": []
    },
    {
      "cell_type": "code",
      "source": [
        "import os\n",
        "os.environ[\"MKL_NUM_THREADS\"] = \"10\"\n",
        "os.environ[\"NUMEXPR_NUM_THREADS\"] = \"10\"\n",
        "os.environ[\"OMP_NUM_THREADS\"] = \"10\"\n",
        "\n",
        "import torch\n",
        "torch.set_num_threads(10)"
      ],
      "metadata": {
        "id": "_DR1YZYryW_b"
      },
      "execution_count": 1,
      "outputs": []
    },
    {
      "cell_type": "code",
      "source": [
        "import matplotlib.pyplot as plt\n",
        "import numpy as np\n",
        "import pandas as pd\n",
        "import logging\n",
        "logging.raiseExceptions = False\n",
        "\n",
        "import fedot\n",
        "from fedot.api.main import Fedot\n",
        "from fedot.core.data.data import InputData\n",
        "from fedot.core.data.data_split import train_test_data_setup\n",
        "from fedot.core.repository.dataset_types import DataTypesEnum\n",
        "from fedot.core.repository.tasks import TsForecastingParams, Task, TaskTypesEnum\n",
        "import inspect"
      ],
      "metadata": {
        "id": "OO7SMqrTjSrB"
      },
      "execution_count": 5,
      "outputs": []
    },
    {
      "cell_type": "code",
      "source": [
        "from google.colab import files\n",
        "uploaded = files.upload()"
      ],
      "metadata": {
        "colab": {
          "base_uri": "https://localhost:8080/",
          "height": 73
        },
        "id": "BVTPK-TbzzU-",
        "outputId": "f4362797-9dc9-4089-d4b2-1896a925eb45"
      },
      "execution_count": 6,
      "outputs": [
        {
          "output_type": "display_data",
          "data": {
            "text/plain": [
              "<IPython.core.display.HTML object>"
            ],
            "text/html": [
              "\n",
              "     <input type=\"file\" id=\"files-7776160b-aad4-44b7-af21-18776ca23105\" name=\"files[]\" multiple disabled\n",
              "        style=\"border:none\" />\n",
              "     <output id=\"result-7776160b-aad4-44b7-af21-18776ca23105\">\n",
              "      Upload widget is only available when the cell has been executed in the\n",
              "      current browser session. Please rerun this cell to enable.\n",
              "      </output>\n",
              "      <script>// Copyright 2017 Google LLC\n",
              "//\n",
              "// Licensed under the Apache License, Version 2.0 (the \"License\");\n",
              "// you may not use this file except in compliance with the License.\n",
              "// You may obtain a copy of the License at\n",
              "//\n",
              "//      http://www.apache.org/licenses/LICENSE-2.0\n",
              "//\n",
              "// Unless required by applicable law or agreed to in writing, software\n",
              "// distributed under the License is distributed on an \"AS IS\" BASIS,\n",
              "// WITHOUT WARRANTIES OR CONDITIONS OF ANY KIND, either express or implied.\n",
              "// See the License for the specific language governing permissions and\n",
              "// limitations under the License.\n",
              "\n",
              "/**\n",
              " * @fileoverview Helpers for google.colab Python module.\n",
              " */\n",
              "(function(scope) {\n",
              "function span(text, styleAttributes = {}) {\n",
              "  const element = document.createElement('span');\n",
              "  element.textContent = text;\n",
              "  for (const key of Object.keys(styleAttributes)) {\n",
              "    element.style[key] = styleAttributes[key];\n",
              "  }\n",
              "  return element;\n",
              "}\n",
              "\n",
              "// Max number of bytes which will be uploaded at a time.\n",
              "const MAX_PAYLOAD_SIZE = 100 * 1024;\n",
              "\n",
              "function _uploadFiles(inputId, outputId) {\n",
              "  const steps = uploadFilesStep(inputId, outputId);\n",
              "  const outputElement = document.getElementById(outputId);\n",
              "  // Cache steps on the outputElement to make it available for the next call\n",
              "  // to uploadFilesContinue from Python.\n",
              "  outputElement.steps = steps;\n",
              "\n",
              "  return _uploadFilesContinue(outputId);\n",
              "}\n",
              "\n",
              "// This is roughly an async generator (not supported in the browser yet),\n",
              "// where there are multiple asynchronous steps and the Python side is going\n",
              "// to poll for completion of each step.\n",
              "// This uses a Promise to block the python side on completion of each step,\n",
              "// then passes the result of the previous step as the input to the next step.\n",
              "function _uploadFilesContinue(outputId) {\n",
              "  const outputElement = document.getElementById(outputId);\n",
              "  const steps = outputElement.steps;\n",
              "\n",
              "  const next = steps.next(outputElement.lastPromiseValue);\n",
              "  return Promise.resolve(next.value.promise).then((value) => {\n",
              "    // Cache the last promise value to make it available to the next\n",
              "    // step of the generator.\n",
              "    outputElement.lastPromiseValue = value;\n",
              "    return next.value.response;\n",
              "  });\n",
              "}\n",
              "\n",
              "/**\n",
              " * Generator function which is called between each async step of the upload\n",
              " * process.\n",
              " * @param {string} inputId Element ID of the input file picker element.\n",
              " * @param {string} outputId Element ID of the output display.\n",
              " * @return {!Iterable<!Object>} Iterable of next steps.\n",
              " */\n",
              "function* uploadFilesStep(inputId, outputId) {\n",
              "  const inputElement = document.getElementById(inputId);\n",
              "  inputElement.disabled = false;\n",
              "\n",
              "  const outputElement = document.getElementById(outputId);\n",
              "  outputElement.innerHTML = '';\n",
              "\n",
              "  const pickedPromise = new Promise((resolve) => {\n",
              "    inputElement.addEventListener('change', (e) => {\n",
              "      resolve(e.target.files);\n",
              "    });\n",
              "  });\n",
              "\n",
              "  const cancel = document.createElement('button');\n",
              "  inputElement.parentElement.appendChild(cancel);\n",
              "  cancel.textContent = 'Cancel upload';\n",
              "  const cancelPromise = new Promise((resolve) => {\n",
              "    cancel.onclick = () => {\n",
              "      resolve(null);\n",
              "    };\n",
              "  });\n",
              "\n",
              "  // Wait for the user to pick the files.\n",
              "  const files = yield {\n",
              "    promise: Promise.race([pickedPromise, cancelPromise]),\n",
              "    response: {\n",
              "      action: 'starting',\n",
              "    }\n",
              "  };\n",
              "\n",
              "  cancel.remove();\n",
              "\n",
              "  // Disable the input element since further picks are not allowed.\n",
              "  inputElement.disabled = true;\n",
              "\n",
              "  if (!files) {\n",
              "    return {\n",
              "      response: {\n",
              "        action: 'complete',\n",
              "      }\n",
              "    };\n",
              "  }\n",
              "\n",
              "  for (const file of files) {\n",
              "    const li = document.createElement('li');\n",
              "    li.append(span(file.name, {fontWeight: 'bold'}));\n",
              "    li.append(span(\n",
              "        `(${file.type || 'n/a'}) - ${file.size} bytes, ` +\n",
              "        `last modified: ${\n",
              "            file.lastModifiedDate ? file.lastModifiedDate.toLocaleDateString() :\n",
              "                                    'n/a'} - `));\n",
              "    const percent = span('0% done');\n",
              "    li.appendChild(percent);\n",
              "\n",
              "    outputElement.appendChild(li);\n",
              "\n",
              "    const fileDataPromise = new Promise((resolve) => {\n",
              "      const reader = new FileReader();\n",
              "      reader.onload = (e) => {\n",
              "        resolve(e.target.result);\n",
              "      };\n",
              "      reader.readAsArrayBuffer(file);\n",
              "    });\n",
              "    // Wait for the data to be ready.\n",
              "    let fileData = yield {\n",
              "      promise: fileDataPromise,\n",
              "      response: {\n",
              "        action: 'continue',\n",
              "      }\n",
              "    };\n",
              "\n",
              "    // Use a chunked sending to avoid message size limits. See b/62115660.\n",
              "    let position = 0;\n",
              "    do {\n",
              "      const length = Math.min(fileData.byteLength - position, MAX_PAYLOAD_SIZE);\n",
              "      const chunk = new Uint8Array(fileData, position, length);\n",
              "      position += length;\n",
              "\n",
              "      const base64 = btoa(String.fromCharCode.apply(null, chunk));\n",
              "      yield {\n",
              "        response: {\n",
              "          action: 'append',\n",
              "          file: file.name,\n",
              "          data: base64,\n",
              "        },\n",
              "      };\n",
              "\n",
              "      let percentDone = fileData.byteLength === 0 ?\n",
              "          100 :\n",
              "          Math.round((position / fileData.byteLength) * 100);\n",
              "      percent.textContent = `${percentDone}% done`;\n",
              "\n",
              "    } while (position < fileData.byteLength);\n",
              "  }\n",
              "\n",
              "  // All done.\n",
              "  yield {\n",
              "    response: {\n",
              "      action: 'complete',\n",
              "    }\n",
              "  };\n",
              "}\n",
              "\n",
              "scope.google = scope.google || {};\n",
              "scope.google.colab = scope.google.colab || {};\n",
              "scope.google.colab._files = {\n",
              "  _uploadFiles,\n",
              "  _uploadFilesContinue,\n",
              "};\n",
              "})(self);\n",
              "</script> "
            ]
          },
          "metadata": {}
        },
        {
          "output_type": "stream",
          "name": "stdout",
          "text": [
            "Saving ts study 1.txt to ts study 1.txt\n"
          ]
        }
      ]
    },
    {
      "cell_type": "code",
      "source": [
        "ts_tabular =pd.read_csv('ts study 1.txt')\n",
        "ts_real_temp = ts_tabular[ts_tabular['label']=='temp'].drop('label',axis=1)['value'].to_numpy()"
      ],
      "metadata": {
        "id": "Q-9beb5I0YmP"
      },
      "execution_count": 7,
      "outputs": []
    },
    {
      "cell_type": "code",
      "source": [
        "def s1(n,noise = 3,sign=1):\n",
        "    def f1(x):\n",
        "        return 5*np.sin(x/20)+0.1*x-2*np.sqrt(x)\n",
        "    trend = f1(np.array(range(n)))\n",
        "    noise = np.random.normal(loc = 0, scale = noise,size = n)\n",
        "    ans = {'ts':(trend+noise)*sign, 'trend' : trend*sign}\n",
        "    return ans\n",
        "def s2(length, periods = 10,noise = 0.3,sign=1 ):\n",
        "\n",
        "    sinusoidal_data = np.linspace(-periods * np.pi, periods * np.pi, length)\n",
        "    sinusoidal_data = np.sin(sinusoidal_data)\n",
        "    cos_1_data = np.linspace(-periods * np.pi/2, periods/2 * np.pi/2, int(length/2))\n",
        "    cos_1_data = np.cos(cos_1_data) \n",
        "    cos_2_data = np.linspace(periods/2 * np.pi/2, periods * np.pi/2, int(length/2))\n",
        "    cos_2_data = np.cos(cos_2_data)   \n",
        "    cosine_data = np.hstack((cos_1_data, cos_2_data))\n",
        "    \n",
        "    random_noise = np.random.normal(loc=0.0, scale=noise, size=length)\n",
        "    synthetic_data = sinusoidal_data + cosine_data + random_noise\n",
        "    ans = {'ts':synthetic_data*sign, 'trend': (sinusoidal_data + cosine_data)*sign}\n",
        "    return ans\n",
        "def s3(n,noise = 10,sign = 1):\n",
        "    r = np.array(range(n))\n",
        "    trend = (r-r/5*np.sin(r/2)+r/2*np.sin(r/20))/10\n",
        "    noise = np.random.normal(loc=0,scale = noise,size = n)\n",
        "    ans = {'ts':(trend+noise)*sign, 'trend': trend*sign}\n",
        "    return ans\n",
        "def s4(n,noise = 1,sign =1):\n",
        "    array = np.array(range(n))\n",
        "    trend = array/5+np.power(array,0.5)*np.sin(np.pi/12*array)\n",
        "    noise = np.random.normal(loc = 0,scale = noise, size = n)\n",
        "    noise_cum = noise.cumsum()\n",
        "    ts = trend+noise_cum\n",
        "    ans = {'ts':ts*sign, 'trend' : trend*sign}\n",
        "    return ans\n",
        "\n",
        "def s5(n,noise = 1,sign=1):\n",
        "    r= np.arange(n)\n",
        "    trend = r*1\n",
        "    noise = np.random.normal(loc=0,scale = noise,size = n)\n",
        "    noise_cum = noise.cumsum()\n",
        "    ts = trend+noise_cum\n",
        "    ans = {'ts':ts*sign,'trend':trend*sign}\n",
        "    return ans\n",
        "\n",
        "def s6(n,noise = 1, sign =1):\n",
        "    r = np.arange(n)\n",
        "    trend = 2*np.sin(2*r)+np.cos(r)\n",
        "    noise = np.random.normal(loc = 0,scale  = noise,size = n)\n",
        "    ts = trend+noise\n",
        "    ans = {'ts':ts,'trend':trend}\n",
        "    return ans"
      ],
      "metadata": {
        "id": "nrd3-HXsjhue"
      },
      "execution_count": 8,
      "outputs": []
    },
    {
      "cell_type": "code",
      "source": [
        "horizon = 30\n",
        "validation_blocks = 2\n",
        "task = Task(TaskTypesEnum.ts_forecasting,  TsForecastingParams(forecast_length=horizon))\n",
        "start = 5000\n",
        "end = 6000\n",
        "series = 'traffic'\n",
        "\n",
        "if series == 'traffic':\n",
        "    init_series = ts_real_temp\n",
        "    ts = init_series[start:end]\n",
        "    trend = None\n",
        "    ts_test = init_series[end:end+horizon]\n",
        "    trend_test = None\n",
        "\n",
        "if series ==1:\n",
        "    noise = 0.5\n",
        "    init_series = s1(10000,noise= noise,sign =1)\n",
        "    ts = init_series['ts'][start:end]\n",
        "    trend = init_series['trend'][start:end]\n",
        "    ts_test = init_series['ts'][end:end+horizon]\n",
        "    trend_test = init_series['trend'][end:end+horizon]  \n",
        "    \n",
        "if series ==2:\n",
        "    noise = 0.5\n",
        "    init_series = s2(10000,noise= noise,sign =1)\n",
        "    ts = init_series['ts'][start:end]\n",
        "    trend = init_series['trend'][start:end]\n",
        "    ts_test = init_series['ts'][end:end+horizon]\n",
        "    trend_test = init_series['trend'][end:end+horizon]\n",
        "    \n",
        "if series ==3:\n",
        "    noise = 0.5\n",
        "    init_series = s3(10000,noise= noise,sign =1)\n",
        "    ts = init_series['ts'][start:end]\n",
        "    trend = init_series['trend'][start:end]\n",
        "    ts_test = init_series['ts'][end:end+horizon]\n",
        "    trend_test = init_series['trend'][end:end+horizon]\n",
        "    \n",
        "if series ==4:\n",
        "    noise = 0.5\n",
        "    init_series = s4(10000,noise= noise,sign =1)\n",
        "    ts = init_series['ts'][start:end]\n",
        "    trend = init_series['trend'][start:end]\n",
        "    ts_test = init_series['ts'][end:end+horizon]\n",
        "    trend_test = init_series['trend'][end:end+horizon]\n",
        "  \n",
        "if series ==5:\n",
        "    noise = 1\n",
        "    init_series = s5(10000,noise= noise,sign =1)\n",
        "    ts = init_series['ts'][start:end]\n",
        "    trend = init_series['trend'][start:end]\n",
        "    ts_test = init_series['ts'][end:end+horizon]\n",
        "    trend_test = init_series['trend'][end:end+horizon]   \n",
        "\n",
        "if series ==6:\n",
        "    noise = 0.5\n",
        "    init_series = s6(10000,noise= noise,sign =1)\n",
        "    ts = init_series['ts'][start:end]\n",
        "    trend = init_series['trend'][start:end]\n",
        "    ts_test = init_series['ts'][end:end+horizon]\n",
        "    trend_test = init_series['trend'][end:end+horizon]\n",
        " \n",
        "idx = np.array( range(len(np.array(ts))) )\n",
        "train_input = InputData(idx=idx,\n",
        "                            features=ts,\n",
        "                            target=ts,\n",
        "                            task=task,\n",
        "                            data_type=DataTypesEnum.ts)\n",
        "train_data, test_data = train_test_data_setup(train_input, validation_blocks=2)\n",
        "\n",
        "# init model for the time series forecasting\n",
        "model = Fedot(problem='ts_forecasting',\n",
        "                  safe_mode = True,\n",
        "                  task_params=task.task_params,\n",
        "                  timeout=3,\n",
        "                  n_jobs=-1,\n",
        "                  cv_folds=2, \n",
        "                  validation_blocks=2, \n",
        "                  preset='ts',\n",
        "                  with_tuning = False,\n",
        "                  max_depth = 5,\n",
        "                  num_of_generations  =3 ,\n",
        "                  logging_level = 10,\n",
        "                 show_progress =True)"
      ],
      "metadata": {
        "id": "99HaD_Mzj2sc",
        "colab": {
          "base_uri": "https://localhost:8080/"
        },
        "outputId": "4f63f6b5-1290-4d66-a16b-c4bae447ff12"
      },
      "execution_count": 9,
      "outputs": [
        {
          "output_type": "stream",
          "name": "stderr",
          "text": [
            "DEBUG:tensorflow:Falling back to TensorFlow client; we recommended you install the Cloud TPU client directly with pip install cloud-tpu-client.\n"
          ]
        },
        {
          "output_type": "stream",
          "name": "stdout",
          "text": [
            "2022-11-24 17:34:06,741 - Falling back to TensorFlow client; we recommended you install the Cloud TPU client directly with pip install cloud-tpu-client.\n"
          ]
        },
        {
          "output_type": "stream",
          "name": "stderr",
          "text": [
            "DEBUG:h5py._conv:Creating converter from 7 to 5\n"
          ]
        },
        {
          "output_type": "stream",
          "name": "stdout",
          "text": [
            "2022-11-24 17:34:07,173 - Creating converter from 7 to 5\n"
          ]
        },
        {
          "output_type": "stream",
          "name": "stderr",
          "text": [
            "DEBUG:h5py._conv:Creating converter from 5 to 7\n"
          ]
        },
        {
          "output_type": "stream",
          "name": "stdout",
          "text": [
            "2022-11-24 17:34:07,180 - Creating converter from 5 to 7\n"
          ]
        },
        {
          "output_type": "stream",
          "name": "stderr",
          "text": [
            "DEBUG:h5py._conv:Creating converter from 7 to 5\n"
          ]
        },
        {
          "output_type": "stream",
          "name": "stdout",
          "text": [
            "2022-11-24 17:34:07,188 - Creating converter from 7 to 5\n"
          ]
        },
        {
          "output_type": "stream",
          "name": "stderr",
          "text": [
            "DEBUG:h5py._conv:Creating converter from 5 to 7\n"
          ]
        },
        {
          "output_type": "stream",
          "name": "stdout",
          "text": [
            "2022-11-24 17:34:07,196 - Creating converter from 5 to 7\n"
          ]
        },
        {
          "output_type": "stream",
          "name": "stderr",
          "text": [
            "DEBUG:root:Initializing MLIR with module: _site_initialize_0\n"
          ]
        },
        {
          "output_type": "stream",
          "name": "stdout",
          "text": [
            "2022-11-24 17:34:07,550 - Initializing MLIR with module: _site_initialize_0\n"
          ]
        },
        {
          "output_type": "stream",
          "name": "stderr",
          "text": [
            "DEBUG:root:Registering dialects from initializer <module 'jaxlib.mlir._mlir_libs._site_initialize_0' from '/usr/local/lib/python3.7/dist-packages/jaxlib/mlir/_mlir_libs/_site_initialize_0.so'>\n"
          ]
        },
        {
          "output_type": "stream",
          "name": "stdout",
          "text": [
            "2022-11-24 17:34:07,556 - Registering dialects from initializer <module 'jaxlib.mlir._mlir_libs._site_initialize_0' from '/usr/local/lib/python3.7/dist-packages/jaxlib/mlir/_mlir_libs/_site_initialize_0.so'>\n"
          ]
        },
        {
          "output_type": "stream",
          "name": "stderr",
          "text": [
            "DEBUG:jax._src.path:etils.epath found. Using etils.epath for file I/O.\n"
          ]
        },
        {
          "output_type": "stream",
          "name": "stdout",
          "text": [
            "2022-11-24 17:34:07,683 - etils.epath found. Using etils.epath for file I/O.\n"
          ]
        },
        {
          "output_type": "stream",
          "name": "stderr",
          "text": [
            "INFO:summarizer.preprocessing.cleaner:'pattern' package not found; tag filters are not available for English\n"
          ]
        },
        {
          "output_type": "stream",
          "name": "stdout",
          "text": [
            "2022-11-24 17:34:08,903 - 'pattern' package not found; tag filters are not available for English\n"
          ]
        }
      ]
    },
    {
      "cell_type": "code",
      "source": [
        "#inspect.getmembers(model)"
      ],
      "metadata": {
        "id": "9_7-EycnrusN"
      },
      "execution_count": 46,
      "outputs": []
    },
    {
      "cell_type": "code",
      "source": [
        "pipeline = model.fit(train_data)\n",
        "forecast = model.forecast(test_data)\n",
        "pipeline.show()"
      ],
      "metadata": {
        "colab": {
          "base_uri": "https://localhost:8080/",
          "height": 1000
        },
        "id": "PXM7Phihw1GU",
        "outputId": "88c5aa6f-b8e5-4316-d41d-e3e5745c2983"
      },
      "execution_count": 10,
      "outputs": [
        {
          "output_type": "stream",
          "name": "stderr",
          "text": [
            "INFO:root:AssumptionsHandler - Initial pipeline fitting started\n"
          ]
        },
        {
          "output_type": "stream",
          "name": "stdout",
          "text": [
            "2022-11-24 17:34:14,231 - AssumptionsHandler - Initial pipeline fitting started\n"
          ]
        },
        {
          "output_type": "stream",
          "name": "stderr",
          "text": [
            "DEBUG:root:SecondaryNode - Trying to fit secondary node with operation: ridge\n"
          ]
        },
        {
          "output_type": "stream",
          "name": "stdout",
          "text": [
            "2022-11-24 17:34:14,240 - SecondaryNode - Trying to fit secondary node with operation: ridge\n"
          ]
        },
        {
          "output_type": "stream",
          "name": "stderr",
          "text": [
            "DEBUG:root:SecondaryNode - Fit all parent nodes in secondary node with operation: ridge\n"
          ]
        },
        {
          "output_type": "stream",
          "name": "stdout",
          "text": [
            "2022-11-24 17:34:14,247 - SecondaryNode - Fit all parent nodes in secondary node with operation: ridge\n"
          ]
        },
        {
          "output_type": "stream",
          "name": "stderr",
          "text": [
            "DEBUG:root:SecondaryNode - Trying to fit secondary node with operation: ridge\n"
          ]
        },
        {
          "output_type": "stream",
          "name": "stdout",
          "text": [
            "2022-11-24 17:34:14,253 - SecondaryNode - Trying to fit secondary node with operation: ridge\n"
          ]
        },
        {
          "output_type": "stream",
          "name": "stderr",
          "text": [
            "DEBUG:root:SecondaryNode - Fit all parent nodes in secondary node with operation: ridge\n"
          ]
        },
        {
          "output_type": "stream",
          "name": "stdout",
          "text": [
            "2022-11-24 17:34:14,256 - SecondaryNode - Fit all parent nodes in secondary node with operation: ridge\n"
          ]
        },
        {
          "output_type": "stream",
          "name": "stderr",
          "text": [
            "DEBUG:root:PrimaryNode - Trying to fit primary node with operation: lagged\n"
          ]
        },
        {
          "output_type": "stream",
          "name": "stdout",
          "text": [
            "2022-11-24 17:34:14,259 - PrimaryNode - Trying to fit primary node with operation: lagged\n"
          ]
        },
        {
          "output_type": "stream",
          "name": "stderr",
          "text": [
            "DEBUG:root:PrimaryNode - Trying to fit primary node with operation: glm\n"
          ]
        },
        {
          "output_type": "stream",
          "name": "stdout",
          "text": [
            "2022-11-24 17:34:14,382 - PrimaryNode - Trying to fit primary node with operation: glm\n"
          ]
        },
        {
          "output_type": "stream",
          "name": "stderr",
          "text": [
            "DEBUG:root:SecondaryNode - Obtain prediction in secondary node with operation: ridge\n"
          ]
        },
        {
          "output_type": "stream",
          "name": "stdout",
          "text": [
            "2022-11-24 17:34:14,538 - SecondaryNode - Obtain prediction in secondary node with operation: ridge\n"
          ]
        },
        {
          "output_type": "stream",
          "name": "stderr",
          "text": [
            "DEBUG:root:SecondaryNode - Fit all parent nodes in secondary node with operation: ridge\n"
          ]
        },
        {
          "output_type": "stream",
          "name": "stdout",
          "text": [
            "2022-11-24 17:34:14,545 - SecondaryNode - Fit all parent nodes in secondary node with operation: ridge\n"
          ]
        },
        {
          "output_type": "stream",
          "name": "stderr",
          "text": [
            "DEBUG:root:SecondaryNode - Obtain prediction in secondary node with operation: ridge\n"
          ]
        },
        {
          "output_type": "stream",
          "name": "stdout",
          "text": [
            "2022-11-24 17:34:14,551 - SecondaryNode - Obtain prediction in secondary node with operation: ridge\n"
          ]
        },
        {
          "output_type": "stream",
          "name": "stderr",
          "text": [
            "DEBUG:root:SecondaryNode - Fit all parent nodes in secondary node with operation: ridge\n"
          ]
        },
        {
          "output_type": "stream",
          "name": "stdout",
          "text": [
            "2022-11-24 17:34:14,555 - SecondaryNode - Fit all parent nodes in secondary node with operation: ridge\n"
          ]
        },
        {
          "output_type": "stream",
          "name": "stderr",
          "text": [
            "DEBUG:root:PrimaryNode - Predict in primary node by operation: lagged\n"
          ]
        },
        {
          "output_type": "stream",
          "name": "stdout",
          "text": [
            "2022-11-24 17:34:14,558 - PrimaryNode - Predict in primary node by operation: lagged\n"
          ]
        },
        {
          "output_type": "stream",
          "name": "stderr",
          "text": [
            "DEBUG:root:PrimaryNode - Predict in primary node by operation: glm\n"
          ]
        },
        {
          "output_type": "stream",
          "name": "stdout",
          "text": [
            "2022-11-24 17:34:14,565 - PrimaryNode - Predict in primary node by operation: glm\n"
          ]
        },
        {
          "output_type": "stream",
          "name": "stderr",
          "text": [
            "INFO:root:AssumptionsHandler - Initial pipeline was fitted successfully\n"
          ]
        },
        {
          "output_type": "stream",
          "name": "stdout",
          "text": [
            "2022-11-24 17:34:14,572 - AssumptionsHandler - Initial pipeline was fitted successfully\n"
          ]
        },
        {
          "output_type": "stream",
          "name": "stderr",
          "text": [
            "CRITICAL:root:ApiComposer - Initial pipeline was fitted in 0.3 sec.\n"
          ]
        },
        {
          "output_type": "stream",
          "name": "stdout",
          "text": [
            "2022-11-24 17:34:14,577 - ApiComposer - Initial pipeline was fitted in 0.3 sec.\n"
          ]
        },
        {
          "output_type": "stream",
          "name": "stderr",
          "text": [
            "CRITICAL:root:ApiComposer - AutoML configured. Parameters tuning: False Time limit: 3 min Set of candidate models: ['pca', 'dtreg', 'gaussian_filter', 'stl_arima', 'ets', 'arima', 'ts_naive_average', 'smoothing', 'glm', 'cut', 'ar', 'fast_ica', 'normalization', 'linear', 'scaling', 'lasso', 'locf', 'ridge', 'polyfit', 'sgdr', 'sparse_lagged', 'diff_filter', 'adareg', 'lagged']\n"
          ]
        },
        {
          "output_type": "stream",
          "name": "stdout",
          "text": [
            "2022-11-24 17:34:14,596 - ApiComposer - AutoML configured. Parameters tuning: False Time limit: 3 min Set of candidate models: ['pca', 'dtreg', 'gaussian_filter', 'stl_arima', 'ets', 'arima', 'ts_naive_average', 'smoothing', 'glm', 'cut', 'ar', 'fast_ica', 'normalization', 'linear', 'scaling', 'lasso', 'locf', 'ridge', 'polyfit', 'sgdr', 'sparse_lagged', 'diff_filter', 'adareg', 'lagged']\n"
          ]
        },
        {
          "output_type": "stream",
          "name": "stderr",
          "text": [
            "CRITICAL:root:ApiComposer - Pipeline composition started.\n"
          ]
        },
        {
          "output_type": "stream",
          "name": "stdout",
          "text": [
            "2022-11-24 17:34:14,624 - ApiComposer - Pipeline composition started.\n"
          ]
        },
        {
          "output_type": "stream",
          "name": "stderr",
          "text": [
            "INFO:root:DataSourceSplitter - K-folds cross validation is applied.\n"
          ]
        },
        {
          "output_type": "stream",
          "name": "stdout",
          "text": [
            "2022-11-24 17:34:14,629 - DataSourceSplitter - K-folds cross validation is applied.\n"
          ]
        },
        {
          "output_type": "stream",
          "name": "stderr",
          "text": [
            "\rGenerations:  33%|███▎      | 1/3 [00:00<?, ?gen/s]INFO:root:MultiprocessingDispatcher - Number of used CPU's: 2\n"
          ]
        },
        {
          "output_type": "stream",
          "name": "stdout",
          "text": [
            "2022-11-24 17:34:14,643 - MultiprocessingDispatcher - Number of used CPU's: 2\n"
          ]
        },
        {
          "output_type": "stream",
          "name": "stderr",
          "text": [
            "INFO:root:EvoGraphOptimizer - Generation num: 1\n"
          ]
        },
        {
          "output_type": "stream",
          "name": "stdout",
          "text": [
            "2022-11-24 17:34:22,510 - EvoGraphOptimizer - Generation num: 1\n"
          ]
        },
        {
          "output_type": "stream",
          "name": "stderr",
          "text": [
            "INFO:root:EvoGraphOptimizer - Best individuals: HallOfFame archive fitness: [{<bound method QualityMetric.get_value of <class 'fedot.core.composer.metrics.RMSE'>>: 3.938198928380153, <ComplexityMetricsEnum.node_num: 'node_number'>: 0.4}]\n"
          ]
        },
        {
          "output_type": "stream",
          "name": "stdout",
          "text": [
            "2022-11-24 17:34:22,515 - EvoGraphOptimizer - Best individuals: HallOfFame archive fitness: [{<bound method QualityMetric.get_value of <class 'fedot.core.composer.metrics.RMSE'>>: 3.938198928380153, <ComplexityMetricsEnum.node_num: 'node_number'>: 0.4}]\n"
          ]
        },
        {
          "output_type": "stream",
          "name": "stderr",
          "text": [
            "INFO:root:EvoGraphOptimizer - no improvements for 0 iterations\n"
          ]
        },
        {
          "output_type": "stream",
          "name": "stdout",
          "text": [
            "2022-11-24 17:34:22,519 - EvoGraphOptimizer - no improvements for 0 iterations\n"
          ]
        },
        {
          "output_type": "stream",
          "name": "stderr",
          "text": [
            "INFO:root:EvoGraphOptimizer - spent time: 0.1 min\n"
          ]
        },
        {
          "output_type": "stream",
          "name": "stdout",
          "text": [
            "2022-11-24 17:34:22,523 - EvoGraphOptimizer - spent time: 0.1 min\n"
          ]
        },
        {
          "output_type": "stream",
          "name": "stderr",
          "text": [
            "INFO:root:MultiprocessingDispatcher - Number of used CPU's: 2\n"
          ]
        },
        {
          "output_type": "stream",
          "name": "stdout",
          "text": [
            "2022-11-24 17:34:24,182 - MultiprocessingDispatcher - Number of used CPU's: 2\n"
          ]
        },
        {
          "output_type": "stream",
          "name": "stderr",
          "text": [
            "INFO:root:EvoGraphOptimizer - Generation num: 2\n"
          ]
        },
        {
          "output_type": "stream",
          "name": "stdout",
          "text": [
            "2022-11-24 17:34:44,020 - EvoGraphOptimizer - Generation num: 2\n"
          ]
        },
        {
          "output_type": "stream",
          "name": "stderr",
          "text": [
            "INFO:root:EvoGraphOptimizer - Best individuals: HallOfFame archive fitness: [{<bound method QualityMetric.get_value of <class 'fedot.core.composer.metrics.RMSE'>>: 3.7529516631888553, <ComplexityMetricsEnum.node_num: 'node_number'>: 0.4}]\n"
          ]
        },
        {
          "output_type": "stream",
          "name": "stdout",
          "text": [
            "2022-11-24 17:34:44,025 - EvoGraphOptimizer - Best individuals: HallOfFame archive fitness: [{<bound method QualityMetric.get_value of <class 'fedot.core.composer.metrics.RMSE'>>: 3.7529516631888553, <ComplexityMetricsEnum.node_num: 'node_number'>: 0.4}]\n"
          ]
        },
        {
          "output_type": "stream",
          "name": "stderr",
          "text": [
            "INFO:root:EvoGraphOptimizer - no improvements for 0 iterations\n"
          ]
        },
        {
          "output_type": "stream",
          "name": "stdout",
          "text": [
            "2022-11-24 17:34:44,029 - EvoGraphOptimizer - no improvements for 0 iterations\n"
          ]
        },
        {
          "output_type": "stream",
          "name": "stderr",
          "text": [
            "INFO:root:EvoGraphOptimizer - spent time: 0.5 min\n"
          ]
        },
        {
          "output_type": "stream",
          "name": "stdout",
          "text": [
            "2022-11-24 17:34:44,032 - EvoGraphOptimizer - spent time: 0.5 min\n"
          ]
        },
        {
          "output_type": "stream",
          "name": "stderr",
          "text": [
            "INFO:root:EvoGraphOptimizer - Next population size: 34; max graph depth: 5\n"
          ]
        },
        {
          "output_type": "stream",
          "name": "stdout",
          "text": [
            "2022-11-24 17:34:44,036 - EvoGraphOptimizer - Next population size: 34; max graph depth: 5\n"
          ]
        },
        {
          "output_type": "stream",
          "name": "stderr",
          "text": [
            "INFO:root:MultiprocessingDispatcher - Number of used CPU's: 2\n"
          ]
        },
        {
          "output_type": "stream",
          "name": "stdout",
          "text": [
            "2022-11-24 17:34:44,828 - MultiprocessingDispatcher - Number of used CPU's: 2\n"
          ]
        },
        {
          "output_type": "stream",
          "name": "stderr",
          "text": [
            "INFO:root:EvoGraphOptimizer - Generation num: 3\n"
          ]
        },
        {
          "output_type": "stream",
          "name": "stdout",
          "text": [
            "2022-11-24 17:35:05,713 - EvoGraphOptimizer - Generation num: 3\n"
          ]
        },
        {
          "output_type": "stream",
          "name": "stderr",
          "text": [
            "INFO:root:EvoGraphOptimizer - Best individuals: HallOfFame archive fitness: [{<bound method QualityMetric.get_value of <class 'fedot.core.composer.metrics.RMSE'>>: 3.7529516631888553, <ComplexityMetricsEnum.node_num: 'node_number'>: 0.4}]\n"
          ]
        },
        {
          "output_type": "stream",
          "name": "stdout",
          "text": [
            "2022-11-24 17:35:05,719 - EvoGraphOptimizer - Best individuals: HallOfFame archive fitness: [{<bound method QualityMetric.get_value of <class 'fedot.core.composer.metrics.RMSE'>>: 3.7529516631888553, <ComplexityMetricsEnum.node_num: 'node_number'>: 0.4}]\n"
          ]
        },
        {
          "output_type": "stream",
          "name": "stderr",
          "text": [
            "INFO:root:EvoGraphOptimizer - no improvements for 1 iterations\n"
          ]
        },
        {
          "output_type": "stream",
          "name": "stdout",
          "text": [
            "2022-11-24 17:35:05,722 - EvoGraphOptimizer - no improvements for 1 iterations\n"
          ]
        },
        {
          "output_type": "stream",
          "name": "stderr",
          "text": [
            "INFO:root:EvoGraphOptimizer - spent time: 0.9 min\n"
          ]
        },
        {
          "output_type": "stream",
          "name": "stdout",
          "text": [
            "2022-11-24 17:35:05,726 - EvoGraphOptimizer - spent time: 0.9 min\n"
          ]
        },
        {
          "output_type": "stream",
          "name": "stderr",
          "text": [
            "INFO:root:EvoGraphOptimizer - Next population size: 55; max graph depth: 5\n"
          ]
        },
        {
          "output_type": "stream",
          "name": "stdout",
          "text": [
            "2022-11-24 17:35:05,730 - EvoGraphOptimizer - Next population size: 55; max graph depth: 5\n"
          ]
        },
        {
          "output_type": "stream",
          "name": "stderr",
          "text": [
            "INFO:root:MultiprocessingDispatcher - Number of used CPU's: 2\n"
          ]
        },
        {
          "output_type": "stream",
          "name": "stdout",
          "text": [
            "2022-11-24 17:35:07,033 - MultiprocessingDispatcher - Number of used CPU's: 2\n"
          ]
        },
        {
          "output_type": "stream",
          "name": "stderr",
          "text": [
            "INFO:root:EvoGraphOptimizer - Generation num: 4\n"
          ]
        },
        {
          "output_type": "stream",
          "name": "stdout",
          "text": [
            "2022-11-24 17:35:26,602 - EvoGraphOptimizer - Generation num: 4\n"
          ]
        },
        {
          "output_type": "stream",
          "name": "stderr",
          "text": [
            "INFO:root:EvoGraphOptimizer - Best individuals: HallOfFame archive fitness: [{<bound method QualityMetric.get_value of <class 'fedot.core.composer.metrics.RMSE'>>: 3.4958583340017784, <ComplexityMetricsEnum.node_num: 'node_number'>: 1.0}]\n"
          ]
        },
        {
          "output_type": "stream",
          "name": "stdout",
          "text": [
            "2022-11-24 17:35:26,613 - EvoGraphOptimizer - Best individuals: HallOfFame archive fitness: [{<bound method QualityMetric.get_value of <class 'fedot.core.composer.metrics.RMSE'>>: 3.4958583340017784, <ComplexityMetricsEnum.node_num: 'node_number'>: 1.0}]\n"
          ]
        },
        {
          "output_type": "stream",
          "name": "stderr",
          "text": [
            "INFO:root:EvoGraphOptimizer - no improvements for 0 iterations\n"
          ]
        },
        {
          "output_type": "stream",
          "name": "stdout",
          "text": [
            "2022-11-24 17:35:26,621 - EvoGraphOptimizer - no improvements for 0 iterations\n"
          ]
        },
        {
          "output_type": "stream",
          "name": "stderr",
          "text": [
            "INFO:root:EvoGraphOptimizer - spent time: 1.2 min\n"
          ]
        },
        {
          "output_type": "stream",
          "name": "stdout",
          "text": [
            "2022-11-24 17:35:26,624 - EvoGraphOptimizer - spent time: 1.2 min\n"
          ]
        },
        {
          "output_type": "stream",
          "name": "stderr",
          "text": [
            "CRITICAL:root:GroupedCondition - Optimisation stopped: Max number of generations reached\n"
          ]
        },
        {
          "output_type": "stream",
          "name": "stdout",
          "text": [
            "2022-11-24 17:35:26,628 - GroupedCondition - Optimisation stopped: Max number of generations reached\n"
          ]
        },
        {
          "output_type": "stream",
          "name": "stderr",
          "text": [
            "\rGenerations:  33%|███▎      | 1/3 [01:11<?, ?gen/s]\n",
            "INFO:root:OptimisationTimer - Composition time: 1.2 min\n"
          ]
        },
        {
          "output_type": "stream",
          "name": "stdout",
          "text": [
            "2022-11-24 17:35:26,633 - OptimisationTimer - Composition time: 1.2 min\n"
          ]
        },
        {
          "output_type": "stream",
          "name": "stderr",
          "text": [
            "INFO:root:GPComposer - GP composition finished\n"
          ]
        },
        {
          "output_type": "stream",
          "name": "stdout",
          "text": [
            "2022-11-24 17:35:26,641 - GPComposer - GP composition finished\n"
          ]
        },
        {
          "output_type": "stream",
          "name": "stderr",
          "text": [
            "CRITICAL:root:ApiComposer - Model generation finished\n"
          ]
        },
        {
          "output_type": "stream",
          "name": "stdout",
          "text": [
            "2022-11-24 17:35:26,967 - ApiComposer - Model generation finished\n"
          ]
        },
        {
          "output_type": "stream",
          "name": "stderr",
          "text": [
            "CRITICAL:root:FEDOT logger - Final pipeline was fitted\n"
          ]
        },
        {
          "output_type": "stream",
          "name": "stdout",
          "text": [
            "2022-11-24 17:35:27,807 - FEDOT logger - Final pipeline was fitted\n"
          ]
        },
        {
          "output_type": "stream",
          "name": "stderr",
          "text": [
            "CRITICAL:root:FEDOT logger - Final pipeline: {'depth': 8, 'length': 10, 'nodes': [ridge, ridge, glm, ridge, ridge, glm, ridge, sparse_lagged, linear, decompose]}\n"
          ]
        },
        {
          "output_type": "stream",
          "name": "stdout",
          "text": [
            "2022-11-24 17:35:27,817 - FEDOT logger - Final pipeline: {'depth': 8, 'length': 10, 'nodes': [ridge, ridge, glm, ridge, ridge, glm, ridge, sparse_lagged, linear, decompose]}\n"
          ]
        },
        {
          "output_type": "stream",
          "name": "stderr",
          "text": [
            "DEBUG:root:SecondaryNode - Obtain prediction in secondary node with operation: ridge\n"
          ]
        },
        {
          "output_type": "stream",
          "name": "stdout",
          "text": [
            "2022-11-24 17:35:27,824 - SecondaryNode - Obtain prediction in secondary node with operation: ridge\n"
          ]
        },
        {
          "output_type": "stream",
          "name": "stderr",
          "text": [
            "DEBUG:root:SecondaryNode - Fit all parent nodes in secondary node with operation: ridge\n"
          ]
        },
        {
          "output_type": "stream",
          "name": "stdout",
          "text": [
            "2022-11-24 17:35:27,830 - SecondaryNode - Fit all parent nodes in secondary node with operation: ridge\n"
          ]
        },
        {
          "output_type": "stream",
          "name": "stderr",
          "text": [
            "DEBUG:root:SecondaryNode - Obtain prediction in secondary node with operation: linear\n"
          ]
        },
        {
          "output_type": "stream",
          "name": "stdout",
          "text": [
            "2022-11-24 17:35:27,834 - SecondaryNode - Obtain prediction in secondary node with operation: linear\n"
          ]
        },
        {
          "output_type": "stream",
          "name": "stderr",
          "text": [
            "DEBUG:root:SecondaryNode - Fit all parent nodes in secondary node with operation: linear\n"
          ]
        },
        {
          "output_type": "stream",
          "name": "stdout",
          "text": [
            "2022-11-24 17:35:27,837 - SecondaryNode - Fit all parent nodes in secondary node with operation: linear\n"
          ]
        },
        {
          "output_type": "stream",
          "name": "stderr",
          "text": [
            "DEBUG:root:SecondaryNode - Obtain prediction in secondary node with operation: decompose\n"
          ]
        },
        {
          "output_type": "stream",
          "name": "stdout",
          "text": [
            "2022-11-24 17:35:27,841 - SecondaryNode - Obtain prediction in secondary node with operation: decompose\n"
          ]
        },
        {
          "output_type": "stream",
          "name": "stderr",
          "text": [
            "DEBUG:root:SecondaryNode - Fit all parent nodes in secondary node with operation: decompose\n"
          ]
        },
        {
          "output_type": "stream",
          "name": "stdout",
          "text": [
            "2022-11-24 17:35:27,847 - SecondaryNode - Fit all parent nodes in secondary node with operation: decompose\n"
          ]
        },
        {
          "output_type": "stream",
          "name": "stderr",
          "text": [
            "DEBUG:root:SecondaryNode - Obtain prediction in secondary node with operation: ridge\n"
          ]
        },
        {
          "output_type": "stream",
          "name": "stdout",
          "text": [
            "2022-11-24 17:35:27,852 - SecondaryNode - Obtain prediction in secondary node with operation: ridge\n"
          ]
        },
        {
          "output_type": "stream",
          "name": "stderr",
          "text": [
            "DEBUG:root:SecondaryNode - Fit all parent nodes in secondary node with operation: ridge\n"
          ]
        },
        {
          "output_type": "stream",
          "name": "stdout",
          "text": [
            "2022-11-24 17:35:27,857 - SecondaryNode - Fit all parent nodes in secondary node with operation: ridge\n"
          ]
        },
        {
          "output_type": "stream",
          "name": "stderr",
          "text": [
            "DEBUG:root:SecondaryNode - Obtain prediction in secondary node with operation: ridge\n"
          ]
        },
        {
          "output_type": "stream",
          "name": "stdout",
          "text": [
            "2022-11-24 17:35:27,863 - SecondaryNode - Obtain prediction in secondary node with operation: ridge\n"
          ]
        },
        {
          "output_type": "stream",
          "name": "stderr",
          "text": [
            "DEBUG:root:SecondaryNode - Fit all parent nodes in secondary node with operation: ridge\n"
          ]
        },
        {
          "output_type": "stream",
          "name": "stdout",
          "text": [
            "2022-11-24 17:35:27,868 - SecondaryNode - Fit all parent nodes in secondary node with operation: ridge\n"
          ]
        },
        {
          "output_type": "stream",
          "name": "stderr",
          "text": [
            "DEBUG:root:SecondaryNode - Obtain prediction in secondary node with operation: ridge\n"
          ]
        },
        {
          "output_type": "stream",
          "name": "stdout",
          "text": [
            "2022-11-24 17:35:27,873 - SecondaryNode - Obtain prediction in secondary node with operation: ridge\n"
          ]
        },
        {
          "output_type": "stream",
          "name": "stderr",
          "text": [
            "DEBUG:root:SecondaryNode - Fit all parent nodes in secondary node with operation: ridge\n"
          ]
        },
        {
          "output_type": "stream",
          "name": "stdout",
          "text": [
            "2022-11-24 17:35:27,885 - SecondaryNode - Fit all parent nodes in secondary node with operation: ridge\n"
          ]
        },
        {
          "output_type": "stream",
          "name": "stderr",
          "text": [
            "DEBUG:root:SecondaryNode - Obtain prediction in secondary node with operation: ridge\n"
          ]
        },
        {
          "output_type": "stream",
          "name": "stdout",
          "text": [
            "2022-11-24 17:35:27,889 - SecondaryNode - Obtain prediction in secondary node with operation: ridge\n"
          ]
        },
        {
          "output_type": "stream",
          "name": "stderr",
          "text": [
            "DEBUG:root:SecondaryNode - Fit all parent nodes in secondary node with operation: ridge\n"
          ]
        },
        {
          "output_type": "stream",
          "name": "stdout",
          "text": [
            "2022-11-24 17:35:27,894 - SecondaryNode - Fit all parent nodes in secondary node with operation: ridge\n"
          ]
        },
        {
          "output_type": "stream",
          "name": "stderr",
          "text": [
            "DEBUG:root:PrimaryNode - Predict in primary node by operation: sparse_lagged\n"
          ]
        },
        {
          "output_type": "stream",
          "name": "stdout",
          "text": [
            "2022-11-24 17:35:27,899 - PrimaryNode - Predict in primary node by operation: sparse_lagged\n"
          ]
        },
        {
          "output_type": "stream",
          "name": "stderr",
          "text": [
            "WARNING:root:OperationTypesRepository - Operation sparse_lagged not found in the repository\n"
          ]
        },
        {
          "output_type": "stream",
          "name": "stdout",
          "text": [
            "2022-11-24 17:35:28,076 - OperationTypesRepository - Operation sparse_lagged not found in the repository\n"
          ]
        },
        {
          "output_type": "stream",
          "name": "stderr",
          "text": [
            "WARNING:root:OperationTypesRepository - Operation decompose not found in the repository\n"
          ]
        },
        {
          "output_type": "stream",
          "name": "stdout",
          "text": [
            "2022-11-24 17:35:28,082 - OperationTypesRepository - Operation decompose not found in the repository\n"
          ]
        },
        {
          "output_type": "stream",
          "name": "stderr",
          "text": [
            "DEBUG:matplotlib.font_manager:findfont: Matching sans\\-serif:style=normal:variant=normal:weight=normal:stretch=normal:size=8.0.\n"
          ]
        },
        {
          "output_type": "stream",
          "name": "stdout",
          "text": [
            "2022-11-24 17:35:28,248 - findfont: Matching sans\\-serif:style=normal:variant=normal:weight=normal:stretch=normal:size=8.0.\n"
          ]
        },
        {
          "output_type": "stream",
          "name": "stderr",
          "text": [
            "DEBUG:matplotlib.font_manager:findfont: score(<Font 'DejaVu Serif' (DejaVuSerif-Bold.ttf) normal normal 700 normal>) = 10.335\n"
          ]
        },
        {
          "output_type": "stream",
          "name": "stdout",
          "text": [
            "2022-11-24 17:35:28,256 - findfont: score(<Font 'DejaVu Serif' (DejaVuSerif-Bold.ttf) normal normal 700 normal>) = 10.335\n"
          ]
        },
        {
          "output_type": "stream",
          "name": "stderr",
          "text": [
            "DEBUG:matplotlib.font_manager:findfont: score(<Font 'DejaVu Sans Mono' (DejaVuSansMono-BoldOblique.ttf) oblique normal 700 normal>) = 11.335\n"
          ]
        },
        {
          "output_type": "stream",
          "name": "stdout",
          "text": [
            "2022-11-24 17:35:28,261 - findfont: score(<Font 'DejaVu Sans Mono' (DejaVuSansMono-BoldOblique.ttf) oblique normal 700 normal>) = 11.335\n"
          ]
        },
        {
          "output_type": "stream",
          "name": "stderr",
          "text": [
            "DEBUG:matplotlib.font_manager:findfont: score(<Font 'STIXNonUnicode' (STIXNonUniBol.ttf) normal normal 700 normal>) = 10.335\n"
          ]
        },
        {
          "output_type": "stream",
          "name": "stdout",
          "text": [
            "2022-11-24 17:35:28,264 - findfont: score(<Font 'STIXNonUnicode' (STIXNonUniBol.ttf) normal normal 700 normal>) = 10.335\n"
          ]
        },
        {
          "output_type": "stream",
          "name": "stderr",
          "text": [
            "DEBUG:matplotlib.font_manager:findfont: score(<Font 'STIXGeneral' (STIXGeneralBol.ttf) normal normal 700 normal>) = 10.335\n"
          ]
        },
        {
          "output_type": "stream",
          "name": "stdout",
          "text": [
            "2022-11-24 17:35:28,267 - findfont: score(<Font 'STIXGeneral' (STIXGeneralBol.ttf) normal normal 700 normal>) = 10.335\n"
          ]
        },
        {
          "output_type": "stream",
          "name": "stderr",
          "text": [
            "DEBUG:matplotlib.font_manager:findfont: score(<Font 'DejaVu Sans' (DejaVuSans-Oblique.ttf) oblique normal 400 normal>) = 1.05\n"
          ]
        },
        {
          "output_type": "stream",
          "name": "stdout",
          "text": [
            "2022-11-24 17:35:28,270 - findfont: score(<Font 'DejaVu Sans' (DejaVuSans-Oblique.ttf) oblique normal 400 normal>) = 1.05\n"
          ]
        },
        {
          "output_type": "stream",
          "name": "stderr",
          "text": [
            "DEBUG:matplotlib.font_manager:findfont: score(<Font 'STIXSizeOneSym' (STIXSizOneSymBol.ttf) normal normal 700 normal>) = 10.335\n"
          ]
        },
        {
          "output_type": "stream",
          "name": "stdout",
          "text": [
            "2022-11-24 17:35:28,272 - findfont: score(<Font 'STIXSizeOneSym' (STIXSizOneSymBol.ttf) normal normal 700 normal>) = 10.335\n"
          ]
        },
        {
          "output_type": "stream",
          "name": "stderr",
          "text": [
            "DEBUG:matplotlib.font_manager:findfont: score(<Font 'cmmi10' (cmmi10.ttf) normal normal 400 normal>) = 10.05\n"
          ]
        },
        {
          "output_type": "stream",
          "name": "stdout",
          "text": [
            "2022-11-24 17:35:28,276 - findfont: score(<Font 'cmmi10' (cmmi10.ttf) normal normal 400 normal>) = 10.05\n"
          ]
        },
        {
          "output_type": "stream",
          "name": "stderr",
          "text": [
            "DEBUG:matplotlib.font_manager:findfont: score(<Font 'DejaVu Sans Mono' (DejaVuSansMono-Bold.ttf) normal normal 700 normal>) = 10.335\n"
          ]
        },
        {
          "output_type": "stream",
          "name": "stdout",
          "text": [
            "2022-11-24 17:35:28,279 - findfont: score(<Font 'DejaVu Sans Mono' (DejaVuSansMono-Bold.ttf) normal normal 700 normal>) = 10.335\n"
          ]
        },
        {
          "output_type": "stream",
          "name": "stderr",
          "text": [
            "DEBUG:matplotlib.font_manager:findfont: score(<Font 'DejaVu Serif' (DejaVuSerif.ttf) normal normal 400 normal>) = 10.05\n"
          ]
        },
        {
          "output_type": "stream",
          "name": "stdout",
          "text": [
            "2022-11-24 17:35:28,282 - findfont: score(<Font 'DejaVu Serif' (DejaVuSerif.ttf) normal normal 400 normal>) = 10.05\n"
          ]
        },
        {
          "output_type": "stream",
          "name": "stderr",
          "text": [
            "DEBUG:matplotlib.font_manager:findfont: score(<Font 'STIXSizeFiveSym' (STIXSizFiveSymReg.ttf) normal normal regular normal>) = 10.05\n"
          ]
        },
        {
          "output_type": "stream",
          "name": "stdout",
          "text": [
            "2022-11-24 17:35:28,284 - findfont: score(<Font 'STIXSizeFiveSym' (STIXSizFiveSymReg.ttf) normal normal regular normal>) = 10.05\n"
          ]
        },
        {
          "output_type": "stream",
          "name": "stderr",
          "text": [
            "DEBUG:matplotlib.font_manager:findfont: score(<Font 'DejaVu Serif' (DejaVuSerif-Italic.ttf) italic normal 400 normal>) = 11.05\n"
          ]
        },
        {
          "output_type": "stream",
          "name": "stdout",
          "text": [
            "2022-11-24 17:35:28,287 - findfont: score(<Font 'DejaVu Serif' (DejaVuSerif-Italic.ttf) italic normal 400 normal>) = 11.05\n"
          ]
        },
        {
          "output_type": "stream",
          "name": "stderr",
          "text": [
            "DEBUG:matplotlib.font_manager:findfont: score(<Font 'STIXNonUnicode' (STIXNonUni.ttf) normal normal regular normal>) = 10.05\n"
          ]
        },
        {
          "output_type": "stream",
          "name": "stdout",
          "text": [
            "2022-11-24 17:35:28,290 - findfont: score(<Font 'STIXNonUnicode' (STIXNonUni.ttf) normal normal regular normal>) = 10.05\n"
          ]
        },
        {
          "output_type": "stream",
          "name": "stderr",
          "text": [
            "DEBUG:matplotlib.font_manager:findfont: score(<Font 'DejaVu Sans' (DejaVuSans-BoldOblique.ttf) oblique normal 700 normal>) = 1.335\n"
          ]
        },
        {
          "output_type": "stream",
          "name": "stdout",
          "text": [
            "2022-11-24 17:35:28,293 - findfont: score(<Font 'DejaVu Sans' (DejaVuSans-BoldOblique.ttf) oblique normal 700 normal>) = 1.335\n"
          ]
        },
        {
          "output_type": "stream",
          "name": "stderr",
          "text": [
            "DEBUG:matplotlib.font_manager:findfont: score(<Font 'cmsy10' (cmsy10.ttf) normal normal 400 normal>) = 10.05\n"
          ]
        },
        {
          "output_type": "stream",
          "name": "stdout",
          "text": [
            "2022-11-24 17:35:28,296 - findfont: score(<Font 'cmsy10' (cmsy10.ttf) normal normal 400 normal>) = 10.05\n"
          ]
        },
        {
          "output_type": "stream",
          "name": "stderr",
          "text": [
            "DEBUG:matplotlib.font_manager:findfont: score(<Font 'cmr10' (cmr10.ttf) normal normal 400 normal>) = 10.05\n"
          ]
        },
        {
          "output_type": "stream",
          "name": "stdout",
          "text": [
            "2022-11-24 17:35:28,300 - findfont: score(<Font 'cmr10' (cmr10.ttf) normal normal 400 normal>) = 10.05\n"
          ]
        },
        {
          "output_type": "stream",
          "name": "stderr",
          "text": [
            "DEBUG:matplotlib.font_manager:findfont: score(<Font 'DejaVu Sans' (DejaVuSans.ttf) normal normal 400 normal>) = 0.05\n"
          ]
        },
        {
          "output_type": "stream",
          "name": "stdout",
          "text": [
            "2022-11-24 17:35:28,303 - findfont: score(<Font 'DejaVu Sans' (DejaVuSans.ttf) normal normal 400 normal>) = 0.05\n"
          ]
        },
        {
          "output_type": "stream",
          "name": "stderr",
          "text": [
            "DEBUG:matplotlib.font_manager:findfont: score(<Font 'STIXSizeThreeSym' (STIXSizThreeSymReg.ttf) normal normal regular normal>) = 10.05\n"
          ]
        },
        {
          "output_type": "stream",
          "name": "stdout",
          "text": [
            "2022-11-24 17:35:28,306 - findfont: score(<Font 'STIXSizeThreeSym' (STIXSizThreeSymReg.ttf) normal normal regular normal>) = 10.05\n"
          ]
        },
        {
          "output_type": "stream",
          "name": "stderr",
          "text": [
            "DEBUG:matplotlib.font_manager:findfont: score(<Font 'DejaVu Serif Display' (DejaVuSerifDisplay.ttf) normal normal 400 normal>) = 10.05\n"
          ]
        },
        {
          "output_type": "stream",
          "name": "stdout",
          "text": [
            "2022-11-24 17:35:28,309 - findfont: score(<Font 'DejaVu Serif Display' (DejaVuSerifDisplay.ttf) normal normal 400 normal>) = 10.05\n"
          ]
        },
        {
          "output_type": "stream",
          "name": "stderr",
          "text": [
            "DEBUG:matplotlib.font_manager:findfont: score(<Font 'STIXGeneral' (STIXGeneralItalic.ttf) italic normal 400 normal>) = 11.05\n"
          ]
        },
        {
          "output_type": "stream",
          "name": "stdout",
          "text": [
            "2022-11-24 17:35:28,313 - findfont: score(<Font 'STIXGeneral' (STIXGeneralItalic.ttf) italic normal 400 normal>) = 11.05\n"
          ]
        },
        {
          "output_type": "stream",
          "name": "stderr",
          "text": [
            "DEBUG:matplotlib.font_manager:findfont: score(<Font 'DejaVu Sans Mono' (DejaVuSansMono-Oblique.ttf) oblique normal 400 normal>) = 11.05\n"
          ]
        },
        {
          "output_type": "stream",
          "name": "stdout",
          "text": [
            "2022-11-24 17:35:28,316 - findfont: score(<Font 'DejaVu Sans Mono' (DejaVuSansMono-Oblique.ttf) oblique normal 400 normal>) = 11.05\n"
          ]
        },
        {
          "output_type": "stream",
          "name": "stderr",
          "text": [
            "DEBUG:matplotlib.font_manager:findfont: score(<Font 'DejaVu Serif' (DejaVuSerif-BoldItalic.ttf) italic normal 700 normal>) = 11.335\n"
          ]
        },
        {
          "output_type": "stream",
          "name": "stdout",
          "text": [
            "2022-11-24 17:35:28,319 - findfont: score(<Font 'DejaVu Serif' (DejaVuSerif-BoldItalic.ttf) italic normal 700 normal>) = 11.335\n"
          ]
        },
        {
          "output_type": "stream",
          "name": "stderr",
          "text": [
            "DEBUG:matplotlib.font_manager:findfont: score(<Font 'STIXGeneral' (STIXGeneralBolIta.ttf) italic normal 700 normal>) = 11.335\n"
          ]
        },
        {
          "output_type": "stream",
          "name": "stdout",
          "text": [
            "2022-11-24 17:35:28,322 - findfont: score(<Font 'STIXGeneral' (STIXGeneralBolIta.ttf) italic normal 700 normal>) = 11.335\n"
          ]
        },
        {
          "output_type": "stream",
          "name": "stderr",
          "text": [
            "DEBUG:matplotlib.font_manager:findfont: score(<Font 'STIXSizeThreeSym' (STIXSizThreeSymBol.ttf) normal normal 700 normal>) = 10.335\n"
          ]
        },
        {
          "output_type": "stream",
          "name": "stdout",
          "text": [
            "2022-11-24 17:35:28,326 - findfont: score(<Font 'STIXSizeThreeSym' (STIXSizThreeSymBol.ttf) normal normal 700 normal>) = 10.335\n"
          ]
        },
        {
          "output_type": "stream",
          "name": "stderr",
          "text": [
            "DEBUG:matplotlib.font_manager:findfont: score(<Font 'STIXNonUnicode' (STIXNonUniIta.ttf) italic normal 400 normal>) = 11.05\n"
          ]
        },
        {
          "output_type": "stream",
          "name": "stdout",
          "text": [
            "2022-11-24 17:35:28,329 - findfont: score(<Font 'STIXNonUnicode' (STIXNonUniIta.ttf) italic normal 400 normal>) = 11.05\n"
          ]
        },
        {
          "output_type": "stream",
          "name": "stderr",
          "text": [
            "DEBUG:matplotlib.font_manager:findfont: score(<Font 'DejaVu Sans' (DejaVuSans-Bold.ttf) normal normal 700 normal>) = 0.33499999999999996\n"
          ]
        },
        {
          "output_type": "stream",
          "name": "stdout",
          "text": [
            "2022-11-24 17:35:28,332 - findfont: score(<Font 'DejaVu Sans' (DejaVuSans-Bold.ttf) normal normal 700 normal>) = 0.33499999999999996\n"
          ]
        },
        {
          "output_type": "stream",
          "name": "stderr",
          "text": [
            "DEBUG:matplotlib.font_manager:findfont: score(<Font 'DejaVu Sans Display' (DejaVuSansDisplay.ttf) normal normal 400 normal>) = 10.05\n"
          ]
        },
        {
          "output_type": "stream",
          "name": "stdout",
          "text": [
            "2022-11-24 17:35:28,335 - findfont: score(<Font 'DejaVu Sans Display' (DejaVuSansDisplay.ttf) normal normal 400 normal>) = 10.05\n"
          ]
        },
        {
          "output_type": "stream",
          "name": "stderr",
          "text": [
            "DEBUG:matplotlib.font_manager:findfont: score(<Font 'cmb10' (cmb10.ttf) normal normal 400 normal>) = 10.05\n"
          ]
        },
        {
          "output_type": "stream",
          "name": "stdout",
          "text": [
            "2022-11-24 17:35:28,338 - findfont: score(<Font 'cmb10' (cmb10.ttf) normal normal 400 normal>) = 10.05\n"
          ]
        },
        {
          "output_type": "stream",
          "name": "stderr",
          "text": [
            "DEBUG:matplotlib.font_manager:findfont: score(<Font 'STIXSizeTwoSym' (STIXSizTwoSymBol.ttf) normal normal 700 normal>) = 10.335\n"
          ]
        },
        {
          "output_type": "stream",
          "name": "stdout",
          "text": [
            "2022-11-24 17:35:28,342 - findfont: score(<Font 'STIXSizeTwoSym' (STIXSizTwoSymBol.ttf) normal normal 700 normal>) = 10.335\n"
          ]
        },
        {
          "output_type": "stream",
          "name": "stderr",
          "text": [
            "DEBUG:matplotlib.font_manager:findfont: score(<Font 'DejaVu Sans Mono' (DejaVuSansMono.ttf) normal normal 400 normal>) = 10.05\n"
          ]
        },
        {
          "output_type": "stream",
          "name": "stdout",
          "text": [
            "2022-11-24 17:35:28,345 - findfont: score(<Font 'DejaVu Sans Mono' (DejaVuSansMono.ttf) normal normal 400 normal>) = 10.05\n"
          ]
        },
        {
          "output_type": "stream",
          "name": "stderr",
          "text": [
            "DEBUG:matplotlib.font_manager:findfont: score(<Font 'cmtt10' (cmtt10.ttf) normal normal 400 normal>) = 10.05\n"
          ]
        },
        {
          "output_type": "stream",
          "name": "stdout",
          "text": [
            "2022-11-24 17:35:28,348 - findfont: score(<Font 'cmtt10' (cmtt10.ttf) normal normal 400 normal>) = 10.05\n"
          ]
        },
        {
          "output_type": "stream",
          "name": "stderr",
          "text": [
            "DEBUG:matplotlib.font_manager:findfont: score(<Font 'STIXSizeOneSym' (STIXSizOneSymReg.ttf) normal normal regular normal>) = 10.05\n"
          ]
        },
        {
          "output_type": "stream",
          "name": "stdout",
          "text": [
            "2022-11-24 17:35:28,351 - findfont: score(<Font 'STIXSizeOneSym' (STIXSizOneSymReg.ttf) normal normal regular normal>) = 10.05\n"
          ]
        },
        {
          "output_type": "stream",
          "name": "stderr",
          "text": [
            "DEBUG:matplotlib.font_manager:findfont: score(<Font 'STIXSizeFourSym' (STIXSizFourSymReg.ttf) normal normal regular normal>) = 10.05\n"
          ]
        },
        {
          "output_type": "stream",
          "name": "stdout",
          "text": [
            "2022-11-24 17:35:28,354 - findfont: score(<Font 'STIXSizeFourSym' (STIXSizFourSymReg.ttf) normal normal regular normal>) = 10.05\n"
          ]
        },
        {
          "output_type": "stream",
          "name": "stderr",
          "text": [
            "DEBUG:matplotlib.font_manager:findfont: score(<Font 'cmex10' (cmex10.ttf) normal normal 400 normal>) = 10.05\n"
          ]
        },
        {
          "output_type": "stream",
          "name": "stdout",
          "text": [
            "2022-11-24 17:35:28,357 - findfont: score(<Font 'cmex10' (cmex10.ttf) normal normal 400 normal>) = 10.05\n"
          ]
        },
        {
          "output_type": "stream",
          "name": "stderr",
          "text": [
            "DEBUG:matplotlib.font_manager:findfont: score(<Font 'STIXSizeTwoSym' (STIXSizTwoSymReg.ttf) normal normal regular normal>) = 10.05\n"
          ]
        },
        {
          "output_type": "stream",
          "name": "stdout",
          "text": [
            "2022-11-24 17:35:28,360 - findfont: score(<Font 'STIXSizeTwoSym' (STIXSizTwoSymReg.ttf) normal normal regular normal>) = 10.05\n"
          ]
        },
        {
          "output_type": "stream",
          "name": "stderr",
          "text": [
            "DEBUG:matplotlib.font_manager:findfont: score(<Font 'STIXGeneral' (STIXGeneral.ttf) normal normal regular normal>) = 10.05\n"
          ]
        },
        {
          "output_type": "stream",
          "name": "stdout",
          "text": [
            "2022-11-24 17:35:28,363 - findfont: score(<Font 'STIXGeneral' (STIXGeneral.ttf) normal normal regular normal>) = 10.05\n"
          ]
        },
        {
          "output_type": "stream",
          "name": "stderr",
          "text": [
            "DEBUG:matplotlib.font_manager:findfont: score(<Font 'cmss10' (cmss10.ttf) normal normal 400 normal>) = 10.05\n"
          ]
        },
        {
          "output_type": "stream",
          "name": "stdout",
          "text": [
            "2022-11-24 17:35:28,366 - findfont: score(<Font 'cmss10' (cmss10.ttf) normal normal 400 normal>) = 10.05\n"
          ]
        },
        {
          "output_type": "stream",
          "name": "stderr",
          "text": [
            "DEBUG:matplotlib.font_manager:findfont: score(<Font 'STIXNonUnicode' (STIXNonUniBolIta.ttf) italic normal 700 normal>) = 11.335\n"
          ]
        },
        {
          "output_type": "stream",
          "name": "stdout",
          "text": [
            "2022-11-24 17:35:28,369 - findfont: score(<Font 'STIXNonUnicode' (STIXNonUniBolIta.ttf) italic normal 700 normal>) = 11.335\n"
          ]
        },
        {
          "output_type": "stream",
          "name": "stderr",
          "text": [
            "DEBUG:matplotlib.font_manager:findfont: score(<Font 'STIXSizeFourSym' (STIXSizFourSymBol.ttf) normal normal 700 normal>) = 10.335\n"
          ]
        },
        {
          "output_type": "stream",
          "name": "stdout",
          "text": [
            "2022-11-24 17:35:28,372 - findfont: score(<Font 'STIXSizeFourSym' (STIXSizFourSymBol.ttf) normal normal 700 normal>) = 10.335\n"
          ]
        },
        {
          "output_type": "stream",
          "name": "stderr",
          "text": [
            "DEBUG:matplotlib.font_manager:findfont: score(<Font 'Liberation Sans' (LiberationSans-Regular.ttf) normal normal 400 normal>) = 10.05\n"
          ]
        },
        {
          "output_type": "stream",
          "name": "stdout",
          "text": [
            "2022-11-24 17:35:28,375 - findfont: score(<Font 'Liberation Sans' (LiberationSans-Regular.ttf) normal normal 400 normal>) = 10.05\n"
          ]
        },
        {
          "output_type": "stream",
          "name": "stderr",
          "text": [
            "DEBUG:matplotlib.font_manager:findfont: score(<Font 'Liberation Serif' (LiberationSerif-Bold.ttf) normal normal 700 normal>) = 10.335\n"
          ]
        },
        {
          "output_type": "stream",
          "name": "stdout",
          "text": [
            "2022-11-24 17:35:28,378 - findfont: score(<Font 'Liberation Serif' (LiberationSerif-Bold.ttf) normal normal 700 normal>) = 10.335\n"
          ]
        },
        {
          "output_type": "stream",
          "name": "stderr",
          "text": [
            "DEBUG:matplotlib.font_manager:findfont: score(<Font 'Liberation Serif' (LiberationSerif-Italic.ttf) italic normal 400 normal>) = 11.05\n"
          ]
        },
        {
          "output_type": "stream",
          "name": "stdout",
          "text": [
            "2022-11-24 17:35:28,381 - findfont: score(<Font 'Liberation Serif' (LiberationSerif-Italic.ttf) italic normal 400 normal>) = 11.05\n"
          ]
        },
        {
          "output_type": "stream",
          "name": "stderr",
          "text": [
            "DEBUG:matplotlib.font_manager:findfont: score(<Font 'Liberation Mono' (LiberationMono-Regular.ttf) normal normal 400 normal>) = 10.05\n"
          ]
        },
        {
          "output_type": "stream",
          "name": "stdout",
          "text": [
            "2022-11-24 17:35:28,384 - findfont: score(<Font 'Liberation Mono' (LiberationMono-Regular.ttf) normal normal 400 normal>) = 10.05\n"
          ]
        },
        {
          "output_type": "stream",
          "name": "stderr",
          "text": [
            "DEBUG:matplotlib.font_manager:findfont: score(<Font 'Liberation Mono' (LiberationMono-Bold.ttf) normal normal 700 normal>) = 10.335\n"
          ]
        },
        {
          "output_type": "stream",
          "name": "stdout",
          "text": [
            "2022-11-24 17:35:28,387 - findfont: score(<Font 'Liberation Mono' (LiberationMono-Bold.ttf) normal normal 700 normal>) = 10.335\n"
          ]
        },
        {
          "output_type": "stream",
          "name": "stderr",
          "text": [
            "DEBUG:matplotlib.font_manager:findfont: score(<Font 'Liberation Sans Narrow' (LiberationSansNarrow-Regular.ttf) normal normal 400 condensed>) = 10.25\n"
          ]
        },
        {
          "output_type": "stream",
          "name": "stdout",
          "text": [
            "2022-11-24 17:35:28,390 - findfont: score(<Font 'Liberation Sans Narrow' (LiberationSansNarrow-Regular.ttf) normal normal 400 condensed>) = 10.25\n"
          ]
        },
        {
          "output_type": "stream",
          "name": "stderr",
          "text": [
            "DEBUG:matplotlib.font_manager:findfont: score(<Font 'Liberation Mono' (LiberationMono-BoldItalic.ttf) italic normal 700 normal>) = 11.335\n"
          ]
        },
        {
          "output_type": "stream",
          "name": "stdout",
          "text": [
            "2022-11-24 17:35:28,393 - findfont: score(<Font 'Liberation Mono' (LiberationMono-BoldItalic.ttf) italic normal 700 normal>) = 11.335\n"
          ]
        },
        {
          "output_type": "stream",
          "name": "stderr",
          "text": [
            "DEBUG:matplotlib.font_manager:findfont: score(<Font 'Liberation Sans' (LiberationSans-BoldItalic.ttf) italic normal 700 normal>) = 11.335\n"
          ]
        },
        {
          "output_type": "stream",
          "name": "stdout",
          "text": [
            "2022-11-24 17:35:28,396 - findfont: score(<Font 'Liberation Sans' (LiberationSans-BoldItalic.ttf) italic normal 700 normal>) = 11.335\n"
          ]
        },
        {
          "output_type": "stream",
          "name": "stderr",
          "text": [
            "DEBUG:matplotlib.font_manager:findfont: score(<Font 'Liberation Mono' (LiberationMono-Italic.ttf) italic normal 400 normal>) = 11.05\n"
          ]
        },
        {
          "output_type": "stream",
          "name": "stdout",
          "text": [
            "2022-11-24 17:35:28,399 - findfont: score(<Font 'Liberation Mono' (LiberationMono-Italic.ttf) italic normal 400 normal>) = 11.05\n"
          ]
        },
        {
          "output_type": "stream",
          "name": "stderr",
          "text": [
            "DEBUG:matplotlib.font_manager:findfont: score(<Font 'Liberation Sans' (LiberationSans-Italic.ttf) italic normal 400 normal>) = 11.05\n"
          ]
        },
        {
          "output_type": "stream",
          "name": "stdout",
          "text": [
            "2022-11-24 17:35:28,402 - findfont: score(<Font 'Liberation Sans' (LiberationSans-Italic.ttf) italic normal 400 normal>) = 11.05\n"
          ]
        },
        {
          "output_type": "stream",
          "name": "stderr",
          "text": [
            "DEBUG:matplotlib.font_manager:findfont: score(<Font 'Liberation Sans' (LiberationSans-Bold.ttf) normal normal 700 normal>) = 10.335\n"
          ]
        },
        {
          "output_type": "stream",
          "name": "stdout",
          "text": [
            "2022-11-24 17:35:28,405 - findfont: score(<Font 'Liberation Sans' (LiberationSans-Bold.ttf) normal normal 700 normal>) = 10.335\n"
          ]
        },
        {
          "output_type": "stream",
          "name": "stderr",
          "text": [
            "DEBUG:matplotlib.font_manager:findfont: score(<Font 'Liberation Sans Narrow' (LiberationSansNarrow-BoldItalic.ttf) italic normal 700 condensed>) = 11.535\n"
          ]
        },
        {
          "output_type": "stream",
          "name": "stdout",
          "text": [
            "2022-11-24 17:35:28,408 - findfont: score(<Font 'Liberation Sans Narrow' (LiberationSansNarrow-BoldItalic.ttf) italic normal 700 condensed>) = 11.535\n"
          ]
        },
        {
          "output_type": "stream",
          "name": "stderr",
          "text": [
            "DEBUG:matplotlib.font_manager:findfont: score(<Font 'Liberation Serif' (LiberationSerif-BoldItalic.ttf) italic normal 700 normal>) = 11.335\n"
          ]
        },
        {
          "output_type": "stream",
          "name": "stdout",
          "text": [
            "2022-11-24 17:35:28,411 - findfont: score(<Font 'Liberation Serif' (LiberationSerif-BoldItalic.ttf) italic normal 700 normal>) = 11.335\n"
          ]
        },
        {
          "output_type": "stream",
          "name": "stderr",
          "text": [
            "DEBUG:matplotlib.font_manager:findfont: score(<Font 'Liberation Sans Narrow' (LiberationSansNarrow-Bold.ttf) normal normal 700 condensed>) = 10.535\n"
          ]
        },
        {
          "output_type": "stream",
          "name": "stdout",
          "text": [
            "2022-11-24 17:35:28,414 - findfont: score(<Font 'Liberation Sans Narrow' (LiberationSansNarrow-Bold.ttf) normal normal 700 condensed>) = 10.535\n"
          ]
        },
        {
          "output_type": "stream",
          "name": "stderr",
          "text": [
            "DEBUG:matplotlib.font_manager:findfont: score(<Font 'Humor Sans' (Humor-Sans.ttf) normal normal 400 normal>) = 10.05\n"
          ]
        },
        {
          "output_type": "stream",
          "name": "stdout",
          "text": [
            "2022-11-24 17:35:28,417 - findfont: score(<Font 'Humor Sans' (Humor-Sans.ttf) normal normal 400 normal>) = 10.05\n"
          ]
        },
        {
          "output_type": "stream",
          "name": "stderr",
          "text": [
            "DEBUG:matplotlib.font_manager:findfont: score(<Font 'Liberation Serif' (LiberationSerif-Regular.ttf) normal normal 400 normal>) = 10.05\n"
          ]
        },
        {
          "output_type": "stream",
          "name": "stdout",
          "text": [
            "2022-11-24 17:35:28,420 - findfont: score(<Font 'Liberation Serif' (LiberationSerif-Regular.ttf) normal normal 400 normal>) = 10.05\n"
          ]
        },
        {
          "output_type": "stream",
          "name": "stderr",
          "text": [
            "DEBUG:matplotlib.font_manager:findfont: score(<Font 'Liberation Sans Narrow' (LiberationSansNarrow-Italic.ttf) italic normal 400 condensed>) = 11.25\n"
          ]
        },
        {
          "output_type": "stream",
          "name": "stdout",
          "text": [
            "2022-11-24 17:35:28,422 - findfont: score(<Font 'Liberation Sans Narrow' (LiberationSansNarrow-Italic.ttf) italic normal 400 condensed>) = 11.25\n"
          ]
        },
        {
          "output_type": "stream",
          "name": "stderr",
          "text": [
            "DEBUG:matplotlib.font_manager:findfont: Matching sans\\-serif:style=normal:variant=normal:weight=normal:stretch=normal:size=8.0 to DejaVu Sans ('/usr/local/lib/python3.7/dist-packages/matplotlib/mpl-data/fonts/ttf/DejaVuSans.ttf') with score of 0.050000.\n"
          ]
        },
        {
          "output_type": "stream",
          "name": "stdout",
          "text": [
            "2022-11-24 17:35:28,426 - findfont: Matching sans\\-serif:style=normal:variant=normal:weight=normal:stretch=normal:size=8.0 to DejaVu Sans ('/usr/local/lib/python3.7/dist-packages/matplotlib/mpl-data/fonts/ttf/DejaVuSans.ttf') with score of 0.050000.\n"
          ]
        },
        {
          "output_type": "display_data",
          "data": {
            "text/plain": [
              "<Figure size 2100x2100 with 1 Axes>"
            ],
            "image/png": "[encoded data removed]"
          },
          "metadata": {}
        }
      ]
    },
    {
      "cell_type": "code",
      "source": [
        "fig,ax  = plt.subplots()\n",
        "fig.set(figwidth = 15,figheight = 7)\n",
        "test_range = range(len(ts), len(ts)+len(ts_test))\n",
        "test_range = range(end,end+horizon)\n",
        "train_range = range(start,end)\n",
        "total_range = range(start,end+horizon)\n",
        "\n",
        "ax.plot(train_range,ts, label = 'train ts')\n",
        "if trend is not None:\n",
        "    ax.plot(train_range, trend,color = 'green',label = 'trend')\n",
        "if trend_test is not None:\n",
        "    ax.plot(test_range, trend_test,color = 'green')\n",
        "ax.plot(test_range,forecast, color = 'red', label = 'forecast')\n",
        "ax.plot(test_range, ts_test,color = 'black', label = 'test ts')\n",
        "plt.legend();\n",
        "\n",
        "fig1,ax1 = plt.subplots()\n",
        "fig1.set(figwidth = 15,figheight = 7)\n",
        "\n",
        "if trend_test is not None:\n",
        "    ax1.plot(test_range, trend_test,color = 'green')\n",
        "ax1.plot(test_range,forecast, color = 'red', label = 'forecast')\n",
        "ax1.plot(test_range, ts_test,color = 'black', label = 'test ts')\n",
        "plt.legend();"
      ],
      "metadata": {
        "colab": {
          "base_uri": "https://localhost:8080/",
          "height": 1000
        },
        "id": "2Fl-x0hYk-hv",
        "outputId": "ccddd81a-9833-4547-fc08-f04af2078b87"
      },
      "execution_count": 11,
      "outputs": [
        {
          "output_type": "stream",
          "name": "stderr",
          "text": [
            "DEBUG:matplotlib.font_manager:findfont: Matching sans\\-serif:style=normal:variant=normal:weight=normal:stretch=normal:size=10.0.\n"
          ]
        },
        {
          "output_type": "stream",
          "name": "stdout",
          "text": [
            "2022-11-24 17:35:47,770 - findfont: Matching sans\\-serif:style=normal:variant=normal:weight=normal:stretch=normal:size=10.0.\n"
          ]
        },
        {
          "output_type": "stream",
          "name": "stderr",
          "text": [
            "DEBUG:matplotlib.font_manager:findfont: score(<Font 'DejaVu Serif' (DejaVuSerif-Bold.ttf) normal normal 700 normal>) = 10.335\n"
          ]
        },
        {
          "output_type": "stream",
          "name": "stdout",
          "text": [
            "2022-11-24 17:35:47,777 - findfont: score(<Font 'DejaVu Serif' (DejaVuSerif-Bold.ttf) normal normal 700 normal>) = 10.335\n"
          ]
        },
        {
          "output_type": "stream",
          "name": "stderr",
          "text": [
            "DEBUG:matplotlib.font_manager:findfont: score(<Font 'DejaVu Sans Mono' (DejaVuSansMono-BoldOblique.ttf) oblique normal 700 normal>) = 11.335\n"
          ]
        },
        {
          "output_type": "stream",
          "name": "stdout",
          "text": [
            "2022-11-24 17:35:47,781 - findfont: score(<Font 'DejaVu Sans Mono' (DejaVuSansMono-BoldOblique.ttf) oblique normal 700 normal>) = 11.335\n"
          ]
        },
        {
          "output_type": "stream",
          "name": "stderr",
          "text": [
            "DEBUG:matplotlib.font_manager:findfont: score(<Font 'STIXNonUnicode' (STIXNonUniBol.ttf) normal normal 700 normal>) = 10.335\n"
          ]
        },
        {
          "output_type": "stream",
          "name": "stdout",
          "text": [
            "2022-11-24 17:35:47,785 - findfont: score(<Font 'STIXNonUnicode' (STIXNonUniBol.ttf) normal normal 700 normal>) = 10.335\n"
          ]
        },
        {
          "output_type": "stream",
          "name": "stderr",
          "text": [
            "DEBUG:matplotlib.font_manager:findfont: score(<Font 'STIXGeneral' (STIXGeneralBol.ttf) normal normal 700 normal>) = 10.335\n"
          ]
        },
        {
          "output_type": "stream",
          "name": "stdout",
          "text": [
            "2022-11-24 17:35:47,788 - findfont: score(<Font 'STIXGeneral' (STIXGeneralBol.ttf) normal normal 700 normal>) = 10.335\n"
          ]
        },
        {
          "output_type": "stream",
          "name": "stderr",
          "text": [
            "DEBUG:matplotlib.font_manager:findfont: score(<Font 'DejaVu Sans' (DejaVuSans-Oblique.ttf) oblique normal 400 normal>) = 1.05\n"
          ]
        },
        {
          "output_type": "stream",
          "name": "stdout",
          "text": [
            "2022-11-24 17:35:47,792 - findfont: score(<Font 'DejaVu Sans' (DejaVuSans-Oblique.ttf) oblique normal 400 normal>) = 1.05\n"
          ]
        },
        {
          "output_type": "stream",
          "name": "stderr",
          "text": [
            "DEBUG:matplotlib.font_manager:findfont: score(<Font 'STIXSizeOneSym' (STIXSizOneSymBol.ttf) normal normal 700 normal>) = 10.335\n"
          ]
        },
        {
          "output_type": "stream",
          "name": "stdout",
          "text": [
            "2022-11-24 17:35:47,795 - findfont: score(<Font 'STIXSizeOneSym' (STIXSizOneSymBol.ttf) normal normal 700 normal>) = 10.335\n"
          ]
        },
        {
          "output_type": "stream",
          "name": "stderr",
          "text": [
            "DEBUG:matplotlib.font_manager:findfont: score(<Font 'cmmi10' (cmmi10.ttf) normal normal 400 normal>) = 10.05\n"
          ]
        },
        {
          "output_type": "stream",
          "name": "stdout",
          "text": [
            "2022-11-24 17:35:47,798 - findfont: score(<Font 'cmmi10' (cmmi10.ttf) normal normal 400 normal>) = 10.05\n"
          ]
        },
        {
          "output_type": "stream",
          "name": "stderr",
          "text": [
            "DEBUG:matplotlib.font_manager:findfont: score(<Font 'DejaVu Sans Mono' (DejaVuSansMono-Bold.ttf) normal normal 700 normal>) = 10.335\n"
          ]
        },
        {
          "output_type": "stream",
          "name": "stdout",
          "text": [
            "2022-11-24 17:35:47,801 - findfont: score(<Font 'DejaVu Sans Mono' (DejaVuSansMono-Bold.ttf) normal normal 700 normal>) = 10.335\n"
          ]
        },
        {
          "output_type": "stream",
          "name": "stderr",
          "text": [
            "DEBUG:matplotlib.font_manager:findfont: score(<Font 'DejaVu Serif' (DejaVuSerif.ttf) normal normal 400 normal>) = 10.05\n"
          ]
        },
        {
          "output_type": "stream",
          "name": "stdout",
          "text": [
            "2022-11-24 17:35:47,804 - findfont: score(<Font 'DejaVu Serif' (DejaVuSerif.ttf) normal normal 400 normal>) = 10.05\n"
          ]
        },
        {
          "output_type": "stream",
          "name": "stderr",
          "text": [
            "DEBUG:matplotlib.font_manager:findfont: score(<Font 'STIXSizeFiveSym' (STIXSizFiveSymReg.ttf) normal normal regular normal>) = 10.05\n"
          ]
        },
        {
          "output_type": "stream",
          "name": "stdout",
          "text": [
            "2022-11-24 17:35:47,808 - findfont: score(<Font 'STIXSizeFiveSym' (STIXSizFiveSymReg.ttf) normal normal regular normal>) = 10.05\n"
          ]
        },
        {
          "output_type": "stream",
          "name": "stderr",
          "text": [
            "DEBUG:matplotlib.font_manager:findfont: score(<Font 'DejaVu Serif' (DejaVuSerif-Italic.ttf) italic normal 400 normal>) = 11.05\n"
          ]
        },
        {
          "output_type": "stream",
          "name": "stdout",
          "text": [
            "2022-11-24 17:35:47,810 - findfont: score(<Font 'DejaVu Serif' (DejaVuSerif-Italic.ttf) italic normal 400 normal>) = 11.05\n"
          ]
        },
        {
          "output_type": "stream",
          "name": "stderr",
          "text": [
            "DEBUG:matplotlib.font_manager:findfont: score(<Font 'STIXNonUnicode' (STIXNonUni.ttf) normal normal regular normal>) = 10.05\n"
          ]
        },
        {
          "output_type": "stream",
          "name": "stdout",
          "text": [
            "2022-11-24 17:35:47,814 - findfont: score(<Font 'STIXNonUnicode' (STIXNonUni.ttf) normal normal regular normal>) = 10.05\n"
          ]
        },
        {
          "output_type": "stream",
          "name": "stderr",
          "text": [
            "DEBUG:matplotlib.font_manager:findfont: score(<Font 'DejaVu Sans' (DejaVuSans-BoldOblique.ttf) oblique normal 700 normal>) = 1.335\n"
          ]
        },
        {
          "output_type": "stream",
          "name": "stdout",
          "text": [
            "2022-11-24 17:35:47,816 - findfont: score(<Font 'DejaVu Sans' (DejaVuSans-BoldOblique.ttf) oblique normal 700 normal>) = 1.335\n"
          ]
        },
        {
          "output_type": "stream",
          "name": "stderr",
          "text": [
            "DEBUG:matplotlib.font_manager:findfont: score(<Font 'cmsy10' (cmsy10.ttf) normal normal 400 normal>) = 10.05\n"
          ]
        },
        {
          "output_type": "stream",
          "name": "stdout",
          "text": [
            "2022-11-24 17:35:47,819 - findfont: score(<Font 'cmsy10' (cmsy10.ttf) normal normal 400 normal>) = 10.05\n"
          ]
        },
        {
          "output_type": "stream",
          "name": "stderr",
          "text": [
            "DEBUG:matplotlib.font_manager:findfont: score(<Font 'cmr10' (cmr10.ttf) normal normal 400 normal>) = 10.05\n"
          ]
        },
        {
          "output_type": "stream",
          "name": "stdout",
          "text": [
            "2022-11-24 17:35:47,822 - findfont: score(<Font 'cmr10' (cmr10.ttf) normal normal 400 normal>) = 10.05\n"
          ]
        },
        {
          "output_type": "stream",
          "name": "stderr",
          "text": [
            "DEBUG:matplotlib.font_manager:findfont: score(<Font 'DejaVu Sans' (DejaVuSans.ttf) normal normal 400 normal>) = 0.05\n"
          ]
        },
        {
          "output_type": "stream",
          "name": "stdout",
          "text": [
            "2022-11-24 17:35:47,825 - findfont: score(<Font 'DejaVu Sans' (DejaVuSans.ttf) normal normal 400 normal>) = 0.05\n"
          ]
        },
        {
          "output_type": "stream",
          "name": "stderr",
          "text": [
            "DEBUG:matplotlib.font_manager:findfont: score(<Font 'STIXSizeThreeSym' (STIXSizThreeSymReg.ttf) normal normal regular normal>) = 10.05\n"
          ]
        },
        {
          "output_type": "stream",
          "name": "stdout",
          "text": [
            "2022-11-24 17:35:47,828 - findfont: score(<Font 'STIXSizeThreeSym' (STIXSizThreeSymReg.ttf) normal normal regular normal>) = 10.05\n"
          ]
        },
        {
          "output_type": "stream",
          "name": "stderr",
          "text": [
            "DEBUG:matplotlib.font_manager:findfont: score(<Font 'DejaVu Serif Display' (DejaVuSerifDisplay.ttf) normal normal 400 normal>) = 10.05\n"
          ]
        },
        {
          "output_type": "stream",
          "name": "stdout",
          "text": [
            "2022-11-24 17:35:47,830 - findfont: score(<Font 'DejaVu Serif Display' (DejaVuSerifDisplay.ttf) normal normal 400 normal>) = 10.05\n"
          ]
        },
        {
          "output_type": "stream",
          "name": "stderr",
          "text": [
            "DEBUG:matplotlib.font_manager:findfont: score(<Font 'STIXGeneral' (STIXGeneralItalic.ttf) italic normal 400 normal>) = 11.05\n"
          ]
        },
        {
          "output_type": "stream",
          "name": "stdout",
          "text": [
            "2022-11-24 17:35:47,833 - findfont: score(<Font 'STIXGeneral' (STIXGeneralItalic.ttf) italic normal 400 normal>) = 11.05\n"
          ]
        },
        {
          "output_type": "stream",
          "name": "stderr",
          "text": [
            "DEBUG:matplotlib.font_manager:findfont: score(<Font 'DejaVu Sans Mono' (DejaVuSansMono-Oblique.ttf) oblique normal 400 normal>) = 11.05\n"
          ]
        },
        {
          "output_type": "stream",
          "name": "stdout",
          "text": [
            "2022-11-24 17:35:47,836 - findfont: score(<Font 'DejaVu Sans Mono' (DejaVuSansMono-Oblique.ttf) oblique normal 400 normal>) = 11.05\n"
          ]
        },
        {
          "output_type": "stream",
          "name": "stderr",
          "text": [
            "DEBUG:matplotlib.font_manager:findfont: score(<Font 'DejaVu Serif' (DejaVuSerif-BoldItalic.ttf) italic normal 700 normal>) = 11.335\n"
          ]
        },
        {
          "output_type": "stream",
          "name": "stdout",
          "text": [
            "2022-11-24 17:35:47,839 - findfont: score(<Font 'DejaVu Serif' (DejaVuSerif-BoldItalic.ttf) italic normal 700 normal>) = 11.335\n"
          ]
        },
        {
          "output_type": "stream",
          "name": "stderr",
          "text": [
            "DEBUG:matplotlib.font_manager:findfont: score(<Font 'STIXGeneral' (STIXGeneralBolIta.ttf) italic normal 700 normal>) = 11.335\n"
          ]
        },
        {
          "output_type": "stream",
          "name": "stdout",
          "text": [
            "2022-11-24 17:35:47,841 - findfont: score(<Font 'STIXGeneral' (STIXGeneralBolIta.ttf) italic normal 700 normal>) = 11.335\n"
          ]
        },
        {
          "output_type": "stream",
          "name": "stderr",
          "text": [
            "DEBUG:matplotlib.font_manager:findfont: score(<Font 'STIXSizeThreeSym' (STIXSizThreeSymBol.ttf) normal normal 700 normal>) = 10.335\n"
          ]
        },
        {
          "output_type": "stream",
          "name": "stdout",
          "text": [
            "2022-11-24 17:35:47,844 - findfont: score(<Font 'STIXSizeThreeSym' (STIXSizThreeSymBol.ttf) normal normal 700 normal>) = 10.335\n"
          ]
        },
        {
          "output_type": "stream",
          "name": "stderr",
          "text": [
            "DEBUG:matplotlib.font_manager:findfont: score(<Font 'STIXNonUnicode' (STIXNonUniIta.ttf) italic normal 400 normal>) = 11.05\n"
          ]
        },
        {
          "output_type": "stream",
          "name": "stdout",
          "text": [
            "2022-11-24 17:35:47,847 - findfont: score(<Font 'STIXNonUnicode' (STIXNonUniIta.ttf) italic normal 400 normal>) = 11.05\n"
          ]
        },
        {
          "output_type": "stream",
          "name": "stderr",
          "text": [
            "DEBUG:matplotlib.font_manager:findfont: score(<Font 'DejaVu Sans' (DejaVuSans-Bold.ttf) normal normal 700 normal>) = 0.33499999999999996\n"
          ]
        },
        {
          "output_type": "stream",
          "name": "stdout",
          "text": [
            "2022-11-24 17:35:47,850 - findfont: score(<Font 'DejaVu Sans' (DejaVuSans-Bold.ttf) normal normal 700 normal>) = 0.33499999999999996\n"
          ]
        },
        {
          "output_type": "stream",
          "name": "stderr",
          "text": [
            "DEBUG:matplotlib.font_manager:findfont: score(<Font 'DejaVu Sans Display' (DejaVuSansDisplay.ttf) normal normal 400 normal>) = 10.05\n"
          ]
        },
        {
          "output_type": "stream",
          "name": "stdout",
          "text": [
            "2022-11-24 17:35:47,852 - findfont: score(<Font 'DejaVu Sans Display' (DejaVuSansDisplay.ttf) normal normal 400 normal>) = 10.05\n"
          ]
        },
        {
          "output_type": "stream",
          "name": "stderr",
          "text": [
            "DEBUG:matplotlib.font_manager:findfont: score(<Font 'cmb10' (cmb10.ttf) normal normal 400 normal>) = 10.05\n"
          ]
        },
        {
          "output_type": "stream",
          "name": "stdout",
          "text": [
            "2022-11-24 17:35:47,856 - findfont: score(<Font 'cmb10' (cmb10.ttf) normal normal 400 normal>) = 10.05\n"
          ]
        },
        {
          "output_type": "stream",
          "name": "stderr",
          "text": [
            "DEBUG:matplotlib.font_manager:findfont: score(<Font 'STIXSizeTwoSym' (STIXSizTwoSymBol.ttf) normal normal 700 normal>) = 10.335\n"
          ]
        },
        {
          "output_type": "stream",
          "name": "stdout",
          "text": [
            "2022-11-24 17:35:47,859 - findfont: score(<Font 'STIXSizeTwoSym' (STIXSizTwoSymBol.ttf) normal normal 700 normal>) = 10.335\n"
          ]
        },
        {
          "output_type": "stream",
          "name": "stderr",
          "text": [
            "DEBUG:matplotlib.font_manager:findfont: score(<Font 'DejaVu Sans Mono' (DejaVuSansMono.ttf) normal normal 400 normal>) = 10.05\n"
          ]
        },
        {
          "output_type": "stream",
          "name": "stdout",
          "text": [
            "2022-11-24 17:35:47,862 - findfont: score(<Font 'DejaVu Sans Mono' (DejaVuSansMono.ttf) normal normal 400 normal>) = 10.05\n"
          ]
        },
        {
          "output_type": "stream",
          "name": "stderr",
          "text": [
            "DEBUG:matplotlib.font_manager:findfont: score(<Font 'cmtt10' (cmtt10.ttf) normal normal 400 normal>) = 10.05\n"
          ]
        },
        {
          "output_type": "stream",
          "name": "stdout",
          "text": [
            "2022-11-24 17:35:47,865 - findfont: score(<Font 'cmtt10' (cmtt10.ttf) normal normal 400 normal>) = 10.05\n"
          ]
        },
        {
          "output_type": "stream",
          "name": "stderr",
          "text": [
            "DEBUG:matplotlib.font_manager:findfont: score(<Font 'STIXSizeOneSym' (STIXSizOneSymReg.ttf) normal normal regular normal>) = 10.05\n"
          ]
        },
        {
          "output_type": "stream",
          "name": "stdout",
          "text": [
            "2022-11-24 17:35:47,868 - findfont: score(<Font 'STIXSizeOneSym' (STIXSizOneSymReg.ttf) normal normal regular normal>) = 10.05\n"
          ]
        },
        {
          "output_type": "stream",
          "name": "stderr",
          "text": [
            "DEBUG:matplotlib.font_manager:findfont: score(<Font 'STIXSizeFourSym' (STIXSizFourSymReg.ttf) normal normal regular normal>) = 10.05\n"
          ]
        },
        {
          "output_type": "stream",
          "name": "stdout",
          "text": [
            "2022-11-24 17:35:47,879 - findfont: score(<Font 'STIXSizeFourSym' (STIXSizFourSymReg.ttf) normal normal regular normal>) = 10.05\n"
          ]
        },
        {
          "output_type": "stream",
          "name": "stderr",
          "text": [
            "DEBUG:matplotlib.font_manager:findfont: score(<Font 'cmex10' (cmex10.ttf) normal normal 400 normal>) = 10.05\n"
          ]
        },
        {
          "output_type": "stream",
          "name": "stdout",
          "text": [
            "2022-11-24 17:35:47,882 - findfont: score(<Font 'cmex10' (cmex10.ttf) normal normal 400 normal>) = 10.05\n"
          ]
        },
        {
          "output_type": "stream",
          "name": "stderr",
          "text": [
            "DEBUG:matplotlib.font_manager:findfont: score(<Font 'STIXSizeTwoSym' (STIXSizTwoSymReg.ttf) normal normal regular normal>) = 10.05\n"
          ]
        },
        {
          "output_type": "stream",
          "name": "stdout",
          "text": [
            "2022-11-24 17:35:47,887 - findfont: score(<Font 'STIXSizeTwoSym' (STIXSizTwoSymReg.ttf) normal normal regular normal>) = 10.05\n"
          ]
        },
        {
          "output_type": "stream",
          "name": "stderr",
          "text": [
            "DEBUG:matplotlib.font_manager:findfont: score(<Font 'STIXGeneral' (STIXGeneral.ttf) normal normal regular normal>) = 10.05\n"
          ]
        },
        {
          "output_type": "stream",
          "name": "stdout",
          "text": [
            "2022-11-24 17:35:47,891 - findfont: score(<Font 'STIXGeneral' (STIXGeneral.ttf) normal normal regular normal>) = 10.05\n"
          ]
        },
        {
          "output_type": "stream",
          "name": "stderr",
          "text": [
            "DEBUG:matplotlib.font_manager:findfont: score(<Font 'cmss10' (cmss10.ttf) normal normal 400 normal>) = 10.05\n"
          ]
        },
        {
          "output_type": "stream",
          "name": "stdout",
          "text": [
            "2022-11-24 17:35:47,894 - findfont: score(<Font 'cmss10' (cmss10.ttf) normal normal 400 normal>) = 10.05\n"
          ]
        },
        {
          "output_type": "stream",
          "name": "stderr",
          "text": [
            "DEBUG:matplotlib.font_manager:findfont: score(<Font 'STIXNonUnicode' (STIXNonUniBolIta.ttf) italic normal 700 normal>) = 11.335\n"
          ]
        },
        {
          "output_type": "stream",
          "name": "stdout",
          "text": [
            "2022-11-24 17:35:47,897 - findfont: score(<Font 'STIXNonUnicode' (STIXNonUniBolIta.ttf) italic normal 700 normal>) = 11.335\n"
          ]
        },
        {
          "output_type": "stream",
          "name": "stderr",
          "text": [
            "DEBUG:matplotlib.font_manager:findfont: score(<Font 'STIXSizeFourSym' (STIXSizFourSymBol.ttf) normal normal 700 normal>) = 10.335\n"
          ]
        },
        {
          "output_type": "stream",
          "name": "stdout",
          "text": [
            "2022-11-24 17:35:47,900 - findfont: score(<Font 'STIXSizeFourSym' (STIXSizFourSymBol.ttf) normal normal 700 normal>) = 10.335\n"
          ]
        },
        {
          "output_type": "stream",
          "name": "stderr",
          "text": [
            "DEBUG:matplotlib.font_manager:findfont: score(<Font 'Liberation Sans' (LiberationSans-Regular.ttf) normal normal 400 normal>) = 10.05\n"
          ]
        },
        {
          "output_type": "stream",
          "name": "stdout",
          "text": [
            "2022-11-24 17:35:47,903 - findfont: score(<Font 'Liberation Sans' (LiberationSans-Regular.ttf) normal normal 400 normal>) = 10.05\n"
          ]
        },
        {
          "output_type": "stream",
          "name": "stderr",
          "text": [
            "DEBUG:matplotlib.font_manager:findfont: score(<Font 'Liberation Serif' (LiberationSerif-Bold.ttf) normal normal 700 normal>) = 10.335\n"
          ]
        },
        {
          "output_type": "stream",
          "name": "stdout",
          "text": [
            "2022-11-24 17:35:47,905 - findfont: score(<Font 'Liberation Serif' (LiberationSerif-Bold.ttf) normal normal 700 normal>) = 10.335\n"
          ]
        },
        {
          "output_type": "stream",
          "name": "stderr",
          "text": [
            "DEBUG:matplotlib.font_manager:findfont: score(<Font 'Liberation Serif' (LiberationSerif-Italic.ttf) italic normal 400 normal>) = 11.05\n"
          ]
        },
        {
          "output_type": "stream",
          "name": "stdout",
          "text": [
            "2022-11-24 17:35:47,908 - findfont: score(<Font 'Liberation Serif' (LiberationSerif-Italic.ttf) italic normal 400 normal>) = 11.05\n"
          ]
        },
        {
          "output_type": "stream",
          "name": "stderr",
          "text": [
            "DEBUG:matplotlib.font_manager:findfont: score(<Font 'Liberation Mono' (LiberationMono-Regular.ttf) normal normal 400 normal>) = 10.05\n"
          ]
        },
        {
          "output_type": "stream",
          "name": "stdout",
          "text": [
            "2022-11-24 17:35:47,911 - findfont: score(<Font 'Liberation Mono' (LiberationMono-Regular.ttf) normal normal 400 normal>) = 10.05\n"
          ]
        },
        {
          "output_type": "stream",
          "name": "stderr",
          "text": [
            "DEBUG:matplotlib.font_manager:findfont: score(<Font 'Liberation Mono' (LiberationMono-Bold.ttf) normal normal 700 normal>) = 10.335\n"
          ]
        },
        {
          "output_type": "stream",
          "name": "stdout",
          "text": [
            "2022-11-24 17:35:47,914 - findfont: score(<Font 'Liberation Mono' (LiberationMono-Bold.ttf) normal normal 700 normal>) = 10.335\n"
          ]
        },
        {
          "output_type": "stream",
          "name": "stderr",
          "text": [
            "DEBUG:matplotlib.font_manager:findfont: score(<Font 'Liberation Sans Narrow' (LiberationSansNarrow-Regular.ttf) normal normal 400 condensed>) = 10.25\n"
          ]
        },
        {
          "output_type": "stream",
          "name": "stdout",
          "text": [
            "2022-11-24 17:35:47,917 - findfont: score(<Font 'Liberation Sans Narrow' (LiberationSansNarrow-Regular.ttf) normal normal 400 condensed>) = 10.25\n"
          ]
        },
        {
          "output_type": "stream",
          "name": "stderr",
          "text": [
            "DEBUG:matplotlib.font_manager:findfont: score(<Font 'Liberation Mono' (LiberationMono-BoldItalic.ttf) italic normal 700 normal>) = 11.335\n"
          ]
        },
        {
          "output_type": "stream",
          "name": "stdout",
          "text": [
            "2022-11-24 17:35:47,920 - findfont: score(<Font 'Liberation Mono' (LiberationMono-BoldItalic.ttf) italic normal 700 normal>) = 11.335\n"
          ]
        },
        {
          "output_type": "stream",
          "name": "stderr",
          "text": [
            "DEBUG:matplotlib.font_manager:findfont: score(<Font 'Liberation Sans' (LiberationSans-BoldItalic.ttf) italic normal 700 normal>) = 11.335\n"
          ]
        },
        {
          "output_type": "stream",
          "name": "stdout",
          "text": [
            "2022-11-24 17:35:47,923 - findfont: score(<Font 'Liberation Sans' (LiberationSans-BoldItalic.ttf) italic normal 700 normal>) = 11.335\n"
          ]
        },
        {
          "output_type": "stream",
          "name": "stderr",
          "text": [
            "DEBUG:matplotlib.font_manager:findfont: score(<Font 'Liberation Mono' (LiberationMono-Italic.ttf) italic normal 400 normal>) = 11.05\n"
          ]
        },
        {
          "output_type": "stream",
          "name": "stdout",
          "text": [
            "2022-11-24 17:35:47,926 - findfont: score(<Font 'Liberation Mono' (LiberationMono-Italic.ttf) italic normal 400 normal>) = 11.05\n"
          ]
        },
        {
          "output_type": "stream",
          "name": "stderr",
          "text": [
            "DEBUG:matplotlib.font_manager:findfont: score(<Font 'Liberation Sans' (LiberationSans-Italic.ttf) italic normal 400 normal>) = 11.05\n"
          ]
        },
        {
          "output_type": "stream",
          "name": "stdout",
          "text": [
            "2022-11-24 17:35:47,929 - findfont: score(<Font 'Liberation Sans' (LiberationSans-Italic.ttf) italic normal 400 normal>) = 11.05\n"
          ]
        },
        {
          "output_type": "stream",
          "name": "stderr",
          "text": [
            "DEBUG:matplotlib.font_manager:findfont: score(<Font 'Liberation Sans' (LiberationSans-Bold.ttf) normal normal 700 normal>) = 10.335\n"
          ]
        },
        {
          "output_type": "stream",
          "name": "stdout",
          "text": [
            "2022-11-24 17:35:47,932 - findfont: score(<Font 'Liberation Sans' (LiberationSans-Bold.ttf) normal normal 700 normal>) = 10.335\n"
          ]
        },
        {
          "output_type": "stream",
          "name": "stderr",
          "text": [
            "DEBUG:matplotlib.font_manager:findfont: score(<Font 'Liberation Sans Narrow' (LiberationSansNarrow-BoldItalic.ttf) italic normal 700 condensed>) = 11.535\n"
          ]
        },
        {
          "output_type": "stream",
          "name": "stdout",
          "text": [
            "2022-11-24 17:35:47,935 - findfont: score(<Font 'Liberation Sans Narrow' (LiberationSansNarrow-BoldItalic.ttf) italic normal 700 condensed>) = 11.535\n"
          ]
        },
        {
          "output_type": "stream",
          "name": "stderr",
          "text": [
            "DEBUG:matplotlib.font_manager:findfont: score(<Font 'Liberation Serif' (LiberationSerif-BoldItalic.ttf) italic normal 700 normal>) = 11.335\n"
          ]
        },
        {
          "output_type": "stream",
          "name": "stdout",
          "text": [
            "2022-11-24 17:35:47,937 - findfont: score(<Font 'Liberation Serif' (LiberationSerif-BoldItalic.ttf) italic normal 700 normal>) = 11.335\n"
          ]
        },
        {
          "output_type": "stream",
          "name": "stderr",
          "text": [
            "DEBUG:matplotlib.font_manager:findfont: score(<Font 'Liberation Sans Narrow' (LiberationSansNarrow-Bold.ttf) normal normal 700 condensed>) = 10.535\n"
          ]
        },
        {
          "output_type": "stream",
          "name": "stdout",
          "text": [
            "2022-11-24 17:35:47,940 - findfont: score(<Font 'Liberation Sans Narrow' (LiberationSansNarrow-Bold.ttf) normal normal 700 condensed>) = 10.535\n"
          ]
        },
        {
          "output_type": "stream",
          "name": "stderr",
          "text": [
            "DEBUG:matplotlib.font_manager:findfont: score(<Font 'Humor Sans' (Humor-Sans.ttf) normal normal 400 normal>) = 10.05\n"
          ]
        },
        {
          "output_type": "stream",
          "name": "stdout",
          "text": [
            "2022-11-24 17:35:47,943 - findfont: score(<Font 'Humor Sans' (Humor-Sans.ttf) normal normal 400 normal>) = 10.05\n"
          ]
        },
        {
          "output_type": "stream",
          "name": "stderr",
          "text": [
            "DEBUG:matplotlib.font_manager:findfont: score(<Font 'Liberation Serif' (LiberationSerif-Regular.ttf) normal normal 400 normal>) = 10.05\n"
          ]
        },
        {
          "output_type": "stream",
          "name": "stdout",
          "text": [
            "2022-11-24 17:35:47,946 - findfont: score(<Font 'Liberation Serif' (LiberationSerif-Regular.ttf) normal normal 400 normal>) = 10.05\n"
          ]
        },
        {
          "output_type": "stream",
          "name": "stderr",
          "text": [
            "DEBUG:matplotlib.font_manager:findfont: score(<Font 'Liberation Sans Narrow' (LiberationSansNarrow-Italic.ttf) italic normal 400 condensed>) = 11.25\n"
          ]
        },
        {
          "output_type": "stream",
          "name": "stdout",
          "text": [
            "2022-11-24 17:35:47,948 - findfont: score(<Font 'Liberation Sans Narrow' (LiberationSansNarrow-Italic.ttf) italic normal 400 condensed>) = 11.25\n"
          ]
        },
        {
          "output_type": "stream",
          "name": "stderr",
          "text": [
            "DEBUG:matplotlib.font_manager:findfont: Matching sans\\-serif:style=normal:variant=normal:weight=normal:stretch=normal:size=10.0 to DejaVu Sans ('/usr/local/lib/python3.7/dist-packages/matplotlib/mpl-data/fonts/ttf/DejaVuSans.ttf') with score of 0.050000.\n"
          ]
        },
        {
          "output_type": "stream",
          "name": "stdout",
          "text": [
            "2022-11-24 17:35:47,951 - findfont: Matching sans\\-serif:style=normal:variant=normal:weight=normal:stretch=normal:size=10.0 to DejaVu Sans ('/usr/local/lib/python3.7/dist-packages/matplotlib/mpl-data/fonts/ttf/DejaVuSans.ttf') with score of 0.050000.\n"
          ]
        },
        {
          "output_type": "display_data",
          "data": {
            "text/plain": [
              "<Figure size 1080x504 with 1 Axes>"
            ],
            "image/png": "[encoded data removed]"
          },
          "metadata": {
            "needs_background": "light"
          }
        },
        {
          "output_type": "display_data",
          "data": {
            "text/plain": [
              "<Figure size 1080x504 with 1 Axes>"
            ],
            "image/png": "[encoded data removed]"
          },
          "metadata": {
            "needs_background": "light"
          }
        }
      ]
    },
    {
      "cell_type": "code",
      "source": [
        "import sys\n",
        "from sklearn.metrics import mean_squared_error as mse\n",
        "from fedot.core.composer.metrics import QualityMetric\n",
        "from fedot.core.data.data import InputData, OutputData\n",
        "from fedot.core.repository.tasks import TsForecastingParams\n",
        "\n",
        "def quantile_loss(y_true, y_pred, quantile=0.5):\n",
        "    res = np.array(y_true)-np.array(y_pred)\n",
        "    metrics=np.empty(shape = [0])\n",
        "    for x in res:\n",
        "        if x>=0:\n",
        "            metrics = np.append(metrics, quantile*x)\n",
        "        else:\n",
        "            metrics = np.append(metrics,(quantile-1)*x)\n",
        "    return np.mean(metrics)\n",
        "\n",
        "class Quantile_Loss_1(QualityMetric):\n",
        "    default_value = sys.maxsize\n",
        "\n",
        "    @staticmethod\n",
        "    def metric(reference: InputData, predicted: OutputData) -> float:\n",
        "        value = quantile_loss(reference.target, predicted.predict,quantile = 0.1)\n",
        "        return value\n",
        "\n",
        "\n",
        "class Quantile_Loss_9(QualityMetric):\n",
        "    default_value = sys.maxsize\n",
        "\n",
        "    @staticmethod\n",
        "    def metric(reference: InputData, predicted: OutputData) -> float:\n",
        "        value = quantile_loss(reference.target, predicted.predict,quantile = 0.9)\n",
        "        return value"
      ],
      "metadata": {
        "id": "uXWB4nm_p4x1"
      },
      "execution_count": 12,
      "outputs": []
    },
    {
      "cell_type": "code",
      "source": [
        "#importing for tuning\n",
        "from fedot.core.optimisers.adapters import PipelineAdapter\n",
        "from fedot.core.pipelines.tuning.tuner_builder import TunerBuilder\n",
        "from fedot.core.repository.quality_metrics_repository import RegressionMetricsEnum\n",
        "from fedot.core.pipelines.tuning.tuner_interface import HyperoptTuner\n",
        "from fedot.core.pipelines.tuning.unified import PipelineTuner\n",
        "from fedot.core.optimisers.composer_requirements import ComposerRequirements\n",
        "import datetime\n",
        "\n",
        "from fedot.core.repository.quality_metrics_repository import RegressionMetricsEnum\n",
        "\n",
        "#these parameters are the same for both tuners below\n",
        "task = Task(TaskTypesEnum.ts_forecasting,TsForecastingParams(forecast_length=horizon))\n",
        "composer_requirements = ComposerRequirements()\n",
        "composer_requirements.validation_blocks = 2\n",
        "composer_requirements.n_jobs= -1\n",
        "composer_requirements.show_progress = True\n",
        "\n",
        "#this tuner will be used to create lower confidence interval\n",
        "low_tuner = TunerBuilder(task = task) \\\n",
        "         .with_tuner(PipelineTuner) \\\n",
        "         .with_metric(Quantile_Loss_1.get_value) \\\n",
        "         .with_iterations(10) \\\n",
        "         .with_timeout(datetime.timedelta(minutes=2)) \\\n",
        "         .with_requirements(composer_requirements) \\\n",
        "         .build(train_data)\n",
        "\n",
        "#this tuner will be used to create uppper confidence interval\n",
        "up_tuner = TunerBuilder(task = task) \\\n",
        "         .with_tuner(PipelineTuner) \\\n",
        "         .with_metric(Quantile_Loss_9.get_value) \\\n",
        "         .with_iterations(10) \\\n",
        "         .with_timeout(datetime.timedelta(minutes=2)) \\\n",
        "         .with_requirements(composer_requirements) \\\n",
        "         .build(train_data)"
      ],
      "metadata": {
        "id": "NNRl8s3ZlJnV",
        "colab": {
          "base_uri": "https://localhost:8080/"
        },
        "outputId": "9405f6f1-b840-431e-ce9a-15771a70931e"
      },
      "execution_count": 13,
      "outputs": [
        {
          "output_type": "stream",
          "name": "stderr",
          "text": [
            "INFO:root:DataSourceSplitter - Hold out validation is applied.\n"
          ]
        },
        {
          "output_type": "stream",
          "name": "stdout",
          "text": [
            "2022-11-24 17:36:11,836 - DataSourceSplitter - Hold out validation is applied.\n"
          ]
        },
        {
          "output_type": "stream",
          "name": "stderr",
          "text": [
            "INFO:root:DataSourceSplitter - Hold out validation is applied.\n"
          ]
        },
        {
          "output_type": "stream",
          "name": "stdout",
          "text": [
            "2022-11-24 17:36:11,844 - DataSourceSplitter - Hold out validation is applied.\n"
          ]
        }
      ]
    },
    {
      "cell_type": "code",
      "source": [
        "def quantile_maker(quantile,arrays):\n",
        "    number_arrays = len(arrays)\n",
        "    l = len(arrays[0])\n",
        "    up = []\n",
        "    low = []\n",
        "    for i in range(l):\n",
        "        x = np.array([arrays[j][i] for j in range(number_arrays)])\n",
        "        q_up = np.quantile(x, 1-quantile)\n",
        "        up.append(q_up)\n",
        "        q_low = np.quantile(x,quantile)\n",
        "        low.append(q_low)\n",
        "    up = np.array(up)\n",
        "    low = np.array(low)\n",
        "    return {'up':up,'low':low}\n",
        "\n",
        "def mean_maker(arrays):\n",
        "    number_arrays = len(arrays)\n",
        "    l = len(arrays[0])\n",
        "    average = []\n",
        "    for i in range(l):\n",
        "        x = np.array([arrays[j][i] for j in range(number_arrays)])\n",
        "        average.append(x.mean())\n",
        "    return average\n",
        "\n",
        "def median_maker(arrays):\n",
        "    number_arrays = len(arrays)\n",
        "    l = len(arrays[0])\n",
        "    median = []\n",
        "    for i in range(l):\n",
        "        x = np.array([arrays[j][i] for j in range(number_arrays)])\n",
        "        median.append(np.median(x))\n",
        "    return median\n",
        "\n",
        "def absolute_maker(arrays):\n",
        "    number_arrays = len(arrays)\n",
        "    l = len(arrays[0])\n",
        "    maximum = []\n",
        "    minimum = []\n",
        "    for i in range(l):\n",
        "        x = np.array([arrays[j][i] for j in range(number_arrays)])\n",
        "        maximum.append(np.max(x))\n",
        "        minimum.append(np.min(x))\n",
        "    return {'up':np.array(maximum),'low':np.array(minimum)}\n",
        "\n",
        "from scipy.stats import trim_mean\n",
        "def truncated_mean_maker(arrays, quantile=0.1):\n",
        "    number_arrays = len(arrays)\n",
        "    l = len(arrays[0])\n",
        "    trunc_mean = []\n",
        "    for i in range(l):\n",
        "        x = np.array([arrays[j][i] for j in range(number_arrays)])\n",
        "        trunc_mean.append(trim_mean(x, quantile))\n",
        "    return np.array(trunc_mean)"
      ],
      "metadata": {
        "id": "qQ4OwVwOtph5"
      },
      "execution_count": 14,
      "outputs": []
    },
    {
      "cell_type": "code",
      "source": [
        "def conf_int_maker(model = model,\n",
        "                   train_ts = ts,\n",
        "                   number_models = 10, \n",
        "                   pipelines_show= False):\n",
        "    \"\"\"\n",
        "    model - a fedot model of interest\n",
        "    train_ts - the ts used for training the model\n",
        "    ts_test - the testing series; used for plotting and visualization of the results\n",
        "    number_models - number of models used to create the confidence intervals\n",
        "    regim - type of getting lower and upper confidence intervals from the upper and lower arrays; \n",
        "            default is 'quantile' also avaliable 'average' and 'median', 'absolute_bounds', 'truncated_mean'\n",
        "    plot - boolean parameter indicating wheter to show plot of the forecast and confidence intervals\n",
        "    plot_history - boolean parameter indicating whether to show previous series\n",
        "    \"\"\"\n",
        "    \n",
        "    horizon = model.params.task.task_params.forecast_length\n",
        "    train_data = model.train_data\n",
        "    test_data = model.test_data\n",
        "    forecast = model.predict(test_data)\n",
        "\n",
        "    #4 lines below allow us take the best models\n",
        "    fits = []\n",
        "    for ind in model.history.individuals[-1]:\n",
        "        fits.append(ind.fitness.value)\n",
        "    fits = np.sort(np.array(fits))\n",
        "\n",
        "    #create up and low predictions\n",
        "    up_predictions = []\n",
        "    low_predictions = []\n",
        "    \n",
        "    s=1\n",
        "    for ind in model.history.individuals[-1]:\n",
        "        if ind.fitness.value<=fits[number_models]:\n",
        "            pipeline = PipelineAdapter().restore(ind.graph)\n",
        "            print(f'Fitting pipeline №{s}')\n",
        "            s+=1\n",
        "            if pipelines_show:\n",
        "                pipeline.show()\n",
        "            \n",
        "            \n",
        "            #tuning upper confidence interval\n",
        "            tuned_pipeline = up_tuner.tune(pipeline)\n",
        "            tuned_pipeline.fit(train_data)\n",
        "            preds = tuned_pipeline.predict(test_data).predict.ravel()\n",
        "            up_predictions.append(preds)\n",
        "            del tuned_pipeline\n",
        "            \n",
        "            #tuning lower confidence interval\n",
        "            tuned_pipeline = low_tuner.tune(pipeline)\n",
        "            tuned_pipeline.fit(train_data)\n",
        "            preds = tuned_pipeline.predict(test_data).predict.ravel()\n",
        "            low_predictions.append(preds)\n",
        "            del tuned_pipeline\n",
        "    return {'up_predictions':up_predictions, 'low_predictions':low_predictions}"
      ],
      "metadata": {
        "id": "kG1n1Q7Wt1DF"
      },
      "execution_count": 15,
      "outputs": []
    },
    {
      "cell_type": "code",
      "source": [
        "def conf_int_plotting(up_predictions,\n",
        "                      low_predictions,\n",
        "                      horizon=horizon,\n",
        "                      forecast=forecast,\n",
        "                      ts=ts,\n",
        "                      ts_test=ts_test,\n",
        "                      trend_test=trend_test,\n",
        "                      regim = 'quantile',\n",
        "                      plot_history = True,\n",
        "                      plot_up_int = True,\n",
        "                      plot_low_int = True,\n",
        "                      plot_trend = True,\n",
        "                      plot_forecast = True,\n",
        "                      plot_upper_train = True,\n",
        "                      plot_lower_train = True,\n",
        "                      plot_ts_test = True):\n",
        "    if regim == 'quantile':\n",
        "        up_res= quantile_maker(quantile = 0.1, arrays = up_predictions)['up']\n",
        "        low_res= quantile_maker(quantile = 0.1, arrays = low_predictions)['low']\n",
        "    if regim == 'mean':\n",
        "        up_res = mean_maker(arrays = up_predictions)\n",
        "        low_res = mean_maker(arrays = low_predictions)\n",
        "    if regim == 'median':\n",
        "        up_res = median_maker(arrays = up_predictions)\n",
        "        low_res = median_maker(arrays = low_predictions)\n",
        "    if regim == 'absolute_bounds':\n",
        "        up_res = absolute_maker(arrays = up_predictions)['up']\n",
        "        low_res = absolute_maker(arrays = low_predictions)['low']\n",
        "    if regim == 'truncated_mean':\n",
        "        up_res = truncated_mean_maker(arrays = up_predictions)\n",
        "        low_res = truncated_mean_maker(arrays = low_predictions)\n",
        "    \n",
        "    up = np.maximum(up_res,forecast)  \n",
        "    low = np.minimum(low_res,forecast)\n",
        "\n",
        "    r = range(1,horizon+1)\n",
        "    fig,ax = plt.subplots()\n",
        "    fig.set(figwidth = 15,figheight = 7)\n",
        "    for i in range(len(up_predictions)):\n",
        "        if i==0:\n",
        "            if plot_upper_train:\n",
        "                ax.plot(r,up_predictions[i], color = 'yellow',label = 'preds for up train')\n",
        "            if plot_lower_train:\n",
        "                ax.plot(r,low_predictions[i], color = 'pink',label = 'preds for low train')\n",
        "        else:\n",
        "            if plot_upper_train:\n",
        "                ax.plot(r,up_predictions[i], color = 'yellow')\n",
        "            if plot_lower_train:\n",
        "                ax.plot(r,low_predictions[i], color = 'pink')    \n",
        "    if plot_up_int:\n",
        "        ax.plot(r,up, color = 'blue', label  = 'Up',marker= '.')\n",
        "    if plot_low_int:\n",
        "        ax.plot(r,low, color = 'green', label  = 'Low',marker = '.')\n",
        "    if plot_forecast:\n",
        "        ax.plot(r,forecast, color = 'red', label = 'Forecast')\n",
        "    if ts_test is not None:\n",
        "        if plot_ts_test:\n",
        "            ax.plot(r,ts_test,color = 'black', label = 'Actual TS')\n",
        "    if trend_test is not None:\n",
        "        if plot_trend:\n",
        "            ax.plot(r, trend_test, color = 'magenta', label = 'True Trend')\n",
        "    plt.legend()\n",
        "    if plot_history:\n",
        "        fig1,ax1 = plt.subplots()\n",
        "        \n",
        "        fig1.set(figwidth = 15,figheight = 7)\n",
        "       \n",
        "        train_range = range(len(ts))\n",
        "        test_range = range(len(ts),len(ts)+horizon)\n",
        "        \n",
        "        ax1.plot(train_range,ts, color = 'gray',label = 'Train ts')\n",
        "        ax1.plot(test_range, up,color = 'blue', label = 'Up')\n",
        "        ax1.plot(test_range, low,color = 'green', label = 'Low')\n",
        "        ax1.plot(test_range,forecast, color = 'red', label = 'Forecast')\n",
        "        if ts_test is not None:\n",
        "            ax1.plot(test_range, ts_test,color = 'black', label = 'Actual TS')  \n",
        "        if trend_test is not None:\n",
        "            ax1.plot(test_range, trend_test, color = 'magenta', label = 'True Trend')\n",
        "        plt.legend();"
      ],
      "metadata": {
        "id": "SvUS1eNu5yK3"
      },
      "execution_count": 16,
      "outputs": []
    },
    {
      "cell_type": "code",
      "source": [
        "x = conf_int_maker(model = model, number_models =7,pipelines_show = False)"
      ],
      "metadata": {
        "colab": {
          "base_uri": "https://localhost:8080/"
        },
        "id": "VZrcnhUHlc8G",
        "outputId": "939700c2-ed4c-41f9-b558-34f8b8ccdd10"
      },
      "execution_count": 17,
      "outputs": [
        {
          "output_type": "stream",
          "name": "stderr",
          "text": [
            "INFO:root:PipelineTuner - Hyperparameters optimization start\n"
          ]
        },
        {
          "output_type": "stream",
          "name": "stdout",
          "text": [
            "Fitting pipeline №1\n",
            "2022-11-24 17:36:20,080 - PipelineTuner - Hyperparameters optimization start\n",
            "  0%|          | 0/10 [00:00<?, ?trial/s, best loss=?]"
          ]
        },
        {
          "output_type": "stream",
          "name": "stderr",
          "text": [
            "INFO:hyperopt.tpe:build_posterior_wrapper took 0.006484 seconds\n"
          ]
        },
        {
          "output_type": "stream",
          "name": "stdout",
          "text": [
            "2022-11-24 17:36:20,334 - build_posterior_wrapper took 0.006484 seconds\n"
          ]
        },
        {
          "output_type": "stream",
          "name": "stderr",
          "text": [
            "INFO:hyperopt.tpe:TPE using 0 trials\n"
          ]
        },
        {
          "output_type": "stream",
          "name": "stdout",
          "text": [
            "2022-11-24 17:36:20,348 - TPE using 0 trials\n",
            " 10%|█         | 1/10 [00:00<00:07,  1.16trial/s, best loss: 3.6550567311325515]"
          ]
        },
        {
          "output_type": "stream",
          "name": "stderr",
          "text": [
            "INFO:hyperopt.tpe:build_posterior_wrapper took 0.003919 seconds\n"
          ]
        },
        {
          "output_type": "stream",
          "name": "stdout",
          "text": [
            "2022-11-24 17:36:21,196 - build_posterior_wrapper took 0.003919 seconds\n"
          ]
        },
        {
          "output_type": "stream",
          "name": "stderr",
          "text": [
            "INFO:hyperopt.tpe:TPE using 1/1 trials with best loss 3.655057\n"
          ]
        },
        {
          "output_type": "stream",
          "name": "stdout",
          "text": [
            "2022-11-24 17:36:21,202 - TPE using 1/1 trials with best loss 3.655057\n",
            " 20%|██        | 2/10 [00:01<00:06,  1.32trial/s, best loss: 2.795436005874839] "
          ]
        },
        {
          "output_type": "stream",
          "name": "stderr",
          "text": [
            "INFO:hyperopt.tpe:build_posterior_wrapper took 0.007362 seconds\n"
          ]
        },
        {
          "output_type": "stream",
          "name": "stdout",
          "text": [
            "2022-11-24 17:36:21,883 - build_posterior_wrapper took 0.007362 seconds\n"
          ]
        },
        {
          "output_type": "stream",
          "name": "stderr",
          "text": [
            "INFO:hyperopt.tpe:TPE using 2/2 trials with best loss 2.795436\n"
          ]
        },
        {
          "output_type": "stream",
          "name": "stdout",
          "text": [
            "2022-11-24 17:36:21,889 - TPE using 2/2 trials with best loss 2.795436\n",
            " 30%|███       | 3/10 [00:03<00:09,  1.40s/trial, best loss: 2.795436005874839]"
          ]
        },
        {
          "output_type": "stream",
          "name": "stderr",
          "text": [
            "INFO:hyperopt.tpe:build_posterior_wrapper took 0.004074 seconds\n"
          ]
        },
        {
          "output_type": "stream",
          "name": "stdout",
          "text": [
            "2022-11-24 17:36:24,052 - build_posterior_wrapper took 0.004074 seconds\n"
          ]
        },
        {
          "output_type": "stream",
          "name": "stderr",
          "text": [
            "INFO:hyperopt.tpe:TPE using 3/3 trials with best loss 2.795436\n"
          ]
        },
        {
          "output_type": "stream",
          "name": "stdout",
          "text": [
            "2022-11-24 17:36:24,058 - TPE using 3/3 trials with best loss 2.795436\n",
            " 40%|████      | 4/10 [00:09<00:18,  3.06s/trial, best loss: 1.7809532759517324]"
          ]
        },
        {
          "output_type": "stream",
          "name": "stderr",
          "text": [
            "INFO:hyperopt.tpe:build_posterior_wrapper took 0.007938 seconds\n"
          ]
        },
        {
          "output_type": "stream",
          "name": "stdout",
          "text": [
            "2022-11-24 17:36:29,646 - build_posterior_wrapper took 0.007938 seconds\n"
          ]
        },
        {
          "output_type": "stream",
          "name": "stderr",
          "text": [
            "INFO:hyperopt.tpe:TPE using 4/4 trials with best loss 1.780953\n"
          ]
        },
        {
          "output_type": "stream",
          "name": "stdout",
          "text": [
            "2022-11-24 17:36:29,653 - TPE using 4/4 trials with best loss 1.780953\n",
            " 50%|█████     | 5/10 [00:13<00:16,  3.32s/trial, best loss: 1.7809532759517324]"
          ]
        },
        {
          "output_type": "stream",
          "name": "stderr",
          "text": [
            "INFO:hyperopt.tpe:build_posterior_wrapper took 0.008590 seconds\n"
          ]
        },
        {
          "output_type": "stream",
          "name": "stdout",
          "text": [
            "2022-11-24 17:36:33,421 - build_posterior_wrapper took 0.008590 seconds\n"
          ]
        },
        {
          "output_type": "stream",
          "name": "stderr",
          "text": [
            "INFO:hyperopt.tpe:TPE using 5/5 trials with best loss 1.780953\n"
          ]
        },
        {
          "output_type": "stream",
          "name": "stdout",
          "text": [
            "2022-11-24 17:36:33,431 - TPE using 5/5 trials with best loss 1.780953\n",
            " 60%|██████    | 6/10 [00:19<00:17,  4.29s/trial, best loss: 1.7809532759517324]"
          ]
        },
        {
          "output_type": "stream",
          "name": "stderr",
          "text": [
            "INFO:hyperopt.tpe:build_posterior_wrapper took 0.011142 seconds\n"
          ]
        },
        {
          "output_type": "stream",
          "name": "stdout",
          "text": [
            "2022-11-24 17:36:39,594 - build_posterior_wrapper took 0.011142 seconds\n"
          ]
        },
        {
          "output_type": "stream",
          "name": "stderr",
          "text": [
            "INFO:hyperopt.tpe:TPE using 6/6 trials with best loss 1.780953\n"
          ]
        },
        {
          "output_type": "stream",
          "name": "stdout",
          "text": [
            "2022-11-24 17:36:39,603 - TPE using 6/6 trials with best loss 1.780953\n",
            " 70%|███████   | 7/10 [00:20<00:09,  3.21s/trial, best loss: 1.7809532759517324]"
          ]
        },
        {
          "output_type": "stream",
          "name": "stderr",
          "text": [
            "INFO:hyperopt.tpe:build_posterior_wrapper took 0.008123 seconds\n"
          ]
        },
        {
          "output_type": "stream",
          "name": "stdout",
          "text": [
            "2022-11-24 17:36:40,598 - build_posterior_wrapper took 0.008123 seconds\n"
          ]
        },
        {
          "output_type": "stream",
          "name": "stderr",
          "text": [
            "INFO:hyperopt.tpe:TPE using 7/7 trials with best loss 1.780953\n"
          ]
        },
        {
          "output_type": "stream",
          "name": "stdout",
          "text": [
            "2022-11-24 17:36:40,605 - TPE using 7/7 trials with best loss 1.780953\n",
            " 80%|████████  | 8/10 [00:22<00:06,  3.03s/trial, best loss: 1.7809532759517324]"
          ]
        },
        {
          "output_type": "stream",
          "name": "stderr",
          "text": [
            "INFO:hyperopt.tpe:build_posterior_wrapper took 0.007711 seconds\n"
          ]
        },
        {
          "output_type": "stream",
          "name": "stdout",
          "text": [
            "2022-11-24 17:36:43,244 - build_posterior_wrapper took 0.007711 seconds\n"
          ]
        },
        {
          "output_type": "stream",
          "name": "stderr",
          "text": [
            "INFO:hyperopt.tpe:TPE using 8/8 trials with best loss 1.780953\n"
          ]
        },
        {
          "output_type": "stream",
          "name": "stdout",
          "text": [
            "2022-11-24 17:36:43,250 - TPE using 8/8 trials with best loss 1.780953\n",
            " 90%|█████████ | 9/10 [00:23<00:02,  2.38s/trial, best loss: 1.7809532759517324]"
          ]
        },
        {
          "output_type": "stream",
          "name": "stderr",
          "text": [
            "INFO:hyperopt.tpe:build_posterior_wrapper took 0.007751 seconds\n"
          ]
        },
        {
          "output_type": "stream",
          "name": "stdout",
          "text": [
            "2022-11-24 17:36:44,196 - build_posterior_wrapper took 0.007751 seconds\n"
          ]
        },
        {
          "output_type": "stream",
          "name": "stderr",
          "text": [
            "INFO:hyperopt.tpe:TPE using 9/9 trials with best loss 1.780953\n"
          ]
        },
        {
          "output_type": "stream",
          "name": "stdout",
          "text": [
            "2022-11-24 17:36:44,204 - TPE using 9/9 trials with best loss 1.780953\n",
            "100%|██████████| 10/10 [00:26<00:00,  2.65s/trial, best loss: 1.7809532759517324]\n"
          ]
        },
        {
          "output_type": "stream",
          "name": "stderr",
          "text": [
            "INFO:root:PipelineTuner - Hyperparameters optimization finished\n"
          ]
        },
        {
          "output_type": "stream",
          "name": "stdout",
          "text": [
            "2022-11-24 17:36:52,524 - PipelineTuner - Hyperparameters optimization finished\n"
          ]
        },
        {
          "output_type": "stream",
          "name": "stderr",
          "text": [
            "INFO:root:PipelineTuner - Return tuned pipeline due to the fact that obtained metric 1.781 equal or better than initial (+ 5% deviation) 2.570\n"
          ]
        },
        {
          "output_type": "stream",
          "name": "stdout",
          "text": [
            "2022-11-24 17:36:52,528 - PipelineTuner - Return tuned pipeline due to the fact that obtained metric 1.781 equal or better than initial (+ 5% deviation) 2.570\n"
          ]
        },
        {
          "output_type": "stream",
          "name": "stderr",
          "text": [
            "INFO:root:PipelineTuner - Hyperparameters optimization start\n"
          ]
        },
        {
          "output_type": "stream",
          "name": "stdout",
          "text": [
            "2022-11-24 17:36:56,269 - PipelineTuner - Hyperparameters optimization start\n",
            "  0%|          | 0/10 [00:00<?, ?trial/s, best loss=?]"
          ]
        },
        {
          "output_type": "stream",
          "name": "stderr",
          "text": [
            "INFO:hyperopt.tpe:build_posterior_wrapper took 0.011060 seconds\n"
          ]
        },
        {
          "output_type": "stream",
          "name": "stdout",
          "text": [
            "2022-11-24 17:37:02,010 - build_posterior_wrapper took 0.011060 seconds\n"
          ]
        },
        {
          "output_type": "stream",
          "name": "stderr",
          "text": [
            "INFO:hyperopt.tpe:TPE using 0 trials\n"
          ]
        },
        {
          "output_type": "stream",
          "name": "stdout",
          "text": [
            "2022-11-24 17:37:02,021 - TPE using 0 trials\n",
            " 10%|█         | 1/10 [00:02<00:20,  2.30s/trial, best loss: 1.0120361634669417]"
          ]
        },
        {
          "output_type": "stream",
          "name": "stderr",
          "text": [
            "INFO:hyperopt.tpe:build_posterior_wrapper took 0.004090 seconds\n"
          ]
        },
        {
          "output_type": "stream",
          "name": "stdout",
          "text": [
            "2022-11-24 17:37:04,306 - build_posterior_wrapper took 0.004090 seconds\n"
          ]
        },
        {
          "output_type": "stream",
          "name": "stderr",
          "text": [
            "INFO:hyperopt.tpe:TPE using 1/1 trials with best loss 1.012036\n"
          ]
        },
        {
          "output_type": "stream",
          "name": "stdout",
          "text": [
            "2022-11-24 17:37:04,315 - TPE using 1/1 trials with best loss 1.012036\n",
            " 20%|██        | 2/10 [00:02<00:09,  1.20s/trial, best loss: 0.2976328885887273]"
          ]
        },
        {
          "output_type": "stream",
          "name": "stderr",
          "text": [
            "INFO:hyperopt.tpe:build_posterior_wrapper took 0.007293 seconds\n"
          ]
        },
        {
          "output_type": "stream",
          "name": "stdout",
          "text": [
            "2022-11-24 17:37:04,741 - build_posterior_wrapper took 0.007293 seconds\n"
          ]
        },
        {
          "output_type": "stream",
          "name": "stderr",
          "text": [
            "INFO:hyperopt.tpe:TPE using 2/2 trials with best loss 0.297633\n"
          ]
        },
        {
          "output_type": "stream",
          "name": "stdout",
          "text": [
            "2022-11-24 17:37:04,747 - TPE using 2/2 trials with best loss 0.297633\n",
            " 30%|███       | 3/10 [00:05<00:14,  2.09s/trial, best loss: 0.2976328885887273]"
          ]
        },
        {
          "output_type": "stream",
          "name": "stderr",
          "text": [
            "INFO:hyperopt.tpe:build_posterior_wrapper took 0.007308 seconds\n"
          ]
        },
        {
          "output_type": "stream",
          "name": "stdout",
          "text": [
            "2022-11-24 17:37:07,898 - build_posterior_wrapper took 0.007308 seconds\n"
          ]
        },
        {
          "output_type": "stream",
          "name": "stderr",
          "text": [
            "INFO:hyperopt.tpe:TPE using 3/3 trials with best loss 0.297633\n"
          ]
        },
        {
          "output_type": "stream",
          "name": "stdout",
          "text": [
            "2022-11-24 17:37:07,903 - TPE using 3/3 trials with best loss 0.297633\n",
            " 40%|████      | 4/10 [00:09<00:15,  2.66s/trial, best loss: 0.2976328885887273]"
          ]
        },
        {
          "output_type": "stream",
          "name": "stderr",
          "text": [
            "INFO:hyperopt.tpe:build_posterior_wrapper took 0.008032 seconds\n"
          ]
        },
        {
          "output_type": "stream",
          "name": "stdout",
          "text": [
            "2022-11-24 17:37:11,435 - build_posterior_wrapper took 0.008032 seconds\n"
          ]
        },
        {
          "output_type": "stream",
          "name": "stderr",
          "text": [
            "INFO:hyperopt.tpe:TPE using 4/4 trials with best loss 0.297633\n"
          ]
        },
        {
          "output_type": "stream",
          "name": "stdout",
          "text": [
            "2022-11-24 17:37:11,440 - TPE using 4/4 trials with best loss 0.297633\n",
            " 50%|█████     | 5/10 [00:15<00:20,  4.02s/trial, best loss: 0.2976328885887273]"
          ]
        },
        {
          "output_type": "stream",
          "name": "stderr",
          "text": [
            "INFO:hyperopt.tpe:build_posterior_wrapper took 0.004158 seconds\n"
          ]
        },
        {
          "output_type": "stream",
          "name": "stdout",
          "text": [
            "2022-11-24 17:37:17,862 - build_posterior_wrapper took 0.004158 seconds\n"
          ]
        },
        {
          "output_type": "stream",
          "name": "stderr",
          "text": [
            "INFO:hyperopt.tpe:TPE using 5/5 trials with best loss 0.297633\n"
          ]
        },
        {
          "output_type": "stream",
          "name": "stdout",
          "text": [
            "2022-11-24 17:37:17,872 - TPE using 5/5 trials with best loss 0.297633\n",
            " 60%|██████    | 6/10 [00:20<00:16,  4.16s/trial, best loss: 0.2976328885887273]"
          ]
        },
        {
          "output_type": "stream",
          "name": "stderr",
          "text": [
            "INFO:hyperopt.tpe:build_posterior_wrapper took 0.006673 seconds\n"
          ]
        },
        {
          "output_type": "stream",
          "name": "stdout",
          "text": [
            "2022-11-24 17:37:22,283 - build_posterior_wrapper took 0.006673 seconds\n"
          ]
        },
        {
          "output_type": "stream",
          "name": "stderr",
          "text": [
            "INFO:hyperopt.tpe:TPE using 6/6 trials with best loss 0.297633\n"
          ]
        },
        {
          "output_type": "stream",
          "name": "stdout",
          "text": [
            "2022-11-24 17:37:22,288 - TPE using 6/6 trials with best loss 0.297633\n",
            " 70%|███████   | 7/10 [00:21<00:09,  3.06s/trial, best loss: 0.2976328885887273]"
          ]
        },
        {
          "output_type": "stream",
          "name": "stderr",
          "text": [
            "INFO:hyperopt.tpe:build_posterior_wrapper took 0.006723 seconds\n"
          ]
        },
        {
          "output_type": "stream",
          "name": "stdout",
          "text": [
            "2022-11-24 17:37:23,090 - build_posterior_wrapper took 0.006723 seconds\n"
          ]
        },
        {
          "output_type": "stream",
          "name": "stderr",
          "text": [
            "INFO:hyperopt.tpe:TPE using 7/7 trials with best loss 0.297633\n"
          ]
        },
        {
          "output_type": "stream",
          "name": "stdout",
          "text": [
            "2022-11-24 17:37:23,095 - TPE using 7/7 trials with best loss 0.297633\n",
            " 80%|████████  | 8/10 [00:23<00:05,  2.72s/trial, best loss: 0.2976328885887273]"
          ]
        },
        {
          "output_type": "stream",
          "name": "stderr",
          "text": [
            "INFO:hyperopt.tpe:build_posterior_wrapper took 0.004524 seconds\n"
          ]
        },
        {
          "output_type": "stream",
          "name": "stdout",
          "text": [
            "2022-11-24 17:37:25,082 - build_posterior_wrapper took 0.004524 seconds\n"
          ]
        },
        {
          "output_type": "stream",
          "name": "stderr",
          "text": [
            "INFO:hyperopt.tpe:TPE using 8/8 trials with best loss 0.297633\n"
          ]
        },
        {
          "output_type": "stream",
          "name": "stdout",
          "text": [
            "2022-11-24 17:37:25,088 - TPE using 8/8 trials with best loss 0.297633\n",
            " 90%|█████████ | 9/10 [00:25<00:02,  2.52s/trial, best loss: 0.2976328885887273]"
          ]
        },
        {
          "output_type": "stream",
          "name": "stderr",
          "text": [
            "INFO:hyperopt.tpe:build_posterior_wrapper took 0.008992 seconds\n"
          ]
        },
        {
          "output_type": "stream",
          "name": "stdout",
          "text": [
            "2022-11-24 17:37:27,156 - build_posterior_wrapper took 0.008992 seconds\n"
          ]
        },
        {
          "output_type": "stream",
          "name": "stderr",
          "text": [
            "INFO:hyperopt.tpe:TPE using 9/9 trials with best loss 0.297633\n"
          ]
        },
        {
          "output_type": "stream",
          "name": "stdout",
          "text": [
            "2022-11-24 17:37:27,165 - TPE using 9/9 trials with best loss 0.297633\n",
            "100%|██████████| 10/10 [00:30<00:00,  3.01s/trial, best loss: 0.2976328885887273]\n"
          ]
        },
        {
          "output_type": "stream",
          "name": "stderr",
          "text": [
            "INFO:root:PipelineTuner - Hyperparameters optimization finished\n"
          ]
        },
        {
          "output_type": "stream",
          "name": "stdout",
          "text": [
            "2022-11-24 17:37:32,523 - PipelineTuner - Hyperparameters optimization finished\n"
          ]
        },
        {
          "output_type": "stream",
          "name": "stderr",
          "text": [
            "INFO:root:PipelineTuner - Return tuned pipeline due to the fact that obtained metric 0.298 equal or better than initial (+ 5% deviation) 0.675\n"
          ]
        },
        {
          "output_type": "stream",
          "name": "stdout",
          "text": [
            "2022-11-24 17:37:32,532 - PipelineTuner - Return tuned pipeline due to the fact that obtained metric 0.298 equal or better than initial (+ 5% deviation) 0.675\n"
          ]
        },
        {
          "output_type": "stream",
          "name": "stderr",
          "text": [
            "INFO:root:PipelineTuner - Hyperparameters optimization start\n"
          ]
        },
        {
          "output_type": "stream",
          "name": "stdout",
          "text": [
            "Fitting pipeline №2\n",
            "2022-11-24 17:37:32,847 - PipelineTuner - Hyperparameters optimization start\n",
            "  0%|          | 0/10 [00:00<?, ?trial/s, best loss=?]"
          ]
        },
        {
          "output_type": "stream",
          "name": "stderr",
          "text": [
            "INFO:hyperopt.tpe:build_posterior_wrapper took 0.007768 seconds\n"
          ]
        },
        {
          "output_type": "stream",
          "name": "stdout",
          "text": [
            "2022-11-24 17:37:33,119 - build_posterior_wrapper took 0.007768 seconds\n"
          ]
        },
        {
          "output_type": "stream",
          "name": "stderr",
          "text": [
            "INFO:hyperopt.tpe:TPE using 0 trials\n"
          ]
        },
        {
          "output_type": "stream",
          "name": "stdout",
          "text": [
            "2022-11-24 17:37:33,124 - TPE using 0 trials\n",
            " 10%|█         | 1/10 [00:05<00:52,  5.86s/trial, best loss: 4.0175355197522515]"
          ]
        },
        {
          "output_type": "stream",
          "name": "stderr",
          "text": [
            "INFO:hyperopt.tpe:build_posterior_wrapper took 0.007871 seconds\n"
          ]
        },
        {
          "output_type": "stream",
          "name": "stdout",
          "text": [
            "2022-11-24 17:37:38,981 - build_posterior_wrapper took 0.007871 seconds\n"
          ]
        },
        {
          "output_type": "stream",
          "name": "stderr",
          "text": [
            "INFO:hyperopt.tpe:TPE using 1/1 trials with best loss 4.017536\n"
          ]
        },
        {
          "output_type": "stream",
          "name": "stdout",
          "text": [
            "2022-11-24 17:37:38,985 - TPE using 1/1 trials with best loss 4.017536\n",
            " 20%|██        | 2/10 [00:06<00:22,  2.81s/trial, best loss: 2.8105704316308304]"
          ]
        },
        {
          "output_type": "stream",
          "name": "stderr",
          "text": [
            "INFO:hyperopt.tpe:build_posterior_wrapper took 0.004294 seconds\n"
          ]
        },
        {
          "output_type": "stream",
          "name": "stdout",
          "text": [
            "2022-11-24 17:37:39,655 - build_posterior_wrapper took 0.004294 seconds\n"
          ]
        },
        {
          "output_type": "stream",
          "name": "stderr",
          "text": [
            "INFO:hyperopt.tpe:TPE using 2/2 trials with best loss 2.810570\n"
          ]
        },
        {
          "output_type": "stream",
          "name": "stdout",
          "text": [
            "2022-11-24 17:37:39,666 - TPE using 2/2 trials with best loss 2.810570\n",
            " 30%|███       | 3/10 [00:12<00:29,  4.27s/trial, best loss: 2.8105704316308304]"
          ]
        },
        {
          "output_type": "stream",
          "name": "stderr",
          "text": [
            "INFO:hyperopt.tpe:build_posterior_wrapper took 0.006771 seconds\n"
          ]
        },
        {
          "output_type": "stream",
          "name": "stdout",
          "text": [
            "2022-11-24 17:37:45,671 - build_posterior_wrapper took 0.006771 seconds\n"
          ]
        },
        {
          "output_type": "stream",
          "name": "stderr",
          "text": [
            "INFO:hyperopt.tpe:TPE using 3/3 trials with best loss 2.810570\n"
          ]
        },
        {
          "output_type": "stream",
          "name": "stdout",
          "text": [
            "2022-11-24 17:37:45,678 - TPE using 3/3 trials with best loss 2.810570\n",
            " 40%|████      | 4/10 [00:16<00:25,  4.30s/trial, best loss: 2.8105704316308304]"
          ]
        },
        {
          "output_type": "stream",
          "name": "stderr",
          "text": [
            "INFO:hyperopt.tpe:build_posterior_wrapper took 0.008512 seconds\n"
          ]
        },
        {
          "output_type": "stream",
          "name": "stdout",
          "text": [
            "2022-11-24 17:37:50,010 - build_posterior_wrapper took 0.008512 seconds\n"
          ]
        },
        {
          "output_type": "stream",
          "name": "stderr",
          "text": [
            "INFO:hyperopt.tpe:TPE using 4/4 trials with best loss 2.810570\n"
          ]
        },
        {
          "output_type": "stream",
          "name": "stdout",
          "text": [
            "2022-11-24 17:37:50,018 - TPE using 4/4 trials with best loss 2.810570\n",
            " 50%|█████     | 5/10 [00:21<00:22,  4.44s/trial, best loss: 2.8105704316308304]"
          ]
        },
        {
          "output_type": "stream",
          "name": "stderr",
          "text": [
            "INFO:hyperopt.tpe:build_posterior_wrapper took 0.004389 seconds\n"
          ]
        },
        {
          "output_type": "stream",
          "name": "stdout",
          "text": [
            "2022-11-24 17:37:54,694 - build_posterior_wrapper took 0.004389 seconds\n"
          ]
        },
        {
          "output_type": "stream",
          "name": "stderr",
          "text": [
            "INFO:hyperopt.tpe:TPE using 5/5 trials with best loss 2.810570\n"
          ]
        },
        {
          "output_type": "stream",
          "name": "stdout",
          "text": [
            "2022-11-24 17:37:54,704 - TPE using 5/5 trials with best loss 2.810570\n",
            " 60%|██████    | 6/10 [00:25<00:16,  4.11s/trial, best loss: 2.8105704316308304]"
          ]
        },
        {
          "output_type": "stream",
          "name": "stderr",
          "text": [
            "INFO:hyperopt.tpe:build_posterior_wrapper took 0.008607 seconds\n"
          ]
        },
        {
          "output_type": "stream",
          "name": "stdout",
          "text": [
            "2022-11-24 17:37:58,178 - build_posterior_wrapper took 0.008607 seconds\n"
          ]
        },
        {
          "output_type": "stream",
          "name": "stderr",
          "text": [
            "INFO:hyperopt.tpe:TPE using 6/6 trials with best loss 2.810570\n"
          ]
        },
        {
          "output_type": "stream",
          "name": "stdout",
          "text": [
            "2022-11-24 17:37:58,185 - TPE using 6/6 trials with best loss 2.810570\n",
            " 70%|███████   | 7/10 [00:27<00:10,  3.54s/trial, best loss: 2.8105704316308304]"
          ]
        },
        {
          "output_type": "stream",
          "name": "stderr",
          "text": [
            "INFO:hyperopt.tpe:build_posterior_wrapper took 0.006818 seconds\n"
          ]
        },
        {
          "output_type": "stream",
          "name": "stdout",
          "text": [
            "2022-11-24 17:38:00,521 - build_posterior_wrapper took 0.006818 seconds\n"
          ]
        },
        {
          "output_type": "stream",
          "name": "stderr",
          "text": [
            "INFO:hyperopt.tpe:TPE using 7/7 trials with best loss 2.810570\n"
          ]
        },
        {
          "output_type": "stream",
          "name": "stdout",
          "text": [
            "2022-11-24 17:38:00,527 - TPE using 7/7 trials with best loss 2.810570\n",
            " 80%|████████  | 8/10 [00:28<00:05,  2.60s/trial, best loss: 2.531703407338425] "
          ]
        },
        {
          "output_type": "stream",
          "name": "stderr",
          "text": [
            "INFO:hyperopt.tpe:build_posterior_wrapper took 0.007136 seconds\n"
          ]
        },
        {
          "output_type": "stream",
          "name": "stdout",
          "text": [
            "2022-11-24 17:38:01,128 - build_posterior_wrapper took 0.007136 seconds\n"
          ]
        },
        {
          "output_type": "stream",
          "name": "stderr",
          "text": [
            "INFO:hyperopt.tpe:TPE using 8/8 trials with best loss 2.531703\n"
          ]
        },
        {
          "output_type": "stream",
          "name": "stdout",
          "text": [
            "2022-11-24 17:38:01,134 - TPE using 8/8 trials with best loss 2.531703\n",
            " 90%|█████████ | 9/10 [00:30<00:02,  2.60s/trial, best loss: 2.531703407338425]"
          ]
        },
        {
          "output_type": "stream",
          "name": "stderr",
          "text": [
            "INFO:hyperopt.tpe:build_posterior_wrapper took 0.008358 seconds\n"
          ]
        },
        {
          "output_type": "stream",
          "name": "stdout",
          "text": [
            "2022-11-24 17:38:03,710 - build_posterior_wrapper took 0.008358 seconds\n"
          ]
        },
        {
          "output_type": "stream",
          "name": "stderr",
          "text": [
            "INFO:hyperopt.tpe:TPE using 9/9 trials with best loss 2.531703\n"
          ]
        },
        {
          "output_type": "stream",
          "name": "stdout",
          "text": [
            "2022-11-24 17:38:03,716 - TPE using 9/9 trials with best loss 2.531703\n",
            "100%|██████████| 10/10 [00:30<00:00,  3.09s/trial, best loss: 2.531703407338425]\n"
          ]
        },
        {
          "output_type": "stream",
          "name": "stderr",
          "text": [
            "INFO:root:PipelineTuner - Hyperparameters optimization finished\n"
          ]
        },
        {
          "output_type": "stream",
          "name": "stdout",
          "text": [
            "2022-11-24 17:38:04,584 - PipelineTuner - Hyperparameters optimization finished\n"
          ]
        },
        {
          "output_type": "stream",
          "name": "stderr",
          "text": [
            "INFO:root:PipelineTuner - Return tuned pipeline due to the fact that obtained metric 2.532 equal or better than initial (+ 5% deviation) 2.570\n"
          ]
        },
        {
          "output_type": "stream",
          "name": "stdout",
          "text": [
            "2022-11-24 17:38:04,591 - PipelineTuner - Return tuned pipeline due to the fact that obtained metric 2.532 equal or better than initial (+ 5% deviation) 2.570\n"
          ]
        },
        {
          "output_type": "stream",
          "name": "stderr",
          "text": [
            "INFO:root:PipelineTuner - Hyperparameters optimization start\n"
          ]
        },
        {
          "output_type": "stream",
          "name": "stdout",
          "text": [
            "2022-11-24 17:38:05,059 - PipelineTuner - Hyperparameters optimization start\n",
            "  0%|          | 0/10 [00:00<?, ?trial/s, best loss=?]"
          ]
        },
        {
          "output_type": "stream",
          "name": "stderr",
          "text": [
            "INFO:hyperopt.tpe:build_posterior_wrapper took 0.008358 seconds\n"
          ]
        },
        {
          "output_type": "stream",
          "name": "stdout",
          "text": [
            "2022-11-24 17:38:05,675 - build_posterior_wrapper took 0.008358 seconds\n"
          ]
        },
        {
          "output_type": "stream",
          "name": "stderr",
          "text": [
            "INFO:hyperopt.tpe:TPE using 0 trials\n"
          ]
        },
        {
          "output_type": "stream",
          "name": "stdout",
          "text": [
            "2022-11-24 17:38:05,682 - TPE using 0 trials\n",
            " 10%|█         | 1/10 [00:01<00:12,  1.37s/trial, best loss: 0.5636459680441613]"
          ]
        },
        {
          "output_type": "stream",
          "name": "stderr",
          "text": [
            "INFO:hyperopt.tpe:build_posterior_wrapper took 0.008521 seconds\n"
          ]
        },
        {
          "output_type": "stream",
          "name": "stdout",
          "text": [
            "2022-11-24 17:38:07,044 - build_posterior_wrapper took 0.008521 seconds\n"
          ]
        },
        {
          "output_type": "stream",
          "name": "stderr",
          "text": [
            "INFO:hyperopt.tpe:TPE using 1/1 trials with best loss 0.563646\n"
          ]
        },
        {
          "output_type": "stream",
          "name": "stdout",
          "text": [
            "2022-11-24 17:38:07,050 - TPE using 1/1 trials with best loss 0.563646\n",
            " 20%|██        | 2/10 [00:02<00:10,  1.32s/trial, best loss: 0.5636459680441613]"
          ]
        },
        {
          "output_type": "stream",
          "name": "stderr",
          "text": [
            "INFO:hyperopt.tpe:build_posterior_wrapper took 0.008446 seconds\n"
          ]
        },
        {
          "output_type": "stream",
          "name": "stdout",
          "text": [
            "2022-11-24 17:38:08,335 - build_posterior_wrapper took 0.008446 seconds\n"
          ]
        },
        {
          "output_type": "stream",
          "name": "stderr",
          "text": [
            "INFO:hyperopt.tpe:TPE using 2/2 trials with best loss 0.563646\n"
          ]
        },
        {
          "output_type": "stream",
          "name": "stdout",
          "text": [
            "2022-11-24 17:38:08,342 - TPE using 2/2 trials with best loss 0.563646\n",
            " 30%|███       | 3/10 [00:04<00:11,  1.67s/trial, best loss: 0.5380227523681822]"
          ]
        },
        {
          "output_type": "stream",
          "name": "stderr",
          "text": [
            "INFO:hyperopt.tpe:build_posterior_wrapper took 0.009792 seconds\n"
          ]
        },
        {
          "output_type": "stream",
          "name": "stdout",
          "text": [
            "2022-11-24 17:38:10,421 - build_posterior_wrapper took 0.009792 seconds\n"
          ]
        },
        {
          "output_type": "stream",
          "name": "stderr",
          "text": [
            "INFO:hyperopt.tpe:TPE using 3/3 trials with best loss 0.538023\n"
          ]
        },
        {
          "output_type": "stream",
          "name": "stdout",
          "text": [
            "2022-11-24 17:38:10,426 - TPE using 3/3 trials with best loss 0.538023\n",
            " 40%|████      | 4/10 [00:05<00:06,  1.12s/trial, best loss: 0.3228465281017368]"
          ]
        },
        {
          "output_type": "stream",
          "name": "stderr",
          "text": [
            "INFO:hyperopt.tpe:build_posterior_wrapper took 0.007502 seconds\n"
          ]
        },
        {
          "output_type": "stream",
          "name": "stdout",
          "text": [
            "2022-11-24 17:38:10,705 - build_posterior_wrapper took 0.007502 seconds\n"
          ]
        },
        {
          "output_type": "stream",
          "name": "stderr",
          "text": [
            "INFO:hyperopt.tpe:TPE using 4/4 trials with best loss 0.322847\n"
          ]
        },
        {
          "output_type": "stream",
          "name": "stdout",
          "text": [
            "2022-11-24 17:38:10,711 - TPE using 4/4 trials with best loss 0.322847\n",
            " 50%|█████     | 5/10 [00:07<00:07,  1.50s/trial, best loss: 0.3228465281017368]"
          ]
        },
        {
          "output_type": "stream",
          "name": "stderr",
          "text": [
            "INFO:hyperopt.tpe:build_posterior_wrapper took 0.008544 seconds\n"
          ]
        },
        {
          "output_type": "stream",
          "name": "stdout",
          "text": [
            "2022-11-24 17:38:12,861 - build_posterior_wrapper took 0.008544 seconds\n"
          ]
        },
        {
          "output_type": "stream",
          "name": "stderr",
          "text": [
            "INFO:hyperopt.tpe:TPE using 5/5 trials with best loss 0.322847\n"
          ]
        },
        {
          "output_type": "stream",
          "name": "stdout",
          "text": [
            "2022-11-24 17:38:12,866 - TPE using 5/5 trials with best loss 0.322847\n",
            " 60%|██████    | 6/10 [00:11<00:09,  2.31s/trial, best loss: 0.3228465281017368]"
          ]
        },
        {
          "output_type": "stream",
          "name": "stderr",
          "text": [
            "INFO:hyperopt.tpe:build_posterior_wrapper took 0.008760 seconds\n"
          ]
        },
        {
          "output_type": "stream",
          "name": "stdout",
          "text": [
            "2022-11-24 17:38:16,757 - build_posterior_wrapper took 0.008760 seconds\n"
          ]
        },
        {
          "output_type": "stream",
          "name": "stderr",
          "text": [
            "INFO:hyperopt.tpe:TPE using 6/6 trials with best loss 0.322847\n"
          ]
        },
        {
          "output_type": "stream",
          "name": "stdout",
          "text": [
            "2022-11-24 17:38:16,764 - TPE using 6/6 trials with best loss 0.322847\n",
            " 70%|███████   | 7/10 [00:12<00:06,  2.06s/trial, best loss: 0.3228465281017368]"
          ]
        },
        {
          "output_type": "stream",
          "name": "stderr",
          "text": [
            "INFO:hyperopt.tpe:build_posterior_wrapper took 0.006329 seconds\n"
          ]
        },
        {
          "output_type": "stream",
          "name": "stdout",
          "text": [
            "2022-11-24 17:38:18,300 - build_posterior_wrapper took 0.006329 seconds\n"
          ]
        },
        {
          "output_type": "stream",
          "name": "stderr",
          "text": [
            "INFO:hyperopt.tpe:TPE using 7/7 trials with best loss 0.322847\n"
          ]
        },
        {
          "output_type": "stream",
          "name": "stdout",
          "text": [
            "2022-11-24 17:38:18,306 - TPE using 7/7 trials with best loss 0.322847\n",
            " 80%|████████  | 8/10 [00:13<00:03,  1.62s/trial, best loss: 0.3228465281017368]"
          ]
        },
        {
          "output_type": "stream",
          "name": "stderr",
          "text": [
            "INFO:hyperopt.tpe:build_posterior_wrapper took 0.007938 seconds\n"
          ]
        },
        {
          "output_type": "stream",
          "name": "stdout",
          "text": [
            "2022-11-24 17:38:18,964 - build_posterior_wrapper took 0.007938 seconds\n"
          ]
        },
        {
          "output_type": "stream",
          "name": "stderr",
          "text": [
            "INFO:hyperopt.tpe:TPE using 8/8 trials with best loss 0.322847\n"
          ]
        },
        {
          "output_type": "stream",
          "name": "stdout",
          "text": [
            "2022-11-24 17:38:18,969 - TPE using 8/8 trials with best loss 0.322847\n",
            " 90%|█████████ | 9/10 [00:13<00:01,  1.25s/trial, best loss: 0.3119062414522034]"
          ]
        },
        {
          "output_type": "stream",
          "name": "stderr",
          "text": [
            "INFO:hyperopt.tpe:build_posterior_wrapper took 0.008304 seconds\n"
          ]
        },
        {
          "output_type": "stream",
          "name": "stdout",
          "text": [
            "2022-11-24 17:38:19,414 - build_posterior_wrapper took 0.008304 seconds\n"
          ]
        },
        {
          "output_type": "stream",
          "name": "stderr",
          "text": [
            "INFO:hyperopt.tpe:TPE using 9/9 trials with best loss 0.311906\n"
          ]
        },
        {
          "output_type": "stream",
          "name": "stdout",
          "text": [
            "2022-11-24 17:38:19,421 - TPE using 9/9 trials with best loss 0.311906\n",
            "100%|██████████| 10/10 [00:18<00:00,  1.80s/trial, best loss: 0.3119062414522034]\n"
          ]
        },
        {
          "output_type": "stream",
          "name": "stderr",
          "text": [
            "INFO:root:PipelineTuner - Hyperparameters optimization finished\n"
          ]
        },
        {
          "output_type": "stream",
          "name": "stdout",
          "text": [
            "2022-11-24 17:38:24,097 - PipelineTuner - Hyperparameters optimization finished\n"
          ]
        },
        {
          "output_type": "stream",
          "name": "stderr",
          "text": [
            "INFO:root:PipelineTuner - Return tuned pipeline due to the fact that obtained metric 0.312 equal or better than initial (+ 5% deviation) 0.350\n"
          ]
        },
        {
          "output_type": "stream",
          "name": "stdout",
          "text": [
            "2022-11-24 17:38:24,103 - PipelineTuner - Return tuned pipeline due to the fact that obtained metric 0.312 equal or better than initial (+ 5% deviation) 0.350\n"
          ]
        },
        {
          "output_type": "stream",
          "name": "stderr",
          "text": [
            "INFO:root:PipelineTuner - Hyperparameters optimization start\n"
          ]
        },
        {
          "output_type": "stream",
          "name": "stdout",
          "text": [
            "Fitting pipeline №3\n",
            "2022-11-24 17:38:24,459 - PipelineTuner - Hyperparameters optimization start\n",
            "  0%|          | 0/10 [00:00<?, ?trial/s, best loss=?]"
          ]
        },
        {
          "output_type": "stream",
          "name": "stderr",
          "text": [
            "INFO:hyperopt.tpe:build_posterior_wrapper took 0.009573 seconds\n"
          ]
        },
        {
          "output_type": "stream",
          "name": "stdout",
          "text": [
            "2022-11-24 17:38:25,390 - build_posterior_wrapper took 0.009573 seconds\n"
          ]
        },
        {
          "output_type": "stream",
          "name": "stderr",
          "text": [
            "INFO:hyperopt.tpe:TPE using 0 trials\n"
          ]
        },
        {
          "output_type": "stream",
          "name": "stdout",
          "text": [
            "2022-11-24 17:38:25,396 - TPE using 0 trials\n",
            " 10%|█         | 1/10 [00:05<00:53,  5.95s/trial, best loss: 3.5025166180438414]"
          ]
        },
        {
          "output_type": "stream",
          "name": "stderr",
          "text": [
            "INFO:hyperopt.tpe:build_posterior_wrapper took 0.011469 seconds\n"
          ]
        },
        {
          "output_type": "stream",
          "name": "stdout",
          "text": [
            "2022-11-24 17:38:31,346 - build_posterior_wrapper took 0.011469 seconds\n"
          ]
        },
        {
          "output_type": "stream",
          "name": "stderr",
          "text": [
            "INFO:hyperopt.tpe:TPE using 1/1 trials with best loss 3.502517\n"
          ]
        },
        {
          "output_type": "stream",
          "name": "stdout",
          "text": [
            "2022-11-24 17:38:31,358 - TPE using 1/1 trials with best loss 3.502517\n",
            " 20%|██        | 2/10 [00:09<00:34,  4.37s/trial, best loss: 2.559015037306651] "
          ]
        },
        {
          "output_type": "stream",
          "name": "stderr",
          "text": [
            "INFO:hyperopt.tpe:build_posterior_wrapper took 0.012908 seconds\n"
          ]
        },
        {
          "output_type": "stream",
          "name": "stdout",
          "text": [
            "2022-11-24 17:38:34,608 - build_posterior_wrapper took 0.012908 seconds\n"
          ]
        },
        {
          "output_type": "stream",
          "name": "stderr",
          "text": [
            "INFO:hyperopt.tpe:TPE using 2/2 trials with best loss 2.559015\n"
          ]
        },
        {
          "output_type": "stream",
          "name": "stdout",
          "text": [
            "2022-11-24 17:38:34,616 - TPE using 2/2 trials with best loss 2.559015\n",
            " 30%|███       | 3/10 [00:28<01:16, 10.99s/trial, best loss: 2.401557332446498]"
          ]
        },
        {
          "output_type": "stream",
          "name": "stderr",
          "text": [
            "INFO:hyperopt.tpe:build_posterior_wrapper took 0.010975 seconds\n"
          ]
        },
        {
          "output_type": "stream",
          "name": "stdout",
          "text": [
            "2022-11-24 17:38:53,467 - build_posterior_wrapper took 0.010975 seconds\n"
          ]
        },
        {
          "output_type": "stream",
          "name": "stderr",
          "text": [
            "INFO:hyperopt.tpe:TPE using 3/3 trials with best loss 2.401557\n"
          ]
        },
        {
          "output_type": "stream",
          "name": "stdout",
          "text": [
            "2022-11-24 17:38:53,472 - TPE using 3/3 trials with best loss 2.401557\n",
            " 40%|████      | 4/10 [00:30<00:46,  7.76s/trial, best loss: 2.401557332446498]"
          ]
        },
        {
          "output_type": "stream",
          "name": "stderr",
          "text": [
            "INFO:hyperopt.tpe:build_posterior_wrapper took 0.008012 seconds\n"
          ]
        },
        {
          "output_type": "stream",
          "name": "stdout",
          "text": [
            "2022-11-24 17:38:56,271 - build_posterior_wrapper took 0.008012 seconds\n"
          ]
        },
        {
          "output_type": "stream",
          "name": "stderr",
          "text": [
            "INFO:hyperopt.tpe:TPE using 4/4 trials with best loss 2.401557\n"
          ]
        },
        {
          "output_type": "stream",
          "name": "stdout",
          "text": [
            "2022-11-24 17:38:56,280 - TPE using 4/4 trials with best loss 2.401557\n",
            " 50%|█████     | 5/10 [00:40<00:42,  8.43s/trial, best loss: 2.401557332446498]"
          ]
        },
        {
          "output_type": "stream",
          "name": "stderr",
          "text": [
            "INFO:hyperopt.tpe:build_posterior_wrapper took 0.010210 seconds\n"
          ]
        },
        {
          "output_type": "stream",
          "name": "stdout",
          "text": [
            "2022-11-24 17:39:05,908 - build_posterior_wrapper took 0.010210 seconds\n"
          ]
        },
        {
          "output_type": "stream",
          "name": "stderr",
          "text": [
            "INFO:hyperopt.tpe:TPE using 5/5 trials with best loss 2.401557\n"
          ]
        },
        {
          "output_type": "stream",
          "name": "stdout",
          "text": [
            "2022-11-24 17:39:05,914 - TPE using 5/5 trials with best loss 2.401557\n",
            " 60%|██████    | 6/10 [00:42<00:25,  6.29s/trial, best loss: 2.401557332446498]"
          ]
        },
        {
          "output_type": "stream",
          "name": "stderr",
          "text": [
            "INFO:hyperopt.tpe:build_posterior_wrapper took 0.008069 seconds\n"
          ]
        },
        {
          "output_type": "stream",
          "name": "stdout",
          "text": [
            "2022-11-24 17:39:08,026 - build_posterior_wrapper took 0.008069 seconds\n"
          ]
        },
        {
          "output_type": "stream",
          "name": "stderr",
          "text": [
            "INFO:hyperopt.tpe:TPE using 6/6 trials with best loss 2.401557\n"
          ]
        },
        {
          "output_type": "stream",
          "name": "stdout",
          "text": [
            "2022-11-24 17:39:08,034 - TPE using 6/6 trials with best loss 2.401557\n",
            " 70%|███████   | 7/10 [00:54<00:23,  7.98s/trial, best loss: 2.401557332446498]"
          ]
        },
        {
          "output_type": "stream",
          "name": "stderr",
          "text": [
            "INFO:hyperopt.tpe:build_posterior_wrapper took 0.011002 seconds\n"
          ]
        },
        {
          "output_type": "stream",
          "name": "stdout",
          "text": [
            "2022-11-24 17:39:19,485 - build_posterior_wrapper took 0.011002 seconds\n"
          ]
        },
        {
          "output_type": "stream",
          "name": "stderr",
          "text": [
            "INFO:hyperopt.tpe:TPE using 7/7 trials with best loss 2.401557\n"
          ]
        },
        {
          "output_type": "stream",
          "name": "stdout",
          "text": [
            "2022-11-24 17:39:19,490 - TPE using 7/7 trials with best loss 2.401557\n",
            " 80%|████████  | 8/10 [00:55<00:11,  5.90s/trial, best loss: 2.3307106707576954]"
          ]
        },
        {
          "output_type": "stream",
          "name": "stderr",
          "text": [
            "INFO:hyperopt.tpe:build_posterior_wrapper took 0.009771 seconds\n"
          ]
        },
        {
          "output_type": "stream",
          "name": "stdout",
          "text": [
            "2022-11-24 17:39:20,927 - build_posterior_wrapper took 0.009771 seconds\n"
          ]
        },
        {
          "output_type": "stream",
          "name": "stderr",
          "text": [
            "INFO:hyperopt.tpe:TPE using 8/8 trials with best loss 2.330711\n"
          ]
        },
        {
          "output_type": "stream",
          "name": "stdout",
          "text": [
            "2022-11-24 17:39:20,936 - TPE using 8/8 trials with best loss 2.330711\n",
            " 90%|█████████ | 9/10 [00:57<00:04,  4.59s/trial, best loss: 2.3307106707576954]"
          ]
        },
        {
          "output_type": "stream",
          "name": "stderr",
          "text": [
            "INFO:hyperopt.tpe:build_posterior_wrapper took 0.010921 seconds\n"
          ]
        },
        {
          "output_type": "stream",
          "name": "stdout",
          "text": [
            "2022-11-24 17:39:22,634 - build_posterior_wrapper took 0.010921 seconds\n"
          ]
        },
        {
          "output_type": "stream",
          "name": "stderr",
          "text": [
            "INFO:hyperopt.tpe:TPE using 9/9 trials with best loss 2.330711\n"
          ]
        },
        {
          "output_type": "stream",
          "name": "stdout",
          "text": [
            "2022-11-24 17:39:22,643 - TPE using 9/9 trials with best loss 2.330711\n",
            "100%|██████████| 10/10 [01:02<00:00,  6.20s/trial, best loss: 2.3307106707576954]\n"
          ]
        },
        {
          "output_type": "stream",
          "name": "stderr",
          "text": [
            "INFO:root:PipelineTuner - Hyperparameters optimization finished\n"
          ]
        },
        {
          "output_type": "stream",
          "name": "stdout",
          "text": [
            "2022-11-24 17:39:28,838 - PipelineTuner - Hyperparameters optimization finished\n"
          ]
        },
        {
          "output_type": "stream",
          "name": "stderr",
          "text": [
            "INFO:root:PipelineTuner - Return tuned pipeline due to the fact that obtained metric 2.331 equal or better than initial (+ 5% deviation) 2.469\n"
          ]
        },
        {
          "output_type": "stream",
          "name": "stdout",
          "text": [
            "2022-11-24 17:39:28,858 - PipelineTuner - Return tuned pipeline due to the fact that obtained metric 2.331 equal or better than initial (+ 5% deviation) 2.469\n"
          ]
        },
        {
          "output_type": "stream",
          "name": "stderr",
          "text": [
            "INFO:root:PipelineTuner - Hyperparameters optimization start\n"
          ]
        },
        {
          "output_type": "stream",
          "name": "stdout",
          "text": [
            "2022-11-24 17:39:30,051 - PipelineTuner - Hyperparameters optimization start\n",
            "  0%|          | 0/10 [00:00<?, ?trial/s, best loss=?]"
          ]
        },
        {
          "output_type": "stream",
          "name": "stderr",
          "text": [
            "INFO:hyperopt.tpe:build_posterior_wrapper took 0.014069 seconds\n"
          ]
        },
        {
          "output_type": "stream",
          "name": "stdout",
          "text": [
            "2022-11-24 17:39:31,497 - build_posterior_wrapper took 0.014069 seconds\n"
          ]
        },
        {
          "output_type": "stream",
          "name": "stderr",
          "text": [
            "INFO:hyperopt.tpe:TPE using 0 trials\n"
          ]
        },
        {
          "output_type": "stream",
          "name": "stdout",
          "text": [
            "2022-11-24 17:39:31,501 - TPE using 0 trials\n",
            " 10%|█         | 1/10 [00:01<00:13,  1.55s/trial, best loss: 0.30054697761875443]"
          ]
        },
        {
          "output_type": "stream",
          "name": "stderr",
          "text": [
            "INFO:hyperopt.tpe:build_posterior_wrapper took 0.009681 seconds\n"
          ]
        },
        {
          "output_type": "stream",
          "name": "stdout",
          "text": [
            "2022-11-24 17:39:33,047 - build_posterior_wrapper took 0.009681 seconds\n"
          ]
        },
        {
          "output_type": "stream",
          "name": "stderr",
          "text": [
            "INFO:hyperopt.tpe:TPE using 1/1 trials with best loss 0.300547\n"
          ]
        },
        {
          "output_type": "stream",
          "name": "stdout",
          "text": [
            "2022-11-24 17:39:33,054 - TPE using 1/1 trials with best loss 0.300547\n",
            " 20%|██        | 2/10 [00:07<00:33,  4.18s/trial, best loss: 0.30054697761875443]"
          ]
        },
        {
          "output_type": "stream",
          "name": "stderr",
          "text": [
            "INFO:hyperopt.tpe:build_posterior_wrapper took 0.010730 seconds\n"
          ]
        },
        {
          "output_type": "stream",
          "name": "stdout",
          "text": [
            "2022-11-24 17:39:39,074 - build_posterior_wrapper took 0.010730 seconds\n"
          ]
        },
        {
          "output_type": "stream",
          "name": "stderr",
          "text": [
            "INFO:hyperopt.tpe:TPE using 2/2 trials with best loss 0.300547\n"
          ]
        },
        {
          "output_type": "stream",
          "name": "stdout",
          "text": [
            "2022-11-24 17:39:39,079 - TPE using 2/2 trials with best loss 0.300547\n",
            " 30%|███       | 3/10 [00:17<00:49,  7.02s/trial, best loss: 0.30054697761875443]"
          ]
        },
        {
          "output_type": "stream",
          "name": "stderr",
          "text": [
            "INFO:hyperopt.tpe:build_posterior_wrapper took 0.009672 seconds\n"
          ]
        },
        {
          "output_type": "stream",
          "name": "stdout",
          "text": [
            "2022-11-24 17:39:49,464 - build_posterior_wrapper took 0.009672 seconds\n"
          ]
        },
        {
          "output_type": "stream",
          "name": "stderr",
          "text": [
            "INFO:hyperopt.tpe:TPE using 3/3 trials with best loss 0.300547\n"
          ]
        },
        {
          "output_type": "stream",
          "name": "stdout",
          "text": [
            "2022-11-24 17:39:49,471 - TPE using 3/3 trials with best loss 0.300547\n",
            " 40%|████      | 4/10 [00:18<00:27,  4.61s/trial, best loss: 0.30054697761875443]"
          ]
        },
        {
          "output_type": "stream",
          "name": "stderr",
          "text": [
            "INFO:hyperopt.tpe:build_posterior_wrapper took 0.018209 seconds\n"
          ]
        },
        {
          "output_type": "stream",
          "name": "stdout",
          "text": [
            "2022-11-24 17:39:50,394 - build_posterior_wrapper took 0.018209 seconds\n"
          ]
        },
        {
          "output_type": "stream",
          "name": "stderr",
          "text": [
            "INFO:hyperopt.tpe:TPE using 4/4 trials with best loss 0.300547\n"
          ]
        },
        {
          "output_type": "stream",
          "name": "stdout",
          "text": [
            "2022-11-24 17:39:50,404 - TPE using 4/4 trials with best loss 0.300547\n",
            " 50%|█████     | 5/10 [00:25<00:25,  5.18s/trial, best loss: 0.30054697761875443]"
          ]
        },
        {
          "output_type": "stream",
          "name": "stderr",
          "text": [
            "INFO:hyperopt.tpe:build_posterior_wrapper took 0.010355 seconds\n"
          ]
        },
        {
          "output_type": "stream",
          "name": "stdout",
          "text": [
            "2022-11-24 17:39:56,573 - build_posterior_wrapper took 0.010355 seconds\n"
          ]
        },
        {
          "output_type": "stream",
          "name": "stderr",
          "text": [
            "INFO:hyperopt.tpe:TPE using 5/5 trials with best loss 0.300547\n"
          ]
        },
        {
          "output_type": "stream",
          "name": "stdout",
          "text": [
            "2022-11-24 17:39:56,582 - TPE using 5/5 trials with best loss 0.300547\n",
            " 60%|██████    | 6/10 [00:43<00:39,  9.77s/trial, best loss: 0.30054697761875443]"
          ]
        },
        {
          "output_type": "stream",
          "name": "stderr",
          "text": [
            "INFO:hyperopt.tpe:build_posterior_wrapper took 0.011636 seconds\n"
          ]
        },
        {
          "output_type": "stream",
          "name": "stdout",
          "text": [
            "2022-11-24 17:40:15,251 - build_posterior_wrapper took 0.011636 seconds\n"
          ]
        },
        {
          "output_type": "stream",
          "name": "stderr",
          "text": [
            "INFO:hyperopt.tpe:TPE using 6/6 trials with best loss 0.300547\n"
          ]
        },
        {
          "output_type": "stream",
          "name": "stdout",
          "text": [
            "2022-11-24 17:40:15,257 - TPE using 6/6 trials with best loss 0.300547\n",
            " 70%|███████   | 7/10 [01:07<00:43, 14.44s/trial, best loss: 0.30054697761875443]"
          ]
        },
        {
          "output_type": "stream",
          "name": "stderr",
          "text": [
            "INFO:hyperopt.tpe:build_posterior_wrapper took 0.013371 seconds\n"
          ]
        },
        {
          "output_type": "stream",
          "name": "stdout",
          "text": [
            "2022-11-24 17:40:39,313 - build_posterior_wrapper took 0.013371 seconds\n"
          ]
        },
        {
          "output_type": "stream",
          "name": "stderr",
          "text": [
            "INFO:hyperopt.tpe:TPE using 7/7 trials with best loss 0.300547\n"
          ]
        },
        {
          "output_type": "stream",
          "name": "stdout",
          "text": [
            "2022-11-24 17:40:39,319 - TPE using 7/7 trials with best loss 0.300547\n",
            " 80%|████████  | 8/10 [01:25<00:30, 15.41s/trial, best loss: 0.30054697761875443]"
          ]
        },
        {
          "output_type": "stream",
          "name": "stderr",
          "text": [
            "INFO:hyperopt.tpe:build_posterior_wrapper took 0.012840 seconds\n"
          ]
        },
        {
          "output_type": "stream",
          "name": "stdout",
          "text": [
            "2022-11-24 17:40:56,785 - build_posterior_wrapper took 0.012840 seconds\n"
          ]
        },
        {
          "output_type": "stream",
          "name": "stderr",
          "text": [
            "INFO:hyperopt.tpe:TPE using 8/8 trials with best loss 0.300547\n"
          ]
        },
        {
          "output_type": "stream",
          "name": "stdout",
          "text": [
            "2022-11-24 17:40:56,790 - TPE using 8/8 trials with best loss 0.300547\n",
            " 90%|█████████ | 9/10 [01:32<00:12, 12.96s/trial, best loss: 0.30054697761875443]"
          ]
        },
        {
          "output_type": "stream",
          "name": "stderr",
          "text": [
            "INFO:hyperopt.tpe:build_posterior_wrapper took 0.010127 seconds\n"
          ]
        },
        {
          "output_type": "stream",
          "name": "stdout",
          "text": [
            "2022-11-24 17:41:04,374 - build_posterior_wrapper took 0.010127 seconds\n"
          ]
        },
        {
          "output_type": "stream",
          "name": "stderr",
          "text": [
            "INFO:hyperopt.tpe:TPE using 9/9 trials with best loss 0.300547\n"
          ]
        },
        {
          "output_type": "stream",
          "name": "stdout",
          "text": [
            "2022-11-24 17:41:04,380 - TPE using 9/9 trials with best loss 0.300547\n",
            "100%|██████████| 10/10 [01:48<00:00, 10.81s/trial, best loss: 0.30054697761875443]\n"
          ]
        },
        {
          "output_type": "stream",
          "name": "stderr",
          "text": [
            "INFO:root:PipelineTuner - Hyperparameters optimization finished\n"
          ]
        },
        {
          "output_type": "stream",
          "name": "stdout",
          "text": [
            "2022-11-24 17:41:21,240 - PipelineTuner - Hyperparameters optimization finished\n"
          ]
        },
        {
          "output_type": "stream",
          "name": "stderr",
          "text": [
            "INFO:root:PipelineTuner - Return tuned pipeline due to the fact that obtained metric 0.301 equal or better than initial (+ 5% deviation) 0.395\n"
          ]
        },
        {
          "output_type": "stream",
          "name": "stdout",
          "text": [
            "2022-11-24 17:41:21,245 - PipelineTuner - Return tuned pipeline due to the fact that obtained metric 0.301 equal or better than initial (+ 5% deviation) 0.395\n"
          ]
        },
        {
          "output_type": "stream",
          "name": "stderr",
          "text": [
            "INFO:root:PipelineTuner - Hyperparameters optimization start\n"
          ]
        },
        {
          "output_type": "stream",
          "name": "stdout",
          "text": [
            "Fitting pipeline №4\n",
            "2022-11-24 17:41:22,521 - PipelineTuner - Hyperparameters optimization start\n",
            "  0%|          | 0/10 [00:00<?, ?trial/s, best loss=?]"
          ]
        },
        {
          "output_type": "stream",
          "name": "stderr",
          "text": [
            "INFO:hyperopt.tpe:build_posterior_wrapper took 0.004709 seconds\n"
          ]
        },
        {
          "output_type": "stream",
          "name": "stdout",
          "text": [
            "2022-11-24 17:41:22,746 - build_posterior_wrapper took 0.004709 seconds\n"
          ]
        },
        {
          "output_type": "stream",
          "name": "stderr",
          "text": [
            "INFO:hyperopt.tpe:TPE using 0 trials\n"
          ]
        },
        {
          "output_type": "stream",
          "name": "stdout",
          "text": [
            "2022-11-24 17:41:22,752 - TPE using 0 trials\n",
            " 10%|█         | 1/10 [00:00<00:03,  2.79trial/s, best loss: 2.3454841117280036]"
          ]
        },
        {
          "output_type": "stream",
          "name": "stderr",
          "text": [
            "INFO:hyperopt.tpe:build_posterior_wrapper took 0.005810 seconds\n"
          ]
        },
        {
          "output_type": "stream",
          "name": "stdout",
          "text": [
            "2022-11-24 17:41:23,111 - build_posterior_wrapper took 0.005810 seconds\n"
          ]
        },
        {
          "output_type": "stream",
          "name": "stderr",
          "text": [
            "INFO:hyperopt.tpe:TPE using 1/1 trials with best loss 2.345484\n"
          ]
        },
        {
          "output_type": "stream",
          "name": "stdout",
          "text": [
            "2022-11-24 17:41:23,121 - TPE using 1/1 trials with best loss 2.345484\n",
            " 20%|██        | 2/10 [00:00<00:04,  1.91trial/s, best loss: 2.3454841117280036]"
          ]
        },
        {
          "output_type": "stream",
          "name": "stderr",
          "text": [
            "INFO:hyperopt.tpe:build_posterior_wrapper took 0.005352 seconds\n"
          ]
        },
        {
          "output_type": "stream",
          "name": "stdout",
          "text": [
            "2022-11-24 17:41:23,747 - build_posterior_wrapper took 0.005352 seconds\n"
          ]
        },
        {
          "output_type": "stream",
          "name": "stderr",
          "text": [
            "INFO:hyperopt.tpe:TPE using 2/2 trials with best loss 2.345484\n"
          ]
        },
        {
          "output_type": "stream",
          "name": "stdout",
          "text": [
            "2022-11-24 17:41:23,758 - TPE using 2/2 trials with best loss 2.345484\n",
            " 30%|███       | 3/10 [00:02<00:05,  1.32trial/s, best loss: 2.3454841117280036]"
          ]
        },
        {
          "output_type": "stream",
          "name": "stderr",
          "text": [
            "INFO:hyperopt.tpe:build_posterior_wrapper took 0.004707 seconds\n"
          ]
        },
        {
          "output_type": "stream",
          "name": "stdout",
          "text": [
            "2022-11-24 17:41:24,780 - build_posterior_wrapper took 0.004707 seconds\n"
          ]
        },
        {
          "output_type": "stream",
          "name": "stderr",
          "text": [
            "INFO:hyperopt.tpe:TPE using 3/3 trials with best loss 2.345484\n"
          ]
        },
        {
          "output_type": "stream",
          "name": "stdout",
          "text": [
            "2022-11-24 17:41:24,787 - TPE using 3/3 trials with best loss 2.345484\n",
            " 40%|████      | 4/10 [00:02<00:03,  1.72trial/s, best loss: 1.8900610008924765]"
          ]
        },
        {
          "output_type": "stream",
          "name": "stderr",
          "text": [
            "INFO:hyperopt.tpe:build_posterior_wrapper took 0.004924 seconds\n"
          ]
        },
        {
          "output_type": "stream",
          "name": "stdout",
          "text": [
            "2022-11-24 17:41:25,098 - build_posterior_wrapper took 0.004924 seconds\n"
          ]
        },
        {
          "output_type": "stream",
          "name": "stderr",
          "text": [
            "INFO:hyperopt.tpe:TPE using 4/4 trials with best loss 1.890061\n"
          ]
        },
        {
          "output_type": "stream",
          "name": "stdout",
          "text": [
            "2022-11-24 17:41:25,104 - TPE using 4/4 trials with best loss 1.890061\n",
            " 50%|█████     | 5/10 [00:03<00:03,  1.38trial/s, best loss: 1.8900610008924765]"
          ]
        },
        {
          "output_type": "stream",
          "name": "stderr",
          "text": [
            "INFO:hyperopt.tpe:build_posterior_wrapper took 0.005411 seconds\n"
          ]
        },
        {
          "output_type": "stream",
          "name": "stdout",
          "text": [
            "2022-11-24 17:41:26,073 - build_posterior_wrapper took 0.005411 seconds\n"
          ]
        },
        {
          "output_type": "stream",
          "name": "stderr",
          "text": [
            "INFO:hyperopt.tpe:TPE using 5/5 trials with best loss 1.890061\n"
          ]
        },
        {
          "output_type": "stream",
          "name": "stdout",
          "text": [
            "2022-11-24 17:41:26,090 - TPE using 5/5 trials with best loss 1.890061\n",
            " 60%|██████    | 6/10 [00:03<00:02,  1.49trial/s, best loss: 1.8900610008924765]"
          ]
        },
        {
          "output_type": "stream",
          "name": "stderr",
          "text": [
            "INFO:hyperopt.tpe:build_posterior_wrapper took 0.004874 seconds\n"
          ]
        },
        {
          "output_type": "stream",
          "name": "stdout",
          "text": [
            "2022-11-24 17:41:26,647 - build_posterior_wrapper took 0.004874 seconds\n"
          ]
        },
        {
          "output_type": "stream",
          "name": "stderr",
          "text": [
            "INFO:hyperopt.tpe:TPE using 6/6 trials with best loss 1.890061\n"
          ]
        },
        {
          "output_type": "stream",
          "name": "stdout",
          "text": [
            "2022-11-24 17:41:26,661 - TPE using 6/6 trials with best loss 1.890061\n",
            " 70%|███████   | 7/10 [00:06<00:03,  1.33s/trial, best loss: 1.8900610008924765]"
          ]
        },
        {
          "output_type": "stream",
          "name": "stderr",
          "text": [
            "INFO:hyperopt.tpe:build_posterior_wrapper took 0.005108 seconds\n"
          ]
        },
        {
          "output_type": "stream",
          "name": "stdout",
          "text": [
            "2022-11-24 17:41:29,325 - build_posterior_wrapper took 0.005108 seconds\n"
          ]
        },
        {
          "output_type": "stream",
          "name": "stderr",
          "text": [
            "INFO:hyperopt.tpe:TPE using 7/7 trials with best loss 1.890061\n"
          ]
        },
        {
          "output_type": "stream",
          "name": "stdout",
          "text": [
            "2022-11-24 17:41:29,338 - TPE using 7/7 trials with best loss 1.890061\n",
            " 80%|████████  | 8/10 [00:08<00:03,  1.67s/trial, best loss: 1.8900610008924765]"
          ]
        },
        {
          "output_type": "stream",
          "name": "stderr",
          "text": [
            "INFO:hyperopt.tpe:build_posterior_wrapper took 0.004901 seconds\n"
          ]
        },
        {
          "output_type": "stream",
          "name": "stdout",
          "text": [
            "2022-11-24 17:41:31,737 - build_posterior_wrapper took 0.004901 seconds\n"
          ]
        },
        {
          "output_type": "stream",
          "name": "stderr",
          "text": [
            "INFO:hyperopt.tpe:TPE using 8/8 trials with best loss 1.890061\n"
          ]
        },
        {
          "output_type": "stream",
          "name": "stdout",
          "text": [
            "2022-11-24 17:41:31,742 - TPE using 8/8 trials with best loss 1.890061\n",
            " 90%|█████████ | 9/10 [00:09<00:01,  1.33s/trial, best loss: 1.8900610008924765]"
          ]
        },
        {
          "output_type": "stream",
          "name": "stderr",
          "text": [
            "INFO:hyperopt.tpe:build_posterior_wrapper took 0.004953 seconds\n"
          ]
        },
        {
          "output_type": "stream",
          "name": "stdout",
          "text": [
            "2022-11-24 17:41:32,319 - build_posterior_wrapper took 0.004953 seconds\n"
          ]
        },
        {
          "output_type": "stream",
          "name": "stderr",
          "text": [
            "INFO:hyperopt.tpe:TPE using 9/9 trials with best loss 1.890061\n"
          ]
        },
        {
          "output_type": "stream",
          "name": "stdout",
          "text": [
            "2022-11-24 17:41:32,332 - TPE using 9/9 trials with best loss 1.890061\n",
            "100%|██████████| 10/10 [00:09<00:00,  1.01trial/s, best loss: 1.8900610008924765]\n"
          ]
        },
        {
          "output_type": "stream",
          "name": "stderr",
          "text": [
            "INFO:root:PipelineTuner - Hyperparameters optimization finished\n"
          ]
        },
        {
          "output_type": "stream",
          "name": "stdout",
          "text": [
            "2022-11-24 17:41:32,939 - PipelineTuner - Hyperparameters optimization finished\n"
          ]
        },
        {
          "output_type": "stream",
          "name": "stderr",
          "text": [
            "INFO:root:PipelineTuner - Return tuned pipeline due to the fact that obtained metric 1.890 equal or better than initial (+ 5% deviation) 2.266\n"
          ]
        },
        {
          "output_type": "stream",
          "name": "stdout",
          "text": [
            "2022-11-24 17:41:32,952 - PipelineTuner - Return tuned pipeline due to the fact that obtained metric 1.890 equal or better than initial (+ 5% deviation) 2.266\n"
          ]
        },
        {
          "output_type": "stream",
          "name": "stderr",
          "text": [
            "INFO:root:PipelineTuner - Hyperparameters optimization start\n"
          ]
        },
        {
          "output_type": "stream",
          "name": "stdout",
          "text": [
            "2022-11-24 17:41:33,229 - PipelineTuner - Hyperparameters optimization start\n",
            "  0%|          | 0/10 [00:00<?, ?trial/s, best loss=?]"
          ]
        },
        {
          "output_type": "stream",
          "name": "stderr",
          "text": [
            "INFO:hyperopt.tpe:build_posterior_wrapper took 0.005562 seconds\n"
          ]
        },
        {
          "output_type": "stream",
          "name": "stdout",
          "text": [
            "2022-11-24 17:41:33,542 - build_posterior_wrapper took 0.005562 seconds\n"
          ]
        },
        {
          "output_type": "stream",
          "name": "stderr",
          "text": [
            "INFO:hyperopt.tpe:TPE using 0 trials\n"
          ]
        },
        {
          "output_type": "stream",
          "name": "stdout",
          "text": [
            "2022-11-24 17:41:33,548 - TPE using 0 trials\n",
            " 10%|█         | 1/10 [00:02<00:24,  2.71s/trial, best loss: 0.9789281078233795]"
          ]
        },
        {
          "output_type": "stream",
          "name": "stderr",
          "text": [
            "INFO:hyperopt.tpe:build_posterior_wrapper took 0.010198 seconds\n"
          ]
        },
        {
          "output_type": "stream",
          "name": "stdout",
          "text": [
            "2022-11-24 17:41:36,256 - build_posterior_wrapper took 0.010198 seconds\n"
          ]
        },
        {
          "output_type": "stream",
          "name": "stderr",
          "text": [
            "INFO:hyperopt.tpe:TPE using 1/1 trials with best loss 0.978928\n"
          ]
        },
        {
          "output_type": "stream",
          "name": "stdout",
          "text": [
            "2022-11-24 17:41:36,262 - TPE using 1/1 trials with best loss 0.978928\n",
            " 20%|██        | 2/10 [00:03<00:12,  1.54s/trial, best loss: 0.5959314473064159]"
          ]
        },
        {
          "output_type": "stream",
          "name": "stderr",
          "text": [
            "INFO:hyperopt.tpe:build_posterior_wrapper took 0.005369 seconds\n"
          ]
        },
        {
          "output_type": "stream",
          "name": "stdout",
          "text": [
            "2022-11-24 17:41:36,969 - build_posterior_wrapper took 0.005369 seconds\n"
          ]
        },
        {
          "output_type": "stream",
          "name": "stderr",
          "text": [
            "INFO:hyperopt.tpe:TPE using 2/2 trials with best loss 0.595931\n"
          ]
        },
        {
          "output_type": "stream",
          "name": "stdout",
          "text": [
            "2022-11-24 17:41:36,976 - TPE using 2/2 trials with best loss 0.595931\n",
            " 30%|███       | 3/10 [00:04<00:09,  1.33s/trial, best loss: 0.5959314473064159]"
          ]
        },
        {
          "output_type": "stream",
          "name": "stderr",
          "text": [
            "INFO:hyperopt.tpe:build_posterior_wrapper took 0.006207 seconds\n"
          ]
        },
        {
          "output_type": "stream",
          "name": "stdout",
          "text": [
            "2022-11-24 17:41:38,049 - build_posterior_wrapper took 0.006207 seconds\n"
          ]
        },
        {
          "output_type": "stream",
          "name": "stderr",
          "text": [
            "INFO:hyperopt.tpe:TPE using 3/3 trials with best loss 0.595931\n"
          ]
        },
        {
          "output_type": "stream",
          "name": "stdout",
          "text": [
            "2022-11-24 17:41:38,055 - TPE using 3/3 trials with best loss 0.595931\n",
            " 40%|████      | 4/10 [00:05<00:06,  1.14s/trial, best loss: 0.5959314473064159]"
          ]
        },
        {
          "output_type": "stream",
          "name": "stderr",
          "text": [
            "INFO:hyperopt.tpe:build_posterior_wrapper took 0.005671 seconds\n"
          ]
        },
        {
          "output_type": "stream",
          "name": "stdout",
          "text": [
            "2022-11-24 17:41:38,889 - build_posterior_wrapper took 0.005671 seconds\n"
          ]
        },
        {
          "output_type": "stream",
          "name": "stderr",
          "text": [
            "INFO:hyperopt.tpe:TPE using 4/4 trials with best loss 0.595931\n"
          ]
        },
        {
          "output_type": "stream",
          "name": "stdout",
          "text": [
            "2022-11-24 17:41:38,895 - TPE using 4/4 trials with best loss 0.595931\n",
            " 50%|█████     | 5/10 [00:05<00:04,  1.09trial/s, best loss: 0.4521616010512103]"
          ]
        },
        {
          "output_type": "stream",
          "name": "stderr",
          "text": [
            "INFO:hyperopt.tpe:build_posterior_wrapper took 0.006394 seconds\n"
          ]
        },
        {
          "output_type": "stream",
          "name": "stdout",
          "text": [
            "2022-11-24 17:41:39,436 - build_posterior_wrapper took 0.006394 seconds\n"
          ]
        },
        {
          "output_type": "stream",
          "name": "stderr",
          "text": [
            "INFO:hyperopt.tpe:TPE using 5/5 trials with best loss 0.452162\n"
          ]
        },
        {
          "output_type": "stream",
          "name": "stdout",
          "text": [
            "2022-11-24 17:41:39,446 - TPE using 5/5 trials with best loss 0.452162\n",
            " 60%|██████    | 6/10 [00:06<00:03,  1.23trial/s, best loss: 0.4521616010512103]"
          ]
        },
        {
          "output_type": "stream",
          "name": "stderr",
          "text": [
            "INFO:hyperopt.tpe:build_posterior_wrapper took 0.006736 seconds\n"
          ]
        },
        {
          "output_type": "stream",
          "name": "stdout",
          "text": [
            "2022-11-24 17:41:40,043 - build_posterior_wrapper took 0.006736 seconds\n"
          ]
        },
        {
          "output_type": "stream",
          "name": "stderr",
          "text": [
            "INFO:hyperopt.tpe:TPE using 6/6 trials with best loss 0.452162\n"
          ]
        },
        {
          "output_type": "stream",
          "name": "stdout",
          "text": [
            "2022-11-24 17:41:40,058 - TPE using 6/6 trials with best loss 0.452162\n",
            " 70%|███████   | 7/10 [00:07<00:02,  1.01trial/s, best loss: 0.4521616010512103]"
          ]
        },
        {
          "output_type": "stream",
          "name": "stderr",
          "text": [
            "INFO:hyperopt.tpe:build_posterior_wrapper took 0.005341 seconds\n"
          ]
        },
        {
          "output_type": "stream",
          "name": "stdout",
          "text": [
            "2022-11-24 17:41:41,378 - build_posterior_wrapper took 0.005341 seconds\n"
          ]
        },
        {
          "output_type": "stream",
          "name": "stderr",
          "text": [
            "INFO:hyperopt.tpe:TPE using 7/7 trials with best loss 0.452162\n"
          ]
        },
        {
          "output_type": "stream",
          "name": "stdout",
          "text": [
            "2022-11-24 17:41:41,390 - TPE using 7/7 trials with best loss 0.452162\n",
            " 80%|████████  | 8/10 [00:08<00:01,  1.06trial/s, best loss: 0.4521616010512103]"
          ]
        },
        {
          "output_type": "stream",
          "name": "stderr",
          "text": [
            "INFO:hyperopt.tpe:build_posterior_wrapper took 0.005667 seconds\n"
          ]
        },
        {
          "output_type": "stream",
          "name": "stdout",
          "text": [
            "2022-11-24 17:41:42,219 - build_posterior_wrapper took 0.005667 seconds\n"
          ]
        },
        {
          "output_type": "stream",
          "name": "stderr",
          "text": [
            "INFO:hyperopt.tpe:TPE using 8/8 trials with best loss 0.452162\n"
          ]
        },
        {
          "output_type": "stream",
          "name": "stdout",
          "text": [
            "2022-11-24 17:41:42,231 - TPE using 8/8 trials with best loss 0.452162\n",
            " 90%|█████████ | 9/10 [00:09<00:01,  1.00s/trial, best loss: 0.4521616010512103]"
          ]
        },
        {
          "output_type": "stream",
          "name": "stderr",
          "text": [
            "INFO:hyperopt.tpe:build_posterior_wrapper took 0.006706 seconds\n"
          ]
        },
        {
          "output_type": "stream",
          "name": "stdout",
          "text": [
            "2022-11-24 17:41:43,364 - build_posterior_wrapper took 0.006706 seconds\n"
          ]
        },
        {
          "output_type": "stream",
          "name": "stderr",
          "text": [
            "INFO:hyperopt.tpe:TPE using 9/9 trials with best loss 0.452162\n"
          ]
        },
        {
          "output_type": "stream",
          "name": "stdout",
          "text": [
            "2022-11-24 17:41:43,371 - TPE using 9/9 trials with best loss 0.452162\n",
            "100%|██████████| 10/10 [00:11<00:00,  1.15s/trial, best loss: 0.4521616010512103]\n"
          ]
        },
        {
          "output_type": "stream",
          "name": "stderr",
          "text": [
            "INFO:root:PipelineTuner - Hyperparameters optimization finished\n"
          ]
        },
        {
          "output_type": "stream",
          "name": "stdout",
          "text": [
            "2022-11-24 17:41:45,558 - PipelineTuner - Hyperparameters optimization finished\n"
          ]
        },
        {
          "output_type": "stream",
          "name": "stderr",
          "text": [
            "INFO:root:PipelineTuner - Return init pipeline due to the fact that obtained metric 0.452 worse than initial (+ 5% deviation) 0.422\n"
          ]
        },
        {
          "output_type": "stream",
          "name": "stdout",
          "text": [
            "2022-11-24 17:41:45,568 - PipelineTuner - Return init pipeline due to the fact that obtained metric 0.452 worse than initial (+ 5% deviation) 0.422\n"
          ]
        },
        {
          "output_type": "stream",
          "name": "stderr",
          "text": [
            "INFO:root:PipelineTuner - Hyperparameters optimization start\n"
          ]
        },
        {
          "output_type": "stream",
          "name": "stdout",
          "text": [
            "Fitting pipeline №5\n",
            "2022-11-24 17:41:45,840 - PipelineTuner - Hyperparameters optimization start\n",
            "  0%|          | 0/10 [00:00<?, ?trial/s, best loss=?]"
          ]
        },
        {
          "output_type": "stream",
          "name": "stderr",
          "text": [
            "INFO:hyperopt.tpe:build_posterior_wrapper took 0.004659 seconds\n"
          ]
        },
        {
          "output_type": "stream",
          "name": "stdout",
          "text": [
            "2022-11-24 17:41:46,083 - build_posterior_wrapper took 0.004659 seconds\n"
          ]
        },
        {
          "output_type": "stream",
          "name": "stderr",
          "text": [
            "INFO:hyperopt.tpe:TPE using 0 trials\n"
          ]
        },
        {
          "output_type": "stream",
          "name": "stdout",
          "text": [
            "2022-11-24 17:41:46,095 - TPE using 0 trials\n",
            " 10%|█         | 1/10 [00:02<00:21,  2.38s/trial, best loss: 4.797058488066779]"
          ]
        },
        {
          "output_type": "stream",
          "name": "stderr",
          "text": [
            "INFO:hyperopt.tpe:build_posterior_wrapper took 0.005324 seconds\n"
          ]
        },
        {
          "output_type": "stream",
          "name": "stdout",
          "text": [
            "2022-11-24 17:41:48,468 - build_posterior_wrapper took 0.005324 seconds\n"
          ]
        },
        {
          "output_type": "stream",
          "name": "stderr",
          "text": [
            "INFO:hyperopt.tpe:TPE using 1/1 trials with best loss 4.797058\n"
          ]
        },
        {
          "output_type": "stream",
          "name": "stdout",
          "text": [
            "2022-11-24 17:41:48,472 - TPE using 1/1 trials with best loss 4.797058\n",
            " 20%|██        | 2/10 [00:03<00:14,  1.75s/trial, best loss: 2.5816457341724304]"
          ]
        },
        {
          "output_type": "stream",
          "name": "stderr",
          "text": [
            "INFO:hyperopt.tpe:build_posterior_wrapper took 0.004940 seconds\n"
          ]
        },
        {
          "output_type": "stream",
          "name": "stdout",
          "text": [
            "2022-11-24 17:41:49,781 - build_posterior_wrapper took 0.004940 seconds\n"
          ]
        },
        {
          "output_type": "stream",
          "name": "stderr",
          "text": [
            "INFO:hyperopt.tpe:TPE using 2/2 trials with best loss 2.581646\n"
          ]
        },
        {
          "output_type": "stream",
          "name": "stdout",
          "text": [
            "2022-11-24 17:41:49,792 - TPE using 2/2 trials with best loss 2.581646\n",
            " 30%|███       | 3/10 [00:04<00:08,  1.15s/trial, best loss: 2.4969168579288374]"
          ]
        },
        {
          "output_type": "stream",
          "name": "stderr",
          "text": [
            "INFO:hyperopt.tpe:build_posterior_wrapper took 0.005144 seconds\n"
          ]
        },
        {
          "output_type": "stream",
          "name": "stdout",
          "text": [
            "2022-11-24 17:41:50,224 - build_posterior_wrapper took 0.005144 seconds\n"
          ]
        },
        {
          "output_type": "stream",
          "name": "stderr",
          "text": [
            "INFO:hyperopt.tpe:TPE using 3/3 trials with best loss 2.496917\n"
          ]
        },
        {
          "output_type": "stream",
          "name": "stdout",
          "text": [
            "2022-11-24 17:41:50,235 - TPE using 3/3 trials with best loss 2.496917\n",
            " 40%|████      | 4/10 [00:06<00:09,  1.53s/trial, best loss: 2.4969168579288374]"
          ]
        },
        {
          "output_type": "stream",
          "name": "stderr",
          "text": [
            "INFO:hyperopt.tpe:build_posterior_wrapper took 0.004788 seconds\n"
          ]
        },
        {
          "output_type": "stream",
          "name": "stdout",
          "text": [
            "2022-11-24 17:41:52,327 - build_posterior_wrapper took 0.004788 seconds\n"
          ]
        },
        {
          "output_type": "stream",
          "name": "stderr",
          "text": [
            "INFO:hyperopt.tpe:TPE using 4/4 trials with best loss 2.496917\n"
          ]
        },
        {
          "output_type": "stream",
          "name": "stdout",
          "text": [
            "2022-11-24 17:41:52,337 - TPE using 4/4 trials with best loss 2.496917\n",
            " 50%|█████     | 5/10 [00:07<00:06,  1.33s/trial, best loss: 2.4969168579288374]"
          ]
        },
        {
          "output_type": "stream",
          "name": "stderr",
          "text": [
            "INFO:hyperopt.tpe:build_posterior_wrapper took 0.005572 seconds\n"
          ]
        },
        {
          "output_type": "stream",
          "name": "stdout",
          "text": [
            "2022-11-24 17:41:53,296 - build_posterior_wrapper took 0.005572 seconds\n"
          ]
        },
        {
          "output_type": "stream",
          "name": "stderr",
          "text": [
            "INFO:hyperopt.tpe:TPE using 5/5 trials with best loss 2.496917\n"
          ]
        },
        {
          "output_type": "stream",
          "name": "stdout",
          "text": [
            "2022-11-24 17:41:53,300 - TPE using 5/5 trials with best loss 2.496917\n",
            " 60%|██████    | 6/10 [00:09<00:06,  1.55s/trial, best loss: 2.4969168579288374]"
          ]
        },
        {
          "output_type": "stream",
          "name": "stderr",
          "text": [
            "INFO:hyperopt.tpe:build_posterior_wrapper took 0.004936 seconds\n"
          ]
        },
        {
          "output_type": "stream",
          "name": "stdout",
          "text": [
            "2022-11-24 17:41:55,270 - build_posterior_wrapper took 0.004936 seconds\n"
          ]
        },
        {
          "output_type": "stream",
          "name": "stderr",
          "text": [
            "INFO:hyperopt.tpe:TPE using 6/6 trials with best loss 2.496917\n"
          ]
        },
        {
          "output_type": "stream",
          "name": "stdout",
          "text": [
            "2022-11-24 17:41:55,287 - TPE using 6/6 trials with best loss 2.496917\n",
            " 70%|███████   | 7/10 [00:10<00:04,  1.37s/trial, best loss: 2.4785396946610465]"
          ]
        },
        {
          "output_type": "stream",
          "name": "stderr",
          "text": [
            "INFO:hyperopt.tpe:build_posterior_wrapper took 0.004114 seconds\n"
          ]
        },
        {
          "output_type": "stream",
          "name": "stdout",
          "text": [
            "2022-11-24 17:41:56,276 - build_posterior_wrapper took 0.004114 seconds\n"
          ]
        },
        {
          "output_type": "stream",
          "name": "stderr",
          "text": [
            "INFO:hyperopt.tpe:TPE using 7/7 trials with best loss 2.478540\n"
          ]
        },
        {
          "output_type": "stream",
          "name": "stdout",
          "text": [
            "2022-11-24 17:41:56,288 - TPE using 7/7 trials with best loss 2.478540\n",
            " 80%|████████  | 8/10 [00:11<00:02,  1.31s/trial, best loss: 2.3948331961030083]"
          ]
        },
        {
          "output_type": "stream",
          "name": "stderr",
          "text": [
            "INFO:hyperopt.tpe:build_posterior_wrapper took 0.007928 seconds\n"
          ]
        },
        {
          "output_type": "stream",
          "name": "stdout",
          "text": [
            "2022-11-24 17:41:57,464 - build_posterior_wrapper took 0.007928 seconds\n"
          ]
        },
        {
          "output_type": "stream",
          "name": "stderr",
          "text": [
            "INFO:hyperopt.tpe:TPE using 8/8 trials with best loss 2.394833\n"
          ]
        },
        {
          "output_type": "stream",
          "name": "stdout",
          "text": [
            "2022-11-24 17:41:57,480 - TPE using 8/8 trials with best loss 2.394833\n",
            " 90%|█████████ | 9/10 [00:11<00:01,  1.09s/trial, best loss: 2.3948331961030083]"
          ]
        },
        {
          "output_type": "stream",
          "name": "stderr",
          "text": [
            "INFO:hyperopt.tpe:build_posterior_wrapper took 0.005003 seconds\n"
          ]
        },
        {
          "output_type": "stream",
          "name": "stdout",
          "text": [
            "2022-11-24 17:41:58,068 - build_posterior_wrapper took 0.005003 seconds\n"
          ]
        },
        {
          "output_type": "stream",
          "name": "stderr",
          "text": [
            "INFO:hyperopt.tpe:TPE using 9/9 trials with best loss 2.394833\n"
          ]
        },
        {
          "output_type": "stream",
          "name": "stdout",
          "text": [
            "2022-11-24 17:41:58,076 - TPE using 9/9 trials with best loss 2.394833\n",
            "100%|██████████| 10/10 [00:12<00:00,  1.24s/trial, best loss: 2.2652507680447282]\n"
          ]
        },
        {
          "output_type": "stream",
          "name": "stderr",
          "text": [
            "INFO:root:PipelineTuner - Hyperparameters optimization finished\n"
          ]
        },
        {
          "output_type": "stream",
          "name": "stdout",
          "text": [
            "2022-11-24 17:41:58,968 - PipelineTuner - Hyperparameters optimization finished\n"
          ]
        },
        {
          "output_type": "stream",
          "name": "stderr",
          "text": [
            "INFO:root:PipelineTuner - Return tuned pipeline due to the fact that obtained metric 2.265 equal or better than initial (+ 5% deviation) 2.266\n"
          ]
        },
        {
          "output_type": "stream",
          "name": "stdout",
          "text": [
            "2022-11-24 17:41:58,979 - PipelineTuner - Return tuned pipeline due to the fact that obtained metric 2.265 equal or better than initial (+ 5% deviation) 2.266\n"
          ]
        },
        {
          "output_type": "stream",
          "name": "stderr",
          "text": [
            "INFO:root:PipelineTuner - Hyperparameters optimization start\n"
          ]
        },
        {
          "output_type": "stream",
          "name": "stdout",
          "text": [
            "2022-11-24 17:41:59,401 - PipelineTuner - Hyperparameters optimization start\n",
            "  0%|          | 0/10 [00:00<?, ?trial/s, best loss=?]"
          ]
        },
        {
          "output_type": "stream",
          "name": "stderr",
          "text": [
            "INFO:hyperopt.tpe:build_posterior_wrapper took 0.005965 seconds\n"
          ]
        },
        {
          "output_type": "stream",
          "name": "stdout",
          "text": [
            "2022-11-24 17:41:59,851 - build_posterior_wrapper took 0.005965 seconds\n"
          ]
        },
        {
          "output_type": "stream",
          "name": "stderr",
          "text": [
            "INFO:hyperopt.tpe:TPE using 0 trials\n"
          ]
        },
        {
          "output_type": "stream",
          "name": "stdout",
          "text": [
            "2022-11-24 17:41:59,867 - TPE using 0 trials\n",
            " 10%|█         | 1/10 [00:00<00:05,  1.67trial/s, best loss: 0.5362196612224878]"
          ]
        },
        {
          "output_type": "stream",
          "name": "stderr",
          "text": [
            "INFO:hyperopt.tpe:build_posterior_wrapper took 0.005073 seconds\n"
          ]
        },
        {
          "output_type": "stream",
          "name": "stdout",
          "text": [
            "2022-11-24 17:42:00,460 - build_posterior_wrapper took 0.005073 seconds\n"
          ]
        },
        {
          "output_type": "stream",
          "name": "stderr",
          "text": [
            "INFO:hyperopt.tpe:TPE using 1/1 trials with best loss 0.536220\n"
          ]
        },
        {
          "output_type": "stream",
          "name": "stdout",
          "text": [
            "2022-11-24 17:42:00,471 - TPE using 1/1 trials with best loss 0.536220\n",
            " 20%|██        | 2/10 [00:00<00:03,  2.10trial/s, best loss: 0.4455017988273601]"
          ]
        },
        {
          "output_type": "stream",
          "name": "stderr",
          "text": [
            "INFO:hyperopt.tpe:build_posterior_wrapper took 0.007862 seconds\n"
          ]
        },
        {
          "output_type": "stream",
          "name": "stdout",
          "text": [
            "2022-11-24 17:42:00,844 - build_posterior_wrapper took 0.007862 seconds\n"
          ]
        },
        {
          "output_type": "stream",
          "name": "stderr",
          "text": [
            "INFO:hyperopt.tpe:TPE using 2/2 trials with best loss 0.445502\n"
          ]
        },
        {
          "output_type": "stream",
          "name": "stdout",
          "text": [
            "2022-11-24 17:42:00,856 - TPE using 2/2 trials with best loss 0.445502\n",
            " 30%|███       | 3/10 [00:01<00:02,  2.71trial/s, best loss: 0.4455017988273601]"
          ]
        },
        {
          "output_type": "stream",
          "name": "stderr",
          "text": [
            "INFO:hyperopt.tpe:build_posterior_wrapper took 0.005107 seconds\n"
          ]
        },
        {
          "output_type": "stream",
          "name": "stdout",
          "text": [
            "2022-11-24 17:42:01,092 - build_posterior_wrapper took 0.005107 seconds\n"
          ]
        },
        {
          "output_type": "stream",
          "name": "stderr",
          "text": [
            "INFO:hyperopt.tpe:TPE using 3/3 trials with best loss 0.445502\n"
          ]
        },
        {
          "output_type": "stream",
          "name": "stdout",
          "text": [
            "2022-11-24 17:42:01,099 - TPE using 3/3 trials with best loss 0.445502\n",
            " 40%|████      | 4/10 [00:02<00:03,  1.67trial/s, best loss: 0.4455017988273601]"
          ]
        },
        {
          "output_type": "stream",
          "name": "stderr",
          "text": [
            "INFO:hyperopt.tpe:build_posterior_wrapper took 0.010299 seconds\n"
          ]
        },
        {
          "output_type": "stream",
          "name": "stdout",
          "text": [
            "2022-11-24 17:42:02,050 - build_posterior_wrapper took 0.010299 seconds\n"
          ]
        },
        {
          "output_type": "stream",
          "name": "stderr",
          "text": [
            "INFO:hyperopt.tpe:TPE using 4/4 trials with best loss 0.445502\n"
          ]
        },
        {
          "output_type": "stream",
          "name": "stdout",
          "text": [
            "2022-11-24 17:42:02,065 - TPE using 4/4 trials with best loss 0.445502\n",
            " 50%|█████     | 5/10 [00:02<00:03,  1.53trial/s, best loss: 0.4455017988273601]"
          ]
        },
        {
          "output_type": "stream",
          "name": "stderr",
          "text": [
            "INFO:hyperopt.tpe:build_posterior_wrapper took 0.004956 seconds\n"
          ]
        },
        {
          "output_type": "stream",
          "name": "stdout",
          "text": [
            "2022-11-24 17:42:02,782 - build_posterior_wrapper took 0.004956 seconds\n"
          ]
        },
        {
          "output_type": "stream",
          "name": "stderr",
          "text": [
            "INFO:hyperopt.tpe:TPE using 5/5 trials with best loss 0.445502\n"
          ]
        },
        {
          "output_type": "stream",
          "name": "stdout",
          "text": [
            "2022-11-24 17:42:02,789 - TPE using 5/5 trials with best loss 0.445502\n",
            " 60%|██████    | 6/10 [00:03<00:02,  1.58trial/s, best loss: 0.4455017988273601]"
          ]
        },
        {
          "output_type": "stream",
          "name": "stderr",
          "text": [
            "INFO:hyperopt.tpe:build_posterior_wrapper took 0.005198 seconds\n"
          ]
        },
        {
          "output_type": "stream",
          "name": "stdout",
          "text": [
            "2022-11-24 17:42:03,375 - build_posterior_wrapper took 0.005198 seconds\n"
          ]
        },
        {
          "output_type": "stream",
          "name": "stderr",
          "text": [
            "INFO:hyperopt.tpe:TPE using 6/6 trials with best loss 0.445502\n"
          ]
        },
        {
          "output_type": "stream",
          "name": "stdout",
          "text": [
            "2022-11-24 17:42:03,385 - TPE using 6/6 trials with best loss 0.445502\n",
            " 70%|███████   | 7/10 [00:05<00:02,  1.02trial/s, best loss: 0.4455017988273601]"
          ]
        },
        {
          "output_type": "stream",
          "name": "stderr",
          "text": [
            "INFO:hyperopt.tpe:build_posterior_wrapper took 0.005681 seconds\n"
          ]
        },
        {
          "output_type": "stream",
          "name": "stdout",
          "text": [
            "2022-11-24 17:42:05,081 - build_posterior_wrapper took 0.005681 seconds\n"
          ]
        },
        {
          "output_type": "stream",
          "name": "stderr",
          "text": [
            "INFO:hyperopt.tpe:TPE using 7/7 trials with best loss 0.445502\n"
          ]
        },
        {
          "output_type": "stream",
          "name": "stdout",
          "text": [
            "2022-11-24 17:42:05,092 - TPE using 7/7 trials with best loss 0.445502\n",
            " 80%|████████  | 8/10 [00:05<00:01,  1.31trial/s, best loss: 0.32660303055607864]"
          ]
        },
        {
          "output_type": "stream",
          "name": "stderr",
          "text": [
            "INFO:hyperopt.tpe:build_posterior_wrapper took 0.004891 seconds\n"
          ]
        },
        {
          "output_type": "stream",
          "name": "stdout",
          "text": [
            "2022-11-24 17:42:05,369 - build_posterior_wrapper took 0.004891 seconds\n"
          ]
        },
        {
          "output_type": "stream",
          "name": "stderr",
          "text": [
            "INFO:hyperopt.tpe:TPE using 8/8 trials with best loss 0.326603\n"
          ]
        },
        {
          "output_type": "stream",
          "name": "stdout",
          "text": [
            "2022-11-24 17:42:05,378 - TPE using 8/8 trials with best loss 0.326603\n",
            " 90%|█████████ | 9/10 [00:06<00:00,  1.43trial/s, best loss: 0.32660303055607864]"
          ]
        },
        {
          "output_type": "stream",
          "name": "stderr",
          "text": [
            "INFO:hyperopt.tpe:build_posterior_wrapper took 0.005193 seconds\n"
          ]
        },
        {
          "output_type": "stream",
          "name": "stdout",
          "text": [
            "2022-11-24 17:42:05,933 - build_posterior_wrapper took 0.005193 seconds\n"
          ]
        },
        {
          "output_type": "stream",
          "name": "stderr",
          "text": [
            "INFO:hyperopt.tpe:TPE using 9/9 trials with best loss 0.326603\n"
          ]
        },
        {
          "output_type": "stream",
          "name": "stdout",
          "text": [
            "2022-11-24 17:42:05,945 - TPE using 9/9 trials with best loss 0.326603\n",
            "100%|██████████| 10/10 [00:07<00:00,  1.38trial/s, best loss: 0.32660303055607864]\n"
          ]
        },
        {
          "output_type": "stream",
          "name": "stderr",
          "text": [
            "INFO:root:PipelineTuner - Hyperparameters optimization finished\n"
          ]
        },
        {
          "output_type": "stream",
          "name": "stdout",
          "text": [
            "2022-11-24 17:42:07,356 - PipelineTuner - Hyperparameters optimization finished\n"
          ]
        },
        {
          "output_type": "stream",
          "name": "stderr",
          "text": [
            "INFO:root:PipelineTuner - Return tuned pipeline due to the fact that obtained metric 0.327 equal or better than initial (+ 5% deviation) 0.489\n"
          ]
        },
        {
          "output_type": "stream",
          "name": "stdout",
          "text": [
            "2022-11-24 17:42:07,361 - PipelineTuner - Return tuned pipeline due to the fact that obtained metric 0.327 equal or better than initial (+ 5% deviation) 0.489\n"
          ]
        },
        {
          "output_type": "stream",
          "name": "stderr",
          "text": [
            "INFO:root:PipelineTuner - Hyperparameters optimization start\n"
          ]
        },
        {
          "output_type": "stream",
          "name": "stdout",
          "text": [
            "Fitting pipeline №6\n",
            "2022-11-24 17:42:07,606 - PipelineTuner - Hyperparameters optimization start\n",
            "  0%|          | 0/10 [00:00<?, ?trial/s, best loss=?]"
          ]
        },
        {
          "output_type": "stream",
          "name": "stderr",
          "text": [
            "INFO:hyperopt.tpe:build_posterior_wrapper took 0.008677 seconds\n"
          ]
        },
        {
          "output_type": "stream",
          "name": "stdout",
          "text": [
            "2022-11-24 17:42:07,926 - build_posterior_wrapper took 0.008677 seconds\n"
          ]
        },
        {
          "output_type": "stream",
          "name": "stderr",
          "text": [
            "INFO:hyperopt.tpe:TPE using 0 trials\n"
          ]
        },
        {
          "output_type": "stream",
          "name": "stdout",
          "text": [
            "2022-11-24 17:42:07,939 - TPE using 0 trials\n",
            " 10%|█         | 1/10 [00:00<00:03,  2.95trial/s, best loss: 2.5914707694203916]"
          ]
        },
        {
          "output_type": "stream",
          "name": "stderr",
          "text": [
            "INFO:hyperopt.tpe:build_posterior_wrapper took 0.007215 seconds\n"
          ]
        },
        {
          "output_type": "stream",
          "name": "stdout",
          "text": [
            "2022-11-24 17:42:08,273 - build_posterior_wrapper took 0.007215 seconds\n"
          ]
        },
        {
          "output_type": "stream",
          "name": "stderr",
          "text": [
            "INFO:hyperopt.tpe:TPE using 1/1 trials with best loss 2.591471\n"
          ]
        },
        {
          "output_type": "stream",
          "name": "stdout",
          "text": [
            "2022-11-24 17:42:08,281 - TPE using 1/1 trials with best loss 2.591471\n",
            " 20%|██        | 2/10 [00:00<00:02,  3.03trial/s, best loss: 2.5914707694203916]"
          ]
        },
        {
          "output_type": "stream",
          "name": "stderr",
          "text": [
            "INFO:hyperopt.tpe:build_posterior_wrapper took 0.012504 seconds\n"
          ]
        },
        {
          "output_type": "stream",
          "name": "stdout",
          "text": [
            "2022-11-24 17:42:08,595 - build_posterior_wrapper took 0.012504 seconds\n"
          ]
        },
        {
          "output_type": "stream",
          "name": "stderr",
          "text": [
            "INFO:hyperopt.tpe:TPE using 2/2 trials with best loss 2.591471\n"
          ]
        },
        {
          "output_type": "stream",
          "name": "stdout",
          "text": [
            "2022-11-24 17:42:08,599 - TPE using 2/2 trials with best loss 2.591471\n",
            " 30%|███       | 3/10 [00:04<00:15,  2.16s/trial, best loss: 2.5914707694203916]"
          ]
        },
        {
          "output_type": "stream",
          "name": "stderr",
          "text": [
            "INFO:hyperopt.tpe:build_posterior_wrapper took 0.004259 seconds\n"
          ]
        },
        {
          "output_type": "stream",
          "name": "stdout",
          "text": [
            "2022-11-24 17:42:12,914 - build_posterior_wrapper took 0.004259 seconds\n"
          ]
        },
        {
          "output_type": "stream",
          "name": "stderr",
          "text": [
            "INFO:hyperopt.tpe:TPE using 3/3 trials with best loss 2.591471\n"
          ]
        },
        {
          "output_type": "stream",
          "name": "stdout",
          "text": [
            "2022-11-24 17:42:12,922 - TPE using 3/3 trials with best loss 2.591471\n",
            " 40%|████      | 4/10 [00:05<00:09,  1.53s/trial, best loss: 2.2793555936094494]"
          ]
        },
        {
          "output_type": "stream",
          "name": "stderr",
          "text": [
            "INFO:hyperopt.tpe:build_posterior_wrapper took 0.013612 seconds\n"
          ]
        },
        {
          "output_type": "stream",
          "name": "stdout",
          "text": [
            "2022-11-24 17:42:13,499 - build_posterior_wrapper took 0.013612 seconds\n"
          ]
        },
        {
          "output_type": "stream",
          "name": "stderr",
          "text": [
            "INFO:hyperopt.tpe:TPE using 4/4 trials with best loss 2.279356\n"
          ]
        },
        {
          "output_type": "stream",
          "name": "stdout",
          "text": [
            "2022-11-24 17:42:13,503 - TPE using 4/4 trials with best loss 2.279356\n",
            " 50%|█████     | 5/10 [00:06<00:06,  1.28s/trial, best loss: 2.2793555936094494]"
          ]
        },
        {
          "output_type": "stream",
          "name": "stderr",
          "text": [
            "INFO:hyperopt.tpe:build_posterior_wrapper took 0.011881 seconds\n"
          ]
        },
        {
          "output_type": "stream",
          "name": "stdout",
          "text": [
            "2022-11-24 17:42:14,342 - build_posterior_wrapper took 0.011881 seconds\n"
          ]
        },
        {
          "output_type": "stream",
          "name": "stderr",
          "text": [
            "INFO:hyperopt.tpe:TPE using 5/5 trials with best loss 2.279356\n"
          ]
        },
        {
          "output_type": "stream",
          "name": "stdout",
          "text": [
            "2022-11-24 17:42:14,350 - TPE using 5/5 trials with best loss 2.279356\n",
            " 60%|██████    | 6/10 [00:07<00:04,  1.17s/trial, best loss: 2.2793555936094494]"
          ]
        },
        {
          "output_type": "stream",
          "name": "stderr",
          "text": [
            "INFO:hyperopt.tpe:build_posterior_wrapper took 0.009790 seconds\n"
          ]
        },
        {
          "output_type": "stream",
          "name": "stdout",
          "text": [
            "2022-11-24 17:42:15,292 - build_posterior_wrapper took 0.009790 seconds\n"
          ]
        },
        {
          "output_type": "stream",
          "name": "stderr",
          "text": [
            "INFO:hyperopt.tpe:TPE using 6/6 trials with best loss 2.279356\n"
          ]
        },
        {
          "output_type": "stream",
          "name": "stdout",
          "text": [
            "2022-11-24 17:42:15,300 - TPE using 6/6 trials with best loss 2.279356\n",
            " 70%|███████   | 7/10 [00:10<00:05,  1.82s/trial, best loss: 2.2793555936094494]"
          ]
        },
        {
          "output_type": "stream",
          "name": "stderr",
          "text": [
            "INFO:hyperopt.tpe:build_posterior_wrapper took 0.004111 seconds\n"
          ]
        },
        {
          "output_type": "stream",
          "name": "stdout",
          "text": [
            "2022-11-24 17:42:18,454 - build_posterior_wrapper took 0.004111 seconds\n"
          ]
        },
        {
          "output_type": "stream",
          "name": "stderr",
          "text": [
            "INFO:hyperopt.tpe:TPE using 7/7 trials with best loss 2.279356\n"
          ]
        },
        {
          "output_type": "stream",
          "name": "stdout",
          "text": [
            "2022-11-24 17:42:18,465 - TPE using 7/7 trials with best loss 2.279356\n",
            " 80%|████████  | 8/10 [00:17<00:06,  3.38s/trial, best loss: 2.2793555936094494]"
          ]
        },
        {
          "output_type": "stream",
          "name": "stderr",
          "text": [
            "INFO:hyperopt.tpe:build_posterior_wrapper took 0.008715 seconds\n"
          ]
        },
        {
          "output_type": "stream",
          "name": "stdout",
          "text": [
            "2022-11-24 17:42:25,158 - build_posterior_wrapper took 0.008715 seconds\n"
          ]
        },
        {
          "output_type": "stream",
          "name": "stderr",
          "text": [
            "INFO:hyperopt.tpe:TPE using 8/8 trials with best loss 2.279356\n"
          ]
        },
        {
          "output_type": "stream",
          "name": "stdout",
          "text": [
            "2022-11-24 17:42:25,163 - TPE using 8/8 trials with best loss 2.279356\n",
            " 90%|█████████ | 9/10 [00:18<00:02,  2.72s/trial, best loss: 2.2793555936094494]"
          ]
        },
        {
          "output_type": "stream",
          "name": "stderr",
          "text": [
            "INFO:hyperopt.tpe:build_posterior_wrapper took 0.004128 seconds\n"
          ]
        },
        {
          "output_type": "stream",
          "name": "stdout",
          "text": [
            "2022-11-24 17:42:26,424 - build_posterior_wrapper took 0.004128 seconds\n"
          ]
        },
        {
          "output_type": "stream",
          "name": "stderr",
          "text": [
            "INFO:hyperopt.tpe:TPE using 9/9 trials with best loss 2.279356\n"
          ]
        },
        {
          "output_type": "stream",
          "name": "stdout",
          "text": [
            "2022-11-24 17:42:26,433 - TPE using 9/9 trials with best loss 2.279356\n",
            "100%|██████████| 10/10 [00:21<00:00,  2.19s/trial, best loss: 2.2793555936094494]\n"
          ]
        },
        {
          "output_type": "stream",
          "name": "stderr",
          "text": [
            "INFO:root:PipelineTuner - Hyperparameters optimization finished\n"
          ]
        },
        {
          "output_type": "stream",
          "name": "stdout",
          "text": [
            "2022-11-24 17:42:30,420 - PipelineTuner - Hyperparameters optimization finished\n"
          ]
        },
        {
          "output_type": "stream",
          "name": "stderr",
          "text": [
            "INFO:root:PipelineTuner - Return tuned pipeline due to the fact that obtained metric 2.279 equal or better than initial (+ 5% deviation) 2.570\n"
          ]
        },
        {
          "output_type": "stream",
          "name": "stdout",
          "text": [
            "2022-11-24 17:42:30,424 - PipelineTuner - Return tuned pipeline due to the fact that obtained metric 2.279 equal or better than initial (+ 5% deviation) 2.570\n"
          ]
        },
        {
          "output_type": "stream",
          "name": "stderr",
          "text": [
            "INFO:root:PipelineTuner - Hyperparameters optimization start\n"
          ]
        },
        {
          "output_type": "stream",
          "name": "stdout",
          "text": [
            "2022-11-24 17:42:30,873 - PipelineTuner - Hyperparameters optimization start\n",
            "  0%|          | 0/10 [00:00<?, ?trial/s, best loss=?]"
          ]
        },
        {
          "output_type": "stream",
          "name": "stderr",
          "text": [
            "INFO:hyperopt.tpe:build_posterior_wrapper took 0.009273 seconds\n"
          ]
        },
        {
          "output_type": "stream",
          "name": "stdout",
          "text": [
            "2022-11-24 17:42:31,475 - build_posterior_wrapper took 0.009273 seconds\n"
          ]
        },
        {
          "output_type": "stream",
          "name": "stderr",
          "text": [
            "INFO:hyperopt.tpe:TPE using 0 trials\n"
          ]
        },
        {
          "output_type": "stream",
          "name": "stdout",
          "text": [
            "2022-11-24 17:42:31,482 - TPE using 0 trials\n",
            " 10%|█         | 1/10 [00:04<00:36,  4.07s/trial, best loss: 0.7620125606314094]"
          ]
        },
        {
          "output_type": "stream",
          "name": "stderr",
          "text": [
            "INFO:hyperopt.tpe:build_posterior_wrapper took 0.008291 seconds\n"
          ]
        },
        {
          "output_type": "stream",
          "name": "stdout",
          "text": [
            "2022-11-24 17:42:35,551 - build_posterior_wrapper took 0.008291 seconds\n"
          ]
        },
        {
          "output_type": "stream",
          "name": "stderr",
          "text": [
            "INFO:hyperopt.tpe:TPE using 1/1 trials with best loss 0.762013\n"
          ]
        },
        {
          "output_type": "stream",
          "name": "stdout",
          "text": [
            "2022-11-24 17:42:35,564 - TPE using 1/1 trials with best loss 0.762013\n",
            " 20%|██        | 2/10 [00:08<00:36,  4.57s/trial, best loss: 0.7620125606314094]"
          ]
        },
        {
          "output_type": "stream",
          "name": "stderr",
          "text": [
            "INFO:hyperopt.tpe:build_posterior_wrapper took 0.004145 seconds\n"
          ]
        },
        {
          "output_type": "stream",
          "name": "stdout",
          "text": [
            "2022-11-24 17:42:40,462 - build_posterior_wrapper took 0.004145 seconds\n"
          ]
        },
        {
          "output_type": "stream",
          "name": "stderr",
          "text": [
            "INFO:hyperopt.tpe:TPE using 2/2 trials with best loss 0.762013\n"
          ]
        },
        {
          "output_type": "stream",
          "name": "stdout",
          "text": [
            "2022-11-24 17:42:40,477 - TPE using 2/2 trials with best loss 0.762013\n",
            " 30%|███       | 3/10 [00:10<00:21,  3.01s/trial, best loss: 0.4476354867136895]"
          ]
        },
        {
          "output_type": "stream",
          "name": "stderr",
          "text": [
            "INFO:hyperopt.tpe:build_posterior_wrapper took 0.008211 seconds\n"
          ]
        },
        {
          "output_type": "stream",
          "name": "stdout",
          "text": [
            "2022-11-24 17:42:41,628 - build_posterior_wrapper took 0.008211 seconds\n"
          ]
        },
        {
          "output_type": "stream",
          "name": "stderr",
          "text": [
            "INFO:hyperopt.tpe:TPE using 3/3 trials with best loss 0.447635\n"
          ]
        },
        {
          "output_type": "stream",
          "name": "stdout",
          "text": [
            "2022-11-24 17:42:41,633 - TPE using 3/3 trials with best loss 0.447635\n",
            " 40%|████      | 4/10 [00:11<00:15,  2.54s/trial, best loss: 0.4476354867136895]"
          ]
        },
        {
          "output_type": "stream",
          "name": "stderr",
          "text": [
            "INFO:hyperopt.tpe:build_posterior_wrapper took 0.008152 seconds\n"
          ]
        },
        {
          "output_type": "stream",
          "name": "stdout",
          "text": [
            "2022-11-24 17:42:43,442 - build_posterior_wrapper took 0.008152 seconds\n"
          ]
        },
        {
          "output_type": "stream",
          "name": "stderr",
          "text": [
            "INFO:hyperopt.tpe:TPE using 4/4 trials with best loss 0.447635\n"
          ]
        },
        {
          "output_type": "stream",
          "name": "stdout",
          "text": [
            "2022-11-24 17:42:43,448 - TPE using 4/4 trials with best loss 0.447635\n",
            " 50%|█████     | 5/10 [00:15<00:14,  2.98s/trial, best loss: 0.4476354867136895]"
          ]
        },
        {
          "output_type": "stream",
          "name": "stderr",
          "text": [
            "INFO:hyperopt.tpe:build_posterior_wrapper took 0.008081 seconds\n"
          ]
        },
        {
          "output_type": "stream",
          "name": "stdout",
          "text": [
            "2022-11-24 17:42:47,206 - build_posterior_wrapper took 0.008081 seconds\n"
          ]
        },
        {
          "output_type": "stream",
          "name": "stderr",
          "text": [
            "INFO:hyperopt.tpe:TPE using 5/5 trials with best loss 0.447635\n"
          ]
        },
        {
          "output_type": "stream",
          "name": "stdout",
          "text": [
            "2022-11-24 17:42:47,218 - TPE using 5/5 trials with best loss 0.447635\n",
            " 60%|██████    | 6/10 [00:17<00:10,  2.55s/trial, best loss: 0.4476354867136895]"
          ]
        },
        {
          "output_type": "stream",
          "name": "stderr",
          "text": [
            "INFO:hyperopt.tpe:build_posterior_wrapper took 0.006719 seconds\n"
          ]
        },
        {
          "output_type": "stream",
          "name": "stdout",
          "text": [
            "2022-11-24 17:42:48,928 - build_posterior_wrapper took 0.006719 seconds\n"
          ]
        },
        {
          "output_type": "stream",
          "name": "stderr",
          "text": [
            "INFO:hyperopt.tpe:TPE using 6/6 trials with best loss 0.447635\n"
          ]
        },
        {
          "output_type": "stream",
          "name": "stdout",
          "text": [
            "2022-11-24 17:42:48,934 - TPE using 6/6 trials with best loss 0.447635\n",
            " 70%|███████   | 7/10 [00:23<00:11,  3.86s/trial, best loss: 0.4476354867136895]"
          ]
        },
        {
          "output_type": "stream",
          "name": "stderr",
          "text": [
            "INFO:hyperopt.tpe:build_posterior_wrapper took 0.009212 seconds\n"
          ]
        },
        {
          "output_type": "stream",
          "name": "stdout",
          "text": [
            "2022-11-24 17:42:55,474 - build_posterior_wrapper took 0.009212 seconds\n"
          ]
        },
        {
          "output_type": "stream",
          "name": "stderr",
          "text": [
            "INFO:hyperopt.tpe:TPE using 7/7 trials with best loss 0.447635\n"
          ]
        },
        {
          "output_type": "stream",
          "name": "stdout",
          "text": [
            "2022-11-24 17:42:55,483 - TPE using 7/7 trials with best loss 0.447635\n",
            " 80%|████████  | 8/10 [00:28<00:08,  4.07s/trial, best loss: 0.4476354867136895]"
          ]
        },
        {
          "output_type": "stream",
          "name": "stderr",
          "text": [
            "INFO:hyperopt.tpe:build_posterior_wrapper took 0.003965 seconds\n"
          ]
        },
        {
          "output_type": "stream",
          "name": "stdout",
          "text": [
            "2022-11-24 17:42:59,987 - build_posterior_wrapper took 0.003965 seconds\n"
          ]
        },
        {
          "output_type": "stream",
          "name": "stderr",
          "text": [
            "INFO:hyperopt.tpe:TPE using 8/8 trials with best loss 0.447635\n"
          ]
        },
        {
          "output_type": "stream",
          "name": "stdout",
          "text": [
            "2022-11-24 17:42:59,996 - TPE using 8/8 trials with best loss 0.447635\n",
            " 90%|█████████ | 9/10 [00:33<00:04,  4.28s/trial, best loss: 0.4476354867136895]"
          ]
        },
        {
          "output_type": "stream",
          "name": "stderr",
          "text": [
            "INFO:hyperopt.tpe:build_posterior_wrapper took 0.009154 seconds\n"
          ]
        },
        {
          "output_type": "stream",
          "name": "stdout",
          "text": [
            "2022-11-24 17:43:04,727 - build_posterior_wrapper took 0.009154 seconds\n"
          ]
        },
        {
          "output_type": "stream",
          "name": "stderr",
          "text": [
            "INFO:hyperopt.tpe:TPE using 9/9 trials with best loss 0.447635\n"
          ]
        },
        {
          "output_type": "stream",
          "name": "stdout",
          "text": [
            "2022-11-24 17:43:04,734 - TPE using 9/9 trials with best loss 0.447635\n",
            "100%|██████████| 10/10 [00:37<00:00,  3.70s/trial, best loss: 0.4476354867136895]\n"
          ]
        },
        {
          "output_type": "stream",
          "name": "stderr",
          "text": [
            "INFO:root:PipelineTuner - Hyperparameters optimization finished\n"
          ]
        },
        {
          "output_type": "stream",
          "name": "stdout",
          "text": [
            "2022-11-24 17:43:09,651 - PipelineTuner - Hyperparameters optimization finished\n"
          ]
        },
        {
          "output_type": "stream",
          "name": "stderr",
          "text": [
            "INFO:root:PipelineTuner - Return init pipeline due to the fact that obtained metric 0.448 worse than initial (+ 5% deviation) 0.412\n"
          ]
        },
        {
          "output_type": "stream",
          "name": "stdout",
          "text": [
            "2022-11-24 17:43:09,657 - PipelineTuner - Return init pipeline due to the fact that obtained metric 0.448 worse than initial (+ 5% deviation) 0.412\n"
          ]
        },
        {
          "output_type": "stream",
          "name": "stderr",
          "text": [
            "INFO:root:PipelineTuner - Hyperparameters optimization start\n"
          ]
        },
        {
          "output_type": "stream",
          "name": "stdout",
          "text": [
            "Fitting pipeline №7\n",
            "2022-11-24 17:43:10,128 - PipelineTuner - Hyperparameters optimization start\n",
            "  0%|          | 0/10 [00:00<?, ?trial/s, best loss=?]"
          ]
        },
        {
          "output_type": "stream",
          "name": "stderr",
          "text": [
            "INFO:hyperopt.tpe:build_posterior_wrapper took 0.004652 seconds\n"
          ]
        },
        {
          "output_type": "stream",
          "name": "stdout",
          "text": [
            "2022-11-24 17:43:10,359 - build_posterior_wrapper took 0.004652 seconds\n"
          ]
        },
        {
          "output_type": "stream",
          "name": "stderr",
          "text": [
            "INFO:hyperopt.tpe:TPE using 0 trials\n"
          ]
        },
        {
          "output_type": "stream",
          "name": "stdout",
          "text": [
            "2022-11-24 17:43:10,377 - TPE using 0 trials\n",
            " 10%|█         | 1/10 [00:00<00:02,  3.33trial/s, best loss: 2.0449723554929014]"
          ]
        },
        {
          "output_type": "stream",
          "name": "stderr",
          "text": [
            "INFO:hyperopt.tpe:build_posterior_wrapper took 0.012804 seconds\n"
          ]
        },
        {
          "output_type": "stream",
          "name": "stdout",
          "text": [
            "2022-11-24 17:43:10,676 - build_posterior_wrapper took 0.012804 seconds\n"
          ]
        },
        {
          "output_type": "stream",
          "name": "stderr",
          "text": [
            "INFO:hyperopt.tpe:TPE using 1/1 trials with best loss 2.044972\n"
          ]
        },
        {
          "output_type": "stream",
          "name": "stdout",
          "text": [
            "2022-11-24 17:43:10,693 - TPE using 1/1 trials with best loss 2.044972\n",
            " 20%|██        | 2/10 [00:00<00:02,  3.25trial/s, best loss: 2.0449723554929014]"
          ]
        },
        {
          "output_type": "stream",
          "name": "stderr",
          "text": [
            "INFO:hyperopt.tpe:build_posterior_wrapper took 0.006578 seconds\n"
          ]
        },
        {
          "output_type": "stream",
          "name": "stdout",
          "text": [
            "2022-11-24 17:43:10,981 - build_posterior_wrapper took 0.006578 seconds\n"
          ]
        },
        {
          "output_type": "stream",
          "name": "stderr",
          "text": [
            "INFO:hyperopt.tpe:TPE using 2/2 trials with best loss 2.044972\n"
          ]
        },
        {
          "output_type": "stream",
          "name": "stdout",
          "text": [
            "2022-11-24 17:43:10,992 - TPE using 2/2 trials with best loss 2.044972\n",
            " 30%|███       | 3/10 [00:02<00:08,  1.17s/trial, best loss: 2.0449723554929014]"
          ]
        },
        {
          "output_type": "stream",
          "name": "stderr",
          "text": [
            "INFO:hyperopt.tpe:build_posterior_wrapper took 0.008717 seconds\n"
          ]
        },
        {
          "output_type": "stream",
          "name": "stdout",
          "text": [
            "2022-11-24 17:43:13,171 - build_posterior_wrapper took 0.008717 seconds\n"
          ]
        },
        {
          "output_type": "stream",
          "name": "stderr",
          "text": [
            "INFO:hyperopt.tpe:TPE using 3/3 trials with best loss 2.044972\n"
          ]
        },
        {
          "output_type": "stream",
          "name": "stdout",
          "text": [
            "2022-11-24 17:43:13,190 - TPE using 3/3 trials with best loss 2.044972\n",
            " 40%|████      | 4/10 [00:04<00:07,  1.32s/trial, best loss: 2.0449723554929014]"
          ]
        },
        {
          "output_type": "stream",
          "name": "stderr",
          "text": [
            "INFO:hyperopt.tpe:build_posterior_wrapper took 0.006896 seconds\n"
          ]
        },
        {
          "output_type": "stream",
          "name": "stdout",
          "text": [
            "2022-11-24 17:43:14,728 - build_posterior_wrapper took 0.006896 seconds\n"
          ]
        },
        {
          "output_type": "stream",
          "name": "stderr",
          "text": [
            "INFO:hyperopt.tpe:TPE using 4/4 trials with best loss 2.044972\n"
          ]
        },
        {
          "output_type": "stream",
          "name": "stdout",
          "text": [
            "2022-11-24 17:43:14,741 - TPE using 4/4 trials with best loss 2.044972\n",
            " 50%|█████     | 5/10 [00:05<00:05,  1.16s/trial, best loss: 2.0449723554929014]"
          ]
        },
        {
          "output_type": "stream",
          "name": "stderr",
          "text": [
            "INFO:hyperopt.tpe:build_posterior_wrapper took 0.007784 seconds\n"
          ]
        },
        {
          "output_type": "stream",
          "name": "stdout",
          "text": [
            "2022-11-24 17:43:15,589 - build_posterior_wrapper took 0.007784 seconds\n"
          ]
        },
        {
          "output_type": "stream",
          "name": "stderr",
          "text": [
            "INFO:hyperopt.tpe:TPE using 5/5 trials with best loss 2.044972\n"
          ]
        },
        {
          "output_type": "stream",
          "name": "stdout",
          "text": [
            "2022-11-24 17:43:15,604 - TPE using 5/5 trials with best loss 2.044972\n",
            " 60%|██████    | 6/10 [00:05<00:03,  1.10trial/s, best loss: 2.0449723554929014]"
          ]
        },
        {
          "output_type": "stream",
          "name": "stderr",
          "text": [
            "INFO:hyperopt.tpe:build_posterior_wrapper took 0.005363 seconds\n"
          ]
        },
        {
          "output_type": "stream",
          "name": "stdout",
          "text": [
            "2022-11-24 17:43:16,027 - build_posterior_wrapper took 0.005363 seconds\n"
          ]
        },
        {
          "output_type": "stream",
          "name": "stderr",
          "text": [
            "INFO:hyperopt.tpe:TPE using 6/6 trials with best loss 2.044972\n"
          ]
        },
        {
          "output_type": "stream",
          "name": "stdout",
          "text": [
            "2022-11-24 17:43:16,043 - TPE using 6/6 trials with best loss 2.044972\n",
            " 70%|███████   | 7/10 [00:07<00:03,  1.23s/trial, best loss: 2.0449723554929014]"
          ]
        },
        {
          "output_type": "stream",
          "name": "stderr",
          "text": [
            "INFO:hyperopt.tpe:build_posterior_wrapper took 0.009616 seconds\n"
          ]
        },
        {
          "output_type": "stream",
          "name": "stdout",
          "text": [
            "2022-11-24 17:43:17,924 - build_posterior_wrapper took 0.009616 seconds\n"
          ]
        },
        {
          "output_type": "stream",
          "name": "stderr",
          "text": [
            "INFO:hyperopt.tpe:TPE using 7/7 trials with best loss 2.044972\n"
          ]
        },
        {
          "output_type": "stream",
          "name": "stdout",
          "text": [
            "2022-11-24 17:43:17,930 - TPE using 7/7 trials with best loss 2.044972\n",
            " 80%|████████  | 8/10 [00:08<00:02,  1.26s/trial, best loss: 2.0449723554929014]"
          ]
        },
        {
          "output_type": "stream",
          "name": "stderr",
          "text": [
            "INFO:hyperopt.tpe:build_posterior_wrapper took 0.005400 seconds\n"
          ]
        },
        {
          "output_type": "stream",
          "name": "stdout",
          "text": [
            "2022-11-24 17:43:19,243 - build_posterior_wrapper took 0.005400 seconds\n"
          ]
        },
        {
          "output_type": "stream",
          "name": "stderr",
          "text": [
            "INFO:hyperopt.tpe:TPE using 8/8 trials with best loss 2.044972\n"
          ]
        },
        {
          "output_type": "stream",
          "name": "stdout",
          "text": [
            "2022-11-24 17:43:19,250 - TPE using 8/8 trials with best loss 2.044972\n",
            " 90%|█████████ | 9/10 [00:09<00:01,  1.06s/trial, best loss: 2.0449723554929014]"
          ]
        },
        {
          "output_type": "stream",
          "name": "stderr",
          "text": [
            "INFO:hyperopt.tpe:build_posterior_wrapper took 0.005620 seconds\n"
          ]
        },
        {
          "output_type": "stream",
          "name": "stdout",
          "text": [
            "2022-11-24 17:43:19,844 - build_posterior_wrapper took 0.005620 seconds\n"
          ]
        },
        {
          "output_type": "stream",
          "name": "stderr",
          "text": [
            "INFO:hyperopt.tpe:TPE using 9/9 trials with best loss 2.044972\n"
          ]
        },
        {
          "output_type": "stream",
          "name": "stdout",
          "text": [
            "2022-11-24 17:43:19,851 - TPE using 9/9 trials with best loss 2.044972\n",
            "100%|██████████| 10/10 [00:11<00:00,  1.13s/trial, best loss: 2.0449723554929014]\n"
          ]
        },
        {
          "output_type": "stream",
          "name": "stderr",
          "text": [
            "INFO:root:PipelineTuner - Hyperparameters optimization finished\n"
          ]
        },
        {
          "output_type": "stream",
          "name": "stdout",
          "text": [
            "2022-11-24 17:43:21,955 - PipelineTuner - Hyperparameters optimization finished\n"
          ]
        },
        {
          "output_type": "stream",
          "name": "stderr",
          "text": [
            "INFO:root:PipelineTuner - Return tuned pipeline due to the fact that obtained metric 2.045 equal or better than initial (+ 5% deviation) 2.266\n"
          ]
        },
        {
          "output_type": "stream",
          "name": "stdout",
          "text": [
            "2022-11-24 17:43:21,970 - PipelineTuner - Return tuned pipeline due to the fact that obtained metric 2.045 equal or better than initial (+ 5% deviation) 2.266\n"
          ]
        },
        {
          "output_type": "stream",
          "name": "stderr",
          "text": [
            "INFO:root:PipelineTuner - Hyperparameters optimization start\n"
          ]
        },
        {
          "output_type": "stream",
          "name": "stdout",
          "text": [
            "2022-11-24 17:43:22,251 - PipelineTuner - Hyperparameters optimization start\n",
            "  0%|          | 0/10 [00:00<?, ?trial/s, best loss=?]"
          ]
        },
        {
          "output_type": "stream",
          "name": "stderr",
          "text": [
            "INFO:hyperopt.tpe:build_posterior_wrapper took 0.005541 seconds\n"
          ]
        },
        {
          "output_type": "stream",
          "name": "stdout",
          "text": [
            "2022-11-24 17:43:22,540 - build_posterior_wrapper took 0.005541 seconds\n"
          ]
        },
        {
          "output_type": "stream",
          "name": "stderr",
          "text": [
            "INFO:hyperopt.tpe:TPE using 0 trials\n"
          ]
        },
        {
          "output_type": "stream",
          "name": "stdout",
          "text": [
            "2022-11-24 17:43:22,552 - TPE using 0 trials\n",
            " 10%|█         | 1/10 [00:00<00:05,  1.80trial/s, best loss: 0.5398575538620236]"
          ]
        },
        {
          "output_type": "stream",
          "name": "stderr",
          "text": [
            "INFO:hyperopt.tpe:build_posterior_wrapper took 0.010872 seconds\n"
          ]
        },
        {
          "output_type": "stream",
          "name": "stdout",
          "text": [
            "2022-11-24 17:43:23,110 - build_posterior_wrapper took 0.010872 seconds\n"
          ]
        },
        {
          "output_type": "stream",
          "name": "stderr",
          "text": [
            "INFO:hyperopt.tpe:TPE using 1/1 trials with best loss 0.539858\n"
          ]
        },
        {
          "output_type": "stream",
          "name": "stdout",
          "text": [
            "2022-11-24 17:43:23,119 - TPE using 1/1 trials with best loss 0.539858\n",
            " 20%|██        | 2/10 [00:01<00:06,  1.30trial/s, best loss: 0.5398575538620236]"
          ]
        },
        {
          "output_type": "stream",
          "name": "stderr",
          "text": [
            "INFO:hyperopt.tpe:build_posterior_wrapper took 0.009608 seconds\n"
          ]
        },
        {
          "output_type": "stream",
          "name": "stdout",
          "text": [
            "2022-11-24 17:43:24,026 - build_posterior_wrapper took 0.009608 seconds\n"
          ]
        },
        {
          "output_type": "stream",
          "name": "stderr",
          "text": [
            "INFO:hyperopt.tpe:TPE using 2/2 trials with best loss 0.539858\n"
          ]
        },
        {
          "output_type": "stream",
          "name": "stdout",
          "text": [
            "2022-11-24 17:43:24,037 - TPE using 2/2 trials with best loss 0.539858\n",
            " 30%|███       | 3/10 [00:03<00:10,  1.48s/trial, best loss: 0.5398575538620236]"
          ]
        },
        {
          "output_type": "stream",
          "name": "stderr",
          "text": [
            "INFO:hyperopt.tpe:build_posterior_wrapper took 0.008053 seconds\n"
          ]
        },
        {
          "output_type": "stream",
          "name": "stdout",
          "text": [
            "2022-11-24 17:43:26,349 - build_posterior_wrapper took 0.008053 seconds\n"
          ]
        },
        {
          "output_type": "stream",
          "name": "stderr",
          "text": [
            "INFO:hyperopt.tpe:TPE using 3/3 trials with best loss 0.539858\n"
          ]
        },
        {
          "output_type": "stream",
          "name": "stdout",
          "text": [
            "2022-11-24 17:43:26,357 - TPE using 3/3 trials with best loss 0.539858\n",
            " 40%|████      | 4/10 [00:04<00:06,  1.06s/trial, best loss: 0.5215723819689198]"
          ]
        },
        {
          "output_type": "stream",
          "name": "stderr",
          "text": [
            "INFO:hyperopt.tpe:build_posterior_wrapper took 0.004858 seconds\n"
          ]
        },
        {
          "output_type": "stream",
          "name": "stdout",
          "text": [
            "2022-11-24 17:43:26,769 - build_posterior_wrapper took 0.004858 seconds\n"
          ]
        },
        {
          "output_type": "stream",
          "name": "stderr",
          "text": [
            "INFO:hyperopt.tpe:TPE using 4/4 trials with best loss 0.521572\n"
          ]
        },
        {
          "output_type": "stream",
          "name": "stdout",
          "text": [
            "2022-11-24 17:43:26,781 - TPE using 4/4 trials with best loss 0.521572\n",
            " 50%|█████     | 5/10 [00:04<00:04,  1.15trial/s, best loss: 0.47712096471262305]"
          ]
        },
        {
          "output_type": "stream",
          "name": "stderr",
          "text": [
            "INFO:hyperopt.tpe:build_posterior_wrapper took 0.005005 seconds\n"
          ]
        },
        {
          "output_type": "stream",
          "name": "stdout",
          "text": [
            "2022-11-24 17:43:27,293 - build_posterior_wrapper took 0.005005 seconds\n"
          ]
        },
        {
          "output_type": "stream",
          "name": "stderr",
          "text": [
            "INFO:hyperopt.tpe:TPE using 5/5 trials with best loss 0.477121\n"
          ]
        },
        {
          "output_type": "stream",
          "name": "stdout",
          "text": [
            "2022-11-24 17:43:27,299 - TPE using 5/5 trials with best loss 0.477121\n",
            " 60%|██████    | 6/10 [00:06<00:04,  1.00s/trial, best loss: 0.47712096471262305]"
          ]
        },
        {
          "output_type": "stream",
          "name": "stderr",
          "text": [
            "INFO:hyperopt.tpe:build_posterior_wrapper took 0.010947 seconds\n"
          ]
        },
        {
          "output_type": "stream",
          "name": "stdout",
          "text": [
            "2022-11-24 17:43:28,557 - build_posterior_wrapper took 0.010947 seconds\n"
          ]
        },
        {
          "output_type": "stream",
          "name": "stderr",
          "text": [
            "INFO:hyperopt.tpe:TPE using 6/6 trials with best loss 0.477121\n"
          ]
        },
        {
          "output_type": "stream",
          "name": "stdout",
          "text": [
            "2022-11-24 17:43:28,563 - TPE using 6/6 trials with best loss 0.477121\n",
            " 70%|███████   | 7/10 [00:06<00:02,  1.23trial/s, best loss: 0.47712096471262305]"
          ]
        },
        {
          "output_type": "stream",
          "name": "stderr",
          "text": [
            "INFO:hyperopt.tpe:build_posterior_wrapper took 0.005084 seconds\n"
          ]
        },
        {
          "output_type": "stream",
          "name": "stdout",
          "text": [
            "2022-11-24 17:43:28,986 - build_posterior_wrapper took 0.005084 seconds\n"
          ]
        },
        {
          "output_type": "stream",
          "name": "stderr",
          "text": [
            "INFO:hyperopt.tpe:TPE using 7/7 trials with best loss 0.477121\n"
          ]
        },
        {
          "output_type": "stream",
          "name": "stdout",
          "text": [
            "2022-11-24 17:43:28,992 - TPE using 7/7 trials with best loss 0.477121\n",
            " 80%|████████  | 8/10 [00:08<00:02,  1.16s/trial, best loss: 0.47712096471262305]"
          ]
        },
        {
          "output_type": "stream",
          "name": "stderr",
          "text": [
            "INFO:hyperopt.tpe:build_posterior_wrapper took 0.005086 seconds\n"
          ]
        },
        {
          "output_type": "stream",
          "name": "stdout",
          "text": [
            "2022-11-24 17:43:30,874 - build_posterior_wrapper took 0.005086 seconds\n"
          ]
        },
        {
          "output_type": "stream",
          "name": "stderr",
          "text": [
            "INFO:hyperopt.tpe:TPE using 8/8 trials with best loss 0.477121\n"
          ]
        },
        {
          "output_type": "stream",
          "name": "stdout",
          "text": [
            "2022-11-24 17:43:30,880 - TPE using 8/8 trials with best loss 0.477121\n",
            " 90%|█████████ | 9/10 [00:10<00:01,  1.43s/trial, best loss: 0.47712096471262305]"
          ]
        },
        {
          "output_type": "stream",
          "name": "stderr",
          "text": [
            "INFO:hyperopt.tpe:build_posterior_wrapper took 0.004947 seconds\n"
          ]
        },
        {
          "output_type": "stream",
          "name": "stdout",
          "text": [
            "2022-11-24 17:43:32,905 - build_posterior_wrapper took 0.004947 seconds\n"
          ]
        },
        {
          "output_type": "stream",
          "name": "stderr",
          "text": [
            "INFO:hyperopt.tpe:TPE using 9/9 trials with best loss 0.477121\n"
          ]
        },
        {
          "output_type": "stream",
          "name": "stdout",
          "text": [
            "2022-11-24 17:43:32,911 - TPE using 9/9 trials with best loss 0.477121\n",
            "100%|██████████| 10/10 [00:11<00:00,  1.10s/trial, best loss: 0.47712096471262305]\n"
          ]
        },
        {
          "output_type": "stream",
          "name": "stderr",
          "text": [
            "INFO:root:PipelineTuner - Hyperparameters optimization finished\n"
          ]
        },
        {
          "output_type": "stream",
          "name": "stdout",
          "text": [
            "2022-11-24 17:43:34,047 - PipelineTuner - Hyperparameters optimization finished\n"
          ]
        },
        {
          "output_type": "stream",
          "name": "stderr",
          "text": [
            "INFO:root:PipelineTuner - Return init pipeline due to the fact that obtained metric 0.477 worse than initial (+ 5% deviation) 0.342\n"
          ]
        },
        {
          "output_type": "stream",
          "name": "stdout",
          "text": [
            "2022-11-24 17:43:34,053 - PipelineTuner - Return init pipeline due to the fact that obtained metric 0.477 worse than initial (+ 5% deviation) 0.342\n"
          ]
        },
        {
          "output_type": "stream",
          "name": "stderr",
          "text": [
            "INFO:root:PipelineTuner - Hyperparameters optimization start\n"
          ]
        },
        {
          "output_type": "stream",
          "name": "stdout",
          "text": [
            "Fitting pipeline №8\n",
            "2022-11-24 17:43:34,311 - PipelineTuner - Hyperparameters optimization start\n",
            "  0%|          | 0/10 [00:00<?, ?trial/s, best loss=?]"
          ]
        },
        {
          "output_type": "stream",
          "name": "stderr",
          "text": [
            "INFO:hyperopt.tpe:build_posterior_wrapper took 0.004735 seconds\n"
          ]
        },
        {
          "output_type": "stream",
          "name": "stdout",
          "text": [
            "2022-11-24 17:43:34,538 - build_posterior_wrapper took 0.004735 seconds\n"
          ]
        },
        {
          "output_type": "stream",
          "name": "stderr",
          "text": [
            "INFO:hyperopt.tpe:TPE using 0 trials\n"
          ]
        },
        {
          "output_type": "stream",
          "name": "stdout",
          "text": [
            "2022-11-24 17:43:34,543 - TPE using 0 trials\n",
            " 10%|█         | 1/10 [00:00<00:07,  1.16trial/s, best loss: 2.7381640340442046]"
          ]
        },
        {
          "output_type": "stream",
          "name": "stderr",
          "text": [
            "INFO:hyperopt.tpe:build_posterior_wrapper took 0.005359 seconds\n"
          ]
        },
        {
          "output_type": "stream",
          "name": "stdout",
          "text": [
            "2022-11-24 17:43:35,403 - build_posterior_wrapper took 0.005359 seconds\n"
          ]
        },
        {
          "output_type": "stream",
          "name": "stderr",
          "text": [
            "INFO:hyperopt.tpe:TPE using 1/1 trials with best loss 2.738164\n"
          ]
        },
        {
          "output_type": "stream",
          "name": "stdout",
          "text": [
            "2022-11-24 17:43:35,416 - TPE using 1/1 trials with best loss 2.738164\n",
            " 20%|██        | 2/10 [00:01<00:04,  1.86trial/s, best loss: 2.0035611113232474]"
          ]
        },
        {
          "output_type": "stream",
          "name": "stderr",
          "text": [
            "INFO:hyperopt.tpe:build_posterior_wrapper took 0.005278 seconds\n"
          ]
        },
        {
          "output_type": "stream",
          "name": "stdout",
          "text": [
            "2022-11-24 17:43:35,715 - build_posterior_wrapper took 0.005278 seconds\n"
          ]
        },
        {
          "output_type": "stream",
          "name": "stderr",
          "text": [
            "INFO:hyperopt.tpe:TPE using 2/2 trials with best loss 2.003561\n"
          ]
        },
        {
          "output_type": "stream",
          "name": "stdout",
          "text": [
            "2022-11-24 17:43:35,728 - TPE using 2/2 trials with best loss 2.003561\n",
            " 30%|███       | 3/10 [00:02<00:05,  1.23trial/s, best loss: 2.0035611113232474]"
          ]
        },
        {
          "output_type": "stream",
          "name": "stderr",
          "text": [
            "INFO:hyperopt.tpe:build_posterior_wrapper took 0.009186 seconds\n"
          ]
        },
        {
          "output_type": "stream",
          "name": "stdout",
          "text": [
            "2022-11-24 17:43:36,863 - build_posterior_wrapper took 0.009186 seconds\n"
          ]
        },
        {
          "output_type": "stream",
          "name": "stderr",
          "text": [
            "INFO:hyperopt.tpe:TPE using 3/3 trials with best loss 2.003561\n"
          ]
        },
        {
          "output_type": "stream",
          "name": "stdout",
          "text": [
            "2022-11-24 17:43:36,880 - TPE using 3/3 trials with best loss 2.003561\n",
            " 40%|████      | 4/10 [00:04<00:07,  1.22s/trial, best loss: 2.0035611113232474]"
          ]
        },
        {
          "output_type": "stream",
          "name": "stderr",
          "text": [
            "INFO:hyperopt.tpe:build_posterior_wrapper took 0.005237 seconds\n"
          ]
        },
        {
          "output_type": "stream",
          "name": "stdout",
          "text": [
            "2022-11-24 17:43:38,686 - build_posterior_wrapper took 0.005237 seconds\n"
          ]
        },
        {
          "output_type": "stream",
          "name": "stderr",
          "text": [
            "INFO:hyperopt.tpe:TPE using 4/4 trials with best loss 2.003561\n"
          ]
        },
        {
          "output_type": "stream",
          "name": "stdout",
          "text": [
            "2022-11-24 17:43:38,692 - TPE using 4/4 trials with best loss 2.003561\n",
            " 50%|█████     | 5/10 [00:06<00:08,  1.67s/trial, best loss: 2.0035611113232474]"
          ]
        },
        {
          "output_type": "stream",
          "name": "stderr",
          "text": [
            "INFO:hyperopt.tpe:build_posterior_wrapper took 0.010292 seconds\n"
          ]
        },
        {
          "output_type": "stream",
          "name": "stdout",
          "text": [
            "2022-11-24 17:43:41,162 - build_posterior_wrapper took 0.010292 seconds\n"
          ]
        },
        {
          "output_type": "stream",
          "name": "stderr",
          "text": [
            "INFO:hyperopt.tpe:TPE using 5/5 trials with best loss 2.003561\n"
          ]
        },
        {
          "output_type": "stream",
          "name": "stdout",
          "text": [
            "2022-11-24 17:43:41,171 - TPE using 5/5 trials with best loss 2.003561\n",
            " 60%|██████    | 6/10 [00:06<00:04,  1.22s/trial, best loss: 2.0035611113232474]"
          ]
        },
        {
          "output_type": "stream",
          "name": "stderr",
          "text": [
            "INFO:hyperopt.tpe:build_posterior_wrapper took 0.005578 seconds\n"
          ]
        },
        {
          "output_type": "stream",
          "name": "stdout",
          "text": [
            "2022-11-24 17:43:41,509 - build_posterior_wrapper took 0.005578 seconds\n"
          ]
        },
        {
          "output_type": "stream",
          "name": "stderr",
          "text": [
            "INFO:hyperopt.tpe:TPE using 6/6 trials with best loss 2.003561\n"
          ]
        },
        {
          "output_type": "stream",
          "name": "stdout",
          "text": [
            "2022-11-24 17:43:41,521 - TPE using 6/6 trials with best loss 2.003561\n",
            " 70%|███████   | 7/10 [00:08<00:04,  1.48s/trial, best loss: 2.0035611113232474]"
          ]
        },
        {
          "output_type": "stream",
          "name": "stderr",
          "text": [
            "INFO:hyperopt.tpe:build_posterior_wrapper took 0.005461 seconds\n"
          ]
        },
        {
          "output_type": "stream",
          "name": "stdout",
          "text": [
            "2022-11-24 17:43:43,516 - build_posterior_wrapper took 0.005461 seconds\n"
          ]
        },
        {
          "output_type": "stream",
          "name": "stderr",
          "text": [
            "INFO:hyperopt.tpe:TPE using 7/7 trials with best loss 2.003561\n"
          ]
        },
        {
          "output_type": "stream",
          "name": "stdout",
          "text": [
            "2022-11-24 17:43:43,521 - TPE using 7/7 trials with best loss 2.003561\n",
            " 80%|████████  | 8/10 [00:09<00:02,  1.11s/trial, best loss: 2.0035611113232474]"
          ]
        },
        {
          "output_type": "stream",
          "name": "stderr",
          "text": [
            "INFO:hyperopt.tpe:build_posterior_wrapper took 0.004927 seconds\n"
          ]
        },
        {
          "output_type": "stream",
          "name": "stdout",
          "text": [
            "2022-11-24 17:43:43,847 - build_posterior_wrapper took 0.004927 seconds\n"
          ]
        },
        {
          "output_type": "stream",
          "name": "stderr",
          "text": [
            "INFO:hyperopt.tpe:TPE using 8/8 trials with best loss 2.003561\n"
          ]
        },
        {
          "output_type": "stream",
          "name": "stdout",
          "text": [
            "2022-11-24 17:43:43,852 - TPE using 8/8 trials with best loss 2.003561\n",
            " 90%|█████████ | 9/10 [00:09<00:00,  1.03trial/s, best loss: 2.0035611113232474]"
          ]
        },
        {
          "output_type": "stream",
          "name": "stderr",
          "text": [
            "INFO:hyperopt.tpe:build_posterior_wrapper took 0.007694 seconds\n"
          ]
        },
        {
          "output_type": "stream",
          "name": "stdout",
          "text": [
            "2022-11-24 17:43:44,510 - build_posterior_wrapper took 0.007694 seconds\n"
          ]
        },
        {
          "output_type": "stream",
          "name": "stderr",
          "text": [
            "INFO:hyperopt.tpe:TPE using 9/9 trials with best loss 2.003561\n"
          ]
        },
        {
          "output_type": "stream",
          "name": "stdout",
          "text": [
            "2022-11-24 17:43:44,525 - TPE using 9/9 trials with best loss 2.003561\n",
            "100%|██████████| 10/10 [00:10<00:00,  1.06s/trial, best loss: 2.0035611113232474]\n"
          ]
        },
        {
          "output_type": "stream",
          "name": "stderr",
          "text": [
            "INFO:root:PipelineTuner - Hyperparameters optimization finished\n"
          ]
        },
        {
          "output_type": "stream",
          "name": "stdout",
          "text": [
            "2022-11-24 17:43:45,427 - PipelineTuner - Hyperparameters optimization finished\n"
          ]
        },
        {
          "output_type": "stream",
          "name": "stderr",
          "text": [
            "INFO:root:PipelineTuner - Return tuned pipeline due to the fact that obtained metric 2.004 equal or better than initial (+ 5% deviation) 2.266\n"
          ]
        },
        {
          "output_type": "stream",
          "name": "stdout",
          "text": [
            "2022-11-24 17:43:45,431 - PipelineTuner - Return tuned pipeline due to the fact that obtained metric 2.004 equal or better than initial (+ 5% deviation) 2.266\n"
          ]
        },
        {
          "output_type": "stream",
          "name": "stderr",
          "text": [
            "INFO:root:PipelineTuner - Hyperparameters optimization start\n"
          ]
        },
        {
          "output_type": "stream",
          "name": "stdout",
          "text": [
            "2022-11-24 17:43:45,681 - PipelineTuner - Hyperparameters optimization start\n",
            "  0%|          | 0/10 [00:00<?, ?trial/s, best loss=?]"
          ]
        },
        {
          "output_type": "stream",
          "name": "stderr",
          "text": [
            "INFO:hyperopt.tpe:build_posterior_wrapper took 0.004658 seconds\n"
          ]
        },
        {
          "output_type": "stream",
          "name": "stdout",
          "text": [
            "2022-11-24 17:43:45,981 - build_posterior_wrapper took 0.004658 seconds\n"
          ]
        },
        {
          "output_type": "stream",
          "name": "stderr",
          "text": [
            "INFO:hyperopt.tpe:TPE using 0 trials\n"
          ]
        },
        {
          "output_type": "stream",
          "name": "stdout",
          "text": [
            "2022-11-24 17:43:45,992 - TPE using 0 trials\n",
            " 10%|█         | 1/10 [00:02<00:19,  2.15s/trial, best loss: 3.326348734517239]"
          ]
        },
        {
          "output_type": "stream",
          "name": "stderr",
          "text": [
            "INFO:hyperopt.tpe:build_posterior_wrapper took 0.006882 seconds\n"
          ]
        },
        {
          "output_type": "stream",
          "name": "stdout",
          "text": [
            "2022-11-24 17:43:48,140 - build_posterior_wrapper took 0.006882 seconds\n"
          ]
        },
        {
          "output_type": "stream",
          "name": "stderr",
          "text": [
            "INFO:hyperopt.tpe:TPE using 1/1 trials with best loss 3.326349\n"
          ]
        },
        {
          "output_type": "stream",
          "name": "stdout",
          "text": [
            "2022-11-24 17:43:48,146 - TPE using 1/1 trials with best loss 3.326349\n",
            " 20%|██        | 2/10 [00:02<00:09,  1.25s/trial, best loss: 0.5169799001811691]"
          ]
        },
        {
          "output_type": "stream",
          "name": "stderr",
          "text": [
            "INFO:hyperopt.tpe:build_posterior_wrapper took 0.011322 seconds\n"
          ]
        },
        {
          "output_type": "stream",
          "name": "stdout",
          "text": [
            "2022-11-24 17:43:48,758 - build_posterior_wrapper took 0.011322 seconds\n"
          ]
        },
        {
          "output_type": "stream",
          "name": "stderr",
          "text": [
            "INFO:hyperopt.tpe:TPE using 2/2 trials with best loss 0.516980\n"
          ]
        },
        {
          "output_type": "stream",
          "name": "stdout",
          "text": [
            "2022-11-24 17:43:48,765 - TPE using 2/2 trials with best loss 0.516980\n",
            " 30%|███       | 3/10 [00:03<00:06,  1.14trial/s, best loss: 0.5001208797176608]"
          ]
        },
        {
          "output_type": "stream",
          "name": "stderr",
          "text": [
            "INFO:hyperopt.tpe:build_posterior_wrapper took 0.010521 seconds\n"
          ]
        },
        {
          "output_type": "stream",
          "name": "stdout",
          "text": [
            "2022-11-24 17:43:49,192 - build_posterior_wrapper took 0.010521 seconds\n"
          ]
        },
        {
          "output_type": "stream",
          "name": "stderr",
          "text": [
            "INFO:hyperopt.tpe:TPE using 3/3 trials with best loss 0.500121\n"
          ]
        },
        {
          "output_type": "stream",
          "name": "stdout",
          "text": [
            "2022-11-24 17:43:49,203 - TPE using 3/3 trials with best loss 0.500121\n",
            " 40%|████      | 4/10 [00:04<00:05,  1.14trial/s, best loss: 0.5001208797176608]"
          ]
        },
        {
          "output_type": "stream",
          "name": "stderr",
          "text": [
            "INFO:hyperopt.tpe:build_posterior_wrapper took 0.005358 seconds\n"
          ]
        },
        {
          "output_type": "stream",
          "name": "stdout",
          "text": [
            "2022-11-24 17:43:50,074 - build_posterior_wrapper took 0.005358 seconds\n"
          ]
        },
        {
          "output_type": "stream",
          "name": "stderr",
          "text": [
            "INFO:hyperopt.tpe:TPE using 4/4 trials with best loss 0.500121\n"
          ]
        },
        {
          "output_type": "stream",
          "name": "stdout",
          "text": [
            "2022-11-24 17:43:50,081 - TPE using 4/4 trials with best loss 0.500121\n",
            " 50%|█████     | 5/10 [00:06<00:06,  1.30s/trial, best loss: 0.5001208797176608]"
          ]
        },
        {
          "output_type": "stream",
          "name": "stderr",
          "text": [
            "INFO:hyperopt.tpe:build_posterior_wrapper took 0.006214 seconds\n"
          ]
        },
        {
          "output_type": "stream",
          "name": "stdout",
          "text": [
            "2022-11-24 17:43:52,129 - build_posterior_wrapper took 0.006214 seconds\n"
          ]
        },
        {
          "output_type": "stream",
          "name": "stderr",
          "text": [
            "INFO:hyperopt.tpe:TPE using 5/5 trials with best loss 0.500121\n"
          ]
        },
        {
          "output_type": "stream",
          "name": "stdout",
          "text": [
            "2022-11-24 17:43:52,136 - TPE using 5/5 trials with best loss 0.500121\n",
            " 60%|██████    | 6/10 [00:06<00:04,  1.09s/trial, best loss: 0.5001208797176608]"
          ]
        },
        {
          "output_type": "stream",
          "name": "stderr",
          "text": [
            "INFO:hyperopt.tpe:build_posterior_wrapper took 0.005047 seconds\n"
          ]
        },
        {
          "output_type": "stream",
          "name": "stdout",
          "text": [
            "2022-11-24 17:43:52,813 - build_posterior_wrapper took 0.005047 seconds\n"
          ]
        },
        {
          "output_type": "stream",
          "name": "stderr",
          "text": [
            "INFO:hyperopt.tpe:TPE using 6/6 trials with best loss 0.500121\n"
          ]
        },
        {
          "output_type": "stream",
          "name": "stdout",
          "text": [
            "2022-11-24 17:43:52,819 - TPE using 6/6 trials with best loss 0.500121\n",
            " 70%|███████   | 7/10 [00:07<00:02,  1.01trial/s, best loss: 0.5001208797176608]"
          ]
        },
        {
          "output_type": "stream",
          "name": "stderr",
          "text": [
            "INFO:hyperopt.tpe:build_posterior_wrapper took 0.005205 seconds\n"
          ]
        },
        {
          "output_type": "stream",
          "name": "stdout",
          "text": [
            "2022-11-24 17:43:53,595 - build_posterior_wrapper took 0.005205 seconds\n"
          ]
        },
        {
          "output_type": "stream",
          "name": "stderr",
          "text": [
            "INFO:hyperopt.tpe:TPE using 7/7 trials with best loss 0.500121\n"
          ]
        },
        {
          "output_type": "stream",
          "name": "stdout",
          "text": [
            "2022-11-24 17:43:53,601 - TPE using 7/7 trials with best loss 0.500121\n",
            " 80%|████████  | 8/10 [00:10<00:03,  1.51s/trial, best loss: 0.5001208797176608]"
          ]
        },
        {
          "output_type": "stream",
          "name": "stderr",
          "text": [
            "INFO:hyperopt.tpe:build_posterior_wrapper took 0.005786 seconds\n"
          ]
        },
        {
          "output_type": "stream",
          "name": "stdout",
          "text": [
            "2022-11-24 17:43:56,214 - build_posterior_wrapper took 0.005786 seconds\n"
          ]
        },
        {
          "output_type": "stream",
          "name": "stderr",
          "text": [
            "INFO:hyperopt.tpe:TPE using 8/8 trials with best loss 0.500121\n"
          ]
        },
        {
          "output_type": "stream",
          "name": "stdout",
          "text": [
            "2022-11-24 17:43:56,224 - TPE using 8/8 trials with best loss 0.500121\n",
            " 90%|█████████ | 9/10 [00:10<00:01,  1.14s/trial, best loss: 0.34204271411770626]"
          ]
        },
        {
          "output_type": "stream",
          "name": "stderr",
          "text": [
            "INFO:hyperopt.tpe:build_posterior_wrapper took 0.005561 seconds\n"
          ]
        },
        {
          "output_type": "stream",
          "name": "stdout",
          "text": [
            "2022-11-24 17:43:56,531 - build_posterior_wrapper took 0.005561 seconds\n"
          ]
        },
        {
          "output_type": "stream",
          "name": "stderr",
          "text": [
            "INFO:hyperopt.tpe:TPE using 9/9 trials with best loss 0.342043\n"
          ]
        },
        {
          "output_type": "stream",
          "name": "stdout",
          "text": [
            "2022-11-24 17:43:56,543 - TPE using 9/9 trials with best loss 0.342043\n",
            "100%|██████████| 10/10 [00:11<00:00,  1.12s/trial, best loss: 0.34204271411770626]\n"
          ]
        },
        {
          "output_type": "stream",
          "name": "stderr",
          "text": [
            "INFO:root:PipelineTuner - Hyperparameters optimization finished\n"
          ]
        },
        {
          "output_type": "stream",
          "name": "stdout",
          "text": [
            "2022-11-24 17:43:57,480 - PipelineTuner - Hyperparameters optimization finished\n"
          ]
        },
        {
          "output_type": "stream",
          "name": "stderr",
          "text": [
            "INFO:root:PipelineTuner - Return tuned pipeline due to the fact that obtained metric 0.342 equal or better than initial (+ 5% deviation) 0.354\n"
          ]
        },
        {
          "output_type": "stream",
          "name": "stdout",
          "text": [
            "2022-11-24 17:43:57,492 - PipelineTuner - Return tuned pipeline due to the fact that obtained metric 0.342 equal or better than initial (+ 5% deviation) 0.354\n"
          ]
        }
      ]
    },
    {
      "cell_type": "code",
      "source": [
        "conf_int_plotting(up_predictions = x['up_predictions'],\n",
        "                  low_predictions = x['low_predictions'],\n",
        "                  regim='quantile',\n",
        "                  plot_history = True,\n",
        "                  plot_up_int = True,\n",
        "                  plot_low_int = True,\n",
        "                  plot_trend = False,\n",
        "                  plot_forecast = True,\n",
        "                  plot_upper_train = True,\n",
        "                  plot_lower_train = True,\n",
        "                  plot_ts_test = True)"
      ],
      "metadata": {
        "colab": {
          "base_uri": "https://localhost:8080/",
          "height": 839
        },
        "id": "mU3vaDLetRdZ",
        "outputId": "473d0b84-ba52-404f-b70a-20b574f3350d"
      },
      "execution_count": 18,
      "outputs": [
        {
          "output_type": "display_data",
          "data": {
            "text/plain": [
              "<Figure size 1080x504 with 1 Axes>"
            ],
            "image/png": "[encoded data removed]"
          },
          "metadata": {
            "needs_background": "light"
          }
        },
        {
          "output_type": "display_data",
          "data": {
            "text/plain": [
              "<Figure size 1080x504 with 1 Axes>"
            ],
            "image/png": "[encoded data removed]"
          },
          "metadata": {
            "needs_background": "light"
          }
        }
      ]
    }
  ]
}